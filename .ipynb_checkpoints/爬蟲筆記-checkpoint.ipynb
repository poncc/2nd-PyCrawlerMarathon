{
 "cells": [
  {
   "cell_type": "markdown",
   "metadata": {},
   "source": [
    "\n",
    "# 爬蟲筆記\n",
    "##poncc\n",
    "\n",
    "repr:將函數轉換成編譯器讀取的形式\n",
    "\n",
    "str[1:2]:從1個字元開始,第二個字元結束\n",
    "\n",
    "str:[1:-1:2]:從第一個字元開始,倒數第二個字元結束,且每2個字元抓取一次\n",
    "\n",
    "header抓取：day018\n",
    "\n",
    "find_all,find,dict用法:day019~day022\n",
    "\n",
    "yeild:本身是一種iterator，可以使用next(x)來指向下一個參，參考test_yield\n",
    "\n"
   ]
  },
  {
   "cell_type": "code",
   "execution_count": null,
   "metadata": {},
   "outputs": [],
   "source": [
    "jupyter自動完成函數\n",
    "1.關閉jupyter\n",
    "2.pip install jupyter_contrib_nbextensions\n",
    "3.jupyter contrib nbextension install --user --skip-running-check\n",
    "3.開啟jupyter\n",
    "4.Nbextensions -> 勾選Hinterland\n",
    "5.Parameters的參數，可以空置延遲多久後跳出函數\n",
    "\n"
   ]
  }
 ],
 "metadata": {
  "kernelspec": {
   "display_name": "Python 3",
   "language": "python",
   "name": "python3"
  },
  "language_info": {
   "codemirror_mode": {
    "name": "ipython",
    "version": 3
   },
   "file_extension": ".py",
   "mimetype": "text/x-python",
   "name": "python",
   "nbconvert_exporter": "python",
   "pygments_lexer": "ipython3",
   "version": "3.7.6"
  }
 },
 "nbformat": 4,
 "nbformat_minor": 2
}
