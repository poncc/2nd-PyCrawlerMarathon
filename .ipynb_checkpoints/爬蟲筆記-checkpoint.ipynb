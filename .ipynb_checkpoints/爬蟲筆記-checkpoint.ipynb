{
 "cells": [
  {
   "cell_type": "markdown",
   "metadata": {},
   "source": [
    "\n",
    "# 爬蟲筆記\n",
    "##poncc\n",
    "\n",
    "repr:將函數轉換成編譯器讀取的形式\n",
    "\n",
    "str[1:2]:從1個字元開始,第二個字元結束\n",
    "\n",
    "str:[1:-1:2]:從第一個字元開始,倒數第二個字元結束,且每2個字元抓取一次\n",
    "\n",
    "header抓取：day018\n",
    "\n",
    "find_all,find,dict用法:day019~day022\n",
    "\n",
    "yeild:本身是一種iterator，可以使用next(x)來指向下一個參，參考test_yield\n",
    "\n"
   ]
  },
  {
   "cell_type": "code",
   "execution_count": null,
   "metadata": {},
   "outputs": [],
   "source": []
  }
 ],
 "metadata": {
  "kernelspec": {
   "display_name": "Python 3",
   "language": "python",
   "name": "python3"
  },
  "language_info": {
   "codemirror_mode": {
    "name": "ipython",
    "version": 3
   },
   "file_extension": ".py",
   "mimetype": "text/x-python",
   "name": "python",
   "nbconvert_exporter": "python",
   "pygments_lexer": "ipython3",
   "version": "3.7.6"
  }
 },
 "nbformat": 4,
 "nbformat_minor": 2
}
