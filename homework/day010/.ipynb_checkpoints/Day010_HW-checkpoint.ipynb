{
 "cells": [
  {
   "cell_type": "markdown",
   "metadata": {},
   "source": [
    "# 其他工具：Grab、PyQuery\n",
    "\n",
    "\n",
    "* 利用 Grab 套件的存取 HTML 資源\n",
    "* 利用 PyQuery 套件的解析 HTML 格式\n"
   ]
  },
  {
   "cell_type": "markdown",
   "metadata": {},
   "source": [
    "## 作業目標\n",
    "\n",
    "將之前用 requests + beatifulsoup 實作的方式，改寫成 grab + pyquery，並且比較有哪些地方不同。\n",
    "\n",
    "\n",
    "\n"
   ]
  },
  {
   "cell_type": "markdown",
   "metadata": {},
   "source": [
    "## requests + BeautifulSoup\n"
   ]
  },
  {
   "cell_type": "code",
   "execution_count": 3,
   "metadata": {},
   "outputs": [
    {
     "name": "stdout",
     "output_type": "stream",
     "text": [
      "type=<class 'bs4.BeautifulSoup'>\n",
      "soup=<!DOCTYPE html>\n",
      "<html itemscope=\"\" itemtype=\"http://schema.org/WebPage\" lang=\"zh-TW\"><head><meta content=\"text/html; charset=utf-8\" http-equiv=\"Content-Type\"/><meta content=\"/images/branding/googleg/1x/googleg_standard_color_128dp.png\" itemprop=\"image\"/><title>Google</title><script nonce=\"itFeuw0TQi5Uel1ueFowDA==\">(function(){window.google={kEI:'mqFzXp-4Gqy9hwPwzLOgCQ',kEXPI:'0,1353746,5663,731,223,5104,207,3204,10,290,761,175,364,1435,4,60,156,586,75,383,246,5,1014,340,373,180,216,23,21,29,74,5,248,196,1126401,1197755,269,125,41,329077,1294,12383,4855,32691,15248,867,6057,11387,11240,364,8824,8384,4858,1362,4323,4967,3028,4740,2136,982,7915,1808,4998,7931,5297,2054,622,298,873,1217,5760,3649,11302,2884,20,318,235,4063,1,218,2777,520,399,2277,8,2796,1593,423,856,390,1822,202,39,289,149,1103,840,124,393,1139,1,278,48,8,49,819,3438,312,1137,2,2063,606,1839,184,2297,1947,747,429,1053,93,328,1284,16,2927,2246,474,1339,748,1039,3227,773,1217,855,7,1320,3453,35,2825,6513,2662,642,2449,2459,1226,1462,281,3653,1275,108,3407,908,2,1473,2082,1883,249,265,1387,1509,2060,463,226,96,899,830,840,185,2,293,1767,188,3,346,201,29,156,814,183,388,173,121,372,96,729,690,125,1906,356,84,267,149,188,1984,853,476,1460,508,74,47,399,28,201,628,2,1119,274,120,88,173,817,794,414,51,141,921,423,1043,350,398,4,1337,191,142,147,32,112,69,142,58,239,70,4,193,33,1063,154,21,1,641,138,3,15,475,59,308,566,406,34,549,591,398,287,5835825,1805894,4194968,2801054,549,333,444,1,2,80,1,900,896,6,3,1,2,2551,1,748,141,59,736,563,1,4265,1,1,1,1,137,1,1193,641,5,76,20,3,1,328,18,20,1,59,1,13,1,1,20743195,3220021,24',kBL:'ieR-'};google.sn='webhp';google.kHL='zh-TW';})();(function(){google.lc=[];google.li=0;google.getEI=function(a){for(var c;a&&(!a.getAttribute||!(c=a.getAttribute(\"eid\")));)a=a.parentNode;return c||google.kEI};google.getLEI=function(a){for(var c=null;a&&(!a.getAttribute||!(c=a.getAttribute(\"leid\")));)a=a.parentNode;return c};google.ml=function(){return null};google.time=function(){return Date.now()};google.log=function(a,c,b,d,g){if(b=google.logUrl(a,c,b,d,g)){a=new Image;var e=google.lc,f=google.li;e[f]=a;a.onerror=a.onload=a.onabort=function(){delete e[f]};google.vel&&google.vel.lu&&google.vel.lu(b);a.src=b;google.li=f+1}};google.logUrl=function(a,c,b,d,g){var e=\"\",f=google.ls||\"\";b||-1!=c.search(\"&ei=\")||(e=\"&ei=\"+google.getEI(d),-1==c.search(\"&lei=\")&&(d=google.getLEI(d))&&(e+=\"&lei=\"+d));d=\"\";!b&&google.cshid&&-1==c.search(\"&cshid=\")&&\"slh\"!=a&&(d=\"&cshid=\"+google.cshid);b=b||\"/\"+(g||\"gen_204\")+\"?atyp=i&ct=\"+a+\"&cad=\"+c+e+f+\"&zx=\"+google.time()+d;/^http:/i.test(b)&&\"https:\"==window.location.protocol&&(google.ml(Error(\"a\"),!1,{src:b,glmm:1}),b=\"\");return b};}).call(this);(function(){google.y={};google.x=function(a,b){if(a)var c=a.id;else{do c=Math.random();while(google.y[c])}google.y[c]=[a,b];return!1};google.lm=[];google.plm=function(a){google.lm.push.apply(google.lm,a)};google.lq=[];google.load=function(a,b,c){google.lq.push([[a],b,c])};google.loadAll=function(a,b){google.lq.push([a,b])};}).call(this);google.f={};(function(){\n",
      "document.documentElement.addEventListener(\"submit\",function(b){var a;if(a=b.target){var c=a.getAttribute(\"data-submitfalse\");a=\"1\"==c||\"q\"==c&&!a.elements.q.value?!0:!1}else a=!1;a&&(b.preventDefault(),b.stopPropagation())},!0);document.documentElement.addEventListener(\"click\",function(b){var a;a:{for(a=b.target;a&&a!=document.documentElement;a=a.parentElement)if(\"A\"==a.tagName){a=\"1\"==a.getAttribute(\"data-nohref\");break a}a=!1}a&&b.preventDefault()},!0);}).call(this);\n",
      "var a=window.location,b=a.href.indexOf(\"#\");if(0<=b){var c=a.href.substring(b+1);/(^|&)q=/.test(c)&&-1==c.indexOf(\"#\")&&a.replace(\"/search?\"+c.replace(/(^|&)fp=[^&]*/g,\"\")+\"&cad=h\")};</script><style>#gbar,#guser{font-size:13px;padding-top:1px !important;}#gbar{height:22px}#guser{padding-bottom:7px !important;text-align:right}.gbh,.gbd{border-top:1px solid #c9d7f1;font-size:1px}.gbh{height:0;position:absolute;top:24px;width:100%}@media all{.gb1{height:22px;margin-right:.5em;vertical-align:top}#gbar{float:left}}a.gb1,a.gb4{text-decoration:underline !important}a.gb1,a.gb4{color:#00c !important}.gbi .gb4{color:#dd8e27 !important}.gbf .gb4{color:#900 !important}\n",
      "</style><style>body,td,a,p,.h{font-family:arial,sans-serif}body{margin:0;overflow-y:scroll}#gog{padding:3px 8px 0}td{line-height:.8em}.gac_m td{line-height:17px}form{margin-bottom:20px}.h{color:#36c}.q{color:#00c}.ts td{padding:0}.ts{border-collapse:collapse}em{color:#c03;font-style:normal;font-weight:normal}a em{text-decoration:underline}.lst{height:25px;width:496px}.gsfi,.lst{font:18px arial,sans-serif}.gsfs{font:17px arial,sans-serif}.ds{display:inline-box;display:inline-block;margin:3px 0 4px;margin-left:4px}input{font-family:inherit}body{background:#fff;color:#000}a{color:#11c;text-decoration:none}a:hover,a:active{text-decoration:underline}.fl a{color:#36c}a:visited{color:#551a8b}.sblc{padding-top:5px}.sblc a{display:block;margin:2px 0;margin-left:13px;font-size:11px}.lsbb{background:#eee;border:solid 1px;border-color:#ccc #999 #999 #ccc;height:30px}.lsbb{display:block}.ftl,#fll a{display:inline-block;margin:0 12px}.lsb{background:url(/images/nav_logo229.png) 0 -261px repeat-x;border:none;color:#000;cursor:pointer;height:30px;margin:0;outline:0;font:15px arial,sans-serif;vertical-align:top}.lsb:active{background:#ccc}.lst:focus{outline:none}</style><script nonce=\"itFeuw0TQi5Uel1ueFowDA==\"></script></head><body bgcolor=\"#fff\"><script nonce=\"itFeuw0TQi5Uel1ueFowDA==\">(function(){var src='/images/nav_logo229.png';var iesg=false;document.body.onload = function(){window.n && window.n();if (document.images){new Image().src=src;}\n",
      "if (!iesg){document.f&&document.f.q.focus();document.gbqf&&document.gbqf.q.focus();}\n",
      "}\n",
      "})();</script><div id=\"mngb\"> <div id=\"gbar\"><nobr><b class=\"gb1\">搜尋</b> <a class=\"gb1\" href=\"https://www.google.com.tw/imghp?hl=zh-TW&amp;tab=wi\">圖片</a> <a class=\"gb1\" href=\"https://maps.google.com.tw/maps?hl=zh-TW&amp;tab=wl\">地圖</a> <a class=\"gb1\" href=\"https://play.google.com/?hl=zh-TW&amp;tab=w8\">Play</a> <a class=\"gb1\" href=\"https://www.youtube.com/?gl=TW&amp;tab=w1\">YouTube</a> <a class=\"gb1\" href=\"https://news.google.com.tw/nwshp?hl=zh-TW&amp;tab=wn\">新聞</a> <a class=\"gb1\" href=\"https://mail.google.com/mail/?tab=wm\">Gmail</a> <a class=\"gb1\" href=\"https://drive.google.com/?tab=wo\">雲端硬碟</a> <a class=\"gb1\" href=\"https://www.google.com.tw/intl/zh-TW/about/products?tab=wh\" style=\"text-decoration:none\"><u>更多</u> »</a></nobr></div><div id=\"guser\" width=\"100%\"><nobr><span class=\"gbi\" id=\"gbn\"></span><span class=\"gbf\" id=\"gbf\"></span><span id=\"gbe\"></span><a class=\"gb4\" href=\"http://www.google.com.tw/history/optout?hl=zh-TW\">網頁記錄</a> | <a class=\"gb4\" href=\"/preferences?hl=zh-TW\">設定</a> | <a class=\"gb4\" href=\"https://accounts.google.com/ServiceLogin?hl=zh-TW&amp;passive=true&amp;continue=https://www.google.com/\" id=\"gb_70\" target=\"_top\">登入</a></nobr></div><div class=\"gbh\" style=\"left:0\"></div><div class=\"gbh\" style=\"right:0\"></div> </div><center><br clear=\"all\" id=\"lgpd\"/><div id=\"lga\"><img alt=\"Google\" height=\"92\" id=\"hplogo\" src=\"/images/branding/googlelogo/1x/googlelogo_white_background_color_272x92dp.png\" style=\"padding:28px 0 14px\" width=\"272\"/><br/><br/></div><form action=\"/search\" name=\"f\"><table cellpadding=\"0\" cellspacing=\"0\"><tbody><tr valign=\"top\"><td width=\"25%\"> </td><td align=\"center\" nowrap=\"\"><input name=\"ie\" type=\"hidden\" value=\"ISO-8859-1\"/><input name=\"hl\" type=\"hidden\" value=\"zh-TW\"/><input name=\"source\" type=\"hidden\" value=\"hp\"/><input name=\"biw\" type=\"hidden\"/><input name=\"bih\" type=\"hidden\"/><div class=\"ds\" style=\"height:32px;margin:4px 0\"><input autocomplete=\"off\" class=\"lst\" maxlength=\"2048\" name=\"q\" size=\"57\" style=\"margin:0;padding:5px 8px 0 6px;vertical-align:top;color:#000\" title=\"Google 搜尋\" value=\"\"/></div><br style=\"line-height:0\"/><span class=\"ds\"><span class=\"lsbb\"><input class=\"lsb\" name=\"btnG\" type=\"submit\" value=\"Google 搜尋\"/></span></span><span class=\"ds\"><span class=\"lsbb\"><input class=\"lsb\" id=\"tsuid1\" name=\"btnI\" type=\"submit\" value=\"好手氣\"/><script nonce=\"itFeuw0TQi5Uel1ueFowDA==\">(function(){var id='tsuid1';document.getElementById(id).onclick = function(){if (this.form.q.value){this.checked = 1;if (this.form.iflsig)this.form.iflsig.disabled = false;}\n",
      "else top.location='/doodles/';};})();</script><input name=\"iflsig\" type=\"hidden\" value=\"AINFCbYAAAAAXnOvqlECbWiAIo_03xNSJfwXkzNNS-qb\"/></span></span></td><td align=\"left\" class=\"fl sblc\" nowrap=\"\" width=\"25%\"><a href=\"/advanced_search?hl=zh-TW&amp;authuser=0\">進階搜尋</a></td></tr></tbody></table><input id=\"gbv\" name=\"gbv\" type=\"hidden\" value=\"1\"/><script nonce=\"itFeuw0TQi5Uel1ueFowDA==\">(function(){var a,b=\"1\";if(document&&document.getElementById)if(\"undefined\"!=typeof XMLHttpRequest)b=\"2\";else if(\"undefined\"!=typeof ActiveXObject){var c,d,e=[\"MSXML2.XMLHTTP.6.0\",\"MSXML2.XMLHTTP.3.0\",\"MSXML2.XMLHTTP\",\"Microsoft.XMLHTTP\"];for(c=0;d=e[c++];)try{new ActiveXObject(d),b=\"2\"}catch(h){}}a=b;if(\"2\"==a&&-1==location.search.indexOf(\"&gbv=2\")){var f=google.gbvu,g=document.getElementById(\"gbv\");g&&(g.value=a);f&&window.setTimeout(function(){location.href=f},0)};}).call(this);</script></form><div id=\"gac_scont\"></div><div style=\"font-size:83%;min-height:3.5em\"><br/></div><span id=\"footer\"><div style=\"font-size:10pt\"><div id=\"fll\" style=\"margin:19px auto;text-align:center\"><a href=\"/intl/zh-TW/ads/\">廣告服務</a><a href=\"http://www.google.com.tw/intl/zh-TW/services/\">商業解決方案</a><a href=\"/intl/zh-TW/about.html\">Google 完全手冊</a><a href=\"https://www.google.com/setprefdomain?prefdom=TW&amp;prev=https://www.google.com.tw/&amp;sig=K_sqEHNnuK6rKBmQPEnMCHj6glLpk%3D\">Google.com.tw</a></div></div><p style=\"font-size:8pt;color:#767676\">© 2020 - <a href=\"/intl/zh-TW/policies/privacy/\">隱私權</a> - <a href=\"/intl/zh-TW/policies/terms/\">服務條款</a></p></span></center><script nonce=\"itFeuw0TQi5Uel1ueFowDA==\">(function(){window.google.cdo={height:0,width:0};(function(){var a=window.innerWidth,b=window.innerHeight;if(!a||!b){var c=window.document,d=\"CSS1Compat\"==c.compatMode?c.documentElement:c.body;a=d.clientWidth;b=d.clientHeight}a&&b&&(a!=google.cdo.width||b!=google.cdo.height)&&google.log(\"\",\"\",\"/client_204?&atyp=i&biw=\"+a+\"&bih=\"+b+\"&ei=\"+google.kEI);}).call(this);})();(function(){var u='/xjs/_/js/k\\x3dxjs.hp.en.SbG4_Iqrftw.O/m\\x3dsb_he,d/am\\x3dgAEBNgI/d\\x3d1/rs\\x3dACT90oFV3FPAshuyScTR3vapVuEDENw4_w';\n",
      "setTimeout(function(){var b=document;var a=\"SCRIPT\";\"application/xhtml+xml\"===b.contentType&&(a=a.toLowerCase());a=b.createElement(a);a.src=u;google.timers&&google.timers.load&&google.tick&&google.tick(\"load\",\"xjsls\");document.body.appendChild(a)},0);})();(function(){window.google.xjsu='/xjs/_/js/k\\x3dxjs.hp.en.SbG4_Iqrftw.O/m\\x3dsb_he,d/am\\x3dgAEBNgI/d\\x3d1/rs\\x3dACT90oFV3FPAshuyScTR3vapVuEDENw4_w';})();function _DumpException(e){throw e;}\n",
      "function _F_installCss(c){}\n",
      "(function(){google.spjs=false;google.snet=true;google.em=[];google.emw=false;google.pdt=0;})();(function(){var pmc='{\\x22d\\x22:{},\\x22sb_he\\x22:{\\x22agen\\x22:true,\\x22cgen\\x22:true,\\x22client\\x22:\\x22heirloom-hp\\x22,\\x22dh\\x22:true,\\x22dhqt\\x22:true,\\x22ds\\x22:\\x22\\x22,\\x22ffql\\x22:\\x22zh-TW\\x22,\\x22fl\\x22:true,\\x22host\\x22:\\x22google.com\\x22,\\x22isbh\\x22:28,\\x22jsonp\\x22:true,\\x22msgs\\x22:{\\x22cibl\\x22:\\x22&#28165;&#38500;&#25628;&#23563;\\x22,\\x22dym\\x22:\\x22&#24744;&#26159;&#19981;&#26159;&#35201;&#26597;&#65306;\\x22,\\x22lcky\\x22:\\x22&#22909;&#25163;&#27683;\\x22,\\x22lml\\x22:\\x22&#30637;&#35299;&#35443;&#24773;\\x22,\\x22oskt\\x22:\\x22&#36664;&#20837;&#24037;&#20855;\\x22,\\x22psrc\\x22:\\x22&#24050;&#24478;&#24744;&#30340;&#12300;\\\\u003Ca href\\x3d\\\\\\x22/history\\\\\\x22\\\\u003E&#32178;&#38913;&#35352;&#37636;\\\\u003C/a\\\\u003E&#12301;&#20013;&#31227;&#38500;&#36889;&#31558;&#25628;&#23563;&#35352;&#37636;\\x22,\\x22psrl\\x22:\\x22&#31227;&#38500;\\x22,\\x22sbit\\x22:\\x22&#20197;&#22294;&#25628;&#23563;\\x22,\\x22srch\\x22:\\x22Google &#25628;&#23563;\\x22},\\x22ovr\\x22:{},\\x22pq\\x22:\\x22\\x22,\\x22refpd\\x22:true,\\x22refspre\\x22:true,\\x22rfs\\x22:[],\\x22sbpl\\x22:16,\\x22sbpr\\x22:16,\\x22scd\\x22:10,\\x22stok\\x22:\\x22MV1qmVliiugLCqd9T4AHU7MEvRM\\x22,\\x22uhde\\x22:false}}';google.pmc=JSON.parse(pmc);})();</script>        </body></html>\n"
     ]
    }
   ],
   "source": [
    "import requests\n",
    "from bs4 import BeautifulSoup\n",
    "\n",
    "# 引入函式庫\n",
    "r = requests.get('https://google.com')\n",
    "# 想要爬資料的目標網址\n",
    "response = r.text\n",
    "# 模擬發送請求的動作\n",
    "\n",
    "soup = BeautifulSoup(response, \"html5lib\")\n",
    "print('type={}'.format(type(soup)))\n",
    "print('soup={}'.format(soup))"
   ]
  },
  {
   "cell_type": "markdown",
   "metadata": {},
   "source": [
    "## Grab + PyQuery"
   ]
  },
  {
   "cell_type": "code",
   "execution_count": 6,
   "metadata": {
    "scrolled": false
   },
   "outputs": [
    {
     "ename": "ModuleNotFoundError",
     "evalue": "No module named 'grab'",
     "output_type": "error",
     "traceback": [
      "\u001b[1;31m---------------------------------------------------------------------------\u001b[0m",
      "\u001b[1;31mModuleNotFoundError\u001b[0m                       Traceback (most recent call last)",
      "\u001b[1;32m<ipython-input-6-f71339dae9b7>\u001b[0m in \u001b[0;36m<module>\u001b[1;34m\u001b[0m\n\u001b[1;32m----> 1\u001b[1;33m \u001b[1;32mfrom\u001b[0m \u001b[0mgrab\u001b[0m \u001b[1;32mimport\u001b[0m \u001b[0mGrab\u001b[0m\u001b[1;33m\u001b[0m\u001b[1;33m\u001b[0m\u001b[0m\n\u001b[0m\u001b[0;32m      2\u001b[0m \u001b[1;32mfrom\u001b[0m \u001b[0mpyquery\u001b[0m \u001b[1;32mimport\u001b[0m \u001b[0mPyQuery\u001b[0m \u001b[1;32mas\u001b[0m \u001b[0mpq\u001b[0m\u001b[1;33m\u001b[0m\u001b[1;33m\u001b[0m\u001b[0m\n",
      "\u001b[1;31mModuleNotFoundError\u001b[0m: No module named 'grab'"
     ]
    }
   ],
   "source": [
    "from grab import Grab\n",
    "from pyquery import PyQuery as pq\n",
    "\n",
    "\n",
    "g = Grab()\n",
    "resp = g.go('https://google.com')\n",
    "resp.body\n",
    "\n",
    "doc = pq(resp.body)\n",
    "title = doc('title')\n",
    "print(type(title), title.text())\n",
    "\n"
   ]
  },
  {
   "cell_type": "code",
   "execution_count": null,
   "metadata": {},
   "outputs": [],
   "source": []
  }
 ],
 "metadata": {
  "kernelspec": {
   "display_name": "Python 3",
   "language": "python",
   "name": "python3"
  },
  "language_info": {
   "codemirror_mode": {
    "name": "ipython",
    "version": 3
   },
   "file_extension": ".py",
   "mimetype": "text/x-python",
   "name": "python",
   "nbconvert_exporter": "python",
   "pygments_lexer": "ipython3",
   "version": "3.7.3"
  }
 },
 "nbformat": 4,
 "nbformat_minor": 2
}
