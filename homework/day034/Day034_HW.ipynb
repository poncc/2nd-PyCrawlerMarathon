{
 "cells": [
  {
   "cell_type": "markdown",
   "metadata": {
    "colab_type": "text",
    "id": "I8CoX4R7VoCd"
   },
   "source": [
    "# 反爬：代理伺服器/IP\n",
    "\n",
    "* 了解「IP 黑/白名單」的反爬蟲機制\n",
    "* 「IP 黑/白名單」反爬蟲的因應策略"
   ]
  },
  {
   "cell_type": "markdown",
   "metadata": {
    "colab_type": "text",
    "id": "n-3DZ_r5VoCe"
   },
   "source": [
    "## 作業目標\n",
    "\n",
    "* 目前程式中的 proxy_ips 是手動輸入的，請根據 https://free-proxy-list.net/ 寫一個可自動化抓取可用 Proxy 的 proxy_ips。\n",
    "\n",
    "\n"
   ]
  },
  {
   "cell_type": "code",
   "execution_count": 88,
   "metadata": {
    "colab": {},
    "colab_type": "code",
    "id": "iny-9heBVoCf"
   },
   "outputs": [],
   "source": [
    "import time\n",
    "import random\n",
    "from bs4 import BeautifulSoup\n",
    "from selenium import webdriver\n",
    "from selenium.webdriver.common.keys import Keys\n",
    "from selenium.webdriver.support.ui import Select\n",
    "from selenium.webdriver.common.by import By\n",
    "from selenium.common.exceptions import NoSuchElementException\n",
    "\n",
    "def checkXpath(path):\n",
    "    try:\n",
    "        element=browser.find_element_by_xpath(path)\n",
    "        return True\n",
    "    except NoSuchElementException as e:\n",
    "        return False\n",
    "\n"
   ]
  },
  {
   "cell_type": "code",
   "execution_count": 89,
   "metadata": {},
   "outputs": [],
   "source": [
    "browser = webdriver.Chrome('../chromedriver')\n",
    "\n",
    "url = 'https://free-proxy-list.net/'\n",
    "\n",
    "browser.get(url)\n",
    "time.sleep(3)\n",
    "\n",
    "#selectType = Select(browser.find_element_by_xpath(\"//tfoot/tr/th[@class='ui-state-default'][3]/select\"))\n",
    "#selectType.select_by_value('elite proxy')\n",
    "#selectType.select_by_index(0)\n",
    "\n",
    "#selectCount = Select(browser.find_element_by_tag_name(\"select\"))\n",
    "#selectCount.select_by_index(2)\n"
   ]
  },
  {
   "cell_type": "code",
   "execution_count": 90,
   "metadata": {},
   "outputs": [
    {
     "name": "stdout",
     "output_type": "stream",
     "text": [
      "next\n",
      "next\n",
      "next\n",
      "next\n",
      "next\n",
      "next\n",
      "next\n",
      "next\n",
      "next\n",
      "next\n",
      "next\n",
      "next\n",
      "next\n",
      "next\n",
      "disable\n",
      "300\n"
     ]
    }
   ],
   "source": [
    "\n",
    "proxy_ips = []\n",
    "soup = BeautifulSoup(browser.page_source)\n",
    "tbody = soup.find('tbody')\n",
    "ipTemp=''\n",
    "while True:\n",
    "    for tr in tbody.find_all('tr'):\n",
    "        for i, td in enumerate(tr.find_all('td')):\n",
    "            #print(i,td)\n",
    "            if i==0:\n",
    "                ipTemp=td.text+':'\n",
    "            if i==1:\n",
    "                ipTemp+=td.text;\n",
    "                proxy_ips.append(ipTemp)\n",
    "    btn_enable = \"//div[@class='row']/div[@class='col-sm-7']/div[@class='dataTables_paginate fg-buttonset ui-buttonset fg-buttonset-multi ui-buttonset-multi paging_full_numbers']/ul[@class='pagination']/li[@class='fg-button ui-button ui-state-default next']/a\"\n",
    "    btn_disable = \"//div[@class='row']/div[@class='col-sm-7']/div[@class='dataTables_paginate fg-buttonset ui-buttonset fg-buttonset-multi ui-buttonset-multi paging_full_numbers']/ul[@class='pagination']/li[@class='fg-button ui-button ui-state-default next disabled']/a\"\n",
    "    if checkXpath(btn_enable) :\n",
    "        element=browser.find_element_by_xpath(btn_enable)\n",
    "        element.click()\n",
    "        print('next')\n",
    "    else :\n",
    "        if(checkXpath(btn_disable)) : \n",
    "            print('disable')\n",
    "            break\n",
    "        else:\n",
    "            print('exception')\n",
    "            break;\n",
    "print(len(proxy_ips))\n"
   ]
  },
  {
   "cell_type": "code",
   "execution_count": 95,
   "metadata": {
    "colab": {},
    "colab_type": "code",
    "id": "75dIsHjiVoCi"
   },
   "outputs": [
    {
     "name": "stdout",
     "output_type": "stream",
     "text": [
      "Use 151.232.72.12:80\n",
      "Fail\n",
      "Use 125.163.27.253:53281\n",
      "Fail\n",
      "Use 186.92.11.190:8080\n",
      "Fail\n",
      "Use 186.42.97.58:56691\n",
      "Fail\n",
      "Use 186.159.3.41:30334\n",
      "Fail\n",
      "Use 154.127.32.89:60020\n",
      "Fail\n",
      "Use 181.114.231.2:8080\n",
      "Fail\n",
      "Use 200.32.51.179:8080\n",
      "Fail\n",
      "Use 51.79.85.50:8080\n",
      "Fail\n",
      "Use 41.217.219.53:31398\n",
      "Fail\n"
     ]
    }
   ],
   "source": [
    "\n",
    "import random\n",
    "for i in range(10):\n",
    "    ip = random.choice(proxy_ips)\n",
    "    print('Use', ip)\n",
    "    try:\n",
    "        resp = requests.get('http://ip.filefab.com/index.php',\n",
    "                        proxies={'http': ip, 'https': ip}, timeout=10)\n",
    "        soup = BeautifulSoup(resp.text, 'html5lib')\n",
    "        print('sucess',soup.find('h1', id='ipd').text.strip())\n",
    "    except:\n",
    "        print('Fail')"
   ]
  },
  {
   "cell_type": "code",
   "execution_count": 92,
   "metadata": {},
   "outputs": [],
   "source": [
    "browser.quit();"
   ]
  }
 ],
 "metadata": {
  "colab": {
   "name": "homework.ipynb",
   "provenance": []
  },
  "kernelspec": {
   "display_name": "Python 3",
   "language": "python",
   "name": "python3"
  },
  "language_info": {
   "codemirror_mode": {
    "name": "ipython",
    "version": 3
   },
   "file_extension": ".py",
   "mimetype": "text/x-python",
   "name": "python",
   "nbconvert_exporter": "python",
   "pygments_lexer": "ipython3",
   "version": "3.7.6"
  }
 },
 "nbformat": 4,
 "nbformat_minor": 1
}
