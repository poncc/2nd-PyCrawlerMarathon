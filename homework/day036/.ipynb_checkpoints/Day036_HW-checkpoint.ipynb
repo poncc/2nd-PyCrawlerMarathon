{
 "cells": [
  {
   "cell_type": "markdown",
   "metadata": {},
   "source": [
    "# 加速：非同步爬蟲\n",
    "\n",
    "* 了解非同步爬蟲加速原理與實作"
   ]
  },
  {
   "cell_type": "markdown",
   "metadata": {},
   "source": [
    "## 作業目標\n",
    "\n",
    "* 比較一下非同步爬蟲跟多線程爬蟲的差異是什麼？各自的優缺點為何？"
   ]
  },
  {
   "cell_type": "markdown",
   "metadata": {
    "scrolled": true
   },
   "source": [
    "非同步爬蟲：<br>\n",
    "爬取資料時，不需要因為某些步驟尚未執行，停下來等他執行完才繼續動作<br>\n",
    "優點：在爬取數據龐大的頁面時，可以節省更多時間<br>\n",
    "缺點：需要掌握非同步程式設計的方式，學習時間較長<br>\n",
    "\n",
    "多線程爬蟲：<br>\n",
    "爬取資料時，每一條線程都是獨立作業，會等待每個步驟執行完<br>\n",
    "優點：提高原本單進程的效率，但效率取決於自身電腦效能<br>\n",
    "缺點：爬取數據龐大的頁面時，消耗的記憶體跟時間較大<br>\n"
   ]
  },
  {
   "cell_type": "markdown",
   "metadata": {},
   "source": [
    "參考：https://www.itread01.com/content/1541933072.html"
   ]
  }
 ],
 "metadata": {
  "colab": {
   "name": "homework.ipynb",
   "provenance": []
  },
  "kernelspec": {
   "display_name": "Python 3",
   "language": "python",
   "name": "python3"
  },
  "language_info": {
   "codemirror_mode": {
    "name": "ipython",
    "version": 3
   },
   "file_extension": ".py",
   "mimetype": "text/x-python",
   "name": "python",
   "nbconvert_exporter": "python",
   "pygments_lexer": "ipython3",
   "version": "3.7.6"
  }
 },
 "nbformat": 4,
 "nbformat_minor": 1
}
