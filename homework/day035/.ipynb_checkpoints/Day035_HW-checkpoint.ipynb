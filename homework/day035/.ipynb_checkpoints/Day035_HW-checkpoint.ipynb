{
 "cells": [
  {
   "cell_type": "markdown",
   "metadata": {},
   "source": [
    "# 加速：多線程爬蟲\n",
    "\n",
    "\n",
    "\n",
    "* 了解知乎 API 使用方式與回傳內容\n",
    "* 撰寫程式存取 API 且添加標頭"
   ]
  },
  {
   "cell_type": "markdown",
   "metadata": {},
   "source": [
    "## 作業目標\n",
    "\n",
    "* 找一個之前實作過的爬蟲改用多線程改寫，比較前後時間的差異。\n",
    "\n",
    "\n",
    "\n"
   ]
  },
  {
   "cell_type": "code",
   "execution_count": 25,
   "metadata": {},
   "outputs": [],
   "source": [
    "import time\n",
    "import random\n",
    "import _thread\n",
    "from bs4 import BeautifulSoup\n",
    "from selenium import webdriver\n",
    "from selenium.webdriver.common.keys import Keys\n",
    "from selenium.webdriver.support.ui import Select\n",
    "from selenium.webdriver.common.by import By\n",
    "from selenium.common.exceptions import NoSuchElementException\n",
    "proxy_ips = []\n",
    "url = 'https://free-proxy-list.net/'"
   ]
  },
  {
   "cell_type": "code",
   "execution_count": 26,
   "metadata": {},
   "outputs": [],
   "source": [
    "\n",
    "def checkXpath(browser,path):\n",
    "    try:\n",
    "        element=browser.find_element_by_xpath(path)\n",
    "        return True\n",
    "    except NoSuchElementException as e:\n",
    "        return False"
   ]
  },
  {
   "cell_type": "code",
   "execution_count": null,
   "metadata": {},
   "outputs": [],
   "source": [
    "\n",
    "\n"
   ]
  },
  {
   "cell_type": "code",
   "execution_count": 27,
   "metadata": {},
   "outputs": [],
   "source": [
    "def crawl(anonymity):\n",
    "    browser = webdriver.Chrome('../chromedriver')\n",
    "    \n",
    "    browser.get(url)\n",
    "    time.sleep(3)\n",
    "    selectType = Select(browser.find_element_by_xpath(\"//tfoot/tr/th[@class='ui-state-default'][3]/select\"))\n",
    "    selectType.select_by_value(anonymity)\n",
    "    #selectType.select_by_index(0)\n",
    "\n",
    "    #selectCount = Select(browser.find_element_by_tag_name(\"select\"))\n",
    "    #selectCount.select_by_index(2)\n",
    "    time.sleep(2)\n",
    "    \n",
    "    soup = BeautifulSoup(browser.page_source)\n",
    "    tbody = soup.find('tbody')\n",
    "    ipTemp=''\n",
    "    while True:\n",
    "        for tr in tbody.find_all('tr'):\n",
    "            for i, td in enumerate(tr.find_all('td')):\n",
    "                #print(i,td)\n",
    "                if i==0:\n",
    "                    ipTemp=td.text+':'\n",
    "                if i==1:\n",
    "                    ipTemp+=td.text;\n",
    "                    proxy_ips.append(ipTemp)\n",
    "        btn_enable = \"//div[@class='row']/div[@class='col-sm-7']/div[@class='dataTables_paginate fg-buttonset ui-buttonset fg-buttonset-multi ui-buttonset-multi paging_full_numbers']/ul[@class='pagination']/li[@class='fg-button ui-button ui-state-default next']/a\"\n",
    "        btn_disable = \"//div[@class='row']/div[@class='col-sm-7']/div[@class='dataTables_paginate fg-buttonset ui-buttonset fg-buttonset-multi ui-buttonset-multi paging_full_numbers']/ul[@class='pagination']/li[@class='fg-button ui-button ui-state-default next disabled']/a\"\n",
    "        if checkXpath(browser,btn_enable) :\n",
    "            element=browser.find_element_by_xpath(btn_enable)\n",
    "            element.click()\n",
    "            #print('next')\n",
    "        else :\n",
    "            if(checkXpath(browser,btn_disable)) : \n",
    "                print('\\ndisable\\n')\n",
    "                browser.quit();\n",
    "                break\n",
    "            else:\n",
    "                print('exception')\n",
    "                browser.quit();\n",
    "                break;\n",
    "    \n",
    "    print(len(proxy_ips))\n"
   ]
  },
  {
   "cell_type": "code",
   "execution_count": 28,
   "metadata": {},
   "outputs": [
    {
     "name": "stdout",
     "output_type": "stream",
     "text": [
      "\n",
      "disable\n",
      "\n",
      "120\n",
      "\n",
      "disable\n",
      "\n",
      "280\n",
      "\n",
      "disable\n",
      "\n",
      "320\n",
      "59.03093981742859\n",
      "end: 320\n"
     ]
    }
   ],
   "source": [
    "arr = ['anonymous', 'elite proxy', 'transparent']\n",
    "\n",
    "startTime = time.time()\n",
    "proxy_ips = []\n",
    "for s in arr:\n",
    "    crawl(s)\n",
    "\n",
    "finishTime = time.time()\n",
    "print(finishTime - startTime) # 正常情況的爬蟲所需時間\n",
    "\n",
    "print('end:',len(proxy_ips))"
   ]
  },
  {
   "cell_type": "code",
   "execution_count": 23,
   "metadata": {},
   "outputs": [
    {
     "name": "stdout",
     "output_type": "stream",
     "text": [
      "0.0003209114074707031\n",
      "end: 0\n",
      "\n",
      "disable\n",
      "\n",
      "disable\n",
      "\n",
      "\n",
      "900\n",
      "900\n",
      "\n",
      "disable\n",
      "\n",
      "900\n"
     ]
    }
   ],
   "source": [
    "arr = ['anonymous', 'elite proxy', 'transparent']\n",
    "\n",
    "startTime = time.time()\n",
    "proxy_ips = []\n",
    "for s in arr:\n",
    "    _thread.start_new_thread(crawl,(s,))\n",
    "\n",
    "finishTime = time.time()\n",
    "print(finishTime - startTime) # 正常情況的爬蟲所需時間\n",
    "\n",
    "print('end:',len(proxy_ips))"
   ]
  },
  {
   "cell_type": "code",
   "execution_count": 24,
   "metadata": {},
   "outputs": [
    {
     "name": "stdout",
     "output_type": "stream",
     "text": [
      "Use 180.252.181.3:80\n",
      "Fail\n",
      "Use 186.47.46.30:39975\n",
      "Fail\n",
      "Use 45.64.99.26:8080\n",
      "Fail\n",
      "Use 45.64.99.26:8080\n",
      "Fail\n",
      "Use 96.27.145.150:80\n",
      "Fail\n",
      "Use 151.232.72.19:80\n",
      "Fail\n",
      "Use 134.209.97.62:8080\n",
      "Fail\n",
      "Use 177.93.97.164:56929\n",
      "Fail\n",
      "Use 45.64.99.26:8080\n",
      "Fail\n",
      "Use 119.28.133.75:80\n",
      "Fail\n"
     ]
    }
   ],
   "source": [
    "\n",
    "import random\n",
    "for i in range(10):\n",
    "    ip = random.choice(proxy_ips)\n",
    "    print('Use', ip)\n",
    "    try:\n",
    "        resp = requests.get('http://ip.filefab.com/index.php',\n",
    "                        proxies={'http': ip, 'https': ip}, timeout=10)\n",
    "        soup = BeautifulSoup(resp.text, 'html5lib')\n",
    "        print('sucess',soup.find('h1', id='ipd').text.strip())\n",
    "    except:\n",
    "        print('Fail')"
   ]
  },
  {
   "cell_type": "code",
   "execution_count": null,
   "metadata": {},
   "outputs": [],
   "source": []
  },
  {
   "cell_type": "code",
   "execution_count": null,
   "metadata": {},
   "outputs": [],
   "source": []
  },
  {
   "cell_type": "code",
   "execution_count": null,
   "metadata": {},
   "outputs": [],
   "source": []
  }
 ],
 "metadata": {
  "colab": {
   "name": "homework.ipynb",
   "provenance": []
  },
  "kernelspec": {
   "display_name": "Python 3",
   "language": "python",
   "name": "python3"
  },
  "language_info": {
   "codemirror_mode": {
    "name": "ipython",
    "version": 3
   },
   "file_extension": ".py",
   "mimetype": "text/x-python",
   "name": "python",
   "nbconvert_exporter": "python",
   "pygments_lexer": "ipython3",
   "version": "3.7.6"
  }
 },
 "nbformat": 4,
 "nbformat_minor": 1
}
