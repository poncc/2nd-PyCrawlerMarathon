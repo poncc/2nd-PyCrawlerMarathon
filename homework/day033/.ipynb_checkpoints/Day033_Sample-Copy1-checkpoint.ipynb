{
 "cells": [
  {
   "cell_type": "markdown",
   "metadata": {},
   "source": [
    "## 登入範例"
   ]
  },
  {
   "cell_type": "code",
   "execution_count": 5,
   "metadata": {},
   "outputs": [],
   "source": [
    "import requests\n",
    "from lxml import html\n",
    "\n",
    "USERNAME = \"<USERNAME>\"\n",
    "PASSWORD = \"<PASSWORD>\"\n",
    "\n",
    "LOGIN_URL = \"https://bitbucket.org/account/signin/?next=/\"\n",
    "URL = \"https://bitbucket.org/dashboard/repositories\"\n",
    "\n",
    "def main():\n",
    "    session_requests = requests.session()\n",
    "\n",
    "    # Get login csrf token\n",
    "    result = session_requests.get(LOGIN_URL)\n",
    "    tree = html.fromstring(result.text)\n",
    "    authenticity_token = list(set(tree.xpath(\"//input[@name='csrfmiddlewaretoken']/@value\")))[0]\n",
    "\n",
    "    # Create payload\n",
    "    payload = {\n",
    "        \"username\": USERNAME, \n",
    "        \"password\": PASSWORD, \n",
    "        \"csrfmiddlewaretoken\": authenticity_token\n",
    "    }\n",
    "\n",
    "    # Perform login\n",
    "    result = session_requests.post(LOGIN_URL, data = payload, headers = dict(referer = LOGIN_URL))\n",
    "\n",
    "    # Scrape url\n",
    "    result = session_requests.get(URL, headers = dict(referer = URL))\n",
    "    tree = html.fromstring(result.content)\n",
    "    bucket_names = tree.xpath(\"//div[@class='repo-list--repo']/a/text()\")\n",
    "\n",
    "    print(bucket_names)\n",
    "\n"
   ]
  },
  {
   "cell_type": "code",
   "execution_count": null,
   "metadata": {},
   "outputs": [],
   "source": [
    "if __name__ == '__main__':\n",
    "    main()"
   ]
  }
 ],
 "metadata": {
  "kernelspec": {
   "display_name": "Python 3",
   "language": "python",
   "name": "python3"
  },
  "language_info": {
   "codemirror_mode": {
    "name": "ipython",
    "version": 3
   },
   "file_extension": ".py",
   "mimetype": "text/x-python",
   "name": "python",
   "nbconvert_exporter": "python",
   "pygments_lexer": "ipython3",
   "version": "3.7.6"
  }
 },
 "nbformat": 4,
 "nbformat_minor": 2
}
