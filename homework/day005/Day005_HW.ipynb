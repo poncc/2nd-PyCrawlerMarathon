{
 "cells": [
  {
   "cell_type": "markdown",
   "metadata": {},
   "source": [
    "# API 資料串接 - 以 Dcard API 實作範例\n",
    "\n",
    "* 了解 Dcard API 使用方式與回傳內容\n",
    "* 撰寫程式存取 API 且解析 JSON 格式資料\n"
   ]
  },
  {
   "cell_type": "markdown",
   "metadata": {},
   "source": [
    "## 作業目標\n",
    "\n",
    "* 請利用 API: https://www.dcard.tw/_api/forums/pet/posts?popular=true 回答下列問題：\n",
    "\n",
    "1. 這個 API 一次會回傳幾筆資料？每一筆資料包含哪些欄位？\n",
    "2. 取出每一筆資料的「標題」、「貼文時間」、「留言人數」、「按讚人數」\n",
    "3. 計算熱門/非熱門文章的「平均留言人數」與「平均按讚人數」"
   ]
  },
  {
   "cell_type": "code",
   "execution_count": 44,
   "metadata": {},
   "outputs": [
    {
     "name": "stdout",
     "output_type": "stream",
     "text": [
      "資料筆數:30\n",
      "回傳欄位:dict_keys(['id', 'title', 'excerpt', 'anonymousSchool', 'anonymousDepartment', 'pinned', 'forumId', 'replyId', 'createdAt', 'updatedAt', 'commentCount', 'likeCount', 'withNickname', 'tags', 'topics', 'meta', 'forumName', 'forumAlias', 'gender', 'school', 'replyTitle', 'mediaMeta', 'reactions', 'hidden', 'customStyle', 'isSuspiciousAccount', 'layout', 'withImages', 'withVideos', 'media', 'reportReasonText', 'postAvatar'])\n"
     ]
    }
   ],
   "source": [
    "# 1. 這個 API 一次會回傳幾筆資料？每一筆資料包含哪些欄位？\n",
    "\n",
    "import requests\n",
    "import json\n",
    "popular='https://www.dcard.tw/_api/forums/pet/posts?popular=true'\n",
    "nonpopular='https://www.dcard.tw/_api/forums/pet/posts?popular=false'\n",
    "r = requests.get(popular)\n",
    "response = r.text\n",
    "\n",
    "data = json.loads(response)\n",
    "print('資料筆數:' + str(len(data)));\n",
    "print('回傳欄位:' + str(data[0].keys()))\n"
   ]
  },
  {
   "cell_type": "code",
   "execution_count": 41,
   "metadata": {},
   "outputs": [
    {
     "name": "stdout",
     "output_type": "stream",
     "text": [
      "第1則留言: 撿到一隻阿柴 \t貼文時間: 2020-03-17T08:22:34.918Z \t留言人數: 54 \t按讚人數: 2205\n",
      "第2則留言: 通緝僑光科技大學的狗狗 \t貼文時間: 2020-03-17T17:41:27.077Z \t留言人數: 8 \t按讚人數: 188\n",
      "第3則留言: 僑光科大同學可愛狗狗！ \t貼文時間: 2020-03-17T08:48:33.891Z \t留言人數: 13 \t按讚人數: 170\n",
      "第4則留言: 多多出趣玩ʕ•̀ω•́ʔ ♡ \t貼文時間: 2020-03-17T12:57:14.845Z \t留言人數: 7 \t按讚人數: 144\n",
      "第5則留言: 犬種介紹特輯14 羅馬戰神 紐波利頓犬~ \t貼文時間: 2020-03-17T11:51:09.599Z \t留言人數: 7 \t按讚人數: 60\n",
      "第6則留言: 超乖的天使鼠鼠 \t貼文時間: 2020-03-17T16:12:47.168Z \t留言人數: 12 \t按讚人數: 38\n",
      "第7則留言: 玩一天的麻糬 \t貼文時間: 2020-03-18T04:29:18.050Z \t留言人數: 12 \t按讚人數: 25\n",
      "第8則留言: 愛鼠協會領養的不愉快經歷 \t貼文時間: 2020-03-17T07:58:47.908Z \t留言人數: 22 \t按讚人數: 24\n",
      "第9則留言: 🦎我的小守宮🦎 \t貼文時間: 2020-03-18T07:15:57.559Z \t留言人數: 3 \t按讚人數: 23\n",
      "第10則留言: #圖 街角巧遇蝴蝶犬 \t貼文時間: 2020-03-17T16:27:00.910Z \t留言人數: 1 \t按讚人數: 22\n",
      "第11則留言: 黃金鼠睡覺🐹 \t貼文時間: 2020-03-18T02:38:53.466Z \t留言人數: 2 \t按讚人數: 21\n",
      "第12則留言: 不知道各位有沒有睡覺時，被貓趴在身上的經驗 \t貼文時間: 2020-03-17T13:58:11.704Z \t留言人數: 5 \t按讚人數: 20\n",
      "第13則留言: 到底養了一隻什麼⋯ \t貼文時間: 2020-03-17T17:23:29.717Z \t留言人數: 2 \t按讚人數: 17\n",
      "第14則留言: #貓 第一次自拍✨ \t貼文時間: 2020-03-17T09:56:49.978Z \t留言人數: 6 \t按讚人數: 15\n",
      "第15則留言: 柴犬來我家三天 \t貼文時間: 2020-03-17T11:30:17.794Z \t留言人數: 11 \t按讚人數: 14\n",
      "第16則留言: 不愛  可以不傷害嗎 \t貼文時間: 2020-03-17T18:31:15.604Z \t留言人數: 4 \t按讚人數: 13\n",
      "第17則留言: 你是87咪 \t貼文時間: 2020-03-17T14:22:26.502Z \t留言人數: 4 \t按讚人數: 12\n",
      "第18則留言: 戲要這麼多嗎？！ \t貼文時間: 2020-03-17T08:31:13.860Z \t留言人數: 2 \t按讚人數: 12\n",
      "第19則留言: 肥包🐈 \t貼文時間: 2020-03-18T14:17:22.316Z \t留言人數: 2 \t按讚人數: 11\n",
      "第20則留言: 完美詮釋怒吃？？ \t貼文時間: 2020-03-17T11:23:18.216Z \t留言人數: 0 \t按讚人數: 11\n",
      "第21則留言: 求解 怎麼讓貓不把我的鎖骨當床 \t貼文時間: 2020-03-18T13:00:17.814Z \t留言人數: 3 \t按讚人數: 9\n",
      "第22則留言: 我家的惡鯊 \t貼文時間: 2020-03-17T08:37:06.644Z \t留言人數: 0 \t按讚人數: 8\n",
      "第23則留言: 如何領養貓咪呢?歡迎想養貓咪的你~ \t貼文時間: 2020-03-17T07:01:33.315Z \t留言人數: 0 \t按讚人數: 8\n",
      "第24則留言: 犬種介紹特輯15 小鋼炮 約克夏梗~ \t貼文時間: 2020-03-18T09:39:04.929Z \t留言人數: 5 \t按讚人數: 7\n",
      "第25則留言: 我的貓咪是不是討厭我QQ \t貼文時間: 2020-03-17T16:25:05.305Z \t留言人數: 9 \t按讚人數: 7\n",
      "第26則留言: 來看喵喵嘍 \t貼文時間: 2020-03-17T07:26:34.097Z \t留言人數: 6 \t按讚人數: 7\n",
      "第27則留言: 浪貓 # \t貼文時間: 2020-03-18T15:30:42.273Z \t留言人數: 1 \t按讚人數: 6\n",
      "第28則留言: 所謂的驚嚇貓！ \t貼文時間: 2020-03-17T15:50:07.831Z \t留言人數: 0 \t按讚人數: 6\n",
      "第29則留言: 打瞌睡成上癮 \t貼文時間: 2020-03-18T14:01:29.721Z \t留言人數: 2 \t按讚人數: 5\n",
      "第30則留言: 越來越有個性的肥弟 \t貼文時間: 2020-03-18T03:49:36.688Z \t留言人數: 1 \t按讚人數: 5\n"
     ]
    }
   ],
   "source": [
    "# 2. 取出每一筆資料的「標題」、「貼文時間」、「留言人數」、「按讚人數」\n",
    "count=1\n",
    "for key in data:\n",
    "    print('第' + str(count) + '則留言:',key['title'],'\\t貼文時間:',key['createdAt'],'\\t留言人數:',key['commentCount'],'\\t按讚人數:',key['likeCount'])\n",
    "    count+=1"
   ]
  },
  {
   "cell_type": "code",
   "execution_count": 51,
   "metadata": {},
   "outputs": [
    {
     "name": "stdout",
     "output_type": "stream",
     "text": [
      "熱門文章:\n",
      "平均留言: 6.833333333333333 \t平均按讚: 104.9\n",
      "非熱門文章:\n",
      "平均留言: 2.566666666666667 \t平均按讚: 11.566666666666666\n"
     ]
    }
   ],
   "source": [
    "# 3. 計算熱門/非熱門文章的「平均留言人數」與「平均按讚人數」\n",
    "\n",
    "pop_like=0\n",
    "pop_comment_count=0\n",
    "nonpop_like=0\n",
    "nonpop_comment_count=0\n",
    "\n",
    "pop = json.loads(requests.get(popular).text)\n",
    "nonpop = json.loads(requests.get(nonpopular).text)\n",
    "\n",
    "for key in pop:\n",
    "    pop_like+=key['likeCount'];\n",
    "    pop_comment_count+=key['commentCount'];\n",
    "for key in nonpop:\n",
    "    nonpop_like+=key['likeCount'];\n",
    "    nonpop_comment_count+=key['commentCount'];\n",
    "\n",
    "print('熱門文章:')\n",
    "print('平均留言:',pop_comment_count/len(pop),'\\t平均按讚:',pop_like/len(pop))\n",
    "print('非熱門文章:')\n",
    "print('平均留言:',nonpop_comment_count/len(pop),'\\t平均按讚:',nonpop_like/len(pop))"
   ]
  },
  {
   "cell_type": "code",
   "execution_count": null,
   "metadata": {},
   "outputs": [],
   "source": []
  }
 ],
 "metadata": {
  "kernelspec": {
   "display_name": "Python 3",
   "language": "python",
   "name": "python3"
  },
  "language_info": {
   "codemirror_mode": {
    "name": "ipython",
    "version": 3
   },
   "file_extension": ".py",
   "mimetype": "text/x-python",
   "name": "python",
   "nbconvert_exporter": "python",
   "pygments_lexer": "ipython3",
   "version": "3.7.6"
  }
 },
 "nbformat": 4,
 "nbformat_minor": 2
}
