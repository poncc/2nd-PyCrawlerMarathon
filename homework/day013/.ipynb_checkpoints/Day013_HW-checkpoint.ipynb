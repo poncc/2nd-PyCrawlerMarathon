{
 "cells": [
  {
   "cell_type": "markdown",
   "metadata": {},
   "source": [
    "# PTT 網路爬蟲實作練習\n",
    "\n",
    "\n",
    "* 能夠利用 Request + BeatifulSour 撰寫爬蟲，並存放到合適的資料結構\n"
   ]
  },
  {
   "cell_type": "markdown",
   "metadata": {},
   "source": [
    "## 作業目標\n",
    "\n",
    "根據範例 ，完成以下問題：\n",
    "\n",
    "* ① 印出最新文章的「作者」「標題」「時間」\n",
    "* ② 印出第一頁所有文章的「作者」「標題」「時間」\n"
   ]
  },
  {
   "cell_type": "markdown",
   "metadata": {},
   "source": [
    "### ① 印出最新文章的「作者」「標題」「時間」"
   ]
  },
  {
   "cell_type": "code",
   "execution_count": 65,
   "metadata": {},
   "outputs": [
    {
     "name": "stdout",
     "output_type": "stream",
     "text": [
      "作者 Gotham (萬惡之城)\n",
      "標題 [新聞] 高中時美式足球也頂尖　詹皇自曝放棄原因\n",
      "時間 Mon Mar 23 23:54:28 2020\n"
     ]
    }
   ],
   "source": [
    "# import requests\n",
    "from bs4 import BeautifulSoup\n",
    "\n",
    "url = 'https://www.ptt.cc/bbs/NBA/index.html'\n",
    "r = requests.get(url)\n",
    "\n",
    "soup = BeautifulSoup(r.text, \"html5lib\")\n",
    "\n",
    "newPost=soup.find_all(class_=\"r-ent\")[-5]\n",
    "contentCoup=BeautifulSoup(requests.get('https://www.ptt.cc'+newPost.find('a')['href']).text,\"html5lib\")\n",
    "\n",
    "print('作者',contentCoup.find(class_='article-meta-value').text)\n",
    "print('標題',contentCoup.find_all(class_='article-meta-value')[2].text)\n",
    "print('時間',contentCoup.find_all(class_='article-meta-value')[3].text)\n"
   ]
  },
  {
   "cell_type": "markdown",
   "metadata": {},
   "source": [
    "### ② 印出第一頁所有文章的「作者」「標題」「時間」"
   ]
  },
  {
   "cell_type": "code",
   "execution_count": 63,
   "metadata": {},
   "outputs": [
    {
     "name": "stdout",
     "output_type": "stream",
     "text": [
      "作者: lovepeace83\n",
      "標題: Re: [討論] LBJ跟MJ都是GOAT不行嗎？ 時間:  3/23\n",
      "作者: Ayanami5566\n",
      "標題: [討論] 迪奧當初為啥甘願當綠葉? 時間:  3/23\n",
      "作者: s106667\n",
      "標題: [討論] LBJ組過的團強度排名 時間:  3/23\n",
      "作者: lovea\n",
      "標題: [花邊] NBA／不會眼紅排擠林書豪？尼克前隊友讚 時間:  3/23\n",
      "作者: thnlkj0665\n",
      "標題: [情報] 鵜鶘隊打算跟進Ingram的任何報價 時間:  3/23\n",
      "作者: TheoEpstein\n",
      "標題: Re: [情報] 鵜鶘隊打算跟進Ingram的任何報價 時間:  3/23\n",
      "作者: OPEC\n",
      "標題: [新聞] K湯復出不受武肺影響 柯爾期待浪花兄弟下 時間:  3/23\n",
      "作者: Yui5\n",
      "標題: [情報] Fournier對Gobert確診被媒體公佈不滿 時間:  3/23\n",
      "作者: RedChoi\n",
      "標題: [討論] Wade當初為啥甘願當綠葉? 時間:  3/23\n",
      "作者: thnlkj0665\n",
      "標題: [花邊] 計畫開鞋店精品店當副業 塔克鞋頭人生創高峰 時間:  3/23\n",
      "作者: flymonkey\n",
      "標題: [情報] 巴克利COVID-19病毒檢驗結果出爐 時間:  3/23\n",
      "作者: LiamMcMorrow\n",
      "標題: Re: [討論]  史上排名前五的射手投籃姿勢 時間:  3/23\n",
      "作者: Gotham\n",
      "標題: [新聞] 高中時美式足球也頂尖　詹皇自曝放棄原因 時間:  3/23\n",
      "作者: Vedan\n",
      "標題: [公告] 板規v6.8 時間:  5/24\n",
      "作者: qazwsx879345\n",
      "標題: [公告] 版主上任相關事項  時間: 10/25\n",
      "作者: Acetoxy\n",
      "標題: [情報] SEASON Schedule 賽程 March 19–20 時間:  3/02\n",
      "作者: Vedan\n",
      "標題: [公告] 第一次被退文，可在三天後刪除退文 時間:  3/09\n"
     ]
    }
   ],
   "source": [
    "for d in soup.find_all(class_=\"r-ent\"):\n",
    "    print('作者:',d.find(class_='author').text.replace('\\t', '').replace('\\n', ''))\n",
    "    print('標題:',d.find(class_='title').text.replace('\\t', '').replace('\\n', ''),'時間:',d.find(class_='date').text.replace('\\t', '').replace('\\n', ''))\n"
   ]
  },
  {
   "cell_type": "markdown",
   "metadata": {},
   "source": [
    "### ③ 試著爬爬看其他版的文章"
   ]
  },
  {
   "cell_type": "code",
   "execution_count": 68,
   "metadata": {},
   "outputs": [
    {
     "name": "stdout",
     "output_type": "stream",
     "text": [
      "作者: NSYSUFAKER\n",
      "標題: [閒聊] 小紫為啥對那群有錢人那麼壞？ 時間:  3/21\n",
      "作者: gdodgang\n",
      "標題: Re: [閒聊] 三大勢力 時間:  3/22\n",
      "作者: -\n",
      "標題: (已被cabokino刪除) <ppp123>違反板規 時間:  3/22\n",
      "作者: u10400068\n",
      "標題: [閒聊] 光月御田生前和現在鷹眼比誰較強? 時間:  3/22\n",
      "作者: sea130281\n",
      "標題: [問題] 同樣是好色，為什麼桃之助這麼討厭? 時間:  3/22\n",
      "作者: GAYhivAIDS\n",
      "標題: Re: [閒聊] 光月御田生前和現在鷹眼比誰較強? 時間:  3/22\n",
      "作者: haupindiedie\n",
      "標題: [閒聊] 大媽海賊團能力者圖鑑 時間:  3/23\n",
      "作者: cabokino\n",
      "標題: [公告] 多人水桶 時間:  3/23\n",
      "作者: LiuLianDan\n",
      "標題: [閒聊] 光月篇算是氣氛營造蠻好的吧 時間:  3/23\n",
      "作者: taco303\n",
      "標題: [閒聊] 嚴格來說，魯夫有什麼心理上的黑暗嗎? 時間:  3/23\n",
      "作者: cabokino\n",
      "標題: [公告] 閒聊、交換、贈送、代購、合購 置底區 時間:  9/22\n",
      "作者: cabokino\n",
      "標題: [公告] 板規6.3 時間:  6/19\n",
      "作者: cabokino\n",
      "標題: [公告] 13th板主徵選v4開始 時間: 10/22\n",
      "作者: cabokino\n",
      "標題: [公告] 違規判定標準 宣導 時間:  3/06\n"
     ]
    }
   ],
   "source": [
    "url='https://www.ptt.cc/bbs/ONE_PIECE/index.html'\n",
    "soup = BeautifulSoup((requests.get(url)).text, \"html5lib\")\n",
    "\n",
    "for d in soup.find_all(class_=\"r-ent\"):\n",
    "    print('作者:',d.find(class_='author').text.replace('\\t', '').replace('\\n', ''))\n",
    "    print('標題:',d.find(class_='title').text.replace('\\t', '').replace('\\n', ''),'時間:',d.find(class_='date').text.replace('\\t', '').replace('\\n', ''))\n"
   ]
  }
 ],
 "metadata": {
  "kernelspec": {
   "display_name": "Python 3",
   "language": "python",
   "name": "python3"
  },
  "language_info": {
   "codemirror_mode": {
    "name": "ipython",
    "version": 3
   },
   "file_extension": ".py",
   "mimetype": "text/x-python",
   "name": "python",
   "nbconvert_exporter": "python",
   "pygments_lexer": "ipython3",
   "version": "3.7.3"
  }
 },
 "nbformat": 4,
 "nbformat_minor": 4
}
