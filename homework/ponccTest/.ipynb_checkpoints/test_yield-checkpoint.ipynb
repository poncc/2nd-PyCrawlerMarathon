{
 "cells": [
  {
   "cell_type": "markdown",
   "metadata": {},
   "source": [
    "Yield Test"
   ]
  },
  {
   "cell_type": "code",
   "execution_count": 26,
   "metadata": {},
   "outputs": [],
   "source": [
    "def myrange(n):\n",
    "    x = 0\n",
    "    print('x:x:',x)\n",
    "    print('n:n:',n)\n",
    "    while True:\n",
    "        print('yield:',x)\n",
    "        val = (yield x)\n",
    "        print('val:',val,x)\n",
    "        if val is not None:\n",
    "            x = val\n",
    "            print('if:x',x)\n",
    "        else:\n",
    "            x += 1\n",
    "            print('else:x',x)\n",
    "        if x >= n:\n",
    "            print('end',x,n)\n",
    "            break"
   ]
  },
  {
   "cell_type": "code",
   "execution_count": 29,
   "metadata": {
    "scrolled": true
   },
   "outputs": [
    {
     "name": "stdout",
     "output_type": "stream",
     "text": [
      "test-00\n",
      "test-01\n",
      "x:x: 0\n",
      "n:n: 10\n",
      "yield: 0\n",
      "test-02\n",
      "val: None 0\n",
      "else:x 1\n",
      "yield: 1\n",
      "test-03\n",
      "val: None 1\n",
      "else:x 2\n",
      "yield: 2\n",
      "test-04\n",
      "val: 0 2\n",
      "if:x 0\n",
      "yield: 0\n",
      "test-05\n",
      "val: None 0\n",
      "else:x 1\n",
      "yield: 1\n",
      "test-06\n",
      "val: None 1\n",
      "else:x 2\n",
      "yield: 2\n",
      "test-07\n",
      "val: 5 2\n",
      "if:x 5\n",
      "yield: 5\n",
      "test-08\n",
      "val: None 5\n",
      "else:x 6\n",
      "yield: 6\n",
      "test-end\n",
      "val: None 6\n",
      "else:x 7\n",
      "yield: 7\n",
      "test-end\n",
      "val: None 7\n",
      "else:x 8\n",
      "yield: 8\n",
      "test-end-1\n",
      "val: None 8\n",
      "else:x 9\n",
      "yield: 9\n"
     ]
    },
    {
     "data": {
      "text/plain": [
       "9"
      ]
     },
     "execution_count": 29,
     "metadata": {},
     "output_type": "execute_result"
    }
   ],
   "source": [
    "\n",
    "print('test-00')\n",
    "g=myrange(10)\n",
    "print('test-01')\n",
    "next(g)\n",
    "\n",
    "print('test-02')\n",
    "next(g)\n",
    "\n",
    "print('test-03')\n",
    "next(g)\n",
    "\n",
    "print('test-04')\n",
    "g.send(0)\n",
    "\n",
    "print('test-05')\n",
    "next(g)\n",
    "\n",
    "print('test-06')\n",
    "next(g)\n",
    "\n",
    "print('test-07')\n",
    "g.send(5)\n",
    "\n",
    "print('test-08')\n",
    "next(g)\n",
    "\n",
    "print('test-end')\n",
    "next(g)\n",
    "\n",
    "print('test-end')\n",
    "next(g)\n",
    "print('test-end-1')\n",
    "next(g)\n"
   ]
  },
  {
   "cell_type": "code",
   "execution_count": 3,
   "metadata": {},
   "outputs": [
    {
     "data": {
      "text/plain": [
       "['a', 'b']"
      ]
     },
     "execution_count": 3,
     "metadata": {},
     "output_type": "execute_result"
    }
   ],
   "source": [
    "test=['a']\n",
    "test\n",
    "test.append('b')\n",
    "test"
   ]
  }
 ],
 "metadata": {
  "kernelspec": {
   "display_name": "Python 3",
   "language": "python",
   "name": "python3"
  },
  "language_info": {
   "codemirror_mode": {
    "name": "ipython",
    "version": 3
   },
   "file_extension": ".py",
   "mimetype": "text/x-python",
   "name": "python",
   "nbconvert_exporter": "python",
   "pygments_lexer": "ipython3",
   "version": "3.7.6"
  }
 },
 "nbformat": 4,
 "nbformat_minor": 2
}
