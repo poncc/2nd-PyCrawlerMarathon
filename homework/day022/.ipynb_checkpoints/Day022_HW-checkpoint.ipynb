{
 "cells": [
  {
   "cell_type": "markdown",
   "metadata": {},
   "source": [
    "# 空氣污染監測網 網路爬蟲實作練習\n",
    "\n",
    "\n",
    "* 能夠利用 selenium + BeautifulSoup 撰寫爬蟲，並存放到合適的資料結構\n"
   ]
  },
  {
   "cell_type": "markdown",
   "metadata": {},
   "source": [
    "## 作業目標\n",
    "\n",
    "根據範例 ，完成以下問題：\n",
    "\n",
    "* ① 取出 台北市士林區 2018/01 – 2018/08 的 SO2 資料\n",
    "* ② 取出 台北市士林區 2018/01 – 2018/08 的 SO2、CO 資料\n",
    "\n",
    "\n",
    "\n"
   ]
  },
  {
   "cell_type": "markdown",
   "metadata": {},
   "source": [
    "### ① 取出 台北市士林區 2018/01 – 2018/08 的 SO2 資料"
   ]
  },
  {
   "cell_type": "code",
   "execution_count": 1,
   "metadata": {},
   "outputs": [],
   "source": [
    "# 打開瀏覽器\n",
    "\n",
    "from selenium import webdriver\n",
    "from selenium.webdriver.support.ui import Select\n",
    "from bs4 import BeautifulSoup\n",
    "\n",
    "browser = webdriver.Chrome('../chromedriver')\n",
    "\n",
    "browser.get(\"http://taqm.epa.gov.tw/taqm/tw/MonthlyAverage.aspx\")"
   ]
  },
  {
   "cell_type": "code",
   "execution_count": 15,
   "metadata": {},
   "outputs": [],
   "source": [
    "# 模擬使用者操作行為，選擇/點擊\n",
    "\n",
    "selectSite = Select(browser.find_element_by_id(\"ctl05_ddlSite\"))\n",
    "selectSite.select_by_value('11')\n",
    "selectYear = Select(browser.find_element_by_id(\"ctl05_ddlYear\"))\n",
    "selectYear.select_by_value('2018')\n",
    "\n",
    "browser.find_element_by_id('ctl05_btnQuery').click()"
   ]
  },
  {
   "cell_type": "code",
   "execution_count": 62,
   "metadata": {},
   "outputs": [],
   "source": [
    "from datetime import datetime, timedelta\n",
    "def getAirData(table,keys,s,e):\n",
    "    d = {}\n",
    "    obs=''\n",
    "    dateFormat='%Y/%m'\n",
    "    start=datetime.strptime(s, dateFormat)\n",
    "    end=datetime.strptime(e, dateFormat)\n",
    "    \n",
    "    for tr in table.find_all('tr')[1:]:\n",
    "        for i, td in enumerate(tr.find_all('td')):\n",
    "            if obs=='' or obs in keys:\n",
    "                if len(tr.find_all('td')) == 5:\n",
    "                    if i == 0:\n",
    "                        obs = td.text\n",
    "                        if td.text in keys:\n",
    "                            d.setdefault(obs, {})\n",
    "                    if i == 2:\n",
    "                        date = datetime.strptime(td.text, dateFormat)\n",
    "                        dateStr=td.text\n",
    "                    if i == 3:\n",
    "                        value = td.text\n",
    "                        if date>=start and date<=end:\n",
    "                            d[obs][dateStr] = value\n",
    "                            #print('a',date,value)\n",
    "\n",
    "                #print('t', len(tr.find_all('td')),td)\n",
    "                if len(tr.find_all('td')) == 3:\n",
    "                    if i == 0:\n",
    "                        date = datetime.strptime(td.text, dateFormat)\n",
    "                        dateStr=td.text\n",
    "                    if i == 1:\n",
    "                        value = td.text\n",
    "                        if date>=start and date<=end:\n",
    "                            d[obs][dateStr] = value\n",
    "                            #print('b',date,value)\n",
    "    return d"
   ]
  },
  {
   "cell_type": "code",
   "execution_count": 63,
   "metadata": {},
   "outputs": [
    {
     "name": "stdout",
     "output_type": "stream",
     "text": [
      "{'SO2': {'2018/01': '1.80', '2018/02': '1.90', '2018/03': '2.20', '2018/04': '2.30', '2018/05': '3.10', '2018/06': '2.70', '2018/07': '2.20', '2018/08': '2.40'}}\n"
     ]
    }
   ],
   "source": [
    "# 取得資料，丟到 BeautifulSoup 解析\n",
    "\n",
    "html_source = browser.page_source\n",
    "\n",
    "soup = BeautifulSoup(html_source, 'html.parser')\n",
    "table = soup.find('table', class_='TABLE_G')\n",
    "\n",
    "keys=['SO2']\n",
    "d=getAirData(table,keys,'2018/01','2018/08')\n",
    "print(d)"
   ]
  },
  {
   "cell_type": "markdown",
   "metadata": {},
   "source": [
    "### ② 取出 台北市士林區 2018/01 – 2018/08 的 SO2、CO 資料"
   ]
  },
  {
   "cell_type": "code",
   "execution_count": 64,
   "metadata": {},
   "outputs": [
    {
     "name": "stdout",
     "output_type": "stream",
     "text": [
      "{'SO2': {'2018/01': '1.80', '2018/02': '1.90', '2018/03': '2.20', '2018/04': '2.30', '2018/05': '3.10', '2018/06': '2.70', '2018/07': '2.20', '2018/08': '2.40'}, 'CO': {'2018/01': '0.34', '2018/02': '0.44', '2018/03': '0.40', '2018/04': '0.38', '2018/05': '0.34', '2018/06': '0.29', '2018/07': '0.21', '2018/08': '0.30'}}\n"
     ]
    }
   ],
   "source": [
    "keys=['SO2','CO']\n",
    "d=getAirData(table,keys,'2018/01','2018/08')\n",
    "print(d)"
   ]
  },
  {
   "cell_type": "code",
   "execution_count": 65,
   "metadata": {},
   "outputs": [],
   "source": [
    "# 關閉瀏覽器\n",
    "browser.quit();"
   ]
  }
 ],
 "metadata": {
  "kernelspec": {
   "display_name": "Python 3",
   "language": "python",
   "name": "python3"
  },
  "language_info": {
   "codemirror_mode": {
    "name": "ipython",
    "version": 3
   },
   "file_extension": ".py",
   "mimetype": "text/x-python",
   "name": "python",
   "nbconvert_exporter": "python",
   "pygments_lexer": "ipython3",
   "version": "3.7.6"
  }
 },
 "nbformat": 4,
 "nbformat_minor": 2
}
