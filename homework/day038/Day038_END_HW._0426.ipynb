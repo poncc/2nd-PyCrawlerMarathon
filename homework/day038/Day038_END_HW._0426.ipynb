{
 "cells": [
  {
   "cell_type": "markdown",
   "metadata": {},
   "source": [
    "# 專題"
   ]
  },
  {
   "cell_type": "markdown",
   "metadata": {},
   "source": [
    "# 基本目標\n",
    "\n",
    "- 爬下文章，透過 jieba 等斷詞將文章拆解\n",
    "- 可以簡單的計算同樣文字出現的頻率或是透過 TFIDF 的統計方式計算\n",
    "- 將經常出現的 stop words 過濾掉之後對頻率進行排名\n",
    "- 將結果透過 wordcloud 文字雲的方式呈現\n"
   ]
  },
  {
   "cell_type": "markdown",
   "metadata": {},
   "source": [
    "# 進階目標\n",
    "\n",
    "- 透過不同帳號，但是相同 IP 且政治用語的詞頻分佈類似的定位成網軍\n",
    "- 進一步分析帳號是否在特定期間 (e.g. 選舉) 有明顯的活動特性\n",
    "- 如果不同帳號但是政治用語的詞頻分佈類似，進一步判斷這些高頻率的單字是positive / negative 來歸納兩個帳號之間是否具有相同政治立場\n",
    "\n"
   ]
  },
  {
   "cell_type": "code",
   "execution_count": 325,
   "metadata": {},
   "outputs": [],
   "source": [
    "import requests\n",
    "import re\n",
    "import json\n",
    "import jieba\n",
    "import pandas as pd\n",
    "import matplotlib.pyplot as plt\n",
    "import _thread\n",
    "import time\n",
    "from datetime import datetime\n",
    "from wordcloud import WordCloud\n",
    "from nltk.corpus import stopwords\n",
    "from sklearn.feature_extraction.text import TfidfVectorizer\n",
    "from urllib.parse import urljoin\n",
    "from bs4 import BeautifulSoup\n",
    "\n",
    "# PTT 八卦版網址\n",
    "#PTT_URL = 'https://www.ptt.cc/bbs/Gossiping/index.html'\n",
    "PTT_URL = 'https://www.ptt.cc/bbs/Gossiping/index27901.html'\n",
    "url_host = 'https://www.ptt.cc'\n",
    "# 爬取文章數\n",
    "maxCount=1000"
   ]
  },
  {
   "cell_type": "code",
   "execution_count": 326,
   "metadata": {},
   "outputs": [],
   "source": [
    "\n",
    "\n",
    "# 設定停用詞\n",
    "stopwords = []\n",
    "with open('stopwords-master/cn_stopwords.txt', 'r', encoding='utf-8') as f:\n",
    "    for line in f:\n",
    "        if len(line)>0:\n",
    "            stopwords.append(line.strip())\n",
    "            \n",
    "# 設定網軍詞\n",
    "political = []\n",
    "with open('mgck2017/政黑_繁體.txt', 'r', encoding='utf-8') as f:\n",
    "    for line in f:\n",
    "        if len(line)>0:\n",
    "            political.append(line.strip())    "
   ]
  },
  {
   "cell_type": "markdown",
   "metadata": {},
   "source": [
    "#Jieba"
   ]
  },
  {
   "cell_type": "code",
   "execution_count": 1,
   "metadata": {},
   "outputs": [],
   "source": [
    "\n",
    "#計算結巴字詞的個數\n",
    "def jiebaCountWordWithContent(data,content):\n",
    "    jieba.set_dictionary('dict.user.big.txt')\n",
    "    words = jieba.cut(content, cut_all=False)\n",
    "    for word in words:\n",
    "            if not regex.match(word):\n",
    "                if word in data:\n",
    "                    count=data[word]+1\n",
    "                    tmp={}\n",
    "                    tmp={word:count}\n",
    "                    data.update(tmp)\n",
    "                else:\n",
    "                    data[word]=1\n",
    "                \n",
    "    return data\n",
    "\n",
    "\n",
    "#計算結巴字詞的個數\n",
    "def jiebaContent(stopwords,wordSet,content):\n",
    "    jieba.set_dictionary('dict.user.big.txt')\n",
    "    words = jieba.cut(content, cut_all=False)\n",
    "    wordContentList = list()\n",
    "    for word in words:\n",
    "            if not regex.match(word):\n",
    "                #if word not in wordSet:\n",
    "                #    print(word)\n",
    "                \n",
    "                #print(stopwords)\n",
    "                if word not in wordSet and word not in stopwords:\n",
    "                    wordSet.add(word)\n",
    "                    \n",
    "                if word not in wordContentList and word not in stopwords:\n",
    "                    wordContentList.append(word)\n",
    "                \n",
    "    return wordSet,wordContentList;"
   ]
  },
  {
   "cell_type": "markdown",
   "metadata": {},
   "source": [
    "#TF-IDF"
   ]
  },
  {
   "cell_type": "code",
   "execution_count": 328,
   "metadata": {},
   "outputs": [],
   "source": [
    "def computeTF(wordDict, bagOfWords):\n",
    "    tfDict = {}\n",
    "    bagOfWordsCount = len(bagOfWords)\n",
    "    for word, count in wordDict.items():\n",
    "        tfDict[word] = count / float(bagOfWordsCount)\n",
    "    return tfDict"
   ]
  },
  {
   "cell_type": "code",
   "execution_count": 329,
   "metadata": {},
   "outputs": [],
   "source": [
    "def computeIDF(documents):\n",
    "    import math\n",
    "    N = len(documents)\n",
    "    \n",
    "    idfDict = dict.fromkeys(documents[0].keys(), 0)\n",
    "    for document in documents:\n",
    "        for word, val in document.items():\n",
    "            if val > 0:\n",
    "                idfDict[word] += 1\n",
    "    \n",
    "    for word, val in idfDict.items():\n",
    "        idfDict[word] = math.log(N / float(val))\n",
    "    return idfDict"
   ]
  },
  {
   "cell_type": "code",
   "execution_count": 330,
   "metadata": {},
   "outputs": [],
   "source": [
    "def computeTFIDF(tfBagOfWords, idfs):\n",
    "    tfidf = {}\n",
    "    for word, val in tfBagOfWords.items():\n",
    "        tfidf[word] = val * idfs[word]\n",
    "    return tfidf"
   ]
  },
  {
   "cell_type": "code",
   "execution_count": 331,
   "metadata": {},
   "outputs": [],
   "source": [
    "def filterIP(ipTemp):\n",
    "    pattern_1 = re.compile('(\\d{1,3}).(\\d{1,3}).(\\d{1,3}).(\\d{1,3})')\n",
    "    pattern_2 = re.compile('^(25[0-5]|2[0-4][0-9]|[01]?[0-9][0-9]?)\\.(25[0-5]|2[0-4][0-9]|[01]?[0-9][0-9]?)\\.(25[0-5]|2[0-4][0-9]|[01]?[0-9][0-9]?)\\.(25[0-5]|2[0-4][0-9]|[01]?[0-9][0-9]?)$')\n",
    "    result_1 = re.search(pattern_1, ipTemp)\n",
    "    result_2 = re.search(pattern_2, result_1.group())\n",
    "    if result_2:\n",
    "        return result_2.group()\n",
    "    else:\n",
    "        print(ipTemp,'is No Match')\n",
    "    "
   ]
  },
  {
   "cell_type": "markdown",
   "metadata": {},
   "source": [
    "- 爬下文章，透過 jieba 等斷詞將文章拆解\n"
   ]
  },
  {
   "cell_type": "code",
   "execution_count": 332,
   "metadata": {},
   "outputs": [],
   "source": [
    "def crawl_article(authorInfo,stopwords,wordSet,url):\n",
    "    response = requests.get(url, cookies={'over18': '1'})\n",
    "    #print(response)\n",
    "    # 假設網頁回應不是 200 OK 的話, 我們視為傳送請求失敗\n",
    "    if response.status_code != 200:\n",
    "        print('Error - {} is not available to access'.format(url))\n",
    "        return\n",
    "    \n",
    "    # 將網頁回應的 HTML 傳入 BeautifulSoup 解析器, 方便我們根據標籤 (tag) 資訊去過濾尋找\n",
    "    soup = BeautifulSoup(response.text)\n",
    "\n",
    "    # 取得文章內容主體\n",
    "    main_content = soup.find(id='main-content')\n",
    "    \n",
    "    # 取得作者資訊\n",
    "    author = main_content.find_all('span',class_='article-meta-value')[0].text\n",
    "    ip=''\n",
    "    for contentInfo in main_content.find_all('span',class_='f2'):\n",
    "        if '※ 發信站: 批踢踢實業坊(ptt.cc), 來自: ' in contentInfo.text:\n",
    "            ip = filterIP(contentInfo.text)\n",
    "\n",
    "    \n",
    "    # 移除文章主體中 '※ 發信站:', '◆ From:', 空行及多餘空白 (※ = u'\\u203b', ◆ = u'\\u25c6')\n",
    "    # 保留英數字, 中文及中文標點, 網址, 部分特殊符號\n",
    "    #\n",
    "    # 透過 .stripped_strings 的方式可以快速移除多餘空白並取出文字, 可參考官方文件 \n",
    "    #  - https://www.crummy.com/software/BeautifulSoup/bs4/doc/#strings-and-stripped-strings\n",
    "    filtered = []\n",
    "    for v in main_content.stripped_strings:\n",
    "        # 假如字串開頭不是特殊符號或是以 '--' 開頭的, 我們都保留其文字\n",
    "        if v[0] not in [u'※', u'◆'] and v[:2] not in [u'--']:\n",
    "            filtered.append(v)\n",
    "\n",
    "    # 定義一些特殊符號與全形符號的過濾器\n",
    "    expr = re.compile(u'[^一-龥。；，：“”（）、？《》\\s\\w:/-_.?~%()]')\n",
    "    for i in range(len(filtered)):\n",
    "        filtered[i] = re.sub(expr, '', filtered[i])\n",
    "    \n",
    "    # 移除空白字串, 組合過濾後的文字即為文章本文 (content)\n",
    "    filtered = [i for i in filtered if i]\n",
    "    content = ' '.join(filtered)\n",
    "    #print(content)\n",
    "    \n",
    "    wordSet,wordContentList=jiebaContent(stopwords,wordSet,content)\n",
    "    \n",
    "    #authorInfo[count]={ip:author}\n",
    "    tmp=dict()\n",
    "    tmp={'ip':ip,'author':author,'url':url}\n",
    "    authorInfo[count]=tmp\n",
    "    \n",
    "    return authorInfo,wordSet,wordContentList;"
   ]
  },
  {
   "cell_type": "code",
   "execution_count": 333,
   "metadata": {},
   "outputs": [
    {
     "name": "stdout",
     "output_type": "stream",
     "text": [
      "poncc-debug: 0\n"
     ]
    },
    {
     "name": "stderr",
     "output_type": "stream",
     "text": [
      "Building prefix dict from /Users/poncc/Documents/GitHub/2nd-PyCrawlerMarathon/homework/day038/dict.user.big.txt ...\n",
      "Loading model from cache /var/folders/68/t9g86v0d0ys2rpbv_g1xxrph0000gn/T/jieba.u25b0b9ddcb92304ec71499048447de52.cache\n",
      "Loading model cost 1.103 seconds.\n",
      "Prefix dict has been built successfully.\n",
      "Building prefix dict from /Users/poncc/Documents/GitHub/2nd-PyCrawlerMarathon/homework/day038/dict.user.big.txt ...\n",
      "Loading model from cache /var/folders/68/t9g86v0d0ys2rpbv_g1xxrph0000gn/T/jieba.u25b0b9ddcb92304ec71499048447de52.cache\n"
     ]
    },
    {
     "name": "stdout",
     "output_type": "stream",
     "text": [
      "poncc-debug: 1\n"
     ]
    },
    {
     "name": "stderr",
     "output_type": "stream",
     "text": [
      "Loading model cost 1.154 seconds.\n",
      "Prefix dict has been built successfully.\n"
     ]
    },
    {
     "name": "stdout",
     "output_type": "stream",
     "text": [
      "poncc-debug: 2\n"
     ]
    },
    {
     "name": "stderr",
     "output_type": "stream",
     "text": [
      "Building prefix dict from /Users/poncc/Documents/GitHub/2nd-PyCrawlerMarathon/homework/day038/dict.user.big.txt ...\n",
      "Loading model from cache /var/folders/68/t9g86v0d0ys2rpbv_g1xxrph0000gn/T/jieba.u25b0b9ddcb92304ec71499048447de52.cache\n",
      "Loading model cost 1.090 seconds.\n",
      "Prefix dict has been built successfully.\n"
     ]
    },
    {
     "name": "stdout",
     "output_type": "stream",
     "text": [
      "poncc-debug: 3\n"
     ]
    },
    {
     "name": "stderr",
     "output_type": "stream",
     "text": [
      "Building prefix dict from /Users/poncc/Documents/GitHub/2nd-PyCrawlerMarathon/homework/day038/dict.user.big.txt ...\n",
      "Loading model from cache /var/folders/68/t9g86v0d0ys2rpbv_g1xxrph0000gn/T/jieba.u25b0b9ddcb92304ec71499048447de52.cache\n",
      "Loading model cost 1.160 seconds.\n",
      "Prefix dict has been built successfully.\n"
     ]
    },
    {
     "name": "stdout",
     "output_type": "stream",
     "text": [
      "poncc-debug: 4\n"
     ]
    },
    {
     "name": "stderr",
     "output_type": "stream",
     "text": [
      "Building prefix dict from /Users/poncc/Documents/GitHub/2nd-PyCrawlerMarathon/homework/day038/dict.user.big.txt ...\n",
      "Loading model from cache /var/folders/68/t9g86v0d0ys2rpbv_g1xxrph0000gn/T/jieba.u25b0b9ddcb92304ec71499048447de52.cache\n",
      "Loading model cost 1.106 seconds.\n",
      "Prefix dict has been built successfully.\n"
     ]
    },
    {
     "name": "stdout",
     "output_type": "stream",
     "text": [
      "poncc-debug: 5\n"
     ]
    },
    {
     "name": "stderr",
     "output_type": "stream",
     "text": [
      "Building prefix dict from /Users/poncc/Documents/GitHub/2nd-PyCrawlerMarathon/homework/day038/dict.user.big.txt ...\n",
      "Loading model from cache /var/folders/68/t9g86v0d0ys2rpbv_g1xxrph0000gn/T/jieba.u25b0b9ddcb92304ec71499048447de52.cache\n",
      "Loading model cost 1.148 seconds.\n",
      "Prefix dict has been built successfully.\n",
      "Building prefix dict from /Users/poncc/Documents/GitHub/2nd-PyCrawlerMarathon/homework/day038/dict.user.big.txt ...\n"
     ]
    },
    {
     "name": "stdout",
     "output_type": "stream",
     "text": [
      "poncc-debug: 6\n"
     ]
    },
    {
     "name": "stderr",
     "output_type": "stream",
     "text": [
      "Loading model from cache /var/folders/68/t9g86v0d0ys2rpbv_g1xxrph0000gn/T/jieba.u25b0b9ddcb92304ec71499048447de52.cache\n",
      "Loading model cost 1.058 seconds.\n",
      "Prefix dict has been built successfully.\n"
     ]
    },
    {
     "name": "stdout",
     "output_type": "stream",
     "text": [
      "poncc-debug: 7\n"
     ]
    },
    {
     "name": "stderr",
     "output_type": "stream",
     "text": [
      "Building prefix dict from /Users/poncc/Documents/GitHub/2nd-PyCrawlerMarathon/homework/day038/dict.user.big.txt ...\n",
      "Loading model from cache /var/folders/68/t9g86v0d0ys2rpbv_g1xxrph0000gn/T/jieba.u25b0b9ddcb92304ec71499048447de52.cache\n",
      "Loading model cost 1.134 seconds.\n",
      "Prefix dict has been built successfully.\n"
     ]
    },
    {
     "name": "stdout",
     "output_type": "stream",
     "text": [
      "poncc-debug: 8\n"
     ]
    },
    {
     "name": "stderr",
     "output_type": "stream",
     "text": [
      "Building prefix dict from /Users/poncc/Documents/GitHub/2nd-PyCrawlerMarathon/homework/day038/dict.user.big.txt ...\n",
      "Loading model from cache /var/folders/68/t9g86v0d0ys2rpbv_g1xxrph0000gn/T/jieba.u25b0b9ddcb92304ec71499048447de52.cache\n",
      "Loading model cost 1.100 seconds.\n",
      "Prefix dict has been built successfully.\n"
     ]
    },
    {
     "name": "stdout",
     "output_type": "stream",
     "text": [
      "poncc-debug: 9\n"
     ]
    },
    {
     "name": "stderr",
     "output_type": "stream",
     "text": [
      "Building prefix dict from /Users/poncc/Documents/GitHub/2nd-PyCrawlerMarathon/homework/day038/dict.user.big.txt ...\n",
      "Loading model from cache /var/folders/68/t9g86v0d0ys2rpbv_g1xxrph0000gn/T/jieba.u25b0b9ddcb92304ec71499048447de52.cache\n",
      "Loading model cost 1.160 seconds.\n",
      "Prefix dict has been built successfully.\n"
     ]
    },
    {
     "name": "stdout",
     "output_type": "stream",
     "text": [
      "poncc-debug: 10\n"
     ]
    },
    {
     "name": "stderr",
     "output_type": "stream",
     "text": [
      "Building prefix dict from /Users/poncc/Documents/GitHub/2nd-PyCrawlerMarathon/homework/day038/dict.user.big.txt ...\n",
      "Loading model from cache /var/folders/68/t9g86v0d0ys2rpbv_g1xxrph0000gn/T/jieba.u25b0b9ddcb92304ec71499048447de52.cache\n",
      "Loading model cost 1.067 seconds.\n",
      "Prefix dict has been built successfully.\n"
     ]
    },
    {
     "name": "stdout",
     "output_type": "stream",
     "text": [
      "poncc-debug: 11\n"
     ]
    },
    {
     "name": "stderr",
     "output_type": "stream",
     "text": [
      "Building prefix dict from /Users/poncc/Documents/GitHub/2nd-PyCrawlerMarathon/homework/day038/dict.user.big.txt ...\n",
      "Loading model from cache /var/folders/68/t9g86v0d0ys2rpbv_g1xxrph0000gn/T/jieba.u25b0b9ddcb92304ec71499048447de52.cache\n",
      "Loading model cost 1.177 seconds.\n",
      "Prefix dict has been built successfully.\n"
     ]
    },
    {
     "name": "stdout",
     "output_type": "stream",
     "text": [
      "poncc-debug: 12\n"
     ]
    },
    {
     "name": "stderr",
     "output_type": "stream",
     "text": [
      "Building prefix dict from /Users/poncc/Documents/GitHub/2nd-PyCrawlerMarathon/homework/day038/dict.user.big.txt ...\n",
      "Loading model from cache /var/folders/68/t9g86v0d0ys2rpbv_g1xxrph0000gn/T/jieba.u25b0b9ddcb92304ec71499048447de52.cache\n",
      "Loading model cost 1.092 seconds.\n",
      "Prefix dict has been built successfully.\n"
     ]
    },
    {
     "name": "stdout",
     "output_type": "stream",
     "text": [
      "poncc-debug: 13\n"
     ]
    },
    {
     "name": "stderr",
     "output_type": "stream",
     "text": [
      "Building prefix dict from /Users/poncc/Documents/GitHub/2nd-PyCrawlerMarathon/homework/day038/dict.user.big.txt ...\n",
      "Loading model from cache /var/folders/68/t9g86v0d0ys2rpbv_g1xxrph0000gn/T/jieba.u25b0b9ddcb92304ec71499048447de52.cache\n",
      "Loading model cost 1.154 seconds.\n",
      "Prefix dict has been built successfully.\n"
     ]
    },
    {
     "name": "stdout",
     "output_type": "stream",
     "text": [
      "poncc-debug: 14\n"
     ]
    },
    {
     "name": "stderr",
     "output_type": "stream",
     "text": [
      "Building prefix dict from /Users/poncc/Documents/GitHub/2nd-PyCrawlerMarathon/homework/day038/dict.user.big.txt ...\n",
      "Loading model from cache /var/folders/68/t9g86v0d0ys2rpbv_g1xxrph0000gn/T/jieba.u25b0b9ddcb92304ec71499048447de52.cache\n",
      "Loading model cost 1.045 seconds.\n",
      "Prefix dict has been built successfully.\n"
     ]
    },
    {
     "name": "stdout",
     "output_type": "stream",
     "text": [
      "poncc-debug: 15\n"
     ]
    },
    {
     "name": "stderr",
     "output_type": "stream",
     "text": [
      "Building prefix dict from /Users/poncc/Documents/GitHub/2nd-PyCrawlerMarathon/homework/day038/dict.user.big.txt ...\n",
      "Loading model from cache /var/folders/68/t9g86v0d0ys2rpbv_g1xxrph0000gn/T/jieba.u25b0b9ddcb92304ec71499048447de52.cache\n",
      "Loading model cost 1.141 seconds.\n",
      "Prefix dict has been built successfully.\n",
      "Building prefix dict from /Users/poncc/Documents/GitHub/2nd-PyCrawlerMarathon/homework/day038/dict.user.big.txt ...\n",
      "Loading model from cache /var/folders/68/t9g86v0d0ys2rpbv_g1xxrph0000gn/T/jieba.u25b0b9ddcb92304ec71499048447de52.cache\n"
     ]
    },
    {
     "name": "stdout",
     "output_type": "stream",
     "text": [
      "poncc-debug: 16\n"
     ]
    },
    {
     "name": "stderr",
     "output_type": "stream",
     "text": [
      "Loading model cost 1.079 seconds.\n",
      "Prefix dict has been built successfully.\n"
     ]
    },
    {
     "name": "stdout",
     "output_type": "stream",
     "text": [
      "poncc-debug: 17\n"
     ]
    },
    {
     "name": "stderr",
     "output_type": "stream",
     "text": [
      "Building prefix dict from /Users/poncc/Documents/GitHub/2nd-PyCrawlerMarathon/homework/day038/dict.user.big.txt ...\n",
      "Loading model from cache /var/folders/68/t9g86v0d0ys2rpbv_g1xxrph0000gn/T/jieba.u25b0b9ddcb92304ec71499048447de52.cache\n",
      "Loading model cost 1.143 seconds.\n",
      "Prefix dict has been built successfully.\n",
      "Building prefix dict from /Users/poncc/Documents/GitHub/2nd-PyCrawlerMarathon/homework/day038/dict.user.big.txt ...\n"
     ]
    },
    {
     "name": "stdout",
     "output_type": "stream",
     "text": [
      "poncc-debug: 18\n"
     ]
    },
    {
     "name": "stderr",
     "output_type": "stream",
     "text": [
      "Loading model from cache /var/folders/68/t9g86v0d0ys2rpbv_g1xxrph0000gn/T/jieba.u25b0b9ddcb92304ec71499048447de52.cache\n",
      "Loading model cost 1.076 seconds.\n",
      "Prefix dict has been built successfully.\n"
     ]
    },
    {
     "name": "stdout",
     "output_type": "stream",
     "text": [
      "poncc-debug: 19\n"
     ]
    },
    {
     "name": "stderr",
     "output_type": "stream",
     "text": [
      "Building prefix dict from /Users/poncc/Documents/GitHub/2nd-PyCrawlerMarathon/homework/day038/dict.user.big.txt ...\n",
      "Loading model from cache /var/folders/68/t9g86v0d0ys2rpbv_g1xxrph0000gn/T/jieba.u25b0b9ddcb92304ec71499048447de52.cache\n",
      "Loading model cost 1.038 seconds.\n",
      "Prefix dict has been built successfully.\n"
     ]
    },
    {
     "name": "stdout",
     "output_type": "stream",
     "text": [
      "poncc-debug: 20\n"
     ]
    },
    {
     "name": "stderr",
     "output_type": "stream",
     "text": [
      "Building prefix dict from /Users/poncc/Documents/GitHub/2nd-PyCrawlerMarathon/homework/day038/dict.user.big.txt ...\n",
      "Loading model from cache /var/folders/68/t9g86v0d0ys2rpbv_g1xxrph0000gn/T/jieba.u25b0b9ddcb92304ec71499048447de52.cache\n",
      "Loading model cost 1.033 seconds.\n",
      "Prefix dict has been built successfully.\n"
     ]
    },
    {
     "name": "stdout",
     "output_type": "stream",
     "text": [
      "poncc-debug: 21\n"
     ]
    },
    {
     "name": "stderr",
     "output_type": "stream",
     "text": [
      "Building prefix dict from /Users/poncc/Documents/GitHub/2nd-PyCrawlerMarathon/homework/day038/dict.user.big.txt ...\n",
      "Loading model from cache /var/folders/68/t9g86v0d0ys2rpbv_g1xxrph0000gn/T/jieba.u25b0b9ddcb92304ec71499048447de52.cache\n",
      "Loading model cost 1.042 seconds.\n",
      "Prefix dict has been built successfully.\n"
     ]
    },
    {
     "name": "stdout",
     "output_type": "stream",
     "text": [
      "poncc-debug: 22\n"
     ]
    },
    {
     "name": "stderr",
     "output_type": "stream",
     "text": [
      "Building prefix dict from /Users/poncc/Documents/GitHub/2nd-PyCrawlerMarathon/homework/day038/dict.user.big.txt ...\n",
      "Loading model from cache /var/folders/68/t9g86v0d0ys2rpbv_g1xxrph0000gn/T/jieba.u25b0b9ddcb92304ec71499048447de52.cache\n",
      "Loading model cost 0.996 seconds.\n",
      "Prefix dict has been built successfully.\n"
     ]
    },
    {
     "name": "stdout",
     "output_type": "stream",
     "text": [
      "poncc-debug: 23\n"
     ]
    },
    {
     "name": "stderr",
     "output_type": "stream",
     "text": [
      "Building prefix dict from /Users/poncc/Documents/GitHub/2nd-PyCrawlerMarathon/homework/day038/dict.user.big.txt ...\n",
      "Loading model from cache /var/folders/68/t9g86v0d0ys2rpbv_g1xxrph0000gn/T/jieba.u25b0b9ddcb92304ec71499048447de52.cache\n",
      "Loading model cost 1.025 seconds.\n",
      "Prefix dict has been built successfully.\n"
     ]
    },
    {
     "name": "stdout",
     "output_type": "stream",
     "text": [
      "poncc-debug: 24\n"
     ]
    },
    {
     "name": "stderr",
     "output_type": "stream",
     "text": [
      "Building prefix dict from /Users/poncc/Documents/GitHub/2nd-PyCrawlerMarathon/homework/day038/dict.user.big.txt ...\n",
      "Loading model from cache /var/folders/68/t9g86v0d0ys2rpbv_g1xxrph0000gn/T/jieba.u25b0b9ddcb92304ec71499048447de52.cache\n",
      "Loading model cost 1.012 seconds.\n",
      "Prefix dict has been built successfully.\n"
     ]
    },
    {
     "name": "stdout",
     "output_type": "stream",
     "text": [
      "poncc-debug: 25\n"
     ]
    },
    {
     "name": "stderr",
     "output_type": "stream",
     "text": [
      "Building prefix dict from /Users/poncc/Documents/GitHub/2nd-PyCrawlerMarathon/homework/day038/dict.user.big.txt ...\n",
      "Loading model from cache /var/folders/68/t9g86v0d0ys2rpbv_g1xxrph0000gn/T/jieba.u25b0b9ddcb92304ec71499048447de52.cache\n",
      "Loading model cost 1.080 seconds.\n",
      "Prefix dict has been built successfully.\n"
     ]
    },
    {
     "name": "stdout",
     "output_type": "stream",
     "text": [
      "poncc-debug: 26\n"
     ]
    },
    {
     "name": "stderr",
     "output_type": "stream",
     "text": [
      "Building prefix dict from /Users/poncc/Documents/GitHub/2nd-PyCrawlerMarathon/homework/day038/dict.user.big.txt ...\n",
      "Loading model from cache /var/folders/68/t9g86v0d0ys2rpbv_g1xxrph0000gn/T/jieba.u25b0b9ddcb92304ec71499048447de52.cache\n",
      "Loading model cost 1.021 seconds.\n",
      "Prefix dict has been built successfully.\n"
     ]
    },
    {
     "name": "stdout",
     "output_type": "stream",
     "text": [
      "poncc-debug: 27\n"
     ]
    },
    {
     "name": "stderr",
     "output_type": "stream",
     "text": [
      "Building prefix dict from /Users/poncc/Documents/GitHub/2nd-PyCrawlerMarathon/homework/day038/dict.user.big.txt ...\n",
      "Loading model from cache /var/folders/68/t9g86v0d0ys2rpbv_g1xxrph0000gn/T/jieba.u25b0b9ddcb92304ec71499048447de52.cache\n",
      "Loading model cost 1.082 seconds.\n",
      "Prefix dict has been built successfully.\n"
     ]
    },
    {
     "name": "stdout",
     "output_type": "stream",
     "text": [
      "poncc-debug: 28\n"
     ]
    },
    {
     "name": "stderr",
     "output_type": "stream",
     "text": [
      "Building prefix dict from /Users/poncc/Documents/GitHub/2nd-PyCrawlerMarathon/homework/day038/dict.user.big.txt ...\n",
      "Loading model from cache /var/folders/68/t9g86v0d0ys2rpbv_g1xxrph0000gn/T/jieba.u25b0b9ddcb92304ec71499048447de52.cache\n",
      "Loading model cost 1.030 seconds.\n",
      "Prefix dict has been built successfully.\n"
     ]
    },
    {
     "name": "stdout",
     "output_type": "stream",
     "text": [
      "poncc-debug: 29\n"
     ]
    },
    {
     "name": "stderr",
     "output_type": "stream",
     "text": [
      "Building prefix dict from /Users/poncc/Documents/GitHub/2nd-PyCrawlerMarathon/homework/day038/dict.user.big.txt ...\n",
      "Loading model from cache /var/folders/68/t9g86v0d0ys2rpbv_g1xxrph0000gn/T/jieba.u25b0b9ddcb92304ec71499048447de52.cache\n",
      "Loading model cost 1.067 seconds.\n",
      "Prefix dict has been built successfully.\n",
      "Building prefix dict from /Users/poncc/Documents/GitHub/2nd-PyCrawlerMarathon/homework/day038/dict.user.big.txt ...\n"
     ]
    },
    {
     "name": "stdout",
     "output_type": "stream",
     "text": [
      "poncc-debug: 30\n"
     ]
    },
    {
     "name": "stderr",
     "output_type": "stream",
     "text": [
      "Loading model from cache /var/folders/68/t9g86v0d0ys2rpbv_g1xxrph0000gn/T/jieba.u25b0b9ddcb92304ec71499048447de52.cache\n",
      "Loading model cost 0.990 seconds.\n",
      "Prefix dict has been built successfully.\n"
     ]
    },
    {
     "name": "stdout",
     "output_type": "stream",
     "text": [
      "poncc-debug: 31\n"
     ]
    },
    {
     "name": "stderr",
     "output_type": "stream",
     "text": [
      "Building prefix dict from /Users/poncc/Documents/GitHub/2nd-PyCrawlerMarathon/homework/day038/dict.user.big.txt ...\n",
      "Loading model from cache /var/folders/68/t9g86v0d0ys2rpbv_g1xxrph0000gn/T/jieba.u25b0b9ddcb92304ec71499048447de52.cache\n",
      "Loading model cost 1.037 seconds.\n",
      "Prefix dict has been built successfully.\n"
     ]
    },
    {
     "name": "stdout",
     "output_type": "stream",
     "text": [
      "poncc-debug: 32\n"
     ]
    },
    {
     "name": "stderr",
     "output_type": "stream",
     "text": [
      "Building prefix dict from /Users/poncc/Documents/GitHub/2nd-PyCrawlerMarathon/homework/day038/dict.user.big.txt ...\n",
      "Loading model from cache /var/folders/68/t9g86v0d0ys2rpbv_g1xxrph0000gn/T/jieba.u25b0b9ddcb92304ec71499048447de52.cache\n",
      "Loading model cost 1.033 seconds.\n",
      "Prefix dict has been built successfully.\n"
     ]
    },
    {
     "name": "stdout",
     "output_type": "stream",
     "text": [
      "poncc-debug: 33\n"
     ]
    },
    {
     "name": "stderr",
     "output_type": "stream",
     "text": [
      "Building prefix dict from /Users/poncc/Documents/GitHub/2nd-PyCrawlerMarathon/homework/day038/dict.user.big.txt ...\n",
      "Loading model from cache /var/folders/68/t9g86v0d0ys2rpbv_g1xxrph0000gn/T/jieba.u25b0b9ddcb92304ec71499048447de52.cache\n",
      "Loading model cost 1.036 seconds.\n",
      "Prefix dict has been built successfully.\n"
     ]
    },
    {
     "name": "stdout",
     "output_type": "stream",
     "text": [
      "poncc-debug: 34\n"
     ]
    },
    {
     "name": "stderr",
     "output_type": "stream",
     "text": [
      "Building prefix dict from /Users/poncc/Documents/GitHub/2nd-PyCrawlerMarathon/homework/day038/dict.user.big.txt ...\n",
      "Loading model from cache /var/folders/68/t9g86v0d0ys2rpbv_g1xxrph0000gn/T/jieba.u25b0b9ddcb92304ec71499048447de52.cache\n",
      "Loading model cost 1.005 seconds.\n",
      "Prefix dict has been built successfully.\n",
      "Building prefix dict from /Users/poncc/Documents/GitHub/2nd-PyCrawlerMarathon/homework/day038/dict.user.big.txt ...\n"
     ]
    },
    {
     "name": "stdout",
     "output_type": "stream",
     "text": [
      "poncc-debug: 35\n"
     ]
    },
    {
     "name": "stderr",
     "output_type": "stream",
     "text": [
      "Loading model from cache /var/folders/68/t9g86v0d0ys2rpbv_g1xxrph0000gn/T/jieba.u25b0b9ddcb92304ec71499048447de52.cache\n",
      "Loading model cost 1.046 seconds.\n",
      "Prefix dict has been built successfully.\n"
     ]
    },
    {
     "name": "stdout",
     "output_type": "stream",
     "text": [
      "poncc-debug: 36\n"
     ]
    },
    {
     "name": "stderr",
     "output_type": "stream",
     "text": [
      "Building prefix dict from /Users/poncc/Documents/GitHub/2nd-PyCrawlerMarathon/homework/day038/dict.user.big.txt ...\n",
      "Loading model from cache /var/folders/68/t9g86v0d0ys2rpbv_g1xxrph0000gn/T/jieba.u25b0b9ddcb92304ec71499048447de52.cache\n",
      "Loading model cost 1.015 seconds.\n",
      "Prefix dict has been built successfully.\n"
     ]
    },
    {
     "name": "stdout",
     "output_type": "stream",
     "text": [
      "poncc-debug: 37\n"
     ]
    },
    {
     "name": "stderr",
     "output_type": "stream",
     "text": [
      "Building prefix dict from /Users/poncc/Documents/GitHub/2nd-PyCrawlerMarathon/homework/day038/dict.user.big.txt ...\n",
      "Loading model from cache /var/folders/68/t9g86v0d0ys2rpbv_g1xxrph0000gn/T/jieba.u25b0b9ddcb92304ec71499048447de52.cache\n",
      "Loading model cost 1.037 seconds.\n",
      "Prefix dict has been built successfully.\n"
     ]
    },
    {
     "name": "stdout",
     "output_type": "stream",
     "text": [
      "poncc-debug: 38\n"
     ]
    },
    {
     "name": "stderr",
     "output_type": "stream",
     "text": [
      "Building prefix dict from /Users/poncc/Documents/GitHub/2nd-PyCrawlerMarathon/homework/day038/dict.user.big.txt ...\n",
      "Loading model from cache /var/folders/68/t9g86v0d0ys2rpbv_g1xxrph0000gn/T/jieba.u25b0b9ddcb92304ec71499048447de52.cache\n",
      "Loading model cost 1.003 seconds.\n",
      "Prefix dict has been built successfully.\n"
     ]
    },
    {
     "name": "stdout",
     "output_type": "stream",
     "text": [
      "poncc-debug: 39\n"
     ]
    },
    {
     "name": "stderr",
     "output_type": "stream",
     "text": [
      "Building prefix dict from /Users/poncc/Documents/GitHub/2nd-PyCrawlerMarathon/homework/day038/dict.user.big.txt ...\n",
      "Loading model from cache /var/folders/68/t9g86v0d0ys2rpbv_g1xxrph0000gn/T/jieba.u25b0b9ddcb92304ec71499048447de52.cache\n",
      "Loading model cost 1.027 seconds.\n",
      "Prefix dict has been built successfully.\n"
     ]
    },
    {
     "name": "stdout",
     "output_type": "stream",
     "text": [
      "poncc-debug: 40\n"
     ]
    },
    {
     "name": "stderr",
     "output_type": "stream",
     "text": [
      "Building prefix dict from /Users/poncc/Documents/GitHub/2nd-PyCrawlerMarathon/homework/day038/dict.user.big.txt ...\n",
      "Loading model from cache /var/folders/68/t9g86v0d0ys2rpbv_g1xxrph0000gn/T/jieba.u25b0b9ddcb92304ec71499048447de52.cache\n",
      "Loading model cost 1.016 seconds.\n",
      "Prefix dict has been built successfully.\n",
      "Building prefix dict from /Users/poncc/Documents/GitHub/2nd-PyCrawlerMarathon/homework/day038/dict.user.big.txt ...\n"
     ]
    },
    {
     "name": "stdout",
     "output_type": "stream",
     "text": [
      "poncc-debug: 41\n"
     ]
    },
    {
     "name": "stderr",
     "output_type": "stream",
     "text": [
      "Loading model from cache /var/folders/68/t9g86v0d0ys2rpbv_g1xxrph0000gn/T/jieba.u25b0b9ddcb92304ec71499048447de52.cache\n",
      "Loading model cost 1.045 seconds.\n",
      "Prefix dict has been built successfully.\n"
     ]
    },
    {
     "name": "stdout",
     "output_type": "stream",
     "text": [
      "poncc-debug: 42\n"
     ]
    },
    {
     "name": "stderr",
     "output_type": "stream",
     "text": [
      "Building prefix dict from /Users/poncc/Documents/GitHub/2nd-PyCrawlerMarathon/homework/day038/dict.user.big.txt ...\n",
      "Loading model from cache /var/folders/68/t9g86v0d0ys2rpbv_g1xxrph0000gn/T/jieba.u25b0b9ddcb92304ec71499048447de52.cache\n",
      "Loading model cost 1.022 seconds.\n",
      "Prefix dict has been built successfully.\n",
      "Building prefix dict from /Users/poncc/Documents/GitHub/2nd-PyCrawlerMarathon/homework/day038/dict.user.big.txt ...\n",
      "Loading model from cache /var/folders/68/t9g86v0d0ys2rpbv_g1xxrph0000gn/T/jieba.u25b0b9ddcb92304ec71499048447de52.cache\n"
     ]
    },
    {
     "name": "stdout",
     "output_type": "stream",
     "text": [
      "poncc-debug: 43\n"
     ]
    },
    {
     "name": "stderr",
     "output_type": "stream",
     "text": [
      "Loading model cost 1.061 seconds.\n",
      "Prefix dict has been built successfully.\n"
     ]
    },
    {
     "name": "stdout",
     "output_type": "stream",
     "text": [
      "poncc-debug: 44\n"
     ]
    },
    {
     "name": "stderr",
     "output_type": "stream",
     "text": [
      "Building prefix dict from /Users/poncc/Documents/GitHub/2nd-PyCrawlerMarathon/homework/day038/dict.user.big.txt ...\n",
      "Loading model from cache /var/folders/68/t9g86v0d0ys2rpbv_g1xxrph0000gn/T/jieba.u25b0b9ddcb92304ec71499048447de52.cache\n",
      "Loading model cost 1.014 seconds.\n",
      "Prefix dict has been built successfully.\n"
     ]
    },
    {
     "name": "stdout",
     "output_type": "stream",
     "text": [
      "poncc-debug: 45\n"
     ]
    },
    {
     "name": "stderr",
     "output_type": "stream",
     "text": [
      "Building prefix dict from /Users/poncc/Documents/GitHub/2nd-PyCrawlerMarathon/homework/day038/dict.user.big.txt ...\n",
      "Loading model from cache /var/folders/68/t9g86v0d0ys2rpbv_g1xxrph0000gn/T/jieba.u25b0b9ddcb92304ec71499048447de52.cache\n",
      "Loading model cost 1.047 seconds.\n",
      "Prefix dict has been built successfully.\n"
     ]
    },
    {
     "name": "stdout",
     "output_type": "stream",
     "text": [
      "poncc-debug: 46\n"
     ]
    },
    {
     "name": "stderr",
     "output_type": "stream",
     "text": [
      "Building prefix dict from /Users/poncc/Documents/GitHub/2nd-PyCrawlerMarathon/homework/day038/dict.user.big.txt ...\n",
      "Loading model from cache /var/folders/68/t9g86v0d0ys2rpbv_g1xxrph0000gn/T/jieba.u25b0b9ddcb92304ec71499048447de52.cache\n",
      "Loading model cost 1.004 seconds.\n",
      "Prefix dict has been built successfully.\n"
     ]
    },
    {
     "name": "stdout",
     "output_type": "stream",
     "text": [
      "poncc-debug: 47\n"
     ]
    },
    {
     "name": "stderr",
     "output_type": "stream",
     "text": [
      "Building prefix dict from /Users/poncc/Documents/GitHub/2nd-PyCrawlerMarathon/homework/day038/dict.user.big.txt ...\n",
      "Loading model from cache /var/folders/68/t9g86v0d0ys2rpbv_g1xxrph0000gn/T/jieba.u25b0b9ddcb92304ec71499048447de52.cache\n",
      "Loading model cost 1.047 seconds.\n",
      "Prefix dict has been built successfully.\n"
     ]
    },
    {
     "name": "stdout",
     "output_type": "stream",
     "text": [
      "poncc-debug: 48\n"
     ]
    },
    {
     "name": "stderr",
     "output_type": "stream",
     "text": [
      "Building prefix dict from /Users/poncc/Documents/GitHub/2nd-PyCrawlerMarathon/homework/day038/dict.user.big.txt ...\n",
      "Loading model from cache /var/folders/68/t9g86v0d0ys2rpbv_g1xxrph0000gn/T/jieba.u25b0b9ddcb92304ec71499048447de52.cache\n",
      "Loading model cost 1.030 seconds.\n",
      "Prefix dict has been built successfully.\n"
     ]
    },
    {
     "name": "stdout",
     "output_type": "stream",
     "text": [
      "poncc-debug: 49\n"
     ]
    },
    {
     "name": "stderr",
     "output_type": "stream",
     "text": [
      "Building prefix dict from /Users/poncc/Documents/GitHub/2nd-PyCrawlerMarathon/homework/day038/dict.user.big.txt ...\n",
      "Loading model from cache /var/folders/68/t9g86v0d0ys2rpbv_g1xxrph0000gn/T/jieba.u25b0b9ddcb92304ec71499048447de52.cache\n",
      "Loading model cost 1.044 seconds.\n",
      "Prefix dict has been built successfully.\n"
     ]
    },
    {
     "name": "stdout",
     "output_type": "stream",
     "text": [
      "poncc-debug: 50\n"
     ]
    },
    {
     "name": "stderr",
     "output_type": "stream",
     "text": [
      "Building prefix dict from /Users/poncc/Documents/GitHub/2nd-PyCrawlerMarathon/homework/day038/dict.user.big.txt ...\n",
      "Loading model from cache /var/folders/68/t9g86v0d0ys2rpbv_g1xxrph0000gn/T/jieba.u25b0b9ddcb92304ec71499048447de52.cache\n",
      "Loading model cost 0.997 seconds.\n",
      "Prefix dict has been built successfully.\n"
     ]
    },
    {
     "name": "stdout",
     "output_type": "stream",
     "text": [
      "poncc-debug: 51\n"
     ]
    },
    {
     "name": "stderr",
     "output_type": "stream",
     "text": [
      "Building prefix dict from /Users/poncc/Documents/GitHub/2nd-PyCrawlerMarathon/homework/day038/dict.user.big.txt ...\n",
      "Loading model from cache /var/folders/68/t9g86v0d0ys2rpbv_g1xxrph0000gn/T/jieba.u25b0b9ddcb92304ec71499048447de52.cache\n",
      "Loading model cost 1.051 seconds.\n",
      "Prefix dict has been built successfully.\n"
     ]
    },
    {
     "name": "stdout",
     "output_type": "stream",
     "text": [
      "poncc-debug: 52\n"
     ]
    },
    {
     "name": "stderr",
     "output_type": "stream",
     "text": [
      "Building prefix dict from /Users/poncc/Documents/GitHub/2nd-PyCrawlerMarathon/homework/day038/dict.user.big.txt ...\n",
      "Loading model from cache /var/folders/68/t9g86v0d0ys2rpbv_g1xxrph0000gn/T/jieba.u25b0b9ddcb92304ec71499048447de52.cache\n",
      "Loading model cost 1.029 seconds.\n",
      "Prefix dict has been built successfully.\n"
     ]
    },
    {
     "name": "stdout",
     "output_type": "stream",
     "text": [
      "poncc-debug: 53\n"
     ]
    },
    {
     "name": "stderr",
     "output_type": "stream",
     "text": [
      "Building prefix dict from /Users/poncc/Documents/GitHub/2nd-PyCrawlerMarathon/homework/day038/dict.user.big.txt ...\n",
      "Loading model from cache /var/folders/68/t9g86v0d0ys2rpbv_g1xxrph0000gn/T/jieba.u25b0b9ddcb92304ec71499048447de52.cache\n",
      "Loading model cost 1.029 seconds.\n",
      "Prefix dict has been built successfully.\n"
     ]
    },
    {
     "name": "stdout",
     "output_type": "stream",
     "text": [
      "poncc-debug: 54\n"
     ]
    },
    {
     "name": "stderr",
     "output_type": "stream",
     "text": [
      "Building prefix dict from /Users/poncc/Documents/GitHub/2nd-PyCrawlerMarathon/homework/day038/dict.user.big.txt ...\n",
      "Loading model from cache /var/folders/68/t9g86v0d0ys2rpbv_g1xxrph0000gn/T/jieba.u25b0b9ddcb92304ec71499048447de52.cache\n",
      "Loading model cost 1.014 seconds.\n",
      "Prefix dict has been built successfully.\n"
     ]
    },
    {
     "name": "stdout",
     "output_type": "stream",
     "text": [
      "poncc-debug: 55\n"
     ]
    },
    {
     "name": "stderr",
     "output_type": "stream",
     "text": [
      "Building prefix dict from /Users/poncc/Documents/GitHub/2nd-PyCrawlerMarathon/homework/day038/dict.user.big.txt ...\n",
      "Loading model from cache /var/folders/68/t9g86v0d0ys2rpbv_g1xxrph0000gn/T/jieba.u25b0b9ddcb92304ec71499048447de52.cache\n",
      "Loading model cost 1.034 seconds.\n",
      "Prefix dict has been built successfully.\n"
     ]
    },
    {
     "name": "stdout",
     "output_type": "stream",
     "text": [
      "poncc-debug: 56\n"
     ]
    },
    {
     "name": "stderr",
     "output_type": "stream",
     "text": [
      "Building prefix dict from /Users/poncc/Documents/GitHub/2nd-PyCrawlerMarathon/homework/day038/dict.user.big.txt ...\n",
      "Loading model from cache /var/folders/68/t9g86v0d0ys2rpbv_g1xxrph0000gn/T/jieba.u25b0b9ddcb92304ec71499048447de52.cache\n",
      "Loading model cost 1.033 seconds.\n",
      "Prefix dict has been built successfully.\n"
     ]
    },
    {
     "name": "stdout",
     "output_type": "stream",
     "text": [
      "poncc-debug: 57\n"
     ]
    },
    {
     "name": "stderr",
     "output_type": "stream",
     "text": [
      "Building prefix dict from /Users/poncc/Documents/GitHub/2nd-PyCrawlerMarathon/homework/day038/dict.user.big.txt ...\n",
      "Loading model from cache /var/folders/68/t9g86v0d0ys2rpbv_g1xxrph0000gn/T/jieba.u25b0b9ddcb92304ec71499048447de52.cache\n",
      "Loading model cost 1.030 seconds.\n",
      "Prefix dict has been built successfully.\n"
     ]
    },
    {
     "name": "stdout",
     "output_type": "stream",
     "text": [
      "poncc-debug: 58\n"
     ]
    },
    {
     "name": "stderr",
     "output_type": "stream",
     "text": [
      "Building prefix dict from /Users/poncc/Documents/GitHub/2nd-PyCrawlerMarathon/homework/day038/dict.user.big.txt ...\n",
      "Loading model from cache /var/folders/68/t9g86v0d0ys2rpbv_g1xxrph0000gn/T/jieba.u25b0b9ddcb92304ec71499048447de52.cache\n",
      "Loading model cost 0.999 seconds.\n",
      "Prefix dict has been built successfully.\n"
     ]
    },
    {
     "name": "stdout",
     "output_type": "stream",
     "text": [
      "poncc-debug: 59\n"
     ]
    },
    {
     "name": "stderr",
     "output_type": "stream",
     "text": [
      "Building prefix dict from /Users/poncc/Documents/GitHub/2nd-PyCrawlerMarathon/homework/day038/dict.user.big.txt ...\n",
      "Loading model from cache /var/folders/68/t9g86v0d0ys2rpbv_g1xxrph0000gn/T/jieba.u25b0b9ddcb92304ec71499048447de52.cache\n",
      "Loading model cost 1.072 seconds.\n",
      "Prefix dict has been built successfully.\n"
     ]
    },
    {
     "name": "stdout",
     "output_type": "stream",
     "text": [
      "poncc-debug: 60\n"
     ]
    },
    {
     "name": "stderr",
     "output_type": "stream",
     "text": [
      "Building prefix dict from /Users/poncc/Documents/GitHub/2nd-PyCrawlerMarathon/homework/day038/dict.user.big.txt ...\n",
      "Loading model from cache /var/folders/68/t9g86v0d0ys2rpbv_g1xxrph0000gn/T/jieba.u25b0b9ddcb92304ec71499048447de52.cache\n",
      "Loading model cost 1.018 seconds.\n",
      "Prefix dict has been built successfully.\n"
     ]
    },
    {
     "name": "stdout",
     "output_type": "stream",
     "text": [
      "poncc-debug: 61\n"
     ]
    },
    {
     "name": "stderr",
     "output_type": "stream",
     "text": [
      "Building prefix dict from /Users/poncc/Documents/GitHub/2nd-PyCrawlerMarathon/homework/day038/dict.user.big.txt ...\n",
      "Loading model from cache /var/folders/68/t9g86v0d0ys2rpbv_g1xxrph0000gn/T/jieba.u25b0b9ddcb92304ec71499048447de52.cache\n",
      "Loading model cost 1.052 seconds.\n",
      "Prefix dict has been built successfully.\n"
     ]
    },
    {
     "name": "stdout",
     "output_type": "stream",
     "text": [
      "poncc-debug: 62\n"
     ]
    },
    {
     "name": "stderr",
     "output_type": "stream",
     "text": [
      "Building prefix dict from /Users/poncc/Documents/GitHub/2nd-PyCrawlerMarathon/homework/day038/dict.user.big.txt ...\n",
      "Loading model from cache /var/folders/68/t9g86v0d0ys2rpbv_g1xxrph0000gn/T/jieba.u25b0b9ddcb92304ec71499048447de52.cache\n",
      "Loading model cost 1.030 seconds.\n",
      "Prefix dict has been built successfully.\n"
     ]
    },
    {
     "name": "stdout",
     "output_type": "stream",
     "text": [
      "poncc-debug: 63\n"
     ]
    },
    {
     "name": "stderr",
     "output_type": "stream",
     "text": [
      "Building prefix dict from /Users/poncc/Documents/GitHub/2nd-PyCrawlerMarathon/homework/day038/dict.user.big.txt ...\n",
      "Loading model from cache /var/folders/68/t9g86v0d0ys2rpbv_g1xxrph0000gn/T/jieba.u25b0b9ddcb92304ec71499048447de52.cache\n",
      "Loading model cost 1.046 seconds.\n",
      "Prefix dict has been built successfully.\n"
     ]
    },
    {
     "name": "stdout",
     "output_type": "stream",
     "text": [
      "poncc-debug: 64\n"
     ]
    },
    {
     "name": "stderr",
     "output_type": "stream",
     "text": [
      "Building prefix dict from /Users/poncc/Documents/GitHub/2nd-PyCrawlerMarathon/homework/day038/dict.user.big.txt ...\n",
      "Loading model from cache /var/folders/68/t9g86v0d0ys2rpbv_g1xxrph0000gn/T/jieba.u25b0b9ddcb92304ec71499048447de52.cache\n",
      "Loading model cost 1.017 seconds.\n",
      "Prefix dict has been built successfully.\n"
     ]
    },
    {
     "name": "stdout",
     "output_type": "stream",
     "text": [
      "poncc-debug: 65\n"
     ]
    },
    {
     "name": "stderr",
     "output_type": "stream",
     "text": [
      "Building prefix dict from /Users/poncc/Documents/GitHub/2nd-PyCrawlerMarathon/homework/day038/dict.user.big.txt ...\n",
      "Loading model from cache /var/folders/68/t9g86v0d0ys2rpbv_g1xxrph0000gn/T/jieba.u25b0b9ddcb92304ec71499048447de52.cache\n",
      "Loading model cost 1.043 seconds.\n",
      "Prefix dict has been built successfully.\n"
     ]
    },
    {
     "name": "stdout",
     "output_type": "stream",
     "text": [
      "poncc-debug: 66\n"
     ]
    },
    {
     "name": "stderr",
     "output_type": "stream",
     "text": [
      "Building prefix dict from /Users/poncc/Documents/GitHub/2nd-PyCrawlerMarathon/homework/day038/dict.user.big.txt ...\n",
      "Loading model from cache /var/folders/68/t9g86v0d0ys2rpbv_g1xxrph0000gn/T/jieba.u25b0b9ddcb92304ec71499048447de52.cache\n",
      "Loading model cost 1.017 seconds.\n",
      "Prefix dict has been built successfully.\n",
      "Building prefix dict from /Users/poncc/Documents/GitHub/2nd-PyCrawlerMarathon/homework/day038/dict.user.big.txt ...\n",
      "Loading model from cache /var/folders/68/t9g86v0d0ys2rpbv_g1xxrph0000gn/T/jieba.u25b0b9ddcb92304ec71499048447de52.cache\n"
     ]
    },
    {
     "name": "stdout",
     "output_type": "stream",
     "text": [
      "poncc-debug: 67\n"
     ]
    },
    {
     "name": "stderr",
     "output_type": "stream",
     "text": [
      "Loading model cost 1.044 seconds.\n",
      "Prefix dict has been built successfully.\n"
     ]
    },
    {
     "name": "stdout",
     "output_type": "stream",
     "text": [
      "poncc-debug: 68\n"
     ]
    },
    {
     "name": "stderr",
     "output_type": "stream",
     "text": [
      "Building prefix dict from /Users/poncc/Documents/GitHub/2nd-PyCrawlerMarathon/homework/day038/dict.user.big.txt ...\n",
      "Loading model from cache /var/folders/68/t9g86v0d0ys2rpbv_g1xxrph0000gn/T/jieba.u25b0b9ddcb92304ec71499048447de52.cache\n",
      "Loading model cost 1.034 seconds.\n",
      "Prefix dict has been built successfully.\n"
     ]
    },
    {
     "name": "stdout",
     "output_type": "stream",
     "text": [
      "poncc-debug: 69\n"
     ]
    },
    {
     "name": "stderr",
     "output_type": "stream",
     "text": [
      "Building prefix dict from /Users/poncc/Documents/GitHub/2nd-PyCrawlerMarathon/homework/day038/dict.user.big.txt ...\n",
      "Loading model from cache /var/folders/68/t9g86v0d0ys2rpbv_g1xxrph0000gn/T/jieba.u25b0b9ddcb92304ec71499048447de52.cache\n",
      "Loading model cost 1.031 seconds.\n",
      "Prefix dict has been built successfully.\n"
     ]
    },
    {
     "name": "stdout",
     "output_type": "stream",
     "text": [
      "poncc-debug: 70\n"
     ]
    },
    {
     "name": "stderr",
     "output_type": "stream",
     "text": [
      "Building prefix dict from /Users/poncc/Documents/GitHub/2nd-PyCrawlerMarathon/homework/day038/dict.user.big.txt ...\n",
      "Loading model from cache /var/folders/68/t9g86v0d0ys2rpbv_g1xxrph0000gn/T/jieba.u25b0b9ddcb92304ec71499048447de52.cache\n",
      "Loading model cost 0.999 seconds.\n",
      "Prefix dict has been built successfully.\n"
     ]
    },
    {
     "name": "stdout",
     "output_type": "stream",
     "text": [
      "poncc-debug: 71\n"
     ]
    },
    {
     "name": "stderr",
     "output_type": "stream",
     "text": [
      "Building prefix dict from /Users/poncc/Documents/GitHub/2nd-PyCrawlerMarathon/homework/day038/dict.user.big.txt ...\n",
      "Loading model from cache /var/folders/68/t9g86v0d0ys2rpbv_g1xxrph0000gn/T/jieba.u25b0b9ddcb92304ec71499048447de52.cache\n",
      "Loading model cost 1.039 seconds.\n",
      "Prefix dict has been built successfully.\n"
     ]
    },
    {
     "name": "stdout",
     "output_type": "stream",
     "text": [
      "poncc-debug: 72\n"
     ]
    },
    {
     "name": "stderr",
     "output_type": "stream",
     "text": [
      "Building prefix dict from /Users/poncc/Documents/GitHub/2nd-PyCrawlerMarathon/homework/day038/dict.user.big.txt ...\n",
      "Loading model from cache /var/folders/68/t9g86v0d0ys2rpbv_g1xxrph0000gn/T/jieba.u25b0b9ddcb92304ec71499048447de52.cache\n",
      "Loading model cost 1.018 seconds.\n",
      "Prefix dict has been built successfully.\n"
     ]
    },
    {
     "name": "stdout",
     "output_type": "stream",
     "text": [
      "poncc-debug: 73\n"
     ]
    },
    {
     "name": "stderr",
     "output_type": "stream",
     "text": [
      "Building prefix dict from /Users/poncc/Documents/GitHub/2nd-PyCrawlerMarathon/homework/day038/dict.user.big.txt ...\n",
      "Loading model from cache /var/folders/68/t9g86v0d0ys2rpbv_g1xxrph0000gn/T/jieba.u25b0b9ddcb92304ec71499048447de52.cache\n",
      "Loading model cost 1.042 seconds.\n",
      "Prefix dict has been built successfully.\n",
      "Building prefix dict from /Users/poncc/Documents/GitHub/2nd-PyCrawlerMarathon/homework/day038/dict.user.big.txt ...\n",
      "Loading model from cache /var/folders/68/t9g86v0d0ys2rpbv_g1xxrph0000gn/T/jieba.u25b0b9ddcb92304ec71499048447de52.cache\n"
     ]
    },
    {
     "name": "stdout",
     "output_type": "stream",
     "text": [
      "poncc-debug: 74\n"
     ]
    },
    {
     "name": "stderr",
     "output_type": "stream",
     "text": [
      "Loading model cost 1.015 seconds.\n",
      "Prefix dict has been built successfully.\n"
     ]
    },
    {
     "name": "stdout",
     "output_type": "stream",
     "text": [
      "poncc-debug: 75\n"
     ]
    },
    {
     "name": "stderr",
     "output_type": "stream",
     "text": [
      "Building prefix dict from /Users/poncc/Documents/GitHub/2nd-PyCrawlerMarathon/homework/day038/dict.user.big.txt ...\n",
      "Loading model from cache /var/folders/68/t9g86v0d0ys2rpbv_g1xxrph0000gn/T/jieba.u25b0b9ddcb92304ec71499048447de52.cache\n",
      "Loading model cost 1.050 seconds.\n",
      "Prefix dict has been built successfully.\n"
     ]
    },
    {
     "name": "stdout",
     "output_type": "stream",
     "text": [
      "poncc-debug: 76\n"
     ]
    },
    {
     "name": "stderr",
     "output_type": "stream",
     "text": [
      "Building prefix dict from /Users/poncc/Documents/GitHub/2nd-PyCrawlerMarathon/homework/day038/dict.user.big.txt ...\n",
      "Loading model from cache /var/folders/68/t9g86v0d0ys2rpbv_g1xxrph0000gn/T/jieba.u25b0b9ddcb92304ec71499048447de52.cache\n",
      "Loading model cost 1.019 seconds.\n",
      "Prefix dict has been built successfully.\n"
     ]
    },
    {
     "name": "stdout",
     "output_type": "stream",
     "text": [
      "poncc-debug: 77\n"
     ]
    },
    {
     "name": "stderr",
     "output_type": "stream",
     "text": [
      "Building prefix dict from /Users/poncc/Documents/GitHub/2nd-PyCrawlerMarathon/homework/day038/dict.user.big.txt ...\n",
      "Loading model from cache /var/folders/68/t9g86v0d0ys2rpbv_g1xxrph0000gn/T/jieba.u25b0b9ddcb92304ec71499048447de52.cache\n",
      "Loading model cost 1.039 seconds.\n",
      "Prefix dict has been built successfully.\n"
     ]
    },
    {
     "name": "stdout",
     "output_type": "stream",
     "text": [
      "poncc-debug: 78\n"
     ]
    },
    {
     "name": "stderr",
     "output_type": "stream",
     "text": [
      "Building prefix dict from /Users/poncc/Documents/GitHub/2nd-PyCrawlerMarathon/homework/day038/dict.user.big.txt ...\n",
      "Loading model from cache /var/folders/68/t9g86v0d0ys2rpbv_g1xxrph0000gn/T/jieba.u25b0b9ddcb92304ec71499048447de52.cache\n",
      "Loading model cost 1.017 seconds.\n",
      "Prefix dict has been built successfully.\n"
     ]
    },
    {
     "name": "stdout",
     "output_type": "stream",
     "text": [
      "poncc-debug: 79\n"
     ]
    },
    {
     "name": "stderr",
     "output_type": "stream",
     "text": [
      "Building prefix dict from /Users/poncc/Documents/GitHub/2nd-PyCrawlerMarathon/homework/day038/dict.user.big.txt ...\n",
      "Loading model from cache /var/folders/68/t9g86v0d0ys2rpbv_g1xxrph0000gn/T/jieba.u25b0b9ddcb92304ec71499048447de52.cache\n",
      "Loading model cost 1.066 seconds.\n",
      "Prefix dict has been built successfully.\n",
      "Building prefix dict from /Users/poncc/Documents/GitHub/2nd-PyCrawlerMarathon/homework/day038/dict.user.big.txt ...\n",
      "Loading model from cache /var/folders/68/t9g86v0d0ys2rpbv_g1xxrph0000gn/T/jieba.u25b0b9ddcb92304ec71499048447de52.cache\n"
     ]
    },
    {
     "name": "stdout",
     "output_type": "stream",
     "text": [
      "poncc-debug: 80\n"
     ]
    },
    {
     "name": "stderr",
     "output_type": "stream",
     "text": [
      "Loading model cost 1.079 seconds.\n",
      "Prefix dict has been built successfully.\n"
     ]
    },
    {
     "name": "stdout",
     "output_type": "stream",
     "text": [
      "poncc-debug: 81\n"
     ]
    },
    {
     "name": "stderr",
     "output_type": "stream",
     "text": [
      "Building prefix dict from /Users/poncc/Documents/GitHub/2nd-PyCrawlerMarathon/homework/day038/dict.user.big.txt ...\n",
      "Loading model from cache /var/folders/68/t9g86v0d0ys2rpbv_g1xxrph0000gn/T/jieba.u25b0b9ddcb92304ec71499048447de52.cache\n",
      "Loading model cost 1.091 seconds.\n",
      "Prefix dict has been built successfully.\n"
     ]
    },
    {
     "name": "stdout",
     "output_type": "stream",
     "text": [
      "poncc-debug: 82\n"
     ]
    },
    {
     "name": "stderr",
     "output_type": "stream",
     "text": [
      "Building prefix dict from /Users/poncc/Documents/GitHub/2nd-PyCrawlerMarathon/homework/day038/dict.user.big.txt ...\n",
      "Loading model from cache /var/folders/68/t9g86v0d0ys2rpbv_g1xxrph0000gn/T/jieba.u25b0b9ddcb92304ec71499048447de52.cache\n",
      "Loading model cost 0.999 seconds.\n",
      "Prefix dict has been built successfully.\n"
     ]
    },
    {
     "name": "stdout",
     "output_type": "stream",
     "text": [
      "poncc-debug: 83\n"
     ]
    },
    {
     "name": "stderr",
     "output_type": "stream",
     "text": [
      "Building prefix dict from /Users/poncc/Documents/GitHub/2nd-PyCrawlerMarathon/homework/day038/dict.user.big.txt ...\n",
      "Loading model from cache /var/folders/68/t9g86v0d0ys2rpbv_g1xxrph0000gn/T/jieba.u25b0b9ddcb92304ec71499048447de52.cache\n",
      "Loading model cost 1.034 seconds.\n",
      "Prefix dict has been built successfully.\n",
      "Building prefix dict from /Users/poncc/Documents/GitHub/2nd-PyCrawlerMarathon/homework/day038/dict.user.big.txt ...\n",
      "Loading model from cache /var/folders/68/t9g86v0d0ys2rpbv_g1xxrph0000gn/T/jieba.u25b0b9ddcb92304ec71499048447de52.cache\n"
     ]
    },
    {
     "name": "stdout",
     "output_type": "stream",
     "text": [
      "poncc-debug: 84\n"
     ]
    },
    {
     "name": "stderr",
     "output_type": "stream",
     "text": [
      "Loading model cost 1.028 seconds.\n",
      "Prefix dict has been built successfully.\n"
     ]
    },
    {
     "name": "stdout",
     "output_type": "stream",
     "text": [
      "poncc-debug: 85\n"
     ]
    },
    {
     "name": "stderr",
     "output_type": "stream",
     "text": [
      "Building prefix dict from /Users/poncc/Documents/GitHub/2nd-PyCrawlerMarathon/homework/day038/dict.user.big.txt ...\n",
      "Loading model from cache /var/folders/68/t9g86v0d0ys2rpbv_g1xxrph0000gn/T/jieba.u25b0b9ddcb92304ec71499048447de52.cache\n",
      "Loading model cost 1.028 seconds.\n",
      "Prefix dict has been built successfully.\n"
     ]
    },
    {
     "name": "stdout",
     "output_type": "stream",
     "text": [
      "poncc-debug: 86\n"
     ]
    },
    {
     "name": "stderr",
     "output_type": "stream",
     "text": [
      "Building prefix dict from /Users/poncc/Documents/GitHub/2nd-PyCrawlerMarathon/homework/day038/dict.user.big.txt ...\n",
      "Loading model from cache /var/folders/68/t9g86v0d0ys2rpbv_g1xxrph0000gn/T/jieba.u25b0b9ddcb92304ec71499048447de52.cache\n",
      "Loading model cost 1.000 seconds.\n",
      "Prefix dict has been built successfully.\n"
     ]
    },
    {
     "name": "stdout",
     "output_type": "stream",
     "text": [
      "poncc-debug: 87\n"
     ]
    },
    {
     "name": "stderr",
     "output_type": "stream",
     "text": [
      "Building prefix dict from /Users/poncc/Documents/GitHub/2nd-PyCrawlerMarathon/homework/day038/dict.user.big.txt ...\n",
      "Loading model from cache /var/folders/68/t9g86v0d0ys2rpbv_g1xxrph0000gn/T/jieba.u25b0b9ddcb92304ec71499048447de52.cache\n",
      "Loading model cost 1.049 seconds.\n",
      "Prefix dict has been built successfully.\n"
     ]
    },
    {
     "name": "stdout",
     "output_type": "stream",
     "text": [
      "poncc-debug: 88\n"
     ]
    },
    {
     "name": "stderr",
     "output_type": "stream",
     "text": [
      "Building prefix dict from /Users/poncc/Documents/GitHub/2nd-PyCrawlerMarathon/homework/day038/dict.user.big.txt ...\n",
      "Loading model from cache /var/folders/68/t9g86v0d0ys2rpbv_g1xxrph0000gn/T/jieba.u25b0b9ddcb92304ec71499048447de52.cache\n",
      "Loading model cost 1.028 seconds.\n",
      "Prefix dict has been built successfully.\n"
     ]
    },
    {
     "name": "stdout",
     "output_type": "stream",
     "text": [
      "poncc-debug: 89\n"
     ]
    },
    {
     "name": "stderr",
     "output_type": "stream",
     "text": [
      "Building prefix dict from /Users/poncc/Documents/GitHub/2nd-PyCrawlerMarathon/homework/day038/dict.user.big.txt ...\n",
      "Loading model from cache /var/folders/68/t9g86v0d0ys2rpbv_g1xxrph0000gn/T/jieba.u25b0b9ddcb92304ec71499048447de52.cache\n",
      "Loading model cost 1.034 seconds.\n",
      "Prefix dict has been built successfully.\n"
     ]
    },
    {
     "name": "stdout",
     "output_type": "stream",
     "text": [
      "poncc-debug: 90\n"
     ]
    },
    {
     "name": "stderr",
     "output_type": "stream",
     "text": [
      "Building prefix dict from /Users/poncc/Documents/GitHub/2nd-PyCrawlerMarathon/homework/day038/dict.user.big.txt ...\n",
      "Loading model from cache /var/folders/68/t9g86v0d0ys2rpbv_g1xxrph0000gn/T/jieba.u25b0b9ddcb92304ec71499048447de52.cache\n",
      "Loading model cost 1.014 seconds.\n",
      "Prefix dict has been built successfully.\n"
     ]
    },
    {
     "name": "stdout",
     "output_type": "stream",
     "text": [
      "poncc-debug: 91\n"
     ]
    },
    {
     "name": "stderr",
     "output_type": "stream",
     "text": [
      "Building prefix dict from /Users/poncc/Documents/GitHub/2nd-PyCrawlerMarathon/homework/day038/dict.user.big.txt ...\n",
      "Loading model from cache /var/folders/68/t9g86v0d0ys2rpbv_g1xxrph0000gn/T/jieba.u25b0b9ddcb92304ec71499048447de52.cache\n",
      "Loading model cost 1.038 seconds.\n",
      "Prefix dict has been built successfully.\n"
     ]
    },
    {
     "name": "stdout",
     "output_type": "stream",
     "text": [
      "poncc-debug: 92\n"
     ]
    },
    {
     "name": "stderr",
     "output_type": "stream",
     "text": [
      "Building prefix dict from /Users/poncc/Documents/GitHub/2nd-PyCrawlerMarathon/homework/day038/dict.user.big.txt ...\n",
      "Loading model from cache /var/folders/68/t9g86v0d0ys2rpbv_g1xxrph0000gn/T/jieba.u25b0b9ddcb92304ec71499048447de52.cache\n",
      "Loading model cost 1.019 seconds.\n",
      "Prefix dict has been built successfully.\n"
     ]
    },
    {
     "name": "stdout",
     "output_type": "stream",
     "text": [
      "poncc-debug: 93\n"
     ]
    },
    {
     "name": "stderr",
     "output_type": "stream",
     "text": [
      "Building prefix dict from /Users/poncc/Documents/GitHub/2nd-PyCrawlerMarathon/homework/day038/dict.user.big.txt ...\n",
      "Loading model from cache /var/folders/68/t9g86v0d0ys2rpbv_g1xxrph0000gn/T/jieba.u25b0b9ddcb92304ec71499048447de52.cache\n",
      "Loading model cost 1.031 seconds.\n",
      "Prefix dict has been built successfully.\n"
     ]
    },
    {
     "name": "stdout",
     "output_type": "stream",
     "text": [
      "poncc-debug: 94\n"
     ]
    },
    {
     "name": "stderr",
     "output_type": "stream",
     "text": [
      "Building prefix dict from /Users/poncc/Documents/GitHub/2nd-PyCrawlerMarathon/homework/day038/dict.user.big.txt ...\n",
      "Loading model from cache /var/folders/68/t9g86v0d0ys2rpbv_g1xxrph0000gn/T/jieba.u25b0b9ddcb92304ec71499048447de52.cache\n",
      "Loading model cost 0.997 seconds.\n",
      "Prefix dict has been built successfully.\n"
     ]
    },
    {
     "name": "stdout",
     "output_type": "stream",
     "text": [
      "poncc-debug: 95\n"
     ]
    },
    {
     "name": "stderr",
     "output_type": "stream",
     "text": [
      "Building prefix dict from /Users/poncc/Documents/GitHub/2nd-PyCrawlerMarathon/homework/day038/dict.user.big.txt ...\n",
      "Loading model from cache /var/folders/68/t9g86v0d0ys2rpbv_g1xxrph0000gn/T/jieba.u25b0b9ddcb92304ec71499048447de52.cache\n",
      "Loading model cost 1.034 seconds.\n",
      "Prefix dict has been built successfully.\n"
     ]
    },
    {
     "name": "stdout",
     "output_type": "stream",
     "text": [
      "poncc-debug: 96\n"
     ]
    },
    {
     "name": "stderr",
     "output_type": "stream",
     "text": [
      "Building prefix dict from /Users/poncc/Documents/GitHub/2nd-PyCrawlerMarathon/homework/day038/dict.user.big.txt ...\n",
      "Loading model from cache /var/folders/68/t9g86v0d0ys2rpbv_g1xxrph0000gn/T/jieba.u25b0b9ddcb92304ec71499048447de52.cache\n",
      "Loading model cost 1.012 seconds.\n",
      "Prefix dict has been built successfully.\n"
     ]
    },
    {
     "name": "stdout",
     "output_type": "stream",
     "text": [
      "poncc-debug: 97\n"
     ]
    },
    {
     "name": "stderr",
     "output_type": "stream",
     "text": [
      "Building prefix dict from /Users/poncc/Documents/GitHub/2nd-PyCrawlerMarathon/homework/day038/dict.user.big.txt ...\n",
      "Loading model from cache /var/folders/68/t9g86v0d0ys2rpbv_g1xxrph0000gn/T/jieba.u25b0b9ddcb92304ec71499048447de52.cache\n",
      "Loading model cost 1.023 seconds.\n",
      "Prefix dict has been built successfully.\n"
     ]
    },
    {
     "name": "stdout",
     "output_type": "stream",
     "text": [
      "poncc-debug: 98\n"
     ]
    },
    {
     "name": "stderr",
     "output_type": "stream",
     "text": [
      "Building prefix dict from /Users/poncc/Documents/GitHub/2nd-PyCrawlerMarathon/homework/day038/dict.user.big.txt ...\n",
      "Loading model from cache /var/folders/68/t9g86v0d0ys2rpbv_g1xxrph0000gn/T/jieba.u25b0b9ddcb92304ec71499048447de52.cache\n",
      "Loading model cost 1.023 seconds.\n",
      "Prefix dict has been built successfully.\n"
     ]
    },
    {
     "name": "stdout",
     "output_type": "stream",
     "text": [
      "poncc-debug: 99\n"
     ]
    },
    {
     "name": "stderr",
     "output_type": "stream",
     "text": [
      "Building prefix dict from /Users/poncc/Documents/GitHub/2nd-PyCrawlerMarathon/homework/day038/dict.user.big.txt ...\n",
      "Loading model from cache /var/folders/68/t9g86v0d0ys2rpbv_g1xxrph0000gn/T/jieba.u25b0b9ddcb92304ec71499048447de52.cache\n",
      "Loading model cost 1.047 seconds.\n",
      "Prefix dict has been built successfully.\n"
     ]
    },
    {
     "name": "stdout",
     "output_type": "stream",
     "text": [
      "poncc-debug: 100\n"
     ]
    },
    {
     "name": "stderr",
     "output_type": "stream",
     "text": [
      "Building prefix dict from /Users/poncc/Documents/GitHub/2nd-PyCrawlerMarathon/homework/day038/dict.user.big.txt ...\n",
      "Loading model from cache /var/folders/68/t9g86v0d0ys2rpbv_g1xxrph0000gn/T/jieba.u25b0b9ddcb92304ec71499048447de52.cache\n",
      "Loading model cost 1.023 seconds.\n",
      "Prefix dict has been built successfully.\n"
     ]
    },
    {
     "name": "stdout",
     "output_type": "stream",
     "text": [
      "poncc-debug: 101\n"
     ]
    },
    {
     "name": "stderr",
     "output_type": "stream",
     "text": [
      "Building prefix dict from /Users/poncc/Documents/GitHub/2nd-PyCrawlerMarathon/homework/day038/dict.user.big.txt ...\n",
      "Loading model from cache /var/folders/68/t9g86v0d0ys2rpbv_g1xxrph0000gn/T/jieba.u25b0b9ddcb92304ec71499048447de52.cache\n",
      "Loading model cost 1.059 seconds.\n",
      "Prefix dict has been built successfully.\n"
     ]
    },
    {
     "name": "stdout",
     "output_type": "stream",
     "text": [
      "poncc-debug: 102\n"
     ]
    },
    {
     "name": "stderr",
     "output_type": "stream",
     "text": [
      "Building prefix dict from /Users/poncc/Documents/GitHub/2nd-PyCrawlerMarathon/homework/day038/dict.user.big.txt ...\n",
      "Loading model from cache /var/folders/68/t9g86v0d0ys2rpbv_g1xxrph0000gn/T/jieba.u25b0b9ddcb92304ec71499048447de52.cache\n",
      "Loading model cost 0.999 seconds.\n",
      "Prefix dict has been built successfully.\n"
     ]
    },
    {
     "name": "stdout",
     "output_type": "stream",
     "text": [
      "poncc-debug: 103\n"
     ]
    },
    {
     "name": "stderr",
     "output_type": "stream",
     "text": [
      "Building prefix dict from /Users/poncc/Documents/GitHub/2nd-PyCrawlerMarathon/homework/day038/dict.user.big.txt ...\n",
      "Loading model from cache /var/folders/68/t9g86v0d0ys2rpbv_g1xxrph0000gn/T/jieba.u25b0b9ddcb92304ec71499048447de52.cache\n",
      "Loading model cost 1.029 seconds.\n",
      "Prefix dict has been built successfully.\n"
     ]
    },
    {
     "name": "stdout",
     "output_type": "stream",
     "text": [
      "poncc-debug: 104\n"
     ]
    },
    {
     "name": "stderr",
     "output_type": "stream",
     "text": [
      "Building prefix dict from /Users/poncc/Documents/GitHub/2nd-PyCrawlerMarathon/homework/day038/dict.user.big.txt ...\n",
      "Loading model from cache /var/folders/68/t9g86v0d0ys2rpbv_g1xxrph0000gn/T/jieba.u25b0b9ddcb92304ec71499048447de52.cache\n",
      "Loading model cost 1.029 seconds.\n",
      "Prefix dict has been built successfully.\n"
     ]
    },
    {
     "name": "stdout",
     "output_type": "stream",
     "text": [
      "poncc-debug: 105\n"
     ]
    },
    {
     "name": "stderr",
     "output_type": "stream",
     "text": [
      "Building prefix dict from /Users/poncc/Documents/GitHub/2nd-PyCrawlerMarathon/homework/day038/dict.user.big.txt ...\n",
      "Loading model from cache /var/folders/68/t9g86v0d0ys2rpbv_g1xxrph0000gn/T/jieba.u25b0b9ddcb92304ec71499048447de52.cache\n",
      "Loading model cost 1.028 seconds.\n",
      "Prefix dict has been built successfully.\n"
     ]
    },
    {
     "name": "stdout",
     "output_type": "stream",
     "text": [
      "poncc-debug: 106\n"
     ]
    },
    {
     "name": "stderr",
     "output_type": "stream",
     "text": [
      "Building prefix dict from /Users/poncc/Documents/GitHub/2nd-PyCrawlerMarathon/homework/day038/dict.user.big.txt ...\n",
      "Loading model from cache /var/folders/68/t9g86v0d0ys2rpbv_g1xxrph0000gn/T/jieba.u25b0b9ddcb92304ec71499048447de52.cache\n",
      "Loading model cost 1.020 seconds.\n",
      "Prefix dict has been built successfully.\n"
     ]
    },
    {
     "name": "stdout",
     "output_type": "stream",
     "text": [
      "poncc-debug: 107\n"
     ]
    },
    {
     "name": "stderr",
     "output_type": "stream",
     "text": [
      "Building prefix dict from /Users/poncc/Documents/GitHub/2nd-PyCrawlerMarathon/homework/day038/dict.user.big.txt ...\n",
      "Loading model from cache /var/folders/68/t9g86v0d0ys2rpbv_g1xxrph0000gn/T/jieba.u25b0b9ddcb92304ec71499048447de52.cache\n",
      "Loading model cost 1.035 seconds.\n",
      "Prefix dict has been built successfully.\n"
     ]
    },
    {
     "name": "stdout",
     "output_type": "stream",
     "text": [
      "poncc-debug: 108\n"
     ]
    },
    {
     "name": "stderr",
     "output_type": "stream",
     "text": [
      "Building prefix dict from /Users/poncc/Documents/GitHub/2nd-PyCrawlerMarathon/homework/day038/dict.user.big.txt ...\n",
      "Loading model from cache /var/folders/68/t9g86v0d0ys2rpbv_g1xxrph0000gn/T/jieba.u25b0b9ddcb92304ec71499048447de52.cache\n",
      "Loading model cost 1.035 seconds.\n",
      "Prefix dict has been built successfully.\n"
     ]
    },
    {
     "name": "stdout",
     "output_type": "stream",
     "text": [
      "poncc-debug: 109\n"
     ]
    },
    {
     "name": "stderr",
     "output_type": "stream",
     "text": [
      "Building prefix dict from /Users/poncc/Documents/GitHub/2nd-PyCrawlerMarathon/homework/day038/dict.user.big.txt ...\n",
      "Loading model from cache /var/folders/68/t9g86v0d0ys2rpbv_g1xxrph0000gn/T/jieba.u25b0b9ddcb92304ec71499048447de52.cache\n",
      "Loading model cost 1.033 seconds.\n",
      "Prefix dict has been built successfully.\n"
     ]
    },
    {
     "name": "stdout",
     "output_type": "stream",
     "text": [
      "poncc-debug: 110\n"
     ]
    },
    {
     "name": "stderr",
     "output_type": "stream",
     "text": [
      "Building prefix dict from /Users/poncc/Documents/GitHub/2nd-PyCrawlerMarathon/homework/day038/dict.user.big.txt ...\n",
      "Loading model from cache /var/folders/68/t9g86v0d0ys2rpbv_g1xxrph0000gn/T/jieba.u25b0b9ddcb92304ec71499048447de52.cache\n",
      "Loading model cost 1.011 seconds.\n",
      "Prefix dict has been built successfully.\n"
     ]
    },
    {
     "name": "stdout",
     "output_type": "stream",
     "text": [
      "poncc-debug: 111\n"
     ]
    },
    {
     "name": "stderr",
     "output_type": "stream",
     "text": [
      "Building prefix dict from /Users/poncc/Documents/GitHub/2nd-PyCrawlerMarathon/homework/day038/dict.user.big.txt ...\n",
      "Loading model from cache /var/folders/68/t9g86v0d0ys2rpbv_g1xxrph0000gn/T/jieba.u25b0b9ddcb92304ec71499048447de52.cache\n",
      "Loading model cost 1.038 seconds.\n",
      "Prefix dict has been built successfully.\n"
     ]
    },
    {
     "name": "stdout",
     "output_type": "stream",
     "text": [
      "poncc-debug: 112\n"
     ]
    },
    {
     "name": "stderr",
     "output_type": "stream",
     "text": [
      "Building prefix dict from /Users/poncc/Documents/GitHub/2nd-PyCrawlerMarathon/homework/day038/dict.user.big.txt ...\n",
      "Loading model from cache /var/folders/68/t9g86v0d0ys2rpbv_g1xxrph0000gn/T/jieba.u25b0b9ddcb92304ec71499048447de52.cache\n",
      "Loading model cost 1.036 seconds.\n",
      "Prefix dict has been built successfully.\n"
     ]
    },
    {
     "name": "stdout",
     "output_type": "stream",
     "text": [
      "poncc-debug: 113\n"
     ]
    },
    {
     "name": "stderr",
     "output_type": "stream",
     "text": [
      "Building prefix dict from /Users/poncc/Documents/GitHub/2nd-PyCrawlerMarathon/homework/day038/dict.user.big.txt ...\n",
      "Loading model from cache /var/folders/68/t9g86v0d0ys2rpbv_g1xxrph0000gn/T/jieba.u25b0b9ddcb92304ec71499048447de52.cache\n",
      "Loading model cost 1.040 seconds.\n",
      "Prefix dict has been built successfully.\n"
     ]
    },
    {
     "name": "stdout",
     "output_type": "stream",
     "text": [
      "poncc-debug: 114\n"
     ]
    },
    {
     "name": "stderr",
     "output_type": "stream",
     "text": [
      "Building prefix dict from /Users/poncc/Documents/GitHub/2nd-PyCrawlerMarathon/homework/day038/dict.user.big.txt ...\n",
      "Loading model from cache /var/folders/68/t9g86v0d0ys2rpbv_g1xxrph0000gn/T/jieba.u25b0b9ddcb92304ec71499048447de52.cache\n",
      "Loading model cost 1.007 seconds.\n",
      "Prefix dict has been built successfully.\n",
      "Building prefix dict from /Users/poncc/Documents/GitHub/2nd-PyCrawlerMarathon/homework/day038/dict.user.big.txt ...\n"
     ]
    },
    {
     "name": "stdout",
     "output_type": "stream",
     "text": [
      "poncc-debug: 115\n"
     ]
    },
    {
     "name": "stderr",
     "output_type": "stream",
     "text": [
      "Loading model from cache /var/folders/68/t9g86v0d0ys2rpbv_g1xxrph0000gn/T/jieba.u25b0b9ddcb92304ec71499048447de52.cache\n",
      "Loading model cost 1.041 seconds.\n",
      "Prefix dict has been built successfully.\n"
     ]
    },
    {
     "name": "stdout",
     "output_type": "stream",
     "text": [
      "poncc-debug: 116\n"
     ]
    },
    {
     "name": "stderr",
     "output_type": "stream",
     "text": [
      "Building prefix dict from /Users/poncc/Documents/GitHub/2nd-PyCrawlerMarathon/homework/day038/dict.user.big.txt ...\n",
      "Loading model from cache /var/folders/68/t9g86v0d0ys2rpbv_g1xxrph0000gn/T/jieba.u25b0b9ddcb92304ec71499048447de52.cache\n",
      "Loading model cost 1.032 seconds.\n",
      "Prefix dict has been built successfully.\n"
     ]
    },
    {
     "name": "stdout",
     "output_type": "stream",
     "text": [
      "poncc-debug: 117\n"
     ]
    },
    {
     "name": "stderr",
     "output_type": "stream",
     "text": [
      "Building prefix dict from /Users/poncc/Documents/GitHub/2nd-PyCrawlerMarathon/homework/day038/dict.user.big.txt ...\n",
      "Loading model from cache /var/folders/68/t9g86v0d0ys2rpbv_g1xxrph0000gn/T/jieba.u25b0b9ddcb92304ec71499048447de52.cache\n",
      "Loading model cost 1.047 seconds.\n",
      "Prefix dict has been built successfully.\n"
     ]
    },
    {
     "name": "stdout",
     "output_type": "stream",
     "text": [
      "poncc-debug: 118\n"
     ]
    },
    {
     "name": "stderr",
     "output_type": "stream",
     "text": [
      "Building prefix dict from /Users/poncc/Documents/GitHub/2nd-PyCrawlerMarathon/homework/day038/dict.user.big.txt ...\n",
      "Loading model from cache /var/folders/68/t9g86v0d0ys2rpbv_g1xxrph0000gn/T/jieba.u25b0b9ddcb92304ec71499048447de52.cache\n",
      "Loading model cost 1.011 seconds.\n",
      "Prefix dict has been built successfully.\n"
     ]
    },
    {
     "name": "stdout",
     "output_type": "stream",
     "text": [
      "poncc-debug: 119\n"
     ]
    },
    {
     "name": "stderr",
     "output_type": "stream",
     "text": [
      "Building prefix dict from /Users/poncc/Documents/GitHub/2nd-PyCrawlerMarathon/homework/day038/dict.user.big.txt ...\n",
      "Loading model from cache /var/folders/68/t9g86v0d0ys2rpbv_g1xxrph0000gn/T/jieba.u25b0b9ddcb92304ec71499048447de52.cache\n",
      "Loading model cost 1.035 seconds.\n",
      "Prefix dict has been built successfully.\n"
     ]
    },
    {
     "name": "stdout",
     "output_type": "stream",
     "text": [
      "poncc-debug: 120\n"
     ]
    },
    {
     "name": "stderr",
     "output_type": "stream",
     "text": [
      "Building prefix dict from /Users/poncc/Documents/GitHub/2nd-PyCrawlerMarathon/homework/day038/dict.user.big.txt ...\n",
      "Loading model from cache /var/folders/68/t9g86v0d0ys2rpbv_g1xxrph0000gn/T/jieba.u25b0b9ddcb92304ec71499048447de52.cache\n",
      "Loading model cost 1.018 seconds.\n",
      "Prefix dict has been built successfully.\n"
     ]
    },
    {
     "name": "stdout",
     "output_type": "stream",
     "text": [
      "poncc-debug: 121\n"
     ]
    },
    {
     "name": "stderr",
     "output_type": "stream",
     "text": [
      "Building prefix dict from /Users/poncc/Documents/GitHub/2nd-PyCrawlerMarathon/homework/day038/dict.user.big.txt ...\n",
      "Loading model from cache /var/folders/68/t9g86v0d0ys2rpbv_g1xxrph0000gn/T/jieba.u25b0b9ddcb92304ec71499048447de52.cache\n",
      "Loading model cost 1.051 seconds.\n",
      "Prefix dict has been built successfully.\n"
     ]
    },
    {
     "name": "stdout",
     "output_type": "stream",
     "text": [
      "poncc-debug: 122\n"
     ]
    },
    {
     "name": "stderr",
     "output_type": "stream",
     "text": [
      "Building prefix dict from /Users/poncc/Documents/GitHub/2nd-PyCrawlerMarathon/homework/day038/dict.user.big.txt ...\n",
      "Loading model from cache /var/folders/68/t9g86v0d0ys2rpbv_g1xxrph0000gn/T/jieba.u25b0b9ddcb92304ec71499048447de52.cache\n",
      "Loading model cost 1.031 seconds.\n",
      "Prefix dict has been built successfully.\n"
     ]
    },
    {
     "name": "stdout",
     "output_type": "stream",
     "text": [
      "poncc-debug: 123\n"
     ]
    },
    {
     "name": "stderr",
     "output_type": "stream",
     "text": [
      "Building prefix dict from /Users/poncc/Documents/GitHub/2nd-PyCrawlerMarathon/homework/day038/dict.user.big.txt ...\n",
      "Loading model from cache /var/folders/68/t9g86v0d0ys2rpbv_g1xxrph0000gn/T/jieba.u25b0b9ddcb92304ec71499048447de52.cache\n",
      "Loading model cost 1.015 seconds.\n",
      "Prefix dict has been built successfully.\n"
     ]
    },
    {
     "name": "stdout",
     "output_type": "stream",
     "text": [
      "poncc-debug: 124\n"
     ]
    },
    {
     "name": "stderr",
     "output_type": "stream",
     "text": [
      "Building prefix dict from /Users/poncc/Documents/GitHub/2nd-PyCrawlerMarathon/homework/day038/dict.user.big.txt ...\n",
      "Loading model from cache /var/folders/68/t9g86v0d0ys2rpbv_g1xxrph0000gn/T/jieba.u25b0b9ddcb92304ec71499048447de52.cache\n",
      "Loading model cost 1.032 seconds.\n",
      "Prefix dict has been built successfully.\n"
     ]
    },
    {
     "name": "stdout",
     "output_type": "stream",
     "text": [
      "poncc-debug: 125\n"
     ]
    },
    {
     "name": "stderr",
     "output_type": "stream",
     "text": [
      "Building prefix dict from /Users/poncc/Documents/GitHub/2nd-PyCrawlerMarathon/homework/day038/dict.user.big.txt ...\n",
      "Loading model from cache /var/folders/68/t9g86v0d0ys2rpbv_g1xxrph0000gn/T/jieba.u25b0b9ddcb92304ec71499048447de52.cache\n",
      "Loading model cost 1.037 seconds.\n",
      "Prefix dict has been built successfully.\n"
     ]
    },
    {
     "name": "stdout",
     "output_type": "stream",
     "text": [
      "poncc-debug: 126\n"
     ]
    },
    {
     "name": "stderr",
     "output_type": "stream",
     "text": [
      "Building prefix dict from /Users/poncc/Documents/GitHub/2nd-PyCrawlerMarathon/homework/day038/dict.user.big.txt ...\n",
      "Loading model from cache /var/folders/68/t9g86v0d0ys2rpbv_g1xxrph0000gn/T/jieba.u25b0b9ddcb92304ec71499048447de52.cache\n",
      "Loading model cost 1.023 seconds.\n",
      "Prefix dict has been built successfully.\n"
     ]
    },
    {
     "name": "stdout",
     "output_type": "stream",
     "text": [
      "poncc-debug: 127\n"
     ]
    },
    {
     "name": "stderr",
     "output_type": "stream",
     "text": [
      "Building prefix dict from /Users/poncc/Documents/GitHub/2nd-PyCrawlerMarathon/homework/day038/dict.user.big.txt ...\n",
      "Loading model from cache /var/folders/68/t9g86v0d0ys2rpbv_g1xxrph0000gn/T/jieba.u25b0b9ddcb92304ec71499048447de52.cache\n",
      "Loading model cost 1.041 seconds.\n",
      "Prefix dict has been built successfully.\n",
      "Building prefix dict from /Users/poncc/Documents/GitHub/2nd-PyCrawlerMarathon/homework/day038/dict.user.big.txt ...\n",
      "Loading model from cache /var/folders/68/t9g86v0d0ys2rpbv_g1xxrph0000gn/T/jieba.u25b0b9ddcb92304ec71499048447de52.cache\n"
     ]
    },
    {
     "name": "stdout",
     "output_type": "stream",
     "text": [
      "poncc-debug: 128\n"
     ]
    },
    {
     "name": "stderr",
     "output_type": "stream",
     "text": [
      "Loading model cost 1.022 seconds.\n",
      "Prefix dict has been built successfully.\n",
      "Building prefix dict from /Users/poncc/Documents/GitHub/2nd-PyCrawlerMarathon/homework/day038/dict.user.big.txt ...\n",
      "Loading model from cache /var/folders/68/t9g86v0d0ys2rpbv_g1xxrph0000gn/T/jieba.u25b0b9ddcb92304ec71499048447de52.cache\n"
     ]
    },
    {
     "name": "stdout",
     "output_type": "stream",
     "text": [
      "poncc-debug: 129\n"
     ]
    },
    {
     "name": "stderr",
     "output_type": "stream",
     "text": [
      "Loading model cost 1.032 seconds.\n",
      "Prefix dict has been built successfully.\n"
     ]
    },
    {
     "name": "stdout",
     "output_type": "stream",
     "text": [
      "poncc-debug: 130\n"
     ]
    },
    {
     "name": "stderr",
     "output_type": "stream",
     "text": [
      "Building prefix dict from /Users/poncc/Documents/GitHub/2nd-PyCrawlerMarathon/homework/day038/dict.user.big.txt ...\n",
      "Loading model from cache /var/folders/68/t9g86v0d0ys2rpbv_g1xxrph0000gn/T/jieba.u25b0b9ddcb92304ec71499048447de52.cache\n",
      "Loading model cost 1.004 seconds.\n",
      "Prefix dict has been built successfully.\n"
     ]
    },
    {
     "name": "stdout",
     "output_type": "stream",
     "text": [
      "poncc-debug: 131\n"
     ]
    },
    {
     "name": "stderr",
     "output_type": "stream",
     "text": [
      "Building prefix dict from /Users/poncc/Documents/GitHub/2nd-PyCrawlerMarathon/homework/day038/dict.user.big.txt ...\n",
      "Loading model from cache /var/folders/68/t9g86v0d0ys2rpbv_g1xxrph0000gn/T/jieba.u25b0b9ddcb92304ec71499048447de52.cache\n",
      "Loading model cost 1.037 seconds.\n",
      "Prefix dict has been built successfully.\n",
      "Building prefix dict from /Users/poncc/Documents/GitHub/2nd-PyCrawlerMarathon/homework/day038/dict.user.big.txt ...\n"
     ]
    },
    {
     "name": "stdout",
     "output_type": "stream",
     "text": [
      "poncc-debug: 132\n"
     ]
    },
    {
     "name": "stderr",
     "output_type": "stream",
     "text": [
      "Loading model from cache /var/folders/68/t9g86v0d0ys2rpbv_g1xxrph0000gn/T/jieba.u25b0b9ddcb92304ec71499048447de52.cache\n",
      "Loading model cost 1.017 seconds.\n",
      "Prefix dict has been built successfully.\n",
      "Building prefix dict from /Users/poncc/Documents/GitHub/2nd-PyCrawlerMarathon/homework/day038/dict.user.big.txt ...\n",
      "Loading model from cache /var/folders/68/t9g86v0d0ys2rpbv_g1xxrph0000gn/T/jieba.u25b0b9ddcb92304ec71499048447de52.cache\n"
     ]
    },
    {
     "name": "stdout",
     "output_type": "stream",
     "text": [
      "poncc-debug: 133\n"
     ]
    },
    {
     "name": "stderr",
     "output_type": "stream",
     "text": [
      "Loading model cost 1.032 seconds.\n",
      "Prefix dict has been built successfully.\n"
     ]
    },
    {
     "name": "stdout",
     "output_type": "stream",
     "text": [
      "poncc-debug: 134\n"
     ]
    },
    {
     "name": "stderr",
     "output_type": "stream",
     "text": [
      "Building prefix dict from /Users/poncc/Documents/GitHub/2nd-PyCrawlerMarathon/homework/day038/dict.user.big.txt ...\n",
      "Loading model from cache /var/folders/68/t9g86v0d0ys2rpbv_g1xxrph0000gn/T/jieba.u25b0b9ddcb92304ec71499048447de52.cache\n",
      "Loading model cost 1.024 seconds.\n",
      "Prefix dict has been built successfully.\n"
     ]
    },
    {
     "name": "stdout",
     "output_type": "stream",
     "text": [
      "poncc-debug: 135\n"
     ]
    },
    {
     "name": "stderr",
     "output_type": "stream",
     "text": [
      "Building prefix dict from /Users/poncc/Documents/GitHub/2nd-PyCrawlerMarathon/homework/day038/dict.user.big.txt ...\n",
      "Loading model from cache /var/folders/68/t9g86v0d0ys2rpbv_g1xxrph0000gn/T/jieba.u25b0b9ddcb92304ec71499048447de52.cache\n",
      "Loading model cost 1.036 seconds.\n",
      "Prefix dict has been built successfully.\n"
     ]
    },
    {
     "name": "stdout",
     "output_type": "stream",
     "text": [
      "poncc-debug: 136\n"
     ]
    },
    {
     "name": "stderr",
     "output_type": "stream",
     "text": [
      "Building prefix dict from /Users/poncc/Documents/GitHub/2nd-PyCrawlerMarathon/homework/day038/dict.user.big.txt ...\n",
      "Loading model from cache /var/folders/68/t9g86v0d0ys2rpbv_g1xxrph0000gn/T/jieba.u25b0b9ddcb92304ec71499048447de52.cache\n",
      "Loading model cost 1.033 seconds.\n",
      "Prefix dict has been built successfully.\n"
     ]
    },
    {
     "name": "stdout",
     "output_type": "stream",
     "text": [
      "poncc-debug: 137\n"
     ]
    },
    {
     "name": "stderr",
     "output_type": "stream",
     "text": [
      "Building prefix dict from /Users/poncc/Documents/GitHub/2nd-PyCrawlerMarathon/homework/day038/dict.user.big.txt ...\n",
      "Loading model from cache /var/folders/68/t9g86v0d0ys2rpbv_g1xxrph0000gn/T/jieba.u25b0b9ddcb92304ec71499048447de52.cache\n",
      "Loading model cost 1.029 seconds.\n",
      "Prefix dict has been built successfully.\n"
     ]
    },
    {
     "name": "stdout",
     "output_type": "stream",
     "text": [
      "poncc-debug: 138\n"
     ]
    },
    {
     "name": "stderr",
     "output_type": "stream",
     "text": [
      "Building prefix dict from /Users/poncc/Documents/GitHub/2nd-PyCrawlerMarathon/homework/day038/dict.user.big.txt ...\n",
      "Loading model from cache /var/folders/68/t9g86v0d0ys2rpbv_g1xxrph0000gn/T/jieba.u25b0b9ddcb92304ec71499048447de52.cache\n",
      "Loading model cost 0.996 seconds.\n",
      "Prefix dict has been built successfully.\n"
     ]
    },
    {
     "name": "stdout",
     "output_type": "stream",
     "text": [
      "poncc-debug: 139\n"
     ]
    },
    {
     "name": "stderr",
     "output_type": "stream",
     "text": [
      "Building prefix dict from /Users/poncc/Documents/GitHub/2nd-PyCrawlerMarathon/homework/day038/dict.user.big.txt ...\n",
      "Loading model from cache /var/folders/68/t9g86v0d0ys2rpbv_g1xxrph0000gn/T/jieba.u25b0b9ddcb92304ec71499048447de52.cache\n",
      "Loading model cost 1.027 seconds.\n",
      "Prefix dict has been built successfully.\n",
      "Building prefix dict from /Users/poncc/Documents/GitHub/2nd-PyCrawlerMarathon/homework/day038/dict.user.big.txt ...\n",
      "Loading model from cache /var/folders/68/t9g86v0d0ys2rpbv_g1xxrph0000gn/T/jieba.u25b0b9ddcb92304ec71499048447de52.cache\n"
     ]
    },
    {
     "name": "stdout",
     "output_type": "stream",
     "text": [
      "poncc-debug: 140\n"
     ]
    },
    {
     "name": "stderr",
     "output_type": "stream",
     "text": [
      "Loading model cost 1.018 seconds.\n",
      "Prefix dict has been built successfully.\n"
     ]
    },
    {
     "name": "stdout",
     "output_type": "stream",
     "text": [
      "poncc-debug: 141\n"
     ]
    },
    {
     "name": "stderr",
     "output_type": "stream",
     "text": [
      "Building prefix dict from /Users/poncc/Documents/GitHub/2nd-PyCrawlerMarathon/homework/day038/dict.user.big.txt ...\n",
      "Loading model from cache /var/folders/68/t9g86v0d0ys2rpbv_g1xxrph0000gn/T/jieba.u25b0b9ddcb92304ec71499048447de52.cache\n",
      "Loading model cost 1.023 seconds.\n",
      "Prefix dict has been built successfully.\n"
     ]
    },
    {
     "name": "stdout",
     "output_type": "stream",
     "text": [
      "poncc-debug: 142\n"
     ]
    },
    {
     "name": "stderr",
     "output_type": "stream",
     "text": [
      "Building prefix dict from /Users/poncc/Documents/GitHub/2nd-PyCrawlerMarathon/homework/day038/dict.user.big.txt ...\n",
      "Loading model from cache /var/folders/68/t9g86v0d0ys2rpbv_g1xxrph0000gn/T/jieba.u25b0b9ddcb92304ec71499048447de52.cache\n",
      "Loading model cost 1.000 seconds.\n",
      "Prefix dict has been built successfully.\n"
     ]
    },
    {
     "name": "stdout",
     "output_type": "stream",
     "text": [
      "poncc-debug: 143\n"
     ]
    },
    {
     "name": "stderr",
     "output_type": "stream",
     "text": [
      "Building prefix dict from /Users/poncc/Documents/GitHub/2nd-PyCrawlerMarathon/homework/day038/dict.user.big.txt ...\n",
      "Loading model from cache /var/folders/68/t9g86v0d0ys2rpbv_g1xxrph0000gn/T/jieba.u25b0b9ddcb92304ec71499048447de52.cache\n",
      "Loading model cost 1.038 seconds.\n",
      "Prefix dict has been built successfully.\n"
     ]
    },
    {
     "name": "stdout",
     "output_type": "stream",
     "text": [
      "poncc-debug: 144\n"
     ]
    },
    {
     "name": "stderr",
     "output_type": "stream",
     "text": [
      "Building prefix dict from /Users/poncc/Documents/GitHub/2nd-PyCrawlerMarathon/homework/day038/dict.user.big.txt ...\n",
      "Loading model from cache /var/folders/68/t9g86v0d0ys2rpbv_g1xxrph0000gn/T/jieba.u25b0b9ddcb92304ec71499048447de52.cache\n",
      "Loading model cost 1.023 seconds.\n",
      "Prefix dict has been built successfully.\n"
     ]
    },
    {
     "name": "stdout",
     "output_type": "stream",
     "text": [
      "poncc-debug: 145\n"
     ]
    },
    {
     "name": "stderr",
     "output_type": "stream",
     "text": [
      "Building prefix dict from /Users/poncc/Documents/GitHub/2nd-PyCrawlerMarathon/homework/day038/dict.user.big.txt ...\n",
      "Loading model from cache /var/folders/68/t9g86v0d0ys2rpbv_g1xxrph0000gn/T/jieba.u25b0b9ddcb92304ec71499048447de52.cache\n",
      "Loading model cost 1.030 seconds.\n",
      "Prefix dict has been built successfully.\n"
     ]
    },
    {
     "name": "stdout",
     "output_type": "stream",
     "text": [
      "poncc-debug: 146\n"
     ]
    },
    {
     "name": "stderr",
     "output_type": "stream",
     "text": [
      "Building prefix dict from /Users/poncc/Documents/GitHub/2nd-PyCrawlerMarathon/homework/day038/dict.user.big.txt ...\n",
      "Loading model from cache /var/folders/68/t9g86v0d0ys2rpbv_g1xxrph0000gn/T/jieba.u25b0b9ddcb92304ec71499048447de52.cache\n",
      "Loading model cost 1.009 seconds.\n",
      "Prefix dict has been built successfully.\n"
     ]
    },
    {
     "name": "stdout",
     "output_type": "stream",
     "text": [
      "poncc-debug: 147\n"
     ]
    },
    {
     "name": "stderr",
     "output_type": "stream",
     "text": [
      "Building prefix dict from /Users/poncc/Documents/GitHub/2nd-PyCrawlerMarathon/homework/day038/dict.user.big.txt ...\n",
      "Loading model from cache /var/folders/68/t9g86v0d0ys2rpbv_g1xxrph0000gn/T/jieba.u25b0b9ddcb92304ec71499048447de52.cache\n",
      "Loading model cost 1.032 seconds.\n",
      "Prefix dict has been built successfully.\n"
     ]
    },
    {
     "name": "stdout",
     "output_type": "stream",
     "text": [
      "poncc-debug: 148\n"
     ]
    },
    {
     "name": "stderr",
     "output_type": "stream",
     "text": [
      "Building prefix dict from /Users/poncc/Documents/GitHub/2nd-PyCrawlerMarathon/homework/day038/dict.user.big.txt ...\n",
      "Loading model from cache /var/folders/68/t9g86v0d0ys2rpbv_g1xxrph0000gn/T/jieba.u25b0b9ddcb92304ec71499048447de52.cache\n",
      "Loading model cost 1.014 seconds.\n",
      "Prefix dict has been built successfully.\n"
     ]
    },
    {
     "name": "stdout",
     "output_type": "stream",
     "text": [
      "poncc-debug: 149\n"
     ]
    },
    {
     "name": "stderr",
     "output_type": "stream",
     "text": [
      "Building prefix dict from /Users/poncc/Documents/GitHub/2nd-PyCrawlerMarathon/homework/day038/dict.user.big.txt ...\n",
      "Loading model from cache /var/folders/68/t9g86v0d0ys2rpbv_g1xxrph0000gn/T/jieba.u25b0b9ddcb92304ec71499048447de52.cache\n",
      "Loading model cost 1.027 seconds.\n",
      "Prefix dict has been built successfully.\n"
     ]
    },
    {
     "name": "stdout",
     "output_type": "stream",
     "text": [
      "poncc-debug: 150\n"
     ]
    },
    {
     "name": "stderr",
     "output_type": "stream",
     "text": [
      "Building prefix dict from /Users/poncc/Documents/GitHub/2nd-PyCrawlerMarathon/homework/day038/dict.user.big.txt ...\n",
      "Loading model from cache /var/folders/68/t9g86v0d0ys2rpbv_g1xxrph0000gn/T/jieba.u25b0b9ddcb92304ec71499048447de52.cache\n",
      "Loading model cost 1.002 seconds.\n",
      "Prefix dict has been built successfully.\n"
     ]
    },
    {
     "name": "stdout",
     "output_type": "stream",
     "text": [
      "poncc-debug: 151\n"
     ]
    },
    {
     "name": "stderr",
     "output_type": "stream",
     "text": [
      "Building prefix dict from /Users/poncc/Documents/GitHub/2nd-PyCrawlerMarathon/homework/day038/dict.user.big.txt ...\n",
      "Loading model from cache /var/folders/68/t9g86v0d0ys2rpbv_g1xxrph0000gn/T/jieba.u25b0b9ddcb92304ec71499048447de52.cache\n",
      "Loading model cost 1.030 seconds.\n",
      "Prefix dict has been built successfully.\n"
     ]
    },
    {
     "name": "stdout",
     "output_type": "stream",
     "text": [
      "poncc-debug: 152\n"
     ]
    },
    {
     "name": "stderr",
     "output_type": "stream",
     "text": [
      "Building prefix dict from /Users/poncc/Documents/GitHub/2nd-PyCrawlerMarathon/homework/day038/dict.user.big.txt ...\n",
      "Loading model from cache /var/folders/68/t9g86v0d0ys2rpbv_g1xxrph0000gn/T/jieba.u25b0b9ddcb92304ec71499048447de52.cache\n",
      "Loading model cost 1.029 seconds.\n",
      "Prefix dict has been built successfully.\n"
     ]
    },
    {
     "name": "stdout",
     "output_type": "stream",
     "text": [
      "poncc-debug: 153\n"
     ]
    },
    {
     "name": "stderr",
     "output_type": "stream",
     "text": [
      "Building prefix dict from /Users/poncc/Documents/GitHub/2nd-PyCrawlerMarathon/homework/day038/dict.user.big.txt ...\n",
      "Loading model from cache /var/folders/68/t9g86v0d0ys2rpbv_g1xxrph0000gn/T/jieba.u25b0b9ddcb92304ec71499048447de52.cache\n",
      "Loading model cost 1.027 seconds.\n",
      "Prefix dict has been built successfully.\n"
     ]
    },
    {
     "name": "stdout",
     "output_type": "stream",
     "text": [
      "poncc-debug: 154\n"
     ]
    },
    {
     "name": "stderr",
     "output_type": "stream",
     "text": [
      "Building prefix dict from /Users/poncc/Documents/GitHub/2nd-PyCrawlerMarathon/homework/day038/dict.user.big.txt ...\n",
      "Loading model from cache /var/folders/68/t9g86v0d0ys2rpbv_g1xxrph0000gn/T/jieba.u25b0b9ddcb92304ec71499048447de52.cache\n",
      "Loading model cost 1.003 seconds.\n",
      "Prefix dict has been built successfully.\n",
      "Building prefix dict from /Users/poncc/Documents/GitHub/2nd-PyCrawlerMarathon/homework/day038/dict.user.big.txt ...\n",
      "Loading model from cache /var/folders/68/t9g86v0d0ys2rpbv_g1xxrph0000gn/T/jieba.u25b0b9ddcb92304ec71499048447de52.cache\n"
     ]
    },
    {
     "name": "stdout",
     "output_type": "stream",
     "text": [
      "poncc-debug: 155\n"
     ]
    },
    {
     "name": "stderr",
     "output_type": "stream",
     "text": [
      "Loading model cost 1.047 seconds.\n",
      "Prefix dict has been built successfully.\n"
     ]
    },
    {
     "name": "stdout",
     "output_type": "stream",
     "text": [
      "poncc-debug: 156\n"
     ]
    },
    {
     "name": "stderr",
     "output_type": "stream",
     "text": [
      "Building prefix dict from /Users/poncc/Documents/GitHub/2nd-PyCrawlerMarathon/homework/day038/dict.user.big.txt ...\n",
      "Loading model from cache /var/folders/68/t9g86v0d0ys2rpbv_g1xxrph0000gn/T/jieba.u25b0b9ddcb92304ec71499048447de52.cache\n",
      "Loading model cost 1.023 seconds.\n",
      "Prefix dict has been built successfully.\n"
     ]
    },
    {
     "name": "stdout",
     "output_type": "stream",
     "text": [
      "poncc-debug: 157\n"
     ]
    },
    {
     "name": "stderr",
     "output_type": "stream",
     "text": [
      "Building prefix dict from /Users/poncc/Documents/GitHub/2nd-PyCrawlerMarathon/homework/day038/dict.user.big.txt ...\n",
      "Loading model from cache /var/folders/68/t9g86v0d0ys2rpbv_g1xxrph0000gn/T/jieba.u25b0b9ddcb92304ec71499048447de52.cache\n",
      "Loading model cost 1.090 seconds.\n",
      "Prefix dict has been built successfully.\n"
     ]
    },
    {
     "name": "stdout",
     "output_type": "stream",
     "text": [
      "poncc-debug: 158\n"
     ]
    },
    {
     "name": "stderr",
     "output_type": "stream",
     "text": [
      "Building prefix dict from /Users/poncc/Documents/GitHub/2nd-PyCrawlerMarathon/homework/day038/dict.user.big.txt ...\n",
      "Loading model from cache /var/folders/68/t9g86v0d0ys2rpbv_g1xxrph0000gn/T/jieba.u25b0b9ddcb92304ec71499048447de52.cache\n",
      "Loading model cost 1.006 seconds.\n",
      "Prefix dict has been built successfully.\n"
     ]
    },
    {
     "name": "stdout",
     "output_type": "stream",
     "text": [
      "poncc-debug: 159\n"
     ]
    },
    {
     "name": "stderr",
     "output_type": "stream",
     "text": [
      "Building prefix dict from /Users/poncc/Documents/GitHub/2nd-PyCrawlerMarathon/homework/day038/dict.user.big.txt ...\n",
      "Loading model from cache /var/folders/68/t9g86v0d0ys2rpbv_g1xxrph0000gn/T/jieba.u25b0b9ddcb92304ec71499048447de52.cache\n",
      "Loading model cost 1.023 seconds.\n",
      "Prefix dict has been built successfully.\n"
     ]
    },
    {
     "name": "stdout",
     "output_type": "stream",
     "text": [
      "poncc-debug: 160\n"
     ]
    },
    {
     "name": "stderr",
     "output_type": "stream",
     "text": [
      "Building prefix dict from /Users/poncc/Documents/GitHub/2nd-PyCrawlerMarathon/homework/day038/dict.user.big.txt ...\n",
      "Loading model from cache /var/folders/68/t9g86v0d0ys2rpbv_g1xxrph0000gn/T/jieba.u25b0b9ddcb92304ec71499048447de52.cache\n",
      "Loading model cost 1.020 seconds.\n",
      "Prefix dict has been built successfully.\n"
     ]
    },
    {
     "name": "stdout",
     "output_type": "stream",
     "text": [
      "poncc-debug: 161\n"
     ]
    },
    {
     "name": "stderr",
     "output_type": "stream",
     "text": [
      "Building prefix dict from /Users/poncc/Documents/GitHub/2nd-PyCrawlerMarathon/homework/day038/dict.user.big.txt ...\n",
      "Loading model from cache /var/folders/68/t9g86v0d0ys2rpbv_g1xxrph0000gn/T/jieba.u25b0b9ddcb92304ec71499048447de52.cache\n",
      "Loading model cost 1.027 seconds.\n",
      "Prefix dict has been built successfully.\n"
     ]
    },
    {
     "name": "stdout",
     "output_type": "stream",
     "text": [
      "poncc-debug: 162\n"
     ]
    },
    {
     "name": "stderr",
     "output_type": "stream",
     "text": [
      "Building prefix dict from /Users/poncc/Documents/GitHub/2nd-PyCrawlerMarathon/homework/day038/dict.user.big.txt ...\n",
      "Loading model from cache /var/folders/68/t9g86v0d0ys2rpbv_g1xxrph0000gn/T/jieba.u25b0b9ddcb92304ec71499048447de52.cache\n",
      "Loading model cost 1.011 seconds.\n",
      "Prefix dict has been built successfully.\n",
      "Building prefix dict from /Users/poncc/Documents/GitHub/2nd-PyCrawlerMarathon/homework/day038/dict.user.big.txt ...\n",
      "Loading model from cache /var/folders/68/t9g86v0d0ys2rpbv_g1xxrph0000gn/T/jieba.u25b0b9ddcb92304ec71499048447de52.cache\n"
     ]
    },
    {
     "name": "stdout",
     "output_type": "stream",
     "text": [
      "poncc-debug: 163\n"
     ]
    },
    {
     "name": "stderr",
     "output_type": "stream",
     "text": [
      "Loading model cost 1.030 seconds.\n",
      "Prefix dict has been built successfully.\n"
     ]
    },
    {
     "name": "stdout",
     "output_type": "stream",
     "text": [
      "poncc-debug: 164\n"
     ]
    },
    {
     "name": "stderr",
     "output_type": "stream",
     "text": [
      "Building prefix dict from /Users/poncc/Documents/GitHub/2nd-PyCrawlerMarathon/homework/day038/dict.user.big.txt ...\n",
      "Loading model from cache /var/folders/68/t9g86v0d0ys2rpbv_g1xxrph0000gn/T/jieba.u25b0b9ddcb92304ec71499048447de52.cache\n",
      "Loading model cost 1.013 seconds.\n",
      "Prefix dict has been built successfully.\n"
     ]
    },
    {
     "name": "stdout",
     "output_type": "stream",
     "text": [
      "poncc-debug: 165\n"
     ]
    },
    {
     "name": "stderr",
     "output_type": "stream",
     "text": [
      "Building prefix dict from /Users/poncc/Documents/GitHub/2nd-PyCrawlerMarathon/homework/day038/dict.user.big.txt ...\n",
      "Loading model from cache /var/folders/68/t9g86v0d0ys2rpbv_g1xxrph0000gn/T/jieba.u25b0b9ddcb92304ec71499048447de52.cache\n",
      "Loading model cost 1.032 seconds.\n",
      "Prefix dict has been built successfully.\n"
     ]
    },
    {
     "name": "stdout",
     "output_type": "stream",
     "text": [
      "poncc-debug: 166\n"
     ]
    },
    {
     "name": "stderr",
     "output_type": "stream",
     "text": [
      "Building prefix dict from /Users/poncc/Documents/GitHub/2nd-PyCrawlerMarathon/homework/day038/dict.user.big.txt ...\n",
      "Loading model from cache /var/folders/68/t9g86v0d0ys2rpbv_g1xxrph0000gn/T/jieba.u25b0b9ddcb92304ec71499048447de52.cache\n",
      "Loading model cost 1.008 seconds.\n",
      "Prefix dict has been built successfully.\n"
     ]
    },
    {
     "name": "stdout",
     "output_type": "stream",
     "text": [
      "poncc-debug: 167\n"
     ]
    },
    {
     "name": "stderr",
     "output_type": "stream",
     "text": [
      "Building prefix dict from /Users/poncc/Documents/GitHub/2nd-PyCrawlerMarathon/homework/day038/dict.user.big.txt ...\n",
      "Loading model from cache /var/folders/68/t9g86v0d0ys2rpbv_g1xxrph0000gn/T/jieba.u25b0b9ddcb92304ec71499048447de52.cache\n",
      "Loading model cost 1.018 seconds.\n",
      "Prefix dict has been built successfully.\n"
     ]
    },
    {
     "name": "stdout",
     "output_type": "stream",
     "text": [
      "poncc-debug: 168\n"
     ]
    },
    {
     "name": "stderr",
     "output_type": "stream",
     "text": [
      "Building prefix dict from /Users/poncc/Documents/GitHub/2nd-PyCrawlerMarathon/homework/day038/dict.user.big.txt ...\n",
      "Loading model from cache /var/folders/68/t9g86v0d0ys2rpbv_g1xxrph0000gn/T/jieba.u25b0b9ddcb92304ec71499048447de52.cache\n",
      "Loading model cost 1.014 seconds.\n",
      "Prefix dict has been built successfully.\n"
     ]
    },
    {
     "name": "stdout",
     "output_type": "stream",
     "text": [
      "poncc-debug: 169\n"
     ]
    },
    {
     "name": "stderr",
     "output_type": "stream",
     "text": [
      "Building prefix dict from /Users/poncc/Documents/GitHub/2nd-PyCrawlerMarathon/homework/day038/dict.user.big.txt ...\n",
      "Loading model from cache /var/folders/68/t9g86v0d0ys2rpbv_g1xxrph0000gn/T/jieba.u25b0b9ddcb92304ec71499048447de52.cache\n",
      "Loading model cost 1.028 seconds.\n",
      "Prefix dict has been built successfully.\n"
     ]
    },
    {
     "name": "stdout",
     "output_type": "stream",
     "text": [
      "poncc-debug: 170\n"
     ]
    },
    {
     "name": "stderr",
     "output_type": "stream",
     "text": [
      "Building prefix dict from /Users/poncc/Documents/GitHub/2nd-PyCrawlerMarathon/homework/day038/dict.user.big.txt ...\n",
      "Loading model from cache /var/folders/68/t9g86v0d0ys2rpbv_g1xxrph0000gn/T/jieba.u25b0b9ddcb92304ec71499048447de52.cache\n",
      "Loading model cost 1.003 seconds.\n",
      "Prefix dict has been built successfully.\n"
     ]
    },
    {
     "name": "stdout",
     "output_type": "stream",
     "text": [
      "poncc-debug: 171\n"
     ]
    },
    {
     "name": "stderr",
     "output_type": "stream",
     "text": [
      "Building prefix dict from /Users/poncc/Documents/GitHub/2nd-PyCrawlerMarathon/homework/day038/dict.user.big.txt ...\n",
      "Loading model from cache /var/folders/68/t9g86v0d0ys2rpbv_g1xxrph0000gn/T/jieba.u25b0b9ddcb92304ec71499048447de52.cache\n",
      "Loading model cost 1.067 seconds.\n",
      "Prefix dict has been built successfully.\n"
     ]
    },
    {
     "name": "stdout",
     "output_type": "stream",
     "text": [
      "poncc-debug: 172\n"
     ]
    },
    {
     "name": "stderr",
     "output_type": "stream",
     "text": [
      "Building prefix dict from /Users/poncc/Documents/GitHub/2nd-PyCrawlerMarathon/homework/day038/dict.user.big.txt ...\n",
      "Loading model from cache /var/folders/68/t9g86v0d0ys2rpbv_g1xxrph0000gn/T/jieba.u25b0b9ddcb92304ec71499048447de52.cache\n",
      "Loading model cost 1.017 seconds.\n",
      "Prefix dict has been built successfully.\n"
     ]
    },
    {
     "name": "stdout",
     "output_type": "stream",
     "text": [
      "poncc-debug: 173\n"
     ]
    },
    {
     "name": "stderr",
     "output_type": "stream",
     "text": [
      "Building prefix dict from /Users/poncc/Documents/GitHub/2nd-PyCrawlerMarathon/homework/day038/dict.user.big.txt ...\n",
      "Loading model from cache /var/folders/68/t9g86v0d0ys2rpbv_g1xxrph0000gn/T/jieba.u25b0b9ddcb92304ec71499048447de52.cache\n",
      "Loading model cost 1.025 seconds.\n",
      "Prefix dict has been built successfully.\n"
     ]
    },
    {
     "name": "stdout",
     "output_type": "stream",
     "text": [
      "poncc-debug: 174\n"
     ]
    },
    {
     "name": "stderr",
     "output_type": "stream",
     "text": [
      "Building prefix dict from /Users/poncc/Documents/GitHub/2nd-PyCrawlerMarathon/homework/day038/dict.user.big.txt ...\n",
      "Loading model from cache /var/folders/68/t9g86v0d0ys2rpbv_g1xxrph0000gn/T/jieba.u25b0b9ddcb92304ec71499048447de52.cache\n",
      "Loading model cost 1.002 seconds.\n",
      "Prefix dict has been built successfully.\n"
     ]
    },
    {
     "name": "stdout",
     "output_type": "stream",
     "text": [
      "poncc-debug: 175\n"
     ]
    },
    {
     "name": "stderr",
     "output_type": "stream",
     "text": [
      "Building prefix dict from /Users/poncc/Documents/GitHub/2nd-PyCrawlerMarathon/homework/day038/dict.user.big.txt ...\n",
      "Loading model from cache /var/folders/68/t9g86v0d0ys2rpbv_g1xxrph0000gn/T/jieba.u25b0b9ddcb92304ec71499048447de52.cache\n",
      "Loading model cost 1.026 seconds.\n",
      "Prefix dict has been built successfully.\n",
      "Building prefix dict from /Users/poncc/Documents/GitHub/2nd-PyCrawlerMarathon/homework/day038/dict.user.big.txt ...\n",
      "Loading model from cache /var/folders/68/t9g86v0d0ys2rpbv_g1xxrph0000gn/T/jieba.u25b0b9ddcb92304ec71499048447de52.cache\n"
     ]
    },
    {
     "name": "stdout",
     "output_type": "stream",
     "text": [
      "poncc-debug: 176\n"
     ]
    },
    {
     "name": "stderr",
     "output_type": "stream",
     "text": [
      "Loading model cost 1.016 seconds.\n",
      "Prefix dict has been built successfully.\n"
     ]
    },
    {
     "name": "stdout",
     "output_type": "stream",
     "text": [
      "poncc-debug: 177\n"
     ]
    },
    {
     "name": "stderr",
     "output_type": "stream",
     "text": [
      "Building prefix dict from /Users/poncc/Documents/GitHub/2nd-PyCrawlerMarathon/homework/day038/dict.user.big.txt ...\n",
      "Loading model from cache /var/folders/68/t9g86v0d0ys2rpbv_g1xxrph0000gn/T/jieba.u25b0b9ddcb92304ec71499048447de52.cache\n",
      "Loading model cost 1.047 seconds.\n",
      "Prefix dict has been built successfully.\n"
     ]
    },
    {
     "name": "stdout",
     "output_type": "stream",
     "text": [
      "poncc-debug: 178\n"
     ]
    },
    {
     "name": "stderr",
     "output_type": "stream",
     "text": [
      "Building prefix dict from /Users/poncc/Documents/GitHub/2nd-PyCrawlerMarathon/homework/day038/dict.user.big.txt ...\n",
      "Loading model from cache /var/folders/68/t9g86v0d0ys2rpbv_g1xxrph0000gn/T/jieba.u25b0b9ddcb92304ec71499048447de52.cache\n",
      "Loading model cost 1.009 seconds.\n",
      "Prefix dict has been built successfully.\n"
     ]
    },
    {
     "name": "stdout",
     "output_type": "stream",
     "text": [
      "poncc-debug: 179\n"
     ]
    },
    {
     "name": "stderr",
     "output_type": "stream",
     "text": [
      "Building prefix dict from /Users/poncc/Documents/GitHub/2nd-PyCrawlerMarathon/homework/day038/dict.user.big.txt ...\n",
      "Loading model from cache /var/folders/68/t9g86v0d0ys2rpbv_g1xxrph0000gn/T/jieba.u25b0b9ddcb92304ec71499048447de52.cache\n",
      "Loading model cost 1.036 seconds.\n",
      "Prefix dict has been built successfully.\n"
     ]
    },
    {
     "name": "stdout",
     "output_type": "stream",
     "text": [
      "poncc-debug: 180\n"
     ]
    },
    {
     "name": "stderr",
     "output_type": "stream",
     "text": [
      "Building prefix dict from /Users/poncc/Documents/GitHub/2nd-PyCrawlerMarathon/homework/day038/dict.user.big.txt ...\n",
      "Loading model from cache /var/folders/68/t9g86v0d0ys2rpbv_g1xxrph0000gn/T/jieba.u25b0b9ddcb92304ec71499048447de52.cache\n",
      "Loading model cost 1.029 seconds.\n",
      "Prefix dict has been built successfully.\n"
     ]
    },
    {
     "name": "stdout",
     "output_type": "stream",
     "text": [
      "poncc-debug: 181\n"
     ]
    },
    {
     "name": "stderr",
     "output_type": "stream",
     "text": [
      "Building prefix dict from /Users/poncc/Documents/GitHub/2nd-PyCrawlerMarathon/homework/day038/dict.user.big.txt ...\n",
      "Loading model from cache /var/folders/68/t9g86v0d0ys2rpbv_g1xxrph0000gn/T/jieba.u25b0b9ddcb92304ec71499048447de52.cache\n",
      "Loading model cost 1.029 seconds.\n",
      "Prefix dict has been built successfully.\n"
     ]
    },
    {
     "name": "stdout",
     "output_type": "stream",
     "text": [
      "poncc-debug: 182\n"
     ]
    },
    {
     "name": "stderr",
     "output_type": "stream",
     "text": [
      "Building prefix dict from /Users/poncc/Documents/GitHub/2nd-PyCrawlerMarathon/homework/day038/dict.user.big.txt ...\n",
      "Loading model from cache /var/folders/68/t9g86v0d0ys2rpbv_g1xxrph0000gn/T/jieba.u25b0b9ddcb92304ec71499048447de52.cache\n",
      "Loading model cost 1.008 seconds.\n",
      "Prefix dict has been built successfully.\n"
     ]
    },
    {
     "name": "stdout",
     "output_type": "stream",
     "text": [
      "poncc-debug: 183\n"
     ]
    },
    {
     "name": "stderr",
     "output_type": "stream",
     "text": [
      "Building prefix dict from /Users/poncc/Documents/GitHub/2nd-PyCrawlerMarathon/homework/day038/dict.user.big.txt ...\n",
      "Loading model from cache /var/folders/68/t9g86v0d0ys2rpbv_g1xxrph0000gn/T/jieba.u25b0b9ddcb92304ec71499048447de52.cache\n",
      "Loading model cost 1.009 seconds.\n",
      "Prefix dict has been built successfully.\n",
      "Building prefix dict from /Users/poncc/Documents/GitHub/2nd-PyCrawlerMarathon/homework/day038/dict.user.big.txt ...\n"
     ]
    },
    {
     "name": "stdout",
     "output_type": "stream",
     "text": [
      "poncc-debug: 184\n"
     ]
    },
    {
     "name": "stderr",
     "output_type": "stream",
     "text": [
      "Loading model from cache /var/folders/68/t9g86v0d0ys2rpbv_g1xxrph0000gn/T/jieba.u25b0b9ddcb92304ec71499048447de52.cache\n",
      "Loading model cost 1.021 seconds.\n",
      "Prefix dict has been built successfully.\n"
     ]
    },
    {
     "name": "stdout",
     "output_type": "stream",
     "text": [
      "poncc-debug: 185\n"
     ]
    },
    {
     "name": "stderr",
     "output_type": "stream",
     "text": [
      "Building prefix dict from /Users/poncc/Documents/GitHub/2nd-PyCrawlerMarathon/homework/day038/dict.user.big.txt ...\n",
      "Loading model from cache /var/folders/68/t9g86v0d0ys2rpbv_g1xxrph0000gn/T/jieba.u25b0b9ddcb92304ec71499048447de52.cache\n",
      "Loading model cost 1.022 seconds.\n",
      "Prefix dict has been built successfully.\n"
     ]
    },
    {
     "name": "stdout",
     "output_type": "stream",
     "text": [
      "poncc-debug: 186\n"
     ]
    },
    {
     "name": "stderr",
     "output_type": "stream",
     "text": [
      "Building prefix dict from /Users/poncc/Documents/GitHub/2nd-PyCrawlerMarathon/homework/day038/dict.user.big.txt ...\n",
      "Loading model from cache /var/folders/68/t9g86v0d0ys2rpbv_g1xxrph0000gn/T/jieba.u25b0b9ddcb92304ec71499048447de52.cache\n",
      "Loading model cost 1.001 seconds.\n",
      "Prefix dict has been built successfully.\n"
     ]
    },
    {
     "name": "stdout",
     "output_type": "stream",
     "text": [
      "poncc-debug: 187\n"
     ]
    },
    {
     "name": "stderr",
     "output_type": "stream",
     "text": [
      "Building prefix dict from /Users/poncc/Documents/GitHub/2nd-PyCrawlerMarathon/homework/day038/dict.user.big.txt ...\n",
      "Loading model from cache /var/folders/68/t9g86v0d0ys2rpbv_g1xxrph0000gn/T/jieba.u25b0b9ddcb92304ec71499048447de52.cache\n",
      "Loading model cost 1.034 seconds.\n",
      "Prefix dict has been built successfully.\n"
     ]
    },
    {
     "name": "stdout",
     "output_type": "stream",
     "text": [
      "poncc-debug: 188\n"
     ]
    },
    {
     "name": "stderr",
     "output_type": "stream",
     "text": [
      "Building prefix dict from /Users/poncc/Documents/GitHub/2nd-PyCrawlerMarathon/homework/day038/dict.user.big.txt ...\n",
      "Loading model from cache /var/folders/68/t9g86v0d0ys2rpbv_g1xxrph0000gn/T/jieba.u25b0b9ddcb92304ec71499048447de52.cache\n",
      "Loading model cost 1.025 seconds.\n",
      "Prefix dict has been built successfully.\n"
     ]
    },
    {
     "name": "stdout",
     "output_type": "stream",
     "text": [
      "poncc-debug: 189\n"
     ]
    },
    {
     "name": "stderr",
     "output_type": "stream",
     "text": [
      "Building prefix dict from /Users/poncc/Documents/GitHub/2nd-PyCrawlerMarathon/homework/day038/dict.user.big.txt ...\n",
      "Loading model from cache /var/folders/68/t9g86v0d0ys2rpbv_g1xxrph0000gn/T/jieba.u25b0b9ddcb92304ec71499048447de52.cache\n",
      "Loading model cost 1.040 seconds.\n",
      "Prefix dict has been built successfully.\n"
     ]
    },
    {
     "name": "stdout",
     "output_type": "stream",
     "text": [
      "poncc-debug: 190\n"
     ]
    },
    {
     "name": "stderr",
     "output_type": "stream",
     "text": [
      "Building prefix dict from /Users/poncc/Documents/GitHub/2nd-PyCrawlerMarathon/homework/day038/dict.user.big.txt ...\n",
      "Loading model from cache /var/folders/68/t9g86v0d0ys2rpbv_g1xxrph0000gn/T/jieba.u25b0b9ddcb92304ec71499048447de52.cache\n",
      "Loading model cost 1.005 seconds.\n",
      "Prefix dict has been built successfully.\n"
     ]
    },
    {
     "name": "stdout",
     "output_type": "stream",
     "text": [
      "poncc-debug: 191\n"
     ]
    },
    {
     "name": "stderr",
     "output_type": "stream",
     "text": [
      "Building prefix dict from /Users/poncc/Documents/GitHub/2nd-PyCrawlerMarathon/homework/day038/dict.user.big.txt ...\n",
      "Loading model from cache /var/folders/68/t9g86v0d0ys2rpbv_g1xxrph0000gn/T/jieba.u25b0b9ddcb92304ec71499048447de52.cache\n",
      "Loading model cost 1.038 seconds.\n",
      "Prefix dict has been built successfully.\n",
      "Building prefix dict from /Users/poncc/Documents/GitHub/2nd-PyCrawlerMarathon/homework/day038/dict.user.big.txt ...\n"
     ]
    },
    {
     "name": "stdout",
     "output_type": "stream",
     "text": [
      "poncc-debug: 192\n"
     ]
    },
    {
     "name": "stderr",
     "output_type": "stream",
     "text": [
      "Loading model from cache /var/folders/68/t9g86v0d0ys2rpbv_g1xxrph0000gn/T/jieba.u25b0b9ddcb92304ec71499048447de52.cache\n",
      "Loading model cost 1.006 seconds.\n",
      "Prefix dict has been built successfully.\n",
      "Building prefix dict from /Users/poncc/Documents/GitHub/2nd-PyCrawlerMarathon/homework/day038/dict.user.big.txt ...\n",
      "Loading model from cache /var/folders/68/t9g86v0d0ys2rpbv_g1xxrph0000gn/T/jieba.u25b0b9ddcb92304ec71499048447de52.cache\n"
     ]
    },
    {
     "name": "stdout",
     "output_type": "stream",
     "text": [
      "poncc-debug: 193\n"
     ]
    },
    {
     "name": "stderr",
     "output_type": "stream",
     "text": [
      "Loading model cost 1.051 seconds.\n",
      "Prefix dict has been built successfully.\n"
     ]
    },
    {
     "name": "stdout",
     "output_type": "stream",
     "text": [
      "poncc-debug: 194\n"
     ]
    },
    {
     "name": "stderr",
     "output_type": "stream",
     "text": [
      "Building prefix dict from /Users/poncc/Documents/GitHub/2nd-PyCrawlerMarathon/homework/day038/dict.user.big.txt ...\n",
      "Loading model from cache /var/folders/68/t9g86v0d0ys2rpbv_g1xxrph0000gn/T/jieba.u25b0b9ddcb92304ec71499048447de52.cache\n",
      "Loading model cost 1.007 seconds.\n",
      "Prefix dict has been built successfully.\n"
     ]
    },
    {
     "name": "stdout",
     "output_type": "stream",
     "text": [
      "poncc-debug: 195\n"
     ]
    },
    {
     "name": "stderr",
     "output_type": "stream",
     "text": [
      "Building prefix dict from /Users/poncc/Documents/GitHub/2nd-PyCrawlerMarathon/homework/day038/dict.user.big.txt ...\n",
      "Loading model from cache /var/folders/68/t9g86v0d0ys2rpbv_g1xxrph0000gn/T/jieba.u25b0b9ddcb92304ec71499048447de52.cache\n",
      "Loading model cost 1.017 seconds.\n",
      "Prefix dict has been built successfully.\n"
     ]
    },
    {
     "name": "stdout",
     "output_type": "stream",
     "text": [
      "poncc-debug: 196\n"
     ]
    },
    {
     "name": "stderr",
     "output_type": "stream",
     "text": [
      "Building prefix dict from /Users/poncc/Documents/GitHub/2nd-PyCrawlerMarathon/homework/day038/dict.user.big.txt ...\n",
      "Loading model from cache /var/folders/68/t9g86v0d0ys2rpbv_g1xxrph0000gn/T/jieba.u25b0b9ddcb92304ec71499048447de52.cache\n",
      "Loading model cost 1.017 seconds.\n",
      "Prefix dict has been built successfully.\n"
     ]
    },
    {
     "name": "stdout",
     "output_type": "stream",
     "text": [
      "poncc-debug: 197\n"
     ]
    },
    {
     "name": "stderr",
     "output_type": "stream",
     "text": [
      "Building prefix dict from /Users/poncc/Documents/GitHub/2nd-PyCrawlerMarathon/homework/day038/dict.user.big.txt ...\n",
      "Loading model from cache /var/folders/68/t9g86v0d0ys2rpbv_g1xxrph0000gn/T/jieba.u25b0b9ddcb92304ec71499048447de52.cache\n",
      "Loading model cost 1.025 seconds.\n",
      "Prefix dict has been built successfully.\n",
      "Building prefix dict from /Users/poncc/Documents/GitHub/2nd-PyCrawlerMarathon/homework/day038/dict.user.big.txt ...\n"
     ]
    },
    {
     "name": "stdout",
     "output_type": "stream",
     "text": [
      "poncc-debug: 198\n"
     ]
    },
    {
     "name": "stderr",
     "output_type": "stream",
     "text": [
      "Loading model from cache /var/folders/68/t9g86v0d0ys2rpbv_g1xxrph0000gn/T/jieba.u25b0b9ddcb92304ec71499048447de52.cache\n",
      "Loading model cost 1.008 seconds.\n",
      "Prefix dict has been built successfully.\n"
     ]
    },
    {
     "name": "stdout",
     "output_type": "stream",
     "text": [
      "poncc-debug: 199\n"
     ]
    },
    {
     "name": "stderr",
     "output_type": "stream",
     "text": [
      "Building prefix dict from /Users/poncc/Documents/GitHub/2nd-PyCrawlerMarathon/homework/day038/dict.user.big.txt ...\n",
      "Loading model from cache /var/folders/68/t9g86v0d0ys2rpbv_g1xxrph0000gn/T/jieba.u25b0b9ddcb92304ec71499048447de52.cache\n",
      "Loading model cost 1.033 seconds.\n",
      "Prefix dict has been built successfully.\n"
     ]
    },
    {
     "name": "stdout",
     "output_type": "stream",
     "text": [
      "poncc-debug: 200\n"
     ]
    },
    {
     "name": "stderr",
     "output_type": "stream",
     "text": [
      "Building prefix dict from /Users/poncc/Documents/GitHub/2nd-PyCrawlerMarathon/homework/day038/dict.user.big.txt ...\n",
      "Loading model from cache /var/folders/68/t9g86v0d0ys2rpbv_g1xxrph0000gn/T/jieba.u25b0b9ddcb92304ec71499048447de52.cache\n",
      "Loading model cost 1.021 seconds.\n",
      "Prefix dict has been built successfully.\n"
     ]
    },
    {
     "name": "stdout",
     "output_type": "stream",
     "text": [
      "poncc-debug: 201\n"
     ]
    },
    {
     "name": "stderr",
     "output_type": "stream",
     "text": [
      "Building prefix dict from /Users/poncc/Documents/GitHub/2nd-PyCrawlerMarathon/homework/day038/dict.user.big.txt ...\n",
      "Loading model from cache /var/folders/68/t9g86v0d0ys2rpbv_g1xxrph0000gn/T/jieba.u25b0b9ddcb92304ec71499048447de52.cache\n",
      "Loading model cost 1.015 seconds.\n",
      "Prefix dict has been built successfully.\n"
     ]
    },
    {
     "name": "stdout",
     "output_type": "stream",
     "text": [
      "poncc-debug: 202\n"
     ]
    },
    {
     "name": "stderr",
     "output_type": "stream",
     "text": [
      "Building prefix dict from /Users/poncc/Documents/GitHub/2nd-PyCrawlerMarathon/homework/day038/dict.user.big.txt ...\n",
      "Loading model from cache /var/folders/68/t9g86v0d0ys2rpbv_g1xxrph0000gn/T/jieba.u25b0b9ddcb92304ec71499048447de52.cache\n",
      "Loading model cost 1.016 seconds.\n",
      "Prefix dict has been built successfully.\n"
     ]
    },
    {
     "name": "stdout",
     "output_type": "stream",
     "text": [
      "poncc-debug: 203\n"
     ]
    },
    {
     "name": "stderr",
     "output_type": "stream",
     "text": [
      "Building prefix dict from /Users/poncc/Documents/GitHub/2nd-PyCrawlerMarathon/homework/day038/dict.user.big.txt ...\n",
      "Loading model from cache /var/folders/68/t9g86v0d0ys2rpbv_g1xxrph0000gn/T/jieba.u25b0b9ddcb92304ec71499048447de52.cache\n",
      "Loading model cost 1.023 seconds.\n",
      "Prefix dict has been built successfully.\n"
     ]
    },
    {
     "name": "stdout",
     "output_type": "stream",
     "text": [
      "poncc-debug: 204\n"
     ]
    },
    {
     "name": "stderr",
     "output_type": "stream",
     "text": [
      "Building prefix dict from /Users/poncc/Documents/GitHub/2nd-PyCrawlerMarathon/homework/day038/dict.user.big.txt ...\n",
      "Loading model from cache /var/folders/68/t9g86v0d0ys2rpbv_g1xxrph0000gn/T/jieba.u25b0b9ddcb92304ec71499048447de52.cache\n",
      "Loading model cost 1.012 seconds.\n",
      "Prefix dict has been built successfully.\n"
     ]
    },
    {
     "name": "stdout",
     "output_type": "stream",
     "text": [
      "poncc-debug: 205\n"
     ]
    },
    {
     "name": "stderr",
     "output_type": "stream",
     "text": [
      "Building prefix dict from /Users/poncc/Documents/GitHub/2nd-PyCrawlerMarathon/homework/day038/dict.user.big.txt ...\n",
      "Loading model from cache /var/folders/68/t9g86v0d0ys2rpbv_g1xxrph0000gn/T/jieba.u25b0b9ddcb92304ec71499048447de52.cache\n",
      "Loading model cost 1.037 seconds.\n",
      "Prefix dict has been built successfully.\n"
     ]
    },
    {
     "name": "stdout",
     "output_type": "stream",
     "text": [
      "poncc-debug: 206\n"
     ]
    },
    {
     "name": "stderr",
     "output_type": "stream",
     "text": [
      "Building prefix dict from /Users/poncc/Documents/GitHub/2nd-PyCrawlerMarathon/homework/day038/dict.user.big.txt ...\n",
      "Loading model from cache /var/folders/68/t9g86v0d0ys2rpbv_g1xxrph0000gn/T/jieba.u25b0b9ddcb92304ec71499048447de52.cache\n",
      "Loading model cost 1.012 seconds.\n",
      "Prefix dict has been built successfully.\n"
     ]
    },
    {
     "name": "stdout",
     "output_type": "stream",
     "text": [
      "poncc-debug: 207\n"
     ]
    },
    {
     "name": "stderr",
     "output_type": "stream",
     "text": [
      "Building prefix dict from /Users/poncc/Documents/GitHub/2nd-PyCrawlerMarathon/homework/day038/dict.user.big.txt ...\n",
      "Loading model from cache /var/folders/68/t9g86v0d0ys2rpbv_g1xxrph0000gn/T/jieba.u25b0b9ddcb92304ec71499048447de52.cache\n",
      "Loading model cost 1.044 seconds.\n",
      "Prefix dict has been built successfully.\n"
     ]
    },
    {
     "name": "stdout",
     "output_type": "stream",
     "text": [
      "poncc-debug: 208\n"
     ]
    },
    {
     "name": "stderr",
     "output_type": "stream",
     "text": [
      "Building prefix dict from /Users/poncc/Documents/GitHub/2nd-PyCrawlerMarathon/homework/day038/dict.user.big.txt ...\n",
      "Loading model from cache /var/folders/68/t9g86v0d0ys2rpbv_g1xxrph0000gn/T/jieba.u25b0b9ddcb92304ec71499048447de52.cache\n",
      "Loading model cost 1.014 seconds.\n",
      "Prefix dict has been built successfully.\n"
     ]
    },
    {
     "name": "stdout",
     "output_type": "stream",
     "text": [
      "poncc-debug: 209\n"
     ]
    },
    {
     "name": "stderr",
     "output_type": "stream",
     "text": [
      "Building prefix dict from /Users/poncc/Documents/GitHub/2nd-PyCrawlerMarathon/homework/day038/dict.user.big.txt ...\n",
      "Loading model from cache /var/folders/68/t9g86v0d0ys2rpbv_g1xxrph0000gn/T/jieba.u25b0b9ddcb92304ec71499048447de52.cache\n",
      "Loading model cost 1.021 seconds.\n",
      "Prefix dict has been built successfully.\n"
     ]
    },
    {
     "name": "stdout",
     "output_type": "stream",
     "text": [
      "poncc-debug: 210\n"
     ]
    },
    {
     "name": "stderr",
     "output_type": "stream",
     "text": [
      "Building prefix dict from /Users/poncc/Documents/GitHub/2nd-PyCrawlerMarathon/homework/day038/dict.user.big.txt ...\n",
      "Loading model from cache /var/folders/68/t9g86v0d0ys2rpbv_g1xxrph0000gn/T/jieba.u25b0b9ddcb92304ec71499048447de52.cache\n",
      "Loading model cost 0.999 seconds.\n",
      "Prefix dict has been built successfully.\n"
     ]
    },
    {
     "name": "stdout",
     "output_type": "stream",
     "text": [
      "poncc-debug: 211\n"
     ]
    },
    {
     "name": "stderr",
     "output_type": "stream",
     "text": [
      "Building prefix dict from /Users/poncc/Documents/GitHub/2nd-PyCrawlerMarathon/homework/day038/dict.user.big.txt ...\n",
      "Loading model from cache /var/folders/68/t9g86v0d0ys2rpbv_g1xxrph0000gn/T/jieba.u25b0b9ddcb92304ec71499048447de52.cache\n",
      "Loading model cost 1.016 seconds.\n",
      "Prefix dict has been built successfully.\n"
     ]
    },
    {
     "name": "stdout",
     "output_type": "stream",
     "text": [
      "poncc-debug: 212\n"
     ]
    },
    {
     "name": "stderr",
     "output_type": "stream",
     "text": [
      "Building prefix dict from /Users/poncc/Documents/GitHub/2nd-PyCrawlerMarathon/homework/day038/dict.user.big.txt ...\n",
      "Loading model from cache /var/folders/68/t9g86v0d0ys2rpbv_g1xxrph0000gn/T/jieba.u25b0b9ddcb92304ec71499048447de52.cache\n",
      "Loading model cost 1.010 seconds.\n",
      "Prefix dict has been built successfully.\n",
      "Building prefix dict from /Users/poncc/Documents/GitHub/2nd-PyCrawlerMarathon/homework/day038/dict.user.big.txt ...\n",
      "Loading model from cache /var/folders/68/t9g86v0d0ys2rpbv_g1xxrph0000gn/T/jieba.u25b0b9ddcb92304ec71499048447de52.cache\n"
     ]
    },
    {
     "name": "stdout",
     "output_type": "stream",
     "text": [
      "poncc-debug: 213\n"
     ]
    },
    {
     "name": "stderr",
     "output_type": "stream",
     "text": [
      "Loading model cost 1.017 seconds.\n",
      "Prefix dict has been built successfully.\n"
     ]
    },
    {
     "name": "stdout",
     "output_type": "stream",
     "text": [
      "poncc-debug: 214\n"
     ]
    },
    {
     "name": "stderr",
     "output_type": "stream",
     "text": [
      "Building prefix dict from /Users/poncc/Documents/GitHub/2nd-PyCrawlerMarathon/homework/day038/dict.user.big.txt ...\n",
      "Loading model from cache /var/folders/68/t9g86v0d0ys2rpbv_g1xxrph0000gn/T/jieba.u25b0b9ddcb92304ec71499048447de52.cache\n",
      "Loading model cost 1.021 seconds.\n",
      "Prefix dict has been built successfully.\n"
     ]
    },
    {
     "name": "stdout",
     "output_type": "stream",
     "text": [
      "poncc-debug: 215\n"
     ]
    },
    {
     "name": "stderr",
     "output_type": "stream",
     "text": [
      "Building prefix dict from /Users/poncc/Documents/GitHub/2nd-PyCrawlerMarathon/homework/day038/dict.user.big.txt ...\n",
      "Loading model from cache /var/folders/68/t9g86v0d0ys2rpbv_g1xxrph0000gn/T/jieba.u25b0b9ddcb92304ec71499048447de52.cache\n",
      "Loading model cost 1.030 seconds.\n",
      "Prefix dict has been built successfully.\n"
     ]
    },
    {
     "name": "stdout",
     "output_type": "stream",
     "text": [
      "poncc-debug: 216\n"
     ]
    },
    {
     "name": "stderr",
     "output_type": "stream",
     "text": [
      "Building prefix dict from /Users/poncc/Documents/GitHub/2nd-PyCrawlerMarathon/homework/day038/dict.user.big.txt ...\n",
      "Loading model from cache /var/folders/68/t9g86v0d0ys2rpbv_g1xxrph0000gn/T/jieba.u25b0b9ddcb92304ec71499048447de52.cache\n",
      "Loading model cost 1.031 seconds.\n",
      "Prefix dict has been built successfully.\n"
     ]
    },
    {
     "name": "stdout",
     "output_type": "stream",
     "text": [
      "poncc-debug: 217\n"
     ]
    },
    {
     "name": "stderr",
     "output_type": "stream",
     "text": [
      "Building prefix dict from /Users/poncc/Documents/GitHub/2nd-PyCrawlerMarathon/homework/day038/dict.user.big.txt ...\n",
      "Loading model from cache /var/folders/68/t9g86v0d0ys2rpbv_g1xxrph0000gn/T/jieba.u25b0b9ddcb92304ec71499048447de52.cache\n",
      "Loading model cost 1.019 seconds.\n",
      "Prefix dict has been built successfully.\n"
     ]
    },
    {
     "name": "stdout",
     "output_type": "stream",
     "text": [
      "poncc-debug: 218\n"
     ]
    },
    {
     "name": "stderr",
     "output_type": "stream",
     "text": [
      "Building prefix dict from /Users/poncc/Documents/GitHub/2nd-PyCrawlerMarathon/homework/day038/dict.user.big.txt ...\n",
      "Loading model from cache /var/folders/68/t9g86v0d0ys2rpbv_g1xxrph0000gn/T/jieba.u25b0b9ddcb92304ec71499048447de52.cache\n",
      "Loading model cost 1.008 seconds.\n",
      "Prefix dict has been built successfully.\n"
     ]
    },
    {
     "name": "stdout",
     "output_type": "stream",
     "text": [
      "poncc-debug: 219\n"
     ]
    },
    {
     "name": "stderr",
     "output_type": "stream",
     "text": [
      "Building prefix dict from /Users/poncc/Documents/GitHub/2nd-PyCrawlerMarathon/homework/day038/dict.user.big.txt ...\n",
      "Loading model from cache /var/folders/68/t9g86v0d0ys2rpbv_g1xxrph0000gn/T/jieba.u25b0b9ddcb92304ec71499048447de52.cache\n",
      "Loading model cost 1.027 seconds.\n",
      "Prefix dict has been built successfully.\n"
     ]
    },
    {
     "name": "stdout",
     "output_type": "stream",
     "text": [
      "poncc-debug: 220\n"
     ]
    },
    {
     "name": "stderr",
     "output_type": "stream",
     "text": [
      "Building prefix dict from /Users/poncc/Documents/GitHub/2nd-PyCrawlerMarathon/homework/day038/dict.user.big.txt ...\n",
      "Loading model from cache /var/folders/68/t9g86v0d0ys2rpbv_g1xxrph0000gn/T/jieba.u25b0b9ddcb92304ec71499048447de52.cache\n",
      "Loading model cost 1.004 seconds.\n",
      "Prefix dict has been built successfully.\n"
     ]
    },
    {
     "name": "stdout",
     "output_type": "stream",
     "text": [
      "poncc-debug: 221\n"
     ]
    },
    {
     "name": "stderr",
     "output_type": "stream",
     "text": [
      "Building prefix dict from /Users/poncc/Documents/GitHub/2nd-PyCrawlerMarathon/homework/day038/dict.user.big.txt ...\n",
      "Loading model from cache /var/folders/68/t9g86v0d0ys2rpbv_g1xxrph0000gn/T/jieba.u25b0b9ddcb92304ec71499048447de52.cache\n",
      "Loading model cost 1.020 seconds.\n",
      "Prefix dict has been built successfully.\n"
     ]
    },
    {
     "name": "stdout",
     "output_type": "stream",
     "text": [
      "poncc-debug: 222\n"
     ]
    },
    {
     "name": "stderr",
     "output_type": "stream",
     "text": [
      "Building prefix dict from /Users/poncc/Documents/GitHub/2nd-PyCrawlerMarathon/homework/day038/dict.user.big.txt ...\n",
      "Loading model from cache /var/folders/68/t9g86v0d0ys2rpbv_g1xxrph0000gn/T/jieba.u25b0b9ddcb92304ec71499048447de52.cache\n",
      "Loading model cost 1.001 seconds.\n",
      "Prefix dict has been built successfully.\n"
     ]
    },
    {
     "name": "stdout",
     "output_type": "stream",
     "text": [
      "poncc-debug: 223\n"
     ]
    },
    {
     "name": "stderr",
     "output_type": "stream",
     "text": [
      "Building prefix dict from /Users/poncc/Documents/GitHub/2nd-PyCrawlerMarathon/homework/day038/dict.user.big.txt ...\n",
      "Loading model from cache /var/folders/68/t9g86v0d0ys2rpbv_g1xxrph0000gn/T/jieba.u25b0b9ddcb92304ec71499048447de52.cache\n",
      "Loading model cost 1.019 seconds.\n",
      "Prefix dict has been built successfully.\n"
     ]
    },
    {
     "name": "stdout",
     "output_type": "stream",
     "text": [
      "poncc-debug: 224\n"
     ]
    },
    {
     "name": "stderr",
     "output_type": "stream",
     "text": [
      "Building prefix dict from /Users/poncc/Documents/GitHub/2nd-PyCrawlerMarathon/homework/day038/dict.user.big.txt ...\n",
      "Loading model from cache /var/folders/68/t9g86v0d0ys2rpbv_g1xxrph0000gn/T/jieba.u25b0b9ddcb92304ec71499048447de52.cache\n",
      "Loading model cost 1.010 seconds.\n",
      "Prefix dict has been built successfully.\n"
     ]
    },
    {
     "name": "stdout",
     "output_type": "stream",
     "text": [
      "poncc-debug: 225\n"
     ]
    },
    {
     "name": "stderr",
     "output_type": "stream",
     "text": [
      "Building prefix dict from /Users/poncc/Documents/GitHub/2nd-PyCrawlerMarathon/homework/day038/dict.user.big.txt ...\n",
      "Loading model from cache /var/folders/68/t9g86v0d0ys2rpbv_g1xxrph0000gn/T/jieba.u25b0b9ddcb92304ec71499048447de52.cache\n",
      "Loading model cost 1.029 seconds.\n",
      "Prefix dict has been built successfully.\n"
     ]
    },
    {
     "name": "stdout",
     "output_type": "stream",
     "text": [
      "poncc-debug: 226\n"
     ]
    },
    {
     "name": "stderr",
     "output_type": "stream",
     "text": [
      "Building prefix dict from /Users/poncc/Documents/GitHub/2nd-PyCrawlerMarathon/homework/day038/dict.user.big.txt ...\n",
      "Loading model from cache /var/folders/68/t9g86v0d0ys2rpbv_g1xxrph0000gn/T/jieba.u25b0b9ddcb92304ec71499048447de52.cache\n",
      "Loading model cost 1.001 seconds.\n",
      "Prefix dict has been built successfully.\n"
     ]
    },
    {
     "name": "stdout",
     "output_type": "stream",
     "text": [
      "poncc-debug: 227\n"
     ]
    },
    {
     "name": "stderr",
     "output_type": "stream",
     "text": [
      "Building prefix dict from /Users/poncc/Documents/GitHub/2nd-PyCrawlerMarathon/homework/day038/dict.user.big.txt ...\n",
      "Loading model from cache /var/folders/68/t9g86v0d0ys2rpbv_g1xxrph0000gn/T/jieba.u25b0b9ddcb92304ec71499048447de52.cache\n",
      "Loading model cost 1.016 seconds.\n",
      "Prefix dict has been built successfully.\n"
     ]
    },
    {
     "name": "stdout",
     "output_type": "stream",
     "text": [
      "poncc-debug: 228\n"
     ]
    },
    {
     "name": "stderr",
     "output_type": "stream",
     "text": [
      "Building prefix dict from /Users/poncc/Documents/GitHub/2nd-PyCrawlerMarathon/homework/day038/dict.user.big.txt ...\n",
      "Loading model from cache /var/folders/68/t9g86v0d0ys2rpbv_g1xxrph0000gn/T/jieba.u25b0b9ddcb92304ec71499048447de52.cache\n",
      "Loading model cost 0.995 seconds.\n",
      "Prefix dict has been built successfully.\n"
     ]
    },
    {
     "name": "stdout",
     "output_type": "stream",
     "text": [
      "poncc-debug: 229\n"
     ]
    },
    {
     "name": "stderr",
     "output_type": "stream",
     "text": [
      "Building prefix dict from /Users/poncc/Documents/GitHub/2nd-PyCrawlerMarathon/homework/day038/dict.user.big.txt ...\n",
      "Loading model from cache /var/folders/68/t9g86v0d0ys2rpbv_g1xxrph0000gn/T/jieba.u25b0b9ddcb92304ec71499048447de52.cache\n",
      "Loading model cost 1.015 seconds.\n",
      "Prefix dict has been built successfully.\n"
     ]
    },
    {
     "name": "stdout",
     "output_type": "stream",
     "text": [
      "poncc-debug: 230\n"
     ]
    },
    {
     "name": "stderr",
     "output_type": "stream",
     "text": [
      "Building prefix dict from /Users/poncc/Documents/GitHub/2nd-PyCrawlerMarathon/homework/day038/dict.user.big.txt ...\n",
      "Loading model from cache /var/folders/68/t9g86v0d0ys2rpbv_g1xxrph0000gn/T/jieba.u25b0b9ddcb92304ec71499048447de52.cache\n",
      "Loading model cost 1.000 seconds.\n",
      "Prefix dict has been built successfully.\n"
     ]
    },
    {
     "name": "stdout",
     "output_type": "stream",
     "text": [
      "poncc-debug: 231\n"
     ]
    },
    {
     "name": "stderr",
     "output_type": "stream",
     "text": [
      "Building prefix dict from /Users/poncc/Documents/GitHub/2nd-PyCrawlerMarathon/homework/day038/dict.user.big.txt ...\n",
      "Loading model from cache /var/folders/68/t9g86v0d0ys2rpbv_g1xxrph0000gn/T/jieba.u25b0b9ddcb92304ec71499048447de52.cache\n",
      "Loading model cost 1.031 seconds.\n",
      "Prefix dict has been built successfully.\n"
     ]
    },
    {
     "name": "stdout",
     "output_type": "stream",
     "text": [
      "poncc-debug: 232\n"
     ]
    },
    {
     "name": "stderr",
     "output_type": "stream",
     "text": [
      "Building prefix dict from /Users/poncc/Documents/GitHub/2nd-PyCrawlerMarathon/homework/day038/dict.user.big.txt ...\n",
      "Loading model from cache /var/folders/68/t9g86v0d0ys2rpbv_g1xxrph0000gn/T/jieba.u25b0b9ddcb92304ec71499048447de52.cache\n",
      "Loading model cost 1.016 seconds.\n",
      "Prefix dict has been built successfully.\n"
     ]
    },
    {
     "name": "stdout",
     "output_type": "stream",
     "text": [
      "poncc-debug: 233\n"
     ]
    },
    {
     "name": "stderr",
     "output_type": "stream",
     "text": [
      "Building prefix dict from /Users/poncc/Documents/GitHub/2nd-PyCrawlerMarathon/homework/day038/dict.user.big.txt ...\n",
      "Loading model from cache /var/folders/68/t9g86v0d0ys2rpbv_g1xxrph0000gn/T/jieba.u25b0b9ddcb92304ec71499048447de52.cache\n",
      "Loading model cost 1.029 seconds.\n",
      "Prefix dict has been built successfully.\n",
      "Building prefix dict from /Users/poncc/Documents/GitHub/2nd-PyCrawlerMarathon/homework/day038/dict.user.big.txt ...\n",
      "Loading model from cache /var/folders/68/t9g86v0d0ys2rpbv_g1xxrph0000gn/T/jieba.u25b0b9ddcb92304ec71499048447de52.cache\n"
     ]
    },
    {
     "name": "stdout",
     "output_type": "stream",
     "text": [
      "poncc-debug: 234\n"
     ]
    },
    {
     "name": "stderr",
     "output_type": "stream",
     "text": [
      "Loading model cost 1.010 seconds.\n",
      "Prefix dict has been built successfully.\n"
     ]
    },
    {
     "name": "stdout",
     "output_type": "stream",
     "text": [
      "poncc-debug: 235\n"
     ]
    },
    {
     "name": "stderr",
     "output_type": "stream",
     "text": [
      "Building prefix dict from /Users/poncc/Documents/GitHub/2nd-PyCrawlerMarathon/homework/day038/dict.user.big.txt ...\n",
      "Loading model from cache /var/folders/68/t9g86v0d0ys2rpbv_g1xxrph0000gn/T/jieba.u25b0b9ddcb92304ec71499048447de52.cache\n",
      "Loading model cost 1.027 seconds.\n",
      "Prefix dict has been built successfully.\n"
     ]
    },
    {
     "name": "stdout",
     "output_type": "stream",
     "text": [
      "poncc-debug: 236\n"
     ]
    },
    {
     "name": "stderr",
     "output_type": "stream",
     "text": [
      "Building prefix dict from /Users/poncc/Documents/GitHub/2nd-PyCrawlerMarathon/homework/day038/dict.user.big.txt ...\n",
      "Loading model from cache /var/folders/68/t9g86v0d0ys2rpbv_g1xxrph0000gn/T/jieba.u25b0b9ddcb92304ec71499048447de52.cache\n",
      "Loading model cost 1.006 seconds.\n",
      "Prefix dict has been built successfully.\n"
     ]
    },
    {
     "name": "stdout",
     "output_type": "stream",
     "text": [
      "poncc-debug: 237\n"
     ]
    },
    {
     "name": "stderr",
     "output_type": "stream",
     "text": [
      "Building prefix dict from /Users/poncc/Documents/GitHub/2nd-PyCrawlerMarathon/homework/day038/dict.user.big.txt ...\n",
      "Loading model from cache /var/folders/68/t9g86v0d0ys2rpbv_g1xxrph0000gn/T/jieba.u25b0b9ddcb92304ec71499048447de52.cache\n",
      "Loading model cost 1.037 seconds.\n",
      "Prefix dict has been built successfully.\n"
     ]
    },
    {
     "name": "stdout",
     "output_type": "stream",
     "text": [
      "poncc-debug: 238\n"
     ]
    },
    {
     "name": "stderr",
     "output_type": "stream",
     "text": [
      "Building prefix dict from /Users/poncc/Documents/GitHub/2nd-PyCrawlerMarathon/homework/day038/dict.user.big.txt ...\n",
      "Loading model from cache /var/folders/68/t9g86v0d0ys2rpbv_g1xxrph0000gn/T/jieba.u25b0b9ddcb92304ec71499048447de52.cache\n",
      "Loading model cost 1.009 seconds.\n",
      "Prefix dict has been built successfully.\n"
     ]
    },
    {
     "name": "stdout",
     "output_type": "stream",
     "text": [
      "poncc-debug: 239\n"
     ]
    },
    {
     "name": "stderr",
     "output_type": "stream",
     "text": [
      "Building prefix dict from /Users/poncc/Documents/GitHub/2nd-PyCrawlerMarathon/homework/day038/dict.user.big.txt ...\n",
      "Loading model from cache /var/folders/68/t9g86v0d0ys2rpbv_g1xxrph0000gn/T/jieba.u25b0b9ddcb92304ec71499048447de52.cache\n",
      "Loading model cost 1.026 seconds.\n",
      "Prefix dict has been built successfully.\n",
      "Building prefix dict from /Users/poncc/Documents/GitHub/2nd-PyCrawlerMarathon/homework/day038/dict.user.big.txt ...\n"
     ]
    },
    {
     "name": "stdout",
     "output_type": "stream",
     "text": [
      "poncc-debug: 240\n"
     ]
    },
    {
     "name": "stderr",
     "output_type": "stream",
     "text": [
      "Loading model from cache /var/folders/68/t9g86v0d0ys2rpbv_g1xxrph0000gn/T/jieba.u25b0b9ddcb92304ec71499048447de52.cache\n",
      "Loading model cost 1.006 seconds.\n",
      "Prefix dict has been built successfully.\n"
     ]
    },
    {
     "name": "stdout",
     "output_type": "stream",
     "text": [
      "poncc-debug: 241\n"
     ]
    },
    {
     "name": "stderr",
     "output_type": "stream",
     "text": [
      "Building prefix dict from /Users/poncc/Documents/GitHub/2nd-PyCrawlerMarathon/homework/day038/dict.user.big.txt ...\n",
      "Loading model from cache /var/folders/68/t9g86v0d0ys2rpbv_g1xxrph0000gn/T/jieba.u25b0b9ddcb92304ec71499048447de52.cache\n",
      "Loading model cost 1.031 seconds.\n",
      "Prefix dict has been built successfully.\n"
     ]
    },
    {
     "name": "stdout",
     "output_type": "stream",
     "text": [
      "poncc-debug: 242\n"
     ]
    },
    {
     "name": "stderr",
     "output_type": "stream",
     "text": [
      "Building prefix dict from /Users/poncc/Documents/GitHub/2nd-PyCrawlerMarathon/homework/day038/dict.user.big.txt ...\n",
      "Loading model from cache /var/folders/68/t9g86v0d0ys2rpbv_g1xxrph0000gn/T/jieba.u25b0b9ddcb92304ec71499048447de52.cache\n",
      "Loading model cost 1.007 seconds.\n",
      "Prefix dict has been built successfully.\n"
     ]
    },
    {
     "name": "stdout",
     "output_type": "stream",
     "text": [
      "poncc-debug: 243\n"
     ]
    },
    {
     "name": "stderr",
     "output_type": "stream",
     "text": [
      "Building prefix dict from /Users/poncc/Documents/GitHub/2nd-PyCrawlerMarathon/homework/day038/dict.user.big.txt ...\n",
      "Loading model from cache /var/folders/68/t9g86v0d0ys2rpbv_g1xxrph0000gn/T/jieba.u25b0b9ddcb92304ec71499048447de52.cache\n",
      "Loading model cost 1.082 seconds.\n",
      "Prefix dict has been built successfully.\n"
     ]
    },
    {
     "name": "stdout",
     "output_type": "stream",
     "text": [
      "poncc-debug: 244\n"
     ]
    },
    {
     "name": "stderr",
     "output_type": "stream",
     "text": [
      "Building prefix dict from /Users/poncc/Documents/GitHub/2nd-PyCrawlerMarathon/homework/day038/dict.user.big.txt ...\n",
      "Loading model from cache /var/folders/68/t9g86v0d0ys2rpbv_g1xxrph0000gn/T/jieba.u25b0b9ddcb92304ec71499048447de52.cache\n",
      "Loading model cost 1.072 seconds.\n",
      "Prefix dict has been built successfully.\n",
      "Building prefix dict from /Users/poncc/Documents/GitHub/2nd-PyCrawlerMarathon/homework/day038/dict.user.big.txt ...\n",
      "Loading model from cache /var/folders/68/t9g86v0d0ys2rpbv_g1xxrph0000gn/T/jieba.u25b0b9ddcb92304ec71499048447de52.cache\n"
     ]
    },
    {
     "name": "stdout",
     "output_type": "stream",
     "text": [
      "poncc-debug: 245\n"
     ]
    },
    {
     "name": "stderr",
     "output_type": "stream",
     "text": [
      "Loading model cost 1.096 seconds.\n",
      "Prefix dict has been built successfully.\n"
     ]
    },
    {
     "name": "stdout",
     "output_type": "stream",
     "text": [
      "poncc-debug: 246\n"
     ]
    },
    {
     "name": "stderr",
     "output_type": "stream",
     "text": [
      "Building prefix dict from /Users/poncc/Documents/GitHub/2nd-PyCrawlerMarathon/homework/day038/dict.user.big.txt ...\n",
      "Loading model from cache /var/folders/68/t9g86v0d0ys2rpbv_g1xxrph0000gn/T/jieba.u25b0b9ddcb92304ec71499048447de52.cache\n",
      "Loading model cost 1.096 seconds.\n",
      "Prefix dict has been built successfully.\n"
     ]
    },
    {
     "name": "stdout",
     "output_type": "stream",
     "text": [
      "poncc-debug: 247\n"
     ]
    },
    {
     "name": "stderr",
     "output_type": "stream",
     "text": [
      "Building prefix dict from /Users/poncc/Documents/GitHub/2nd-PyCrawlerMarathon/homework/day038/dict.user.big.txt ...\n",
      "Loading model from cache /var/folders/68/t9g86v0d0ys2rpbv_g1xxrph0000gn/T/jieba.u25b0b9ddcb92304ec71499048447de52.cache\n",
      "Loading model cost 1.078 seconds.\n",
      "Prefix dict has been built successfully.\n"
     ]
    },
    {
     "name": "stdout",
     "output_type": "stream",
     "text": [
      "poncc-debug: 248\n"
     ]
    },
    {
     "name": "stderr",
     "output_type": "stream",
     "text": [
      "Building prefix dict from /Users/poncc/Documents/GitHub/2nd-PyCrawlerMarathon/homework/day038/dict.user.big.txt ...\n",
      "Loading model from cache /var/folders/68/t9g86v0d0ys2rpbv_g1xxrph0000gn/T/jieba.u25b0b9ddcb92304ec71499048447de52.cache\n",
      "Loading model cost 1.006 seconds.\n",
      "Prefix dict has been built successfully.\n"
     ]
    },
    {
     "name": "stdout",
     "output_type": "stream",
     "text": [
      "poncc-debug: 249\n"
     ]
    },
    {
     "name": "stderr",
     "output_type": "stream",
     "text": [
      "Building prefix dict from /Users/poncc/Documents/GitHub/2nd-PyCrawlerMarathon/homework/day038/dict.user.big.txt ...\n",
      "Loading model from cache /var/folders/68/t9g86v0d0ys2rpbv_g1xxrph0000gn/T/jieba.u25b0b9ddcb92304ec71499048447de52.cache\n",
      "Loading model cost 0.995 seconds.\n",
      "Prefix dict has been built successfully.\n"
     ]
    },
    {
     "name": "stdout",
     "output_type": "stream",
     "text": [
      "poncc-debug: 250\n"
     ]
    },
    {
     "name": "stderr",
     "output_type": "stream",
     "text": [
      "Building prefix dict from /Users/poncc/Documents/GitHub/2nd-PyCrawlerMarathon/homework/day038/dict.user.big.txt ...\n",
      "Loading model from cache /var/folders/68/t9g86v0d0ys2rpbv_g1xxrph0000gn/T/jieba.u25b0b9ddcb92304ec71499048447de52.cache\n",
      "Loading model cost 1.008 seconds.\n",
      "Prefix dict has been built successfully.\n"
     ]
    },
    {
     "name": "stdout",
     "output_type": "stream",
     "text": [
      "poncc-debug: 251\n"
     ]
    },
    {
     "name": "stderr",
     "output_type": "stream",
     "text": [
      "Building prefix dict from /Users/poncc/Documents/GitHub/2nd-PyCrawlerMarathon/homework/day038/dict.user.big.txt ...\n",
      "Loading model from cache /var/folders/68/t9g86v0d0ys2rpbv_g1xxrph0000gn/T/jieba.u25b0b9ddcb92304ec71499048447de52.cache\n",
      "Loading model cost 0.995 seconds.\n",
      "Prefix dict has been built successfully.\n"
     ]
    },
    {
     "name": "stdout",
     "output_type": "stream",
     "text": [
      "poncc-debug: 252\n"
     ]
    },
    {
     "name": "stderr",
     "output_type": "stream",
     "text": [
      "Building prefix dict from /Users/poncc/Documents/GitHub/2nd-PyCrawlerMarathon/homework/day038/dict.user.big.txt ...\n",
      "Loading model from cache /var/folders/68/t9g86v0d0ys2rpbv_g1xxrph0000gn/T/jieba.u25b0b9ddcb92304ec71499048447de52.cache\n",
      "Loading model cost 1.010 seconds.\n",
      "Prefix dict has been built successfully.\n"
     ]
    },
    {
     "name": "stdout",
     "output_type": "stream",
     "text": [
      "poncc-debug: 253\n"
     ]
    },
    {
     "name": "stderr",
     "output_type": "stream",
     "text": [
      "Building prefix dict from /Users/poncc/Documents/GitHub/2nd-PyCrawlerMarathon/homework/day038/dict.user.big.txt ...\n",
      "Loading model from cache /var/folders/68/t9g86v0d0ys2rpbv_g1xxrph0000gn/T/jieba.u25b0b9ddcb92304ec71499048447de52.cache\n",
      "Loading model cost 1.026 seconds.\n",
      "Prefix dict has been built successfully.\n"
     ]
    },
    {
     "name": "stdout",
     "output_type": "stream",
     "text": [
      "poncc-debug: 254\n"
     ]
    },
    {
     "name": "stderr",
     "output_type": "stream",
     "text": [
      "Building prefix dict from /Users/poncc/Documents/GitHub/2nd-PyCrawlerMarathon/homework/day038/dict.user.big.txt ...\n",
      "Loading model from cache /var/folders/68/t9g86v0d0ys2rpbv_g1xxrph0000gn/T/jieba.u25b0b9ddcb92304ec71499048447de52.cache\n",
      "Loading model cost 1.009 seconds.\n",
      "Prefix dict has been built successfully.\n"
     ]
    },
    {
     "name": "stdout",
     "output_type": "stream",
     "text": [
      "poncc-debug: 255\n"
     ]
    },
    {
     "name": "stderr",
     "output_type": "stream",
     "text": [
      "Building prefix dict from /Users/poncc/Documents/GitHub/2nd-PyCrawlerMarathon/homework/day038/dict.user.big.txt ...\n",
      "Loading model from cache /var/folders/68/t9g86v0d0ys2rpbv_g1xxrph0000gn/T/jieba.u25b0b9ddcb92304ec71499048447de52.cache\n",
      "Loading model cost 1.008 seconds.\n",
      "Prefix dict has been built successfully.\n"
     ]
    },
    {
     "name": "stdout",
     "output_type": "stream",
     "text": [
      "poncc-debug: 256\n"
     ]
    },
    {
     "name": "stderr",
     "output_type": "stream",
     "text": [
      "Building prefix dict from /Users/poncc/Documents/GitHub/2nd-PyCrawlerMarathon/homework/day038/dict.user.big.txt ...\n",
      "Loading model from cache /var/folders/68/t9g86v0d0ys2rpbv_g1xxrph0000gn/T/jieba.u25b0b9ddcb92304ec71499048447de52.cache\n",
      "Loading model cost 0.996 seconds.\n",
      "Prefix dict has been built successfully.\n"
     ]
    },
    {
     "name": "stdout",
     "output_type": "stream",
     "text": [
      "poncc-debug: 257\n"
     ]
    },
    {
     "name": "stderr",
     "output_type": "stream",
     "text": [
      "Building prefix dict from /Users/poncc/Documents/GitHub/2nd-PyCrawlerMarathon/homework/day038/dict.user.big.txt ...\n",
      "Loading model from cache /var/folders/68/t9g86v0d0ys2rpbv_g1xxrph0000gn/T/jieba.u25b0b9ddcb92304ec71499048447de52.cache\n",
      "Loading model cost 0.988 seconds.\n",
      "Prefix dict has been built successfully.\n"
     ]
    },
    {
     "name": "stdout",
     "output_type": "stream",
     "text": [
      "poncc-debug: 258\n"
     ]
    },
    {
     "name": "stderr",
     "output_type": "stream",
     "text": [
      "Building prefix dict from /Users/poncc/Documents/GitHub/2nd-PyCrawlerMarathon/homework/day038/dict.user.big.txt ...\n",
      "Loading model from cache /var/folders/68/t9g86v0d0ys2rpbv_g1xxrph0000gn/T/jieba.u25b0b9ddcb92304ec71499048447de52.cache\n",
      "Loading model cost 1.009 seconds.\n",
      "Prefix dict has been built successfully.\n"
     ]
    },
    {
     "name": "stdout",
     "output_type": "stream",
     "text": [
      "poncc-debug: 259\n"
     ]
    },
    {
     "name": "stderr",
     "output_type": "stream",
     "text": [
      "Building prefix dict from /Users/poncc/Documents/GitHub/2nd-PyCrawlerMarathon/homework/day038/dict.user.big.txt ...\n",
      "Loading model from cache /var/folders/68/t9g86v0d0ys2rpbv_g1xxrph0000gn/T/jieba.u25b0b9ddcb92304ec71499048447de52.cache\n",
      "Loading model cost 0.999 seconds.\n",
      "Prefix dict has been built successfully.\n"
     ]
    },
    {
     "name": "stdout",
     "output_type": "stream",
     "text": [
      "poncc-debug: 260\n"
     ]
    },
    {
     "name": "stderr",
     "output_type": "stream",
     "text": [
      "Building prefix dict from /Users/poncc/Documents/GitHub/2nd-PyCrawlerMarathon/homework/day038/dict.user.big.txt ...\n",
      "Loading model from cache /var/folders/68/t9g86v0d0ys2rpbv_g1xxrph0000gn/T/jieba.u25b0b9ddcb92304ec71499048447de52.cache\n",
      "Loading model cost 1.009 seconds.\n",
      "Prefix dict has been built successfully.\n"
     ]
    },
    {
     "name": "stdout",
     "output_type": "stream",
     "text": [
      "poncc-debug: 261\n"
     ]
    },
    {
     "name": "stderr",
     "output_type": "stream",
     "text": [
      "Building prefix dict from /Users/poncc/Documents/GitHub/2nd-PyCrawlerMarathon/homework/day038/dict.user.big.txt ...\n",
      "Loading model from cache /var/folders/68/t9g86v0d0ys2rpbv_g1xxrph0000gn/T/jieba.u25b0b9ddcb92304ec71499048447de52.cache\n",
      "Loading model cost 1.034 seconds.\n",
      "Prefix dict has been built successfully.\n"
     ]
    },
    {
     "name": "stdout",
     "output_type": "stream",
     "text": [
      "poncc-debug: 262\n"
     ]
    },
    {
     "name": "stderr",
     "output_type": "stream",
     "text": [
      "Building prefix dict from /Users/poncc/Documents/GitHub/2nd-PyCrawlerMarathon/homework/day038/dict.user.big.txt ...\n",
      "Loading model from cache /var/folders/68/t9g86v0d0ys2rpbv_g1xxrph0000gn/T/jieba.u25b0b9ddcb92304ec71499048447de52.cache\n",
      "Loading model cost 1.037 seconds.\n",
      "Prefix dict has been built successfully.\n"
     ]
    },
    {
     "name": "stdout",
     "output_type": "stream",
     "text": [
      "poncc-debug: 263\n"
     ]
    },
    {
     "name": "stderr",
     "output_type": "stream",
     "text": [
      "Building prefix dict from /Users/poncc/Documents/GitHub/2nd-PyCrawlerMarathon/homework/day038/dict.user.big.txt ...\n",
      "Loading model from cache /var/folders/68/t9g86v0d0ys2rpbv_g1xxrph0000gn/T/jieba.u25b0b9ddcb92304ec71499048447de52.cache\n",
      "Loading model cost 1.013 seconds.\n",
      "Prefix dict has been built successfully.\n"
     ]
    },
    {
     "name": "stdout",
     "output_type": "stream",
     "text": [
      "poncc-debug: 264\n"
     ]
    },
    {
     "name": "stderr",
     "output_type": "stream",
     "text": [
      "Building prefix dict from /Users/poncc/Documents/GitHub/2nd-PyCrawlerMarathon/homework/day038/dict.user.big.txt ...\n",
      "Loading model from cache /var/folders/68/t9g86v0d0ys2rpbv_g1xxrph0000gn/T/jieba.u25b0b9ddcb92304ec71499048447de52.cache\n",
      "Loading model cost 1.009 seconds.\n",
      "Prefix dict has been built successfully.\n"
     ]
    },
    {
     "name": "stdout",
     "output_type": "stream",
     "text": [
      "poncc-debug: 265\n"
     ]
    },
    {
     "name": "stderr",
     "output_type": "stream",
     "text": [
      "Building prefix dict from /Users/poncc/Documents/GitHub/2nd-PyCrawlerMarathon/homework/day038/dict.user.big.txt ...\n",
      "Loading model from cache /var/folders/68/t9g86v0d0ys2rpbv_g1xxrph0000gn/T/jieba.u25b0b9ddcb92304ec71499048447de52.cache\n",
      "Loading model cost 1.024 seconds.\n",
      "Prefix dict has been built successfully.\n"
     ]
    },
    {
     "name": "stdout",
     "output_type": "stream",
     "text": [
      "poncc-debug: 266\n"
     ]
    },
    {
     "name": "stderr",
     "output_type": "stream",
     "text": [
      "Building prefix dict from /Users/poncc/Documents/GitHub/2nd-PyCrawlerMarathon/homework/day038/dict.user.big.txt ...\n",
      "Loading model from cache /var/folders/68/t9g86v0d0ys2rpbv_g1xxrph0000gn/T/jieba.u25b0b9ddcb92304ec71499048447de52.cache\n",
      "Loading model cost 1.006 seconds.\n",
      "Prefix dict has been built successfully.\n"
     ]
    },
    {
     "name": "stdout",
     "output_type": "stream",
     "text": [
      "poncc-debug: 267\n"
     ]
    },
    {
     "name": "stderr",
     "output_type": "stream",
     "text": [
      "Building prefix dict from /Users/poncc/Documents/GitHub/2nd-PyCrawlerMarathon/homework/day038/dict.user.big.txt ...\n",
      "Loading model from cache /var/folders/68/t9g86v0d0ys2rpbv_g1xxrph0000gn/T/jieba.u25b0b9ddcb92304ec71499048447de52.cache\n",
      "Loading model cost 1.042 seconds.\n",
      "Prefix dict has been built successfully.\n"
     ]
    },
    {
     "name": "stdout",
     "output_type": "stream",
     "text": [
      "poncc-debug: 268\n"
     ]
    },
    {
     "name": "stderr",
     "output_type": "stream",
     "text": [
      "Building prefix dict from /Users/poncc/Documents/GitHub/2nd-PyCrawlerMarathon/homework/day038/dict.user.big.txt ...\n",
      "Loading model from cache /var/folders/68/t9g86v0d0ys2rpbv_g1xxrph0000gn/T/jieba.u25b0b9ddcb92304ec71499048447de52.cache\n",
      "Loading model cost 1.010 seconds.\n",
      "Prefix dict has been built successfully.\n"
     ]
    },
    {
     "name": "stdout",
     "output_type": "stream",
     "text": [
      "poncc-debug: 269\n"
     ]
    },
    {
     "name": "stderr",
     "output_type": "stream",
     "text": [
      "Building prefix dict from /Users/poncc/Documents/GitHub/2nd-PyCrawlerMarathon/homework/day038/dict.user.big.txt ...\n",
      "Loading model from cache /var/folders/68/t9g86v0d0ys2rpbv_g1xxrph0000gn/T/jieba.u25b0b9ddcb92304ec71499048447de52.cache\n",
      "Loading model cost 1.018 seconds.\n",
      "Prefix dict has been built successfully.\n"
     ]
    },
    {
     "name": "stdout",
     "output_type": "stream",
     "text": [
      "poncc-debug: 270\n"
     ]
    },
    {
     "name": "stderr",
     "output_type": "stream",
     "text": [
      "Building prefix dict from /Users/poncc/Documents/GitHub/2nd-PyCrawlerMarathon/homework/day038/dict.user.big.txt ...\n",
      "Loading model from cache /var/folders/68/t9g86v0d0ys2rpbv_g1xxrph0000gn/T/jieba.u25b0b9ddcb92304ec71499048447de52.cache\n",
      "Loading model cost 1.008 seconds.\n",
      "Prefix dict has been built successfully.\n"
     ]
    },
    {
     "name": "stdout",
     "output_type": "stream",
     "text": [
      "poncc-debug: 271\n"
     ]
    },
    {
     "name": "stderr",
     "output_type": "stream",
     "text": [
      "Building prefix dict from /Users/poncc/Documents/GitHub/2nd-PyCrawlerMarathon/homework/day038/dict.user.big.txt ...\n",
      "Loading model from cache /var/folders/68/t9g86v0d0ys2rpbv_g1xxrph0000gn/T/jieba.u25b0b9ddcb92304ec71499048447de52.cache\n",
      "Loading model cost 1.015 seconds.\n",
      "Prefix dict has been built successfully.\n"
     ]
    },
    {
     "name": "stdout",
     "output_type": "stream",
     "text": [
      "poncc-debug: 272\n"
     ]
    },
    {
     "name": "stderr",
     "output_type": "stream",
     "text": [
      "Building prefix dict from /Users/poncc/Documents/GitHub/2nd-PyCrawlerMarathon/homework/day038/dict.user.big.txt ...\n",
      "Loading model from cache /var/folders/68/t9g86v0d0ys2rpbv_g1xxrph0000gn/T/jieba.u25b0b9ddcb92304ec71499048447de52.cache\n",
      "Loading model cost 1.015 seconds.\n",
      "Prefix dict has been built successfully.\n"
     ]
    },
    {
     "name": "stdout",
     "output_type": "stream",
     "text": [
      "poncc-debug: 273\n"
     ]
    },
    {
     "name": "stderr",
     "output_type": "stream",
     "text": [
      "Building prefix dict from /Users/poncc/Documents/GitHub/2nd-PyCrawlerMarathon/homework/day038/dict.user.big.txt ...\n",
      "Loading model from cache /var/folders/68/t9g86v0d0ys2rpbv_g1xxrph0000gn/T/jieba.u25b0b9ddcb92304ec71499048447de52.cache\n",
      "Loading model cost 1.020 seconds.\n",
      "Prefix dict has been built successfully.\n"
     ]
    },
    {
     "name": "stdout",
     "output_type": "stream",
     "text": [
      "poncc-debug: 274\n"
     ]
    },
    {
     "name": "stderr",
     "output_type": "stream",
     "text": [
      "Building prefix dict from /Users/poncc/Documents/GitHub/2nd-PyCrawlerMarathon/homework/day038/dict.user.big.txt ...\n",
      "Loading model from cache /var/folders/68/t9g86v0d0ys2rpbv_g1xxrph0000gn/T/jieba.u25b0b9ddcb92304ec71499048447de52.cache\n",
      "Loading model cost 1.000 seconds.\n",
      "Prefix dict has been built successfully.\n"
     ]
    },
    {
     "name": "stdout",
     "output_type": "stream",
     "text": [
      "poncc-debug: 275\n"
     ]
    },
    {
     "name": "stderr",
     "output_type": "stream",
     "text": [
      "Building prefix dict from /Users/poncc/Documents/GitHub/2nd-PyCrawlerMarathon/homework/day038/dict.user.big.txt ...\n",
      "Loading model from cache /var/folders/68/t9g86v0d0ys2rpbv_g1xxrph0000gn/T/jieba.u25b0b9ddcb92304ec71499048447de52.cache\n",
      "Loading model cost 1.031 seconds.\n",
      "Prefix dict has been built successfully.\n"
     ]
    },
    {
     "name": "stdout",
     "output_type": "stream",
     "text": [
      "poncc-debug: 276\n"
     ]
    },
    {
     "name": "stderr",
     "output_type": "stream",
     "text": [
      "Building prefix dict from /Users/poncc/Documents/GitHub/2nd-PyCrawlerMarathon/homework/day038/dict.user.big.txt ...\n",
      "Loading model from cache /var/folders/68/t9g86v0d0ys2rpbv_g1xxrph0000gn/T/jieba.u25b0b9ddcb92304ec71499048447de52.cache\n",
      "Loading model cost 1.012 seconds.\n",
      "Prefix dict has been built successfully.\n"
     ]
    },
    {
     "name": "stdout",
     "output_type": "stream",
     "text": [
      "poncc-debug: 277\n"
     ]
    },
    {
     "name": "stderr",
     "output_type": "stream",
     "text": [
      "Building prefix dict from /Users/poncc/Documents/GitHub/2nd-PyCrawlerMarathon/homework/day038/dict.user.big.txt ...\n",
      "Loading model from cache /var/folders/68/t9g86v0d0ys2rpbv_g1xxrph0000gn/T/jieba.u25b0b9ddcb92304ec71499048447de52.cache\n",
      "Loading model cost 1.025 seconds.\n",
      "Prefix dict has been built successfully.\n"
     ]
    },
    {
     "name": "stdout",
     "output_type": "stream",
     "text": [
      "poncc-debug: 278\n"
     ]
    },
    {
     "name": "stderr",
     "output_type": "stream",
     "text": [
      "Building prefix dict from /Users/poncc/Documents/GitHub/2nd-PyCrawlerMarathon/homework/day038/dict.user.big.txt ...\n",
      "Loading model from cache /var/folders/68/t9g86v0d0ys2rpbv_g1xxrph0000gn/T/jieba.u25b0b9ddcb92304ec71499048447de52.cache\n",
      "Loading model cost 1.006 seconds.\n",
      "Prefix dict has been built successfully.\n"
     ]
    },
    {
     "name": "stdout",
     "output_type": "stream",
     "text": [
      "poncc-debug: 279\n"
     ]
    },
    {
     "name": "stderr",
     "output_type": "stream",
     "text": [
      "Building prefix dict from /Users/poncc/Documents/GitHub/2nd-PyCrawlerMarathon/homework/day038/dict.user.big.txt ...\n",
      "Loading model from cache /var/folders/68/t9g86v0d0ys2rpbv_g1xxrph0000gn/T/jieba.u25b0b9ddcb92304ec71499048447de52.cache\n",
      "Loading model cost 1.035 seconds.\n",
      "Prefix dict has been built successfully.\n"
     ]
    },
    {
     "name": "stdout",
     "output_type": "stream",
     "text": [
      "poncc-debug: 280\n"
     ]
    },
    {
     "name": "stderr",
     "output_type": "stream",
     "text": [
      "Building prefix dict from /Users/poncc/Documents/GitHub/2nd-PyCrawlerMarathon/homework/day038/dict.user.big.txt ...\n",
      "Loading model from cache /var/folders/68/t9g86v0d0ys2rpbv_g1xxrph0000gn/T/jieba.u25b0b9ddcb92304ec71499048447de52.cache\n",
      "Loading model cost 1.008 seconds.\n",
      "Prefix dict has been built successfully.\n"
     ]
    },
    {
     "name": "stdout",
     "output_type": "stream",
     "text": [
      "poncc-debug: 281\n"
     ]
    },
    {
     "name": "stderr",
     "output_type": "stream",
     "text": [
      "Building prefix dict from /Users/poncc/Documents/GitHub/2nd-PyCrawlerMarathon/homework/day038/dict.user.big.txt ...\n",
      "Loading model from cache /var/folders/68/t9g86v0d0ys2rpbv_g1xxrph0000gn/T/jieba.u25b0b9ddcb92304ec71499048447de52.cache\n",
      "Loading model cost 1.051 seconds.\n",
      "Prefix dict has been built successfully.\n"
     ]
    },
    {
     "name": "stdout",
     "output_type": "stream",
     "text": [
      "poncc-debug: 282\n"
     ]
    },
    {
     "name": "stderr",
     "output_type": "stream",
     "text": [
      "Building prefix dict from /Users/poncc/Documents/GitHub/2nd-PyCrawlerMarathon/homework/day038/dict.user.big.txt ...\n",
      "Loading model from cache /var/folders/68/t9g86v0d0ys2rpbv_g1xxrph0000gn/T/jieba.u25b0b9ddcb92304ec71499048447de52.cache\n",
      "Loading model cost 1.014 seconds.\n",
      "Prefix dict has been built successfully.\n"
     ]
    },
    {
     "name": "stdout",
     "output_type": "stream",
     "text": [
      "poncc-debug: 283\n"
     ]
    },
    {
     "name": "stderr",
     "output_type": "stream",
     "text": [
      "Building prefix dict from /Users/poncc/Documents/GitHub/2nd-PyCrawlerMarathon/homework/day038/dict.user.big.txt ...\n",
      "Loading model from cache /var/folders/68/t9g86v0d0ys2rpbv_g1xxrph0000gn/T/jieba.u25b0b9ddcb92304ec71499048447de52.cache\n",
      "Loading model cost 1.027 seconds.\n",
      "Prefix dict has been built successfully.\n"
     ]
    },
    {
     "name": "stdout",
     "output_type": "stream",
     "text": [
      "poncc-debug: 284\n"
     ]
    },
    {
     "name": "stderr",
     "output_type": "stream",
     "text": [
      "Building prefix dict from /Users/poncc/Documents/GitHub/2nd-PyCrawlerMarathon/homework/day038/dict.user.big.txt ...\n",
      "Loading model from cache /var/folders/68/t9g86v0d0ys2rpbv_g1xxrph0000gn/T/jieba.u25b0b9ddcb92304ec71499048447de52.cache\n",
      "Loading model cost 1.016 seconds.\n",
      "Prefix dict has been built successfully.\n"
     ]
    },
    {
     "name": "stdout",
     "output_type": "stream",
     "text": [
      "poncc-debug: 285\n"
     ]
    },
    {
     "name": "stderr",
     "output_type": "stream",
     "text": [
      "Building prefix dict from /Users/poncc/Documents/GitHub/2nd-PyCrawlerMarathon/homework/day038/dict.user.big.txt ...\n",
      "Loading model from cache /var/folders/68/t9g86v0d0ys2rpbv_g1xxrph0000gn/T/jieba.u25b0b9ddcb92304ec71499048447de52.cache\n",
      "Loading model cost 1.020 seconds.\n",
      "Prefix dict has been built successfully.\n"
     ]
    },
    {
     "name": "stdout",
     "output_type": "stream",
     "text": [
      "poncc-debug: 286\n"
     ]
    },
    {
     "name": "stderr",
     "output_type": "stream",
     "text": [
      "Building prefix dict from /Users/poncc/Documents/GitHub/2nd-PyCrawlerMarathon/homework/day038/dict.user.big.txt ...\n",
      "Loading model from cache /var/folders/68/t9g86v0d0ys2rpbv_g1xxrph0000gn/T/jieba.u25b0b9ddcb92304ec71499048447de52.cache\n",
      "Loading model cost 1.009 seconds.\n",
      "Prefix dict has been built successfully.\n"
     ]
    },
    {
     "name": "stdout",
     "output_type": "stream",
     "text": [
      "poncc-debug: 287\n"
     ]
    },
    {
     "name": "stderr",
     "output_type": "stream",
     "text": [
      "Building prefix dict from /Users/poncc/Documents/GitHub/2nd-PyCrawlerMarathon/homework/day038/dict.user.big.txt ...\n",
      "Loading model from cache /var/folders/68/t9g86v0d0ys2rpbv_g1xxrph0000gn/T/jieba.u25b0b9ddcb92304ec71499048447de52.cache\n",
      "Loading model cost 1.025 seconds.\n",
      "Prefix dict has been built successfully.\n"
     ]
    },
    {
     "name": "stdout",
     "output_type": "stream",
     "text": [
      "poncc-debug: 288\n"
     ]
    },
    {
     "name": "stderr",
     "output_type": "stream",
     "text": [
      "Building prefix dict from /Users/poncc/Documents/GitHub/2nd-PyCrawlerMarathon/homework/day038/dict.user.big.txt ...\n",
      "Loading model from cache /var/folders/68/t9g86v0d0ys2rpbv_g1xxrph0000gn/T/jieba.u25b0b9ddcb92304ec71499048447de52.cache\n",
      "Loading model cost 0.999 seconds.\n",
      "Prefix dict has been built successfully.\n"
     ]
    },
    {
     "name": "stdout",
     "output_type": "stream",
     "text": [
      "poncc-debug: 289\n"
     ]
    },
    {
     "name": "stderr",
     "output_type": "stream",
     "text": [
      "Building prefix dict from /Users/poncc/Documents/GitHub/2nd-PyCrawlerMarathon/homework/day038/dict.user.big.txt ...\n",
      "Loading model from cache /var/folders/68/t9g86v0d0ys2rpbv_g1xxrph0000gn/T/jieba.u25b0b9ddcb92304ec71499048447de52.cache\n",
      "Loading model cost 1.023 seconds.\n",
      "Prefix dict has been built successfully.\n"
     ]
    },
    {
     "name": "stdout",
     "output_type": "stream",
     "text": [
      "poncc-debug: 290\n"
     ]
    },
    {
     "name": "stderr",
     "output_type": "stream",
     "text": [
      "Building prefix dict from /Users/poncc/Documents/GitHub/2nd-PyCrawlerMarathon/homework/day038/dict.user.big.txt ...\n",
      "Loading model from cache /var/folders/68/t9g86v0d0ys2rpbv_g1xxrph0000gn/T/jieba.u25b0b9ddcb92304ec71499048447de52.cache\n",
      "Loading model cost 1.009 seconds.\n",
      "Prefix dict has been built successfully.\n"
     ]
    },
    {
     "name": "stdout",
     "output_type": "stream",
     "text": [
      "poncc-debug: 291\n"
     ]
    },
    {
     "name": "stderr",
     "output_type": "stream",
     "text": [
      "Building prefix dict from /Users/poncc/Documents/GitHub/2nd-PyCrawlerMarathon/homework/day038/dict.user.big.txt ...\n",
      "Loading model from cache /var/folders/68/t9g86v0d0ys2rpbv_g1xxrph0000gn/T/jieba.u25b0b9ddcb92304ec71499048447de52.cache\n",
      "Loading model cost 1.021 seconds.\n",
      "Prefix dict has been built successfully.\n"
     ]
    },
    {
     "name": "stdout",
     "output_type": "stream",
     "text": [
      "poncc-debug: 292\n"
     ]
    },
    {
     "name": "stderr",
     "output_type": "stream",
     "text": [
      "Building prefix dict from /Users/poncc/Documents/GitHub/2nd-PyCrawlerMarathon/homework/day038/dict.user.big.txt ...\n",
      "Loading model from cache /var/folders/68/t9g86v0d0ys2rpbv_g1xxrph0000gn/T/jieba.u25b0b9ddcb92304ec71499048447de52.cache\n",
      "Loading model cost 1.005 seconds.\n",
      "Prefix dict has been built successfully.\n"
     ]
    },
    {
     "name": "stdout",
     "output_type": "stream",
     "text": [
      "poncc-debug: 293\n"
     ]
    },
    {
     "name": "stderr",
     "output_type": "stream",
     "text": [
      "Building prefix dict from /Users/poncc/Documents/GitHub/2nd-PyCrawlerMarathon/homework/day038/dict.user.big.txt ...\n",
      "Loading model from cache /var/folders/68/t9g86v0d0ys2rpbv_g1xxrph0000gn/T/jieba.u25b0b9ddcb92304ec71499048447de52.cache\n",
      "Loading model cost 1.021 seconds.\n",
      "Prefix dict has been built successfully.\n"
     ]
    },
    {
     "name": "stdout",
     "output_type": "stream",
     "text": [
      "poncc-debug: 294\n"
     ]
    },
    {
     "name": "stderr",
     "output_type": "stream",
     "text": [
      "Building prefix dict from /Users/poncc/Documents/GitHub/2nd-PyCrawlerMarathon/homework/day038/dict.user.big.txt ...\n",
      "Loading model from cache /var/folders/68/t9g86v0d0ys2rpbv_g1xxrph0000gn/T/jieba.u25b0b9ddcb92304ec71499048447de52.cache\n",
      "Loading model cost 1.003 seconds.\n",
      "Prefix dict has been built successfully.\n"
     ]
    },
    {
     "name": "stdout",
     "output_type": "stream",
     "text": [
      "poncc-debug: 295\n"
     ]
    },
    {
     "name": "stderr",
     "output_type": "stream",
     "text": [
      "Building prefix dict from /Users/poncc/Documents/GitHub/2nd-PyCrawlerMarathon/homework/day038/dict.user.big.txt ...\n",
      "Loading model from cache /var/folders/68/t9g86v0d0ys2rpbv_g1xxrph0000gn/T/jieba.u25b0b9ddcb92304ec71499048447de52.cache\n",
      "Loading model cost 1.026 seconds.\n",
      "Prefix dict has been built successfully.\n"
     ]
    },
    {
     "name": "stdout",
     "output_type": "stream",
     "text": [
      "poncc-debug: 296\n"
     ]
    },
    {
     "name": "stderr",
     "output_type": "stream",
     "text": [
      "Building prefix dict from /Users/poncc/Documents/GitHub/2nd-PyCrawlerMarathon/homework/day038/dict.user.big.txt ...\n",
      "Loading model from cache /var/folders/68/t9g86v0d0ys2rpbv_g1xxrph0000gn/T/jieba.u25b0b9ddcb92304ec71499048447de52.cache\n",
      "Loading model cost 1.005 seconds.\n",
      "Prefix dict has been built successfully.\n"
     ]
    },
    {
     "name": "stdout",
     "output_type": "stream",
     "text": [
      "poncc-debug: 297\n"
     ]
    },
    {
     "name": "stderr",
     "output_type": "stream",
     "text": [
      "Building prefix dict from /Users/poncc/Documents/GitHub/2nd-PyCrawlerMarathon/homework/day038/dict.user.big.txt ...\n",
      "Loading model from cache /var/folders/68/t9g86v0d0ys2rpbv_g1xxrph0000gn/T/jieba.u25b0b9ddcb92304ec71499048447de52.cache\n",
      "Loading model cost 1.027 seconds.\n",
      "Prefix dict has been built successfully.\n"
     ]
    },
    {
     "name": "stdout",
     "output_type": "stream",
     "text": [
      "poncc-debug: 298\n"
     ]
    },
    {
     "name": "stderr",
     "output_type": "stream",
     "text": [
      "Building prefix dict from /Users/poncc/Documents/GitHub/2nd-PyCrawlerMarathon/homework/day038/dict.user.big.txt ...\n",
      "Loading model from cache /var/folders/68/t9g86v0d0ys2rpbv_g1xxrph0000gn/T/jieba.u25b0b9ddcb92304ec71499048447de52.cache\n",
      "Loading model cost 1.008 seconds.\n",
      "Prefix dict has been built successfully.\n"
     ]
    },
    {
     "name": "stdout",
     "output_type": "stream",
     "text": [
      "poncc-debug: 299\n"
     ]
    },
    {
     "name": "stderr",
     "output_type": "stream",
     "text": [
      "Building prefix dict from /Users/poncc/Documents/GitHub/2nd-PyCrawlerMarathon/homework/day038/dict.user.big.txt ...\n",
      "Loading model from cache /var/folders/68/t9g86v0d0ys2rpbv_g1xxrph0000gn/T/jieba.u25b0b9ddcb92304ec71499048447de52.cache\n",
      "Loading model cost 1.031 seconds.\n",
      "Prefix dict has been built successfully.\n"
     ]
    },
    {
     "name": "stdout",
     "output_type": "stream",
     "text": [
      "poncc-debug: 300\n"
     ]
    },
    {
     "name": "stderr",
     "output_type": "stream",
     "text": [
      "Building prefix dict from /Users/poncc/Documents/GitHub/2nd-PyCrawlerMarathon/homework/day038/dict.user.big.txt ...\n",
      "Loading model from cache /var/folders/68/t9g86v0d0ys2rpbv_g1xxrph0000gn/T/jieba.u25b0b9ddcb92304ec71499048447de52.cache\n",
      "Loading model cost 0.995 seconds.\n",
      "Prefix dict has been built successfully.\n",
      "Building prefix dict from /Users/poncc/Documents/GitHub/2nd-PyCrawlerMarathon/homework/day038/dict.user.big.txt ...\n",
      "Loading model from cache /var/folders/68/t9g86v0d0ys2rpbv_g1xxrph0000gn/T/jieba.u25b0b9ddcb92304ec71499048447de52.cache\n"
     ]
    },
    {
     "name": "stdout",
     "output_type": "stream",
     "text": [
      "poncc-debug: 301\n"
     ]
    },
    {
     "name": "stderr",
     "output_type": "stream",
     "text": [
      "Loading model cost 1.027 seconds.\n",
      "Prefix dict has been built successfully.\n"
     ]
    },
    {
     "name": "stdout",
     "output_type": "stream",
     "text": [
      "poncc-debug: 302\n"
     ]
    },
    {
     "name": "stderr",
     "output_type": "stream",
     "text": [
      "Building prefix dict from /Users/poncc/Documents/GitHub/2nd-PyCrawlerMarathon/homework/day038/dict.user.big.txt ...\n",
      "Loading model from cache /var/folders/68/t9g86v0d0ys2rpbv_g1xxrph0000gn/T/jieba.u25b0b9ddcb92304ec71499048447de52.cache\n",
      "Loading model cost 0.994 seconds.\n",
      "Prefix dict has been built successfully.\n"
     ]
    },
    {
     "name": "stdout",
     "output_type": "stream",
     "text": [
      "poncc-debug: 303\n"
     ]
    },
    {
     "name": "stderr",
     "output_type": "stream",
     "text": [
      "Building prefix dict from /Users/poncc/Documents/GitHub/2nd-PyCrawlerMarathon/homework/day038/dict.user.big.txt ...\n",
      "Loading model from cache /var/folders/68/t9g86v0d0ys2rpbv_g1xxrph0000gn/T/jieba.u25b0b9ddcb92304ec71499048447de52.cache\n",
      "Loading model cost 1.006 seconds.\n",
      "Prefix dict has been built successfully.\n"
     ]
    },
    {
     "name": "stdout",
     "output_type": "stream",
     "text": [
      "poncc-debug: 304\n"
     ]
    },
    {
     "name": "stderr",
     "output_type": "stream",
     "text": [
      "Building prefix dict from /Users/poncc/Documents/GitHub/2nd-PyCrawlerMarathon/homework/day038/dict.user.big.txt ...\n",
      "Loading model from cache /var/folders/68/t9g86v0d0ys2rpbv_g1xxrph0000gn/T/jieba.u25b0b9ddcb92304ec71499048447de52.cache\n",
      "Loading model cost 1.003 seconds.\n",
      "Prefix dict has been built successfully.\n"
     ]
    },
    {
     "name": "stdout",
     "output_type": "stream",
     "text": [
      "poncc-debug: 305\n"
     ]
    },
    {
     "name": "stderr",
     "output_type": "stream",
     "text": [
      "Building prefix dict from /Users/poncc/Documents/GitHub/2nd-PyCrawlerMarathon/homework/day038/dict.user.big.txt ...\n",
      "Loading model from cache /var/folders/68/t9g86v0d0ys2rpbv_g1xxrph0000gn/T/jieba.u25b0b9ddcb92304ec71499048447de52.cache\n",
      "Loading model cost 0.999 seconds.\n",
      "Prefix dict has been built successfully.\n"
     ]
    },
    {
     "name": "stdout",
     "output_type": "stream",
     "text": [
      "poncc-debug: 306\n"
     ]
    },
    {
     "name": "stderr",
     "output_type": "stream",
     "text": [
      "Building prefix dict from /Users/poncc/Documents/GitHub/2nd-PyCrawlerMarathon/homework/day038/dict.user.big.txt ...\n",
      "Loading model from cache /var/folders/68/t9g86v0d0ys2rpbv_g1xxrph0000gn/T/jieba.u25b0b9ddcb92304ec71499048447de52.cache\n",
      "Loading model cost 1.004 seconds.\n",
      "Prefix dict has been built successfully.\n"
     ]
    },
    {
     "name": "stdout",
     "output_type": "stream",
     "text": [
      "poncc-debug: 307\n"
     ]
    },
    {
     "name": "stderr",
     "output_type": "stream",
     "text": [
      "Building prefix dict from /Users/poncc/Documents/GitHub/2nd-PyCrawlerMarathon/homework/day038/dict.user.big.txt ...\n",
      "Loading model from cache /var/folders/68/t9g86v0d0ys2rpbv_g1xxrph0000gn/T/jieba.u25b0b9ddcb92304ec71499048447de52.cache\n",
      "Loading model cost 1.003 seconds.\n",
      "Prefix dict has been built successfully.\n"
     ]
    },
    {
     "name": "stdout",
     "output_type": "stream",
     "text": [
      "poncc-debug: 308\n"
     ]
    },
    {
     "name": "stderr",
     "output_type": "stream",
     "text": [
      "Building prefix dict from /Users/poncc/Documents/GitHub/2nd-PyCrawlerMarathon/homework/day038/dict.user.big.txt ...\n",
      "Loading model from cache /var/folders/68/t9g86v0d0ys2rpbv_g1xxrph0000gn/T/jieba.u25b0b9ddcb92304ec71499048447de52.cache\n",
      "Loading model cost 1.005 seconds.\n",
      "Prefix dict has been built successfully.\n"
     ]
    },
    {
     "name": "stdout",
     "output_type": "stream",
     "text": [
      "poncc-debug: 309\n"
     ]
    },
    {
     "name": "stderr",
     "output_type": "stream",
     "text": [
      "Building prefix dict from /Users/poncc/Documents/GitHub/2nd-PyCrawlerMarathon/homework/day038/dict.user.big.txt ...\n",
      "Loading model from cache /var/folders/68/t9g86v0d0ys2rpbv_g1xxrph0000gn/T/jieba.u25b0b9ddcb92304ec71499048447de52.cache\n",
      "Loading model cost 1.009 seconds.\n",
      "Prefix dict has been built successfully.\n"
     ]
    },
    {
     "name": "stdout",
     "output_type": "stream",
     "text": [
      "poncc-debug: 310\n"
     ]
    },
    {
     "name": "stderr",
     "output_type": "stream",
     "text": [
      "Building prefix dict from /Users/poncc/Documents/GitHub/2nd-PyCrawlerMarathon/homework/day038/dict.user.big.txt ...\n",
      "Loading model from cache /var/folders/68/t9g86v0d0ys2rpbv_g1xxrph0000gn/T/jieba.u25b0b9ddcb92304ec71499048447de52.cache\n",
      "Loading model cost 1.014 seconds.\n",
      "Prefix dict has been built successfully.\n"
     ]
    },
    {
     "name": "stdout",
     "output_type": "stream",
     "text": [
      "poncc-debug: 311\n"
     ]
    },
    {
     "name": "stderr",
     "output_type": "stream",
     "text": [
      "Building prefix dict from /Users/poncc/Documents/GitHub/2nd-PyCrawlerMarathon/homework/day038/dict.user.big.txt ...\n",
      "Loading model from cache /var/folders/68/t9g86v0d0ys2rpbv_g1xxrph0000gn/T/jieba.u25b0b9ddcb92304ec71499048447de52.cache\n",
      "Loading model cost 1.018 seconds.\n",
      "Prefix dict has been built successfully.\n"
     ]
    },
    {
     "name": "stdout",
     "output_type": "stream",
     "text": [
      "poncc-debug: 312\n"
     ]
    },
    {
     "name": "stderr",
     "output_type": "stream",
     "text": [
      "Building prefix dict from /Users/poncc/Documents/GitHub/2nd-PyCrawlerMarathon/homework/day038/dict.user.big.txt ...\n",
      "Loading model from cache /var/folders/68/t9g86v0d0ys2rpbv_g1xxrph0000gn/T/jieba.u25b0b9ddcb92304ec71499048447de52.cache\n",
      "Loading model cost 1.010 seconds.\n",
      "Prefix dict has been built successfully.\n"
     ]
    },
    {
     "name": "stdout",
     "output_type": "stream",
     "text": [
      "poncc-debug: 313\n"
     ]
    },
    {
     "name": "stderr",
     "output_type": "stream",
     "text": [
      "Building prefix dict from /Users/poncc/Documents/GitHub/2nd-PyCrawlerMarathon/homework/day038/dict.user.big.txt ...\n",
      "Loading model from cache /var/folders/68/t9g86v0d0ys2rpbv_g1xxrph0000gn/T/jieba.u25b0b9ddcb92304ec71499048447de52.cache\n",
      "Loading model cost 0.995 seconds.\n",
      "Prefix dict has been built successfully.\n"
     ]
    },
    {
     "name": "stdout",
     "output_type": "stream",
     "text": [
      "poncc-debug: 314\n"
     ]
    },
    {
     "name": "stderr",
     "output_type": "stream",
     "text": [
      "Building prefix dict from /Users/poncc/Documents/GitHub/2nd-PyCrawlerMarathon/homework/day038/dict.user.big.txt ...\n",
      "Loading model from cache /var/folders/68/t9g86v0d0ys2rpbv_g1xxrph0000gn/T/jieba.u25b0b9ddcb92304ec71499048447de52.cache\n",
      "Loading model cost 1.000 seconds.\n",
      "Prefix dict has been built successfully.\n"
     ]
    },
    {
     "name": "stdout",
     "output_type": "stream",
     "text": [
      "poncc-debug: 315\n"
     ]
    },
    {
     "name": "stderr",
     "output_type": "stream",
     "text": [
      "Building prefix dict from /Users/poncc/Documents/GitHub/2nd-PyCrawlerMarathon/homework/day038/dict.user.big.txt ...\n",
      "Loading model from cache /var/folders/68/t9g86v0d0ys2rpbv_g1xxrph0000gn/T/jieba.u25b0b9ddcb92304ec71499048447de52.cache\n",
      "Loading model cost 1.000 seconds.\n",
      "Prefix dict has been built successfully.\n"
     ]
    },
    {
     "name": "stdout",
     "output_type": "stream",
     "text": [
      "poncc-debug: 316\n"
     ]
    },
    {
     "name": "stderr",
     "output_type": "stream",
     "text": [
      "Building prefix dict from /Users/poncc/Documents/GitHub/2nd-PyCrawlerMarathon/homework/day038/dict.user.big.txt ...\n",
      "Loading model from cache /var/folders/68/t9g86v0d0ys2rpbv_g1xxrph0000gn/T/jieba.u25b0b9ddcb92304ec71499048447de52.cache\n",
      "Loading model cost 1.025 seconds.\n",
      "Prefix dict has been built successfully.\n"
     ]
    },
    {
     "name": "stdout",
     "output_type": "stream",
     "text": [
      "poncc-debug: 317\n"
     ]
    },
    {
     "name": "stderr",
     "output_type": "stream",
     "text": [
      "Building prefix dict from /Users/poncc/Documents/GitHub/2nd-PyCrawlerMarathon/homework/day038/dict.user.big.txt ...\n",
      "Loading model from cache /var/folders/68/t9g86v0d0ys2rpbv_g1xxrph0000gn/T/jieba.u25b0b9ddcb92304ec71499048447de52.cache\n",
      "Loading model cost 0.988 seconds.\n",
      "Prefix dict has been built successfully.\n"
     ]
    },
    {
     "name": "stdout",
     "output_type": "stream",
     "text": [
      "poncc-debug: 318\n"
     ]
    },
    {
     "name": "stderr",
     "output_type": "stream",
     "text": [
      "Building prefix dict from /Users/poncc/Documents/GitHub/2nd-PyCrawlerMarathon/homework/day038/dict.user.big.txt ...\n",
      "Loading model from cache /var/folders/68/t9g86v0d0ys2rpbv_g1xxrph0000gn/T/jieba.u25b0b9ddcb92304ec71499048447de52.cache\n",
      "Loading model cost 1.017 seconds.\n",
      "Prefix dict has been built successfully.\n"
     ]
    },
    {
     "name": "stdout",
     "output_type": "stream",
     "text": [
      "poncc-debug: 319\n"
     ]
    },
    {
     "name": "stderr",
     "output_type": "stream",
     "text": [
      "Building prefix dict from /Users/poncc/Documents/GitHub/2nd-PyCrawlerMarathon/homework/day038/dict.user.big.txt ...\n",
      "Loading model from cache /var/folders/68/t9g86v0d0ys2rpbv_g1xxrph0000gn/T/jieba.u25b0b9ddcb92304ec71499048447de52.cache\n",
      "Loading model cost 1.014 seconds.\n",
      "Prefix dict has been built successfully.\n"
     ]
    },
    {
     "name": "stdout",
     "output_type": "stream",
     "text": [
      "poncc-debug: 320\n"
     ]
    },
    {
     "name": "stderr",
     "output_type": "stream",
     "text": [
      "Building prefix dict from /Users/poncc/Documents/GitHub/2nd-PyCrawlerMarathon/homework/day038/dict.user.big.txt ...\n",
      "Loading model from cache /var/folders/68/t9g86v0d0ys2rpbv_g1xxrph0000gn/T/jieba.u25b0b9ddcb92304ec71499048447de52.cache\n",
      "Loading model cost 0.988 seconds.\n",
      "Prefix dict has been built successfully.\n"
     ]
    },
    {
     "name": "stdout",
     "output_type": "stream",
     "text": [
      "poncc-debug: 321\n"
     ]
    },
    {
     "name": "stderr",
     "output_type": "stream",
     "text": [
      "Building prefix dict from /Users/poncc/Documents/GitHub/2nd-PyCrawlerMarathon/homework/day038/dict.user.big.txt ...\n",
      "Loading model from cache /var/folders/68/t9g86v0d0ys2rpbv_g1xxrph0000gn/T/jieba.u25b0b9ddcb92304ec71499048447de52.cache\n",
      "Loading model cost 0.999 seconds.\n",
      "Prefix dict has been built successfully.\n"
     ]
    },
    {
     "name": "stdout",
     "output_type": "stream",
     "text": [
      "poncc-debug: 322\n"
     ]
    },
    {
     "name": "stderr",
     "output_type": "stream",
     "text": [
      "Building prefix dict from /Users/poncc/Documents/GitHub/2nd-PyCrawlerMarathon/homework/day038/dict.user.big.txt ...\n",
      "Loading model from cache /var/folders/68/t9g86v0d0ys2rpbv_g1xxrph0000gn/T/jieba.u25b0b9ddcb92304ec71499048447de52.cache\n",
      "Loading model cost 0.996 seconds.\n",
      "Prefix dict has been built successfully.\n"
     ]
    },
    {
     "name": "stdout",
     "output_type": "stream",
     "text": [
      "poncc-debug: 323\n"
     ]
    },
    {
     "name": "stderr",
     "output_type": "stream",
     "text": [
      "Building prefix dict from /Users/poncc/Documents/GitHub/2nd-PyCrawlerMarathon/homework/day038/dict.user.big.txt ...\n",
      "Loading model from cache /var/folders/68/t9g86v0d0ys2rpbv_g1xxrph0000gn/T/jieba.u25b0b9ddcb92304ec71499048447de52.cache\n",
      "Loading model cost 1.018 seconds.\n",
      "Prefix dict has been built successfully.\n"
     ]
    },
    {
     "name": "stdout",
     "output_type": "stream",
     "text": [
      "poncc-debug: 324\n"
     ]
    },
    {
     "name": "stderr",
     "output_type": "stream",
     "text": [
      "Building prefix dict from /Users/poncc/Documents/GitHub/2nd-PyCrawlerMarathon/homework/day038/dict.user.big.txt ...\n",
      "Loading model from cache /var/folders/68/t9g86v0d0ys2rpbv_g1xxrph0000gn/T/jieba.u25b0b9ddcb92304ec71499048447de52.cache\n",
      "Loading model cost 0.991 seconds.\n",
      "Prefix dict has been built successfully.\n"
     ]
    },
    {
     "name": "stdout",
     "output_type": "stream",
     "text": [
      "poncc-debug: 325\n"
     ]
    },
    {
     "name": "stderr",
     "output_type": "stream",
     "text": [
      "Building prefix dict from /Users/poncc/Documents/GitHub/2nd-PyCrawlerMarathon/homework/day038/dict.user.big.txt ...\n",
      "Loading model from cache /var/folders/68/t9g86v0d0ys2rpbv_g1xxrph0000gn/T/jieba.u25b0b9ddcb92304ec71499048447de52.cache\n",
      "Loading model cost 0.995 seconds.\n",
      "Prefix dict has been built successfully.\n"
     ]
    },
    {
     "name": "stdout",
     "output_type": "stream",
     "text": [
      "poncc-debug: 326\n"
     ]
    },
    {
     "name": "stderr",
     "output_type": "stream",
     "text": [
      "Building prefix dict from /Users/poncc/Documents/GitHub/2nd-PyCrawlerMarathon/homework/day038/dict.user.big.txt ...\n",
      "Loading model from cache /var/folders/68/t9g86v0d0ys2rpbv_g1xxrph0000gn/T/jieba.u25b0b9ddcb92304ec71499048447de52.cache\n",
      "Loading model cost 1.000 seconds.\n",
      "Prefix dict has been built successfully.\n"
     ]
    },
    {
     "name": "stdout",
     "output_type": "stream",
     "text": [
      "poncc-debug: 327\n"
     ]
    },
    {
     "name": "stderr",
     "output_type": "stream",
     "text": [
      "Building prefix dict from /Users/poncc/Documents/GitHub/2nd-PyCrawlerMarathon/homework/day038/dict.user.big.txt ...\n",
      "Loading model from cache /var/folders/68/t9g86v0d0ys2rpbv_g1xxrph0000gn/T/jieba.u25b0b9ddcb92304ec71499048447de52.cache\n",
      "Loading model cost 1.010 seconds.\n",
      "Prefix dict has been built successfully.\n"
     ]
    },
    {
     "name": "stdout",
     "output_type": "stream",
     "text": [
      "poncc-debug: 328\n"
     ]
    },
    {
     "name": "stderr",
     "output_type": "stream",
     "text": [
      "Building prefix dict from /Users/poncc/Documents/GitHub/2nd-PyCrawlerMarathon/homework/day038/dict.user.big.txt ...\n",
      "Loading model from cache /var/folders/68/t9g86v0d0ys2rpbv_g1xxrph0000gn/T/jieba.u25b0b9ddcb92304ec71499048447de52.cache\n",
      "Loading model cost 1.021 seconds.\n",
      "Prefix dict has been built successfully.\n"
     ]
    },
    {
     "name": "stdout",
     "output_type": "stream",
     "text": [
      "poncc-debug: 329\n"
     ]
    },
    {
     "name": "stderr",
     "output_type": "stream",
     "text": [
      "Building prefix dict from /Users/poncc/Documents/GitHub/2nd-PyCrawlerMarathon/homework/day038/dict.user.big.txt ...\n",
      "Loading model from cache /var/folders/68/t9g86v0d0ys2rpbv_g1xxrph0000gn/T/jieba.u25b0b9ddcb92304ec71499048447de52.cache\n",
      "Loading model cost 1.001 seconds.\n",
      "Prefix dict has been built successfully.\n"
     ]
    },
    {
     "name": "stdout",
     "output_type": "stream",
     "text": [
      "poncc-debug: 330\n"
     ]
    },
    {
     "name": "stderr",
     "output_type": "stream",
     "text": [
      "Building prefix dict from /Users/poncc/Documents/GitHub/2nd-PyCrawlerMarathon/homework/day038/dict.user.big.txt ...\n",
      "Loading model from cache /var/folders/68/t9g86v0d0ys2rpbv_g1xxrph0000gn/T/jieba.u25b0b9ddcb92304ec71499048447de52.cache\n",
      "Loading model cost 0.997 seconds.\n",
      "Prefix dict has been built successfully.\n"
     ]
    },
    {
     "name": "stdout",
     "output_type": "stream",
     "text": [
      "poncc-debug: 331\n"
     ]
    },
    {
     "name": "stderr",
     "output_type": "stream",
     "text": [
      "Building prefix dict from /Users/poncc/Documents/GitHub/2nd-PyCrawlerMarathon/homework/day038/dict.user.big.txt ...\n",
      "Loading model from cache /var/folders/68/t9g86v0d0ys2rpbv_g1xxrph0000gn/T/jieba.u25b0b9ddcb92304ec71499048447de52.cache\n",
      "Loading model cost 1.004 seconds.\n",
      "Prefix dict has been built successfully.\n"
     ]
    },
    {
     "name": "stdout",
     "output_type": "stream",
     "text": [
      "poncc-debug: 332\n"
     ]
    },
    {
     "name": "stderr",
     "output_type": "stream",
     "text": [
      "Building prefix dict from /Users/poncc/Documents/GitHub/2nd-PyCrawlerMarathon/homework/day038/dict.user.big.txt ...\n",
      "Loading model from cache /var/folders/68/t9g86v0d0ys2rpbv_g1xxrph0000gn/T/jieba.u25b0b9ddcb92304ec71499048447de52.cache\n",
      "Loading model cost 0.996 seconds.\n",
      "Prefix dict has been built successfully.\n"
     ]
    },
    {
     "name": "stdout",
     "output_type": "stream",
     "text": [
      "poncc-debug: 333\n"
     ]
    },
    {
     "name": "stderr",
     "output_type": "stream",
     "text": [
      "Building prefix dict from /Users/poncc/Documents/GitHub/2nd-PyCrawlerMarathon/homework/day038/dict.user.big.txt ...\n",
      "Loading model from cache /var/folders/68/t9g86v0d0ys2rpbv_g1xxrph0000gn/T/jieba.u25b0b9ddcb92304ec71499048447de52.cache\n",
      "Loading model cost 0.999 seconds.\n",
      "Prefix dict has been built successfully.\n"
     ]
    },
    {
     "name": "stdout",
     "output_type": "stream",
     "text": [
      "poncc-debug: 334\n"
     ]
    },
    {
     "name": "stderr",
     "output_type": "stream",
     "text": [
      "Building prefix dict from /Users/poncc/Documents/GitHub/2nd-PyCrawlerMarathon/homework/day038/dict.user.big.txt ...\n",
      "Loading model from cache /var/folders/68/t9g86v0d0ys2rpbv_g1xxrph0000gn/T/jieba.u25b0b9ddcb92304ec71499048447de52.cache\n",
      "Loading model cost 0.998 seconds.\n",
      "Prefix dict has been built successfully.\n"
     ]
    },
    {
     "name": "stdout",
     "output_type": "stream",
     "text": [
      "poncc-debug: 335\n"
     ]
    },
    {
     "name": "stderr",
     "output_type": "stream",
     "text": [
      "Building prefix dict from /Users/poncc/Documents/GitHub/2nd-PyCrawlerMarathon/homework/day038/dict.user.big.txt ...\n",
      "Loading model from cache /var/folders/68/t9g86v0d0ys2rpbv_g1xxrph0000gn/T/jieba.u25b0b9ddcb92304ec71499048447de52.cache\n",
      "Loading model cost 1.014 seconds.\n",
      "Prefix dict has been built successfully.\n"
     ]
    },
    {
     "name": "stdout",
     "output_type": "stream",
     "text": [
      "poncc-debug: 336\n"
     ]
    },
    {
     "name": "stderr",
     "output_type": "stream",
     "text": [
      "Building prefix dict from /Users/poncc/Documents/GitHub/2nd-PyCrawlerMarathon/homework/day038/dict.user.big.txt ...\n",
      "Loading model from cache /var/folders/68/t9g86v0d0ys2rpbv_g1xxrph0000gn/T/jieba.u25b0b9ddcb92304ec71499048447de52.cache\n",
      "Loading model cost 1.012 seconds.\n",
      "Prefix dict has been built successfully.\n"
     ]
    },
    {
     "name": "stdout",
     "output_type": "stream",
     "text": [
      "poncc-debug: 337\n"
     ]
    },
    {
     "name": "stderr",
     "output_type": "stream",
     "text": [
      "Building prefix dict from /Users/poncc/Documents/GitHub/2nd-PyCrawlerMarathon/homework/day038/dict.user.big.txt ...\n",
      "Loading model from cache /var/folders/68/t9g86v0d0ys2rpbv_g1xxrph0000gn/T/jieba.u25b0b9ddcb92304ec71499048447de52.cache\n",
      "Loading model cost 1.006 seconds.\n",
      "Prefix dict has been built successfully.\n"
     ]
    },
    {
     "name": "stdout",
     "output_type": "stream",
     "text": [
      "poncc-debug: 338\n"
     ]
    },
    {
     "name": "stderr",
     "output_type": "stream",
     "text": [
      "Building prefix dict from /Users/poncc/Documents/GitHub/2nd-PyCrawlerMarathon/homework/day038/dict.user.big.txt ...\n",
      "Loading model from cache /var/folders/68/t9g86v0d0ys2rpbv_g1xxrph0000gn/T/jieba.u25b0b9ddcb92304ec71499048447de52.cache\n",
      "Loading model cost 1.006 seconds.\n",
      "Prefix dict has been built successfully.\n"
     ]
    },
    {
     "name": "stdout",
     "output_type": "stream",
     "text": [
      "poncc-debug: 339\n"
     ]
    },
    {
     "name": "stderr",
     "output_type": "stream",
     "text": [
      "Building prefix dict from /Users/poncc/Documents/GitHub/2nd-PyCrawlerMarathon/homework/day038/dict.user.big.txt ...\n",
      "Loading model from cache /var/folders/68/t9g86v0d0ys2rpbv_g1xxrph0000gn/T/jieba.u25b0b9ddcb92304ec71499048447de52.cache\n",
      "Loading model cost 1.003 seconds.\n",
      "Prefix dict has been built successfully.\n"
     ]
    },
    {
     "name": "stdout",
     "output_type": "stream",
     "text": [
      "poncc-debug: 340\n"
     ]
    },
    {
     "name": "stderr",
     "output_type": "stream",
     "text": [
      "Building prefix dict from /Users/poncc/Documents/GitHub/2nd-PyCrawlerMarathon/homework/day038/dict.user.big.txt ...\n",
      "Loading model from cache /var/folders/68/t9g86v0d0ys2rpbv_g1xxrph0000gn/T/jieba.u25b0b9ddcb92304ec71499048447de52.cache\n",
      "Loading model cost 1.012 seconds.\n",
      "Prefix dict has been built successfully.\n"
     ]
    },
    {
     "name": "stdout",
     "output_type": "stream",
     "text": [
      "poncc-debug: 341\n"
     ]
    },
    {
     "name": "stderr",
     "output_type": "stream",
     "text": [
      "Building prefix dict from /Users/poncc/Documents/GitHub/2nd-PyCrawlerMarathon/homework/day038/dict.user.big.txt ...\n",
      "Loading model from cache /var/folders/68/t9g86v0d0ys2rpbv_g1xxrph0000gn/T/jieba.u25b0b9ddcb92304ec71499048447de52.cache\n",
      "Loading model cost 1.015 seconds.\n",
      "Prefix dict has been built successfully.\n"
     ]
    },
    {
     "name": "stdout",
     "output_type": "stream",
     "text": [
      "poncc-debug: 342\n"
     ]
    },
    {
     "name": "stderr",
     "output_type": "stream",
     "text": [
      "Building prefix dict from /Users/poncc/Documents/GitHub/2nd-PyCrawlerMarathon/homework/day038/dict.user.big.txt ...\n",
      "Loading model from cache /var/folders/68/t9g86v0d0ys2rpbv_g1xxrph0000gn/T/jieba.u25b0b9ddcb92304ec71499048447de52.cache\n",
      "Loading model cost 0.999 seconds.\n",
      "Prefix dict has been built successfully.\n"
     ]
    },
    {
     "name": "stdout",
     "output_type": "stream",
     "text": [
      "poncc-debug: 343\n"
     ]
    },
    {
     "name": "stderr",
     "output_type": "stream",
     "text": [
      "Building prefix dict from /Users/poncc/Documents/GitHub/2nd-PyCrawlerMarathon/homework/day038/dict.user.big.txt ...\n",
      "Loading model from cache /var/folders/68/t9g86v0d0ys2rpbv_g1xxrph0000gn/T/jieba.u25b0b9ddcb92304ec71499048447de52.cache\n",
      "Loading model cost 1.009 seconds.\n",
      "Prefix dict has been built successfully.\n"
     ]
    },
    {
     "name": "stdout",
     "output_type": "stream",
     "text": [
      "poncc-debug: 344\n"
     ]
    },
    {
     "name": "stderr",
     "output_type": "stream",
     "text": [
      "Building prefix dict from /Users/poncc/Documents/GitHub/2nd-PyCrawlerMarathon/homework/day038/dict.user.big.txt ...\n",
      "Loading model from cache /var/folders/68/t9g86v0d0ys2rpbv_g1xxrph0000gn/T/jieba.u25b0b9ddcb92304ec71499048447de52.cache\n",
      "Loading model cost 1.000 seconds.\n",
      "Prefix dict has been built successfully.\n"
     ]
    },
    {
     "name": "stdout",
     "output_type": "stream",
     "text": [
      "poncc-debug: 345\n"
     ]
    },
    {
     "name": "stderr",
     "output_type": "stream",
     "text": [
      "Building prefix dict from /Users/poncc/Documents/GitHub/2nd-PyCrawlerMarathon/homework/day038/dict.user.big.txt ...\n",
      "Loading model from cache /var/folders/68/t9g86v0d0ys2rpbv_g1xxrph0000gn/T/jieba.u25b0b9ddcb92304ec71499048447de52.cache\n",
      "Loading model cost 1.004 seconds.\n",
      "Prefix dict has been built successfully.\n"
     ]
    },
    {
     "name": "stdout",
     "output_type": "stream",
     "text": [
      "poncc-debug: 346\n"
     ]
    },
    {
     "name": "stderr",
     "output_type": "stream",
     "text": [
      "Building prefix dict from /Users/poncc/Documents/GitHub/2nd-PyCrawlerMarathon/homework/day038/dict.user.big.txt ...\n",
      "Loading model from cache /var/folders/68/t9g86v0d0ys2rpbv_g1xxrph0000gn/T/jieba.u25b0b9ddcb92304ec71499048447de52.cache\n",
      "Loading model cost 1.010 seconds.\n",
      "Prefix dict has been built successfully.\n"
     ]
    },
    {
     "name": "stdout",
     "output_type": "stream",
     "text": [
      "poncc-debug: 347\n"
     ]
    },
    {
     "name": "stderr",
     "output_type": "stream",
     "text": [
      "Building prefix dict from /Users/poncc/Documents/GitHub/2nd-PyCrawlerMarathon/homework/day038/dict.user.big.txt ...\n",
      "Loading model from cache /var/folders/68/t9g86v0d0ys2rpbv_g1xxrph0000gn/T/jieba.u25b0b9ddcb92304ec71499048447de52.cache\n",
      "Loading model cost 1.004 seconds.\n",
      "Prefix dict has been built successfully.\n"
     ]
    },
    {
     "name": "stdout",
     "output_type": "stream",
     "text": [
      "poncc-debug: 348\n"
     ]
    },
    {
     "name": "stderr",
     "output_type": "stream",
     "text": [
      "Building prefix dict from /Users/poncc/Documents/GitHub/2nd-PyCrawlerMarathon/homework/day038/dict.user.big.txt ...\n",
      "Loading model from cache /var/folders/68/t9g86v0d0ys2rpbv_g1xxrph0000gn/T/jieba.u25b0b9ddcb92304ec71499048447de52.cache\n",
      "Loading model cost 0.998 seconds.\n",
      "Prefix dict has been built successfully.\n"
     ]
    },
    {
     "name": "stdout",
     "output_type": "stream",
     "text": [
      "poncc-debug: 349\n"
     ]
    },
    {
     "name": "stderr",
     "output_type": "stream",
     "text": [
      "Building prefix dict from /Users/poncc/Documents/GitHub/2nd-PyCrawlerMarathon/homework/day038/dict.user.big.txt ...\n",
      "Loading model from cache /var/folders/68/t9g86v0d0ys2rpbv_g1xxrph0000gn/T/jieba.u25b0b9ddcb92304ec71499048447de52.cache\n",
      "Loading model cost 1.011 seconds.\n",
      "Prefix dict has been built successfully.\n"
     ]
    },
    {
     "name": "stdout",
     "output_type": "stream",
     "text": [
      "poncc-debug: 350\n"
     ]
    },
    {
     "name": "stderr",
     "output_type": "stream",
     "text": [
      "Building prefix dict from /Users/poncc/Documents/GitHub/2nd-PyCrawlerMarathon/homework/day038/dict.user.big.txt ...\n",
      "Loading model from cache /var/folders/68/t9g86v0d0ys2rpbv_g1xxrph0000gn/T/jieba.u25b0b9ddcb92304ec71499048447de52.cache\n",
      "Loading model cost 1.022 seconds.\n",
      "Prefix dict has been built successfully.\n"
     ]
    },
    {
     "name": "stdout",
     "output_type": "stream",
     "text": [
      "poncc-debug: 351\n"
     ]
    },
    {
     "name": "stderr",
     "output_type": "stream",
     "text": [
      "Building prefix dict from /Users/poncc/Documents/GitHub/2nd-PyCrawlerMarathon/homework/day038/dict.user.big.txt ...\n",
      "Loading model from cache /var/folders/68/t9g86v0d0ys2rpbv_g1xxrph0000gn/T/jieba.u25b0b9ddcb92304ec71499048447de52.cache\n",
      "Loading model cost 0.998 seconds.\n",
      "Prefix dict has been built successfully.\n"
     ]
    },
    {
     "name": "stdout",
     "output_type": "stream",
     "text": [
      "poncc-debug: 352\n"
     ]
    },
    {
     "name": "stderr",
     "output_type": "stream",
     "text": [
      "Building prefix dict from /Users/poncc/Documents/GitHub/2nd-PyCrawlerMarathon/homework/day038/dict.user.big.txt ...\n",
      "Loading model from cache /var/folders/68/t9g86v0d0ys2rpbv_g1xxrph0000gn/T/jieba.u25b0b9ddcb92304ec71499048447de52.cache\n",
      "Loading model cost 1.001 seconds.\n",
      "Prefix dict has been built successfully.\n"
     ]
    },
    {
     "name": "stdout",
     "output_type": "stream",
     "text": [
      "poncc-debug: 353\n"
     ]
    },
    {
     "name": "stderr",
     "output_type": "stream",
     "text": [
      "Building prefix dict from /Users/poncc/Documents/GitHub/2nd-PyCrawlerMarathon/homework/day038/dict.user.big.txt ...\n",
      "Loading model from cache /var/folders/68/t9g86v0d0ys2rpbv_g1xxrph0000gn/T/jieba.u25b0b9ddcb92304ec71499048447de52.cache\n",
      "Loading model cost 1.000 seconds.\n",
      "Prefix dict has been built successfully.\n"
     ]
    },
    {
     "name": "stdout",
     "output_type": "stream",
     "text": [
      "poncc-debug: 354\n"
     ]
    },
    {
     "name": "stderr",
     "output_type": "stream",
     "text": [
      "Building prefix dict from /Users/poncc/Documents/GitHub/2nd-PyCrawlerMarathon/homework/day038/dict.user.big.txt ...\n",
      "Loading model from cache /var/folders/68/t9g86v0d0ys2rpbv_g1xxrph0000gn/T/jieba.u25b0b9ddcb92304ec71499048447de52.cache\n",
      "Loading model cost 1.014 seconds.\n",
      "Prefix dict has been built successfully.\n"
     ]
    },
    {
     "name": "stdout",
     "output_type": "stream",
     "text": [
      "poncc-debug: 355\n"
     ]
    },
    {
     "name": "stderr",
     "output_type": "stream",
     "text": [
      "Building prefix dict from /Users/poncc/Documents/GitHub/2nd-PyCrawlerMarathon/homework/day038/dict.user.big.txt ...\n",
      "Loading model from cache /var/folders/68/t9g86v0d0ys2rpbv_g1xxrph0000gn/T/jieba.u25b0b9ddcb92304ec71499048447de52.cache\n",
      "Loading model cost 1.023 seconds.\n",
      "Prefix dict has been built successfully.\n"
     ]
    },
    {
     "name": "stdout",
     "output_type": "stream",
     "text": [
      "poncc-debug: 356\n"
     ]
    },
    {
     "name": "stderr",
     "output_type": "stream",
     "text": [
      "Building prefix dict from /Users/poncc/Documents/GitHub/2nd-PyCrawlerMarathon/homework/day038/dict.user.big.txt ...\n",
      "Loading model from cache /var/folders/68/t9g86v0d0ys2rpbv_g1xxrph0000gn/T/jieba.u25b0b9ddcb92304ec71499048447de52.cache\n",
      "Loading model cost 0.998 seconds.\n",
      "Prefix dict has been built successfully.\n"
     ]
    },
    {
     "name": "stdout",
     "output_type": "stream",
     "text": [
      "poncc-debug: 357\n"
     ]
    },
    {
     "name": "stderr",
     "output_type": "stream",
     "text": [
      "Building prefix dict from /Users/poncc/Documents/GitHub/2nd-PyCrawlerMarathon/homework/day038/dict.user.big.txt ...\n",
      "Loading model from cache /var/folders/68/t9g86v0d0ys2rpbv_g1xxrph0000gn/T/jieba.u25b0b9ddcb92304ec71499048447de52.cache\n",
      "Loading model cost 1.003 seconds.\n",
      "Prefix dict has been built successfully.\n"
     ]
    },
    {
     "name": "stdout",
     "output_type": "stream",
     "text": [
      "poncc-debug: 358\n"
     ]
    },
    {
     "name": "stderr",
     "output_type": "stream",
     "text": [
      "Building prefix dict from /Users/poncc/Documents/GitHub/2nd-PyCrawlerMarathon/homework/day038/dict.user.big.txt ...\n",
      "Loading model from cache /var/folders/68/t9g86v0d0ys2rpbv_g1xxrph0000gn/T/jieba.u25b0b9ddcb92304ec71499048447de52.cache\n",
      "Loading model cost 1.004 seconds.\n",
      "Prefix dict has been built successfully.\n"
     ]
    },
    {
     "name": "stdout",
     "output_type": "stream",
     "text": [
      "poncc-debug: 359\n"
     ]
    },
    {
     "name": "stderr",
     "output_type": "stream",
     "text": [
      "Building prefix dict from /Users/poncc/Documents/GitHub/2nd-PyCrawlerMarathon/homework/day038/dict.user.big.txt ...\n",
      "Loading model from cache /var/folders/68/t9g86v0d0ys2rpbv_g1xxrph0000gn/T/jieba.u25b0b9ddcb92304ec71499048447de52.cache\n",
      "Loading model cost 0.989 seconds.\n",
      "Prefix dict has been built successfully.\n"
     ]
    },
    {
     "name": "stdout",
     "output_type": "stream",
     "text": [
      "poncc-debug: 360\n"
     ]
    },
    {
     "name": "stderr",
     "output_type": "stream",
     "text": [
      "Building prefix dict from /Users/poncc/Documents/GitHub/2nd-PyCrawlerMarathon/homework/day038/dict.user.big.txt ...\n",
      "Loading model from cache /var/folders/68/t9g86v0d0ys2rpbv_g1xxrph0000gn/T/jieba.u25b0b9ddcb92304ec71499048447de52.cache\n",
      "Loading model cost 1.004 seconds.\n",
      "Prefix dict has been built successfully.\n"
     ]
    },
    {
     "name": "stdout",
     "output_type": "stream",
     "text": [
      "poncc-debug: 361\n"
     ]
    },
    {
     "name": "stderr",
     "output_type": "stream",
     "text": [
      "Building prefix dict from /Users/poncc/Documents/GitHub/2nd-PyCrawlerMarathon/homework/day038/dict.user.big.txt ...\n",
      "Loading model from cache /var/folders/68/t9g86v0d0ys2rpbv_g1xxrph0000gn/T/jieba.u25b0b9ddcb92304ec71499048447de52.cache\n",
      "Loading model cost 1.002 seconds.\n",
      "Prefix dict has been built successfully.\n"
     ]
    },
    {
     "name": "stdout",
     "output_type": "stream",
     "text": [
      "poncc-debug: 362\n"
     ]
    },
    {
     "name": "stderr",
     "output_type": "stream",
     "text": [
      "Building prefix dict from /Users/poncc/Documents/GitHub/2nd-PyCrawlerMarathon/homework/day038/dict.user.big.txt ...\n",
      "Loading model from cache /var/folders/68/t9g86v0d0ys2rpbv_g1xxrph0000gn/T/jieba.u25b0b9ddcb92304ec71499048447de52.cache\n",
      "Loading model cost 1.015 seconds.\n",
      "Prefix dict has been built successfully.\n"
     ]
    },
    {
     "name": "stdout",
     "output_type": "stream",
     "text": [
      "poncc-debug: 363\n"
     ]
    },
    {
     "name": "stderr",
     "output_type": "stream",
     "text": [
      "Building prefix dict from /Users/poncc/Documents/GitHub/2nd-PyCrawlerMarathon/homework/day038/dict.user.big.txt ...\n",
      "Loading model from cache /var/folders/68/t9g86v0d0ys2rpbv_g1xxrph0000gn/T/jieba.u25b0b9ddcb92304ec71499048447de52.cache\n",
      "Loading model cost 1.013 seconds.\n",
      "Prefix dict has been built successfully.\n"
     ]
    },
    {
     "name": "stdout",
     "output_type": "stream",
     "text": [
      "poncc-debug: 364\n"
     ]
    },
    {
     "name": "stderr",
     "output_type": "stream",
     "text": [
      "Building prefix dict from /Users/poncc/Documents/GitHub/2nd-PyCrawlerMarathon/homework/day038/dict.user.big.txt ...\n",
      "Loading model from cache /var/folders/68/t9g86v0d0ys2rpbv_g1xxrph0000gn/T/jieba.u25b0b9ddcb92304ec71499048447de52.cache\n",
      "Loading model cost 1.008 seconds.\n",
      "Prefix dict has been built successfully.\n"
     ]
    },
    {
     "name": "stdout",
     "output_type": "stream",
     "text": [
      "poncc-debug: 365\n"
     ]
    },
    {
     "name": "stderr",
     "output_type": "stream",
     "text": [
      "Building prefix dict from /Users/poncc/Documents/GitHub/2nd-PyCrawlerMarathon/homework/day038/dict.user.big.txt ...\n",
      "Loading model from cache /var/folders/68/t9g86v0d0ys2rpbv_g1xxrph0000gn/T/jieba.u25b0b9ddcb92304ec71499048447de52.cache\n",
      "Loading model cost 1.007 seconds.\n",
      "Prefix dict has been built successfully.\n",
      "Building prefix dict from /Users/poncc/Documents/GitHub/2nd-PyCrawlerMarathon/homework/day038/dict.user.big.txt ...\n"
     ]
    },
    {
     "name": "stdout",
     "output_type": "stream",
     "text": [
      "poncc-debug: 366\n"
     ]
    },
    {
     "name": "stderr",
     "output_type": "stream",
     "text": [
      "Loading model from cache /var/folders/68/t9g86v0d0ys2rpbv_g1xxrph0000gn/T/jieba.u25b0b9ddcb92304ec71499048447de52.cache\n",
      "Loading model cost 1.013 seconds.\n",
      "Prefix dict has been built successfully.\n"
     ]
    },
    {
     "name": "stdout",
     "output_type": "stream",
     "text": [
      "poncc-debug: 367\n"
     ]
    },
    {
     "name": "stderr",
     "output_type": "stream",
     "text": [
      "Building prefix dict from /Users/poncc/Documents/GitHub/2nd-PyCrawlerMarathon/homework/day038/dict.user.big.txt ...\n",
      "Loading model from cache /var/folders/68/t9g86v0d0ys2rpbv_g1xxrph0000gn/T/jieba.u25b0b9ddcb92304ec71499048447de52.cache\n",
      "Loading model cost 1.001 seconds.\n",
      "Prefix dict has been built successfully.\n"
     ]
    },
    {
     "name": "stdout",
     "output_type": "stream",
     "text": [
      "poncc-debug: 368\n"
     ]
    },
    {
     "name": "stderr",
     "output_type": "stream",
     "text": [
      "Building prefix dict from /Users/poncc/Documents/GitHub/2nd-PyCrawlerMarathon/homework/day038/dict.user.big.txt ...\n",
      "Loading model from cache /var/folders/68/t9g86v0d0ys2rpbv_g1xxrph0000gn/T/jieba.u25b0b9ddcb92304ec71499048447de52.cache\n",
      "Loading model cost 1.001 seconds.\n",
      "Prefix dict has been built successfully.\n"
     ]
    },
    {
     "name": "stdout",
     "output_type": "stream",
     "text": [
      "poncc-debug: 369\n"
     ]
    },
    {
     "name": "stderr",
     "output_type": "stream",
     "text": [
      "Building prefix dict from /Users/poncc/Documents/GitHub/2nd-PyCrawlerMarathon/homework/day038/dict.user.big.txt ...\n",
      "Loading model from cache /var/folders/68/t9g86v0d0ys2rpbv_g1xxrph0000gn/T/jieba.u25b0b9ddcb92304ec71499048447de52.cache\n",
      "Loading model cost 1.000 seconds.\n",
      "Prefix dict has been built successfully.\n"
     ]
    },
    {
     "name": "stdout",
     "output_type": "stream",
     "text": [
      "poncc-debug: 370\n"
     ]
    },
    {
     "name": "stderr",
     "output_type": "stream",
     "text": [
      "Building prefix dict from /Users/poncc/Documents/GitHub/2nd-PyCrawlerMarathon/homework/day038/dict.user.big.txt ...\n",
      "Loading model from cache /var/folders/68/t9g86v0d0ys2rpbv_g1xxrph0000gn/T/jieba.u25b0b9ddcb92304ec71499048447de52.cache\n",
      "Loading model cost 1.013 seconds.\n",
      "Prefix dict has been built successfully.\n"
     ]
    },
    {
     "name": "stdout",
     "output_type": "stream",
     "text": [
      "poncc-debug: 371\n"
     ]
    },
    {
     "name": "stderr",
     "output_type": "stream",
     "text": [
      "Building prefix dict from /Users/poncc/Documents/GitHub/2nd-PyCrawlerMarathon/homework/day038/dict.user.big.txt ...\n",
      "Loading model from cache /var/folders/68/t9g86v0d0ys2rpbv_g1xxrph0000gn/T/jieba.u25b0b9ddcb92304ec71499048447de52.cache\n",
      "Loading model cost 1.009 seconds.\n",
      "Prefix dict has been built successfully.\n"
     ]
    },
    {
     "name": "stdout",
     "output_type": "stream",
     "text": [
      "poncc-debug: 372\n"
     ]
    },
    {
     "name": "stderr",
     "output_type": "stream",
     "text": [
      "Building prefix dict from /Users/poncc/Documents/GitHub/2nd-PyCrawlerMarathon/homework/day038/dict.user.big.txt ...\n",
      "Loading model from cache /var/folders/68/t9g86v0d0ys2rpbv_g1xxrph0000gn/T/jieba.u25b0b9ddcb92304ec71499048447de52.cache\n",
      "Loading model cost 1.006 seconds.\n",
      "Prefix dict has been built successfully.\n"
     ]
    },
    {
     "name": "stdout",
     "output_type": "stream",
     "text": [
      "poncc-debug: 373\n"
     ]
    },
    {
     "name": "stderr",
     "output_type": "stream",
     "text": [
      "Building prefix dict from /Users/poncc/Documents/GitHub/2nd-PyCrawlerMarathon/homework/day038/dict.user.big.txt ...\n",
      "Loading model from cache /var/folders/68/t9g86v0d0ys2rpbv_g1xxrph0000gn/T/jieba.u25b0b9ddcb92304ec71499048447de52.cache\n",
      "Loading model cost 1.025 seconds.\n",
      "Prefix dict has been built successfully.\n"
     ]
    },
    {
     "name": "stdout",
     "output_type": "stream",
     "text": [
      "poncc-debug: 374\n"
     ]
    },
    {
     "name": "stderr",
     "output_type": "stream",
     "text": [
      "Building prefix dict from /Users/poncc/Documents/GitHub/2nd-PyCrawlerMarathon/homework/day038/dict.user.big.txt ...\n",
      "Loading model from cache /var/folders/68/t9g86v0d0ys2rpbv_g1xxrph0000gn/T/jieba.u25b0b9ddcb92304ec71499048447de52.cache\n",
      "Loading model cost 1.004 seconds.\n",
      "Prefix dict has been built successfully.\n"
     ]
    },
    {
     "name": "stdout",
     "output_type": "stream",
     "text": [
      "poncc-debug: 375\n"
     ]
    },
    {
     "name": "stderr",
     "output_type": "stream",
     "text": [
      "Building prefix dict from /Users/poncc/Documents/GitHub/2nd-PyCrawlerMarathon/homework/day038/dict.user.big.txt ...\n",
      "Loading model from cache /var/folders/68/t9g86v0d0ys2rpbv_g1xxrph0000gn/T/jieba.u25b0b9ddcb92304ec71499048447de52.cache\n",
      "Loading model cost 1.029 seconds.\n",
      "Prefix dict has been built successfully.\n"
     ]
    },
    {
     "name": "stdout",
     "output_type": "stream",
     "text": [
      "poncc-debug: 376\n"
     ]
    },
    {
     "name": "stderr",
     "output_type": "stream",
     "text": [
      "Building prefix dict from /Users/poncc/Documents/GitHub/2nd-PyCrawlerMarathon/homework/day038/dict.user.big.txt ...\n",
      "Loading model from cache /var/folders/68/t9g86v0d0ys2rpbv_g1xxrph0000gn/T/jieba.u25b0b9ddcb92304ec71499048447de52.cache\n",
      "Loading model cost 1.000 seconds.\n",
      "Prefix dict has been built successfully.\n"
     ]
    },
    {
     "name": "stdout",
     "output_type": "stream",
     "text": [
      "poncc-debug: 377\n"
     ]
    },
    {
     "name": "stderr",
     "output_type": "stream",
     "text": [
      "Building prefix dict from /Users/poncc/Documents/GitHub/2nd-PyCrawlerMarathon/homework/day038/dict.user.big.txt ...\n",
      "Loading model from cache /var/folders/68/t9g86v0d0ys2rpbv_g1xxrph0000gn/T/jieba.u25b0b9ddcb92304ec71499048447de52.cache\n",
      "Loading model cost 0.996 seconds.\n",
      "Prefix dict has been built successfully.\n"
     ]
    },
    {
     "name": "stdout",
     "output_type": "stream",
     "text": [
      "poncc-debug: 378\n"
     ]
    },
    {
     "name": "stderr",
     "output_type": "stream",
     "text": [
      "Building prefix dict from /Users/poncc/Documents/GitHub/2nd-PyCrawlerMarathon/homework/day038/dict.user.big.txt ...\n",
      "Loading model from cache /var/folders/68/t9g86v0d0ys2rpbv_g1xxrph0000gn/T/jieba.u25b0b9ddcb92304ec71499048447de52.cache\n",
      "Loading model cost 1.004 seconds.\n",
      "Prefix dict has been built successfully.\n"
     ]
    },
    {
     "name": "stdout",
     "output_type": "stream",
     "text": [
      "poncc-debug: 379\n"
     ]
    },
    {
     "name": "stderr",
     "output_type": "stream",
     "text": [
      "Building prefix dict from /Users/poncc/Documents/GitHub/2nd-PyCrawlerMarathon/homework/day038/dict.user.big.txt ...\n",
      "Loading model from cache /var/folders/68/t9g86v0d0ys2rpbv_g1xxrph0000gn/T/jieba.u25b0b9ddcb92304ec71499048447de52.cache\n",
      "Loading model cost 0.999 seconds.\n",
      "Prefix dict has been built successfully.\n"
     ]
    },
    {
     "name": "stdout",
     "output_type": "stream",
     "text": [
      "poncc-debug: 380\n"
     ]
    },
    {
     "name": "stderr",
     "output_type": "stream",
     "text": [
      "Building prefix dict from /Users/poncc/Documents/GitHub/2nd-PyCrawlerMarathon/homework/day038/dict.user.big.txt ...\n",
      "Loading model from cache /var/folders/68/t9g86v0d0ys2rpbv_g1xxrph0000gn/T/jieba.u25b0b9ddcb92304ec71499048447de52.cache\n",
      "Loading model cost 0.990 seconds.\n",
      "Prefix dict has been built successfully.\n"
     ]
    },
    {
     "name": "stdout",
     "output_type": "stream",
     "text": [
      "poncc-debug: 381\n"
     ]
    },
    {
     "name": "stderr",
     "output_type": "stream",
     "text": [
      "Building prefix dict from /Users/poncc/Documents/GitHub/2nd-PyCrawlerMarathon/homework/day038/dict.user.big.txt ...\n",
      "Loading model from cache /var/folders/68/t9g86v0d0ys2rpbv_g1xxrph0000gn/T/jieba.u25b0b9ddcb92304ec71499048447de52.cache\n",
      "Loading model cost 0.995 seconds.\n",
      "Prefix dict has been built successfully.\n"
     ]
    },
    {
     "name": "stdout",
     "output_type": "stream",
     "text": [
      "poncc-debug: 382\n"
     ]
    },
    {
     "name": "stderr",
     "output_type": "stream",
     "text": [
      "Building prefix dict from /Users/poncc/Documents/GitHub/2nd-PyCrawlerMarathon/homework/day038/dict.user.big.txt ...\n",
      "Loading model from cache /var/folders/68/t9g86v0d0ys2rpbv_g1xxrph0000gn/T/jieba.u25b0b9ddcb92304ec71499048447de52.cache\n",
      "Loading model cost 0.984 seconds.\n",
      "Prefix dict has been built successfully.\n"
     ]
    },
    {
     "name": "stdout",
     "output_type": "stream",
     "text": [
      "poncc-debug: 383\n"
     ]
    },
    {
     "name": "stderr",
     "output_type": "stream",
     "text": [
      "Building prefix dict from /Users/poncc/Documents/GitHub/2nd-PyCrawlerMarathon/homework/day038/dict.user.big.txt ...\n",
      "Loading model from cache /var/folders/68/t9g86v0d0ys2rpbv_g1xxrph0000gn/T/jieba.u25b0b9ddcb92304ec71499048447de52.cache\n",
      "Loading model cost 1.001 seconds.\n",
      "Prefix dict has been built successfully.\n"
     ]
    },
    {
     "name": "stdout",
     "output_type": "stream",
     "text": [
      "poncc-debug: 384\n"
     ]
    },
    {
     "name": "stderr",
     "output_type": "stream",
     "text": [
      "Building prefix dict from /Users/poncc/Documents/GitHub/2nd-PyCrawlerMarathon/homework/day038/dict.user.big.txt ...\n",
      "Loading model from cache /var/folders/68/t9g86v0d0ys2rpbv_g1xxrph0000gn/T/jieba.u25b0b9ddcb92304ec71499048447de52.cache\n",
      "Loading model cost 1.020 seconds.\n",
      "Prefix dict has been built successfully.\n"
     ]
    },
    {
     "name": "stdout",
     "output_type": "stream",
     "text": [
      "poncc-debug: 385\n"
     ]
    },
    {
     "name": "stderr",
     "output_type": "stream",
     "text": [
      "Building prefix dict from /Users/poncc/Documents/GitHub/2nd-PyCrawlerMarathon/homework/day038/dict.user.big.txt ...\n",
      "Loading model from cache /var/folders/68/t9g86v0d0ys2rpbv_g1xxrph0000gn/T/jieba.u25b0b9ddcb92304ec71499048447de52.cache\n",
      "Loading model cost 1.017 seconds.\n",
      "Prefix dict has been built successfully.\n"
     ]
    },
    {
     "name": "stdout",
     "output_type": "stream",
     "text": [
      "poncc-debug: 386\n"
     ]
    },
    {
     "name": "stderr",
     "output_type": "stream",
     "text": [
      "Building prefix dict from /Users/poncc/Documents/GitHub/2nd-PyCrawlerMarathon/homework/day038/dict.user.big.txt ...\n",
      "Loading model from cache /var/folders/68/t9g86v0d0ys2rpbv_g1xxrph0000gn/T/jieba.u25b0b9ddcb92304ec71499048447de52.cache\n",
      "Loading model cost 0.993 seconds.\n",
      "Prefix dict has been built successfully.\n"
     ]
    },
    {
     "name": "stdout",
     "output_type": "stream",
     "text": [
      "poncc-debug: 387\n"
     ]
    },
    {
     "name": "stderr",
     "output_type": "stream",
     "text": [
      "Building prefix dict from /Users/poncc/Documents/GitHub/2nd-PyCrawlerMarathon/homework/day038/dict.user.big.txt ...\n",
      "Loading model from cache /var/folders/68/t9g86v0d0ys2rpbv_g1xxrph0000gn/T/jieba.u25b0b9ddcb92304ec71499048447de52.cache\n",
      "Loading model cost 1.019 seconds.\n",
      "Prefix dict has been built successfully.\n"
     ]
    },
    {
     "name": "stdout",
     "output_type": "stream",
     "text": [
      "poncc-debug: 388\n"
     ]
    },
    {
     "name": "stderr",
     "output_type": "stream",
     "text": [
      "Building prefix dict from /Users/poncc/Documents/GitHub/2nd-PyCrawlerMarathon/homework/day038/dict.user.big.txt ...\n",
      "Loading model from cache /var/folders/68/t9g86v0d0ys2rpbv_g1xxrph0000gn/T/jieba.u25b0b9ddcb92304ec71499048447de52.cache\n",
      "Loading model cost 1.014 seconds.\n",
      "Prefix dict has been built successfully.\n"
     ]
    },
    {
     "name": "stdout",
     "output_type": "stream",
     "text": [
      "poncc-debug: 389\n"
     ]
    },
    {
     "name": "stderr",
     "output_type": "stream",
     "text": [
      "Building prefix dict from /Users/poncc/Documents/GitHub/2nd-PyCrawlerMarathon/homework/day038/dict.user.big.txt ...\n",
      "Loading model from cache /var/folders/68/t9g86v0d0ys2rpbv_g1xxrph0000gn/T/jieba.u25b0b9ddcb92304ec71499048447de52.cache\n",
      "Loading model cost 1.000 seconds.\n",
      "Prefix dict has been built successfully.\n"
     ]
    },
    {
     "name": "stdout",
     "output_type": "stream",
     "text": [
      "poncc-debug: 390\n"
     ]
    },
    {
     "name": "stderr",
     "output_type": "stream",
     "text": [
      "Building prefix dict from /Users/poncc/Documents/GitHub/2nd-PyCrawlerMarathon/homework/day038/dict.user.big.txt ...\n",
      "Loading model from cache /var/folders/68/t9g86v0d0ys2rpbv_g1xxrph0000gn/T/jieba.u25b0b9ddcb92304ec71499048447de52.cache\n",
      "Loading model cost 0.997 seconds.\n",
      "Prefix dict has been built successfully.\n"
     ]
    },
    {
     "name": "stdout",
     "output_type": "stream",
     "text": [
      "poncc-debug: 391\n"
     ]
    },
    {
     "name": "stderr",
     "output_type": "stream",
     "text": [
      "Building prefix dict from /Users/poncc/Documents/GitHub/2nd-PyCrawlerMarathon/homework/day038/dict.user.big.txt ...\n",
      "Loading model from cache /var/folders/68/t9g86v0d0ys2rpbv_g1xxrph0000gn/T/jieba.u25b0b9ddcb92304ec71499048447de52.cache\n",
      "Loading model cost 1.009 seconds.\n",
      "Prefix dict has been built successfully.\n"
     ]
    },
    {
     "name": "stdout",
     "output_type": "stream",
     "text": [
      "poncc-debug: 392\n"
     ]
    },
    {
     "name": "stderr",
     "output_type": "stream",
     "text": [
      "Building prefix dict from /Users/poncc/Documents/GitHub/2nd-PyCrawlerMarathon/homework/day038/dict.user.big.txt ...\n",
      "Loading model from cache /var/folders/68/t9g86v0d0ys2rpbv_g1xxrph0000gn/T/jieba.u25b0b9ddcb92304ec71499048447de52.cache\n",
      "Loading model cost 1.005 seconds.\n",
      "Prefix dict has been built successfully.\n"
     ]
    },
    {
     "name": "stdout",
     "output_type": "stream",
     "text": [
      "poncc-debug: 393\n"
     ]
    },
    {
     "name": "stderr",
     "output_type": "stream",
     "text": [
      "Building prefix dict from /Users/poncc/Documents/GitHub/2nd-PyCrawlerMarathon/homework/day038/dict.user.big.txt ...\n",
      "Loading model from cache /var/folders/68/t9g86v0d0ys2rpbv_g1xxrph0000gn/T/jieba.u25b0b9ddcb92304ec71499048447de52.cache\n",
      "Loading model cost 0.995 seconds.\n",
      "Prefix dict has been built successfully.\n"
     ]
    },
    {
     "name": "stdout",
     "output_type": "stream",
     "text": [
      "poncc-debug: 394\n"
     ]
    },
    {
     "name": "stderr",
     "output_type": "stream",
     "text": [
      "Building prefix dict from /Users/poncc/Documents/GitHub/2nd-PyCrawlerMarathon/homework/day038/dict.user.big.txt ...\n",
      "Loading model from cache /var/folders/68/t9g86v0d0ys2rpbv_g1xxrph0000gn/T/jieba.u25b0b9ddcb92304ec71499048447de52.cache\n",
      "Loading model cost 0.993 seconds.\n",
      "Prefix dict has been built successfully.\n"
     ]
    },
    {
     "name": "stdout",
     "output_type": "stream",
     "text": [
      "poncc-debug: 395\n"
     ]
    },
    {
     "name": "stderr",
     "output_type": "stream",
     "text": [
      "Building prefix dict from /Users/poncc/Documents/GitHub/2nd-PyCrawlerMarathon/homework/day038/dict.user.big.txt ...\n",
      "Loading model from cache /var/folders/68/t9g86v0d0ys2rpbv_g1xxrph0000gn/T/jieba.u25b0b9ddcb92304ec71499048447de52.cache\n",
      "Loading model cost 0.996 seconds.\n",
      "Prefix dict has been built successfully.\n"
     ]
    },
    {
     "name": "stdout",
     "output_type": "stream",
     "text": [
      "poncc-debug: 396\n"
     ]
    },
    {
     "name": "stderr",
     "output_type": "stream",
     "text": [
      "Building prefix dict from /Users/poncc/Documents/GitHub/2nd-PyCrawlerMarathon/homework/day038/dict.user.big.txt ...\n",
      "Loading model from cache /var/folders/68/t9g86v0d0ys2rpbv_g1xxrph0000gn/T/jieba.u25b0b9ddcb92304ec71499048447de52.cache\n",
      "Loading model cost 0.995 seconds.\n",
      "Prefix dict has been built successfully.\n"
     ]
    },
    {
     "name": "stdout",
     "output_type": "stream",
     "text": [
      "poncc-debug: 397\n"
     ]
    },
    {
     "name": "stderr",
     "output_type": "stream",
     "text": [
      "Building prefix dict from /Users/poncc/Documents/GitHub/2nd-PyCrawlerMarathon/homework/day038/dict.user.big.txt ...\n",
      "Loading model from cache /var/folders/68/t9g86v0d0ys2rpbv_g1xxrph0000gn/T/jieba.u25b0b9ddcb92304ec71499048447de52.cache\n",
      "Loading model cost 0.996 seconds.\n",
      "Prefix dict has been built successfully.\n"
     ]
    },
    {
     "name": "stdout",
     "output_type": "stream",
     "text": [
      "poncc-debug: 398\n"
     ]
    },
    {
     "name": "stderr",
     "output_type": "stream",
     "text": [
      "Building prefix dict from /Users/poncc/Documents/GitHub/2nd-PyCrawlerMarathon/homework/day038/dict.user.big.txt ...\n",
      "Loading model from cache /var/folders/68/t9g86v0d0ys2rpbv_g1xxrph0000gn/T/jieba.u25b0b9ddcb92304ec71499048447de52.cache\n",
      "Loading model cost 0.999 seconds.\n",
      "Prefix dict has been built successfully.\n"
     ]
    },
    {
     "name": "stdout",
     "output_type": "stream",
     "text": [
      "poncc-debug: 399\n"
     ]
    },
    {
     "name": "stderr",
     "output_type": "stream",
     "text": [
      "Building prefix dict from /Users/poncc/Documents/GitHub/2nd-PyCrawlerMarathon/homework/day038/dict.user.big.txt ...\n",
      "Loading model from cache /var/folders/68/t9g86v0d0ys2rpbv_g1xxrph0000gn/T/jieba.u25b0b9ddcb92304ec71499048447de52.cache\n",
      "Loading model cost 1.000 seconds.\n",
      "Prefix dict has been built successfully.\n"
     ]
    },
    {
     "name": "stdout",
     "output_type": "stream",
     "text": [
      "poncc-debug: 400\n"
     ]
    },
    {
     "name": "stderr",
     "output_type": "stream",
     "text": [
      "Building prefix dict from /Users/poncc/Documents/GitHub/2nd-PyCrawlerMarathon/homework/day038/dict.user.big.txt ...\n",
      "Loading model from cache /var/folders/68/t9g86v0d0ys2rpbv_g1xxrph0000gn/T/jieba.u25b0b9ddcb92304ec71499048447de52.cache\n",
      "Loading model cost 1.011 seconds.\n",
      "Prefix dict has been built successfully.\n",
      "Building prefix dict from /Users/poncc/Documents/GitHub/2nd-PyCrawlerMarathon/homework/day038/dict.user.big.txt ...\n",
      "Loading model from cache /var/folders/68/t9g86v0d0ys2rpbv_g1xxrph0000gn/T/jieba.u25b0b9ddcb92304ec71499048447de52.cache\n"
     ]
    },
    {
     "name": "stdout",
     "output_type": "stream",
     "text": [
      "poncc-debug: 401\n"
     ]
    },
    {
     "name": "stderr",
     "output_type": "stream",
     "text": [
      "Loading model cost 1.015 seconds.\n",
      "Prefix dict has been built successfully.\n"
     ]
    },
    {
     "name": "stdout",
     "output_type": "stream",
     "text": [
      "poncc-debug: 402\n"
     ]
    },
    {
     "name": "stderr",
     "output_type": "stream",
     "text": [
      "Building prefix dict from /Users/poncc/Documents/GitHub/2nd-PyCrawlerMarathon/homework/day038/dict.user.big.txt ...\n",
      "Loading model from cache /var/folders/68/t9g86v0d0ys2rpbv_g1xxrph0000gn/T/jieba.u25b0b9ddcb92304ec71499048447de52.cache\n",
      "Loading model cost 0.989 seconds.\n",
      "Prefix dict has been built successfully.\n"
     ]
    },
    {
     "name": "stdout",
     "output_type": "stream",
     "text": [
      "poncc-debug: 403\n"
     ]
    },
    {
     "name": "stderr",
     "output_type": "stream",
     "text": [
      "Building prefix dict from /Users/poncc/Documents/GitHub/2nd-PyCrawlerMarathon/homework/day038/dict.user.big.txt ...\n",
      "Loading model from cache /var/folders/68/t9g86v0d0ys2rpbv_g1xxrph0000gn/T/jieba.u25b0b9ddcb92304ec71499048447de52.cache\n",
      "Loading model cost 0.998 seconds.\n",
      "Prefix dict has been built successfully.\n"
     ]
    },
    {
     "name": "stdout",
     "output_type": "stream",
     "text": [
      "poncc-debug: 404\n"
     ]
    },
    {
     "name": "stderr",
     "output_type": "stream",
     "text": [
      "Building prefix dict from /Users/poncc/Documents/GitHub/2nd-PyCrawlerMarathon/homework/day038/dict.user.big.txt ...\n",
      "Loading model from cache /var/folders/68/t9g86v0d0ys2rpbv_g1xxrph0000gn/T/jieba.u25b0b9ddcb92304ec71499048447de52.cache\n",
      "Loading model cost 1.003 seconds.\n",
      "Prefix dict has been built successfully.\n"
     ]
    },
    {
     "name": "stdout",
     "output_type": "stream",
     "text": [
      "poncc-debug: 405\n"
     ]
    },
    {
     "name": "stderr",
     "output_type": "stream",
     "text": [
      "Building prefix dict from /Users/poncc/Documents/GitHub/2nd-PyCrawlerMarathon/homework/day038/dict.user.big.txt ...\n",
      "Loading model from cache /var/folders/68/t9g86v0d0ys2rpbv_g1xxrph0000gn/T/jieba.u25b0b9ddcb92304ec71499048447de52.cache\n",
      "Loading model cost 1.002 seconds.\n",
      "Prefix dict has been built successfully.\n"
     ]
    },
    {
     "name": "stdout",
     "output_type": "stream",
     "text": [
      "poncc-debug: 406\n"
     ]
    },
    {
     "name": "stderr",
     "output_type": "stream",
     "text": [
      "Building prefix dict from /Users/poncc/Documents/GitHub/2nd-PyCrawlerMarathon/homework/day038/dict.user.big.txt ...\n",
      "Loading model from cache /var/folders/68/t9g86v0d0ys2rpbv_g1xxrph0000gn/T/jieba.u25b0b9ddcb92304ec71499048447de52.cache\n",
      "Loading model cost 1.001 seconds.\n",
      "Prefix dict has been built successfully.\n"
     ]
    },
    {
     "name": "stdout",
     "output_type": "stream",
     "text": [
      "poncc-debug: 407\n"
     ]
    },
    {
     "name": "stderr",
     "output_type": "stream",
     "text": [
      "Building prefix dict from /Users/poncc/Documents/GitHub/2nd-PyCrawlerMarathon/homework/day038/dict.user.big.txt ...\n",
      "Loading model from cache /var/folders/68/t9g86v0d0ys2rpbv_g1xxrph0000gn/T/jieba.u25b0b9ddcb92304ec71499048447de52.cache\n",
      "Loading model cost 0.999 seconds.\n",
      "Prefix dict has been built successfully.\n"
     ]
    },
    {
     "name": "stdout",
     "output_type": "stream",
     "text": [
      "poncc-debug: 408\n"
     ]
    },
    {
     "name": "stderr",
     "output_type": "stream",
     "text": [
      "Building prefix dict from /Users/poncc/Documents/GitHub/2nd-PyCrawlerMarathon/homework/day038/dict.user.big.txt ...\n",
      "Loading model from cache /var/folders/68/t9g86v0d0ys2rpbv_g1xxrph0000gn/T/jieba.u25b0b9ddcb92304ec71499048447de52.cache\n",
      "Loading model cost 1.009 seconds.\n",
      "Prefix dict has been built successfully.\n"
     ]
    },
    {
     "name": "stdout",
     "output_type": "stream",
     "text": [
      "poncc-debug: 409\n"
     ]
    },
    {
     "name": "stderr",
     "output_type": "stream",
     "text": [
      "Building prefix dict from /Users/poncc/Documents/GitHub/2nd-PyCrawlerMarathon/homework/day038/dict.user.big.txt ...\n",
      "Loading model from cache /var/folders/68/t9g86v0d0ys2rpbv_g1xxrph0000gn/T/jieba.u25b0b9ddcb92304ec71499048447de52.cache\n",
      "Loading model cost 1.025 seconds.\n",
      "Prefix dict has been built successfully.\n"
     ]
    },
    {
     "name": "stdout",
     "output_type": "stream",
     "text": [
      "poncc-debug: 410\n"
     ]
    },
    {
     "name": "stderr",
     "output_type": "stream",
     "text": [
      "Building prefix dict from /Users/poncc/Documents/GitHub/2nd-PyCrawlerMarathon/homework/day038/dict.user.big.txt ...\n",
      "Loading model from cache /var/folders/68/t9g86v0d0ys2rpbv_g1xxrph0000gn/T/jieba.u25b0b9ddcb92304ec71499048447de52.cache\n",
      "Loading model cost 0.998 seconds.\n",
      "Prefix dict has been built successfully.\n"
     ]
    },
    {
     "name": "stdout",
     "output_type": "stream",
     "text": [
      "poncc-debug: 411\n"
     ]
    },
    {
     "name": "stderr",
     "output_type": "stream",
     "text": [
      "Building prefix dict from /Users/poncc/Documents/GitHub/2nd-PyCrawlerMarathon/homework/day038/dict.user.big.txt ...\n",
      "Loading model from cache /var/folders/68/t9g86v0d0ys2rpbv_g1xxrph0000gn/T/jieba.u25b0b9ddcb92304ec71499048447de52.cache\n",
      "Loading model cost 0.994 seconds.\n",
      "Prefix dict has been built successfully.\n"
     ]
    },
    {
     "name": "stdout",
     "output_type": "stream",
     "text": [
      "poncc-debug: 412\n"
     ]
    },
    {
     "name": "stderr",
     "output_type": "stream",
     "text": [
      "Building prefix dict from /Users/poncc/Documents/GitHub/2nd-PyCrawlerMarathon/homework/day038/dict.user.big.txt ...\n",
      "Loading model from cache /var/folders/68/t9g86v0d0ys2rpbv_g1xxrph0000gn/T/jieba.u25b0b9ddcb92304ec71499048447de52.cache\n",
      "Loading model cost 1.005 seconds.\n",
      "Prefix dict has been built successfully.\n",
      "Building prefix dict from /Users/poncc/Documents/GitHub/2nd-PyCrawlerMarathon/homework/day038/dict.user.big.txt ...\n"
     ]
    },
    {
     "name": "stdout",
     "output_type": "stream",
     "text": [
      "poncc-debug: 413\n"
     ]
    },
    {
     "name": "stderr",
     "output_type": "stream",
     "text": [
      "Loading model from cache /var/folders/68/t9g86v0d0ys2rpbv_g1xxrph0000gn/T/jieba.u25b0b9ddcb92304ec71499048447de52.cache\n",
      "Loading model cost 1.005 seconds.\n",
      "Prefix dict has been built successfully.\n"
     ]
    },
    {
     "name": "stdout",
     "output_type": "stream",
     "text": [
      "poncc-debug: 414\n"
     ]
    },
    {
     "name": "stderr",
     "output_type": "stream",
     "text": [
      "Building prefix dict from /Users/poncc/Documents/GitHub/2nd-PyCrawlerMarathon/homework/day038/dict.user.big.txt ...\n",
      "Loading model from cache /var/folders/68/t9g86v0d0ys2rpbv_g1xxrph0000gn/T/jieba.u25b0b9ddcb92304ec71499048447de52.cache\n",
      "Loading model cost 1.006 seconds.\n",
      "Prefix dict has been built successfully.\n"
     ]
    },
    {
     "name": "stdout",
     "output_type": "stream",
     "text": [
      "poncc-debug: 415\n"
     ]
    },
    {
     "name": "stderr",
     "output_type": "stream",
     "text": [
      "Building prefix dict from /Users/poncc/Documents/GitHub/2nd-PyCrawlerMarathon/homework/day038/dict.user.big.txt ...\n",
      "Loading model from cache /var/folders/68/t9g86v0d0ys2rpbv_g1xxrph0000gn/T/jieba.u25b0b9ddcb92304ec71499048447de52.cache\n",
      "Loading model cost 0.998 seconds.\n",
      "Prefix dict has been built successfully.\n"
     ]
    },
    {
     "name": "stdout",
     "output_type": "stream",
     "text": [
      "poncc-debug: 416\n"
     ]
    },
    {
     "name": "stderr",
     "output_type": "stream",
     "text": [
      "Building prefix dict from /Users/poncc/Documents/GitHub/2nd-PyCrawlerMarathon/homework/day038/dict.user.big.txt ...\n",
      "Loading model from cache /var/folders/68/t9g86v0d0ys2rpbv_g1xxrph0000gn/T/jieba.u25b0b9ddcb92304ec71499048447de52.cache\n",
      "Loading model cost 1.008 seconds.\n",
      "Prefix dict has been built successfully.\n"
     ]
    },
    {
     "name": "stdout",
     "output_type": "stream",
     "text": [
      "poncc-debug: 417\n"
     ]
    },
    {
     "name": "stderr",
     "output_type": "stream",
     "text": [
      "Building prefix dict from /Users/poncc/Documents/GitHub/2nd-PyCrawlerMarathon/homework/day038/dict.user.big.txt ...\n",
      "Loading model from cache /var/folders/68/t9g86v0d0ys2rpbv_g1xxrph0000gn/T/jieba.u25b0b9ddcb92304ec71499048447de52.cache\n",
      "Loading model cost 1.016 seconds.\n",
      "Prefix dict has been built successfully.\n"
     ]
    },
    {
     "name": "stdout",
     "output_type": "stream",
     "text": [
      "poncc-debug: 418\n"
     ]
    },
    {
     "name": "stderr",
     "output_type": "stream",
     "text": [
      "Building prefix dict from /Users/poncc/Documents/GitHub/2nd-PyCrawlerMarathon/homework/day038/dict.user.big.txt ...\n",
      "Loading model from cache /var/folders/68/t9g86v0d0ys2rpbv_g1xxrph0000gn/T/jieba.u25b0b9ddcb92304ec71499048447de52.cache\n",
      "Loading model cost 1.012 seconds.\n",
      "Prefix dict has been built successfully.\n"
     ]
    },
    {
     "name": "stdout",
     "output_type": "stream",
     "text": [
      "poncc-debug: 419\n"
     ]
    },
    {
     "name": "stderr",
     "output_type": "stream",
     "text": [
      "Building prefix dict from /Users/poncc/Documents/GitHub/2nd-PyCrawlerMarathon/homework/day038/dict.user.big.txt ...\n",
      "Loading model from cache /var/folders/68/t9g86v0d0ys2rpbv_g1xxrph0000gn/T/jieba.u25b0b9ddcb92304ec71499048447de52.cache\n",
      "Loading model cost 1.021 seconds.\n",
      "Prefix dict has been built successfully.\n"
     ]
    },
    {
     "name": "stdout",
     "output_type": "stream",
     "text": [
      "poncc-debug: 420\n"
     ]
    },
    {
     "name": "stderr",
     "output_type": "stream",
     "text": [
      "Building prefix dict from /Users/poncc/Documents/GitHub/2nd-PyCrawlerMarathon/homework/day038/dict.user.big.txt ...\n",
      "Loading model from cache /var/folders/68/t9g86v0d0ys2rpbv_g1xxrph0000gn/T/jieba.u25b0b9ddcb92304ec71499048447de52.cache\n",
      "Loading model cost 0.999 seconds.\n",
      "Prefix dict has been built successfully.\n",
      "Building prefix dict from /Users/poncc/Documents/GitHub/2nd-PyCrawlerMarathon/homework/day038/dict.user.big.txt ...\n"
     ]
    },
    {
     "name": "stdout",
     "output_type": "stream",
     "text": [
      "poncc-debug: 421\n"
     ]
    },
    {
     "name": "stderr",
     "output_type": "stream",
     "text": [
      "Loading model from cache /var/folders/68/t9g86v0d0ys2rpbv_g1xxrph0000gn/T/jieba.u25b0b9ddcb92304ec71499048447de52.cache\n",
      "Loading model cost 1.028 seconds.\n",
      "Prefix dict has been built successfully.\n"
     ]
    },
    {
     "name": "stdout",
     "output_type": "stream",
     "text": [
      "poncc-debug: 422\n"
     ]
    },
    {
     "name": "stderr",
     "output_type": "stream",
     "text": [
      "Building prefix dict from /Users/poncc/Documents/GitHub/2nd-PyCrawlerMarathon/homework/day038/dict.user.big.txt ...\n",
      "Loading model from cache /var/folders/68/t9g86v0d0ys2rpbv_g1xxrph0000gn/T/jieba.u25b0b9ddcb92304ec71499048447de52.cache\n",
      "Loading model cost 1.019 seconds.\n",
      "Prefix dict has been built successfully.\n"
     ]
    },
    {
     "name": "stdout",
     "output_type": "stream",
     "text": [
      "poncc-debug: 423\n"
     ]
    },
    {
     "name": "stderr",
     "output_type": "stream",
     "text": [
      "Building prefix dict from /Users/poncc/Documents/GitHub/2nd-PyCrawlerMarathon/homework/day038/dict.user.big.txt ...\n",
      "Loading model from cache /var/folders/68/t9g86v0d0ys2rpbv_g1xxrph0000gn/T/jieba.u25b0b9ddcb92304ec71499048447de52.cache\n",
      "Loading model cost 1.017 seconds.\n",
      "Prefix dict has been built successfully.\n"
     ]
    },
    {
     "name": "stdout",
     "output_type": "stream",
     "text": [
      "poncc-debug: 424\n"
     ]
    },
    {
     "name": "stderr",
     "output_type": "stream",
     "text": [
      "Building prefix dict from /Users/poncc/Documents/GitHub/2nd-PyCrawlerMarathon/homework/day038/dict.user.big.txt ...\n",
      "Loading model from cache /var/folders/68/t9g86v0d0ys2rpbv_g1xxrph0000gn/T/jieba.u25b0b9ddcb92304ec71499048447de52.cache\n",
      "Loading model cost 1.023 seconds.\n",
      "Prefix dict has been built successfully.\n"
     ]
    },
    {
     "name": "stdout",
     "output_type": "stream",
     "text": [
      "poncc-debug: 425\n"
     ]
    },
    {
     "name": "stderr",
     "output_type": "stream",
     "text": [
      "Building prefix dict from /Users/poncc/Documents/GitHub/2nd-PyCrawlerMarathon/homework/day038/dict.user.big.txt ...\n",
      "Loading model from cache /var/folders/68/t9g86v0d0ys2rpbv_g1xxrph0000gn/T/jieba.u25b0b9ddcb92304ec71499048447de52.cache\n",
      "Loading model cost 0.996 seconds.\n",
      "Prefix dict has been built successfully.\n"
     ]
    },
    {
     "name": "stdout",
     "output_type": "stream",
     "text": [
      "poncc-debug: 426\n"
     ]
    },
    {
     "name": "stderr",
     "output_type": "stream",
     "text": [
      "Building prefix dict from /Users/poncc/Documents/GitHub/2nd-PyCrawlerMarathon/homework/day038/dict.user.big.txt ...\n",
      "Loading model from cache /var/folders/68/t9g86v0d0ys2rpbv_g1xxrph0000gn/T/jieba.u25b0b9ddcb92304ec71499048447de52.cache\n",
      "Loading model cost 1.000 seconds.\n",
      "Prefix dict has been built successfully.\n"
     ]
    },
    {
     "name": "stdout",
     "output_type": "stream",
     "text": [
      "poncc-debug: 427\n"
     ]
    },
    {
     "name": "stderr",
     "output_type": "stream",
     "text": [
      "Building prefix dict from /Users/poncc/Documents/GitHub/2nd-PyCrawlerMarathon/homework/day038/dict.user.big.txt ...\n",
      "Loading model from cache /var/folders/68/t9g86v0d0ys2rpbv_g1xxrph0000gn/T/jieba.u25b0b9ddcb92304ec71499048447de52.cache\n",
      "Loading model cost 1.014 seconds.\n",
      "Prefix dict has been built successfully.\n"
     ]
    },
    {
     "name": "stdout",
     "output_type": "stream",
     "text": [
      "poncc-debug: 428\n"
     ]
    },
    {
     "name": "stderr",
     "output_type": "stream",
     "text": [
      "Building prefix dict from /Users/poncc/Documents/GitHub/2nd-PyCrawlerMarathon/homework/day038/dict.user.big.txt ...\n",
      "Loading model from cache /var/folders/68/t9g86v0d0ys2rpbv_g1xxrph0000gn/T/jieba.u25b0b9ddcb92304ec71499048447de52.cache\n",
      "Loading model cost 1.014 seconds.\n",
      "Prefix dict has been built successfully.\n"
     ]
    },
    {
     "name": "stdout",
     "output_type": "stream",
     "text": [
      "poncc-debug: 429\n"
     ]
    },
    {
     "name": "stderr",
     "output_type": "stream",
     "text": [
      "Building prefix dict from /Users/poncc/Documents/GitHub/2nd-PyCrawlerMarathon/homework/day038/dict.user.big.txt ...\n",
      "Loading model from cache /var/folders/68/t9g86v0d0ys2rpbv_g1xxrph0000gn/T/jieba.u25b0b9ddcb92304ec71499048447de52.cache\n",
      "Loading model cost 1.023 seconds.\n",
      "Prefix dict has been built successfully.\n",
      "Building prefix dict from /Users/poncc/Documents/GitHub/2nd-PyCrawlerMarathon/homework/day038/dict.user.big.txt ...\n",
      "Loading model from cache /var/folders/68/t9g86v0d0ys2rpbv_g1xxrph0000gn/T/jieba.u25b0b9ddcb92304ec71499048447de52.cache\n"
     ]
    },
    {
     "name": "stdout",
     "output_type": "stream",
     "text": [
      "poncc-debug: 430\n"
     ]
    },
    {
     "name": "stderr",
     "output_type": "stream",
     "text": [
      "Loading model cost 1.008 seconds.\n",
      "Prefix dict has been built successfully.\n",
      "Building prefix dict from /Users/poncc/Documents/GitHub/2nd-PyCrawlerMarathon/homework/day038/dict.user.big.txt ...\n"
     ]
    },
    {
     "name": "stdout",
     "output_type": "stream",
     "text": [
      "poncc-debug: 431\n"
     ]
    },
    {
     "name": "stderr",
     "output_type": "stream",
     "text": [
      "Loading model from cache /var/folders/68/t9g86v0d0ys2rpbv_g1xxrph0000gn/T/jieba.u25b0b9ddcb92304ec71499048447de52.cache\n",
      "Loading model cost 1.001 seconds.\n",
      "Prefix dict has been built successfully.\n"
     ]
    },
    {
     "name": "stdout",
     "output_type": "stream",
     "text": [
      "poncc-debug: 432\n"
     ]
    },
    {
     "name": "stderr",
     "output_type": "stream",
     "text": [
      "Building prefix dict from /Users/poncc/Documents/GitHub/2nd-PyCrawlerMarathon/homework/day038/dict.user.big.txt ...\n",
      "Loading model from cache /var/folders/68/t9g86v0d0ys2rpbv_g1xxrph0000gn/T/jieba.u25b0b9ddcb92304ec71499048447de52.cache\n",
      "Loading model cost 0.994 seconds.\n",
      "Prefix dict has been built successfully.\n"
     ]
    },
    {
     "name": "stdout",
     "output_type": "stream",
     "text": [
      "poncc-debug: 433\n"
     ]
    },
    {
     "name": "stderr",
     "output_type": "stream",
     "text": [
      "Building prefix dict from /Users/poncc/Documents/GitHub/2nd-PyCrawlerMarathon/homework/day038/dict.user.big.txt ...\n",
      "Loading model from cache /var/folders/68/t9g86v0d0ys2rpbv_g1xxrph0000gn/T/jieba.u25b0b9ddcb92304ec71499048447de52.cache\n",
      "Loading model cost 1.007 seconds.\n",
      "Prefix dict has been built successfully.\n"
     ]
    },
    {
     "name": "stdout",
     "output_type": "stream",
     "text": [
      "poncc-debug: 434\n"
     ]
    },
    {
     "name": "stderr",
     "output_type": "stream",
     "text": [
      "Building prefix dict from /Users/poncc/Documents/GitHub/2nd-PyCrawlerMarathon/homework/day038/dict.user.big.txt ...\n",
      "Loading model from cache /var/folders/68/t9g86v0d0ys2rpbv_g1xxrph0000gn/T/jieba.u25b0b9ddcb92304ec71499048447de52.cache\n",
      "Loading model cost 1.000 seconds.\n",
      "Prefix dict has been built successfully.\n"
     ]
    },
    {
     "name": "stdout",
     "output_type": "stream",
     "text": [
      "poncc-debug: 435\n"
     ]
    },
    {
     "name": "stderr",
     "output_type": "stream",
     "text": [
      "Building prefix dict from /Users/poncc/Documents/GitHub/2nd-PyCrawlerMarathon/homework/day038/dict.user.big.txt ...\n",
      "Loading model from cache /var/folders/68/t9g86v0d0ys2rpbv_g1xxrph0000gn/T/jieba.u25b0b9ddcb92304ec71499048447de52.cache\n",
      "Loading model cost 1.014 seconds.\n",
      "Prefix dict has been built successfully.\n"
     ]
    },
    {
     "name": "stdout",
     "output_type": "stream",
     "text": [
      "poncc-debug: 436\n"
     ]
    },
    {
     "name": "stderr",
     "output_type": "stream",
     "text": [
      "Building prefix dict from /Users/poncc/Documents/GitHub/2nd-PyCrawlerMarathon/homework/day038/dict.user.big.txt ...\n",
      "Loading model from cache /var/folders/68/t9g86v0d0ys2rpbv_g1xxrph0000gn/T/jieba.u25b0b9ddcb92304ec71499048447de52.cache\n",
      "Loading model cost 1.012 seconds.\n",
      "Prefix dict has been built successfully.\n"
     ]
    },
    {
     "name": "stdout",
     "output_type": "stream",
     "text": [
      "poncc-debug: 437\n"
     ]
    },
    {
     "name": "stderr",
     "output_type": "stream",
     "text": [
      "Building prefix dict from /Users/poncc/Documents/GitHub/2nd-PyCrawlerMarathon/homework/day038/dict.user.big.txt ...\n",
      "Loading model from cache /var/folders/68/t9g86v0d0ys2rpbv_g1xxrph0000gn/T/jieba.u25b0b9ddcb92304ec71499048447de52.cache\n",
      "Loading model cost 1.023 seconds.\n",
      "Prefix dict has been built successfully.\n"
     ]
    },
    {
     "name": "stdout",
     "output_type": "stream",
     "text": [
      "poncc-debug: 438\n"
     ]
    },
    {
     "name": "stderr",
     "output_type": "stream",
     "text": [
      "Building prefix dict from /Users/poncc/Documents/GitHub/2nd-PyCrawlerMarathon/homework/day038/dict.user.big.txt ...\n",
      "Loading model from cache /var/folders/68/t9g86v0d0ys2rpbv_g1xxrph0000gn/T/jieba.u25b0b9ddcb92304ec71499048447de52.cache\n",
      "Loading model cost 1.025 seconds.\n",
      "Prefix dict has been built successfully.\n"
     ]
    },
    {
     "name": "stdout",
     "output_type": "stream",
     "text": [
      "poncc-debug: 439\n"
     ]
    },
    {
     "name": "stderr",
     "output_type": "stream",
     "text": [
      "Building prefix dict from /Users/poncc/Documents/GitHub/2nd-PyCrawlerMarathon/homework/day038/dict.user.big.txt ...\n",
      "Loading model from cache /var/folders/68/t9g86v0d0ys2rpbv_g1xxrph0000gn/T/jieba.u25b0b9ddcb92304ec71499048447de52.cache\n",
      "Loading model cost 1.004 seconds.\n",
      "Prefix dict has been built successfully.\n",
      "Building prefix dict from /Users/poncc/Documents/GitHub/2nd-PyCrawlerMarathon/homework/day038/dict.user.big.txt ...\n",
      "Loading model from cache /var/folders/68/t9g86v0d0ys2rpbv_g1xxrph0000gn/T/jieba.u25b0b9ddcb92304ec71499048447de52.cache\n"
     ]
    },
    {
     "name": "stdout",
     "output_type": "stream",
     "text": [
      "poncc-debug: 440\n"
     ]
    },
    {
     "name": "stderr",
     "output_type": "stream",
     "text": [
      "Loading model cost 1.021 seconds.\n",
      "Prefix dict has been built successfully.\n"
     ]
    },
    {
     "name": "stdout",
     "output_type": "stream",
     "text": [
      "poncc-debug: 441\n"
     ]
    },
    {
     "name": "stderr",
     "output_type": "stream",
     "text": [
      "Building prefix dict from /Users/poncc/Documents/GitHub/2nd-PyCrawlerMarathon/homework/day038/dict.user.big.txt ...\n",
      "Loading model from cache /var/folders/68/t9g86v0d0ys2rpbv_g1xxrph0000gn/T/jieba.u25b0b9ddcb92304ec71499048447de52.cache\n",
      "Loading model cost 1.019 seconds.\n",
      "Prefix dict has been built successfully.\n"
     ]
    },
    {
     "name": "stdout",
     "output_type": "stream",
     "text": [
      "poncc-debug: 442\n"
     ]
    },
    {
     "name": "stderr",
     "output_type": "stream",
     "text": [
      "Building prefix dict from /Users/poncc/Documents/GitHub/2nd-PyCrawlerMarathon/homework/day038/dict.user.big.txt ...\n",
      "Loading model from cache /var/folders/68/t9g86v0d0ys2rpbv_g1xxrph0000gn/T/jieba.u25b0b9ddcb92304ec71499048447de52.cache\n",
      "Loading model cost 1.017 seconds.\n",
      "Prefix dict has been built successfully.\n"
     ]
    },
    {
     "name": "stdout",
     "output_type": "stream",
     "text": [
      "poncc-debug: 443\n"
     ]
    },
    {
     "name": "stderr",
     "output_type": "stream",
     "text": [
      "Building prefix dict from /Users/poncc/Documents/GitHub/2nd-PyCrawlerMarathon/homework/day038/dict.user.big.txt ...\n",
      "Loading model from cache /var/folders/68/t9g86v0d0ys2rpbv_g1xxrph0000gn/T/jieba.u25b0b9ddcb92304ec71499048447de52.cache\n",
      "Loading model cost 1.009 seconds.\n",
      "Prefix dict has been built successfully.\n"
     ]
    },
    {
     "name": "stdout",
     "output_type": "stream",
     "text": [
      "poncc-debug: 444\n"
     ]
    },
    {
     "name": "stderr",
     "output_type": "stream",
     "text": [
      "Building prefix dict from /Users/poncc/Documents/GitHub/2nd-PyCrawlerMarathon/homework/day038/dict.user.big.txt ...\n",
      "Loading model from cache /var/folders/68/t9g86v0d0ys2rpbv_g1xxrph0000gn/T/jieba.u25b0b9ddcb92304ec71499048447de52.cache\n",
      "Loading model cost 1.018 seconds.\n",
      "Prefix dict has been built successfully.\n"
     ]
    },
    {
     "name": "stdout",
     "output_type": "stream",
     "text": [
      "poncc-debug: 445\n"
     ]
    },
    {
     "name": "stderr",
     "output_type": "stream",
     "text": [
      "Building prefix dict from /Users/poncc/Documents/GitHub/2nd-PyCrawlerMarathon/homework/day038/dict.user.big.txt ...\n",
      "Loading model from cache /var/folders/68/t9g86v0d0ys2rpbv_g1xxrph0000gn/T/jieba.u25b0b9ddcb92304ec71499048447de52.cache\n",
      "Loading model cost 1.007 seconds.\n",
      "Prefix dict has been built successfully.\n"
     ]
    },
    {
     "name": "stdout",
     "output_type": "stream",
     "text": [
      "poncc-debug: 446\n"
     ]
    },
    {
     "name": "stderr",
     "output_type": "stream",
     "text": [
      "Building prefix dict from /Users/poncc/Documents/GitHub/2nd-PyCrawlerMarathon/homework/day038/dict.user.big.txt ...\n",
      "Loading model from cache /var/folders/68/t9g86v0d0ys2rpbv_g1xxrph0000gn/T/jieba.u25b0b9ddcb92304ec71499048447de52.cache\n",
      "Loading model cost 1.010 seconds.\n",
      "Prefix dict has been built successfully.\n"
     ]
    },
    {
     "name": "stdout",
     "output_type": "stream",
     "text": [
      "poncc-debug: 447\n"
     ]
    },
    {
     "name": "stderr",
     "output_type": "stream",
     "text": [
      "Building prefix dict from /Users/poncc/Documents/GitHub/2nd-PyCrawlerMarathon/homework/day038/dict.user.big.txt ...\n",
      "Loading model from cache /var/folders/68/t9g86v0d0ys2rpbv_g1xxrph0000gn/T/jieba.u25b0b9ddcb92304ec71499048447de52.cache\n",
      "Loading model cost 1.022 seconds.\n",
      "Prefix dict has been built successfully.\n"
     ]
    },
    {
     "name": "stdout",
     "output_type": "stream",
     "text": [
      "poncc-debug: 448\n"
     ]
    },
    {
     "name": "stderr",
     "output_type": "stream",
     "text": [
      "Building prefix dict from /Users/poncc/Documents/GitHub/2nd-PyCrawlerMarathon/homework/day038/dict.user.big.txt ...\n",
      "Loading model from cache /var/folders/68/t9g86v0d0ys2rpbv_g1xxrph0000gn/T/jieba.u25b0b9ddcb92304ec71499048447de52.cache\n",
      "Loading model cost 1.002 seconds.\n",
      "Prefix dict has been built successfully.\n"
     ]
    },
    {
     "name": "stdout",
     "output_type": "stream",
     "text": [
      "poncc-debug: 449\n"
     ]
    },
    {
     "name": "stderr",
     "output_type": "stream",
     "text": [
      "Building prefix dict from /Users/poncc/Documents/GitHub/2nd-PyCrawlerMarathon/homework/day038/dict.user.big.txt ...\n",
      "Loading model from cache /var/folders/68/t9g86v0d0ys2rpbv_g1xxrph0000gn/T/jieba.u25b0b9ddcb92304ec71499048447de52.cache\n",
      "Loading model cost 1.003 seconds.\n",
      "Prefix dict has been built successfully.\n"
     ]
    },
    {
     "name": "stdout",
     "output_type": "stream",
     "text": [
      "poncc-debug: 450\n"
     ]
    },
    {
     "name": "stderr",
     "output_type": "stream",
     "text": [
      "Building prefix dict from /Users/poncc/Documents/GitHub/2nd-PyCrawlerMarathon/homework/day038/dict.user.big.txt ...\n",
      "Loading model from cache /var/folders/68/t9g86v0d0ys2rpbv_g1xxrph0000gn/T/jieba.u25b0b9ddcb92304ec71499048447de52.cache\n",
      "Loading model cost 1.017 seconds.\n",
      "Prefix dict has been built successfully.\n"
     ]
    },
    {
     "name": "stdout",
     "output_type": "stream",
     "text": [
      "poncc-debug: 451\n"
     ]
    },
    {
     "name": "stderr",
     "output_type": "stream",
     "text": [
      "Building prefix dict from /Users/poncc/Documents/GitHub/2nd-PyCrawlerMarathon/homework/day038/dict.user.big.txt ...\n",
      "Loading model from cache /var/folders/68/t9g86v0d0ys2rpbv_g1xxrph0000gn/T/jieba.u25b0b9ddcb92304ec71499048447de52.cache\n",
      "Loading model cost 1.004 seconds.\n",
      "Prefix dict has been built successfully.\n"
     ]
    },
    {
     "name": "stdout",
     "output_type": "stream",
     "text": [
      "poncc-debug: 452\n"
     ]
    },
    {
     "name": "stderr",
     "output_type": "stream",
     "text": [
      "Building prefix dict from /Users/poncc/Documents/GitHub/2nd-PyCrawlerMarathon/homework/day038/dict.user.big.txt ...\n",
      "Loading model from cache /var/folders/68/t9g86v0d0ys2rpbv_g1xxrph0000gn/T/jieba.u25b0b9ddcb92304ec71499048447de52.cache\n",
      "Loading model cost 1.002 seconds.\n",
      "Prefix dict has been built successfully.\n"
     ]
    },
    {
     "name": "stdout",
     "output_type": "stream",
     "text": [
      "poncc-debug: 453\n"
     ]
    },
    {
     "name": "stderr",
     "output_type": "stream",
     "text": [
      "Building prefix dict from /Users/poncc/Documents/GitHub/2nd-PyCrawlerMarathon/homework/day038/dict.user.big.txt ...\n",
      "Loading model from cache /var/folders/68/t9g86v0d0ys2rpbv_g1xxrph0000gn/T/jieba.u25b0b9ddcb92304ec71499048447de52.cache\n",
      "Loading model cost 1.002 seconds.\n",
      "Prefix dict has been built successfully.\n"
     ]
    },
    {
     "name": "stdout",
     "output_type": "stream",
     "text": [
      "poncc-debug: 454\n"
     ]
    },
    {
     "name": "stderr",
     "output_type": "stream",
     "text": [
      "Building prefix dict from /Users/poncc/Documents/GitHub/2nd-PyCrawlerMarathon/homework/day038/dict.user.big.txt ...\n",
      "Loading model from cache /var/folders/68/t9g86v0d0ys2rpbv_g1xxrph0000gn/T/jieba.u25b0b9ddcb92304ec71499048447de52.cache\n",
      "Loading model cost 0.994 seconds.\n",
      "Prefix dict has been built successfully.\n"
     ]
    },
    {
     "name": "stdout",
     "output_type": "stream",
     "text": [
      "poncc-debug: 455\n"
     ]
    },
    {
     "name": "stderr",
     "output_type": "stream",
     "text": [
      "Building prefix dict from /Users/poncc/Documents/GitHub/2nd-PyCrawlerMarathon/homework/day038/dict.user.big.txt ...\n",
      "Loading model from cache /var/folders/68/t9g86v0d0ys2rpbv_g1xxrph0000gn/T/jieba.u25b0b9ddcb92304ec71499048447de52.cache\n",
      "Loading model cost 1.020 seconds.\n",
      "Prefix dict has been built successfully.\n"
     ]
    },
    {
     "name": "stdout",
     "output_type": "stream",
     "text": [
      "poncc-debug: 456\n"
     ]
    },
    {
     "name": "stderr",
     "output_type": "stream",
     "text": [
      "Building prefix dict from /Users/poncc/Documents/GitHub/2nd-PyCrawlerMarathon/homework/day038/dict.user.big.txt ...\n",
      "Loading model from cache /var/folders/68/t9g86v0d0ys2rpbv_g1xxrph0000gn/T/jieba.u25b0b9ddcb92304ec71499048447de52.cache\n",
      "Loading model cost 1.010 seconds.\n",
      "Prefix dict has been built successfully.\n"
     ]
    },
    {
     "name": "stdout",
     "output_type": "stream",
     "text": [
      "poncc-debug: 457\n"
     ]
    },
    {
     "name": "stderr",
     "output_type": "stream",
     "text": [
      "Building prefix dict from /Users/poncc/Documents/GitHub/2nd-PyCrawlerMarathon/homework/day038/dict.user.big.txt ...\n",
      "Loading model from cache /var/folders/68/t9g86v0d0ys2rpbv_g1xxrph0000gn/T/jieba.u25b0b9ddcb92304ec71499048447de52.cache\n",
      "Loading model cost 1.005 seconds.\n",
      "Prefix dict has been built successfully.\n"
     ]
    },
    {
     "name": "stdout",
     "output_type": "stream",
     "text": [
      "poncc-debug: 458\n"
     ]
    },
    {
     "name": "stderr",
     "output_type": "stream",
     "text": [
      "Building prefix dict from /Users/poncc/Documents/GitHub/2nd-PyCrawlerMarathon/homework/day038/dict.user.big.txt ...\n",
      "Loading model from cache /var/folders/68/t9g86v0d0ys2rpbv_g1xxrph0000gn/T/jieba.u25b0b9ddcb92304ec71499048447de52.cache\n",
      "Loading model cost 0.996 seconds.\n",
      "Prefix dict has been built successfully.\n"
     ]
    },
    {
     "name": "stdout",
     "output_type": "stream",
     "text": [
      "poncc-debug: 459\n"
     ]
    },
    {
     "name": "stderr",
     "output_type": "stream",
     "text": [
      "Building prefix dict from /Users/poncc/Documents/GitHub/2nd-PyCrawlerMarathon/homework/day038/dict.user.big.txt ...\n",
      "Loading model from cache /var/folders/68/t9g86v0d0ys2rpbv_g1xxrph0000gn/T/jieba.u25b0b9ddcb92304ec71499048447de52.cache\n",
      "Loading model cost 0.986 seconds.\n",
      "Prefix dict has been built successfully.\n"
     ]
    },
    {
     "name": "stdout",
     "output_type": "stream",
     "text": [
      "poncc-debug: 460\n"
     ]
    },
    {
     "name": "stderr",
     "output_type": "stream",
     "text": [
      "Building prefix dict from /Users/poncc/Documents/GitHub/2nd-PyCrawlerMarathon/homework/day038/dict.user.big.txt ...\n",
      "Loading model from cache /var/folders/68/t9g86v0d0ys2rpbv_g1xxrph0000gn/T/jieba.u25b0b9ddcb92304ec71499048447de52.cache\n",
      "Loading model cost 1.005 seconds.\n",
      "Prefix dict has been built successfully.\n"
     ]
    },
    {
     "name": "stdout",
     "output_type": "stream",
     "text": [
      "poncc-debug: 461\n"
     ]
    },
    {
     "name": "stderr",
     "output_type": "stream",
     "text": [
      "Building prefix dict from /Users/poncc/Documents/GitHub/2nd-PyCrawlerMarathon/homework/day038/dict.user.big.txt ...\n",
      "Loading model from cache /var/folders/68/t9g86v0d0ys2rpbv_g1xxrph0000gn/T/jieba.u25b0b9ddcb92304ec71499048447de52.cache\n",
      "Loading model cost 1.021 seconds.\n",
      "Prefix dict has been built successfully.\n"
     ]
    },
    {
     "name": "stdout",
     "output_type": "stream",
     "text": [
      "poncc-debug: 462\n"
     ]
    },
    {
     "name": "stderr",
     "output_type": "stream",
     "text": [
      "Building prefix dict from /Users/poncc/Documents/GitHub/2nd-PyCrawlerMarathon/homework/day038/dict.user.big.txt ...\n",
      "Loading model from cache /var/folders/68/t9g86v0d0ys2rpbv_g1xxrph0000gn/T/jieba.u25b0b9ddcb92304ec71499048447de52.cache\n",
      "Loading model cost 1.005 seconds.\n",
      "Prefix dict has been built successfully.\n"
     ]
    },
    {
     "name": "stdout",
     "output_type": "stream",
     "text": [
      "poncc-debug: 463\n"
     ]
    },
    {
     "name": "stderr",
     "output_type": "stream",
     "text": [
      "Building prefix dict from /Users/poncc/Documents/GitHub/2nd-PyCrawlerMarathon/homework/day038/dict.user.big.txt ...\n",
      "Loading model from cache /var/folders/68/t9g86v0d0ys2rpbv_g1xxrph0000gn/T/jieba.u25b0b9ddcb92304ec71499048447de52.cache\n",
      "Loading model cost 1.002 seconds.\n",
      "Prefix dict has been built successfully.\n"
     ]
    },
    {
     "name": "stdout",
     "output_type": "stream",
     "text": [
      "poncc-debug: 464\n"
     ]
    },
    {
     "name": "stderr",
     "output_type": "stream",
     "text": [
      "Building prefix dict from /Users/poncc/Documents/GitHub/2nd-PyCrawlerMarathon/homework/day038/dict.user.big.txt ...\n",
      "Loading model from cache /var/folders/68/t9g86v0d0ys2rpbv_g1xxrph0000gn/T/jieba.u25b0b9ddcb92304ec71499048447de52.cache\n",
      "Loading model cost 1.008 seconds.\n",
      "Prefix dict has been built successfully.\n"
     ]
    },
    {
     "name": "stdout",
     "output_type": "stream",
     "text": [
      "poncc-debug: 465\n"
     ]
    },
    {
     "name": "stderr",
     "output_type": "stream",
     "text": [
      "Building prefix dict from /Users/poncc/Documents/GitHub/2nd-PyCrawlerMarathon/homework/day038/dict.user.big.txt ...\n",
      "Loading model from cache /var/folders/68/t9g86v0d0ys2rpbv_g1xxrph0000gn/T/jieba.u25b0b9ddcb92304ec71499048447de52.cache\n",
      "Loading model cost 1.009 seconds.\n",
      "Prefix dict has been built successfully.\n"
     ]
    },
    {
     "name": "stdout",
     "output_type": "stream",
     "text": [
      "poncc-debug: 466\n"
     ]
    },
    {
     "name": "stderr",
     "output_type": "stream",
     "text": [
      "Building prefix dict from /Users/poncc/Documents/GitHub/2nd-PyCrawlerMarathon/homework/day038/dict.user.big.txt ...\n",
      "Loading model from cache /var/folders/68/t9g86v0d0ys2rpbv_g1xxrph0000gn/T/jieba.u25b0b9ddcb92304ec71499048447de52.cache\n",
      "Loading model cost 1.016 seconds.\n",
      "Prefix dict has been built successfully.\n"
     ]
    },
    {
     "name": "stdout",
     "output_type": "stream",
     "text": [
      "poncc-debug: 467\n"
     ]
    },
    {
     "name": "stderr",
     "output_type": "stream",
     "text": [
      "Building prefix dict from /Users/poncc/Documents/GitHub/2nd-PyCrawlerMarathon/homework/day038/dict.user.big.txt ...\n",
      "Loading model from cache /var/folders/68/t9g86v0d0ys2rpbv_g1xxrph0000gn/T/jieba.u25b0b9ddcb92304ec71499048447de52.cache\n",
      "Loading model cost 1.011 seconds.\n",
      "Prefix dict has been built successfully.\n"
     ]
    },
    {
     "name": "stdout",
     "output_type": "stream",
     "text": [
      "poncc-debug: 468\n"
     ]
    },
    {
     "name": "stderr",
     "output_type": "stream",
     "text": [
      "Building prefix dict from /Users/poncc/Documents/GitHub/2nd-PyCrawlerMarathon/homework/day038/dict.user.big.txt ...\n",
      "Loading model from cache /var/folders/68/t9g86v0d0ys2rpbv_g1xxrph0000gn/T/jieba.u25b0b9ddcb92304ec71499048447de52.cache\n",
      "Loading model cost 1.012 seconds.\n",
      "Prefix dict has been built successfully.\n"
     ]
    },
    {
     "name": "stdout",
     "output_type": "stream",
     "text": [
      "poncc-debug: 469\n"
     ]
    },
    {
     "name": "stderr",
     "output_type": "stream",
     "text": [
      "Building prefix dict from /Users/poncc/Documents/GitHub/2nd-PyCrawlerMarathon/homework/day038/dict.user.big.txt ...\n",
      "Loading model from cache /var/folders/68/t9g86v0d0ys2rpbv_g1xxrph0000gn/T/jieba.u25b0b9ddcb92304ec71499048447de52.cache\n",
      "Loading model cost 1.002 seconds.\n",
      "Prefix dict has been built successfully.\n",
      "Building prefix dict from /Users/poncc/Documents/GitHub/2nd-PyCrawlerMarathon/homework/day038/dict.user.big.txt ...\n",
      "Loading model from cache /var/folders/68/t9g86v0d0ys2rpbv_g1xxrph0000gn/T/jieba.u25b0b9ddcb92304ec71499048447de52.cache\n"
     ]
    },
    {
     "name": "stdout",
     "output_type": "stream",
     "text": [
      "poncc-debug: 470\n"
     ]
    },
    {
     "name": "stderr",
     "output_type": "stream",
     "text": [
      "Loading model cost 1.021 seconds.\n",
      "Prefix dict has been built successfully.\n"
     ]
    },
    {
     "name": "stdout",
     "output_type": "stream",
     "text": [
      "poncc-debug: 471\n"
     ]
    },
    {
     "name": "stderr",
     "output_type": "stream",
     "text": [
      "Building prefix dict from /Users/poncc/Documents/GitHub/2nd-PyCrawlerMarathon/homework/day038/dict.user.big.txt ...\n",
      "Loading model from cache /var/folders/68/t9g86v0d0ys2rpbv_g1xxrph0000gn/T/jieba.u25b0b9ddcb92304ec71499048447de52.cache\n",
      "Loading model cost 0.992 seconds.\n",
      "Prefix dict has been built successfully.\n"
     ]
    },
    {
     "name": "stdout",
     "output_type": "stream",
     "text": [
      "poncc-debug: 472\n"
     ]
    },
    {
     "name": "stderr",
     "output_type": "stream",
     "text": [
      "Building prefix dict from /Users/poncc/Documents/GitHub/2nd-PyCrawlerMarathon/homework/day038/dict.user.big.txt ...\n",
      "Loading model from cache /var/folders/68/t9g86v0d0ys2rpbv_g1xxrph0000gn/T/jieba.u25b0b9ddcb92304ec71499048447de52.cache\n",
      "Loading model cost 0.999 seconds.\n",
      "Prefix dict has been built successfully.\n"
     ]
    },
    {
     "name": "stdout",
     "output_type": "stream",
     "text": [
      "poncc-debug: 473\n"
     ]
    },
    {
     "name": "stderr",
     "output_type": "stream",
     "text": [
      "Building prefix dict from /Users/poncc/Documents/GitHub/2nd-PyCrawlerMarathon/homework/day038/dict.user.big.txt ...\n",
      "Loading model from cache /var/folders/68/t9g86v0d0ys2rpbv_g1xxrph0000gn/T/jieba.u25b0b9ddcb92304ec71499048447de52.cache\n",
      "Loading model cost 1.011 seconds.\n",
      "Prefix dict has been built successfully.\n"
     ]
    },
    {
     "name": "stdout",
     "output_type": "stream",
     "text": [
      "poncc-debug: 474\n"
     ]
    },
    {
     "name": "stderr",
     "output_type": "stream",
     "text": [
      "Building prefix dict from /Users/poncc/Documents/GitHub/2nd-PyCrawlerMarathon/homework/day038/dict.user.big.txt ...\n",
      "Loading model from cache /var/folders/68/t9g86v0d0ys2rpbv_g1xxrph0000gn/T/jieba.u25b0b9ddcb92304ec71499048447de52.cache\n",
      "Loading model cost 1.002 seconds.\n",
      "Prefix dict has been built successfully.\n"
     ]
    },
    {
     "name": "stdout",
     "output_type": "stream",
     "text": [
      "poncc-debug: 475\n"
     ]
    },
    {
     "name": "stderr",
     "output_type": "stream",
     "text": [
      "Building prefix dict from /Users/poncc/Documents/GitHub/2nd-PyCrawlerMarathon/homework/day038/dict.user.big.txt ...\n",
      "Loading model from cache /var/folders/68/t9g86v0d0ys2rpbv_g1xxrph0000gn/T/jieba.u25b0b9ddcb92304ec71499048447de52.cache\n",
      "Loading model cost 0.991 seconds.\n",
      "Prefix dict has been built successfully.\n"
     ]
    },
    {
     "name": "stdout",
     "output_type": "stream",
     "text": [
      "poncc-debug: 476\n"
     ]
    },
    {
     "name": "stderr",
     "output_type": "stream",
     "text": [
      "Building prefix dict from /Users/poncc/Documents/GitHub/2nd-PyCrawlerMarathon/homework/day038/dict.user.big.txt ...\n",
      "Loading model from cache /var/folders/68/t9g86v0d0ys2rpbv_g1xxrph0000gn/T/jieba.u25b0b9ddcb92304ec71499048447de52.cache\n",
      "Loading model cost 1.000 seconds.\n",
      "Prefix dict has been built successfully.\n"
     ]
    },
    {
     "name": "stdout",
     "output_type": "stream",
     "text": [
      "poncc-debug: 477\n"
     ]
    },
    {
     "name": "stderr",
     "output_type": "stream",
     "text": [
      "Building prefix dict from /Users/poncc/Documents/GitHub/2nd-PyCrawlerMarathon/homework/day038/dict.user.big.txt ...\n",
      "Loading model from cache /var/folders/68/t9g86v0d0ys2rpbv_g1xxrph0000gn/T/jieba.u25b0b9ddcb92304ec71499048447de52.cache\n",
      "Loading model cost 1.007 seconds.\n",
      "Prefix dict has been built successfully.\n"
     ]
    },
    {
     "name": "stdout",
     "output_type": "stream",
     "text": [
      "poncc-debug: 478\n"
     ]
    },
    {
     "name": "stderr",
     "output_type": "stream",
     "text": [
      "Building prefix dict from /Users/poncc/Documents/GitHub/2nd-PyCrawlerMarathon/homework/day038/dict.user.big.txt ...\n",
      "Loading model from cache /var/folders/68/t9g86v0d0ys2rpbv_g1xxrph0000gn/T/jieba.u25b0b9ddcb92304ec71499048447de52.cache\n",
      "Loading model cost 1.009 seconds.\n",
      "Prefix dict has been built successfully.\n"
     ]
    },
    {
     "name": "stdout",
     "output_type": "stream",
     "text": [
      "poncc-debug: 479\n"
     ]
    },
    {
     "name": "stderr",
     "output_type": "stream",
     "text": [
      "Building prefix dict from /Users/poncc/Documents/GitHub/2nd-PyCrawlerMarathon/homework/day038/dict.user.big.txt ...\n",
      "Loading model from cache /var/folders/68/t9g86v0d0ys2rpbv_g1xxrph0000gn/T/jieba.u25b0b9ddcb92304ec71499048447de52.cache\n",
      "Loading model cost 1.017 seconds.\n",
      "Prefix dict has been built successfully.\n"
     ]
    },
    {
     "name": "stdout",
     "output_type": "stream",
     "text": [
      "poncc-debug: 480\n"
     ]
    },
    {
     "name": "stderr",
     "output_type": "stream",
     "text": [
      "Building prefix dict from /Users/poncc/Documents/GitHub/2nd-PyCrawlerMarathon/homework/day038/dict.user.big.txt ...\n",
      "Loading model from cache /var/folders/68/t9g86v0d0ys2rpbv_g1xxrph0000gn/T/jieba.u25b0b9ddcb92304ec71499048447de52.cache\n",
      "Loading model cost 1.007 seconds.\n",
      "Prefix dict has been built successfully.\n"
     ]
    },
    {
     "name": "stdout",
     "output_type": "stream",
     "text": [
      "poncc-debug: 481\n"
     ]
    },
    {
     "name": "stderr",
     "output_type": "stream",
     "text": [
      "Building prefix dict from /Users/poncc/Documents/GitHub/2nd-PyCrawlerMarathon/homework/day038/dict.user.big.txt ...\n",
      "Loading model from cache /var/folders/68/t9g86v0d0ys2rpbv_g1xxrph0000gn/T/jieba.u25b0b9ddcb92304ec71499048447de52.cache\n",
      "Loading model cost 1.008 seconds.\n",
      "Prefix dict has been built successfully.\n"
     ]
    },
    {
     "name": "stdout",
     "output_type": "stream",
     "text": [
      "poncc-debug: 482\n"
     ]
    },
    {
     "name": "stderr",
     "output_type": "stream",
     "text": [
      "Building prefix dict from /Users/poncc/Documents/GitHub/2nd-PyCrawlerMarathon/homework/day038/dict.user.big.txt ...\n",
      "Loading model from cache /var/folders/68/t9g86v0d0ys2rpbv_g1xxrph0000gn/T/jieba.u25b0b9ddcb92304ec71499048447de52.cache\n",
      "Loading model cost 1.035 seconds.\n",
      "Prefix dict has been built successfully.\n"
     ]
    },
    {
     "name": "stdout",
     "output_type": "stream",
     "text": [
      "poncc-debug: 483\n"
     ]
    },
    {
     "name": "stderr",
     "output_type": "stream",
     "text": [
      "Building prefix dict from /Users/poncc/Documents/GitHub/2nd-PyCrawlerMarathon/homework/day038/dict.user.big.txt ...\n",
      "Loading model from cache /var/folders/68/t9g86v0d0ys2rpbv_g1xxrph0000gn/T/jieba.u25b0b9ddcb92304ec71499048447de52.cache\n",
      "Loading model cost 1.004 seconds.\n",
      "Prefix dict has been built successfully.\n"
     ]
    },
    {
     "name": "stdout",
     "output_type": "stream",
     "text": [
      "poncc-debug: 484\n"
     ]
    },
    {
     "name": "stderr",
     "output_type": "stream",
     "text": [
      "Building prefix dict from /Users/poncc/Documents/GitHub/2nd-PyCrawlerMarathon/homework/day038/dict.user.big.txt ...\n",
      "Loading model from cache /var/folders/68/t9g86v0d0ys2rpbv_g1xxrph0000gn/T/jieba.u25b0b9ddcb92304ec71499048447de52.cache\n",
      "Loading model cost 1.010 seconds.\n",
      "Prefix dict has been built successfully.\n"
     ]
    },
    {
     "name": "stdout",
     "output_type": "stream",
     "text": [
      "poncc-debug: 485\n"
     ]
    },
    {
     "name": "stderr",
     "output_type": "stream",
     "text": [
      "Building prefix dict from /Users/poncc/Documents/GitHub/2nd-PyCrawlerMarathon/homework/day038/dict.user.big.txt ...\n",
      "Loading model from cache /var/folders/68/t9g86v0d0ys2rpbv_g1xxrph0000gn/T/jieba.u25b0b9ddcb92304ec71499048447de52.cache\n",
      "Loading model cost 1.007 seconds.\n",
      "Prefix dict has been built successfully.\n"
     ]
    },
    {
     "name": "stdout",
     "output_type": "stream",
     "text": [
      "poncc-debug: 486\n"
     ]
    },
    {
     "name": "stderr",
     "output_type": "stream",
     "text": [
      "Building prefix dict from /Users/poncc/Documents/GitHub/2nd-PyCrawlerMarathon/homework/day038/dict.user.big.txt ...\n",
      "Loading model from cache /var/folders/68/t9g86v0d0ys2rpbv_g1xxrph0000gn/T/jieba.u25b0b9ddcb92304ec71499048447de52.cache\n",
      "Loading model cost 1.000 seconds.\n",
      "Prefix dict has been built successfully.\n"
     ]
    },
    {
     "name": "stdout",
     "output_type": "stream",
     "text": [
      "poncc-debug: 487\n"
     ]
    },
    {
     "name": "stderr",
     "output_type": "stream",
     "text": [
      "Building prefix dict from /Users/poncc/Documents/GitHub/2nd-PyCrawlerMarathon/homework/day038/dict.user.big.txt ...\n",
      "Loading model from cache /var/folders/68/t9g86v0d0ys2rpbv_g1xxrph0000gn/T/jieba.u25b0b9ddcb92304ec71499048447de52.cache\n",
      "Loading model cost 1.014 seconds.\n",
      "Prefix dict has been built successfully.\n"
     ]
    },
    {
     "name": "stdout",
     "output_type": "stream",
     "text": [
      "poncc-debug: 488\n"
     ]
    },
    {
     "name": "stderr",
     "output_type": "stream",
     "text": [
      "Building prefix dict from /Users/poncc/Documents/GitHub/2nd-PyCrawlerMarathon/homework/day038/dict.user.big.txt ...\n",
      "Loading model from cache /var/folders/68/t9g86v0d0ys2rpbv_g1xxrph0000gn/T/jieba.u25b0b9ddcb92304ec71499048447de52.cache\n",
      "Loading model cost 1.016 seconds.\n",
      "Prefix dict has been built successfully.\n",
      "Building prefix dict from /Users/poncc/Documents/GitHub/2nd-PyCrawlerMarathon/homework/day038/dict.user.big.txt ...\n"
     ]
    },
    {
     "name": "stdout",
     "output_type": "stream",
     "text": [
      "poncc-debug: 489\n"
     ]
    },
    {
     "name": "stderr",
     "output_type": "stream",
     "text": [
      "Loading model from cache /var/folders/68/t9g86v0d0ys2rpbv_g1xxrph0000gn/T/jieba.u25b0b9ddcb92304ec71499048447de52.cache\n",
      "Loading model cost 1.004 seconds.\n",
      "Prefix dict has been built successfully.\n"
     ]
    },
    {
     "name": "stdout",
     "output_type": "stream",
     "text": [
      "poncc-debug: 490\n"
     ]
    },
    {
     "name": "stderr",
     "output_type": "stream",
     "text": [
      "Building prefix dict from /Users/poncc/Documents/GitHub/2nd-PyCrawlerMarathon/homework/day038/dict.user.big.txt ...\n",
      "Loading model from cache /var/folders/68/t9g86v0d0ys2rpbv_g1xxrph0000gn/T/jieba.u25b0b9ddcb92304ec71499048447de52.cache\n",
      "Loading model cost 1.018 seconds.\n",
      "Prefix dict has been built successfully.\n"
     ]
    },
    {
     "name": "stdout",
     "output_type": "stream",
     "text": [
      "poncc-debug: 491\n"
     ]
    },
    {
     "name": "stderr",
     "output_type": "stream",
     "text": [
      "Building prefix dict from /Users/poncc/Documents/GitHub/2nd-PyCrawlerMarathon/homework/day038/dict.user.big.txt ...\n",
      "Loading model from cache /var/folders/68/t9g86v0d0ys2rpbv_g1xxrph0000gn/T/jieba.u25b0b9ddcb92304ec71499048447de52.cache\n",
      "Loading model cost 1.011 seconds.\n",
      "Prefix dict has been built successfully.\n"
     ]
    },
    {
     "name": "stdout",
     "output_type": "stream",
     "text": [
      "poncc-debug: 492\n"
     ]
    },
    {
     "name": "stderr",
     "output_type": "stream",
     "text": [
      "Building prefix dict from /Users/poncc/Documents/GitHub/2nd-PyCrawlerMarathon/homework/day038/dict.user.big.txt ...\n",
      "Loading model from cache /var/folders/68/t9g86v0d0ys2rpbv_g1xxrph0000gn/T/jieba.u25b0b9ddcb92304ec71499048447de52.cache\n",
      "Loading model cost 1.031 seconds.\n",
      "Prefix dict has been built successfully.\n"
     ]
    },
    {
     "name": "stdout",
     "output_type": "stream",
     "text": [
      "poncc-debug: 493\n"
     ]
    },
    {
     "name": "stderr",
     "output_type": "stream",
     "text": [
      "Building prefix dict from /Users/poncc/Documents/GitHub/2nd-PyCrawlerMarathon/homework/day038/dict.user.big.txt ...\n",
      "Loading model from cache /var/folders/68/t9g86v0d0ys2rpbv_g1xxrph0000gn/T/jieba.u25b0b9ddcb92304ec71499048447de52.cache\n",
      "Loading model cost 1.055 seconds.\n",
      "Prefix dict has been built successfully.\n"
     ]
    },
    {
     "name": "stdout",
     "output_type": "stream",
     "text": [
      "poncc-debug: 494\n"
     ]
    },
    {
     "name": "stderr",
     "output_type": "stream",
     "text": [
      "Building prefix dict from /Users/poncc/Documents/GitHub/2nd-PyCrawlerMarathon/homework/day038/dict.user.big.txt ...\n",
      "Loading model from cache /var/folders/68/t9g86v0d0ys2rpbv_g1xxrph0000gn/T/jieba.u25b0b9ddcb92304ec71499048447de52.cache\n",
      "Loading model cost 1.084 seconds.\n",
      "Prefix dict has been built successfully.\n"
     ]
    },
    {
     "name": "stdout",
     "output_type": "stream",
     "text": [
      "poncc-debug: 495\n"
     ]
    },
    {
     "name": "stderr",
     "output_type": "stream",
     "text": [
      "Building prefix dict from /Users/poncc/Documents/GitHub/2nd-PyCrawlerMarathon/homework/day038/dict.user.big.txt ...\n",
      "Loading model from cache /var/folders/68/t9g86v0d0ys2rpbv_g1xxrph0000gn/T/jieba.u25b0b9ddcb92304ec71499048447de52.cache\n",
      "Loading model cost 1.064 seconds.\n",
      "Prefix dict has been built successfully.\n"
     ]
    },
    {
     "name": "stdout",
     "output_type": "stream",
     "text": [
      "poncc-debug: 496\n"
     ]
    },
    {
     "name": "stderr",
     "output_type": "stream",
     "text": [
      "Building prefix dict from /Users/poncc/Documents/GitHub/2nd-PyCrawlerMarathon/homework/day038/dict.user.big.txt ...\n",
      "Loading model from cache /var/folders/68/t9g86v0d0ys2rpbv_g1xxrph0000gn/T/jieba.u25b0b9ddcb92304ec71499048447de52.cache\n",
      "Loading model cost 1.045 seconds.\n",
      "Prefix dict has been built successfully.\n"
     ]
    },
    {
     "name": "stdout",
     "output_type": "stream",
     "text": [
      "poncc-debug: 497\n"
     ]
    },
    {
     "name": "stderr",
     "output_type": "stream",
     "text": [
      "Building prefix dict from /Users/poncc/Documents/GitHub/2nd-PyCrawlerMarathon/homework/day038/dict.user.big.txt ...\n",
      "Loading model from cache /var/folders/68/t9g86v0d0ys2rpbv_g1xxrph0000gn/T/jieba.u25b0b9ddcb92304ec71499048447de52.cache\n",
      "Loading model cost 1.040 seconds.\n",
      "Prefix dict has been built successfully.\n"
     ]
    },
    {
     "name": "stdout",
     "output_type": "stream",
     "text": [
      "poncc-debug: 498\n"
     ]
    },
    {
     "name": "stderr",
     "output_type": "stream",
     "text": [
      "Building prefix dict from /Users/poncc/Documents/GitHub/2nd-PyCrawlerMarathon/homework/day038/dict.user.big.txt ...\n",
      "Loading model from cache /var/folders/68/t9g86v0d0ys2rpbv_g1xxrph0000gn/T/jieba.u25b0b9ddcb92304ec71499048447de52.cache\n",
      "Loading model cost 0.997 seconds.\n",
      "Prefix dict has been built successfully.\n"
     ]
    },
    {
     "name": "stdout",
     "output_type": "stream",
     "text": [
      "poncc-debug: 499\n"
     ]
    },
    {
     "name": "stderr",
     "output_type": "stream",
     "text": [
      "Building prefix dict from /Users/poncc/Documents/GitHub/2nd-PyCrawlerMarathon/homework/day038/dict.user.big.txt ...\n",
      "Loading model from cache /var/folders/68/t9g86v0d0ys2rpbv_g1xxrph0000gn/T/jieba.u25b0b9ddcb92304ec71499048447de52.cache\n",
      "Loading model cost 1.011 seconds.\n",
      "Prefix dict has been built successfully.\n"
     ]
    },
    {
     "name": "stdout",
     "output_type": "stream",
     "text": [
      "poncc-debug: 500\n"
     ]
    },
    {
     "name": "stderr",
     "output_type": "stream",
     "text": [
      "Building prefix dict from /Users/poncc/Documents/GitHub/2nd-PyCrawlerMarathon/homework/day038/dict.user.big.txt ...\n",
      "Loading model from cache /var/folders/68/t9g86v0d0ys2rpbv_g1xxrph0000gn/T/jieba.u25b0b9ddcb92304ec71499048447de52.cache\n",
      "Loading model cost 1.012 seconds.\n",
      "Prefix dict has been built successfully.\n"
     ]
    },
    {
     "name": "stdout",
     "output_type": "stream",
     "text": [
      "poncc-debug: 501\n"
     ]
    },
    {
     "name": "stderr",
     "output_type": "stream",
     "text": [
      "Building prefix dict from /Users/poncc/Documents/GitHub/2nd-PyCrawlerMarathon/homework/day038/dict.user.big.txt ...\n",
      "Loading model from cache /var/folders/68/t9g86v0d0ys2rpbv_g1xxrph0000gn/T/jieba.u25b0b9ddcb92304ec71499048447de52.cache\n",
      "Loading model cost 1.025 seconds.\n",
      "Prefix dict has been built successfully.\n"
     ]
    },
    {
     "name": "stdout",
     "output_type": "stream",
     "text": [
      "poncc-debug: 502\n"
     ]
    },
    {
     "name": "stderr",
     "output_type": "stream",
     "text": [
      "Building prefix dict from /Users/poncc/Documents/GitHub/2nd-PyCrawlerMarathon/homework/day038/dict.user.big.txt ...\n",
      "Loading model from cache /var/folders/68/t9g86v0d0ys2rpbv_g1xxrph0000gn/T/jieba.u25b0b9ddcb92304ec71499048447de52.cache\n",
      "Loading model cost 1.015 seconds.\n",
      "Prefix dict has been built successfully.\n"
     ]
    },
    {
     "name": "stdout",
     "output_type": "stream",
     "text": [
      "poncc-debug: 503\n"
     ]
    },
    {
     "name": "stderr",
     "output_type": "stream",
     "text": [
      "Building prefix dict from /Users/poncc/Documents/GitHub/2nd-PyCrawlerMarathon/homework/day038/dict.user.big.txt ...\n",
      "Loading model from cache /var/folders/68/t9g86v0d0ys2rpbv_g1xxrph0000gn/T/jieba.u25b0b9ddcb92304ec71499048447de52.cache\n",
      "Loading model cost 1.012 seconds.\n",
      "Prefix dict has been built successfully.\n"
     ]
    },
    {
     "name": "stdout",
     "output_type": "stream",
     "text": [
      "poncc-debug: 504\n"
     ]
    },
    {
     "name": "stderr",
     "output_type": "stream",
     "text": [
      "Building prefix dict from /Users/poncc/Documents/GitHub/2nd-PyCrawlerMarathon/homework/day038/dict.user.big.txt ...\n",
      "Loading model from cache /var/folders/68/t9g86v0d0ys2rpbv_g1xxrph0000gn/T/jieba.u25b0b9ddcb92304ec71499048447de52.cache\n",
      "Loading model cost 1.019 seconds.\n",
      "Prefix dict has been built successfully.\n",
      "Building prefix dict from /Users/poncc/Documents/GitHub/2nd-PyCrawlerMarathon/homework/day038/dict.user.big.txt ...\n"
     ]
    },
    {
     "name": "stdout",
     "output_type": "stream",
     "text": [
      "poncc-debug: 505\n"
     ]
    },
    {
     "name": "stderr",
     "output_type": "stream",
     "text": [
      "Loading model from cache /var/folders/68/t9g86v0d0ys2rpbv_g1xxrph0000gn/T/jieba.u25b0b9ddcb92304ec71499048447de52.cache\n",
      "Loading model cost 1.049 seconds.\n",
      "Prefix dict has been built successfully.\n"
     ]
    },
    {
     "name": "stdout",
     "output_type": "stream",
     "text": [
      "poncc-debug: 506\n"
     ]
    },
    {
     "name": "stderr",
     "output_type": "stream",
     "text": [
      "Building prefix dict from /Users/poncc/Documents/GitHub/2nd-PyCrawlerMarathon/homework/day038/dict.user.big.txt ...\n",
      "Loading model from cache /var/folders/68/t9g86v0d0ys2rpbv_g1xxrph0000gn/T/jieba.u25b0b9ddcb92304ec71499048447de52.cache\n",
      "Loading model cost 1.072 seconds.\n",
      "Prefix dict has been built successfully.\n"
     ]
    },
    {
     "name": "stdout",
     "output_type": "stream",
     "text": [
      "poncc-debug: 507\n"
     ]
    },
    {
     "name": "stderr",
     "output_type": "stream",
     "text": [
      "Building prefix dict from /Users/poncc/Documents/GitHub/2nd-PyCrawlerMarathon/homework/day038/dict.user.big.txt ...\n",
      "Loading model from cache /var/folders/68/t9g86v0d0ys2rpbv_g1xxrph0000gn/T/jieba.u25b0b9ddcb92304ec71499048447de52.cache\n",
      "Loading model cost 1.124 seconds.\n",
      "Prefix dict has been built successfully.\n"
     ]
    },
    {
     "name": "stdout",
     "output_type": "stream",
     "text": [
      "poncc-debug: 508\n"
     ]
    },
    {
     "name": "stderr",
     "output_type": "stream",
     "text": [
      "Building prefix dict from /Users/poncc/Documents/GitHub/2nd-PyCrawlerMarathon/homework/day038/dict.user.big.txt ...\n",
      "Loading model from cache /var/folders/68/t9g86v0d0ys2rpbv_g1xxrph0000gn/T/jieba.u25b0b9ddcb92304ec71499048447de52.cache\n",
      "Loading model cost 1.075 seconds.\n",
      "Prefix dict has been built successfully.\n"
     ]
    },
    {
     "name": "stdout",
     "output_type": "stream",
     "text": [
      "poncc-debug: 509\n"
     ]
    },
    {
     "name": "stderr",
     "output_type": "stream",
     "text": [
      "Building prefix dict from /Users/poncc/Documents/GitHub/2nd-PyCrawlerMarathon/homework/day038/dict.user.big.txt ...\n",
      "Loading model from cache /var/folders/68/t9g86v0d0ys2rpbv_g1xxrph0000gn/T/jieba.u25b0b9ddcb92304ec71499048447de52.cache\n",
      "Loading model cost 1.059 seconds.\n",
      "Prefix dict has been built successfully.\n"
     ]
    },
    {
     "name": "stdout",
     "output_type": "stream",
     "text": [
      "poncc-debug: 510\n"
     ]
    },
    {
     "name": "stderr",
     "output_type": "stream",
     "text": [
      "Building prefix dict from /Users/poncc/Documents/GitHub/2nd-PyCrawlerMarathon/homework/day038/dict.user.big.txt ...\n",
      "Loading model from cache /var/folders/68/t9g86v0d0ys2rpbv_g1xxrph0000gn/T/jieba.u25b0b9ddcb92304ec71499048447de52.cache\n",
      "Loading model cost 1.083 seconds.\n",
      "Prefix dict has been built successfully.\n"
     ]
    },
    {
     "name": "stdout",
     "output_type": "stream",
     "text": [
      "poncc-debug: 511\n"
     ]
    },
    {
     "name": "stderr",
     "output_type": "stream",
     "text": [
      "Building prefix dict from /Users/poncc/Documents/GitHub/2nd-PyCrawlerMarathon/homework/day038/dict.user.big.txt ...\n",
      "Loading model from cache /var/folders/68/t9g86v0d0ys2rpbv_g1xxrph0000gn/T/jieba.u25b0b9ddcb92304ec71499048447de52.cache\n",
      "Loading model cost 1.054 seconds.\n",
      "Prefix dict has been built successfully.\n"
     ]
    },
    {
     "name": "stdout",
     "output_type": "stream",
     "text": [
      "poncc-debug: 512\n"
     ]
    },
    {
     "name": "stderr",
     "output_type": "stream",
     "text": [
      "Building prefix dict from /Users/poncc/Documents/GitHub/2nd-PyCrawlerMarathon/homework/day038/dict.user.big.txt ...\n",
      "Loading model from cache /var/folders/68/t9g86v0d0ys2rpbv_g1xxrph0000gn/T/jieba.u25b0b9ddcb92304ec71499048447de52.cache\n",
      "Loading model cost 1.028 seconds.\n",
      "Prefix dict has been built successfully.\n"
     ]
    },
    {
     "name": "stdout",
     "output_type": "stream",
     "text": [
      "poncc-debug: 513\n"
     ]
    },
    {
     "name": "stderr",
     "output_type": "stream",
     "text": [
      "Building prefix dict from /Users/poncc/Documents/GitHub/2nd-PyCrawlerMarathon/homework/day038/dict.user.big.txt ...\n",
      "Loading model from cache /var/folders/68/t9g86v0d0ys2rpbv_g1xxrph0000gn/T/jieba.u25b0b9ddcb92304ec71499048447de52.cache\n",
      "Loading model cost 0.999 seconds.\n",
      "Prefix dict has been built successfully.\n"
     ]
    },
    {
     "name": "stdout",
     "output_type": "stream",
     "text": [
      "poncc-debug: 514\n"
     ]
    },
    {
     "name": "stderr",
     "output_type": "stream",
     "text": [
      "Building prefix dict from /Users/poncc/Documents/GitHub/2nd-PyCrawlerMarathon/homework/day038/dict.user.big.txt ...\n",
      "Loading model from cache /var/folders/68/t9g86v0d0ys2rpbv_g1xxrph0000gn/T/jieba.u25b0b9ddcb92304ec71499048447de52.cache\n",
      "Loading model cost 1.012 seconds.\n",
      "Prefix dict has been built successfully.\n"
     ]
    },
    {
     "name": "stdout",
     "output_type": "stream",
     "text": [
      "poncc-debug: 515\n"
     ]
    },
    {
     "name": "stderr",
     "output_type": "stream",
     "text": [
      "Building prefix dict from /Users/poncc/Documents/GitHub/2nd-PyCrawlerMarathon/homework/day038/dict.user.big.txt ...\n",
      "Loading model from cache /var/folders/68/t9g86v0d0ys2rpbv_g1xxrph0000gn/T/jieba.u25b0b9ddcb92304ec71499048447de52.cache\n",
      "Loading model cost 1.013 seconds.\n",
      "Prefix dict has been built successfully.\n"
     ]
    },
    {
     "name": "stdout",
     "output_type": "stream",
     "text": [
      "poncc-debug: 516\n"
     ]
    },
    {
     "name": "stderr",
     "output_type": "stream",
     "text": [
      "Building prefix dict from /Users/poncc/Documents/GitHub/2nd-PyCrawlerMarathon/homework/day038/dict.user.big.txt ...\n",
      "Loading model from cache /var/folders/68/t9g86v0d0ys2rpbv_g1xxrph0000gn/T/jieba.u25b0b9ddcb92304ec71499048447de52.cache\n",
      "Loading model cost 1.019 seconds.\n",
      "Prefix dict has been built successfully.\n"
     ]
    },
    {
     "name": "stdout",
     "output_type": "stream",
     "text": [
      "poncc-debug: 517\n"
     ]
    },
    {
     "name": "stderr",
     "output_type": "stream",
     "text": [
      "Building prefix dict from /Users/poncc/Documents/GitHub/2nd-PyCrawlerMarathon/homework/day038/dict.user.big.txt ...\n",
      "Loading model from cache /var/folders/68/t9g86v0d0ys2rpbv_g1xxrph0000gn/T/jieba.u25b0b9ddcb92304ec71499048447de52.cache\n",
      "Loading model cost 1.008 seconds.\n",
      "Prefix dict has been built successfully.\n"
     ]
    },
    {
     "name": "stdout",
     "output_type": "stream",
     "text": [
      "poncc-debug: 518\n"
     ]
    },
    {
     "name": "stderr",
     "output_type": "stream",
     "text": [
      "Building prefix dict from /Users/poncc/Documents/GitHub/2nd-PyCrawlerMarathon/homework/day038/dict.user.big.txt ...\n",
      "Loading model from cache /var/folders/68/t9g86v0d0ys2rpbv_g1xxrph0000gn/T/jieba.u25b0b9ddcb92304ec71499048447de52.cache\n",
      "Loading model cost 1.017 seconds.\n",
      "Prefix dict has been built successfully.\n"
     ]
    },
    {
     "name": "stdout",
     "output_type": "stream",
     "text": [
      "poncc-debug: 519\n"
     ]
    },
    {
     "name": "stderr",
     "output_type": "stream",
     "text": [
      "Building prefix dict from /Users/poncc/Documents/GitHub/2nd-PyCrawlerMarathon/homework/day038/dict.user.big.txt ...\n",
      "Loading model from cache /var/folders/68/t9g86v0d0ys2rpbv_g1xxrph0000gn/T/jieba.u25b0b9ddcb92304ec71499048447de52.cache\n",
      "Loading model cost 1.018 seconds.\n",
      "Prefix dict has been built successfully.\n"
     ]
    },
    {
     "name": "stdout",
     "output_type": "stream",
     "text": [
      "poncc-debug: 520\n"
     ]
    },
    {
     "name": "stderr",
     "output_type": "stream",
     "text": [
      "Building prefix dict from /Users/poncc/Documents/GitHub/2nd-PyCrawlerMarathon/homework/day038/dict.user.big.txt ...\n",
      "Loading model from cache /var/folders/68/t9g86v0d0ys2rpbv_g1xxrph0000gn/T/jieba.u25b0b9ddcb92304ec71499048447de52.cache\n",
      "Loading model cost 1.019 seconds.\n",
      "Prefix dict has been built successfully.\n"
     ]
    },
    {
     "name": "stdout",
     "output_type": "stream",
     "text": [
      "poncc-debug: 521\n"
     ]
    },
    {
     "name": "stderr",
     "output_type": "stream",
     "text": [
      "Building prefix dict from /Users/poncc/Documents/GitHub/2nd-PyCrawlerMarathon/homework/day038/dict.user.big.txt ...\n",
      "Loading model from cache /var/folders/68/t9g86v0d0ys2rpbv_g1xxrph0000gn/T/jieba.u25b0b9ddcb92304ec71499048447de52.cache\n",
      "Loading model cost 1.008 seconds.\n",
      "Prefix dict has been built successfully.\n"
     ]
    },
    {
     "name": "stdout",
     "output_type": "stream",
     "text": [
      "poncc-debug: 522\n"
     ]
    },
    {
     "name": "stderr",
     "output_type": "stream",
     "text": [
      "Building prefix dict from /Users/poncc/Documents/GitHub/2nd-PyCrawlerMarathon/homework/day038/dict.user.big.txt ...\n",
      "Loading model from cache /var/folders/68/t9g86v0d0ys2rpbv_g1xxrph0000gn/T/jieba.u25b0b9ddcb92304ec71499048447de52.cache\n",
      "Loading model cost 1.005 seconds.\n",
      "Prefix dict has been built successfully.\n"
     ]
    },
    {
     "name": "stdout",
     "output_type": "stream",
     "text": [
      "poncc-debug: 523\n"
     ]
    },
    {
     "name": "stderr",
     "output_type": "stream",
     "text": [
      "Building prefix dict from /Users/poncc/Documents/GitHub/2nd-PyCrawlerMarathon/homework/day038/dict.user.big.txt ...\n",
      "Loading model from cache /var/folders/68/t9g86v0d0ys2rpbv_g1xxrph0000gn/T/jieba.u25b0b9ddcb92304ec71499048447de52.cache\n",
      "Loading model cost 1.008 seconds.\n",
      "Prefix dict has been built successfully.\n"
     ]
    },
    {
     "name": "stdout",
     "output_type": "stream",
     "text": [
      "poncc-debug: 524\n"
     ]
    },
    {
     "name": "stderr",
     "output_type": "stream",
     "text": [
      "Building prefix dict from /Users/poncc/Documents/GitHub/2nd-PyCrawlerMarathon/homework/day038/dict.user.big.txt ...\n",
      "Loading model from cache /var/folders/68/t9g86v0d0ys2rpbv_g1xxrph0000gn/T/jieba.u25b0b9ddcb92304ec71499048447de52.cache\n",
      "Loading model cost 1.008 seconds.\n",
      "Prefix dict has been built successfully.\n"
     ]
    },
    {
     "name": "stdout",
     "output_type": "stream",
     "text": [
      "poncc-debug: 525\n"
     ]
    },
    {
     "name": "stderr",
     "output_type": "stream",
     "text": [
      "Building prefix dict from /Users/poncc/Documents/GitHub/2nd-PyCrawlerMarathon/homework/day038/dict.user.big.txt ...\n",
      "Loading model from cache /var/folders/68/t9g86v0d0ys2rpbv_g1xxrph0000gn/T/jieba.u25b0b9ddcb92304ec71499048447de52.cache\n",
      "Loading model cost 1.000 seconds.\n",
      "Prefix dict has been built successfully.\n"
     ]
    },
    {
     "name": "stdout",
     "output_type": "stream",
     "text": [
      "poncc-debug: 526\n"
     ]
    },
    {
     "name": "stderr",
     "output_type": "stream",
     "text": [
      "Building prefix dict from /Users/poncc/Documents/GitHub/2nd-PyCrawlerMarathon/homework/day038/dict.user.big.txt ...\n",
      "Loading model from cache /var/folders/68/t9g86v0d0ys2rpbv_g1xxrph0000gn/T/jieba.u25b0b9ddcb92304ec71499048447de52.cache\n",
      "Loading model cost 1.012 seconds.\n",
      "Prefix dict has been built successfully.\n"
     ]
    },
    {
     "name": "stdout",
     "output_type": "stream",
     "text": [
      "poncc-debug: 527\n"
     ]
    },
    {
     "name": "stderr",
     "output_type": "stream",
     "text": [
      "Building prefix dict from /Users/poncc/Documents/GitHub/2nd-PyCrawlerMarathon/homework/day038/dict.user.big.txt ...\n",
      "Loading model from cache /var/folders/68/t9g86v0d0ys2rpbv_g1xxrph0000gn/T/jieba.u25b0b9ddcb92304ec71499048447de52.cache\n",
      "Loading model cost 1.018 seconds.\n",
      "Prefix dict has been built successfully.\n"
     ]
    },
    {
     "name": "stdout",
     "output_type": "stream",
     "text": [
      "poncc-debug: 528\n"
     ]
    },
    {
     "name": "stderr",
     "output_type": "stream",
     "text": [
      "Building prefix dict from /Users/poncc/Documents/GitHub/2nd-PyCrawlerMarathon/homework/day038/dict.user.big.txt ...\n",
      "Loading model from cache /var/folders/68/t9g86v0d0ys2rpbv_g1xxrph0000gn/T/jieba.u25b0b9ddcb92304ec71499048447de52.cache\n",
      "Loading model cost 1.008 seconds.\n",
      "Prefix dict has been built successfully.\n"
     ]
    },
    {
     "name": "stdout",
     "output_type": "stream",
     "text": [
      "poncc-debug: 529\n"
     ]
    },
    {
     "name": "stderr",
     "output_type": "stream",
     "text": [
      "Building prefix dict from /Users/poncc/Documents/GitHub/2nd-PyCrawlerMarathon/homework/day038/dict.user.big.txt ...\n",
      "Loading model from cache /var/folders/68/t9g86v0d0ys2rpbv_g1xxrph0000gn/T/jieba.u25b0b9ddcb92304ec71499048447de52.cache\n",
      "Loading model cost 1.024 seconds.\n",
      "Prefix dict has been built successfully.\n"
     ]
    },
    {
     "name": "stdout",
     "output_type": "stream",
     "text": [
      "poncc-debug: 530\n"
     ]
    },
    {
     "name": "stderr",
     "output_type": "stream",
     "text": [
      "Building prefix dict from /Users/poncc/Documents/GitHub/2nd-PyCrawlerMarathon/homework/day038/dict.user.big.txt ...\n",
      "Loading model from cache /var/folders/68/t9g86v0d0ys2rpbv_g1xxrph0000gn/T/jieba.u25b0b9ddcb92304ec71499048447de52.cache\n",
      "Loading model cost 1.010 seconds.\n",
      "Prefix dict has been built successfully.\n"
     ]
    },
    {
     "name": "stdout",
     "output_type": "stream",
     "text": [
      "poncc-debug: 531\n"
     ]
    },
    {
     "name": "stderr",
     "output_type": "stream",
     "text": [
      "Building prefix dict from /Users/poncc/Documents/GitHub/2nd-PyCrawlerMarathon/homework/day038/dict.user.big.txt ...\n",
      "Loading model from cache /var/folders/68/t9g86v0d0ys2rpbv_g1xxrph0000gn/T/jieba.u25b0b9ddcb92304ec71499048447de52.cache\n",
      "Loading model cost 0.999 seconds.\n",
      "Prefix dict has been built successfully.\n"
     ]
    },
    {
     "name": "stdout",
     "output_type": "stream",
     "text": [
      "poncc-debug: 532\n"
     ]
    },
    {
     "name": "stderr",
     "output_type": "stream",
     "text": [
      "Building prefix dict from /Users/poncc/Documents/GitHub/2nd-PyCrawlerMarathon/homework/day038/dict.user.big.txt ...\n",
      "Loading model from cache /var/folders/68/t9g86v0d0ys2rpbv_g1xxrph0000gn/T/jieba.u25b0b9ddcb92304ec71499048447de52.cache\n",
      "Loading model cost 0.995 seconds.\n",
      "Prefix dict has been built successfully.\n"
     ]
    },
    {
     "name": "stdout",
     "output_type": "stream",
     "text": [
      "poncc-debug: 533\n"
     ]
    },
    {
     "name": "stderr",
     "output_type": "stream",
     "text": [
      "Building prefix dict from /Users/poncc/Documents/GitHub/2nd-PyCrawlerMarathon/homework/day038/dict.user.big.txt ...\n",
      "Loading model from cache /var/folders/68/t9g86v0d0ys2rpbv_g1xxrph0000gn/T/jieba.u25b0b9ddcb92304ec71499048447de52.cache\n",
      "Loading model cost 1.016 seconds.\n",
      "Prefix dict has been built successfully.\n"
     ]
    },
    {
     "name": "stdout",
     "output_type": "stream",
     "text": [
      "poncc-debug: 534\n"
     ]
    },
    {
     "name": "stderr",
     "output_type": "stream",
     "text": [
      "Building prefix dict from /Users/poncc/Documents/GitHub/2nd-PyCrawlerMarathon/homework/day038/dict.user.big.txt ...\n",
      "Loading model from cache /var/folders/68/t9g86v0d0ys2rpbv_g1xxrph0000gn/T/jieba.u25b0b9ddcb92304ec71499048447de52.cache\n",
      "Loading model cost 1.011 seconds.\n",
      "Prefix dict has been built successfully.\n"
     ]
    },
    {
     "name": "stdout",
     "output_type": "stream",
     "text": [
      "poncc-debug: 535\n"
     ]
    },
    {
     "name": "stderr",
     "output_type": "stream",
     "text": [
      "Building prefix dict from /Users/poncc/Documents/GitHub/2nd-PyCrawlerMarathon/homework/day038/dict.user.big.txt ...\n",
      "Loading model from cache /var/folders/68/t9g86v0d0ys2rpbv_g1xxrph0000gn/T/jieba.u25b0b9ddcb92304ec71499048447de52.cache\n",
      "Loading model cost 1.011 seconds.\n",
      "Prefix dict has been built successfully.\n"
     ]
    },
    {
     "name": "stdout",
     "output_type": "stream",
     "text": [
      "poncc-debug: 536\n"
     ]
    },
    {
     "name": "stderr",
     "output_type": "stream",
     "text": [
      "Building prefix dict from /Users/poncc/Documents/GitHub/2nd-PyCrawlerMarathon/homework/day038/dict.user.big.txt ...\n",
      "Loading model from cache /var/folders/68/t9g86v0d0ys2rpbv_g1xxrph0000gn/T/jieba.u25b0b9ddcb92304ec71499048447de52.cache\n",
      "Loading model cost 1.002 seconds.\n",
      "Prefix dict has been built successfully.\n"
     ]
    },
    {
     "name": "stdout",
     "output_type": "stream",
     "text": [
      "poncc-debug: 537\n"
     ]
    },
    {
     "name": "stderr",
     "output_type": "stream",
     "text": [
      "Building prefix dict from /Users/poncc/Documents/GitHub/2nd-PyCrawlerMarathon/homework/day038/dict.user.big.txt ...\n",
      "Loading model from cache /var/folders/68/t9g86v0d0ys2rpbv_g1xxrph0000gn/T/jieba.u25b0b9ddcb92304ec71499048447de52.cache\n",
      "Loading model cost 1.001 seconds.\n",
      "Prefix dict has been built successfully.\n"
     ]
    },
    {
     "name": "stdout",
     "output_type": "stream",
     "text": [
      "poncc-debug: 538\n"
     ]
    },
    {
     "name": "stderr",
     "output_type": "stream",
     "text": [
      "Building prefix dict from /Users/poncc/Documents/GitHub/2nd-PyCrawlerMarathon/homework/day038/dict.user.big.txt ...\n",
      "Loading model from cache /var/folders/68/t9g86v0d0ys2rpbv_g1xxrph0000gn/T/jieba.u25b0b9ddcb92304ec71499048447de52.cache\n",
      "Loading model cost 1.010 seconds.\n",
      "Prefix dict has been built successfully.\n"
     ]
    },
    {
     "name": "stdout",
     "output_type": "stream",
     "text": [
      "poncc-debug: 539\n"
     ]
    },
    {
     "name": "stderr",
     "output_type": "stream",
     "text": [
      "Building prefix dict from /Users/poncc/Documents/GitHub/2nd-PyCrawlerMarathon/homework/day038/dict.user.big.txt ...\n",
      "Loading model from cache /var/folders/68/t9g86v0d0ys2rpbv_g1xxrph0000gn/T/jieba.u25b0b9ddcb92304ec71499048447de52.cache\n",
      "Loading model cost 1.018 seconds.\n",
      "Prefix dict has been built successfully.\n"
     ]
    },
    {
     "name": "stdout",
     "output_type": "stream",
     "text": [
      "poncc-debug: 540\n"
     ]
    },
    {
     "name": "stderr",
     "output_type": "stream",
     "text": [
      "Building prefix dict from /Users/poncc/Documents/GitHub/2nd-PyCrawlerMarathon/homework/day038/dict.user.big.txt ...\n",
      "Loading model from cache /var/folders/68/t9g86v0d0ys2rpbv_g1xxrph0000gn/T/jieba.u25b0b9ddcb92304ec71499048447de52.cache\n",
      "Loading model cost 1.004 seconds.\n",
      "Prefix dict has been built successfully.\n"
     ]
    },
    {
     "name": "stdout",
     "output_type": "stream",
     "text": [
      "poncc-debug: 541\n"
     ]
    },
    {
     "name": "stderr",
     "output_type": "stream",
     "text": [
      "Building prefix dict from /Users/poncc/Documents/GitHub/2nd-PyCrawlerMarathon/homework/day038/dict.user.big.txt ...\n",
      "Loading model from cache /var/folders/68/t9g86v0d0ys2rpbv_g1xxrph0000gn/T/jieba.u25b0b9ddcb92304ec71499048447de52.cache\n",
      "Loading model cost 1.023 seconds.\n",
      "Prefix dict has been built successfully.\n"
     ]
    },
    {
     "name": "stdout",
     "output_type": "stream",
     "text": [
      "poncc-debug: 542\n"
     ]
    },
    {
     "name": "stderr",
     "output_type": "stream",
     "text": [
      "Building prefix dict from /Users/poncc/Documents/GitHub/2nd-PyCrawlerMarathon/homework/day038/dict.user.big.txt ...\n",
      "Loading model from cache /var/folders/68/t9g86v0d0ys2rpbv_g1xxrph0000gn/T/jieba.u25b0b9ddcb92304ec71499048447de52.cache\n",
      "Loading model cost 1.010 seconds.\n",
      "Prefix dict has been built successfully.\n"
     ]
    },
    {
     "name": "stdout",
     "output_type": "stream",
     "text": [
      "poncc-debug: 543\n"
     ]
    },
    {
     "name": "stderr",
     "output_type": "stream",
     "text": [
      "Building prefix dict from /Users/poncc/Documents/GitHub/2nd-PyCrawlerMarathon/homework/day038/dict.user.big.txt ...\n",
      "Loading model from cache /var/folders/68/t9g86v0d0ys2rpbv_g1xxrph0000gn/T/jieba.u25b0b9ddcb92304ec71499048447de52.cache\n",
      "Loading model cost 1.014 seconds.\n",
      "Prefix dict has been built successfully.\n"
     ]
    },
    {
     "name": "stdout",
     "output_type": "stream",
     "text": [
      "poncc-debug: 544\n"
     ]
    },
    {
     "name": "stderr",
     "output_type": "stream",
     "text": [
      "Building prefix dict from /Users/poncc/Documents/GitHub/2nd-PyCrawlerMarathon/homework/day038/dict.user.big.txt ...\n",
      "Loading model from cache /var/folders/68/t9g86v0d0ys2rpbv_g1xxrph0000gn/T/jieba.u25b0b9ddcb92304ec71499048447de52.cache\n",
      "Loading model cost 1.003 seconds.\n",
      "Prefix dict has been built successfully.\n"
     ]
    },
    {
     "name": "stdout",
     "output_type": "stream",
     "text": [
      "poncc-debug: 545\n"
     ]
    },
    {
     "name": "stderr",
     "output_type": "stream",
     "text": [
      "Building prefix dict from /Users/poncc/Documents/GitHub/2nd-PyCrawlerMarathon/homework/day038/dict.user.big.txt ...\n",
      "Loading model from cache /var/folders/68/t9g86v0d0ys2rpbv_g1xxrph0000gn/T/jieba.u25b0b9ddcb92304ec71499048447de52.cache\n",
      "Loading model cost 0.989 seconds.\n",
      "Prefix dict has been built successfully.\n"
     ]
    },
    {
     "name": "stdout",
     "output_type": "stream",
     "text": [
      "poncc-debug: 546\n"
     ]
    },
    {
     "name": "stderr",
     "output_type": "stream",
     "text": [
      "Building prefix dict from /Users/poncc/Documents/GitHub/2nd-PyCrawlerMarathon/homework/day038/dict.user.big.txt ...\n",
      "Loading model from cache /var/folders/68/t9g86v0d0ys2rpbv_g1xxrph0000gn/T/jieba.u25b0b9ddcb92304ec71499048447de52.cache\n",
      "Loading model cost 1.038 seconds.\n",
      "Prefix dict has been built successfully.\n",
      "Building prefix dict from /Users/poncc/Documents/GitHub/2nd-PyCrawlerMarathon/homework/day038/dict.user.big.txt ...\n",
      "Loading model from cache /var/folders/68/t9g86v0d0ys2rpbv_g1xxrph0000gn/T/jieba.u25b0b9ddcb92304ec71499048447de52.cache\n"
     ]
    },
    {
     "name": "stdout",
     "output_type": "stream",
     "text": [
      "poncc-debug: 547\n"
     ]
    },
    {
     "name": "stderr",
     "output_type": "stream",
     "text": [
      "Loading model cost 1.026 seconds.\n",
      "Prefix dict has been built successfully.\n"
     ]
    },
    {
     "name": "stdout",
     "output_type": "stream",
     "text": [
      "poncc-debug: 548\n"
     ]
    },
    {
     "name": "stderr",
     "output_type": "stream",
     "text": [
      "Building prefix dict from /Users/poncc/Documents/GitHub/2nd-PyCrawlerMarathon/homework/day038/dict.user.big.txt ...\n",
      "Loading model from cache /var/folders/68/t9g86v0d0ys2rpbv_g1xxrph0000gn/T/jieba.u25b0b9ddcb92304ec71499048447de52.cache\n",
      "Loading model cost 0.993 seconds.\n",
      "Prefix dict has been built successfully.\n"
     ]
    },
    {
     "name": "stdout",
     "output_type": "stream",
     "text": [
      "poncc-debug: 549\n"
     ]
    },
    {
     "name": "stderr",
     "output_type": "stream",
     "text": [
      "Building prefix dict from /Users/poncc/Documents/GitHub/2nd-PyCrawlerMarathon/homework/day038/dict.user.big.txt ...\n",
      "Loading model from cache /var/folders/68/t9g86v0d0ys2rpbv_g1xxrph0000gn/T/jieba.u25b0b9ddcb92304ec71499048447de52.cache\n",
      "Loading model cost 1.016 seconds.\n",
      "Prefix dict has been built successfully.\n"
     ]
    },
    {
     "name": "stdout",
     "output_type": "stream",
     "text": [
      "poncc-debug: 550\n"
     ]
    },
    {
     "name": "stderr",
     "output_type": "stream",
     "text": [
      "Building prefix dict from /Users/poncc/Documents/GitHub/2nd-PyCrawlerMarathon/homework/day038/dict.user.big.txt ...\n",
      "Loading model from cache /var/folders/68/t9g86v0d0ys2rpbv_g1xxrph0000gn/T/jieba.u25b0b9ddcb92304ec71499048447de52.cache\n",
      "Loading model cost 1.018 seconds.\n",
      "Prefix dict has been built successfully.\n"
     ]
    },
    {
     "name": "stdout",
     "output_type": "stream",
     "text": [
      "poncc-debug: 551\n"
     ]
    },
    {
     "name": "stderr",
     "output_type": "stream",
     "text": [
      "Building prefix dict from /Users/poncc/Documents/GitHub/2nd-PyCrawlerMarathon/homework/day038/dict.user.big.txt ...\n",
      "Loading model from cache /var/folders/68/t9g86v0d0ys2rpbv_g1xxrph0000gn/T/jieba.u25b0b9ddcb92304ec71499048447de52.cache\n",
      "Loading model cost 1.006 seconds.\n",
      "Prefix dict has been built successfully.\n"
     ]
    },
    {
     "name": "stdout",
     "output_type": "stream",
     "text": [
      "poncc-debug: 552\n"
     ]
    },
    {
     "name": "stderr",
     "output_type": "stream",
     "text": [
      "Building prefix dict from /Users/poncc/Documents/GitHub/2nd-PyCrawlerMarathon/homework/day038/dict.user.big.txt ...\n",
      "Loading model from cache /var/folders/68/t9g86v0d0ys2rpbv_g1xxrph0000gn/T/jieba.u25b0b9ddcb92304ec71499048447de52.cache\n",
      "Loading model cost 1.003 seconds.\n",
      "Prefix dict has been built successfully.\n"
     ]
    },
    {
     "name": "stdout",
     "output_type": "stream",
     "text": [
      "poncc-debug: 553\n"
     ]
    },
    {
     "name": "stderr",
     "output_type": "stream",
     "text": [
      "Building prefix dict from /Users/poncc/Documents/GitHub/2nd-PyCrawlerMarathon/homework/day038/dict.user.big.txt ...\n",
      "Loading model from cache /var/folders/68/t9g86v0d0ys2rpbv_g1xxrph0000gn/T/jieba.u25b0b9ddcb92304ec71499048447de52.cache\n",
      "Loading model cost 1.002 seconds.\n",
      "Prefix dict has been built successfully.\n"
     ]
    },
    {
     "name": "stdout",
     "output_type": "stream",
     "text": [
      "poncc-debug: 554\n"
     ]
    },
    {
     "name": "stderr",
     "output_type": "stream",
     "text": [
      "Building prefix dict from /Users/poncc/Documents/GitHub/2nd-PyCrawlerMarathon/homework/day038/dict.user.big.txt ...\n",
      "Loading model from cache /var/folders/68/t9g86v0d0ys2rpbv_g1xxrph0000gn/T/jieba.u25b0b9ddcb92304ec71499048447de52.cache\n",
      "Loading model cost 0.999 seconds.\n",
      "Prefix dict has been built successfully.\n"
     ]
    },
    {
     "name": "stdout",
     "output_type": "stream",
     "text": [
      "poncc-debug: 555\n"
     ]
    },
    {
     "name": "stderr",
     "output_type": "stream",
     "text": [
      "Building prefix dict from /Users/poncc/Documents/GitHub/2nd-PyCrawlerMarathon/homework/day038/dict.user.big.txt ...\n",
      "Loading model from cache /var/folders/68/t9g86v0d0ys2rpbv_g1xxrph0000gn/T/jieba.u25b0b9ddcb92304ec71499048447de52.cache\n",
      "Loading model cost 0.998 seconds.\n",
      "Prefix dict has been built successfully.\n"
     ]
    },
    {
     "name": "stdout",
     "output_type": "stream",
     "text": [
      "poncc-debug: 556\n"
     ]
    },
    {
     "name": "stderr",
     "output_type": "stream",
     "text": [
      "Building prefix dict from /Users/poncc/Documents/GitHub/2nd-PyCrawlerMarathon/homework/day038/dict.user.big.txt ...\n",
      "Loading model from cache /var/folders/68/t9g86v0d0ys2rpbv_g1xxrph0000gn/T/jieba.u25b0b9ddcb92304ec71499048447de52.cache\n",
      "Loading model cost 1.015 seconds.\n",
      "Prefix dict has been built successfully.\n"
     ]
    },
    {
     "name": "stdout",
     "output_type": "stream",
     "text": [
      "poncc-debug: 557\n"
     ]
    },
    {
     "name": "stderr",
     "output_type": "stream",
     "text": [
      "Building prefix dict from /Users/poncc/Documents/GitHub/2nd-PyCrawlerMarathon/homework/day038/dict.user.big.txt ...\n",
      "Loading model from cache /var/folders/68/t9g86v0d0ys2rpbv_g1xxrph0000gn/T/jieba.u25b0b9ddcb92304ec71499048447de52.cache\n",
      "Loading model cost 1.012 seconds.\n",
      "Prefix dict has been built successfully.\n"
     ]
    },
    {
     "name": "stdout",
     "output_type": "stream",
     "text": [
      "poncc-debug: 558\n"
     ]
    },
    {
     "name": "stderr",
     "output_type": "stream",
     "text": [
      "Building prefix dict from /Users/poncc/Documents/GitHub/2nd-PyCrawlerMarathon/homework/day038/dict.user.big.txt ...\n",
      "Loading model from cache /var/folders/68/t9g86v0d0ys2rpbv_g1xxrph0000gn/T/jieba.u25b0b9ddcb92304ec71499048447de52.cache\n",
      "Loading model cost 1.003 seconds.\n",
      "Prefix dict has been built successfully.\n"
     ]
    },
    {
     "name": "stdout",
     "output_type": "stream",
     "text": [
      "poncc-debug: 559\n"
     ]
    },
    {
     "name": "stderr",
     "output_type": "stream",
     "text": [
      "Building prefix dict from /Users/poncc/Documents/GitHub/2nd-PyCrawlerMarathon/homework/day038/dict.user.big.txt ...\n",
      "Loading model from cache /var/folders/68/t9g86v0d0ys2rpbv_g1xxrph0000gn/T/jieba.u25b0b9ddcb92304ec71499048447de52.cache\n",
      "Loading model cost 0.995 seconds.\n",
      "Prefix dict has been built successfully.\n"
     ]
    },
    {
     "name": "stdout",
     "output_type": "stream",
     "text": [
      "poncc-debug: 560\n"
     ]
    },
    {
     "name": "stderr",
     "output_type": "stream",
     "text": [
      "Building prefix dict from /Users/poncc/Documents/GitHub/2nd-PyCrawlerMarathon/homework/day038/dict.user.big.txt ...\n",
      "Loading model from cache /var/folders/68/t9g86v0d0ys2rpbv_g1xxrph0000gn/T/jieba.u25b0b9ddcb92304ec71499048447de52.cache\n",
      "Loading model cost 1.003 seconds.\n",
      "Prefix dict has been built successfully.\n"
     ]
    },
    {
     "name": "stdout",
     "output_type": "stream",
     "text": [
      "poncc-debug: 561\n"
     ]
    },
    {
     "name": "stderr",
     "output_type": "stream",
     "text": [
      "Building prefix dict from /Users/poncc/Documents/GitHub/2nd-PyCrawlerMarathon/homework/day038/dict.user.big.txt ...\n",
      "Loading model from cache /var/folders/68/t9g86v0d0ys2rpbv_g1xxrph0000gn/T/jieba.u25b0b9ddcb92304ec71499048447de52.cache\n",
      "Loading model cost 1.018 seconds.\n",
      "Prefix dict has been built successfully.\n"
     ]
    },
    {
     "name": "stdout",
     "output_type": "stream",
     "text": [
      "poncc-debug: 562\n"
     ]
    },
    {
     "name": "stderr",
     "output_type": "stream",
     "text": [
      "Building prefix dict from /Users/poncc/Documents/GitHub/2nd-PyCrawlerMarathon/homework/day038/dict.user.big.txt ...\n",
      "Loading model from cache /var/folders/68/t9g86v0d0ys2rpbv_g1xxrph0000gn/T/jieba.u25b0b9ddcb92304ec71499048447de52.cache\n",
      "Loading model cost 1.016 seconds.\n",
      "Prefix dict has been built successfully.\n"
     ]
    },
    {
     "name": "stdout",
     "output_type": "stream",
     "text": [
      "poncc-debug: 563\n"
     ]
    },
    {
     "name": "stderr",
     "output_type": "stream",
     "text": [
      "Building prefix dict from /Users/poncc/Documents/GitHub/2nd-PyCrawlerMarathon/homework/day038/dict.user.big.txt ...\n",
      "Loading model from cache /var/folders/68/t9g86v0d0ys2rpbv_g1xxrph0000gn/T/jieba.u25b0b9ddcb92304ec71499048447de52.cache\n",
      "Loading model cost 0.999 seconds.\n",
      "Prefix dict has been built successfully.\n"
     ]
    },
    {
     "name": "stdout",
     "output_type": "stream",
     "text": [
      "poncc-debug: 564\n"
     ]
    },
    {
     "name": "stderr",
     "output_type": "stream",
     "text": [
      "Building prefix dict from /Users/poncc/Documents/GitHub/2nd-PyCrawlerMarathon/homework/day038/dict.user.big.txt ...\n",
      "Loading model from cache /var/folders/68/t9g86v0d0ys2rpbv_g1xxrph0000gn/T/jieba.u25b0b9ddcb92304ec71499048447de52.cache\n",
      "Loading model cost 0.997 seconds.\n",
      "Prefix dict has been built successfully.\n"
     ]
    },
    {
     "name": "stdout",
     "output_type": "stream",
     "text": [
      "poncc-debug: 565\n"
     ]
    },
    {
     "name": "stderr",
     "output_type": "stream",
     "text": [
      "Building prefix dict from /Users/poncc/Documents/GitHub/2nd-PyCrawlerMarathon/homework/day038/dict.user.big.txt ...\n",
      "Loading model from cache /var/folders/68/t9g86v0d0ys2rpbv_g1xxrph0000gn/T/jieba.u25b0b9ddcb92304ec71499048447de52.cache\n",
      "Loading model cost 1.018 seconds.\n",
      "Prefix dict has been built successfully.\n"
     ]
    },
    {
     "name": "stdout",
     "output_type": "stream",
     "text": [
      "poncc-debug: 566\n"
     ]
    },
    {
     "name": "stderr",
     "output_type": "stream",
     "text": [
      "Building prefix dict from /Users/poncc/Documents/GitHub/2nd-PyCrawlerMarathon/homework/day038/dict.user.big.txt ...\n",
      "Loading model from cache /var/folders/68/t9g86v0d0ys2rpbv_g1xxrph0000gn/T/jieba.u25b0b9ddcb92304ec71499048447de52.cache\n",
      "Loading model cost 1.012 seconds.\n",
      "Prefix dict has been built successfully.\n"
     ]
    },
    {
     "name": "stdout",
     "output_type": "stream",
     "text": [
      "poncc-debug: 567\n"
     ]
    },
    {
     "name": "stderr",
     "output_type": "stream",
     "text": [
      "Building prefix dict from /Users/poncc/Documents/GitHub/2nd-PyCrawlerMarathon/homework/day038/dict.user.big.txt ...\n",
      "Loading model from cache /var/folders/68/t9g86v0d0ys2rpbv_g1xxrph0000gn/T/jieba.u25b0b9ddcb92304ec71499048447de52.cache\n",
      "Loading model cost 0.982 seconds.\n",
      "Prefix dict has been built successfully.\n"
     ]
    },
    {
     "name": "stdout",
     "output_type": "stream",
     "text": [
      "poncc-debug: 568\n"
     ]
    },
    {
     "name": "stderr",
     "output_type": "stream",
     "text": [
      "Building prefix dict from /Users/poncc/Documents/GitHub/2nd-PyCrawlerMarathon/homework/day038/dict.user.big.txt ...\n",
      "Loading model from cache /var/folders/68/t9g86v0d0ys2rpbv_g1xxrph0000gn/T/jieba.u25b0b9ddcb92304ec71499048447de52.cache\n",
      "Loading model cost 1.007 seconds.\n",
      "Prefix dict has been built successfully.\n"
     ]
    },
    {
     "name": "stdout",
     "output_type": "stream",
     "text": [
      "poncc-debug: 569\n"
     ]
    },
    {
     "name": "stderr",
     "output_type": "stream",
     "text": [
      "Building prefix dict from /Users/poncc/Documents/GitHub/2nd-PyCrawlerMarathon/homework/day038/dict.user.big.txt ...\n",
      "Loading model from cache /var/folders/68/t9g86v0d0ys2rpbv_g1xxrph0000gn/T/jieba.u25b0b9ddcb92304ec71499048447de52.cache\n",
      "Loading model cost 1.009 seconds.\n",
      "Prefix dict has been built successfully.\n"
     ]
    },
    {
     "name": "stdout",
     "output_type": "stream",
     "text": [
      "poncc-debug: 570\n"
     ]
    },
    {
     "name": "stderr",
     "output_type": "stream",
     "text": [
      "Building prefix dict from /Users/poncc/Documents/GitHub/2nd-PyCrawlerMarathon/homework/day038/dict.user.big.txt ...\n",
      "Loading model from cache /var/folders/68/t9g86v0d0ys2rpbv_g1xxrph0000gn/T/jieba.u25b0b9ddcb92304ec71499048447de52.cache\n",
      "Loading model cost 0.996 seconds.\n",
      "Prefix dict has been built successfully.\n"
     ]
    },
    {
     "name": "stdout",
     "output_type": "stream",
     "text": [
      "poncc-debug: 571\n"
     ]
    },
    {
     "name": "stderr",
     "output_type": "stream",
     "text": [
      "Building prefix dict from /Users/poncc/Documents/GitHub/2nd-PyCrawlerMarathon/homework/day038/dict.user.big.txt ...\n",
      "Loading model from cache /var/folders/68/t9g86v0d0ys2rpbv_g1xxrph0000gn/T/jieba.u25b0b9ddcb92304ec71499048447de52.cache\n",
      "Loading model cost 1.000 seconds.\n",
      "Prefix dict has been built successfully.\n"
     ]
    },
    {
     "name": "stdout",
     "output_type": "stream",
     "text": [
      "poncc-debug: 572\n"
     ]
    },
    {
     "name": "stderr",
     "output_type": "stream",
     "text": [
      "Building prefix dict from /Users/poncc/Documents/GitHub/2nd-PyCrawlerMarathon/homework/day038/dict.user.big.txt ...\n",
      "Loading model from cache /var/folders/68/t9g86v0d0ys2rpbv_g1xxrph0000gn/T/jieba.u25b0b9ddcb92304ec71499048447de52.cache\n",
      "Loading model cost 1.002 seconds.\n",
      "Prefix dict has been built successfully.\n"
     ]
    },
    {
     "name": "stdout",
     "output_type": "stream",
     "text": [
      "poncc-debug: 573\n"
     ]
    },
    {
     "name": "stderr",
     "output_type": "stream",
     "text": [
      "Building prefix dict from /Users/poncc/Documents/GitHub/2nd-PyCrawlerMarathon/homework/day038/dict.user.big.txt ...\n",
      "Loading model from cache /var/folders/68/t9g86v0d0ys2rpbv_g1xxrph0000gn/T/jieba.u25b0b9ddcb92304ec71499048447de52.cache\n",
      "Loading model cost 1.016 seconds.\n",
      "Prefix dict has been built successfully.\n"
     ]
    },
    {
     "name": "stdout",
     "output_type": "stream",
     "text": [
      "poncc-debug: 574\n"
     ]
    },
    {
     "name": "stderr",
     "output_type": "stream",
     "text": [
      "Building prefix dict from /Users/poncc/Documents/GitHub/2nd-PyCrawlerMarathon/homework/day038/dict.user.big.txt ...\n",
      "Loading model from cache /var/folders/68/t9g86v0d0ys2rpbv_g1xxrph0000gn/T/jieba.u25b0b9ddcb92304ec71499048447de52.cache\n",
      "Loading model cost 1.020 seconds.\n",
      "Prefix dict has been built successfully.\n"
     ]
    },
    {
     "name": "stdout",
     "output_type": "stream",
     "text": [
      "poncc-debug: 575\n"
     ]
    },
    {
     "name": "stderr",
     "output_type": "stream",
     "text": [
      "Building prefix dict from /Users/poncc/Documents/GitHub/2nd-PyCrawlerMarathon/homework/day038/dict.user.big.txt ...\n",
      "Loading model from cache /var/folders/68/t9g86v0d0ys2rpbv_g1xxrph0000gn/T/jieba.u25b0b9ddcb92304ec71499048447de52.cache\n",
      "Loading model cost 1.021 seconds.\n",
      "Prefix dict has been built successfully.\n"
     ]
    },
    {
     "name": "stdout",
     "output_type": "stream",
     "text": [
      "poncc-debug: 576\n"
     ]
    },
    {
     "name": "stderr",
     "output_type": "stream",
     "text": [
      "Building prefix dict from /Users/poncc/Documents/GitHub/2nd-PyCrawlerMarathon/homework/day038/dict.user.big.txt ...\n",
      "Loading model from cache /var/folders/68/t9g86v0d0ys2rpbv_g1xxrph0000gn/T/jieba.u25b0b9ddcb92304ec71499048447de52.cache\n",
      "Loading model cost 1.013 seconds.\n",
      "Prefix dict has been built successfully.\n"
     ]
    },
    {
     "name": "stdout",
     "output_type": "stream",
     "text": [
      "poncc-debug: 577\n"
     ]
    },
    {
     "name": "stderr",
     "output_type": "stream",
     "text": [
      "Building prefix dict from /Users/poncc/Documents/GitHub/2nd-PyCrawlerMarathon/homework/day038/dict.user.big.txt ...\n",
      "Loading model from cache /var/folders/68/t9g86v0d0ys2rpbv_g1xxrph0000gn/T/jieba.u25b0b9ddcb92304ec71499048447de52.cache\n",
      "Loading model cost 1.009 seconds.\n",
      "Prefix dict has been built successfully.\n"
     ]
    },
    {
     "name": "stdout",
     "output_type": "stream",
     "text": [
      "poncc-debug: 578\n"
     ]
    },
    {
     "name": "stderr",
     "output_type": "stream",
     "text": [
      "Building prefix dict from /Users/poncc/Documents/GitHub/2nd-PyCrawlerMarathon/homework/day038/dict.user.big.txt ...\n",
      "Loading model from cache /var/folders/68/t9g86v0d0ys2rpbv_g1xxrph0000gn/T/jieba.u25b0b9ddcb92304ec71499048447de52.cache\n",
      "Loading model cost 1.009 seconds.\n",
      "Prefix dict has been built successfully.\n"
     ]
    },
    {
     "name": "stdout",
     "output_type": "stream",
     "text": [
      "poncc-debug: 579\n"
     ]
    },
    {
     "name": "stderr",
     "output_type": "stream",
     "text": [
      "Building prefix dict from /Users/poncc/Documents/GitHub/2nd-PyCrawlerMarathon/homework/day038/dict.user.big.txt ...\n",
      "Loading model from cache /var/folders/68/t9g86v0d0ys2rpbv_g1xxrph0000gn/T/jieba.u25b0b9ddcb92304ec71499048447de52.cache\n",
      "Loading model cost 1.008 seconds.\n",
      "Prefix dict has been built successfully.\n"
     ]
    },
    {
     "name": "stdout",
     "output_type": "stream",
     "text": [
      "poncc-debug: 580\n"
     ]
    },
    {
     "name": "stderr",
     "output_type": "stream",
     "text": [
      "Building prefix dict from /Users/poncc/Documents/GitHub/2nd-PyCrawlerMarathon/homework/day038/dict.user.big.txt ...\n",
      "Loading model from cache /var/folders/68/t9g86v0d0ys2rpbv_g1xxrph0000gn/T/jieba.u25b0b9ddcb92304ec71499048447de52.cache\n",
      "Loading model cost 0.993 seconds.\n",
      "Prefix dict has been built successfully.\n"
     ]
    },
    {
     "name": "stdout",
     "output_type": "stream",
     "text": [
      "poncc-debug: 581\n"
     ]
    },
    {
     "name": "stderr",
     "output_type": "stream",
     "text": [
      "Building prefix dict from /Users/poncc/Documents/GitHub/2nd-PyCrawlerMarathon/homework/day038/dict.user.big.txt ...\n",
      "Loading model from cache /var/folders/68/t9g86v0d0ys2rpbv_g1xxrph0000gn/T/jieba.u25b0b9ddcb92304ec71499048447de52.cache\n",
      "Loading model cost 1.003 seconds.\n",
      "Prefix dict has been built successfully.\n"
     ]
    },
    {
     "name": "stdout",
     "output_type": "stream",
     "text": [
      "poncc-debug: 582\n"
     ]
    },
    {
     "name": "stderr",
     "output_type": "stream",
     "text": [
      "Building prefix dict from /Users/poncc/Documents/GitHub/2nd-PyCrawlerMarathon/homework/day038/dict.user.big.txt ...\n",
      "Loading model from cache /var/folders/68/t9g86v0d0ys2rpbv_g1xxrph0000gn/T/jieba.u25b0b9ddcb92304ec71499048447de52.cache\n",
      "Loading model cost 1.020 seconds.\n",
      "Prefix dict has been built successfully.\n"
     ]
    },
    {
     "name": "stdout",
     "output_type": "stream",
     "text": [
      "poncc-debug: 583\n"
     ]
    },
    {
     "name": "stderr",
     "output_type": "stream",
     "text": [
      "Building prefix dict from /Users/poncc/Documents/GitHub/2nd-PyCrawlerMarathon/homework/day038/dict.user.big.txt ...\n",
      "Loading model from cache /var/folders/68/t9g86v0d0ys2rpbv_g1xxrph0000gn/T/jieba.u25b0b9ddcb92304ec71499048447de52.cache\n",
      "Loading model cost 1.016 seconds.\n",
      "Prefix dict has been built successfully.\n"
     ]
    },
    {
     "name": "stdout",
     "output_type": "stream",
     "text": [
      "poncc-debug: 584\n"
     ]
    },
    {
     "name": "stderr",
     "output_type": "stream",
     "text": [
      "Building prefix dict from /Users/poncc/Documents/GitHub/2nd-PyCrawlerMarathon/homework/day038/dict.user.big.txt ...\n",
      "Loading model from cache /var/folders/68/t9g86v0d0ys2rpbv_g1xxrph0000gn/T/jieba.u25b0b9ddcb92304ec71499048447de52.cache\n",
      "Loading model cost 1.011 seconds.\n",
      "Prefix dict has been built successfully.\n"
     ]
    },
    {
     "name": "stdout",
     "output_type": "stream",
     "text": [
      "poncc-debug: 585\n"
     ]
    },
    {
     "name": "stderr",
     "output_type": "stream",
     "text": [
      "Building prefix dict from /Users/poncc/Documents/GitHub/2nd-PyCrawlerMarathon/homework/day038/dict.user.big.txt ...\n",
      "Loading model from cache /var/folders/68/t9g86v0d0ys2rpbv_g1xxrph0000gn/T/jieba.u25b0b9ddcb92304ec71499048447de52.cache\n",
      "Loading model cost 1.011 seconds.\n",
      "Prefix dict has been built successfully.\n",
      "Building prefix dict from /Users/poncc/Documents/GitHub/2nd-PyCrawlerMarathon/homework/day038/dict.user.big.txt ...\n"
     ]
    },
    {
     "name": "stdout",
     "output_type": "stream",
     "text": [
      "poncc-debug: 586\n"
     ]
    },
    {
     "name": "stderr",
     "output_type": "stream",
     "text": [
      "Loading model from cache /var/folders/68/t9g86v0d0ys2rpbv_g1xxrph0000gn/T/jieba.u25b0b9ddcb92304ec71499048447de52.cache\n",
      "Loading model cost 1.010 seconds.\n",
      "Prefix dict has been built successfully.\n"
     ]
    },
    {
     "name": "stdout",
     "output_type": "stream",
     "text": [
      "poncc-debug: 587\n"
     ]
    },
    {
     "name": "stderr",
     "output_type": "stream",
     "text": [
      "Building prefix dict from /Users/poncc/Documents/GitHub/2nd-PyCrawlerMarathon/homework/day038/dict.user.big.txt ...\n",
      "Loading model from cache /var/folders/68/t9g86v0d0ys2rpbv_g1xxrph0000gn/T/jieba.u25b0b9ddcb92304ec71499048447de52.cache\n",
      "Loading model cost 1.004 seconds.\n",
      "Prefix dict has been built successfully.\n"
     ]
    },
    {
     "name": "stdout",
     "output_type": "stream",
     "text": [
      "poncc-debug: 588\n"
     ]
    },
    {
     "name": "stderr",
     "output_type": "stream",
     "text": [
      "Building prefix dict from /Users/poncc/Documents/GitHub/2nd-PyCrawlerMarathon/homework/day038/dict.user.big.txt ...\n",
      "Loading model from cache /var/folders/68/t9g86v0d0ys2rpbv_g1xxrph0000gn/T/jieba.u25b0b9ddcb92304ec71499048447de52.cache\n",
      "Loading model cost 0.999 seconds.\n",
      "Prefix dict has been built successfully.\n"
     ]
    },
    {
     "name": "stdout",
     "output_type": "stream",
     "text": [
      "poncc-debug: 589\n"
     ]
    },
    {
     "name": "stderr",
     "output_type": "stream",
     "text": [
      "Building prefix dict from /Users/poncc/Documents/GitHub/2nd-PyCrawlerMarathon/homework/day038/dict.user.big.txt ...\n",
      "Loading model from cache /var/folders/68/t9g86v0d0ys2rpbv_g1xxrph0000gn/T/jieba.u25b0b9ddcb92304ec71499048447de52.cache\n",
      "Loading model cost 1.011 seconds.\n",
      "Prefix dict has been built successfully.\n"
     ]
    },
    {
     "name": "stdout",
     "output_type": "stream",
     "text": [
      "poncc-debug: 590\n"
     ]
    },
    {
     "name": "stderr",
     "output_type": "stream",
     "text": [
      "Building prefix dict from /Users/poncc/Documents/GitHub/2nd-PyCrawlerMarathon/homework/day038/dict.user.big.txt ...\n",
      "Loading model from cache /var/folders/68/t9g86v0d0ys2rpbv_g1xxrph0000gn/T/jieba.u25b0b9ddcb92304ec71499048447de52.cache\n",
      "Loading model cost 1.007 seconds.\n",
      "Prefix dict has been built successfully.\n"
     ]
    },
    {
     "name": "stdout",
     "output_type": "stream",
     "text": [
      "poncc-debug: 591\n"
     ]
    },
    {
     "name": "stderr",
     "output_type": "stream",
     "text": [
      "Building prefix dict from /Users/poncc/Documents/GitHub/2nd-PyCrawlerMarathon/homework/day038/dict.user.big.txt ...\n",
      "Loading model from cache /var/folders/68/t9g86v0d0ys2rpbv_g1xxrph0000gn/T/jieba.u25b0b9ddcb92304ec71499048447de52.cache\n",
      "Loading model cost 1.009 seconds.\n",
      "Prefix dict has been built successfully.\n"
     ]
    },
    {
     "name": "stdout",
     "output_type": "stream",
     "text": [
      "poncc-debug: 592\n"
     ]
    },
    {
     "name": "stderr",
     "output_type": "stream",
     "text": [
      "Building prefix dict from /Users/poncc/Documents/GitHub/2nd-PyCrawlerMarathon/homework/day038/dict.user.big.txt ...\n",
      "Loading model from cache /var/folders/68/t9g86v0d0ys2rpbv_g1xxrph0000gn/T/jieba.u25b0b9ddcb92304ec71499048447de52.cache\n",
      "Loading model cost 1.007 seconds.\n",
      "Prefix dict has been built successfully.\n"
     ]
    },
    {
     "name": "stdout",
     "output_type": "stream",
     "text": [
      "poncc-debug: 593\n"
     ]
    },
    {
     "name": "stderr",
     "output_type": "stream",
     "text": [
      "Building prefix dict from /Users/poncc/Documents/GitHub/2nd-PyCrawlerMarathon/homework/day038/dict.user.big.txt ...\n",
      "Loading model from cache /var/folders/68/t9g86v0d0ys2rpbv_g1xxrph0000gn/T/jieba.u25b0b9ddcb92304ec71499048447de52.cache\n",
      "Loading model cost 1.013 seconds.\n",
      "Prefix dict has been built successfully.\n"
     ]
    },
    {
     "name": "stdout",
     "output_type": "stream",
     "text": [
      "poncc-debug: 594\n"
     ]
    },
    {
     "name": "stderr",
     "output_type": "stream",
     "text": [
      "Building prefix dict from /Users/poncc/Documents/GitHub/2nd-PyCrawlerMarathon/homework/day038/dict.user.big.txt ...\n",
      "Loading model from cache /var/folders/68/t9g86v0d0ys2rpbv_g1xxrph0000gn/T/jieba.u25b0b9ddcb92304ec71499048447de52.cache\n",
      "Loading model cost 1.005 seconds.\n",
      "Prefix dict has been built successfully.\n"
     ]
    },
    {
     "name": "stdout",
     "output_type": "stream",
     "text": [
      "poncc-debug: 595\n"
     ]
    },
    {
     "name": "stderr",
     "output_type": "stream",
     "text": [
      "Building prefix dict from /Users/poncc/Documents/GitHub/2nd-PyCrawlerMarathon/homework/day038/dict.user.big.txt ...\n",
      "Loading model from cache /var/folders/68/t9g86v0d0ys2rpbv_g1xxrph0000gn/T/jieba.u25b0b9ddcb92304ec71499048447de52.cache\n",
      "Loading model cost 0.997 seconds.\n",
      "Prefix dict has been built successfully.\n"
     ]
    },
    {
     "name": "stdout",
     "output_type": "stream",
     "text": [
      "poncc-debug: 596\n"
     ]
    },
    {
     "name": "stderr",
     "output_type": "stream",
     "text": [
      "Building prefix dict from /Users/poncc/Documents/GitHub/2nd-PyCrawlerMarathon/homework/day038/dict.user.big.txt ...\n",
      "Loading model from cache /var/folders/68/t9g86v0d0ys2rpbv_g1xxrph0000gn/T/jieba.u25b0b9ddcb92304ec71499048447de52.cache\n",
      "Loading model cost 0.992 seconds.\n",
      "Prefix dict has been built successfully.\n"
     ]
    },
    {
     "name": "stdout",
     "output_type": "stream",
     "text": [
      "poncc-debug: 597\n"
     ]
    },
    {
     "name": "stderr",
     "output_type": "stream",
     "text": [
      "Building prefix dict from /Users/poncc/Documents/GitHub/2nd-PyCrawlerMarathon/homework/day038/dict.user.big.txt ...\n",
      "Loading model from cache /var/folders/68/t9g86v0d0ys2rpbv_g1xxrph0000gn/T/jieba.u25b0b9ddcb92304ec71499048447de52.cache\n",
      "Loading model cost 0.993 seconds.\n",
      "Prefix dict has been built successfully.\n"
     ]
    },
    {
     "name": "stdout",
     "output_type": "stream",
     "text": [
      "poncc-debug: 598\n"
     ]
    },
    {
     "name": "stderr",
     "output_type": "stream",
     "text": [
      "Building prefix dict from /Users/poncc/Documents/GitHub/2nd-PyCrawlerMarathon/homework/day038/dict.user.big.txt ...\n",
      "Loading model from cache /var/folders/68/t9g86v0d0ys2rpbv_g1xxrph0000gn/T/jieba.u25b0b9ddcb92304ec71499048447de52.cache\n",
      "Loading model cost 0.987 seconds.\n",
      "Prefix dict has been built successfully.\n"
     ]
    },
    {
     "name": "stdout",
     "output_type": "stream",
     "text": [
      "poncc-debug: 599\n"
     ]
    },
    {
     "name": "stderr",
     "output_type": "stream",
     "text": [
      "Building prefix dict from /Users/poncc/Documents/GitHub/2nd-PyCrawlerMarathon/homework/day038/dict.user.big.txt ...\n",
      "Loading model from cache /var/folders/68/t9g86v0d0ys2rpbv_g1xxrph0000gn/T/jieba.u25b0b9ddcb92304ec71499048447de52.cache\n",
      "Loading model cost 1.018 seconds.\n",
      "Prefix dict has been built successfully.\n"
     ]
    },
    {
     "name": "stdout",
     "output_type": "stream",
     "text": [
      "poncc-debug: 600\n"
     ]
    },
    {
     "name": "stderr",
     "output_type": "stream",
     "text": [
      "Building prefix dict from /Users/poncc/Documents/GitHub/2nd-PyCrawlerMarathon/homework/day038/dict.user.big.txt ...\n",
      "Loading model from cache /var/folders/68/t9g86v0d0ys2rpbv_g1xxrph0000gn/T/jieba.u25b0b9ddcb92304ec71499048447de52.cache\n",
      "Loading model cost 1.000 seconds.\n",
      "Prefix dict has been built successfully.\n"
     ]
    },
    {
     "name": "stdout",
     "output_type": "stream",
     "text": [
      "poncc-debug: 601\n"
     ]
    },
    {
     "name": "stderr",
     "output_type": "stream",
     "text": [
      "Building prefix dict from /Users/poncc/Documents/GitHub/2nd-PyCrawlerMarathon/homework/day038/dict.user.big.txt ...\n",
      "Loading model from cache /var/folders/68/t9g86v0d0ys2rpbv_g1xxrph0000gn/T/jieba.u25b0b9ddcb92304ec71499048447de52.cache\n",
      "Loading model cost 1.007 seconds.\n",
      "Prefix dict has been built successfully.\n"
     ]
    },
    {
     "name": "stdout",
     "output_type": "stream",
     "text": [
      "poncc-debug: 602\n"
     ]
    },
    {
     "name": "stderr",
     "output_type": "stream",
     "text": [
      "Building prefix dict from /Users/poncc/Documents/GitHub/2nd-PyCrawlerMarathon/homework/day038/dict.user.big.txt ...\n",
      "Loading model from cache /var/folders/68/t9g86v0d0ys2rpbv_g1xxrph0000gn/T/jieba.u25b0b9ddcb92304ec71499048447de52.cache\n",
      "Loading model cost 1.022 seconds.\n",
      "Prefix dict has been built successfully.\n"
     ]
    },
    {
     "name": "stdout",
     "output_type": "stream",
     "text": [
      "poncc-debug: 603\n"
     ]
    },
    {
     "name": "stderr",
     "output_type": "stream",
     "text": [
      "Building prefix dict from /Users/poncc/Documents/GitHub/2nd-PyCrawlerMarathon/homework/day038/dict.user.big.txt ...\n",
      "Loading model from cache /var/folders/68/t9g86v0d0ys2rpbv_g1xxrph0000gn/T/jieba.u25b0b9ddcb92304ec71499048447de52.cache\n",
      "Loading model cost 1.010 seconds.\n",
      "Prefix dict has been built successfully.\n"
     ]
    },
    {
     "name": "stdout",
     "output_type": "stream",
     "text": [
      "poncc-debug: 604\n"
     ]
    },
    {
     "name": "stderr",
     "output_type": "stream",
     "text": [
      "Building prefix dict from /Users/poncc/Documents/GitHub/2nd-PyCrawlerMarathon/homework/day038/dict.user.big.txt ...\n",
      "Loading model from cache /var/folders/68/t9g86v0d0ys2rpbv_g1xxrph0000gn/T/jieba.u25b0b9ddcb92304ec71499048447de52.cache\n",
      "Loading model cost 1.003 seconds.\n",
      "Prefix dict has been built successfully.\n",
      "Building prefix dict from /Users/poncc/Documents/GitHub/2nd-PyCrawlerMarathon/homework/day038/dict.user.big.txt ...\n"
     ]
    },
    {
     "name": "stdout",
     "output_type": "stream",
     "text": [
      "poncc-debug: 605\n"
     ]
    },
    {
     "name": "stderr",
     "output_type": "stream",
     "text": [
      "Loading model from cache /var/folders/68/t9g86v0d0ys2rpbv_g1xxrph0000gn/T/jieba.u25b0b9ddcb92304ec71499048447de52.cache\n",
      "Loading model cost 1.004 seconds.\n",
      "Prefix dict has been built successfully.\n"
     ]
    },
    {
     "name": "stdout",
     "output_type": "stream",
     "text": [
      "poncc-debug: 606\n"
     ]
    },
    {
     "name": "stderr",
     "output_type": "stream",
     "text": [
      "Building prefix dict from /Users/poncc/Documents/GitHub/2nd-PyCrawlerMarathon/homework/day038/dict.user.big.txt ...\n",
      "Loading model from cache /var/folders/68/t9g86v0d0ys2rpbv_g1xxrph0000gn/T/jieba.u25b0b9ddcb92304ec71499048447de52.cache\n",
      "Loading model cost 1.046 seconds.\n",
      "Prefix dict has been built successfully.\n"
     ]
    },
    {
     "name": "stdout",
     "output_type": "stream",
     "text": [
      "poncc-debug: 607\n"
     ]
    },
    {
     "name": "stderr",
     "output_type": "stream",
     "text": [
      "Building prefix dict from /Users/poncc/Documents/GitHub/2nd-PyCrawlerMarathon/homework/day038/dict.user.big.txt ...\n",
      "Loading model from cache /var/folders/68/t9g86v0d0ys2rpbv_g1xxrph0000gn/T/jieba.u25b0b9ddcb92304ec71499048447de52.cache\n",
      "Loading model cost 1.011 seconds.\n",
      "Prefix dict has been built successfully.\n"
     ]
    },
    {
     "name": "stdout",
     "output_type": "stream",
     "text": [
      "poncc-debug: 608\n"
     ]
    },
    {
     "name": "stderr",
     "output_type": "stream",
     "text": [
      "Building prefix dict from /Users/poncc/Documents/GitHub/2nd-PyCrawlerMarathon/homework/day038/dict.user.big.txt ...\n",
      "Loading model from cache /var/folders/68/t9g86v0d0ys2rpbv_g1xxrph0000gn/T/jieba.u25b0b9ddcb92304ec71499048447de52.cache\n",
      "Loading model cost 1.004 seconds.\n",
      "Prefix dict has been built successfully.\n"
     ]
    },
    {
     "name": "stdout",
     "output_type": "stream",
     "text": [
      "poncc-debug: 609\n"
     ]
    },
    {
     "name": "stderr",
     "output_type": "stream",
     "text": [
      "Building prefix dict from /Users/poncc/Documents/GitHub/2nd-PyCrawlerMarathon/homework/day038/dict.user.big.txt ...\n",
      "Loading model from cache /var/folders/68/t9g86v0d0ys2rpbv_g1xxrph0000gn/T/jieba.u25b0b9ddcb92304ec71499048447de52.cache\n",
      "Loading model cost 1.021 seconds.\n",
      "Prefix dict has been built successfully.\n"
     ]
    },
    {
     "name": "stdout",
     "output_type": "stream",
     "text": [
      "poncc-debug: 610\n"
     ]
    },
    {
     "name": "stderr",
     "output_type": "stream",
     "text": [
      "Building prefix dict from /Users/poncc/Documents/GitHub/2nd-PyCrawlerMarathon/homework/day038/dict.user.big.txt ...\n",
      "Loading model from cache /var/folders/68/t9g86v0d0ys2rpbv_g1xxrph0000gn/T/jieba.u25b0b9ddcb92304ec71499048447de52.cache\n",
      "Loading model cost 1.026 seconds.\n",
      "Prefix dict has been built successfully.\n"
     ]
    },
    {
     "name": "stdout",
     "output_type": "stream",
     "text": [
      "poncc-debug: 611\n"
     ]
    },
    {
     "name": "stderr",
     "output_type": "stream",
     "text": [
      "Building prefix dict from /Users/poncc/Documents/GitHub/2nd-PyCrawlerMarathon/homework/day038/dict.user.big.txt ...\n",
      "Loading model from cache /var/folders/68/t9g86v0d0ys2rpbv_g1xxrph0000gn/T/jieba.u25b0b9ddcb92304ec71499048447de52.cache\n",
      "Loading model cost 1.007 seconds.\n",
      "Prefix dict has been built successfully.\n"
     ]
    },
    {
     "name": "stdout",
     "output_type": "stream",
     "text": [
      "poncc-debug: 612\n"
     ]
    },
    {
     "name": "stderr",
     "output_type": "stream",
     "text": [
      "Building prefix dict from /Users/poncc/Documents/GitHub/2nd-PyCrawlerMarathon/homework/day038/dict.user.big.txt ...\n",
      "Loading model from cache /var/folders/68/t9g86v0d0ys2rpbv_g1xxrph0000gn/T/jieba.u25b0b9ddcb92304ec71499048447de52.cache\n",
      "Loading model cost 1.003 seconds.\n",
      "Prefix dict has been built successfully.\n"
     ]
    },
    {
     "name": "stdout",
     "output_type": "stream",
     "text": [
      "poncc-debug: 613\n"
     ]
    },
    {
     "name": "stderr",
     "output_type": "stream",
     "text": [
      "Building prefix dict from /Users/poncc/Documents/GitHub/2nd-PyCrawlerMarathon/homework/day038/dict.user.big.txt ...\n",
      "Loading model from cache /var/folders/68/t9g86v0d0ys2rpbv_g1xxrph0000gn/T/jieba.u25b0b9ddcb92304ec71499048447de52.cache\n",
      "Loading model cost 1.018 seconds.\n",
      "Prefix dict has been built successfully.\n"
     ]
    },
    {
     "name": "stdout",
     "output_type": "stream",
     "text": [
      "poncc-debug: 614\n"
     ]
    },
    {
     "name": "stderr",
     "output_type": "stream",
     "text": [
      "Building prefix dict from /Users/poncc/Documents/GitHub/2nd-PyCrawlerMarathon/homework/day038/dict.user.big.txt ...\n",
      "Loading model from cache /var/folders/68/t9g86v0d0ys2rpbv_g1xxrph0000gn/T/jieba.u25b0b9ddcb92304ec71499048447de52.cache\n",
      "Loading model cost 1.011 seconds.\n",
      "Prefix dict has been built successfully.\n"
     ]
    },
    {
     "name": "stdout",
     "output_type": "stream",
     "text": [
      "poncc-debug: 615\n"
     ]
    },
    {
     "name": "stderr",
     "output_type": "stream",
     "text": [
      "Building prefix dict from /Users/poncc/Documents/GitHub/2nd-PyCrawlerMarathon/homework/day038/dict.user.big.txt ...\n",
      "Loading model from cache /var/folders/68/t9g86v0d0ys2rpbv_g1xxrph0000gn/T/jieba.u25b0b9ddcb92304ec71499048447de52.cache\n",
      "Loading model cost 0.988 seconds.\n",
      "Prefix dict has been built successfully.\n"
     ]
    },
    {
     "name": "stdout",
     "output_type": "stream",
     "text": [
      "poncc-debug: 616\n"
     ]
    },
    {
     "name": "stderr",
     "output_type": "stream",
     "text": [
      "Building prefix dict from /Users/poncc/Documents/GitHub/2nd-PyCrawlerMarathon/homework/day038/dict.user.big.txt ...\n",
      "Loading model from cache /var/folders/68/t9g86v0d0ys2rpbv_g1xxrph0000gn/T/jieba.u25b0b9ddcb92304ec71499048447de52.cache\n",
      "Loading model cost 1.005 seconds.\n",
      "Prefix dict has been built successfully.\n"
     ]
    },
    {
     "name": "stdout",
     "output_type": "stream",
     "text": [
      "poncc-debug: 617\n"
     ]
    },
    {
     "name": "stderr",
     "output_type": "stream",
     "text": [
      "Building prefix dict from /Users/poncc/Documents/GitHub/2nd-PyCrawlerMarathon/homework/day038/dict.user.big.txt ...\n",
      "Loading model from cache /var/folders/68/t9g86v0d0ys2rpbv_g1xxrph0000gn/T/jieba.u25b0b9ddcb92304ec71499048447de52.cache\n",
      "Loading model cost 0.998 seconds.\n",
      "Prefix dict has been built successfully.\n"
     ]
    },
    {
     "name": "stdout",
     "output_type": "stream",
     "text": [
      "poncc-debug: 618\n"
     ]
    },
    {
     "name": "stderr",
     "output_type": "stream",
     "text": [
      "Building prefix dict from /Users/poncc/Documents/GitHub/2nd-PyCrawlerMarathon/homework/day038/dict.user.big.txt ...\n",
      "Loading model from cache /var/folders/68/t9g86v0d0ys2rpbv_g1xxrph0000gn/T/jieba.u25b0b9ddcb92304ec71499048447de52.cache\n",
      "Loading model cost 1.017 seconds.\n",
      "Prefix dict has been built successfully.\n"
     ]
    },
    {
     "name": "stdout",
     "output_type": "stream",
     "text": [
      "poncc-debug: 619\n"
     ]
    },
    {
     "name": "stderr",
     "output_type": "stream",
     "text": [
      "Building prefix dict from /Users/poncc/Documents/GitHub/2nd-PyCrawlerMarathon/homework/day038/dict.user.big.txt ...\n",
      "Loading model from cache /var/folders/68/t9g86v0d0ys2rpbv_g1xxrph0000gn/T/jieba.u25b0b9ddcb92304ec71499048447de52.cache\n",
      "Loading model cost 1.011 seconds.\n",
      "Prefix dict has been built successfully.\n"
     ]
    },
    {
     "name": "stdout",
     "output_type": "stream",
     "text": [
      "poncc-debug: 620\n"
     ]
    },
    {
     "name": "stderr",
     "output_type": "stream",
     "text": [
      "Building prefix dict from /Users/poncc/Documents/GitHub/2nd-PyCrawlerMarathon/homework/day038/dict.user.big.txt ...\n",
      "Loading model from cache /var/folders/68/t9g86v0d0ys2rpbv_g1xxrph0000gn/T/jieba.u25b0b9ddcb92304ec71499048447de52.cache\n",
      "Loading model cost 1.003 seconds.\n",
      "Prefix dict has been built successfully.\n"
     ]
    },
    {
     "name": "stdout",
     "output_type": "stream",
     "text": [
      "poncc-debug: 621\n"
     ]
    },
    {
     "name": "stderr",
     "output_type": "stream",
     "text": [
      "Building prefix dict from /Users/poncc/Documents/GitHub/2nd-PyCrawlerMarathon/homework/day038/dict.user.big.txt ...\n",
      "Loading model from cache /var/folders/68/t9g86v0d0ys2rpbv_g1xxrph0000gn/T/jieba.u25b0b9ddcb92304ec71499048447de52.cache\n",
      "Loading model cost 1.004 seconds.\n",
      "Prefix dict has been built successfully.\n"
     ]
    },
    {
     "name": "stdout",
     "output_type": "stream",
     "text": [
      "poncc-debug: 622\n"
     ]
    },
    {
     "name": "stderr",
     "output_type": "stream",
     "text": [
      "Building prefix dict from /Users/poncc/Documents/GitHub/2nd-PyCrawlerMarathon/homework/day038/dict.user.big.txt ...\n",
      "Loading model from cache /var/folders/68/t9g86v0d0ys2rpbv_g1xxrph0000gn/T/jieba.u25b0b9ddcb92304ec71499048447de52.cache\n",
      "Loading model cost 1.006 seconds.\n",
      "Prefix dict has been built successfully.\n"
     ]
    },
    {
     "name": "stdout",
     "output_type": "stream",
     "text": [
      "poncc-debug: 623\n"
     ]
    },
    {
     "name": "stderr",
     "output_type": "stream",
     "text": [
      "Building prefix dict from /Users/poncc/Documents/GitHub/2nd-PyCrawlerMarathon/homework/day038/dict.user.big.txt ...\n",
      "Loading model from cache /var/folders/68/t9g86v0d0ys2rpbv_g1xxrph0000gn/T/jieba.u25b0b9ddcb92304ec71499048447de52.cache\n",
      "Loading model cost 1.002 seconds.\n",
      "Prefix dict has been built successfully.\n"
     ]
    },
    {
     "name": "stdout",
     "output_type": "stream",
     "text": [
      "poncc-debug: 624\n"
     ]
    },
    {
     "name": "stderr",
     "output_type": "stream",
     "text": [
      "Building prefix dict from /Users/poncc/Documents/GitHub/2nd-PyCrawlerMarathon/homework/day038/dict.user.big.txt ...\n",
      "Loading model from cache /var/folders/68/t9g86v0d0ys2rpbv_g1xxrph0000gn/T/jieba.u25b0b9ddcb92304ec71499048447de52.cache\n",
      "Loading model cost 1.007 seconds.\n",
      "Prefix dict has been built successfully.\n"
     ]
    },
    {
     "name": "stdout",
     "output_type": "stream",
     "text": [
      "poncc-debug: 625\n"
     ]
    },
    {
     "name": "stderr",
     "output_type": "stream",
     "text": [
      "Building prefix dict from /Users/poncc/Documents/GitHub/2nd-PyCrawlerMarathon/homework/day038/dict.user.big.txt ...\n",
      "Loading model from cache /var/folders/68/t9g86v0d0ys2rpbv_g1xxrph0000gn/T/jieba.u25b0b9ddcb92304ec71499048447de52.cache\n",
      "Loading model cost 0.996 seconds.\n",
      "Prefix dict has been built successfully.\n"
     ]
    },
    {
     "name": "stdout",
     "output_type": "stream",
     "text": [
      "poncc-debug: 626\n"
     ]
    },
    {
     "name": "stderr",
     "output_type": "stream",
     "text": [
      "Building prefix dict from /Users/poncc/Documents/GitHub/2nd-PyCrawlerMarathon/homework/day038/dict.user.big.txt ...\n",
      "Loading model from cache /var/folders/68/t9g86v0d0ys2rpbv_g1xxrph0000gn/T/jieba.u25b0b9ddcb92304ec71499048447de52.cache\n",
      "Loading model cost 1.009 seconds.\n",
      "Prefix dict has been built successfully.\n"
     ]
    },
    {
     "name": "stdout",
     "output_type": "stream",
     "text": [
      "poncc-debug: 627\n"
     ]
    },
    {
     "name": "stderr",
     "output_type": "stream",
     "text": [
      "Building prefix dict from /Users/poncc/Documents/GitHub/2nd-PyCrawlerMarathon/homework/day038/dict.user.big.txt ...\n",
      "Loading model from cache /var/folders/68/t9g86v0d0ys2rpbv_g1xxrph0000gn/T/jieba.u25b0b9ddcb92304ec71499048447de52.cache\n",
      "Loading model cost 1.018 seconds.\n",
      "Prefix dict has been built successfully.\n"
     ]
    },
    {
     "name": "stdout",
     "output_type": "stream",
     "text": [
      "poncc-debug: 628\n"
     ]
    },
    {
     "name": "stderr",
     "output_type": "stream",
     "text": [
      "Building prefix dict from /Users/poncc/Documents/GitHub/2nd-PyCrawlerMarathon/homework/day038/dict.user.big.txt ...\n",
      "Loading model from cache /var/folders/68/t9g86v0d0ys2rpbv_g1xxrph0000gn/T/jieba.u25b0b9ddcb92304ec71499048447de52.cache\n",
      "Loading model cost 1.002 seconds.\n",
      "Prefix dict has been built successfully.\n"
     ]
    },
    {
     "name": "stdout",
     "output_type": "stream",
     "text": [
      "poncc-debug: 629\n"
     ]
    },
    {
     "name": "stderr",
     "output_type": "stream",
     "text": [
      "Building prefix dict from /Users/poncc/Documents/GitHub/2nd-PyCrawlerMarathon/homework/day038/dict.user.big.txt ...\n",
      "Loading model from cache /var/folders/68/t9g86v0d0ys2rpbv_g1xxrph0000gn/T/jieba.u25b0b9ddcb92304ec71499048447de52.cache\n",
      "Loading model cost 1.019 seconds.\n",
      "Prefix dict has been built successfully.\n",
      "Building prefix dict from /Users/poncc/Documents/GitHub/2nd-PyCrawlerMarathon/homework/day038/dict.user.big.txt ...\n"
     ]
    },
    {
     "name": "stdout",
     "output_type": "stream",
     "text": [
      "poncc-debug: 630\n"
     ]
    },
    {
     "name": "stderr",
     "output_type": "stream",
     "text": [
      "Loading model from cache /var/folders/68/t9g86v0d0ys2rpbv_g1xxrph0000gn/T/jieba.u25b0b9ddcb92304ec71499048447de52.cache\n",
      "Loading model cost 1.022 seconds.\n",
      "Prefix dict has been built successfully.\n"
     ]
    },
    {
     "name": "stdout",
     "output_type": "stream",
     "text": [
      "poncc-debug: 631\n"
     ]
    },
    {
     "name": "stderr",
     "output_type": "stream",
     "text": [
      "Building prefix dict from /Users/poncc/Documents/GitHub/2nd-PyCrawlerMarathon/homework/day038/dict.user.big.txt ...\n",
      "Loading model from cache /var/folders/68/t9g86v0d0ys2rpbv_g1xxrph0000gn/T/jieba.u25b0b9ddcb92304ec71499048447de52.cache\n",
      "Loading model cost 1.007 seconds.\n",
      "Prefix dict has been built successfully.\n"
     ]
    },
    {
     "name": "stdout",
     "output_type": "stream",
     "text": [
      "poncc-debug: 632\n"
     ]
    },
    {
     "name": "stderr",
     "output_type": "stream",
     "text": [
      "Building prefix dict from /Users/poncc/Documents/GitHub/2nd-PyCrawlerMarathon/homework/day038/dict.user.big.txt ...\n",
      "Loading model from cache /var/folders/68/t9g86v0d0ys2rpbv_g1xxrph0000gn/T/jieba.u25b0b9ddcb92304ec71499048447de52.cache\n",
      "Loading model cost 1.007 seconds.\n",
      "Prefix dict has been built successfully.\n"
     ]
    },
    {
     "name": "stdout",
     "output_type": "stream",
     "text": [
      "poncc-debug: 633\n"
     ]
    },
    {
     "name": "stderr",
     "output_type": "stream",
     "text": [
      "Building prefix dict from /Users/poncc/Documents/GitHub/2nd-PyCrawlerMarathon/homework/day038/dict.user.big.txt ...\n",
      "Loading model from cache /var/folders/68/t9g86v0d0ys2rpbv_g1xxrph0000gn/T/jieba.u25b0b9ddcb92304ec71499048447de52.cache\n",
      "Loading model cost 0.996 seconds.\n",
      "Prefix dict has been built successfully.\n"
     ]
    },
    {
     "name": "stdout",
     "output_type": "stream",
     "text": [
      "poncc-debug: 634\n"
     ]
    },
    {
     "name": "stderr",
     "output_type": "stream",
     "text": [
      "Building prefix dict from /Users/poncc/Documents/GitHub/2nd-PyCrawlerMarathon/homework/day038/dict.user.big.txt ...\n",
      "Loading model from cache /var/folders/68/t9g86v0d0ys2rpbv_g1xxrph0000gn/T/jieba.u25b0b9ddcb92304ec71499048447de52.cache\n",
      "Loading model cost 1.002 seconds.\n",
      "Prefix dict has been built successfully.\n"
     ]
    },
    {
     "name": "stdout",
     "output_type": "stream",
     "text": [
      "poncc-debug: 635\n"
     ]
    },
    {
     "name": "stderr",
     "output_type": "stream",
     "text": [
      "Building prefix dict from /Users/poncc/Documents/GitHub/2nd-PyCrawlerMarathon/homework/day038/dict.user.big.txt ...\n",
      "Loading model from cache /var/folders/68/t9g86v0d0ys2rpbv_g1xxrph0000gn/T/jieba.u25b0b9ddcb92304ec71499048447de52.cache\n",
      "Loading model cost 1.023 seconds.\n",
      "Prefix dict has been built successfully.\n"
     ]
    },
    {
     "name": "stdout",
     "output_type": "stream",
     "text": [
      "poncc-debug: 636\n"
     ]
    },
    {
     "name": "stderr",
     "output_type": "stream",
     "text": [
      "Building prefix dict from /Users/poncc/Documents/GitHub/2nd-PyCrawlerMarathon/homework/day038/dict.user.big.txt ...\n",
      "Loading model from cache /var/folders/68/t9g86v0d0ys2rpbv_g1xxrph0000gn/T/jieba.u25b0b9ddcb92304ec71499048447de52.cache\n",
      "Loading model cost 1.019 seconds.\n",
      "Prefix dict has been built successfully.\n"
     ]
    },
    {
     "name": "stdout",
     "output_type": "stream",
     "text": [
      "poncc-debug: 637\n"
     ]
    },
    {
     "name": "stderr",
     "output_type": "stream",
     "text": [
      "Building prefix dict from /Users/poncc/Documents/GitHub/2nd-PyCrawlerMarathon/homework/day038/dict.user.big.txt ...\n",
      "Loading model from cache /var/folders/68/t9g86v0d0ys2rpbv_g1xxrph0000gn/T/jieba.u25b0b9ddcb92304ec71499048447de52.cache\n",
      "Loading model cost 0.998 seconds.\n",
      "Prefix dict has been built successfully.\n"
     ]
    },
    {
     "name": "stdout",
     "output_type": "stream",
     "text": [
      "poncc-debug: 638\n"
     ]
    },
    {
     "name": "stderr",
     "output_type": "stream",
     "text": [
      "Building prefix dict from /Users/poncc/Documents/GitHub/2nd-PyCrawlerMarathon/homework/day038/dict.user.big.txt ...\n",
      "Loading model from cache /var/folders/68/t9g86v0d0ys2rpbv_g1xxrph0000gn/T/jieba.u25b0b9ddcb92304ec71499048447de52.cache\n",
      "Loading model cost 1.011 seconds.\n",
      "Prefix dict has been built successfully.\n",
      "Building prefix dict from /Users/poncc/Documents/GitHub/2nd-PyCrawlerMarathon/homework/day038/dict.user.big.txt ...\n",
      "Loading model from cache /var/folders/68/t9g86v0d0ys2rpbv_g1xxrph0000gn/T/jieba.u25b0b9ddcb92304ec71499048447de52.cache\n"
     ]
    },
    {
     "name": "stdout",
     "output_type": "stream",
     "text": [
      "poncc-debug: 639\n"
     ]
    },
    {
     "name": "stderr",
     "output_type": "stream",
     "text": [
      "Loading model cost 1.031 seconds.\n",
      "Prefix dict has been built successfully.\n"
     ]
    },
    {
     "name": "stdout",
     "output_type": "stream",
     "text": [
      "poncc-debug: 640\n"
     ]
    },
    {
     "name": "stderr",
     "output_type": "stream",
     "text": [
      "Building prefix dict from /Users/poncc/Documents/GitHub/2nd-PyCrawlerMarathon/homework/day038/dict.user.big.txt ...\n",
      "Loading model from cache /var/folders/68/t9g86v0d0ys2rpbv_g1xxrph0000gn/T/jieba.u25b0b9ddcb92304ec71499048447de52.cache\n",
      "Loading model cost 0.996 seconds.\n",
      "Prefix dict has been built successfully.\n"
     ]
    },
    {
     "name": "stdout",
     "output_type": "stream",
     "text": [
      "poncc-debug: 641\n"
     ]
    },
    {
     "name": "stderr",
     "output_type": "stream",
     "text": [
      "Building prefix dict from /Users/poncc/Documents/GitHub/2nd-PyCrawlerMarathon/homework/day038/dict.user.big.txt ...\n",
      "Loading model from cache /var/folders/68/t9g86v0d0ys2rpbv_g1xxrph0000gn/T/jieba.u25b0b9ddcb92304ec71499048447de52.cache\n",
      "Loading model cost 1.011 seconds.\n",
      "Prefix dict has been built successfully.\n"
     ]
    },
    {
     "name": "stdout",
     "output_type": "stream",
     "text": [
      "poncc-debug: 642\n"
     ]
    },
    {
     "name": "stderr",
     "output_type": "stream",
     "text": [
      "Building prefix dict from /Users/poncc/Documents/GitHub/2nd-PyCrawlerMarathon/homework/day038/dict.user.big.txt ...\n",
      "Loading model from cache /var/folders/68/t9g86v0d0ys2rpbv_g1xxrph0000gn/T/jieba.u25b0b9ddcb92304ec71499048447de52.cache\n",
      "Loading model cost 1.008 seconds.\n",
      "Prefix dict has been built successfully.\n"
     ]
    },
    {
     "name": "stdout",
     "output_type": "stream",
     "text": [
      "poncc-debug: 643\n"
     ]
    },
    {
     "name": "stderr",
     "output_type": "stream",
     "text": [
      "Building prefix dict from /Users/poncc/Documents/GitHub/2nd-PyCrawlerMarathon/homework/day038/dict.user.big.txt ...\n",
      "Loading model from cache /var/folders/68/t9g86v0d0ys2rpbv_g1xxrph0000gn/T/jieba.u25b0b9ddcb92304ec71499048447de52.cache\n",
      "Loading model cost 1.007 seconds.\n",
      "Prefix dict has been built successfully.\n"
     ]
    },
    {
     "name": "stdout",
     "output_type": "stream",
     "text": [
      "poncc-debug: 644\n"
     ]
    },
    {
     "name": "stderr",
     "output_type": "stream",
     "text": [
      "Building prefix dict from /Users/poncc/Documents/GitHub/2nd-PyCrawlerMarathon/homework/day038/dict.user.big.txt ...\n",
      "Loading model from cache /var/folders/68/t9g86v0d0ys2rpbv_g1xxrph0000gn/T/jieba.u25b0b9ddcb92304ec71499048447de52.cache\n",
      "Loading model cost 0.995 seconds.\n",
      "Prefix dict has been built successfully.\n"
     ]
    },
    {
     "name": "stdout",
     "output_type": "stream",
     "text": [
      "poncc-debug: 645\n"
     ]
    },
    {
     "name": "stderr",
     "output_type": "stream",
     "text": [
      "Building prefix dict from /Users/poncc/Documents/GitHub/2nd-PyCrawlerMarathon/homework/day038/dict.user.big.txt ...\n",
      "Loading model from cache /var/folders/68/t9g86v0d0ys2rpbv_g1xxrph0000gn/T/jieba.u25b0b9ddcb92304ec71499048447de52.cache\n",
      "Loading model cost 1.025 seconds.\n",
      "Prefix dict has been built successfully.\n"
     ]
    },
    {
     "name": "stdout",
     "output_type": "stream",
     "text": [
      "poncc-debug: 646\n"
     ]
    },
    {
     "name": "stderr",
     "output_type": "stream",
     "text": [
      "Building prefix dict from /Users/poncc/Documents/GitHub/2nd-PyCrawlerMarathon/homework/day038/dict.user.big.txt ...\n",
      "Loading model from cache /var/folders/68/t9g86v0d0ys2rpbv_g1xxrph0000gn/T/jieba.u25b0b9ddcb92304ec71499048447de52.cache\n",
      "Loading model cost 1.006 seconds.\n",
      "Prefix dict has been built successfully.\n"
     ]
    },
    {
     "name": "stdout",
     "output_type": "stream",
     "text": [
      "poncc-debug: 647\n"
     ]
    },
    {
     "name": "stderr",
     "output_type": "stream",
     "text": [
      "Building prefix dict from /Users/poncc/Documents/GitHub/2nd-PyCrawlerMarathon/homework/day038/dict.user.big.txt ...\n",
      "Loading model from cache /var/folders/68/t9g86v0d0ys2rpbv_g1xxrph0000gn/T/jieba.u25b0b9ddcb92304ec71499048447de52.cache\n",
      "Loading model cost 1.009 seconds.\n",
      "Prefix dict has been built successfully.\n"
     ]
    },
    {
     "name": "stdout",
     "output_type": "stream",
     "text": [
      "poncc-debug: 648\n"
     ]
    },
    {
     "name": "stderr",
     "output_type": "stream",
     "text": [
      "Building prefix dict from /Users/poncc/Documents/GitHub/2nd-PyCrawlerMarathon/homework/day038/dict.user.big.txt ...\n",
      "Loading model from cache /var/folders/68/t9g86v0d0ys2rpbv_g1xxrph0000gn/T/jieba.u25b0b9ddcb92304ec71499048447de52.cache\n",
      "Loading model cost 1.009 seconds.\n",
      "Prefix dict has been built successfully.\n"
     ]
    },
    {
     "name": "stdout",
     "output_type": "stream",
     "text": [
      "poncc-debug: 649\n"
     ]
    },
    {
     "name": "stderr",
     "output_type": "stream",
     "text": [
      "Building prefix dict from /Users/poncc/Documents/GitHub/2nd-PyCrawlerMarathon/homework/day038/dict.user.big.txt ...\n",
      "Loading model from cache /var/folders/68/t9g86v0d0ys2rpbv_g1xxrph0000gn/T/jieba.u25b0b9ddcb92304ec71499048447de52.cache\n",
      "Loading model cost 1.009 seconds.\n",
      "Prefix dict has been built successfully.\n"
     ]
    },
    {
     "name": "stdout",
     "output_type": "stream",
     "text": [
      "poncc-debug: 650\n"
     ]
    },
    {
     "name": "stderr",
     "output_type": "stream",
     "text": [
      "Building prefix dict from /Users/poncc/Documents/GitHub/2nd-PyCrawlerMarathon/homework/day038/dict.user.big.txt ...\n",
      "Loading model from cache /var/folders/68/t9g86v0d0ys2rpbv_g1xxrph0000gn/T/jieba.u25b0b9ddcb92304ec71499048447de52.cache\n",
      "Loading model cost 1.009 seconds.\n",
      "Prefix dict has been built successfully.\n",
      "Building prefix dict from /Users/poncc/Documents/GitHub/2nd-PyCrawlerMarathon/homework/day038/dict.user.big.txt ...\n"
     ]
    },
    {
     "name": "stdout",
     "output_type": "stream",
     "text": [
      "poncc-debug: 651\n"
     ]
    },
    {
     "name": "stderr",
     "output_type": "stream",
     "text": [
      "Loading model from cache /var/folders/68/t9g86v0d0ys2rpbv_g1xxrph0000gn/T/jieba.u25b0b9ddcb92304ec71499048447de52.cache\n",
      "Loading model cost 1.015 seconds.\n",
      "Prefix dict has been built successfully.\n"
     ]
    },
    {
     "name": "stdout",
     "output_type": "stream",
     "text": [
      "poncc-debug: 652\n"
     ]
    },
    {
     "name": "stderr",
     "output_type": "stream",
     "text": [
      "Building prefix dict from /Users/poncc/Documents/GitHub/2nd-PyCrawlerMarathon/homework/day038/dict.user.big.txt ...\n",
      "Loading model from cache /var/folders/68/t9g86v0d0ys2rpbv_g1xxrph0000gn/T/jieba.u25b0b9ddcb92304ec71499048447de52.cache\n",
      "Loading model cost 1.007 seconds.\n",
      "Prefix dict has been built successfully.\n"
     ]
    },
    {
     "name": "stdout",
     "output_type": "stream",
     "text": [
      "poncc-debug: 653\n"
     ]
    },
    {
     "name": "stderr",
     "output_type": "stream",
     "text": [
      "Building prefix dict from /Users/poncc/Documents/GitHub/2nd-PyCrawlerMarathon/homework/day038/dict.user.big.txt ...\n",
      "Loading model from cache /var/folders/68/t9g86v0d0ys2rpbv_g1xxrph0000gn/T/jieba.u25b0b9ddcb92304ec71499048447de52.cache\n",
      "Loading model cost 1.010 seconds.\n",
      "Prefix dict has been built successfully.\n"
     ]
    },
    {
     "name": "stdout",
     "output_type": "stream",
     "text": [
      "poncc-debug: 654\n"
     ]
    },
    {
     "name": "stderr",
     "output_type": "stream",
     "text": [
      "Building prefix dict from /Users/poncc/Documents/GitHub/2nd-PyCrawlerMarathon/homework/day038/dict.user.big.txt ...\n",
      "Loading model from cache /var/folders/68/t9g86v0d0ys2rpbv_g1xxrph0000gn/T/jieba.u25b0b9ddcb92304ec71499048447de52.cache\n",
      "Loading model cost 1.024 seconds.\n",
      "Prefix dict has been built successfully.\n"
     ]
    },
    {
     "name": "stdout",
     "output_type": "stream",
     "text": [
      "poncc-debug: 655\n"
     ]
    },
    {
     "name": "stderr",
     "output_type": "stream",
     "text": [
      "Building prefix dict from /Users/poncc/Documents/GitHub/2nd-PyCrawlerMarathon/homework/day038/dict.user.big.txt ...\n",
      "Loading model from cache /var/folders/68/t9g86v0d0ys2rpbv_g1xxrph0000gn/T/jieba.u25b0b9ddcb92304ec71499048447de52.cache\n",
      "Loading model cost 1.001 seconds.\n",
      "Prefix dict has been built successfully.\n"
     ]
    },
    {
     "name": "stdout",
     "output_type": "stream",
     "text": [
      "poncc-debug: 656\n"
     ]
    },
    {
     "name": "stderr",
     "output_type": "stream",
     "text": [
      "Building prefix dict from /Users/poncc/Documents/GitHub/2nd-PyCrawlerMarathon/homework/day038/dict.user.big.txt ...\n",
      "Loading model from cache /var/folders/68/t9g86v0d0ys2rpbv_g1xxrph0000gn/T/jieba.u25b0b9ddcb92304ec71499048447de52.cache\n",
      "Loading model cost 1.017 seconds.\n",
      "Prefix dict has been built successfully.\n"
     ]
    },
    {
     "name": "stdout",
     "output_type": "stream",
     "text": [
      "poncc-debug: 657\n"
     ]
    },
    {
     "name": "stderr",
     "output_type": "stream",
     "text": [
      "Building prefix dict from /Users/poncc/Documents/GitHub/2nd-PyCrawlerMarathon/homework/day038/dict.user.big.txt ...\n",
      "Loading model from cache /var/folders/68/t9g86v0d0ys2rpbv_g1xxrph0000gn/T/jieba.u25b0b9ddcb92304ec71499048447de52.cache\n",
      "Loading model cost 1.024 seconds.\n",
      "Prefix dict has been built successfully.\n"
     ]
    },
    {
     "name": "stdout",
     "output_type": "stream",
     "text": [
      "poncc-debug: 658\n"
     ]
    },
    {
     "name": "stderr",
     "output_type": "stream",
     "text": [
      "Building prefix dict from /Users/poncc/Documents/GitHub/2nd-PyCrawlerMarathon/homework/day038/dict.user.big.txt ...\n",
      "Loading model from cache /var/folders/68/t9g86v0d0ys2rpbv_g1xxrph0000gn/T/jieba.u25b0b9ddcb92304ec71499048447de52.cache\n",
      "Loading model cost 1.003 seconds.\n",
      "Prefix dict has been built successfully.\n"
     ]
    },
    {
     "name": "stdout",
     "output_type": "stream",
     "text": [
      "poncc-debug: 659\n"
     ]
    },
    {
     "name": "stderr",
     "output_type": "stream",
     "text": [
      "Building prefix dict from /Users/poncc/Documents/GitHub/2nd-PyCrawlerMarathon/homework/day038/dict.user.big.txt ...\n",
      "Loading model from cache /var/folders/68/t9g86v0d0ys2rpbv_g1xxrph0000gn/T/jieba.u25b0b9ddcb92304ec71499048447de52.cache\n",
      "Loading model cost 1.042 seconds.\n",
      "Prefix dict has been built successfully.\n"
     ]
    },
    {
     "name": "stdout",
     "output_type": "stream",
     "text": [
      "poncc-debug: 660\n"
     ]
    },
    {
     "name": "stderr",
     "output_type": "stream",
     "text": [
      "Building prefix dict from /Users/poncc/Documents/GitHub/2nd-PyCrawlerMarathon/homework/day038/dict.user.big.txt ...\n",
      "Loading model from cache /var/folders/68/t9g86v0d0ys2rpbv_g1xxrph0000gn/T/jieba.u25b0b9ddcb92304ec71499048447de52.cache\n",
      "Loading model cost 1.023 seconds.\n",
      "Prefix dict has been built successfully.\n"
     ]
    },
    {
     "name": "stdout",
     "output_type": "stream",
     "text": [
      "poncc-debug: 661\n"
     ]
    },
    {
     "name": "stderr",
     "output_type": "stream",
     "text": [
      "Building prefix dict from /Users/poncc/Documents/GitHub/2nd-PyCrawlerMarathon/homework/day038/dict.user.big.txt ...\n",
      "Loading model from cache /var/folders/68/t9g86v0d0ys2rpbv_g1xxrph0000gn/T/jieba.u25b0b9ddcb92304ec71499048447de52.cache\n",
      "Loading model cost 1.017 seconds.\n",
      "Prefix dict has been built successfully.\n"
     ]
    },
    {
     "name": "stdout",
     "output_type": "stream",
     "text": [
      "poncc-debug: 662\n"
     ]
    },
    {
     "name": "stderr",
     "output_type": "stream",
     "text": [
      "Building prefix dict from /Users/poncc/Documents/GitHub/2nd-PyCrawlerMarathon/homework/day038/dict.user.big.txt ...\n",
      "Loading model from cache /var/folders/68/t9g86v0d0ys2rpbv_g1xxrph0000gn/T/jieba.u25b0b9ddcb92304ec71499048447de52.cache\n",
      "Loading model cost 1.048 seconds.\n",
      "Prefix dict has been built successfully.\n"
     ]
    },
    {
     "name": "stdout",
     "output_type": "stream",
     "text": [
      "poncc-debug: 663\n"
     ]
    },
    {
     "name": "stderr",
     "output_type": "stream",
     "text": [
      "Building prefix dict from /Users/poncc/Documents/GitHub/2nd-PyCrawlerMarathon/homework/day038/dict.user.big.txt ...\n",
      "Loading model from cache /var/folders/68/t9g86v0d0ys2rpbv_g1xxrph0000gn/T/jieba.u25b0b9ddcb92304ec71499048447de52.cache\n",
      "Loading model cost 0.996 seconds.\n",
      "Prefix dict has been built successfully.\n"
     ]
    },
    {
     "name": "stdout",
     "output_type": "stream",
     "text": [
      "poncc-debug: 664\n"
     ]
    },
    {
     "name": "stderr",
     "output_type": "stream",
     "text": [
      "Building prefix dict from /Users/poncc/Documents/GitHub/2nd-PyCrawlerMarathon/homework/day038/dict.user.big.txt ...\n",
      "Loading model from cache /var/folders/68/t9g86v0d0ys2rpbv_g1xxrph0000gn/T/jieba.u25b0b9ddcb92304ec71499048447de52.cache\n",
      "Loading model cost 1.006 seconds.\n",
      "Prefix dict has been built successfully.\n"
     ]
    },
    {
     "name": "stdout",
     "output_type": "stream",
     "text": [
      "poncc-debug: 665\n"
     ]
    },
    {
     "name": "stderr",
     "output_type": "stream",
     "text": [
      "Building prefix dict from /Users/poncc/Documents/GitHub/2nd-PyCrawlerMarathon/homework/day038/dict.user.big.txt ...\n",
      "Loading model from cache /var/folders/68/t9g86v0d0ys2rpbv_g1xxrph0000gn/T/jieba.u25b0b9ddcb92304ec71499048447de52.cache\n",
      "Loading model cost 1.026 seconds.\n",
      "Prefix dict has been built successfully.\n"
     ]
    },
    {
     "name": "stdout",
     "output_type": "stream",
     "text": [
      "poncc-debug: 666\n"
     ]
    },
    {
     "name": "stderr",
     "output_type": "stream",
     "text": [
      "Building prefix dict from /Users/poncc/Documents/GitHub/2nd-PyCrawlerMarathon/homework/day038/dict.user.big.txt ...\n",
      "Loading model from cache /var/folders/68/t9g86v0d0ys2rpbv_g1xxrph0000gn/T/jieba.u25b0b9ddcb92304ec71499048447de52.cache\n",
      "Loading model cost 1.042 seconds.\n",
      "Prefix dict has been built successfully.\n"
     ]
    },
    {
     "name": "stdout",
     "output_type": "stream",
     "text": [
      "poncc-debug: 667\n"
     ]
    },
    {
     "name": "stderr",
     "output_type": "stream",
     "text": [
      "Building prefix dict from /Users/poncc/Documents/GitHub/2nd-PyCrawlerMarathon/homework/day038/dict.user.big.txt ...\n",
      "Loading model from cache /var/folders/68/t9g86v0d0ys2rpbv_g1xxrph0000gn/T/jieba.u25b0b9ddcb92304ec71499048447de52.cache\n",
      "Loading model cost 1.012 seconds.\n",
      "Prefix dict has been built successfully.\n"
     ]
    },
    {
     "name": "stdout",
     "output_type": "stream",
     "text": [
      "poncc-debug: 668\n"
     ]
    },
    {
     "name": "stderr",
     "output_type": "stream",
     "text": [
      "Building prefix dict from /Users/poncc/Documents/GitHub/2nd-PyCrawlerMarathon/homework/day038/dict.user.big.txt ...\n",
      "Loading model from cache /var/folders/68/t9g86v0d0ys2rpbv_g1xxrph0000gn/T/jieba.u25b0b9ddcb92304ec71499048447de52.cache\n",
      "Loading model cost 1.009 seconds.\n",
      "Prefix dict has been built successfully.\n"
     ]
    },
    {
     "name": "stdout",
     "output_type": "stream",
     "text": [
      "poncc-debug: 669\n"
     ]
    },
    {
     "name": "stderr",
     "output_type": "stream",
     "text": [
      "Building prefix dict from /Users/poncc/Documents/GitHub/2nd-PyCrawlerMarathon/homework/day038/dict.user.big.txt ...\n",
      "Loading model from cache /var/folders/68/t9g86v0d0ys2rpbv_g1xxrph0000gn/T/jieba.u25b0b9ddcb92304ec71499048447de52.cache\n",
      "Loading model cost 1.001 seconds.\n",
      "Prefix dict has been built successfully.\n"
     ]
    },
    {
     "name": "stdout",
     "output_type": "stream",
     "text": [
      "poncc-debug: 670\n"
     ]
    },
    {
     "name": "stderr",
     "output_type": "stream",
     "text": [
      "Building prefix dict from /Users/poncc/Documents/GitHub/2nd-PyCrawlerMarathon/homework/day038/dict.user.big.txt ...\n",
      "Loading model from cache /var/folders/68/t9g86v0d0ys2rpbv_g1xxrph0000gn/T/jieba.u25b0b9ddcb92304ec71499048447de52.cache\n",
      "Loading model cost 0.996 seconds.\n",
      "Prefix dict has been built successfully.\n"
     ]
    },
    {
     "name": "stdout",
     "output_type": "stream",
     "text": [
      "poncc-debug: 671\n"
     ]
    },
    {
     "name": "stderr",
     "output_type": "stream",
     "text": [
      "Building prefix dict from /Users/poncc/Documents/GitHub/2nd-PyCrawlerMarathon/homework/day038/dict.user.big.txt ...\n",
      "Loading model from cache /var/folders/68/t9g86v0d0ys2rpbv_g1xxrph0000gn/T/jieba.u25b0b9ddcb92304ec71499048447de52.cache\n",
      "Loading model cost 1.003 seconds.\n",
      "Prefix dict has been built successfully.\n"
     ]
    },
    {
     "name": "stdout",
     "output_type": "stream",
     "text": [
      "poncc-debug: 672\n"
     ]
    },
    {
     "name": "stderr",
     "output_type": "stream",
     "text": [
      "Building prefix dict from /Users/poncc/Documents/GitHub/2nd-PyCrawlerMarathon/homework/day038/dict.user.big.txt ...\n",
      "Loading model from cache /var/folders/68/t9g86v0d0ys2rpbv_g1xxrph0000gn/T/jieba.u25b0b9ddcb92304ec71499048447de52.cache\n",
      "Loading model cost 0.994 seconds.\n",
      "Prefix dict has been built successfully.\n"
     ]
    },
    {
     "name": "stdout",
     "output_type": "stream",
     "text": [
      "poncc-debug: 673\n"
     ]
    },
    {
     "name": "stderr",
     "output_type": "stream",
     "text": [
      "Building prefix dict from /Users/poncc/Documents/GitHub/2nd-PyCrawlerMarathon/homework/day038/dict.user.big.txt ...\n",
      "Loading model from cache /var/folders/68/t9g86v0d0ys2rpbv_g1xxrph0000gn/T/jieba.u25b0b9ddcb92304ec71499048447de52.cache\n",
      "Loading model cost 1.010 seconds.\n",
      "Prefix dict has been built successfully.\n"
     ]
    },
    {
     "name": "stdout",
     "output_type": "stream",
     "text": [
      "poncc-debug: 674\n"
     ]
    },
    {
     "name": "stderr",
     "output_type": "stream",
     "text": [
      "Building prefix dict from /Users/poncc/Documents/GitHub/2nd-PyCrawlerMarathon/homework/day038/dict.user.big.txt ...\n",
      "Loading model from cache /var/folders/68/t9g86v0d0ys2rpbv_g1xxrph0000gn/T/jieba.u25b0b9ddcb92304ec71499048447de52.cache\n",
      "Loading model cost 1.010 seconds.\n",
      "Prefix dict has been built successfully.\n"
     ]
    },
    {
     "name": "stdout",
     "output_type": "stream",
     "text": [
      "poncc-debug: 675\n"
     ]
    },
    {
     "name": "stderr",
     "output_type": "stream",
     "text": [
      "Building prefix dict from /Users/poncc/Documents/GitHub/2nd-PyCrawlerMarathon/homework/day038/dict.user.big.txt ...\n",
      "Loading model from cache /var/folders/68/t9g86v0d0ys2rpbv_g1xxrph0000gn/T/jieba.u25b0b9ddcb92304ec71499048447de52.cache\n",
      "Loading model cost 1.011 seconds.\n",
      "Prefix dict has been built successfully.\n"
     ]
    },
    {
     "name": "stdout",
     "output_type": "stream",
     "text": [
      "poncc-debug: 676\n"
     ]
    },
    {
     "name": "stderr",
     "output_type": "stream",
     "text": [
      "Building prefix dict from /Users/poncc/Documents/GitHub/2nd-PyCrawlerMarathon/homework/day038/dict.user.big.txt ...\n",
      "Loading model from cache /var/folders/68/t9g86v0d0ys2rpbv_g1xxrph0000gn/T/jieba.u25b0b9ddcb92304ec71499048447de52.cache\n",
      "Loading model cost 1.010 seconds.\n",
      "Prefix dict has been built successfully.\n"
     ]
    },
    {
     "name": "stdout",
     "output_type": "stream",
     "text": [
      "poncc-debug: 677\n"
     ]
    },
    {
     "name": "stderr",
     "output_type": "stream",
     "text": [
      "Building prefix dict from /Users/poncc/Documents/GitHub/2nd-PyCrawlerMarathon/homework/day038/dict.user.big.txt ...\n",
      "Loading model from cache /var/folders/68/t9g86v0d0ys2rpbv_g1xxrph0000gn/T/jieba.u25b0b9ddcb92304ec71499048447de52.cache\n",
      "Loading model cost 1.000 seconds.\n",
      "Prefix dict has been built successfully.\n"
     ]
    },
    {
     "name": "stdout",
     "output_type": "stream",
     "text": [
      "poncc-debug: 678\n"
     ]
    },
    {
     "name": "stderr",
     "output_type": "stream",
     "text": [
      "Building prefix dict from /Users/poncc/Documents/GitHub/2nd-PyCrawlerMarathon/homework/day038/dict.user.big.txt ...\n",
      "Loading model from cache /var/folders/68/t9g86v0d0ys2rpbv_g1xxrph0000gn/T/jieba.u25b0b9ddcb92304ec71499048447de52.cache\n",
      "Loading model cost 1.005 seconds.\n",
      "Prefix dict has been built successfully.\n"
     ]
    },
    {
     "name": "stdout",
     "output_type": "stream",
     "text": [
      "poncc-debug: 679\n"
     ]
    },
    {
     "name": "stderr",
     "output_type": "stream",
     "text": [
      "Building prefix dict from /Users/poncc/Documents/GitHub/2nd-PyCrawlerMarathon/homework/day038/dict.user.big.txt ...\n",
      "Loading model from cache /var/folders/68/t9g86v0d0ys2rpbv_g1xxrph0000gn/T/jieba.u25b0b9ddcb92304ec71499048447de52.cache\n",
      "Loading model cost 1.001 seconds.\n",
      "Prefix dict has been built successfully.\n",
      "Building prefix dict from /Users/poncc/Documents/GitHub/2nd-PyCrawlerMarathon/homework/day038/dict.user.big.txt ...\n",
      "Loading model from cache /var/folders/68/t9g86v0d0ys2rpbv_g1xxrph0000gn/T/jieba.u25b0b9ddcb92304ec71499048447de52.cache\n"
     ]
    },
    {
     "name": "stdout",
     "output_type": "stream",
     "text": [
      "poncc-debug: 680\n"
     ]
    },
    {
     "name": "stderr",
     "output_type": "stream",
     "text": [
      "Loading model cost 0.994 seconds.\n",
      "Prefix dict has been built successfully.\n"
     ]
    },
    {
     "name": "stdout",
     "output_type": "stream",
     "text": [
      "poncc-debug: 681\n"
     ]
    },
    {
     "name": "stderr",
     "output_type": "stream",
     "text": [
      "Building prefix dict from /Users/poncc/Documents/GitHub/2nd-PyCrawlerMarathon/homework/day038/dict.user.big.txt ...\n",
      "Loading model from cache /var/folders/68/t9g86v0d0ys2rpbv_g1xxrph0000gn/T/jieba.u25b0b9ddcb92304ec71499048447de52.cache\n",
      "Loading model cost 1.001 seconds.\n",
      "Prefix dict has been built successfully.\n"
     ]
    },
    {
     "name": "stdout",
     "output_type": "stream",
     "text": [
      "poncc-debug: 682\n"
     ]
    },
    {
     "name": "stderr",
     "output_type": "stream",
     "text": [
      "Building prefix dict from /Users/poncc/Documents/GitHub/2nd-PyCrawlerMarathon/homework/day038/dict.user.big.txt ...\n",
      "Loading model from cache /var/folders/68/t9g86v0d0ys2rpbv_g1xxrph0000gn/T/jieba.u25b0b9ddcb92304ec71499048447de52.cache\n",
      "Loading model cost 0.999 seconds.\n",
      "Prefix dict has been built successfully.\n"
     ]
    },
    {
     "name": "stdout",
     "output_type": "stream",
     "text": [
      "poncc-debug: 683\n"
     ]
    },
    {
     "name": "stderr",
     "output_type": "stream",
     "text": [
      "Building prefix dict from /Users/poncc/Documents/GitHub/2nd-PyCrawlerMarathon/homework/day038/dict.user.big.txt ...\n",
      "Loading model from cache /var/folders/68/t9g86v0d0ys2rpbv_g1xxrph0000gn/T/jieba.u25b0b9ddcb92304ec71499048447de52.cache\n",
      "Loading model cost 1.001 seconds.\n",
      "Prefix dict has been built successfully.\n"
     ]
    },
    {
     "name": "stdout",
     "output_type": "stream",
     "text": [
      "poncc-debug: 684\n"
     ]
    },
    {
     "name": "stderr",
     "output_type": "stream",
     "text": [
      "Building prefix dict from /Users/poncc/Documents/GitHub/2nd-PyCrawlerMarathon/homework/day038/dict.user.big.txt ...\n",
      "Loading model from cache /var/folders/68/t9g86v0d0ys2rpbv_g1xxrph0000gn/T/jieba.u25b0b9ddcb92304ec71499048447de52.cache\n",
      "Loading model cost 0.985 seconds.\n",
      "Prefix dict has been built successfully.\n"
     ]
    },
    {
     "name": "stdout",
     "output_type": "stream",
     "text": [
      "poncc-debug: 685\n"
     ]
    },
    {
     "name": "stderr",
     "output_type": "stream",
     "text": [
      "Building prefix dict from /Users/poncc/Documents/GitHub/2nd-PyCrawlerMarathon/homework/day038/dict.user.big.txt ...\n",
      "Loading model from cache /var/folders/68/t9g86v0d0ys2rpbv_g1xxrph0000gn/T/jieba.u25b0b9ddcb92304ec71499048447de52.cache\n",
      "Loading model cost 1.004 seconds.\n",
      "Prefix dict has been built successfully.\n"
     ]
    },
    {
     "name": "stdout",
     "output_type": "stream",
     "text": [
      "poncc-debug: 686\n"
     ]
    },
    {
     "name": "stderr",
     "output_type": "stream",
     "text": [
      "Building prefix dict from /Users/poncc/Documents/GitHub/2nd-PyCrawlerMarathon/homework/day038/dict.user.big.txt ...\n",
      "Loading model from cache /var/folders/68/t9g86v0d0ys2rpbv_g1xxrph0000gn/T/jieba.u25b0b9ddcb92304ec71499048447de52.cache\n",
      "Loading model cost 1.003 seconds.\n",
      "Prefix dict has been built successfully.\n"
     ]
    },
    {
     "name": "stdout",
     "output_type": "stream",
     "text": [
      "poncc-debug: 687\n"
     ]
    },
    {
     "name": "stderr",
     "output_type": "stream",
     "text": [
      "Building prefix dict from /Users/poncc/Documents/GitHub/2nd-PyCrawlerMarathon/homework/day038/dict.user.big.txt ...\n",
      "Loading model from cache /var/folders/68/t9g86v0d0ys2rpbv_g1xxrph0000gn/T/jieba.u25b0b9ddcb92304ec71499048447de52.cache\n",
      "Loading model cost 0.999 seconds.\n",
      "Prefix dict has been built successfully.\n"
     ]
    },
    {
     "name": "stdout",
     "output_type": "stream",
     "text": [
      "poncc-debug: 688\n"
     ]
    },
    {
     "name": "stderr",
     "output_type": "stream",
     "text": [
      "Building prefix dict from /Users/poncc/Documents/GitHub/2nd-PyCrawlerMarathon/homework/day038/dict.user.big.txt ...\n",
      "Loading model from cache /var/folders/68/t9g86v0d0ys2rpbv_g1xxrph0000gn/T/jieba.u25b0b9ddcb92304ec71499048447de52.cache\n",
      "Loading model cost 0.991 seconds.\n",
      "Prefix dict has been built successfully.\n",
      "Building prefix dict from /Users/poncc/Documents/GitHub/2nd-PyCrawlerMarathon/homework/day038/dict.user.big.txt ...\n"
     ]
    },
    {
     "name": "stdout",
     "output_type": "stream",
     "text": [
      "poncc-debug: 689\n"
     ]
    },
    {
     "name": "stderr",
     "output_type": "stream",
     "text": [
      "Loading model from cache /var/folders/68/t9g86v0d0ys2rpbv_g1xxrph0000gn/T/jieba.u25b0b9ddcb92304ec71499048447de52.cache\n",
      "Loading model cost 1.003 seconds.\n",
      "Prefix dict has been built successfully.\n"
     ]
    },
    {
     "name": "stdout",
     "output_type": "stream",
     "text": [
      "poncc-debug: 690\n"
     ]
    },
    {
     "name": "stderr",
     "output_type": "stream",
     "text": [
      "Building prefix dict from /Users/poncc/Documents/GitHub/2nd-PyCrawlerMarathon/homework/day038/dict.user.big.txt ...\n",
      "Loading model from cache /var/folders/68/t9g86v0d0ys2rpbv_g1xxrph0000gn/T/jieba.u25b0b9ddcb92304ec71499048447de52.cache\n",
      "Loading model cost 1.006 seconds.\n",
      "Prefix dict has been built successfully.\n"
     ]
    },
    {
     "name": "stdout",
     "output_type": "stream",
     "text": [
      "poncc-debug: 691\n"
     ]
    },
    {
     "name": "stderr",
     "output_type": "stream",
     "text": [
      "Building prefix dict from /Users/poncc/Documents/GitHub/2nd-PyCrawlerMarathon/homework/day038/dict.user.big.txt ...\n",
      "Loading model from cache /var/folders/68/t9g86v0d0ys2rpbv_g1xxrph0000gn/T/jieba.u25b0b9ddcb92304ec71499048447de52.cache\n",
      "Loading model cost 1.003 seconds.\n",
      "Prefix dict has been built successfully.\n"
     ]
    },
    {
     "name": "stdout",
     "output_type": "stream",
     "text": [
      "poncc-debug: 692\n"
     ]
    },
    {
     "name": "stderr",
     "output_type": "stream",
     "text": [
      "Building prefix dict from /Users/poncc/Documents/GitHub/2nd-PyCrawlerMarathon/homework/day038/dict.user.big.txt ...\n",
      "Loading model from cache /var/folders/68/t9g86v0d0ys2rpbv_g1xxrph0000gn/T/jieba.u25b0b9ddcb92304ec71499048447de52.cache\n",
      "Loading model cost 0.997 seconds.\n",
      "Prefix dict has been built successfully.\n"
     ]
    },
    {
     "name": "stdout",
     "output_type": "stream",
     "text": [
      "poncc-debug: 693\n"
     ]
    },
    {
     "name": "stderr",
     "output_type": "stream",
     "text": [
      "Building prefix dict from /Users/poncc/Documents/GitHub/2nd-PyCrawlerMarathon/homework/day038/dict.user.big.txt ...\n",
      "Loading model from cache /var/folders/68/t9g86v0d0ys2rpbv_g1xxrph0000gn/T/jieba.u25b0b9ddcb92304ec71499048447de52.cache\n",
      "Loading model cost 1.000 seconds.\n",
      "Prefix dict has been built successfully.\n"
     ]
    },
    {
     "name": "stdout",
     "output_type": "stream",
     "text": [
      "poncc-debug: 694\n"
     ]
    },
    {
     "name": "stderr",
     "output_type": "stream",
     "text": [
      "Building prefix dict from /Users/poncc/Documents/GitHub/2nd-PyCrawlerMarathon/homework/day038/dict.user.big.txt ...\n",
      "Loading model from cache /var/folders/68/t9g86v0d0ys2rpbv_g1xxrph0000gn/T/jieba.u25b0b9ddcb92304ec71499048447de52.cache\n",
      "Loading model cost 1.011 seconds.\n",
      "Prefix dict has been built successfully.\n"
     ]
    },
    {
     "name": "stdout",
     "output_type": "stream",
     "text": [
      "poncc-debug: 695\n"
     ]
    },
    {
     "name": "stderr",
     "output_type": "stream",
     "text": [
      "Building prefix dict from /Users/poncc/Documents/GitHub/2nd-PyCrawlerMarathon/homework/day038/dict.user.big.txt ...\n",
      "Loading model from cache /var/folders/68/t9g86v0d0ys2rpbv_g1xxrph0000gn/T/jieba.u25b0b9ddcb92304ec71499048447de52.cache\n",
      "Loading model cost 1.001 seconds.\n",
      "Prefix dict has been built successfully.\n"
     ]
    },
    {
     "name": "stdout",
     "output_type": "stream",
     "text": [
      "poncc-debug: 696\n"
     ]
    },
    {
     "name": "stderr",
     "output_type": "stream",
     "text": [
      "Building prefix dict from /Users/poncc/Documents/GitHub/2nd-PyCrawlerMarathon/homework/day038/dict.user.big.txt ...\n",
      "Loading model from cache /var/folders/68/t9g86v0d0ys2rpbv_g1xxrph0000gn/T/jieba.u25b0b9ddcb92304ec71499048447de52.cache\n",
      "Loading model cost 0.993 seconds.\n",
      "Prefix dict has been built successfully.\n"
     ]
    },
    {
     "name": "stdout",
     "output_type": "stream",
     "text": [
      "poncc-debug: 697\n"
     ]
    },
    {
     "name": "stderr",
     "output_type": "stream",
     "text": [
      "Building prefix dict from /Users/poncc/Documents/GitHub/2nd-PyCrawlerMarathon/homework/day038/dict.user.big.txt ...\n",
      "Loading model from cache /var/folders/68/t9g86v0d0ys2rpbv_g1xxrph0000gn/T/jieba.u25b0b9ddcb92304ec71499048447de52.cache\n",
      "Loading model cost 0.992 seconds.\n",
      "Prefix dict has been built successfully.\n"
     ]
    },
    {
     "name": "stdout",
     "output_type": "stream",
     "text": [
      "poncc-debug: 698\n"
     ]
    },
    {
     "name": "stderr",
     "output_type": "stream",
     "text": [
      "Building prefix dict from /Users/poncc/Documents/GitHub/2nd-PyCrawlerMarathon/homework/day038/dict.user.big.txt ...\n",
      "Loading model from cache /var/folders/68/t9g86v0d0ys2rpbv_g1xxrph0000gn/T/jieba.u25b0b9ddcb92304ec71499048447de52.cache\n",
      "Loading model cost 1.028 seconds.\n",
      "Prefix dict has been built successfully.\n"
     ]
    },
    {
     "name": "stdout",
     "output_type": "stream",
     "text": [
      "poncc-debug: 699\n"
     ]
    },
    {
     "name": "stderr",
     "output_type": "stream",
     "text": [
      "Building prefix dict from /Users/poncc/Documents/GitHub/2nd-PyCrawlerMarathon/homework/day038/dict.user.big.txt ...\n",
      "Loading model from cache /var/folders/68/t9g86v0d0ys2rpbv_g1xxrph0000gn/T/jieba.u25b0b9ddcb92304ec71499048447de52.cache\n",
      "Loading model cost 1.009 seconds.\n",
      "Prefix dict has been built successfully.\n"
     ]
    },
    {
     "name": "stdout",
     "output_type": "stream",
     "text": [
      "poncc-debug: 700\n"
     ]
    },
    {
     "name": "stderr",
     "output_type": "stream",
     "text": [
      "Building prefix dict from /Users/poncc/Documents/GitHub/2nd-PyCrawlerMarathon/homework/day038/dict.user.big.txt ...\n",
      "Loading model from cache /var/folders/68/t9g86v0d0ys2rpbv_g1xxrph0000gn/T/jieba.u25b0b9ddcb92304ec71499048447de52.cache\n",
      "Loading model cost 1.013 seconds.\n",
      "Prefix dict has been built successfully.\n",
      "Building prefix dict from /Users/poncc/Documents/GitHub/2nd-PyCrawlerMarathon/homework/day038/dict.user.big.txt ...\n",
      "Loading model from cache /var/folders/68/t9g86v0d0ys2rpbv_g1xxrph0000gn/T/jieba.u25b0b9ddcb92304ec71499048447de52.cache\n"
     ]
    },
    {
     "name": "stdout",
     "output_type": "stream",
     "text": [
      "poncc-debug: 701\n"
     ]
    },
    {
     "name": "stderr",
     "output_type": "stream",
     "text": [
      "Loading model cost 1.011 seconds.\n",
      "Prefix dict has been built successfully.\n"
     ]
    },
    {
     "name": "stdout",
     "output_type": "stream",
     "text": [
      "poncc-debug: 702\n"
     ]
    },
    {
     "name": "stderr",
     "output_type": "stream",
     "text": [
      "Building prefix dict from /Users/poncc/Documents/GitHub/2nd-PyCrawlerMarathon/homework/day038/dict.user.big.txt ...\n",
      "Loading model from cache /var/folders/68/t9g86v0d0ys2rpbv_g1xxrph0000gn/T/jieba.u25b0b9ddcb92304ec71499048447de52.cache\n",
      "Loading model cost 1.021 seconds.\n",
      "Prefix dict has been built successfully.\n"
     ]
    },
    {
     "name": "stdout",
     "output_type": "stream",
     "text": [
      "poncc-debug: 703\n"
     ]
    },
    {
     "name": "stderr",
     "output_type": "stream",
     "text": [
      "Building prefix dict from /Users/poncc/Documents/GitHub/2nd-PyCrawlerMarathon/homework/day038/dict.user.big.txt ...\n",
      "Loading model from cache /var/folders/68/t9g86v0d0ys2rpbv_g1xxrph0000gn/T/jieba.u25b0b9ddcb92304ec71499048447de52.cache\n",
      "Loading model cost 1.020 seconds.\n",
      "Prefix dict has been built successfully.\n"
     ]
    },
    {
     "name": "stdout",
     "output_type": "stream",
     "text": [
      "poncc-debug: 704\n"
     ]
    },
    {
     "name": "stderr",
     "output_type": "stream",
     "text": [
      "Building prefix dict from /Users/poncc/Documents/GitHub/2nd-PyCrawlerMarathon/homework/day038/dict.user.big.txt ...\n",
      "Loading model from cache /var/folders/68/t9g86v0d0ys2rpbv_g1xxrph0000gn/T/jieba.u25b0b9ddcb92304ec71499048447de52.cache\n",
      "Loading model cost 1.060 seconds.\n",
      "Prefix dict has been built successfully.\n"
     ]
    },
    {
     "name": "stdout",
     "output_type": "stream",
     "text": [
      "poncc-debug: 705\n"
     ]
    },
    {
     "name": "stderr",
     "output_type": "stream",
     "text": [
      "Building prefix dict from /Users/poncc/Documents/GitHub/2nd-PyCrawlerMarathon/homework/day038/dict.user.big.txt ...\n",
      "Loading model from cache /var/folders/68/t9g86v0d0ys2rpbv_g1xxrph0000gn/T/jieba.u25b0b9ddcb92304ec71499048447de52.cache\n",
      "Loading model cost 1.070 seconds.\n",
      "Prefix dict has been built successfully.\n"
     ]
    },
    {
     "name": "stdout",
     "output_type": "stream",
     "text": [
      "poncc-debug: 706\n"
     ]
    },
    {
     "name": "stderr",
     "output_type": "stream",
     "text": [
      "Building prefix dict from /Users/poncc/Documents/GitHub/2nd-PyCrawlerMarathon/homework/day038/dict.user.big.txt ...\n",
      "Loading model from cache /var/folders/68/t9g86v0d0ys2rpbv_g1xxrph0000gn/T/jieba.u25b0b9ddcb92304ec71499048447de52.cache\n",
      "Loading model cost 1.061 seconds.\n",
      "Prefix dict has been built successfully.\n"
     ]
    },
    {
     "name": "stdout",
     "output_type": "stream",
     "text": [
      "poncc-debug: 707\n"
     ]
    },
    {
     "name": "stderr",
     "output_type": "stream",
     "text": [
      "Building prefix dict from /Users/poncc/Documents/GitHub/2nd-PyCrawlerMarathon/homework/day038/dict.user.big.txt ...\n",
      "Loading model from cache /var/folders/68/t9g86v0d0ys2rpbv_g1xxrph0000gn/T/jieba.u25b0b9ddcb92304ec71499048447de52.cache\n",
      "Loading model cost 1.084 seconds.\n",
      "Prefix dict has been built successfully.\n"
     ]
    },
    {
     "name": "stdout",
     "output_type": "stream",
     "text": [
      "poncc-debug: 708\n"
     ]
    },
    {
     "name": "stderr",
     "output_type": "stream",
     "text": [
      "Building prefix dict from /Users/poncc/Documents/GitHub/2nd-PyCrawlerMarathon/homework/day038/dict.user.big.txt ...\n",
      "Loading model from cache /var/folders/68/t9g86v0d0ys2rpbv_g1xxrph0000gn/T/jieba.u25b0b9ddcb92304ec71499048447de52.cache\n",
      "Loading model cost 1.055 seconds.\n",
      "Prefix dict has been built successfully.\n"
     ]
    },
    {
     "name": "stdout",
     "output_type": "stream",
     "text": [
      "poncc-debug: 709\n"
     ]
    },
    {
     "name": "stderr",
     "output_type": "stream",
     "text": [
      "Building prefix dict from /Users/poncc/Documents/GitHub/2nd-PyCrawlerMarathon/homework/day038/dict.user.big.txt ...\n",
      "Loading model from cache /var/folders/68/t9g86v0d0ys2rpbv_g1xxrph0000gn/T/jieba.u25b0b9ddcb92304ec71499048447de52.cache\n",
      "Loading model cost 1.037 seconds.\n",
      "Prefix dict has been built successfully.\n"
     ]
    },
    {
     "name": "stdout",
     "output_type": "stream",
     "text": [
      "poncc-debug: 710\n"
     ]
    },
    {
     "name": "stderr",
     "output_type": "stream",
     "text": [
      "Building prefix dict from /Users/poncc/Documents/GitHub/2nd-PyCrawlerMarathon/homework/day038/dict.user.big.txt ...\n",
      "Loading model from cache /var/folders/68/t9g86v0d0ys2rpbv_g1xxrph0000gn/T/jieba.u25b0b9ddcb92304ec71499048447de52.cache\n",
      "Loading model cost 1.002 seconds.\n",
      "Prefix dict has been built successfully.\n"
     ]
    },
    {
     "name": "stdout",
     "output_type": "stream",
     "text": [
      "poncc-debug: 711\n"
     ]
    },
    {
     "name": "stderr",
     "output_type": "stream",
     "text": [
      "Building prefix dict from /Users/poncc/Documents/GitHub/2nd-PyCrawlerMarathon/homework/day038/dict.user.big.txt ...\n",
      "Loading model from cache /var/folders/68/t9g86v0d0ys2rpbv_g1xxrph0000gn/T/jieba.u25b0b9ddcb92304ec71499048447de52.cache\n",
      "Loading model cost 1.012 seconds.\n",
      "Prefix dict has been built successfully.\n"
     ]
    },
    {
     "name": "stdout",
     "output_type": "stream",
     "text": [
      "poncc-debug: 712\n"
     ]
    },
    {
     "name": "stderr",
     "output_type": "stream",
     "text": [
      "Building prefix dict from /Users/poncc/Documents/GitHub/2nd-PyCrawlerMarathon/homework/day038/dict.user.big.txt ...\n",
      "Loading model from cache /var/folders/68/t9g86v0d0ys2rpbv_g1xxrph0000gn/T/jieba.u25b0b9ddcb92304ec71499048447de52.cache\n",
      "Loading model cost 1.015 seconds.\n",
      "Prefix dict has been built successfully.\n"
     ]
    },
    {
     "name": "stdout",
     "output_type": "stream",
     "text": [
      "poncc-debug: 713\n"
     ]
    },
    {
     "name": "stderr",
     "output_type": "stream",
     "text": [
      "Building prefix dict from /Users/poncc/Documents/GitHub/2nd-PyCrawlerMarathon/homework/day038/dict.user.big.txt ...\n",
      "Loading model from cache /var/folders/68/t9g86v0d0ys2rpbv_g1xxrph0000gn/T/jieba.u25b0b9ddcb92304ec71499048447de52.cache\n",
      "Loading model cost 1.000 seconds.\n",
      "Prefix dict has been built successfully.\n"
     ]
    },
    {
     "name": "stdout",
     "output_type": "stream",
     "text": [
      "poncc-debug: 714\n"
     ]
    },
    {
     "name": "stderr",
     "output_type": "stream",
     "text": [
      "Building prefix dict from /Users/poncc/Documents/GitHub/2nd-PyCrawlerMarathon/homework/day038/dict.user.big.txt ...\n",
      "Loading model from cache /var/folders/68/t9g86v0d0ys2rpbv_g1xxrph0000gn/T/jieba.u25b0b9ddcb92304ec71499048447de52.cache\n",
      "Loading model cost 1.009 seconds.\n",
      "Prefix dict has been built successfully.\n"
     ]
    },
    {
     "name": "stdout",
     "output_type": "stream",
     "text": [
      "poncc-debug: 715\n"
     ]
    },
    {
     "name": "stderr",
     "output_type": "stream",
     "text": [
      "Building prefix dict from /Users/poncc/Documents/GitHub/2nd-PyCrawlerMarathon/homework/day038/dict.user.big.txt ...\n",
      "Loading model from cache /var/folders/68/t9g86v0d0ys2rpbv_g1xxrph0000gn/T/jieba.u25b0b9ddcb92304ec71499048447de52.cache\n",
      "Loading model cost 1.012 seconds.\n",
      "Prefix dict has been built successfully.\n"
     ]
    },
    {
     "name": "stdout",
     "output_type": "stream",
     "text": [
      "poncc-debug: 716\n"
     ]
    },
    {
     "name": "stderr",
     "output_type": "stream",
     "text": [
      "Building prefix dict from /Users/poncc/Documents/GitHub/2nd-PyCrawlerMarathon/homework/day038/dict.user.big.txt ...\n",
      "Loading model from cache /var/folders/68/t9g86v0d0ys2rpbv_g1xxrph0000gn/T/jieba.u25b0b9ddcb92304ec71499048447de52.cache\n",
      "Loading model cost 0.984 seconds.\n",
      "Prefix dict has been built successfully.\n"
     ]
    },
    {
     "name": "stdout",
     "output_type": "stream",
     "text": [
      "poncc-debug: 717\n"
     ]
    },
    {
     "name": "stderr",
     "output_type": "stream",
     "text": [
      "Building prefix dict from /Users/poncc/Documents/GitHub/2nd-PyCrawlerMarathon/homework/day038/dict.user.big.txt ...\n",
      "Loading model from cache /var/folders/68/t9g86v0d0ys2rpbv_g1xxrph0000gn/T/jieba.u25b0b9ddcb92304ec71499048447de52.cache\n",
      "Loading model cost 1.022 seconds.\n",
      "Prefix dict has been built successfully.\n"
     ]
    },
    {
     "name": "stdout",
     "output_type": "stream",
     "text": [
      "poncc-debug: 718\n"
     ]
    },
    {
     "name": "stderr",
     "output_type": "stream",
     "text": [
      "Building prefix dict from /Users/poncc/Documents/GitHub/2nd-PyCrawlerMarathon/homework/day038/dict.user.big.txt ...\n",
      "Loading model from cache /var/folders/68/t9g86v0d0ys2rpbv_g1xxrph0000gn/T/jieba.u25b0b9ddcb92304ec71499048447de52.cache\n",
      "Loading model cost 1.006 seconds.\n",
      "Prefix dict has been built successfully.\n"
     ]
    },
    {
     "name": "stdout",
     "output_type": "stream",
     "text": [
      "poncc-debug: 719\n"
     ]
    },
    {
     "name": "stderr",
     "output_type": "stream",
     "text": [
      "Building prefix dict from /Users/poncc/Documents/GitHub/2nd-PyCrawlerMarathon/homework/day038/dict.user.big.txt ...\n",
      "Loading model from cache /var/folders/68/t9g86v0d0ys2rpbv_g1xxrph0000gn/T/jieba.u25b0b9ddcb92304ec71499048447de52.cache\n",
      "Loading model cost 1.009 seconds.\n",
      "Prefix dict has been built successfully.\n"
     ]
    },
    {
     "name": "stdout",
     "output_type": "stream",
     "text": [
      "poncc-debug: 720\n"
     ]
    },
    {
     "name": "stderr",
     "output_type": "stream",
     "text": [
      "Building prefix dict from /Users/poncc/Documents/GitHub/2nd-PyCrawlerMarathon/homework/day038/dict.user.big.txt ...\n",
      "Loading model from cache /var/folders/68/t9g86v0d0ys2rpbv_g1xxrph0000gn/T/jieba.u25b0b9ddcb92304ec71499048447de52.cache\n",
      "Loading model cost 0.999 seconds.\n",
      "Prefix dict has been built successfully.\n"
     ]
    },
    {
     "name": "stdout",
     "output_type": "stream",
     "text": [
      "poncc-debug: 721\n"
     ]
    },
    {
     "name": "stderr",
     "output_type": "stream",
     "text": [
      "Building prefix dict from /Users/poncc/Documents/GitHub/2nd-PyCrawlerMarathon/homework/day038/dict.user.big.txt ...\n",
      "Loading model from cache /var/folders/68/t9g86v0d0ys2rpbv_g1xxrph0000gn/T/jieba.u25b0b9ddcb92304ec71499048447de52.cache\n",
      "Loading model cost 1.003 seconds.\n",
      "Prefix dict has been built successfully.\n"
     ]
    },
    {
     "name": "stdout",
     "output_type": "stream",
     "text": [
      "poncc-debug: 722\n"
     ]
    },
    {
     "name": "stderr",
     "output_type": "stream",
     "text": [
      "Building prefix dict from /Users/poncc/Documents/GitHub/2nd-PyCrawlerMarathon/homework/day038/dict.user.big.txt ...\n",
      "Loading model from cache /var/folders/68/t9g86v0d0ys2rpbv_g1xxrph0000gn/T/jieba.u25b0b9ddcb92304ec71499048447de52.cache\n",
      "Loading model cost 1.011 seconds.\n",
      "Prefix dict has been built successfully.\n"
     ]
    },
    {
     "name": "stdout",
     "output_type": "stream",
     "text": [
      "poncc-debug: 723\n"
     ]
    },
    {
     "name": "stderr",
     "output_type": "stream",
     "text": [
      "Building prefix dict from /Users/poncc/Documents/GitHub/2nd-PyCrawlerMarathon/homework/day038/dict.user.big.txt ...\n",
      "Loading model from cache /var/folders/68/t9g86v0d0ys2rpbv_g1xxrph0000gn/T/jieba.u25b0b9ddcb92304ec71499048447de52.cache\n",
      "Loading model cost 1.012 seconds.\n",
      "Prefix dict has been built successfully.\n"
     ]
    },
    {
     "name": "stdout",
     "output_type": "stream",
     "text": [
      "poncc-debug: 724\n"
     ]
    },
    {
     "name": "stderr",
     "output_type": "stream",
     "text": [
      "Building prefix dict from /Users/poncc/Documents/GitHub/2nd-PyCrawlerMarathon/homework/day038/dict.user.big.txt ...\n",
      "Loading model from cache /var/folders/68/t9g86v0d0ys2rpbv_g1xxrph0000gn/T/jieba.u25b0b9ddcb92304ec71499048447de52.cache\n",
      "Loading model cost 1.010 seconds.\n",
      "Prefix dict has been built successfully.\n"
     ]
    },
    {
     "name": "stdout",
     "output_type": "stream",
     "text": [
      "poncc-debug: 725\n"
     ]
    },
    {
     "name": "stderr",
     "output_type": "stream",
     "text": [
      "Building prefix dict from /Users/poncc/Documents/GitHub/2nd-PyCrawlerMarathon/homework/day038/dict.user.big.txt ...\n",
      "Loading model from cache /var/folders/68/t9g86v0d0ys2rpbv_g1xxrph0000gn/T/jieba.u25b0b9ddcb92304ec71499048447de52.cache\n",
      "Loading model cost 1.008 seconds.\n",
      "Prefix dict has been built successfully.\n"
     ]
    },
    {
     "name": "stdout",
     "output_type": "stream",
     "text": [
      "poncc-debug: 726\n"
     ]
    },
    {
     "name": "stderr",
     "output_type": "stream",
     "text": [
      "Building prefix dict from /Users/poncc/Documents/GitHub/2nd-PyCrawlerMarathon/homework/day038/dict.user.big.txt ...\n",
      "Loading model from cache /var/folders/68/t9g86v0d0ys2rpbv_g1xxrph0000gn/T/jieba.u25b0b9ddcb92304ec71499048447de52.cache\n",
      "Loading model cost 1.014 seconds.\n",
      "Prefix dict has been built successfully.\n"
     ]
    },
    {
     "name": "stdout",
     "output_type": "stream",
     "text": [
      "poncc-debug: 727\n"
     ]
    },
    {
     "name": "stderr",
     "output_type": "stream",
     "text": [
      "Building prefix dict from /Users/poncc/Documents/GitHub/2nd-PyCrawlerMarathon/homework/day038/dict.user.big.txt ...\n",
      "Loading model from cache /var/folders/68/t9g86v0d0ys2rpbv_g1xxrph0000gn/T/jieba.u25b0b9ddcb92304ec71499048447de52.cache\n",
      "Loading model cost 1.009 seconds.\n",
      "Prefix dict has been built successfully.\n"
     ]
    },
    {
     "name": "stdout",
     "output_type": "stream",
     "text": [
      "poncc-debug: 728\n"
     ]
    },
    {
     "name": "stderr",
     "output_type": "stream",
     "text": [
      "Building prefix dict from /Users/poncc/Documents/GitHub/2nd-PyCrawlerMarathon/homework/day038/dict.user.big.txt ...\n",
      "Loading model from cache /var/folders/68/t9g86v0d0ys2rpbv_g1xxrph0000gn/T/jieba.u25b0b9ddcb92304ec71499048447de52.cache\n",
      "Loading model cost 1.005 seconds.\n",
      "Prefix dict has been built successfully.\n"
     ]
    },
    {
     "name": "stdout",
     "output_type": "stream",
     "text": [
      "poncc-debug: 729\n"
     ]
    },
    {
     "name": "stderr",
     "output_type": "stream",
     "text": [
      "Building prefix dict from /Users/poncc/Documents/GitHub/2nd-PyCrawlerMarathon/homework/day038/dict.user.big.txt ...\n",
      "Loading model from cache /var/folders/68/t9g86v0d0ys2rpbv_g1xxrph0000gn/T/jieba.u25b0b9ddcb92304ec71499048447de52.cache\n",
      "Loading model cost 1.015 seconds.\n",
      "Prefix dict has been built successfully.\n"
     ]
    },
    {
     "name": "stdout",
     "output_type": "stream",
     "text": [
      "poncc-debug: 730\n"
     ]
    },
    {
     "name": "stderr",
     "output_type": "stream",
     "text": [
      "Building prefix dict from /Users/poncc/Documents/GitHub/2nd-PyCrawlerMarathon/homework/day038/dict.user.big.txt ...\n",
      "Loading model from cache /var/folders/68/t9g86v0d0ys2rpbv_g1xxrph0000gn/T/jieba.u25b0b9ddcb92304ec71499048447de52.cache\n",
      "Loading model cost 1.008 seconds.\n",
      "Prefix dict has been built successfully.\n"
     ]
    },
    {
     "name": "stdout",
     "output_type": "stream",
     "text": [
      "poncc-debug: 731\n"
     ]
    },
    {
     "name": "stderr",
     "output_type": "stream",
     "text": [
      "Building prefix dict from /Users/poncc/Documents/GitHub/2nd-PyCrawlerMarathon/homework/day038/dict.user.big.txt ...\n",
      "Loading model from cache /var/folders/68/t9g86v0d0ys2rpbv_g1xxrph0000gn/T/jieba.u25b0b9ddcb92304ec71499048447de52.cache\n",
      "Loading model cost 1.021 seconds.\n",
      "Prefix dict has been built successfully.\n"
     ]
    },
    {
     "name": "stdout",
     "output_type": "stream",
     "text": [
      "poncc-debug: 732\n"
     ]
    },
    {
     "name": "stderr",
     "output_type": "stream",
     "text": [
      "Building prefix dict from /Users/poncc/Documents/GitHub/2nd-PyCrawlerMarathon/homework/day038/dict.user.big.txt ...\n",
      "Loading model from cache /var/folders/68/t9g86v0d0ys2rpbv_g1xxrph0000gn/T/jieba.u25b0b9ddcb92304ec71499048447de52.cache\n",
      "Loading model cost 1.013 seconds.\n",
      "Prefix dict has been built successfully.\n"
     ]
    },
    {
     "name": "stdout",
     "output_type": "stream",
     "text": [
      "poncc-debug: 733\n"
     ]
    },
    {
     "name": "stderr",
     "output_type": "stream",
     "text": [
      "Building prefix dict from /Users/poncc/Documents/GitHub/2nd-PyCrawlerMarathon/homework/day038/dict.user.big.txt ...\n",
      "Loading model from cache /var/folders/68/t9g86v0d0ys2rpbv_g1xxrph0000gn/T/jieba.u25b0b9ddcb92304ec71499048447de52.cache\n",
      "Loading model cost 1.024 seconds.\n",
      "Prefix dict has been built successfully.\n"
     ]
    },
    {
     "name": "stdout",
     "output_type": "stream",
     "text": [
      "poncc-debug: 734\n"
     ]
    },
    {
     "name": "stderr",
     "output_type": "stream",
     "text": [
      "Building prefix dict from /Users/poncc/Documents/GitHub/2nd-PyCrawlerMarathon/homework/day038/dict.user.big.txt ...\n",
      "Loading model from cache /var/folders/68/t9g86v0d0ys2rpbv_g1xxrph0000gn/T/jieba.u25b0b9ddcb92304ec71499048447de52.cache\n",
      "Loading model cost 1.004 seconds.\n",
      "Prefix dict has been built successfully.\n"
     ]
    },
    {
     "name": "stdout",
     "output_type": "stream",
     "text": [
      "poncc-debug: 735\n"
     ]
    },
    {
     "name": "stderr",
     "output_type": "stream",
     "text": [
      "Building prefix dict from /Users/poncc/Documents/GitHub/2nd-PyCrawlerMarathon/homework/day038/dict.user.big.txt ...\n",
      "Loading model from cache /var/folders/68/t9g86v0d0ys2rpbv_g1xxrph0000gn/T/jieba.u25b0b9ddcb92304ec71499048447de52.cache\n",
      "Loading model cost 1.017 seconds.\n",
      "Prefix dict has been built successfully.\n"
     ]
    },
    {
     "name": "stdout",
     "output_type": "stream",
     "text": [
      "poncc-debug: 736\n"
     ]
    },
    {
     "name": "stderr",
     "output_type": "stream",
     "text": [
      "Building prefix dict from /Users/poncc/Documents/GitHub/2nd-PyCrawlerMarathon/homework/day038/dict.user.big.txt ...\n",
      "Loading model from cache /var/folders/68/t9g86v0d0ys2rpbv_g1xxrph0000gn/T/jieba.u25b0b9ddcb92304ec71499048447de52.cache\n",
      "Loading model cost 1.011 seconds.\n",
      "Prefix dict has been built successfully.\n"
     ]
    },
    {
     "name": "stdout",
     "output_type": "stream",
     "text": [
      "poncc-debug: 737\n"
     ]
    },
    {
     "name": "stderr",
     "output_type": "stream",
     "text": [
      "Building prefix dict from /Users/poncc/Documents/GitHub/2nd-PyCrawlerMarathon/homework/day038/dict.user.big.txt ...\n",
      "Loading model from cache /var/folders/68/t9g86v0d0ys2rpbv_g1xxrph0000gn/T/jieba.u25b0b9ddcb92304ec71499048447de52.cache\n",
      "Loading model cost 1.009 seconds.\n",
      "Prefix dict has been built successfully.\n",
      "Building prefix dict from /Users/poncc/Documents/GitHub/2nd-PyCrawlerMarathon/homework/day038/dict.user.big.txt ...\n",
      "Loading model from cache /var/folders/68/t9g86v0d0ys2rpbv_g1xxrph0000gn/T/jieba.u25b0b9ddcb92304ec71499048447de52.cache\n"
     ]
    },
    {
     "name": "stdout",
     "output_type": "stream",
     "text": [
      "poncc-debug: 738\n"
     ]
    },
    {
     "name": "stderr",
     "output_type": "stream",
     "text": [
      "Loading model cost 1.030 seconds.\n",
      "Prefix dict has been built successfully.\n"
     ]
    },
    {
     "name": "stdout",
     "output_type": "stream",
     "text": [
      "poncc-debug: 739\n"
     ]
    },
    {
     "name": "stderr",
     "output_type": "stream",
     "text": [
      "Building prefix dict from /Users/poncc/Documents/GitHub/2nd-PyCrawlerMarathon/homework/day038/dict.user.big.txt ...\n",
      "Loading model from cache /var/folders/68/t9g86v0d0ys2rpbv_g1xxrph0000gn/T/jieba.u25b0b9ddcb92304ec71499048447de52.cache\n",
      "Loading model cost 0.989 seconds.\n",
      "Prefix dict has been built successfully.\n"
     ]
    },
    {
     "name": "stdout",
     "output_type": "stream",
     "text": [
      "poncc-debug: 740\n"
     ]
    },
    {
     "name": "stderr",
     "output_type": "stream",
     "text": [
      "Building prefix dict from /Users/poncc/Documents/GitHub/2nd-PyCrawlerMarathon/homework/day038/dict.user.big.txt ...\n",
      "Loading model from cache /var/folders/68/t9g86v0d0ys2rpbv_g1xxrph0000gn/T/jieba.u25b0b9ddcb92304ec71499048447de52.cache\n",
      "Loading model cost 1.004 seconds.\n",
      "Prefix dict has been built successfully.\n"
     ]
    },
    {
     "name": "stdout",
     "output_type": "stream",
     "text": [
      "poncc-debug: 741\n"
     ]
    },
    {
     "name": "stderr",
     "output_type": "stream",
     "text": [
      "Building prefix dict from /Users/poncc/Documents/GitHub/2nd-PyCrawlerMarathon/homework/day038/dict.user.big.txt ...\n",
      "Loading model from cache /var/folders/68/t9g86v0d0ys2rpbv_g1xxrph0000gn/T/jieba.u25b0b9ddcb92304ec71499048447de52.cache\n",
      "Loading model cost 1.013 seconds.\n",
      "Prefix dict has been built successfully.\n"
     ]
    },
    {
     "name": "stdout",
     "output_type": "stream",
     "text": [
      "poncc-debug: 742\n"
     ]
    },
    {
     "name": "stderr",
     "output_type": "stream",
     "text": [
      "Building prefix dict from /Users/poncc/Documents/GitHub/2nd-PyCrawlerMarathon/homework/day038/dict.user.big.txt ...\n",
      "Loading model from cache /var/folders/68/t9g86v0d0ys2rpbv_g1xxrph0000gn/T/jieba.u25b0b9ddcb92304ec71499048447de52.cache\n",
      "Loading model cost 1.017 seconds.\n",
      "Prefix dict has been built successfully.\n"
     ]
    },
    {
     "name": "stdout",
     "output_type": "stream",
     "text": [
      "poncc-debug: 743\n"
     ]
    },
    {
     "name": "stderr",
     "output_type": "stream",
     "text": [
      "Building prefix dict from /Users/poncc/Documents/GitHub/2nd-PyCrawlerMarathon/homework/day038/dict.user.big.txt ...\n",
      "Loading model from cache /var/folders/68/t9g86v0d0ys2rpbv_g1xxrph0000gn/T/jieba.u25b0b9ddcb92304ec71499048447de52.cache\n",
      "Loading model cost 1.002 seconds.\n",
      "Prefix dict has been built successfully.\n"
     ]
    },
    {
     "name": "stdout",
     "output_type": "stream",
     "text": [
      "poncc-debug: 744\n"
     ]
    },
    {
     "name": "stderr",
     "output_type": "stream",
     "text": [
      "Building prefix dict from /Users/poncc/Documents/GitHub/2nd-PyCrawlerMarathon/homework/day038/dict.user.big.txt ...\n",
      "Loading model from cache /var/folders/68/t9g86v0d0ys2rpbv_g1xxrph0000gn/T/jieba.u25b0b9ddcb92304ec71499048447de52.cache\n",
      "Loading model cost 1.017 seconds.\n",
      "Prefix dict has been built successfully.\n",
      "Building prefix dict from /Users/poncc/Documents/GitHub/2nd-PyCrawlerMarathon/homework/day038/dict.user.big.txt ...\n"
     ]
    },
    {
     "name": "stdout",
     "output_type": "stream",
     "text": [
      "poncc-debug: 745\n"
     ]
    },
    {
     "name": "stderr",
     "output_type": "stream",
     "text": [
      "Loading model from cache /var/folders/68/t9g86v0d0ys2rpbv_g1xxrph0000gn/T/jieba.u25b0b9ddcb92304ec71499048447de52.cache\n",
      "Loading model cost 1.017 seconds.\n",
      "Prefix dict has been built successfully.\n"
     ]
    },
    {
     "name": "stdout",
     "output_type": "stream",
     "text": [
      "poncc-debug: 746\n"
     ]
    },
    {
     "name": "stderr",
     "output_type": "stream",
     "text": [
      "Building prefix dict from /Users/poncc/Documents/GitHub/2nd-PyCrawlerMarathon/homework/day038/dict.user.big.txt ...\n",
      "Loading model from cache /var/folders/68/t9g86v0d0ys2rpbv_g1xxrph0000gn/T/jieba.u25b0b9ddcb92304ec71499048447de52.cache\n",
      "Loading model cost 0.997 seconds.\n",
      "Prefix dict has been built successfully.\n"
     ]
    },
    {
     "name": "stdout",
     "output_type": "stream",
     "text": [
      "poncc-debug: 747\n"
     ]
    },
    {
     "name": "stderr",
     "output_type": "stream",
     "text": [
      "Building prefix dict from /Users/poncc/Documents/GitHub/2nd-PyCrawlerMarathon/homework/day038/dict.user.big.txt ...\n",
      "Loading model from cache /var/folders/68/t9g86v0d0ys2rpbv_g1xxrph0000gn/T/jieba.u25b0b9ddcb92304ec71499048447de52.cache\n",
      "Loading model cost 1.012 seconds.\n",
      "Prefix dict has been built successfully.\n"
     ]
    },
    {
     "name": "stdout",
     "output_type": "stream",
     "text": [
      "poncc-debug: 748\n"
     ]
    },
    {
     "name": "stderr",
     "output_type": "stream",
     "text": [
      "Building prefix dict from /Users/poncc/Documents/GitHub/2nd-PyCrawlerMarathon/homework/day038/dict.user.big.txt ...\n",
      "Loading model from cache /var/folders/68/t9g86v0d0ys2rpbv_g1xxrph0000gn/T/jieba.u25b0b9ddcb92304ec71499048447de52.cache\n",
      "Loading model cost 1.010 seconds.\n",
      "Prefix dict has been built successfully.\n"
     ]
    },
    {
     "name": "stdout",
     "output_type": "stream",
     "text": [
      "poncc-debug: 749\n"
     ]
    },
    {
     "name": "stderr",
     "output_type": "stream",
     "text": [
      "Building prefix dict from /Users/poncc/Documents/GitHub/2nd-PyCrawlerMarathon/homework/day038/dict.user.big.txt ...\n",
      "Loading model from cache /var/folders/68/t9g86v0d0ys2rpbv_g1xxrph0000gn/T/jieba.u25b0b9ddcb92304ec71499048447de52.cache\n",
      "Loading model cost 1.002 seconds.\n",
      "Prefix dict has been built successfully.\n"
     ]
    },
    {
     "name": "stdout",
     "output_type": "stream",
     "text": [
      "poncc-debug: 750\n"
     ]
    },
    {
     "name": "stderr",
     "output_type": "stream",
     "text": [
      "Building prefix dict from /Users/poncc/Documents/GitHub/2nd-PyCrawlerMarathon/homework/day038/dict.user.big.txt ...\n",
      "Loading model from cache /var/folders/68/t9g86v0d0ys2rpbv_g1xxrph0000gn/T/jieba.u25b0b9ddcb92304ec71499048447de52.cache\n",
      "Loading model cost 1.027 seconds.\n",
      "Prefix dict has been built successfully.\n"
     ]
    },
    {
     "name": "stdout",
     "output_type": "stream",
     "text": [
      "poncc-debug: 751\n"
     ]
    },
    {
     "name": "stderr",
     "output_type": "stream",
     "text": [
      "Building prefix dict from /Users/poncc/Documents/GitHub/2nd-PyCrawlerMarathon/homework/day038/dict.user.big.txt ...\n",
      "Loading model from cache /var/folders/68/t9g86v0d0ys2rpbv_g1xxrph0000gn/T/jieba.u25b0b9ddcb92304ec71499048447de52.cache\n",
      "Loading model cost 0.998 seconds.\n",
      "Prefix dict has been built successfully.\n"
     ]
    },
    {
     "name": "stdout",
     "output_type": "stream",
     "text": [
      "poncc-debug: 752\n"
     ]
    },
    {
     "name": "stderr",
     "output_type": "stream",
     "text": [
      "Building prefix dict from /Users/poncc/Documents/GitHub/2nd-PyCrawlerMarathon/homework/day038/dict.user.big.txt ...\n",
      "Loading model from cache /var/folders/68/t9g86v0d0ys2rpbv_g1xxrph0000gn/T/jieba.u25b0b9ddcb92304ec71499048447de52.cache\n",
      "Loading model cost 1.015 seconds.\n",
      "Prefix dict has been built successfully.\n"
     ]
    },
    {
     "name": "stdout",
     "output_type": "stream",
     "text": [
      "poncc-debug: 753\n"
     ]
    },
    {
     "name": "stderr",
     "output_type": "stream",
     "text": [
      "Building prefix dict from /Users/poncc/Documents/GitHub/2nd-PyCrawlerMarathon/homework/day038/dict.user.big.txt ...\n",
      "Loading model from cache /var/folders/68/t9g86v0d0ys2rpbv_g1xxrph0000gn/T/jieba.u25b0b9ddcb92304ec71499048447de52.cache\n",
      "Loading model cost 1.008 seconds.\n",
      "Prefix dict has been built successfully.\n"
     ]
    },
    {
     "name": "stdout",
     "output_type": "stream",
     "text": [
      "poncc-debug: 754\n"
     ]
    },
    {
     "name": "stderr",
     "output_type": "stream",
     "text": [
      "Building prefix dict from /Users/poncc/Documents/GitHub/2nd-PyCrawlerMarathon/homework/day038/dict.user.big.txt ...\n",
      "Loading model from cache /var/folders/68/t9g86v0d0ys2rpbv_g1xxrph0000gn/T/jieba.u25b0b9ddcb92304ec71499048447de52.cache\n",
      "Loading model cost 1.009 seconds.\n",
      "Prefix dict has been built successfully.\n"
     ]
    },
    {
     "name": "stdout",
     "output_type": "stream",
     "text": [
      "poncc-debug: 755\n"
     ]
    },
    {
     "name": "stderr",
     "output_type": "stream",
     "text": [
      "Building prefix dict from /Users/poncc/Documents/GitHub/2nd-PyCrawlerMarathon/homework/day038/dict.user.big.txt ...\n",
      "Loading model from cache /var/folders/68/t9g86v0d0ys2rpbv_g1xxrph0000gn/T/jieba.u25b0b9ddcb92304ec71499048447de52.cache\n",
      "Loading model cost 1.013 seconds.\n",
      "Prefix dict has been built successfully.\n"
     ]
    },
    {
     "name": "stdout",
     "output_type": "stream",
     "text": [
      "poncc-debug: 756\n"
     ]
    },
    {
     "name": "stderr",
     "output_type": "stream",
     "text": [
      "Building prefix dict from /Users/poncc/Documents/GitHub/2nd-PyCrawlerMarathon/homework/day038/dict.user.big.txt ...\n",
      "Loading model from cache /var/folders/68/t9g86v0d0ys2rpbv_g1xxrph0000gn/T/jieba.u25b0b9ddcb92304ec71499048447de52.cache\n",
      "Loading model cost 1.018 seconds.\n",
      "Prefix dict has been built successfully.\n"
     ]
    },
    {
     "name": "stdout",
     "output_type": "stream",
     "text": [
      "poncc-debug: 757\n"
     ]
    },
    {
     "name": "stderr",
     "output_type": "stream",
     "text": [
      "Building prefix dict from /Users/poncc/Documents/GitHub/2nd-PyCrawlerMarathon/homework/day038/dict.user.big.txt ...\n",
      "Loading model from cache /var/folders/68/t9g86v0d0ys2rpbv_g1xxrph0000gn/T/jieba.u25b0b9ddcb92304ec71499048447de52.cache\n",
      "Loading model cost 1.031 seconds.\n",
      "Prefix dict has been built successfully.\n"
     ]
    },
    {
     "name": "stdout",
     "output_type": "stream",
     "text": [
      "poncc-debug: 758\n"
     ]
    },
    {
     "name": "stderr",
     "output_type": "stream",
     "text": [
      "Building prefix dict from /Users/poncc/Documents/GitHub/2nd-PyCrawlerMarathon/homework/day038/dict.user.big.txt ...\n",
      "Loading model from cache /var/folders/68/t9g86v0d0ys2rpbv_g1xxrph0000gn/T/jieba.u25b0b9ddcb92304ec71499048447de52.cache\n",
      "Loading model cost 0.998 seconds.\n",
      "Prefix dict has been built successfully.\n"
     ]
    },
    {
     "name": "stdout",
     "output_type": "stream",
     "text": [
      "poncc-debug: 759\n"
     ]
    },
    {
     "name": "stderr",
     "output_type": "stream",
     "text": [
      "Building prefix dict from /Users/poncc/Documents/GitHub/2nd-PyCrawlerMarathon/homework/day038/dict.user.big.txt ...\n",
      "Loading model from cache /var/folders/68/t9g86v0d0ys2rpbv_g1xxrph0000gn/T/jieba.u25b0b9ddcb92304ec71499048447de52.cache\n",
      "Loading model cost 1.009 seconds.\n",
      "Prefix dict has been built successfully.\n"
     ]
    },
    {
     "name": "stdout",
     "output_type": "stream",
     "text": [
      "poncc-debug: 760\n"
     ]
    },
    {
     "name": "stderr",
     "output_type": "stream",
     "text": [
      "Building prefix dict from /Users/poncc/Documents/GitHub/2nd-PyCrawlerMarathon/homework/day038/dict.user.big.txt ...\n",
      "Loading model from cache /var/folders/68/t9g86v0d0ys2rpbv_g1xxrph0000gn/T/jieba.u25b0b9ddcb92304ec71499048447de52.cache\n",
      "Loading model cost 1.002 seconds.\n",
      "Prefix dict has been built successfully.\n"
     ]
    },
    {
     "name": "stdout",
     "output_type": "stream",
     "text": [
      "poncc-debug: 761\n"
     ]
    },
    {
     "name": "stderr",
     "output_type": "stream",
     "text": [
      "Building prefix dict from /Users/poncc/Documents/GitHub/2nd-PyCrawlerMarathon/homework/day038/dict.user.big.txt ...\n",
      "Loading model from cache /var/folders/68/t9g86v0d0ys2rpbv_g1xxrph0000gn/T/jieba.u25b0b9ddcb92304ec71499048447de52.cache\n",
      "Loading model cost 1.006 seconds.\n",
      "Prefix dict has been built successfully.\n"
     ]
    },
    {
     "name": "stdout",
     "output_type": "stream",
     "text": [
      "poncc-debug: 762\n"
     ]
    },
    {
     "name": "stderr",
     "output_type": "stream",
     "text": [
      "Building prefix dict from /Users/poncc/Documents/GitHub/2nd-PyCrawlerMarathon/homework/day038/dict.user.big.txt ...\n",
      "Loading model from cache /var/folders/68/t9g86v0d0ys2rpbv_g1xxrph0000gn/T/jieba.u25b0b9ddcb92304ec71499048447de52.cache\n",
      "Loading model cost 1.008 seconds.\n",
      "Prefix dict has been built successfully.\n"
     ]
    },
    {
     "name": "stdout",
     "output_type": "stream",
     "text": [
      "poncc-debug: 763\n"
     ]
    },
    {
     "name": "stderr",
     "output_type": "stream",
     "text": [
      "Building prefix dict from /Users/poncc/Documents/GitHub/2nd-PyCrawlerMarathon/homework/day038/dict.user.big.txt ...\n",
      "Loading model from cache /var/folders/68/t9g86v0d0ys2rpbv_g1xxrph0000gn/T/jieba.u25b0b9ddcb92304ec71499048447de52.cache\n",
      "Loading model cost 1.024 seconds.\n",
      "Prefix dict has been built successfully.\n"
     ]
    },
    {
     "name": "stdout",
     "output_type": "stream",
     "text": [
      "poncc-debug: 764\n"
     ]
    },
    {
     "name": "stderr",
     "output_type": "stream",
     "text": [
      "Building prefix dict from /Users/poncc/Documents/GitHub/2nd-PyCrawlerMarathon/homework/day038/dict.user.big.txt ...\n",
      "Loading model from cache /var/folders/68/t9g86v0d0ys2rpbv_g1xxrph0000gn/T/jieba.u25b0b9ddcb92304ec71499048447de52.cache\n",
      "Loading model cost 1.019 seconds.\n",
      "Prefix dict has been built successfully.\n"
     ]
    },
    {
     "name": "stdout",
     "output_type": "stream",
     "text": [
      "poncc-debug: 765\n"
     ]
    },
    {
     "name": "stderr",
     "output_type": "stream",
     "text": [
      "Building prefix dict from /Users/poncc/Documents/GitHub/2nd-PyCrawlerMarathon/homework/day038/dict.user.big.txt ...\n",
      "Loading model from cache /var/folders/68/t9g86v0d0ys2rpbv_g1xxrph0000gn/T/jieba.u25b0b9ddcb92304ec71499048447de52.cache\n",
      "Loading model cost 1.024 seconds.\n",
      "Prefix dict has been built successfully.\n"
     ]
    },
    {
     "name": "stdout",
     "output_type": "stream",
     "text": [
      "poncc-debug: 766\n"
     ]
    },
    {
     "name": "stderr",
     "output_type": "stream",
     "text": [
      "Building prefix dict from /Users/poncc/Documents/GitHub/2nd-PyCrawlerMarathon/homework/day038/dict.user.big.txt ...\n",
      "Loading model from cache /var/folders/68/t9g86v0d0ys2rpbv_g1xxrph0000gn/T/jieba.u25b0b9ddcb92304ec71499048447de52.cache\n",
      "Loading model cost 1.007 seconds.\n",
      "Prefix dict has been built successfully.\n"
     ]
    },
    {
     "name": "stdout",
     "output_type": "stream",
     "text": [
      "poncc-debug: 767\n"
     ]
    },
    {
     "name": "stderr",
     "output_type": "stream",
     "text": [
      "Building prefix dict from /Users/poncc/Documents/GitHub/2nd-PyCrawlerMarathon/homework/day038/dict.user.big.txt ...\n",
      "Loading model from cache /var/folders/68/t9g86v0d0ys2rpbv_g1xxrph0000gn/T/jieba.u25b0b9ddcb92304ec71499048447de52.cache\n",
      "Loading model cost 1.004 seconds.\n",
      "Prefix dict has been built successfully.\n"
     ]
    },
    {
     "name": "stdout",
     "output_type": "stream",
     "text": [
      "poncc-debug: 768\n"
     ]
    },
    {
     "name": "stderr",
     "output_type": "stream",
     "text": [
      "Building prefix dict from /Users/poncc/Documents/GitHub/2nd-PyCrawlerMarathon/homework/day038/dict.user.big.txt ...\n",
      "Loading model from cache /var/folders/68/t9g86v0d0ys2rpbv_g1xxrph0000gn/T/jieba.u25b0b9ddcb92304ec71499048447de52.cache\n",
      "Loading model cost 1.002 seconds.\n",
      "Prefix dict has been built successfully.\n"
     ]
    },
    {
     "name": "stdout",
     "output_type": "stream",
     "text": [
      "poncc-debug: 769\n"
     ]
    },
    {
     "name": "stderr",
     "output_type": "stream",
     "text": [
      "Building prefix dict from /Users/poncc/Documents/GitHub/2nd-PyCrawlerMarathon/homework/day038/dict.user.big.txt ...\n",
      "Loading model from cache /var/folders/68/t9g86v0d0ys2rpbv_g1xxrph0000gn/T/jieba.u25b0b9ddcb92304ec71499048447de52.cache\n",
      "Loading model cost 1.012 seconds.\n",
      "Prefix dict has been built successfully.\n"
     ]
    },
    {
     "name": "stdout",
     "output_type": "stream",
     "text": [
      "poncc-debug: 770\n"
     ]
    },
    {
     "name": "stderr",
     "output_type": "stream",
     "text": [
      "Building prefix dict from /Users/poncc/Documents/GitHub/2nd-PyCrawlerMarathon/homework/day038/dict.user.big.txt ...\n",
      "Loading model from cache /var/folders/68/t9g86v0d0ys2rpbv_g1xxrph0000gn/T/jieba.u25b0b9ddcb92304ec71499048447de52.cache\n",
      "Loading model cost 1.014 seconds.\n",
      "Prefix dict has been built successfully.\n"
     ]
    },
    {
     "name": "stdout",
     "output_type": "stream",
     "text": [
      "poncc-debug: 771\n"
     ]
    },
    {
     "name": "stderr",
     "output_type": "stream",
     "text": [
      "Building prefix dict from /Users/poncc/Documents/GitHub/2nd-PyCrawlerMarathon/homework/day038/dict.user.big.txt ...\n",
      "Loading model from cache /var/folders/68/t9g86v0d0ys2rpbv_g1xxrph0000gn/T/jieba.u25b0b9ddcb92304ec71499048447de52.cache\n",
      "Loading model cost 1.017 seconds.\n",
      "Prefix dict has been built successfully.\n"
     ]
    },
    {
     "name": "stdout",
     "output_type": "stream",
     "text": [
      "poncc-debug: 772\n"
     ]
    },
    {
     "name": "stderr",
     "output_type": "stream",
     "text": [
      "Building prefix dict from /Users/poncc/Documents/GitHub/2nd-PyCrawlerMarathon/homework/day038/dict.user.big.txt ...\n",
      "Loading model from cache /var/folders/68/t9g86v0d0ys2rpbv_g1xxrph0000gn/T/jieba.u25b0b9ddcb92304ec71499048447de52.cache\n",
      "Loading model cost 1.022 seconds.\n",
      "Prefix dict has been built successfully.\n"
     ]
    },
    {
     "name": "stdout",
     "output_type": "stream",
     "text": [
      "poncc-debug: 773\n"
     ]
    },
    {
     "name": "stderr",
     "output_type": "stream",
     "text": [
      "Building prefix dict from /Users/poncc/Documents/GitHub/2nd-PyCrawlerMarathon/homework/day038/dict.user.big.txt ...\n",
      "Loading model from cache /var/folders/68/t9g86v0d0ys2rpbv_g1xxrph0000gn/T/jieba.u25b0b9ddcb92304ec71499048447de52.cache\n",
      "Loading model cost 1.011 seconds.\n",
      "Prefix dict has been built successfully.\n",
      "Building prefix dict from /Users/poncc/Documents/GitHub/2nd-PyCrawlerMarathon/homework/day038/dict.user.big.txt ...\n",
      "Loading model from cache /var/folders/68/t9g86v0d0ys2rpbv_g1xxrph0000gn/T/jieba.u25b0b9ddcb92304ec71499048447de52.cache\n"
     ]
    },
    {
     "name": "stdout",
     "output_type": "stream",
     "text": [
      "poncc-debug: 774\n"
     ]
    },
    {
     "name": "stderr",
     "output_type": "stream",
     "text": [
      "Loading model cost 1.022 seconds.\n",
      "Prefix dict has been built successfully.\n"
     ]
    },
    {
     "name": "stdout",
     "output_type": "stream",
     "text": [
      "poncc-debug: 775\n"
     ]
    },
    {
     "name": "stderr",
     "output_type": "stream",
     "text": [
      "Building prefix dict from /Users/poncc/Documents/GitHub/2nd-PyCrawlerMarathon/homework/day038/dict.user.big.txt ...\n",
      "Loading model from cache /var/folders/68/t9g86v0d0ys2rpbv_g1xxrph0000gn/T/jieba.u25b0b9ddcb92304ec71499048447de52.cache\n",
      "Loading model cost 1.011 seconds.\n",
      "Prefix dict has been built successfully.\n"
     ]
    },
    {
     "name": "stdout",
     "output_type": "stream",
     "text": [
      "poncc-debug: 776\n"
     ]
    },
    {
     "name": "stderr",
     "output_type": "stream",
     "text": [
      "Building prefix dict from /Users/poncc/Documents/GitHub/2nd-PyCrawlerMarathon/homework/day038/dict.user.big.txt ...\n",
      "Loading model from cache /var/folders/68/t9g86v0d0ys2rpbv_g1xxrph0000gn/T/jieba.u25b0b9ddcb92304ec71499048447de52.cache\n",
      "Loading model cost 1.006 seconds.\n",
      "Prefix dict has been built successfully.\n"
     ]
    },
    {
     "name": "stdout",
     "output_type": "stream",
     "text": [
      "poncc-debug: 777\n"
     ]
    },
    {
     "name": "stderr",
     "output_type": "stream",
     "text": [
      "Building prefix dict from /Users/poncc/Documents/GitHub/2nd-PyCrawlerMarathon/homework/day038/dict.user.big.txt ...\n",
      "Loading model from cache /var/folders/68/t9g86v0d0ys2rpbv_g1xxrph0000gn/T/jieba.u25b0b9ddcb92304ec71499048447de52.cache\n",
      "Loading model cost 1.010 seconds.\n",
      "Prefix dict has been built successfully.\n"
     ]
    },
    {
     "name": "stdout",
     "output_type": "stream",
     "text": [
      "poncc-debug: 778\n"
     ]
    },
    {
     "name": "stderr",
     "output_type": "stream",
     "text": [
      "Building prefix dict from /Users/poncc/Documents/GitHub/2nd-PyCrawlerMarathon/homework/day038/dict.user.big.txt ...\n",
      "Loading model from cache /var/folders/68/t9g86v0d0ys2rpbv_g1xxrph0000gn/T/jieba.u25b0b9ddcb92304ec71499048447de52.cache\n",
      "Loading model cost 1.016 seconds.\n",
      "Prefix dict has been built successfully.\n"
     ]
    },
    {
     "name": "stdout",
     "output_type": "stream",
     "text": [
      "poncc-debug: 779\n"
     ]
    },
    {
     "name": "stderr",
     "output_type": "stream",
     "text": [
      "Building prefix dict from /Users/poncc/Documents/GitHub/2nd-PyCrawlerMarathon/homework/day038/dict.user.big.txt ...\n",
      "Loading model from cache /var/folders/68/t9g86v0d0ys2rpbv_g1xxrph0000gn/T/jieba.u25b0b9ddcb92304ec71499048447de52.cache\n",
      "Loading model cost 0.997 seconds.\n",
      "Prefix dict has been built successfully.\n",
      "Building prefix dict from /Users/poncc/Documents/GitHub/2nd-PyCrawlerMarathon/homework/day038/dict.user.big.txt ...\n",
      "Loading model from cache /var/folders/68/t9g86v0d0ys2rpbv_g1xxrph0000gn/T/jieba.u25b0b9ddcb92304ec71499048447de52.cache\n"
     ]
    },
    {
     "name": "stdout",
     "output_type": "stream",
     "text": [
      "poncc-debug: 780\n"
     ]
    },
    {
     "name": "stderr",
     "output_type": "stream",
     "text": [
      "Loading model cost 1.004 seconds.\n",
      "Prefix dict has been built successfully.\n"
     ]
    },
    {
     "name": "stdout",
     "output_type": "stream",
     "text": [
      "poncc-debug: 781\n"
     ]
    },
    {
     "name": "stderr",
     "output_type": "stream",
     "text": [
      "Building prefix dict from /Users/poncc/Documents/GitHub/2nd-PyCrawlerMarathon/homework/day038/dict.user.big.txt ...\n",
      "Loading model from cache /var/folders/68/t9g86v0d0ys2rpbv_g1xxrph0000gn/T/jieba.u25b0b9ddcb92304ec71499048447de52.cache\n",
      "Loading model cost 0.999 seconds.\n",
      "Prefix dict has been built successfully.\n"
     ]
    },
    {
     "name": "stdout",
     "output_type": "stream",
     "text": [
      "poncc-debug: 782\n"
     ]
    },
    {
     "name": "stderr",
     "output_type": "stream",
     "text": [
      "Building prefix dict from /Users/poncc/Documents/GitHub/2nd-PyCrawlerMarathon/homework/day038/dict.user.big.txt ...\n",
      "Loading model from cache /var/folders/68/t9g86v0d0ys2rpbv_g1xxrph0000gn/T/jieba.u25b0b9ddcb92304ec71499048447de52.cache\n",
      "Loading model cost 1.022 seconds.\n",
      "Prefix dict has been built successfully.\n"
     ]
    },
    {
     "name": "stdout",
     "output_type": "stream",
     "text": [
      "poncc-debug: 783\n"
     ]
    },
    {
     "name": "stderr",
     "output_type": "stream",
     "text": [
      "Building prefix dict from /Users/poncc/Documents/GitHub/2nd-PyCrawlerMarathon/homework/day038/dict.user.big.txt ...\n",
      "Loading model from cache /var/folders/68/t9g86v0d0ys2rpbv_g1xxrph0000gn/T/jieba.u25b0b9ddcb92304ec71499048447de52.cache\n",
      "Loading model cost 1.015 seconds.\n",
      "Prefix dict has been built successfully.\n"
     ]
    },
    {
     "name": "stdout",
     "output_type": "stream",
     "text": [
      "poncc-debug: 784\n"
     ]
    },
    {
     "name": "stderr",
     "output_type": "stream",
     "text": [
      "Building prefix dict from /Users/poncc/Documents/GitHub/2nd-PyCrawlerMarathon/homework/day038/dict.user.big.txt ...\n",
      "Loading model from cache /var/folders/68/t9g86v0d0ys2rpbv_g1xxrph0000gn/T/jieba.u25b0b9ddcb92304ec71499048447de52.cache\n",
      "Loading model cost 1.022 seconds.\n",
      "Prefix dict has been built successfully.\n"
     ]
    },
    {
     "name": "stdout",
     "output_type": "stream",
     "text": [
      "poncc-debug: 785\n"
     ]
    },
    {
     "name": "stderr",
     "output_type": "stream",
     "text": [
      "Building prefix dict from /Users/poncc/Documents/GitHub/2nd-PyCrawlerMarathon/homework/day038/dict.user.big.txt ...\n",
      "Loading model from cache /var/folders/68/t9g86v0d0ys2rpbv_g1xxrph0000gn/T/jieba.u25b0b9ddcb92304ec71499048447de52.cache\n",
      "Loading model cost 1.014 seconds.\n",
      "Prefix dict has been built successfully.\n"
     ]
    },
    {
     "name": "stdout",
     "output_type": "stream",
     "text": [
      "poncc-debug: 786\n"
     ]
    },
    {
     "name": "stderr",
     "output_type": "stream",
     "text": [
      "Building prefix dict from /Users/poncc/Documents/GitHub/2nd-PyCrawlerMarathon/homework/day038/dict.user.big.txt ...\n",
      "Loading model from cache /var/folders/68/t9g86v0d0ys2rpbv_g1xxrph0000gn/T/jieba.u25b0b9ddcb92304ec71499048447de52.cache\n",
      "Loading model cost 1.017 seconds.\n",
      "Prefix dict has been built successfully.\n"
     ]
    },
    {
     "name": "stdout",
     "output_type": "stream",
     "text": [
      "poncc-debug: 787\n"
     ]
    },
    {
     "name": "stderr",
     "output_type": "stream",
     "text": [
      "Building prefix dict from /Users/poncc/Documents/GitHub/2nd-PyCrawlerMarathon/homework/day038/dict.user.big.txt ...\n",
      "Loading model from cache /var/folders/68/t9g86v0d0ys2rpbv_g1xxrph0000gn/T/jieba.u25b0b9ddcb92304ec71499048447de52.cache\n",
      "Loading model cost 1.012 seconds.\n",
      "Prefix dict has been built successfully.\n"
     ]
    },
    {
     "name": "stdout",
     "output_type": "stream",
     "text": [
      "poncc-debug: 788\n"
     ]
    },
    {
     "name": "stderr",
     "output_type": "stream",
     "text": [
      "Building prefix dict from /Users/poncc/Documents/GitHub/2nd-PyCrawlerMarathon/homework/day038/dict.user.big.txt ...\n",
      "Loading model from cache /var/folders/68/t9g86v0d0ys2rpbv_g1xxrph0000gn/T/jieba.u25b0b9ddcb92304ec71499048447de52.cache\n",
      "Loading model cost 1.048 seconds.\n",
      "Prefix dict has been built successfully.\n"
     ]
    },
    {
     "name": "stdout",
     "output_type": "stream",
     "text": [
      "poncc-debug: 789\n"
     ]
    },
    {
     "name": "stderr",
     "output_type": "stream",
     "text": [
      "Building prefix dict from /Users/poncc/Documents/GitHub/2nd-PyCrawlerMarathon/homework/day038/dict.user.big.txt ...\n",
      "Loading model from cache /var/folders/68/t9g86v0d0ys2rpbv_g1xxrph0000gn/T/jieba.u25b0b9ddcb92304ec71499048447de52.cache\n",
      "Loading model cost 1.033 seconds.\n",
      "Prefix dict has been built successfully.\n"
     ]
    },
    {
     "name": "stdout",
     "output_type": "stream",
     "text": [
      "poncc-debug: 790\n"
     ]
    },
    {
     "name": "stderr",
     "output_type": "stream",
     "text": [
      "Building prefix dict from /Users/poncc/Documents/GitHub/2nd-PyCrawlerMarathon/homework/day038/dict.user.big.txt ...\n",
      "Loading model from cache /var/folders/68/t9g86v0d0ys2rpbv_g1xxrph0000gn/T/jieba.u25b0b9ddcb92304ec71499048447de52.cache\n",
      "Loading model cost 1.004 seconds.\n",
      "Prefix dict has been built successfully.\n"
     ]
    },
    {
     "name": "stdout",
     "output_type": "stream",
     "text": [
      "poncc-debug: 791\n"
     ]
    },
    {
     "name": "stderr",
     "output_type": "stream",
     "text": [
      "Building prefix dict from /Users/poncc/Documents/GitHub/2nd-PyCrawlerMarathon/homework/day038/dict.user.big.txt ...\n",
      "Loading model from cache /var/folders/68/t9g86v0d0ys2rpbv_g1xxrph0000gn/T/jieba.u25b0b9ddcb92304ec71499048447de52.cache\n",
      "Loading model cost 1.011 seconds.\n",
      "Prefix dict has been built successfully.\n"
     ]
    },
    {
     "name": "stdout",
     "output_type": "stream",
     "text": [
      "poncc-debug: 792\n"
     ]
    },
    {
     "name": "stderr",
     "output_type": "stream",
     "text": [
      "Building prefix dict from /Users/poncc/Documents/GitHub/2nd-PyCrawlerMarathon/homework/day038/dict.user.big.txt ...\n",
      "Loading model from cache /var/folders/68/t9g86v0d0ys2rpbv_g1xxrph0000gn/T/jieba.u25b0b9ddcb92304ec71499048447de52.cache\n",
      "Loading model cost 1.006 seconds.\n",
      "Prefix dict has been built successfully.\n"
     ]
    },
    {
     "name": "stdout",
     "output_type": "stream",
     "text": [
      "poncc-debug: 793\n"
     ]
    },
    {
     "name": "stderr",
     "output_type": "stream",
     "text": [
      "Building prefix dict from /Users/poncc/Documents/GitHub/2nd-PyCrawlerMarathon/homework/day038/dict.user.big.txt ...\n",
      "Loading model from cache /var/folders/68/t9g86v0d0ys2rpbv_g1xxrph0000gn/T/jieba.u25b0b9ddcb92304ec71499048447de52.cache\n",
      "Loading model cost 1.006 seconds.\n",
      "Prefix dict has been built successfully.\n"
     ]
    },
    {
     "name": "stdout",
     "output_type": "stream",
     "text": [
      "poncc-debug: 794\n"
     ]
    },
    {
     "name": "stderr",
     "output_type": "stream",
     "text": [
      "Building prefix dict from /Users/poncc/Documents/GitHub/2nd-PyCrawlerMarathon/homework/day038/dict.user.big.txt ...\n",
      "Loading model from cache /var/folders/68/t9g86v0d0ys2rpbv_g1xxrph0000gn/T/jieba.u25b0b9ddcb92304ec71499048447de52.cache\n",
      "Loading model cost 1.004 seconds.\n",
      "Prefix dict has been built successfully.\n"
     ]
    },
    {
     "name": "stdout",
     "output_type": "stream",
     "text": [
      "poncc-debug: 795\n"
     ]
    },
    {
     "name": "stderr",
     "output_type": "stream",
     "text": [
      "Building prefix dict from /Users/poncc/Documents/GitHub/2nd-PyCrawlerMarathon/homework/day038/dict.user.big.txt ...\n",
      "Loading model from cache /var/folders/68/t9g86v0d0ys2rpbv_g1xxrph0000gn/T/jieba.u25b0b9ddcb92304ec71499048447de52.cache\n",
      "Loading model cost 0.997 seconds.\n",
      "Prefix dict has been built successfully.\n"
     ]
    },
    {
     "name": "stdout",
     "output_type": "stream",
     "text": [
      "poncc-debug: 796\n"
     ]
    },
    {
     "name": "stderr",
     "output_type": "stream",
     "text": [
      "Building prefix dict from /Users/poncc/Documents/GitHub/2nd-PyCrawlerMarathon/homework/day038/dict.user.big.txt ...\n",
      "Loading model from cache /var/folders/68/t9g86v0d0ys2rpbv_g1xxrph0000gn/T/jieba.u25b0b9ddcb92304ec71499048447de52.cache\n",
      "Loading model cost 0.995 seconds.\n",
      "Prefix dict has been built successfully.\n"
     ]
    },
    {
     "name": "stdout",
     "output_type": "stream",
     "text": [
      "poncc-debug: 797\n"
     ]
    },
    {
     "name": "stderr",
     "output_type": "stream",
     "text": [
      "Building prefix dict from /Users/poncc/Documents/GitHub/2nd-PyCrawlerMarathon/homework/day038/dict.user.big.txt ...\n",
      "Loading model from cache /var/folders/68/t9g86v0d0ys2rpbv_g1xxrph0000gn/T/jieba.u25b0b9ddcb92304ec71499048447de52.cache\n",
      "Loading model cost 1.003 seconds.\n",
      "Prefix dict has been built successfully.\n"
     ]
    },
    {
     "name": "stdout",
     "output_type": "stream",
     "text": [
      "poncc-debug: 798\n"
     ]
    },
    {
     "name": "stderr",
     "output_type": "stream",
     "text": [
      "Building prefix dict from /Users/poncc/Documents/GitHub/2nd-PyCrawlerMarathon/homework/day038/dict.user.big.txt ...\n",
      "Loading model from cache /var/folders/68/t9g86v0d0ys2rpbv_g1xxrph0000gn/T/jieba.u25b0b9ddcb92304ec71499048447de52.cache\n",
      "Loading model cost 1.013 seconds.\n",
      "Prefix dict has been built successfully.\n",
      "Building prefix dict from /Users/poncc/Documents/GitHub/2nd-PyCrawlerMarathon/homework/day038/dict.user.big.txt ...\n",
      "Loading model from cache /var/folders/68/t9g86v0d0ys2rpbv_g1xxrph0000gn/T/jieba.u25b0b9ddcb92304ec71499048447de52.cache\n"
     ]
    },
    {
     "name": "stdout",
     "output_type": "stream",
     "text": [
      "poncc-debug: 799\n"
     ]
    },
    {
     "name": "stderr",
     "output_type": "stream",
     "text": [
      "Loading model cost 0.989 seconds.\n",
      "Prefix dict has been built successfully.\n"
     ]
    },
    {
     "name": "stdout",
     "output_type": "stream",
     "text": [
      "poncc-debug: 800\n"
     ]
    },
    {
     "name": "stderr",
     "output_type": "stream",
     "text": [
      "Building prefix dict from /Users/poncc/Documents/GitHub/2nd-PyCrawlerMarathon/homework/day038/dict.user.big.txt ...\n",
      "Loading model from cache /var/folders/68/t9g86v0d0ys2rpbv_g1xxrph0000gn/T/jieba.u25b0b9ddcb92304ec71499048447de52.cache\n",
      "Loading model cost 1.008 seconds.\n",
      "Prefix dict has been built successfully.\n"
     ]
    },
    {
     "name": "stdout",
     "output_type": "stream",
     "text": [
      "poncc-debug: 801\n"
     ]
    },
    {
     "name": "stderr",
     "output_type": "stream",
     "text": [
      "Building prefix dict from /Users/poncc/Documents/GitHub/2nd-PyCrawlerMarathon/homework/day038/dict.user.big.txt ...\n",
      "Loading model from cache /var/folders/68/t9g86v0d0ys2rpbv_g1xxrph0000gn/T/jieba.u25b0b9ddcb92304ec71499048447de52.cache\n",
      "Loading model cost 1.016 seconds.\n",
      "Prefix dict has been built successfully.\n"
     ]
    },
    {
     "name": "stdout",
     "output_type": "stream",
     "text": [
      "poncc-debug: 802\n"
     ]
    },
    {
     "name": "stderr",
     "output_type": "stream",
     "text": [
      "Building prefix dict from /Users/poncc/Documents/GitHub/2nd-PyCrawlerMarathon/homework/day038/dict.user.big.txt ...\n",
      "Loading model from cache /var/folders/68/t9g86v0d0ys2rpbv_g1xxrph0000gn/T/jieba.u25b0b9ddcb92304ec71499048447de52.cache\n",
      "Loading model cost 1.010 seconds.\n",
      "Prefix dict has been built successfully.\n"
     ]
    },
    {
     "name": "stdout",
     "output_type": "stream",
     "text": [
      "poncc-debug: 803\n"
     ]
    },
    {
     "name": "stderr",
     "output_type": "stream",
     "text": [
      "Building prefix dict from /Users/poncc/Documents/GitHub/2nd-PyCrawlerMarathon/homework/day038/dict.user.big.txt ...\n",
      "Loading model from cache /var/folders/68/t9g86v0d0ys2rpbv_g1xxrph0000gn/T/jieba.u25b0b9ddcb92304ec71499048447de52.cache\n",
      "Loading model cost 1.009 seconds.\n",
      "Prefix dict has been built successfully.\n"
     ]
    },
    {
     "name": "stdout",
     "output_type": "stream",
     "text": [
      "poncc-debug: 804\n"
     ]
    },
    {
     "name": "stderr",
     "output_type": "stream",
     "text": [
      "Building prefix dict from /Users/poncc/Documents/GitHub/2nd-PyCrawlerMarathon/homework/day038/dict.user.big.txt ...\n",
      "Loading model from cache /var/folders/68/t9g86v0d0ys2rpbv_g1xxrph0000gn/T/jieba.u25b0b9ddcb92304ec71499048447de52.cache\n",
      "Loading model cost 1.008 seconds.\n",
      "Prefix dict has been built successfully.\n"
     ]
    },
    {
     "name": "stdout",
     "output_type": "stream",
     "text": [
      "poncc-debug: 805\n"
     ]
    },
    {
     "name": "stderr",
     "output_type": "stream",
     "text": [
      "Building prefix dict from /Users/poncc/Documents/GitHub/2nd-PyCrawlerMarathon/homework/day038/dict.user.big.txt ...\n",
      "Loading model from cache /var/folders/68/t9g86v0d0ys2rpbv_g1xxrph0000gn/T/jieba.u25b0b9ddcb92304ec71499048447de52.cache\n",
      "Loading model cost 0.997 seconds.\n",
      "Prefix dict has been built successfully.\n"
     ]
    },
    {
     "name": "stdout",
     "output_type": "stream",
     "text": [
      "poncc-debug: 806\n"
     ]
    },
    {
     "name": "stderr",
     "output_type": "stream",
     "text": [
      "Building prefix dict from /Users/poncc/Documents/GitHub/2nd-PyCrawlerMarathon/homework/day038/dict.user.big.txt ...\n",
      "Loading model from cache /var/folders/68/t9g86v0d0ys2rpbv_g1xxrph0000gn/T/jieba.u25b0b9ddcb92304ec71499048447de52.cache\n",
      "Loading model cost 1.010 seconds.\n",
      "Prefix dict has been built successfully.\n"
     ]
    },
    {
     "name": "stdout",
     "output_type": "stream",
     "text": [
      "poncc-debug: 807\n"
     ]
    },
    {
     "name": "stderr",
     "output_type": "stream",
     "text": [
      "Building prefix dict from /Users/poncc/Documents/GitHub/2nd-PyCrawlerMarathon/homework/day038/dict.user.big.txt ...\n",
      "Loading model from cache /var/folders/68/t9g86v0d0ys2rpbv_g1xxrph0000gn/T/jieba.u25b0b9ddcb92304ec71499048447de52.cache\n",
      "Loading model cost 0.994 seconds.\n",
      "Prefix dict has been built successfully.\n"
     ]
    },
    {
     "name": "stdout",
     "output_type": "stream",
     "text": [
      "poncc-debug: 808\n"
     ]
    },
    {
     "name": "stderr",
     "output_type": "stream",
     "text": [
      "Building prefix dict from /Users/poncc/Documents/GitHub/2nd-PyCrawlerMarathon/homework/day038/dict.user.big.txt ...\n",
      "Loading model from cache /var/folders/68/t9g86v0d0ys2rpbv_g1xxrph0000gn/T/jieba.u25b0b9ddcb92304ec71499048447de52.cache\n",
      "Loading model cost 0.995 seconds.\n",
      "Prefix dict has been built successfully.\n"
     ]
    },
    {
     "name": "stdout",
     "output_type": "stream",
     "text": [
      "poncc-debug: 809\n"
     ]
    },
    {
     "name": "stderr",
     "output_type": "stream",
     "text": [
      "Building prefix dict from /Users/poncc/Documents/GitHub/2nd-PyCrawlerMarathon/homework/day038/dict.user.big.txt ...\n",
      "Loading model from cache /var/folders/68/t9g86v0d0ys2rpbv_g1xxrph0000gn/T/jieba.u25b0b9ddcb92304ec71499048447de52.cache\n",
      "Loading model cost 0.998 seconds.\n",
      "Prefix dict has been built successfully.\n"
     ]
    },
    {
     "name": "stdout",
     "output_type": "stream",
     "text": [
      "poncc-debug: 810\n"
     ]
    },
    {
     "name": "stderr",
     "output_type": "stream",
     "text": [
      "Building prefix dict from /Users/poncc/Documents/GitHub/2nd-PyCrawlerMarathon/homework/day038/dict.user.big.txt ...\n",
      "Loading model from cache /var/folders/68/t9g86v0d0ys2rpbv_g1xxrph0000gn/T/jieba.u25b0b9ddcb92304ec71499048447de52.cache\n",
      "Loading model cost 0.999 seconds.\n",
      "Prefix dict has been built successfully.\n"
     ]
    },
    {
     "name": "stdout",
     "output_type": "stream",
     "text": [
      "poncc-debug: 811\n"
     ]
    },
    {
     "name": "stderr",
     "output_type": "stream",
     "text": [
      "Building prefix dict from /Users/poncc/Documents/GitHub/2nd-PyCrawlerMarathon/homework/day038/dict.user.big.txt ...\n",
      "Loading model from cache /var/folders/68/t9g86v0d0ys2rpbv_g1xxrph0000gn/T/jieba.u25b0b9ddcb92304ec71499048447de52.cache\n",
      "Loading model cost 1.015 seconds.\n",
      "Prefix dict has been built successfully.\n"
     ]
    },
    {
     "name": "stdout",
     "output_type": "stream",
     "text": [
      "poncc-debug: 812\n"
     ]
    },
    {
     "name": "stderr",
     "output_type": "stream",
     "text": [
      "Building prefix dict from /Users/poncc/Documents/GitHub/2nd-PyCrawlerMarathon/homework/day038/dict.user.big.txt ...\n",
      "Loading model from cache /var/folders/68/t9g86v0d0ys2rpbv_g1xxrph0000gn/T/jieba.u25b0b9ddcb92304ec71499048447de52.cache\n",
      "Loading model cost 1.003 seconds.\n",
      "Prefix dict has been built successfully.\n"
     ]
    },
    {
     "name": "stdout",
     "output_type": "stream",
     "text": [
      "poncc-debug: 813\n"
     ]
    },
    {
     "name": "stderr",
     "output_type": "stream",
     "text": [
      "Building prefix dict from /Users/poncc/Documents/GitHub/2nd-PyCrawlerMarathon/homework/day038/dict.user.big.txt ...\n",
      "Loading model from cache /var/folders/68/t9g86v0d0ys2rpbv_g1xxrph0000gn/T/jieba.u25b0b9ddcb92304ec71499048447de52.cache\n",
      "Loading model cost 1.004 seconds.\n",
      "Prefix dict has been built successfully.\n"
     ]
    },
    {
     "name": "stdout",
     "output_type": "stream",
     "text": [
      "poncc-debug: 814\n"
     ]
    },
    {
     "name": "stderr",
     "output_type": "stream",
     "text": [
      "Building prefix dict from /Users/poncc/Documents/GitHub/2nd-PyCrawlerMarathon/homework/day038/dict.user.big.txt ...\n",
      "Loading model from cache /var/folders/68/t9g86v0d0ys2rpbv_g1xxrph0000gn/T/jieba.u25b0b9ddcb92304ec71499048447de52.cache\n",
      "Loading model cost 1.011 seconds.\n",
      "Prefix dict has been built successfully.\n"
     ]
    },
    {
     "name": "stdout",
     "output_type": "stream",
     "text": [
      "poncc-debug: 815\n"
     ]
    },
    {
     "name": "stderr",
     "output_type": "stream",
     "text": [
      "Building prefix dict from /Users/poncc/Documents/GitHub/2nd-PyCrawlerMarathon/homework/day038/dict.user.big.txt ...\n",
      "Loading model from cache /var/folders/68/t9g86v0d0ys2rpbv_g1xxrph0000gn/T/jieba.u25b0b9ddcb92304ec71499048447de52.cache\n",
      "Loading model cost 0.992 seconds.\n",
      "Prefix dict has been built successfully.\n"
     ]
    },
    {
     "name": "stdout",
     "output_type": "stream",
     "text": [
      "poncc-debug: 816\n"
     ]
    },
    {
     "name": "stderr",
     "output_type": "stream",
     "text": [
      "Building prefix dict from /Users/poncc/Documents/GitHub/2nd-PyCrawlerMarathon/homework/day038/dict.user.big.txt ...\n",
      "Loading model from cache /var/folders/68/t9g86v0d0ys2rpbv_g1xxrph0000gn/T/jieba.u25b0b9ddcb92304ec71499048447de52.cache\n",
      "Loading model cost 1.010 seconds.\n",
      "Prefix dict has been built successfully.\n"
     ]
    },
    {
     "name": "stdout",
     "output_type": "stream",
     "text": [
      "poncc-debug: 817\n"
     ]
    },
    {
     "name": "stderr",
     "output_type": "stream",
     "text": [
      "Building prefix dict from /Users/poncc/Documents/GitHub/2nd-PyCrawlerMarathon/homework/day038/dict.user.big.txt ...\n",
      "Loading model from cache /var/folders/68/t9g86v0d0ys2rpbv_g1xxrph0000gn/T/jieba.u25b0b9ddcb92304ec71499048447de52.cache\n",
      "Loading model cost 1.029 seconds.\n",
      "Prefix dict has been built successfully.\n"
     ]
    },
    {
     "name": "stdout",
     "output_type": "stream",
     "text": [
      "poncc-debug: 818\n"
     ]
    },
    {
     "name": "stderr",
     "output_type": "stream",
     "text": [
      "Building prefix dict from /Users/poncc/Documents/GitHub/2nd-PyCrawlerMarathon/homework/day038/dict.user.big.txt ...\n",
      "Loading model from cache /var/folders/68/t9g86v0d0ys2rpbv_g1xxrph0000gn/T/jieba.u25b0b9ddcb92304ec71499048447de52.cache\n",
      "Loading model cost 1.007 seconds.\n",
      "Prefix dict has been built successfully.\n"
     ]
    },
    {
     "name": "stdout",
     "output_type": "stream",
     "text": [
      "poncc-debug: 819\n"
     ]
    },
    {
     "name": "stderr",
     "output_type": "stream",
     "text": [
      "Building prefix dict from /Users/poncc/Documents/GitHub/2nd-PyCrawlerMarathon/homework/day038/dict.user.big.txt ...\n",
      "Loading model from cache /var/folders/68/t9g86v0d0ys2rpbv_g1xxrph0000gn/T/jieba.u25b0b9ddcb92304ec71499048447de52.cache\n",
      "Loading model cost 1.019 seconds.\n",
      "Prefix dict has been built successfully.\n"
     ]
    },
    {
     "name": "stdout",
     "output_type": "stream",
     "text": [
      "poncc-debug: 820\n"
     ]
    },
    {
     "name": "stderr",
     "output_type": "stream",
     "text": [
      "Building prefix dict from /Users/poncc/Documents/GitHub/2nd-PyCrawlerMarathon/homework/day038/dict.user.big.txt ...\n",
      "Loading model from cache /var/folders/68/t9g86v0d0ys2rpbv_g1xxrph0000gn/T/jieba.u25b0b9ddcb92304ec71499048447de52.cache\n",
      "Loading model cost 1.006 seconds.\n",
      "Prefix dict has been built successfully.\n"
     ]
    },
    {
     "name": "stdout",
     "output_type": "stream",
     "text": [
      "poncc-debug: 821\n"
     ]
    },
    {
     "name": "stderr",
     "output_type": "stream",
     "text": [
      "Building prefix dict from /Users/poncc/Documents/GitHub/2nd-PyCrawlerMarathon/homework/day038/dict.user.big.txt ...\n",
      "Loading model from cache /var/folders/68/t9g86v0d0ys2rpbv_g1xxrph0000gn/T/jieba.u25b0b9ddcb92304ec71499048447de52.cache\n",
      "Loading model cost 1.014 seconds.\n",
      "Prefix dict has been built successfully.\n"
     ]
    },
    {
     "name": "stdout",
     "output_type": "stream",
     "text": [
      "poncc-debug: 822\n"
     ]
    },
    {
     "name": "stderr",
     "output_type": "stream",
     "text": [
      "Building prefix dict from /Users/poncc/Documents/GitHub/2nd-PyCrawlerMarathon/homework/day038/dict.user.big.txt ...\n",
      "Loading model from cache /var/folders/68/t9g86v0d0ys2rpbv_g1xxrph0000gn/T/jieba.u25b0b9ddcb92304ec71499048447de52.cache\n",
      "Loading model cost 1.009 seconds.\n",
      "Prefix dict has been built successfully.\n"
     ]
    },
    {
     "name": "stdout",
     "output_type": "stream",
     "text": [
      "poncc-debug: 823\n"
     ]
    },
    {
     "name": "stderr",
     "output_type": "stream",
     "text": [
      "Building prefix dict from /Users/poncc/Documents/GitHub/2nd-PyCrawlerMarathon/homework/day038/dict.user.big.txt ...\n",
      "Loading model from cache /var/folders/68/t9g86v0d0ys2rpbv_g1xxrph0000gn/T/jieba.u25b0b9ddcb92304ec71499048447de52.cache\n",
      "Loading model cost 1.012 seconds.\n",
      "Prefix dict has been built successfully.\n"
     ]
    },
    {
     "name": "stdout",
     "output_type": "stream",
     "text": [
      "poncc-debug: 824\n"
     ]
    },
    {
     "name": "stderr",
     "output_type": "stream",
     "text": [
      "Building prefix dict from /Users/poncc/Documents/GitHub/2nd-PyCrawlerMarathon/homework/day038/dict.user.big.txt ...\n",
      "Loading model from cache /var/folders/68/t9g86v0d0ys2rpbv_g1xxrph0000gn/T/jieba.u25b0b9ddcb92304ec71499048447de52.cache\n",
      "Loading model cost 1.013 seconds.\n",
      "Prefix dict has been built successfully.\n"
     ]
    },
    {
     "name": "stdout",
     "output_type": "stream",
     "text": [
      "poncc-debug: 825\n"
     ]
    },
    {
     "name": "stderr",
     "output_type": "stream",
     "text": [
      "Building prefix dict from /Users/poncc/Documents/GitHub/2nd-PyCrawlerMarathon/homework/day038/dict.user.big.txt ...\n",
      "Loading model from cache /var/folders/68/t9g86v0d0ys2rpbv_g1xxrph0000gn/T/jieba.u25b0b9ddcb92304ec71499048447de52.cache\n",
      "Loading model cost 1.023 seconds.\n",
      "Prefix dict has been built successfully.\n"
     ]
    },
    {
     "name": "stdout",
     "output_type": "stream",
     "text": [
      "poncc-debug: 826\n"
     ]
    },
    {
     "name": "stderr",
     "output_type": "stream",
     "text": [
      "Building prefix dict from /Users/poncc/Documents/GitHub/2nd-PyCrawlerMarathon/homework/day038/dict.user.big.txt ...\n",
      "Loading model from cache /var/folders/68/t9g86v0d0ys2rpbv_g1xxrph0000gn/T/jieba.u25b0b9ddcb92304ec71499048447de52.cache\n",
      "Loading model cost 1.010 seconds.\n",
      "Prefix dict has been built successfully.\n"
     ]
    },
    {
     "name": "stdout",
     "output_type": "stream",
     "text": [
      "poncc-debug: 827\n"
     ]
    },
    {
     "name": "stderr",
     "output_type": "stream",
     "text": [
      "Building prefix dict from /Users/poncc/Documents/GitHub/2nd-PyCrawlerMarathon/homework/day038/dict.user.big.txt ...\n",
      "Loading model from cache /var/folders/68/t9g86v0d0ys2rpbv_g1xxrph0000gn/T/jieba.u25b0b9ddcb92304ec71499048447de52.cache\n",
      "Loading model cost 1.019 seconds.\n",
      "Prefix dict has been built successfully.\n"
     ]
    },
    {
     "name": "stdout",
     "output_type": "stream",
     "text": [
      "poncc-debug: 828\n"
     ]
    },
    {
     "name": "stderr",
     "output_type": "stream",
     "text": [
      "Building prefix dict from /Users/poncc/Documents/GitHub/2nd-PyCrawlerMarathon/homework/day038/dict.user.big.txt ...\n",
      "Loading model from cache /var/folders/68/t9g86v0d0ys2rpbv_g1xxrph0000gn/T/jieba.u25b0b9ddcb92304ec71499048447de52.cache\n",
      "Loading model cost 1.018 seconds.\n",
      "Prefix dict has been built successfully.\n"
     ]
    },
    {
     "name": "stdout",
     "output_type": "stream",
     "text": [
      "poncc-debug: 829\n"
     ]
    },
    {
     "name": "stderr",
     "output_type": "stream",
     "text": [
      "Building prefix dict from /Users/poncc/Documents/GitHub/2nd-PyCrawlerMarathon/homework/day038/dict.user.big.txt ...\n",
      "Loading model from cache /var/folders/68/t9g86v0d0ys2rpbv_g1xxrph0000gn/T/jieba.u25b0b9ddcb92304ec71499048447de52.cache\n",
      "Loading model cost 1.003 seconds.\n",
      "Prefix dict has been built successfully.\n"
     ]
    },
    {
     "name": "stdout",
     "output_type": "stream",
     "text": [
      "poncc-debug: 830\n"
     ]
    },
    {
     "name": "stderr",
     "output_type": "stream",
     "text": [
      "Building prefix dict from /Users/poncc/Documents/GitHub/2nd-PyCrawlerMarathon/homework/day038/dict.user.big.txt ...\n",
      "Loading model from cache /var/folders/68/t9g86v0d0ys2rpbv_g1xxrph0000gn/T/jieba.u25b0b9ddcb92304ec71499048447de52.cache\n",
      "Loading model cost 1.031 seconds.\n",
      "Prefix dict has been built successfully.\n",
      "Building prefix dict from /Users/poncc/Documents/GitHub/2nd-PyCrawlerMarathon/homework/day038/dict.user.big.txt ...\n",
      "Loading model from cache /var/folders/68/t9g86v0d0ys2rpbv_g1xxrph0000gn/T/jieba.u25b0b9ddcb92304ec71499048447de52.cache\n"
     ]
    },
    {
     "name": "stdout",
     "output_type": "stream",
     "text": [
      "poncc-debug: 831\n"
     ]
    },
    {
     "name": "stderr",
     "output_type": "stream",
     "text": [
      "Loading model cost 1.027 seconds.\n",
      "Prefix dict has been built successfully.\n"
     ]
    },
    {
     "name": "stdout",
     "output_type": "stream",
     "text": [
      "poncc-debug: 832\n"
     ]
    },
    {
     "name": "stderr",
     "output_type": "stream",
     "text": [
      "Building prefix dict from /Users/poncc/Documents/GitHub/2nd-PyCrawlerMarathon/homework/day038/dict.user.big.txt ...\n",
      "Loading model from cache /var/folders/68/t9g86v0d0ys2rpbv_g1xxrph0000gn/T/jieba.u25b0b9ddcb92304ec71499048447de52.cache\n",
      "Loading model cost 1.011 seconds.\n",
      "Prefix dict has been built successfully.\n"
     ]
    },
    {
     "name": "stdout",
     "output_type": "stream",
     "text": [
      "poncc-debug: 833\n"
     ]
    },
    {
     "name": "stderr",
     "output_type": "stream",
     "text": [
      "Building prefix dict from /Users/poncc/Documents/GitHub/2nd-PyCrawlerMarathon/homework/day038/dict.user.big.txt ...\n",
      "Loading model from cache /var/folders/68/t9g86v0d0ys2rpbv_g1xxrph0000gn/T/jieba.u25b0b9ddcb92304ec71499048447de52.cache\n",
      "Loading model cost 0.997 seconds.\n",
      "Prefix dict has been built successfully.\n"
     ]
    },
    {
     "name": "stdout",
     "output_type": "stream",
     "text": [
      "poncc-debug: 834\n"
     ]
    },
    {
     "name": "stderr",
     "output_type": "stream",
     "text": [
      "Building prefix dict from /Users/poncc/Documents/GitHub/2nd-PyCrawlerMarathon/homework/day038/dict.user.big.txt ...\n",
      "Loading model from cache /var/folders/68/t9g86v0d0ys2rpbv_g1xxrph0000gn/T/jieba.u25b0b9ddcb92304ec71499048447de52.cache\n",
      "Loading model cost 1.016 seconds.\n",
      "Prefix dict has been built successfully.\n"
     ]
    },
    {
     "name": "stdout",
     "output_type": "stream",
     "text": [
      "poncc-debug: 835\n"
     ]
    },
    {
     "name": "stderr",
     "output_type": "stream",
     "text": [
      "Building prefix dict from /Users/poncc/Documents/GitHub/2nd-PyCrawlerMarathon/homework/day038/dict.user.big.txt ...\n",
      "Loading model from cache /var/folders/68/t9g86v0d0ys2rpbv_g1xxrph0000gn/T/jieba.u25b0b9ddcb92304ec71499048447de52.cache\n",
      "Loading model cost 1.014 seconds.\n",
      "Prefix dict has been built successfully.\n"
     ]
    },
    {
     "name": "stdout",
     "output_type": "stream",
     "text": [
      "poncc-debug: 836\n"
     ]
    },
    {
     "name": "stderr",
     "output_type": "stream",
     "text": [
      "Building prefix dict from /Users/poncc/Documents/GitHub/2nd-PyCrawlerMarathon/homework/day038/dict.user.big.txt ...\n",
      "Loading model from cache /var/folders/68/t9g86v0d0ys2rpbv_g1xxrph0000gn/T/jieba.u25b0b9ddcb92304ec71499048447de52.cache\n",
      "Loading model cost 1.011 seconds.\n",
      "Prefix dict has been built successfully.\n",
      "Building prefix dict from /Users/poncc/Documents/GitHub/2nd-PyCrawlerMarathon/homework/day038/dict.user.big.txt ...\n",
      "Loading model from cache /var/folders/68/t9g86v0d0ys2rpbv_g1xxrph0000gn/T/jieba.u25b0b9ddcb92304ec71499048447de52.cache\n"
     ]
    },
    {
     "name": "stdout",
     "output_type": "stream",
     "text": [
      "poncc-debug: 837\n"
     ]
    },
    {
     "name": "stderr",
     "output_type": "stream",
     "text": [
      "Loading model cost 1.023 seconds.\n",
      "Prefix dict has been built successfully.\n"
     ]
    },
    {
     "name": "stdout",
     "output_type": "stream",
     "text": [
      "poncc-debug: 838\n"
     ]
    },
    {
     "name": "stderr",
     "output_type": "stream",
     "text": [
      "Building prefix dict from /Users/poncc/Documents/GitHub/2nd-PyCrawlerMarathon/homework/day038/dict.user.big.txt ...\n",
      "Loading model from cache /var/folders/68/t9g86v0d0ys2rpbv_g1xxrph0000gn/T/jieba.u25b0b9ddcb92304ec71499048447de52.cache\n",
      "Loading model cost 1.043 seconds.\n",
      "Prefix dict has been built successfully.\n"
     ]
    },
    {
     "name": "stdout",
     "output_type": "stream",
     "text": [
      "poncc-debug: 839\n"
     ]
    },
    {
     "name": "stderr",
     "output_type": "stream",
     "text": [
      "Building prefix dict from /Users/poncc/Documents/GitHub/2nd-PyCrawlerMarathon/homework/day038/dict.user.big.txt ...\n",
      "Loading model from cache /var/folders/68/t9g86v0d0ys2rpbv_g1xxrph0000gn/T/jieba.u25b0b9ddcb92304ec71499048447de52.cache\n",
      "Loading model cost 1.037 seconds.\n",
      "Prefix dict has been built successfully.\n",
      "Building prefix dict from /Users/poncc/Documents/GitHub/2nd-PyCrawlerMarathon/homework/day038/dict.user.big.txt ...\n"
     ]
    },
    {
     "name": "stdout",
     "output_type": "stream",
     "text": [
      "poncc-debug: 840\n"
     ]
    },
    {
     "name": "stderr",
     "output_type": "stream",
     "text": [
      "Loading model from cache /var/folders/68/t9g86v0d0ys2rpbv_g1xxrph0000gn/T/jieba.u25b0b9ddcb92304ec71499048447de52.cache\n",
      "Loading model cost 1.013 seconds.\n",
      "Prefix dict has been built successfully.\n"
     ]
    },
    {
     "name": "stdout",
     "output_type": "stream",
     "text": [
      "poncc-debug: 841\n"
     ]
    },
    {
     "name": "stderr",
     "output_type": "stream",
     "text": [
      "Building prefix dict from /Users/poncc/Documents/GitHub/2nd-PyCrawlerMarathon/homework/day038/dict.user.big.txt ...\n",
      "Loading model from cache /var/folders/68/t9g86v0d0ys2rpbv_g1xxrph0000gn/T/jieba.u25b0b9ddcb92304ec71499048447de52.cache\n",
      "Loading model cost 1.024 seconds.\n",
      "Prefix dict has been built successfully.\n"
     ]
    },
    {
     "name": "stdout",
     "output_type": "stream",
     "text": [
      "poncc-debug: 842\n"
     ]
    },
    {
     "name": "stderr",
     "output_type": "stream",
     "text": [
      "Building prefix dict from /Users/poncc/Documents/GitHub/2nd-PyCrawlerMarathon/homework/day038/dict.user.big.txt ...\n",
      "Loading model from cache /var/folders/68/t9g86v0d0ys2rpbv_g1xxrph0000gn/T/jieba.u25b0b9ddcb92304ec71499048447de52.cache\n",
      "Loading model cost 1.048 seconds.\n",
      "Prefix dict has been built successfully.\n"
     ]
    },
    {
     "name": "stdout",
     "output_type": "stream",
     "text": [
      "poncc-debug: 843\n"
     ]
    },
    {
     "name": "stderr",
     "output_type": "stream",
     "text": [
      "Building prefix dict from /Users/poncc/Documents/GitHub/2nd-PyCrawlerMarathon/homework/day038/dict.user.big.txt ...\n",
      "Loading model from cache /var/folders/68/t9g86v0d0ys2rpbv_g1xxrph0000gn/T/jieba.u25b0b9ddcb92304ec71499048447de52.cache\n",
      "Loading model cost 1.075 seconds.\n",
      "Prefix dict has been built successfully.\n"
     ]
    },
    {
     "name": "stdout",
     "output_type": "stream",
     "text": [
      "poncc-debug: 844\n"
     ]
    },
    {
     "name": "stderr",
     "output_type": "stream",
     "text": [
      "Building prefix dict from /Users/poncc/Documents/GitHub/2nd-PyCrawlerMarathon/homework/day038/dict.user.big.txt ...\n",
      "Loading model from cache /var/folders/68/t9g86v0d0ys2rpbv_g1xxrph0000gn/T/jieba.u25b0b9ddcb92304ec71499048447de52.cache\n",
      "Loading model cost 1.096 seconds.\n",
      "Prefix dict has been built successfully.\n"
     ]
    },
    {
     "name": "stdout",
     "output_type": "stream",
     "text": [
      "poncc-debug: 845\n"
     ]
    },
    {
     "name": "stderr",
     "output_type": "stream",
     "text": [
      "Building prefix dict from /Users/poncc/Documents/GitHub/2nd-PyCrawlerMarathon/homework/day038/dict.user.big.txt ...\n",
      "Loading model from cache /var/folders/68/t9g86v0d0ys2rpbv_g1xxrph0000gn/T/jieba.u25b0b9ddcb92304ec71499048447de52.cache\n",
      "Loading model cost 1.108 seconds.\n",
      "Prefix dict has been built successfully.\n"
     ]
    },
    {
     "name": "stdout",
     "output_type": "stream",
     "text": [
      "poncc-debug: 846\n"
     ]
    },
    {
     "name": "stderr",
     "output_type": "stream",
     "text": [
      "Building prefix dict from /Users/poncc/Documents/GitHub/2nd-PyCrawlerMarathon/homework/day038/dict.user.big.txt ...\n",
      "Loading model from cache /var/folders/68/t9g86v0d0ys2rpbv_g1xxrph0000gn/T/jieba.u25b0b9ddcb92304ec71499048447de52.cache\n",
      "Loading model cost 1.054 seconds.\n",
      "Prefix dict has been built successfully.\n"
     ]
    },
    {
     "name": "stdout",
     "output_type": "stream",
     "text": [
      "poncc-debug: 847\n"
     ]
    },
    {
     "name": "stderr",
     "output_type": "stream",
     "text": [
      "Building prefix dict from /Users/poncc/Documents/GitHub/2nd-PyCrawlerMarathon/homework/day038/dict.user.big.txt ...\n",
      "Loading model from cache /var/folders/68/t9g86v0d0ys2rpbv_g1xxrph0000gn/T/jieba.u25b0b9ddcb92304ec71499048447de52.cache\n",
      "Loading model cost 1.044 seconds.\n",
      "Prefix dict has been built successfully.\n",
      "Building prefix dict from /Users/poncc/Documents/GitHub/2nd-PyCrawlerMarathon/homework/day038/dict.user.big.txt ...\n"
     ]
    },
    {
     "name": "stdout",
     "output_type": "stream",
     "text": [
      "poncc-debug: 848\n"
     ]
    },
    {
     "name": "stderr",
     "output_type": "stream",
     "text": [
      "Loading model from cache /var/folders/68/t9g86v0d0ys2rpbv_g1xxrph0000gn/T/jieba.u25b0b9ddcb92304ec71499048447de52.cache\n",
      "Loading model cost 1.011 seconds.\n",
      "Prefix dict has been built successfully.\n"
     ]
    },
    {
     "name": "stdout",
     "output_type": "stream",
     "text": [
      "poncc-debug: 849\n"
     ]
    },
    {
     "name": "stderr",
     "output_type": "stream",
     "text": [
      "Building prefix dict from /Users/poncc/Documents/GitHub/2nd-PyCrawlerMarathon/homework/day038/dict.user.big.txt ...\n",
      "Loading model from cache /var/folders/68/t9g86v0d0ys2rpbv_g1xxrph0000gn/T/jieba.u25b0b9ddcb92304ec71499048447de52.cache\n",
      "Loading model cost 0.998 seconds.\n",
      "Prefix dict has been built successfully.\n"
     ]
    },
    {
     "name": "stdout",
     "output_type": "stream",
     "text": [
      "poncc-debug: 850\n"
     ]
    },
    {
     "name": "stderr",
     "output_type": "stream",
     "text": [
      "Building prefix dict from /Users/poncc/Documents/GitHub/2nd-PyCrawlerMarathon/homework/day038/dict.user.big.txt ...\n",
      "Loading model from cache /var/folders/68/t9g86v0d0ys2rpbv_g1xxrph0000gn/T/jieba.u25b0b9ddcb92304ec71499048447de52.cache\n",
      "Loading model cost 1.009 seconds.\n",
      "Prefix dict has been built successfully.\n"
     ]
    },
    {
     "name": "stdout",
     "output_type": "stream",
     "text": [
      "poncc-debug: 851\n"
     ]
    },
    {
     "name": "stderr",
     "output_type": "stream",
     "text": [
      "Building prefix dict from /Users/poncc/Documents/GitHub/2nd-PyCrawlerMarathon/homework/day038/dict.user.big.txt ...\n",
      "Loading model from cache /var/folders/68/t9g86v0d0ys2rpbv_g1xxrph0000gn/T/jieba.u25b0b9ddcb92304ec71499048447de52.cache\n",
      "Loading model cost 1.009 seconds.\n",
      "Prefix dict has been built successfully.\n"
     ]
    },
    {
     "name": "stdout",
     "output_type": "stream",
     "text": [
      "poncc-debug: 852\n"
     ]
    },
    {
     "name": "stderr",
     "output_type": "stream",
     "text": [
      "Building prefix dict from /Users/poncc/Documents/GitHub/2nd-PyCrawlerMarathon/homework/day038/dict.user.big.txt ...\n",
      "Loading model from cache /var/folders/68/t9g86v0d0ys2rpbv_g1xxrph0000gn/T/jieba.u25b0b9ddcb92304ec71499048447de52.cache\n",
      "Loading model cost 1.014 seconds.\n",
      "Prefix dict has been built successfully.\n"
     ]
    },
    {
     "name": "stdout",
     "output_type": "stream",
     "text": [
      "poncc-debug: 853\n"
     ]
    },
    {
     "name": "stderr",
     "output_type": "stream",
     "text": [
      "Building prefix dict from /Users/poncc/Documents/GitHub/2nd-PyCrawlerMarathon/homework/day038/dict.user.big.txt ...\n",
      "Loading model from cache /var/folders/68/t9g86v0d0ys2rpbv_g1xxrph0000gn/T/jieba.u25b0b9ddcb92304ec71499048447de52.cache\n",
      "Loading model cost 1.013 seconds.\n",
      "Prefix dict has been built successfully.\n"
     ]
    },
    {
     "name": "stdout",
     "output_type": "stream",
     "text": [
      "poncc-debug: 854\n"
     ]
    },
    {
     "name": "stderr",
     "output_type": "stream",
     "text": [
      "Building prefix dict from /Users/poncc/Documents/GitHub/2nd-PyCrawlerMarathon/homework/day038/dict.user.big.txt ...\n",
      "Loading model from cache /var/folders/68/t9g86v0d0ys2rpbv_g1xxrph0000gn/T/jieba.u25b0b9ddcb92304ec71499048447de52.cache\n",
      "Loading model cost 1.004 seconds.\n",
      "Prefix dict has been built successfully.\n"
     ]
    },
    {
     "name": "stdout",
     "output_type": "stream",
     "text": [
      "poncc-debug: 855\n"
     ]
    },
    {
     "name": "stderr",
     "output_type": "stream",
     "text": [
      "Building prefix dict from /Users/poncc/Documents/GitHub/2nd-PyCrawlerMarathon/homework/day038/dict.user.big.txt ...\n",
      "Loading model from cache /var/folders/68/t9g86v0d0ys2rpbv_g1xxrph0000gn/T/jieba.u25b0b9ddcb92304ec71499048447de52.cache\n",
      "Loading model cost 1.019 seconds.\n",
      "Prefix dict has been built successfully.\n"
     ]
    },
    {
     "name": "stdout",
     "output_type": "stream",
     "text": [
      "poncc-debug: 856\n"
     ]
    },
    {
     "name": "stderr",
     "output_type": "stream",
     "text": [
      "Building prefix dict from /Users/poncc/Documents/GitHub/2nd-PyCrawlerMarathon/homework/day038/dict.user.big.txt ...\n",
      "Loading model from cache /var/folders/68/t9g86v0d0ys2rpbv_g1xxrph0000gn/T/jieba.u25b0b9ddcb92304ec71499048447de52.cache\n",
      "Loading model cost 1.018 seconds.\n",
      "Prefix dict has been built successfully.\n"
     ]
    },
    {
     "name": "stdout",
     "output_type": "stream",
     "text": [
      "poncc-debug: 857\n"
     ]
    },
    {
     "name": "stderr",
     "output_type": "stream",
     "text": [
      "Building prefix dict from /Users/poncc/Documents/GitHub/2nd-PyCrawlerMarathon/homework/day038/dict.user.big.txt ...\n",
      "Loading model from cache /var/folders/68/t9g86v0d0ys2rpbv_g1xxrph0000gn/T/jieba.u25b0b9ddcb92304ec71499048447de52.cache\n",
      "Loading model cost 1.007 seconds.\n",
      "Prefix dict has been built successfully.\n"
     ]
    },
    {
     "name": "stdout",
     "output_type": "stream",
     "text": [
      "poncc-debug: 858\n"
     ]
    },
    {
     "name": "stderr",
     "output_type": "stream",
     "text": [
      "Building prefix dict from /Users/poncc/Documents/GitHub/2nd-PyCrawlerMarathon/homework/day038/dict.user.big.txt ...\n",
      "Loading model from cache /var/folders/68/t9g86v0d0ys2rpbv_g1xxrph0000gn/T/jieba.u25b0b9ddcb92304ec71499048447de52.cache\n",
      "Loading model cost 1.002 seconds.\n",
      "Prefix dict has been built successfully.\n"
     ]
    },
    {
     "name": "stdout",
     "output_type": "stream",
     "text": [
      "poncc-debug: 859\n"
     ]
    },
    {
     "name": "stderr",
     "output_type": "stream",
     "text": [
      "Building prefix dict from /Users/poncc/Documents/GitHub/2nd-PyCrawlerMarathon/homework/day038/dict.user.big.txt ...\n",
      "Loading model from cache /var/folders/68/t9g86v0d0ys2rpbv_g1xxrph0000gn/T/jieba.u25b0b9ddcb92304ec71499048447de52.cache\n",
      "Loading model cost 1.013 seconds.\n",
      "Prefix dict has been built successfully.\n"
     ]
    },
    {
     "name": "stdout",
     "output_type": "stream",
     "text": [
      "poncc-debug: 860\n"
     ]
    },
    {
     "name": "stderr",
     "output_type": "stream",
     "text": [
      "Building prefix dict from /Users/poncc/Documents/GitHub/2nd-PyCrawlerMarathon/homework/day038/dict.user.big.txt ...\n",
      "Loading model from cache /var/folders/68/t9g86v0d0ys2rpbv_g1xxrph0000gn/T/jieba.u25b0b9ddcb92304ec71499048447de52.cache\n",
      "Loading model cost 0.998 seconds.\n",
      "Prefix dict has been built successfully.\n"
     ]
    },
    {
     "name": "stdout",
     "output_type": "stream",
     "text": [
      "poncc-debug: 861\n"
     ]
    },
    {
     "name": "stderr",
     "output_type": "stream",
     "text": [
      "Building prefix dict from /Users/poncc/Documents/GitHub/2nd-PyCrawlerMarathon/homework/day038/dict.user.big.txt ...\n",
      "Loading model from cache /var/folders/68/t9g86v0d0ys2rpbv_g1xxrph0000gn/T/jieba.u25b0b9ddcb92304ec71499048447de52.cache\n",
      "Loading model cost 1.012 seconds.\n",
      "Prefix dict has been built successfully.\n"
     ]
    },
    {
     "name": "stdout",
     "output_type": "stream",
     "text": [
      "poncc-debug: 862\n"
     ]
    },
    {
     "name": "stderr",
     "output_type": "stream",
     "text": [
      "Building prefix dict from /Users/poncc/Documents/GitHub/2nd-PyCrawlerMarathon/homework/day038/dict.user.big.txt ...\n",
      "Loading model from cache /var/folders/68/t9g86v0d0ys2rpbv_g1xxrph0000gn/T/jieba.u25b0b9ddcb92304ec71499048447de52.cache\n",
      "Loading model cost 1.008 seconds.\n",
      "Prefix dict has been built successfully.\n"
     ]
    },
    {
     "name": "stdout",
     "output_type": "stream",
     "text": [
      "poncc-debug: 863\n"
     ]
    },
    {
     "name": "stderr",
     "output_type": "stream",
     "text": [
      "Building prefix dict from /Users/poncc/Documents/GitHub/2nd-PyCrawlerMarathon/homework/day038/dict.user.big.txt ...\n",
      "Loading model from cache /var/folders/68/t9g86v0d0ys2rpbv_g1xxrph0000gn/T/jieba.u25b0b9ddcb92304ec71499048447de52.cache\n",
      "Loading model cost 1.010 seconds.\n",
      "Prefix dict has been built successfully.\n"
     ]
    },
    {
     "name": "stdout",
     "output_type": "stream",
     "text": [
      "poncc-debug: 864\n"
     ]
    },
    {
     "name": "stderr",
     "output_type": "stream",
     "text": [
      "Building prefix dict from /Users/poncc/Documents/GitHub/2nd-PyCrawlerMarathon/homework/day038/dict.user.big.txt ...\n",
      "Loading model from cache /var/folders/68/t9g86v0d0ys2rpbv_g1xxrph0000gn/T/jieba.u25b0b9ddcb92304ec71499048447de52.cache\n",
      "Loading model cost 0.998 seconds.\n",
      "Prefix dict has been built successfully.\n"
     ]
    },
    {
     "name": "stdout",
     "output_type": "stream",
     "text": [
      "poncc-debug: 865\n"
     ]
    },
    {
     "name": "stderr",
     "output_type": "stream",
     "text": [
      "Building prefix dict from /Users/poncc/Documents/GitHub/2nd-PyCrawlerMarathon/homework/day038/dict.user.big.txt ...\n",
      "Loading model from cache /var/folders/68/t9g86v0d0ys2rpbv_g1xxrph0000gn/T/jieba.u25b0b9ddcb92304ec71499048447de52.cache\n",
      "Loading model cost 1.009 seconds.\n",
      "Prefix dict has been built successfully.\n"
     ]
    },
    {
     "name": "stdout",
     "output_type": "stream",
     "text": [
      "poncc-debug: 866\n"
     ]
    },
    {
     "name": "stderr",
     "output_type": "stream",
     "text": [
      "Building prefix dict from /Users/poncc/Documents/GitHub/2nd-PyCrawlerMarathon/homework/day038/dict.user.big.txt ...\n",
      "Loading model from cache /var/folders/68/t9g86v0d0ys2rpbv_g1xxrph0000gn/T/jieba.u25b0b9ddcb92304ec71499048447de52.cache\n",
      "Loading model cost 1.025 seconds.\n",
      "Prefix dict has been built successfully.\n"
     ]
    },
    {
     "name": "stdout",
     "output_type": "stream",
     "text": [
      "poncc-debug: 867\n"
     ]
    },
    {
     "name": "stderr",
     "output_type": "stream",
     "text": [
      "Building prefix dict from /Users/poncc/Documents/GitHub/2nd-PyCrawlerMarathon/homework/day038/dict.user.big.txt ...\n",
      "Loading model from cache /var/folders/68/t9g86v0d0ys2rpbv_g1xxrph0000gn/T/jieba.u25b0b9ddcb92304ec71499048447de52.cache\n",
      "Loading model cost 1.010 seconds.\n",
      "Prefix dict has been built successfully.\n"
     ]
    },
    {
     "name": "stdout",
     "output_type": "stream",
     "text": [
      "poncc-debug: 868\n"
     ]
    },
    {
     "name": "stderr",
     "output_type": "stream",
     "text": [
      "Building prefix dict from /Users/poncc/Documents/GitHub/2nd-PyCrawlerMarathon/homework/day038/dict.user.big.txt ...\n",
      "Loading model from cache /var/folders/68/t9g86v0d0ys2rpbv_g1xxrph0000gn/T/jieba.u25b0b9ddcb92304ec71499048447de52.cache\n",
      "Loading model cost 1.031 seconds.\n",
      "Prefix dict has been built successfully.\n"
     ]
    },
    {
     "name": "stdout",
     "output_type": "stream",
     "text": [
      "poncc-debug: 869\n"
     ]
    },
    {
     "name": "stderr",
     "output_type": "stream",
     "text": [
      "Building prefix dict from /Users/poncc/Documents/GitHub/2nd-PyCrawlerMarathon/homework/day038/dict.user.big.txt ...\n",
      "Loading model from cache /var/folders/68/t9g86v0d0ys2rpbv_g1xxrph0000gn/T/jieba.u25b0b9ddcb92304ec71499048447de52.cache\n",
      "Loading model cost 1.001 seconds.\n",
      "Prefix dict has been built successfully.\n"
     ]
    },
    {
     "name": "stdout",
     "output_type": "stream",
     "text": [
      "poncc-debug: 870\n"
     ]
    },
    {
     "name": "stderr",
     "output_type": "stream",
     "text": [
      "Building prefix dict from /Users/poncc/Documents/GitHub/2nd-PyCrawlerMarathon/homework/day038/dict.user.big.txt ...\n",
      "Loading model from cache /var/folders/68/t9g86v0d0ys2rpbv_g1xxrph0000gn/T/jieba.u25b0b9ddcb92304ec71499048447de52.cache\n",
      "Loading model cost 1.007 seconds.\n",
      "Prefix dict has been built successfully.\n"
     ]
    },
    {
     "name": "stdout",
     "output_type": "stream",
     "text": [
      "poncc-debug: 871\n"
     ]
    },
    {
     "name": "stderr",
     "output_type": "stream",
     "text": [
      "Building prefix dict from /Users/poncc/Documents/GitHub/2nd-PyCrawlerMarathon/homework/day038/dict.user.big.txt ...\n",
      "Loading model from cache /var/folders/68/t9g86v0d0ys2rpbv_g1xxrph0000gn/T/jieba.u25b0b9ddcb92304ec71499048447de52.cache\n",
      "Loading model cost 1.020 seconds.\n",
      "Prefix dict has been built successfully.\n"
     ]
    },
    {
     "name": "stdout",
     "output_type": "stream",
     "text": [
      "poncc-debug: 872\n"
     ]
    },
    {
     "name": "stderr",
     "output_type": "stream",
     "text": [
      "Building prefix dict from /Users/poncc/Documents/GitHub/2nd-PyCrawlerMarathon/homework/day038/dict.user.big.txt ...\n",
      "Loading model from cache /var/folders/68/t9g86v0d0ys2rpbv_g1xxrph0000gn/T/jieba.u25b0b9ddcb92304ec71499048447de52.cache\n",
      "Loading model cost 1.017 seconds.\n",
      "Prefix dict has been built successfully.\n"
     ]
    },
    {
     "name": "stdout",
     "output_type": "stream",
     "text": [
      "poncc-debug: 873\n"
     ]
    },
    {
     "name": "stderr",
     "output_type": "stream",
     "text": [
      "Building prefix dict from /Users/poncc/Documents/GitHub/2nd-PyCrawlerMarathon/homework/day038/dict.user.big.txt ...\n",
      "Loading model from cache /var/folders/68/t9g86v0d0ys2rpbv_g1xxrph0000gn/T/jieba.u25b0b9ddcb92304ec71499048447de52.cache\n",
      "Loading model cost 1.010 seconds.\n",
      "Prefix dict has been built successfully.\n"
     ]
    },
    {
     "name": "stdout",
     "output_type": "stream",
     "text": [
      "poncc-debug: 874\n"
     ]
    },
    {
     "name": "stderr",
     "output_type": "stream",
     "text": [
      "Building prefix dict from /Users/poncc/Documents/GitHub/2nd-PyCrawlerMarathon/homework/day038/dict.user.big.txt ...\n",
      "Loading model from cache /var/folders/68/t9g86v0d0ys2rpbv_g1xxrph0000gn/T/jieba.u25b0b9ddcb92304ec71499048447de52.cache\n",
      "Loading model cost 1.009 seconds.\n",
      "Prefix dict has been built successfully.\n",
      "Building prefix dict from /Users/poncc/Documents/GitHub/2nd-PyCrawlerMarathon/homework/day038/dict.user.big.txt ...\n",
      "Loading model from cache /var/folders/68/t9g86v0d0ys2rpbv_g1xxrph0000gn/T/jieba.u25b0b9ddcb92304ec71499048447de52.cache\n"
     ]
    },
    {
     "name": "stdout",
     "output_type": "stream",
     "text": [
      "poncc-debug: 875\n"
     ]
    },
    {
     "name": "stderr",
     "output_type": "stream",
     "text": [
      "Loading model cost 1.042 seconds.\n",
      "Prefix dict has been built successfully.\n"
     ]
    },
    {
     "name": "stdout",
     "output_type": "stream",
     "text": [
      "poncc-debug: 876\n"
     ]
    },
    {
     "name": "stderr",
     "output_type": "stream",
     "text": [
      "Building prefix dict from /Users/poncc/Documents/GitHub/2nd-PyCrawlerMarathon/homework/day038/dict.user.big.txt ...\n",
      "Loading model from cache /var/folders/68/t9g86v0d0ys2rpbv_g1xxrph0000gn/T/jieba.u25b0b9ddcb92304ec71499048447de52.cache\n",
      "Loading model cost 1.027 seconds.\n",
      "Prefix dict has been built successfully.\n"
     ]
    },
    {
     "name": "stdout",
     "output_type": "stream",
     "text": [
      "poncc-debug: 877\n"
     ]
    },
    {
     "name": "stderr",
     "output_type": "stream",
     "text": [
      "Building prefix dict from /Users/poncc/Documents/GitHub/2nd-PyCrawlerMarathon/homework/day038/dict.user.big.txt ...\n",
      "Loading model from cache /var/folders/68/t9g86v0d0ys2rpbv_g1xxrph0000gn/T/jieba.u25b0b9ddcb92304ec71499048447de52.cache\n",
      "Loading model cost 1.011 seconds.\n",
      "Prefix dict has been built successfully.\n"
     ]
    },
    {
     "name": "stdout",
     "output_type": "stream",
     "text": [
      "poncc-debug: 878\n"
     ]
    },
    {
     "name": "stderr",
     "output_type": "stream",
     "text": [
      "Building prefix dict from /Users/poncc/Documents/GitHub/2nd-PyCrawlerMarathon/homework/day038/dict.user.big.txt ...\n",
      "Loading model from cache /var/folders/68/t9g86v0d0ys2rpbv_g1xxrph0000gn/T/jieba.u25b0b9ddcb92304ec71499048447de52.cache\n",
      "Loading model cost 1.017 seconds.\n",
      "Prefix dict has been built successfully.\n"
     ]
    },
    {
     "name": "stdout",
     "output_type": "stream",
     "text": [
      "poncc-debug: 879\n"
     ]
    },
    {
     "name": "stderr",
     "output_type": "stream",
     "text": [
      "Building prefix dict from /Users/poncc/Documents/GitHub/2nd-PyCrawlerMarathon/homework/day038/dict.user.big.txt ...\n",
      "Loading model from cache /var/folders/68/t9g86v0d0ys2rpbv_g1xxrph0000gn/T/jieba.u25b0b9ddcb92304ec71499048447de52.cache\n",
      "Loading model cost 1.032 seconds.\n",
      "Prefix dict has been built successfully.\n"
     ]
    },
    {
     "name": "stdout",
     "output_type": "stream",
     "text": [
      "poncc-debug: 880\n"
     ]
    },
    {
     "name": "stderr",
     "output_type": "stream",
     "text": [
      "Building prefix dict from /Users/poncc/Documents/GitHub/2nd-PyCrawlerMarathon/homework/day038/dict.user.big.txt ...\n",
      "Loading model from cache /var/folders/68/t9g86v0d0ys2rpbv_g1xxrph0000gn/T/jieba.u25b0b9ddcb92304ec71499048447de52.cache\n",
      "Loading model cost 1.037 seconds.\n",
      "Prefix dict has been built successfully.\n"
     ]
    },
    {
     "name": "stdout",
     "output_type": "stream",
     "text": [
      "poncc-debug: 881\n"
     ]
    },
    {
     "name": "stderr",
     "output_type": "stream",
     "text": [
      "Building prefix dict from /Users/poncc/Documents/GitHub/2nd-PyCrawlerMarathon/homework/day038/dict.user.big.txt ...\n",
      "Loading model from cache /var/folders/68/t9g86v0d0ys2rpbv_g1xxrph0000gn/T/jieba.u25b0b9ddcb92304ec71499048447de52.cache\n",
      "Loading model cost 1.024 seconds.\n",
      "Prefix dict has been built successfully.\n"
     ]
    },
    {
     "name": "stdout",
     "output_type": "stream",
     "text": [
      "poncc-debug: 882\n"
     ]
    },
    {
     "name": "stderr",
     "output_type": "stream",
     "text": [
      "Building prefix dict from /Users/poncc/Documents/GitHub/2nd-PyCrawlerMarathon/homework/day038/dict.user.big.txt ...\n",
      "Loading model from cache /var/folders/68/t9g86v0d0ys2rpbv_g1xxrph0000gn/T/jieba.u25b0b9ddcb92304ec71499048447de52.cache\n",
      "Loading model cost 1.024 seconds.\n",
      "Prefix dict has been built successfully.\n"
     ]
    },
    {
     "name": "stdout",
     "output_type": "stream",
     "text": [
      "poncc-debug: 883\n"
     ]
    },
    {
     "name": "stderr",
     "output_type": "stream",
     "text": [
      "Building prefix dict from /Users/poncc/Documents/GitHub/2nd-PyCrawlerMarathon/homework/day038/dict.user.big.txt ...\n",
      "Loading model from cache /var/folders/68/t9g86v0d0ys2rpbv_g1xxrph0000gn/T/jieba.u25b0b9ddcb92304ec71499048447de52.cache\n",
      "Loading model cost 1.014 seconds.\n",
      "Prefix dict has been built successfully.\n"
     ]
    },
    {
     "name": "stdout",
     "output_type": "stream",
     "text": [
      "poncc-debug: 884\n"
     ]
    },
    {
     "name": "stderr",
     "output_type": "stream",
     "text": [
      "Building prefix dict from /Users/poncc/Documents/GitHub/2nd-PyCrawlerMarathon/homework/day038/dict.user.big.txt ...\n",
      "Loading model from cache /var/folders/68/t9g86v0d0ys2rpbv_g1xxrph0000gn/T/jieba.u25b0b9ddcb92304ec71499048447de52.cache\n",
      "Loading model cost 1.011 seconds.\n",
      "Prefix dict has been built successfully.\n"
     ]
    },
    {
     "name": "stdout",
     "output_type": "stream",
     "text": [
      "poncc-debug: 885\n"
     ]
    },
    {
     "name": "stderr",
     "output_type": "stream",
     "text": [
      "Building prefix dict from /Users/poncc/Documents/GitHub/2nd-PyCrawlerMarathon/homework/day038/dict.user.big.txt ...\n",
      "Loading model from cache /var/folders/68/t9g86v0d0ys2rpbv_g1xxrph0000gn/T/jieba.u25b0b9ddcb92304ec71499048447de52.cache\n",
      "Loading model cost 0.995 seconds.\n",
      "Prefix dict has been built successfully.\n"
     ]
    },
    {
     "name": "stdout",
     "output_type": "stream",
     "text": [
      "poncc-debug: 886\n"
     ]
    },
    {
     "name": "stderr",
     "output_type": "stream",
     "text": [
      "Building prefix dict from /Users/poncc/Documents/GitHub/2nd-PyCrawlerMarathon/homework/day038/dict.user.big.txt ...\n",
      "Loading model from cache /var/folders/68/t9g86v0d0ys2rpbv_g1xxrph0000gn/T/jieba.u25b0b9ddcb92304ec71499048447de52.cache\n",
      "Loading model cost 1.011 seconds.\n",
      "Prefix dict has been built successfully.\n"
     ]
    },
    {
     "name": "stdout",
     "output_type": "stream",
     "text": [
      "poncc-debug: 887\n"
     ]
    },
    {
     "name": "stderr",
     "output_type": "stream",
     "text": [
      "Building prefix dict from /Users/poncc/Documents/GitHub/2nd-PyCrawlerMarathon/homework/day038/dict.user.big.txt ...\n",
      "Loading model from cache /var/folders/68/t9g86v0d0ys2rpbv_g1xxrph0000gn/T/jieba.u25b0b9ddcb92304ec71499048447de52.cache\n",
      "Loading model cost 1.010 seconds.\n",
      "Prefix dict has been built successfully.\n"
     ]
    },
    {
     "name": "stdout",
     "output_type": "stream",
     "text": [
      "poncc-debug: 888\n"
     ]
    },
    {
     "name": "stderr",
     "output_type": "stream",
     "text": [
      "Building prefix dict from /Users/poncc/Documents/GitHub/2nd-PyCrawlerMarathon/homework/day038/dict.user.big.txt ...\n",
      "Loading model from cache /var/folders/68/t9g86v0d0ys2rpbv_g1xxrph0000gn/T/jieba.u25b0b9ddcb92304ec71499048447de52.cache\n",
      "Loading model cost 1.019 seconds.\n",
      "Prefix dict has been built successfully.\n"
     ]
    },
    {
     "name": "stdout",
     "output_type": "stream",
     "text": [
      "poncc-debug: 889\n"
     ]
    },
    {
     "name": "stderr",
     "output_type": "stream",
     "text": [
      "Building prefix dict from /Users/poncc/Documents/GitHub/2nd-PyCrawlerMarathon/homework/day038/dict.user.big.txt ...\n",
      "Loading model from cache /var/folders/68/t9g86v0d0ys2rpbv_g1xxrph0000gn/T/jieba.u25b0b9ddcb92304ec71499048447de52.cache\n",
      "Loading model cost 0.994 seconds.\n",
      "Prefix dict has been built successfully.\n"
     ]
    },
    {
     "name": "stdout",
     "output_type": "stream",
     "text": [
      "poncc-debug: 890\n"
     ]
    },
    {
     "name": "stderr",
     "output_type": "stream",
     "text": [
      "Building prefix dict from /Users/poncc/Documents/GitHub/2nd-PyCrawlerMarathon/homework/day038/dict.user.big.txt ...\n",
      "Loading model from cache /var/folders/68/t9g86v0d0ys2rpbv_g1xxrph0000gn/T/jieba.u25b0b9ddcb92304ec71499048447de52.cache\n",
      "Loading model cost 1.014 seconds.\n",
      "Prefix dict has been built successfully.\n"
     ]
    },
    {
     "name": "stdout",
     "output_type": "stream",
     "text": [
      "poncc-debug: 891\n"
     ]
    },
    {
     "name": "stderr",
     "output_type": "stream",
     "text": [
      "Building prefix dict from /Users/poncc/Documents/GitHub/2nd-PyCrawlerMarathon/homework/day038/dict.user.big.txt ...\n",
      "Loading model from cache /var/folders/68/t9g86v0d0ys2rpbv_g1xxrph0000gn/T/jieba.u25b0b9ddcb92304ec71499048447de52.cache\n",
      "Loading model cost 1.016 seconds.\n",
      "Prefix dict has been built successfully.\n"
     ]
    },
    {
     "name": "stdout",
     "output_type": "stream",
     "text": [
      "poncc-debug: 892\n"
     ]
    },
    {
     "name": "stderr",
     "output_type": "stream",
     "text": [
      "Building prefix dict from /Users/poncc/Documents/GitHub/2nd-PyCrawlerMarathon/homework/day038/dict.user.big.txt ...\n",
      "Loading model from cache /var/folders/68/t9g86v0d0ys2rpbv_g1xxrph0000gn/T/jieba.u25b0b9ddcb92304ec71499048447de52.cache\n",
      "Loading model cost 1.019 seconds.\n",
      "Prefix dict has been built successfully.\n"
     ]
    },
    {
     "name": "stdout",
     "output_type": "stream",
     "text": [
      "poncc-debug: 893\n"
     ]
    },
    {
     "name": "stderr",
     "output_type": "stream",
     "text": [
      "Building prefix dict from /Users/poncc/Documents/GitHub/2nd-PyCrawlerMarathon/homework/day038/dict.user.big.txt ...\n",
      "Loading model from cache /var/folders/68/t9g86v0d0ys2rpbv_g1xxrph0000gn/T/jieba.u25b0b9ddcb92304ec71499048447de52.cache\n",
      "Loading model cost 1.018 seconds.\n",
      "Prefix dict has been built successfully.\n"
     ]
    },
    {
     "name": "stdout",
     "output_type": "stream",
     "text": [
      "poncc-debug: 894\n"
     ]
    },
    {
     "name": "stderr",
     "output_type": "stream",
     "text": [
      "Building prefix dict from /Users/poncc/Documents/GitHub/2nd-PyCrawlerMarathon/homework/day038/dict.user.big.txt ...\n",
      "Loading model from cache /var/folders/68/t9g86v0d0ys2rpbv_g1xxrph0000gn/T/jieba.u25b0b9ddcb92304ec71499048447de52.cache\n",
      "Loading model cost 1.014 seconds.\n",
      "Prefix dict has been built successfully.\n"
     ]
    },
    {
     "name": "stdout",
     "output_type": "stream",
     "text": [
      "poncc-debug: 895\n"
     ]
    },
    {
     "name": "stderr",
     "output_type": "stream",
     "text": [
      "Building prefix dict from /Users/poncc/Documents/GitHub/2nd-PyCrawlerMarathon/homework/day038/dict.user.big.txt ...\n",
      "Loading model from cache /var/folders/68/t9g86v0d0ys2rpbv_g1xxrph0000gn/T/jieba.u25b0b9ddcb92304ec71499048447de52.cache\n",
      "Loading model cost 1.013 seconds.\n",
      "Prefix dict has been built successfully.\n"
     ]
    },
    {
     "name": "stdout",
     "output_type": "stream",
     "text": [
      "poncc-debug: 896\n"
     ]
    },
    {
     "name": "stderr",
     "output_type": "stream",
     "text": [
      "Building prefix dict from /Users/poncc/Documents/GitHub/2nd-PyCrawlerMarathon/homework/day038/dict.user.big.txt ...\n",
      "Loading model from cache /var/folders/68/t9g86v0d0ys2rpbv_g1xxrph0000gn/T/jieba.u25b0b9ddcb92304ec71499048447de52.cache\n",
      "Loading model cost 1.003 seconds.\n",
      "Prefix dict has been built successfully.\n"
     ]
    },
    {
     "name": "stdout",
     "output_type": "stream",
     "text": [
      "poncc-debug: 897\n"
     ]
    },
    {
     "name": "stderr",
     "output_type": "stream",
     "text": [
      "Building prefix dict from /Users/poncc/Documents/GitHub/2nd-PyCrawlerMarathon/homework/day038/dict.user.big.txt ...\n",
      "Loading model from cache /var/folders/68/t9g86v0d0ys2rpbv_g1xxrph0000gn/T/jieba.u25b0b9ddcb92304ec71499048447de52.cache\n",
      "Loading model cost 1.011 seconds.\n",
      "Prefix dict has been built successfully.\n"
     ]
    },
    {
     "name": "stdout",
     "output_type": "stream",
     "text": [
      "poncc-debug: 898\n"
     ]
    },
    {
     "name": "stderr",
     "output_type": "stream",
     "text": [
      "Building prefix dict from /Users/poncc/Documents/GitHub/2nd-PyCrawlerMarathon/homework/day038/dict.user.big.txt ...\n",
      "Loading model from cache /var/folders/68/t9g86v0d0ys2rpbv_g1xxrph0000gn/T/jieba.u25b0b9ddcb92304ec71499048447de52.cache\n",
      "Loading model cost 1.020 seconds.\n",
      "Prefix dict has been built successfully.\n"
     ]
    },
    {
     "name": "stdout",
     "output_type": "stream",
     "text": [
      "poncc-debug: 899\n"
     ]
    },
    {
     "name": "stderr",
     "output_type": "stream",
     "text": [
      "Building prefix dict from /Users/poncc/Documents/GitHub/2nd-PyCrawlerMarathon/homework/day038/dict.user.big.txt ...\n",
      "Loading model from cache /var/folders/68/t9g86v0d0ys2rpbv_g1xxrph0000gn/T/jieba.u25b0b9ddcb92304ec71499048447de52.cache\n",
      "Loading model cost 1.002 seconds.\n",
      "Prefix dict has been built successfully.\n",
      "Building prefix dict from /Users/poncc/Documents/GitHub/2nd-PyCrawlerMarathon/homework/day038/dict.user.big.txt ...\n"
     ]
    },
    {
     "name": "stdout",
     "output_type": "stream",
     "text": [
      "poncc-debug: 900\n"
     ]
    },
    {
     "name": "stderr",
     "output_type": "stream",
     "text": [
      "Loading model from cache /var/folders/68/t9g86v0d0ys2rpbv_g1xxrph0000gn/T/jieba.u25b0b9ddcb92304ec71499048447de52.cache\n",
      "Loading model cost 1.006 seconds.\n",
      "Prefix dict has been built successfully.\n"
     ]
    },
    {
     "name": "stdout",
     "output_type": "stream",
     "text": [
      "poncc-debug: 901\n"
     ]
    },
    {
     "name": "stderr",
     "output_type": "stream",
     "text": [
      "Building prefix dict from /Users/poncc/Documents/GitHub/2nd-PyCrawlerMarathon/homework/day038/dict.user.big.txt ...\n",
      "Loading model from cache /var/folders/68/t9g86v0d0ys2rpbv_g1xxrph0000gn/T/jieba.u25b0b9ddcb92304ec71499048447de52.cache\n",
      "Loading model cost 1.024 seconds.\n",
      "Prefix dict has been built successfully.\n"
     ]
    },
    {
     "name": "stdout",
     "output_type": "stream",
     "text": [
      "poncc-debug: 902\n"
     ]
    },
    {
     "name": "stderr",
     "output_type": "stream",
     "text": [
      "Building prefix dict from /Users/poncc/Documents/GitHub/2nd-PyCrawlerMarathon/homework/day038/dict.user.big.txt ...\n",
      "Loading model from cache /var/folders/68/t9g86v0d0ys2rpbv_g1xxrph0000gn/T/jieba.u25b0b9ddcb92304ec71499048447de52.cache\n",
      "Loading model cost 1.006 seconds.\n",
      "Prefix dict has been built successfully.\n"
     ]
    },
    {
     "name": "stdout",
     "output_type": "stream",
     "text": [
      "poncc-debug: 903\n"
     ]
    },
    {
     "name": "stderr",
     "output_type": "stream",
     "text": [
      "Building prefix dict from /Users/poncc/Documents/GitHub/2nd-PyCrawlerMarathon/homework/day038/dict.user.big.txt ...\n",
      "Loading model from cache /var/folders/68/t9g86v0d0ys2rpbv_g1xxrph0000gn/T/jieba.u25b0b9ddcb92304ec71499048447de52.cache\n",
      "Loading model cost 1.015 seconds.\n",
      "Prefix dict has been built successfully.\n"
     ]
    },
    {
     "name": "stdout",
     "output_type": "stream",
     "text": [
      "poncc-debug: 904\n"
     ]
    },
    {
     "name": "stderr",
     "output_type": "stream",
     "text": [
      "Building prefix dict from /Users/poncc/Documents/GitHub/2nd-PyCrawlerMarathon/homework/day038/dict.user.big.txt ...\n",
      "Loading model from cache /var/folders/68/t9g86v0d0ys2rpbv_g1xxrph0000gn/T/jieba.u25b0b9ddcb92304ec71499048447de52.cache\n",
      "Loading model cost 1.006 seconds.\n",
      "Prefix dict has been built successfully.\n"
     ]
    },
    {
     "name": "stdout",
     "output_type": "stream",
     "text": [
      "poncc-debug: 905\n"
     ]
    },
    {
     "name": "stderr",
     "output_type": "stream",
     "text": [
      "Building prefix dict from /Users/poncc/Documents/GitHub/2nd-PyCrawlerMarathon/homework/day038/dict.user.big.txt ...\n",
      "Loading model from cache /var/folders/68/t9g86v0d0ys2rpbv_g1xxrph0000gn/T/jieba.u25b0b9ddcb92304ec71499048447de52.cache\n",
      "Loading model cost 1.020 seconds.\n",
      "Prefix dict has been built successfully.\n"
     ]
    },
    {
     "name": "stdout",
     "output_type": "stream",
     "text": [
      "poncc-debug: 906\n"
     ]
    },
    {
     "name": "stderr",
     "output_type": "stream",
     "text": [
      "Building prefix dict from /Users/poncc/Documents/GitHub/2nd-PyCrawlerMarathon/homework/day038/dict.user.big.txt ...\n",
      "Loading model from cache /var/folders/68/t9g86v0d0ys2rpbv_g1xxrph0000gn/T/jieba.u25b0b9ddcb92304ec71499048447de52.cache\n",
      "Loading model cost 0.996 seconds.\n",
      "Prefix dict has been built successfully.\n"
     ]
    },
    {
     "name": "stdout",
     "output_type": "stream",
     "text": [
      "poncc-debug: 907\n"
     ]
    },
    {
     "name": "stderr",
     "output_type": "stream",
     "text": [
      "Building prefix dict from /Users/poncc/Documents/GitHub/2nd-PyCrawlerMarathon/homework/day038/dict.user.big.txt ...\n",
      "Loading model from cache /var/folders/68/t9g86v0d0ys2rpbv_g1xxrph0000gn/T/jieba.u25b0b9ddcb92304ec71499048447de52.cache\n",
      "Loading model cost 1.001 seconds.\n",
      "Prefix dict has been built successfully.\n"
     ]
    },
    {
     "name": "stdout",
     "output_type": "stream",
     "text": [
      "poncc-debug: 908\n"
     ]
    },
    {
     "name": "stderr",
     "output_type": "stream",
     "text": [
      "Building prefix dict from /Users/poncc/Documents/GitHub/2nd-PyCrawlerMarathon/homework/day038/dict.user.big.txt ...\n",
      "Loading model from cache /var/folders/68/t9g86v0d0ys2rpbv_g1xxrph0000gn/T/jieba.u25b0b9ddcb92304ec71499048447de52.cache\n",
      "Loading model cost 1.019 seconds.\n",
      "Prefix dict has been built successfully.\n"
     ]
    },
    {
     "name": "stdout",
     "output_type": "stream",
     "text": [
      "poncc-debug: 909\n"
     ]
    },
    {
     "name": "stderr",
     "output_type": "stream",
     "text": [
      "Building prefix dict from /Users/poncc/Documents/GitHub/2nd-PyCrawlerMarathon/homework/day038/dict.user.big.txt ...\n",
      "Loading model from cache /var/folders/68/t9g86v0d0ys2rpbv_g1xxrph0000gn/T/jieba.u25b0b9ddcb92304ec71499048447de52.cache\n",
      "Loading model cost 1.014 seconds.\n",
      "Prefix dict has been built successfully.\n"
     ]
    },
    {
     "name": "stdout",
     "output_type": "stream",
     "text": [
      "poncc-debug: 910\n"
     ]
    },
    {
     "name": "stderr",
     "output_type": "stream",
     "text": [
      "Building prefix dict from /Users/poncc/Documents/GitHub/2nd-PyCrawlerMarathon/homework/day038/dict.user.big.txt ...\n",
      "Loading model from cache /var/folders/68/t9g86v0d0ys2rpbv_g1xxrph0000gn/T/jieba.u25b0b9ddcb92304ec71499048447de52.cache\n",
      "Loading model cost 1.054 seconds.\n",
      "Prefix dict has been built successfully.\n"
     ]
    },
    {
     "name": "stdout",
     "output_type": "stream",
     "text": [
      "poncc-debug: 911\n"
     ]
    },
    {
     "name": "stderr",
     "output_type": "stream",
     "text": [
      "Building prefix dict from /Users/poncc/Documents/GitHub/2nd-PyCrawlerMarathon/homework/day038/dict.user.big.txt ...\n",
      "Loading model from cache /var/folders/68/t9g86v0d0ys2rpbv_g1xxrph0000gn/T/jieba.u25b0b9ddcb92304ec71499048447de52.cache\n",
      "Loading model cost 1.007 seconds.\n",
      "Prefix dict has been built successfully.\n"
     ]
    },
    {
     "name": "stdout",
     "output_type": "stream",
     "text": [
      "poncc-debug: 912\n"
     ]
    },
    {
     "name": "stderr",
     "output_type": "stream",
     "text": [
      "Building prefix dict from /Users/poncc/Documents/GitHub/2nd-PyCrawlerMarathon/homework/day038/dict.user.big.txt ...\n",
      "Loading model from cache /var/folders/68/t9g86v0d0ys2rpbv_g1xxrph0000gn/T/jieba.u25b0b9ddcb92304ec71499048447de52.cache\n",
      "Loading model cost 1.015 seconds.\n",
      "Prefix dict has been built successfully.\n"
     ]
    },
    {
     "name": "stdout",
     "output_type": "stream",
     "text": [
      "poncc-debug: 913\n"
     ]
    },
    {
     "name": "stderr",
     "output_type": "stream",
     "text": [
      "Building prefix dict from /Users/poncc/Documents/GitHub/2nd-PyCrawlerMarathon/homework/day038/dict.user.big.txt ...\n",
      "Loading model from cache /var/folders/68/t9g86v0d0ys2rpbv_g1xxrph0000gn/T/jieba.u25b0b9ddcb92304ec71499048447de52.cache\n",
      "Loading model cost 1.018 seconds.\n",
      "Prefix dict has been built successfully.\n",
      "Building prefix dict from /Users/poncc/Documents/GitHub/2nd-PyCrawlerMarathon/homework/day038/dict.user.big.txt ...\n",
      "Loading model from cache /var/folders/68/t9g86v0d0ys2rpbv_g1xxrph0000gn/T/jieba.u25b0b9ddcb92304ec71499048447de52.cache\n"
     ]
    },
    {
     "name": "stdout",
     "output_type": "stream",
     "text": [
      "poncc-debug: 914\n"
     ]
    },
    {
     "name": "stderr",
     "output_type": "stream",
     "text": [
      "Loading model cost 1.020 seconds.\n",
      "Prefix dict has been built successfully.\n"
     ]
    },
    {
     "name": "stdout",
     "output_type": "stream",
     "text": [
      "poncc-debug: 915\n"
     ]
    },
    {
     "name": "stderr",
     "output_type": "stream",
     "text": [
      "Building prefix dict from /Users/poncc/Documents/GitHub/2nd-PyCrawlerMarathon/homework/day038/dict.user.big.txt ...\n",
      "Loading model from cache /var/folders/68/t9g86v0d0ys2rpbv_g1xxrph0000gn/T/jieba.u25b0b9ddcb92304ec71499048447de52.cache\n",
      "Loading model cost 1.010 seconds.\n",
      "Prefix dict has been built successfully.\n"
     ]
    },
    {
     "name": "stdout",
     "output_type": "stream",
     "text": [
      "poncc-debug: 916\n"
     ]
    },
    {
     "name": "stderr",
     "output_type": "stream",
     "text": [
      "Building prefix dict from /Users/poncc/Documents/GitHub/2nd-PyCrawlerMarathon/homework/day038/dict.user.big.txt ...\n",
      "Loading model from cache /var/folders/68/t9g86v0d0ys2rpbv_g1xxrph0000gn/T/jieba.u25b0b9ddcb92304ec71499048447de52.cache\n",
      "Loading model cost 1.016 seconds.\n",
      "Prefix dict has been built successfully.\n"
     ]
    },
    {
     "name": "stdout",
     "output_type": "stream",
     "text": [
      "poncc-debug: 917\n"
     ]
    },
    {
     "name": "stderr",
     "output_type": "stream",
     "text": [
      "Building prefix dict from /Users/poncc/Documents/GitHub/2nd-PyCrawlerMarathon/homework/day038/dict.user.big.txt ...\n",
      "Loading model from cache /var/folders/68/t9g86v0d0ys2rpbv_g1xxrph0000gn/T/jieba.u25b0b9ddcb92304ec71499048447de52.cache\n",
      "Loading model cost 0.999 seconds.\n",
      "Prefix dict has been built successfully.\n"
     ]
    },
    {
     "name": "stdout",
     "output_type": "stream",
     "text": [
      "poncc-debug: 918\n"
     ]
    },
    {
     "name": "stderr",
     "output_type": "stream",
     "text": [
      "Building prefix dict from /Users/poncc/Documents/GitHub/2nd-PyCrawlerMarathon/homework/day038/dict.user.big.txt ...\n",
      "Loading model from cache /var/folders/68/t9g86v0d0ys2rpbv_g1xxrph0000gn/T/jieba.u25b0b9ddcb92304ec71499048447de52.cache\n",
      "Loading model cost 1.020 seconds.\n",
      "Prefix dict has been built successfully.\n"
     ]
    },
    {
     "name": "stdout",
     "output_type": "stream",
     "text": [
      "poncc-debug: 919\n"
     ]
    },
    {
     "name": "stderr",
     "output_type": "stream",
     "text": [
      "Building prefix dict from /Users/poncc/Documents/GitHub/2nd-PyCrawlerMarathon/homework/day038/dict.user.big.txt ...\n",
      "Loading model from cache /var/folders/68/t9g86v0d0ys2rpbv_g1xxrph0000gn/T/jieba.u25b0b9ddcb92304ec71499048447de52.cache\n",
      "Loading model cost 0.994 seconds.\n",
      "Prefix dict has been built successfully.\n"
     ]
    },
    {
     "name": "stdout",
     "output_type": "stream",
     "text": [
      "poncc-debug: 920\n"
     ]
    },
    {
     "name": "stderr",
     "output_type": "stream",
     "text": [
      "Building prefix dict from /Users/poncc/Documents/GitHub/2nd-PyCrawlerMarathon/homework/day038/dict.user.big.txt ...\n",
      "Loading model from cache /var/folders/68/t9g86v0d0ys2rpbv_g1xxrph0000gn/T/jieba.u25b0b9ddcb92304ec71499048447de52.cache\n",
      "Loading model cost 1.003 seconds.\n",
      "Prefix dict has been built successfully.\n"
     ]
    },
    {
     "name": "stdout",
     "output_type": "stream",
     "text": [
      "poncc-debug: 921\n"
     ]
    },
    {
     "name": "stderr",
     "output_type": "stream",
     "text": [
      "Building prefix dict from /Users/poncc/Documents/GitHub/2nd-PyCrawlerMarathon/homework/day038/dict.user.big.txt ...\n",
      "Loading model from cache /var/folders/68/t9g86v0d0ys2rpbv_g1xxrph0000gn/T/jieba.u25b0b9ddcb92304ec71499048447de52.cache\n",
      "Loading model cost 1.031 seconds.\n",
      "Prefix dict has been built successfully.\n"
     ]
    },
    {
     "name": "stdout",
     "output_type": "stream",
     "text": [
      "poncc-debug: 922\n"
     ]
    },
    {
     "name": "stderr",
     "output_type": "stream",
     "text": [
      "Building prefix dict from /Users/poncc/Documents/GitHub/2nd-PyCrawlerMarathon/homework/day038/dict.user.big.txt ...\n",
      "Loading model from cache /var/folders/68/t9g86v0d0ys2rpbv_g1xxrph0000gn/T/jieba.u25b0b9ddcb92304ec71499048447de52.cache\n",
      "Loading model cost 1.033 seconds.\n",
      "Prefix dict has been built successfully.\n"
     ]
    },
    {
     "name": "stdout",
     "output_type": "stream",
     "text": [
      "poncc-debug: 923\n"
     ]
    },
    {
     "name": "stderr",
     "output_type": "stream",
     "text": [
      "Building prefix dict from /Users/poncc/Documents/GitHub/2nd-PyCrawlerMarathon/homework/day038/dict.user.big.txt ...\n",
      "Loading model from cache /var/folders/68/t9g86v0d0ys2rpbv_g1xxrph0000gn/T/jieba.u25b0b9ddcb92304ec71499048447de52.cache\n",
      "Loading model cost 1.014 seconds.\n",
      "Prefix dict has been built successfully.\n"
     ]
    },
    {
     "name": "stdout",
     "output_type": "stream",
     "text": [
      "poncc-debug: 924\n"
     ]
    },
    {
     "name": "stderr",
     "output_type": "stream",
     "text": [
      "Building prefix dict from /Users/poncc/Documents/GitHub/2nd-PyCrawlerMarathon/homework/day038/dict.user.big.txt ...\n",
      "Loading model from cache /var/folders/68/t9g86v0d0ys2rpbv_g1xxrph0000gn/T/jieba.u25b0b9ddcb92304ec71499048447de52.cache\n",
      "Loading model cost 1.021 seconds.\n",
      "Prefix dict has been built successfully.\n"
     ]
    },
    {
     "name": "stdout",
     "output_type": "stream",
     "text": [
      "poncc-debug: 925\n"
     ]
    },
    {
     "name": "stderr",
     "output_type": "stream",
     "text": [
      "Building prefix dict from /Users/poncc/Documents/GitHub/2nd-PyCrawlerMarathon/homework/day038/dict.user.big.txt ...\n",
      "Loading model from cache /var/folders/68/t9g86v0d0ys2rpbv_g1xxrph0000gn/T/jieba.u25b0b9ddcb92304ec71499048447de52.cache\n",
      "Loading model cost 1.019 seconds.\n",
      "Prefix dict has been built successfully.\n"
     ]
    },
    {
     "name": "stdout",
     "output_type": "stream",
     "text": [
      "poncc-debug: 926\n"
     ]
    },
    {
     "name": "stderr",
     "output_type": "stream",
     "text": [
      "Building prefix dict from /Users/poncc/Documents/GitHub/2nd-PyCrawlerMarathon/homework/day038/dict.user.big.txt ...\n",
      "Loading model from cache /var/folders/68/t9g86v0d0ys2rpbv_g1xxrph0000gn/T/jieba.u25b0b9ddcb92304ec71499048447de52.cache\n",
      "Loading model cost 1.013 seconds.\n",
      "Prefix dict has been built successfully.\n"
     ]
    },
    {
     "name": "stdout",
     "output_type": "stream",
     "text": [
      "poncc-debug: 927\n"
     ]
    },
    {
     "name": "stderr",
     "output_type": "stream",
     "text": [
      "Building prefix dict from /Users/poncc/Documents/GitHub/2nd-PyCrawlerMarathon/homework/day038/dict.user.big.txt ...\n",
      "Loading model from cache /var/folders/68/t9g86v0d0ys2rpbv_g1xxrph0000gn/T/jieba.u25b0b9ddcb92304ec71499048447de52.cache\n",
      "Loading model cost 1.025 seconds.\n",
      "Prefix dict has been built successfully.\n"
     ]
    },
    {
     "name": "stdout",
     "output_type": "stream",
     "text": [
      "poncc-debug: 928\n"
     ]
    },
    {
     "name": "stderr",
     "output_type": "stream",
     "text": [
      "Building prefix dict from /Users/poncc/Documents/GitHub/2nd-PyCrawlerMarathon/homework/day038/dict.user.big.txt ...\n",
      "Loading model from cache /var/folders/68/t9g86v0d0ys2rpbv_g1xxrph0000gn/T/jieba.u25b0b9ddcb92304ec71499048447de52.cache\n",
      "Loading model cost 1.018 seconds.\n",
      "Prefix dict has been built successfully.\n"
     ]
    },
    {
     "name": "stdout",
     "output_type": "stream",
     "text": [
      "poncc-debug: 929\n"
     ]
    },
    {
     "name": "stderr",
     "output_type": "stream",
     "text": [
      "Building prefix dict from /Users/poncc/Documents/GitHub/2nd-PyCrawlerMarathon/homework/day038/dict.user.big.txt ...\n",
      "Loading model from cache /var/folders/68/t9g86v0d0ys2rpbv_g1xxrph0000gn/T/jieba.u25b0b9ddcb92304ec71499048447de52.cache\n",
      "Loading model cost 1.020 seconds.\n",
      "Prefix dict has been built successfully.\n",
      "Building prefix dict from /Users/poncc/Documents/GitHub/2nd-PyCrawlerMarathon/homework/day038/dict.user.big.txt ...\n"
     ]
    },
    {
     "name": "stdout",
     "output_type": "stream",
     "text": [
      "poncc-debug: 930\n"
     ]
    },
    {
     "name": "stderr",
     "output_type": "stream",
     "text": [
      "Loading model from cache /var/folders/68/t9g86v0d0ys2rpbv_g1xxrph0000gn/T/jieba.u25b0b9ddcb92304ec71499048447de52.cache\n",
      "Loading model cost 1.018 seconds.\n",
      "Prefix dict has been built successfully.\n"
     ]
    },
    {
     "name": "stdout",
     "output_type": "stream",
     "text": [
      "poncc-debug: 931\n"
     ]
    },
    {
     "name": "stderr",
     "output_type": "stream",
     "text": [
      "Building prefix dict from /Users/poncc/Documents/GitHub/2nd-PyCrawlerMarathon/homework/day038/dict.user.big.txt ...\n",
      "Loading model from cache /var/folders/68/t9g86v0d0ys2rpbv_g1xxrph0000gn/T/jieba.u25b0b9ddcb92304ec71499048447de52.cache\n",
      "Loading model cost 1.017 seconds.\n",
      "Prefix dict has been built successfully.\n"
     ]
    },
    {
     "name": "stdout",
     "output_type": "stream",
     "text": [
      "poncc-debug: 932\n"
     ]
    },
    {
     "name": "stderr",
     "output_type": "stream",
     "text": [
      "Building prefix dict from /Users/poncc/Documents/GitHub/2nd-PyCrawlerMarathon/homework/day038/dict.user.big.txt ...\n",
      "Loading model from cache /var/folders/68/t9g86v0d0ys2rpbv_g1xxrph0000gn/T/jieba.u25b0b9ddcb92304ec71499048447de52.cache\n",
      "Loading model cost 0.994 seconds.\n",
      "Prefix dict has been built successfully.\n"
     ]
    },
    {
     "name": "stdout",
     "output_type": "stream",
     "text": [
      "poncc-debug: 933\n"
     ]
    },
    {
     "name": "stderr",
     "output_type": "stream",
     "text": [
      "Building prefix dict from /Users/poncc/Documents/GitHub/2nd-PyCrawlerMarathon/homework/day038/dict.user.big.txt ...\n",
      "Loading model from cache /var/folders/68/t9g86v0d0ys2rpbv_g1xxrph0000gn/T/jieba.u25b0b9ddcb92304ec71499048447de52.cache\n",
      "Loading model cost 1.015 seconds.\n",
      "Prefix dict has been built successfully.\n"
     ]
    },
    {
     "name": "stdout",
     "output_type": "stream",
     "text": [
      "poncc-debug: 934\n"
     ]
    },
    {
     "name": "stderr",
     "output_type": "stream",
     "text": [
      "Building prefix dict from /Users/poncc/Documents/GitHub/2nd-PyCrawlerMarathon/homework/day038/dict.user.big.txt ...\n",
      "Loading model from cache /var/folders/68/t9g86v0d0ys2rpbv_g1xxrph0000gn/T/jieba.u25b0b9ddcb92304ec71499048447de52.cache\n",
      "Loading model cost 1.017 seconds.\n",
      "Prefix dict has been built successfully.\n"
     ]
    },
    {
     "name": "stdout",
     "output_type": "stream",
     "text": [
      "poncc-debug: 935\n"
     ]
    },
    {
     "name": "stderr",
     "output_type": "stream",
     "text": [
      "Building prefix dict from /Users/poncc/Documents/GitHub/2nd-PyCrawlerMarathon/homework/day038/dict.user.big.txt ...\n",
      "Loading model from cache /var/folders/68/t9g86v0d0ys2rpbv_g1xxrph0000gn/T/jieba.u25b0b9ddcb92304ec71499048447de52.cache\n",
      "Loading model cost 1.023 seconds.\n",
      "Prefix dict has been built successfully.\n"
     ]
    },
    {
     "name": "stdout",
     "output_type": "stream",
     "text": [
      "poncc-debug: 936\n"
     ]
    },
    {
     "name": "stderr",
     "output_type": "stream",
     "text": [
      "Building prefix dict from /Users/poncc/Documents/GitHub/2nd-PyCrawlerMarathon/homework/day038/dict.user.big.txt ...\n",
      "Loading model from cache /var/folders/68/t9g86v0d0ys2rpbv_g1xxrph0000gn/T/jieba.u25b0b9ddcb92304ec71499048447de52.cache\n",
      "Loading model cost 1.019 seconds.\n",
      "Prefix dict has been built successfully.\n"
     ]
    },
    {
     "name": "stdout",
     "output_type": "stream",
     "text": [
      "poncc-debug: 937\n"
     ]
    },
    {
     "name": "stderr",
     "output_type": "stream",
     "text": [
      "Building prefix dict from /Users/poncc/Documents/GitHub/2nd-PyCrawlerMarathon/homework/day038/dict.user.big.txt ...\n",
      "Loading model from cache /var/folders/68/t9g86v0d0ys2rpbv_g1xxrph0000gn/T/jieba.u25b0b9ddcb92304ec71499048447de52.cache\n",
      "Loading model cost 1.018 seconds.\n",
      "Prefix dict has been built successfully.\n"
     ]
    },
    {
     "name": "stdout",
     "output_type": "stream",
     "text": [
      "poncc-debug: 938\n"
     ]
    },
    {
     "name": "stderr",
     "output_type": "stream",
     "text": [
      "Building prefix dict from /Users/poncc/Documents/GitHub/2nd-PyCrawlerMarathon/homework/day038/dict.user.big.txt ...\n",
      "Loading model from cache /var/folders/68/t9g86v0d0ys2rpbv_g1xxrph0000gn/T/jieba.u25b0b9ddcb92304ec71499048447de52.cache\n",
      "Loading model cost 1.014 seconds.\n",
      "Prefix dict has been built successfully.\n"
     ]
    },
    {
     "name": "stdout",
     "output_type": "stream",
     "text": [
      "poncc-debug: 939\n"
     ]
    },
    {
     "name": "stderr",
     "output_type": "stream",
     "text": [
      "Building prefix dict from /Users/poncc/Documents/GitHub/2nd-PyCrawlerMarathon/homework/day038/dict.user.big.txt ...\n",
      "Loading model from cache /var/folders/68/t9g86v0d0ys2rpbv_g1xxrph0000gn/T/jieba.u25b0b9ddcb92304ec71499048447de52.cache\n",
      "Loading model cost 1.015 seconds.\n",
      "Prefix dict has been built successfully.\n"
     ]
    },
    {
     "name": "stdout",
     "output_type": "stream",
     "text": [
      "poncc-debug: 940\n"
     ]
    },
    {
     "name": "stderr",
     "output_type": "stream",
     "text": [
      "Building prefix dict from /Users/poncc/Documents/GitHub/2nd-PyCrawlerMarathon/homework/day038/dict.user.big.txt ...\n",
      "Loading model from cache /var/folders/68/t9g86v0d0ys2rpbv_g1xxrph0000gn/T/jieba.u25b0b9ddcb92304ec71499048447de52.cache\n",
      "Loading model cost 1.032 seconds.\n",
      "Prefix dict has been built successfully.\n"
     ]
    },
    {
     "name": "stdout",
     "output_type": "stream",
     "text": [
      "poncc-debug: 941\n"
     ]
    },
    {
     "name": "stderr",
     "output_type": "stream",
     "text": [
      "Building prefix dict from /Users/poncc/Documents/GitHub/2nd-PyCrawlerMarathon/homework/day038/dict.user.big.txt ...\n",
      "Loading model from cache /var/folders/68/t9g86v0d0ys2rpbv_g1xxrph0000gn/T/jieba.u25b0b9ddcb92304ec71499048447de52.cache\n",
      "Loading model cost 1.011 seconds.\n",
      "Prefix dict has been built successfully.\n"
     ]
    },
    {
     "name": "stdout",
     "output_type": "stream",
     "text": [
      "poncc-debug: 942\n"
     ]
    },
    {
     "name": "stderr",
     "output_type": "stream",
     "text": [
      "Building prefix dict from /Users/poncc/Documents/GitHub/2nd-PyCrawlerMarathon/homework/day038/dict.user.big.txt ...\n",
      "Loading model from cache /var/folders/68/t9g86v0d0ys2rpbv_g1xxrph0000gn/T/jieba.u25b0b9ddcb92304ec71499048447de52.cache\n",
      "Loading model cost 1.006 seconds.\n",
      "Prefix dict has been built successfully.\n"
     ]
    },
    {
     "name": "stdout",
     "output_type": "stream",
     "text": [
      "poncc-debug: 943\n"
     ]
    },
    {
     "name": "stderr",
     "output_type": "stream",
     "text": [
      "Building prefix dict from /Users/poncc/Documents/GitHub/2nd-PyCrawlerMarathon/homework/day038/dict.user.big.txt ...\n",
      "Loading model from cache /var/folders/68/t9g86v0d0ys2rpbv_g1xxrph0000gn/T/jieba.u25b0b9ddcb92304ec71499048447de52.cache\n",
      "Loading model cost 1.010 seconds.\n",
      "Prefix dict has been built successfully.\n"
     ]
    },
    {
     "name": "stdout",
     "output_type": "stream",
     "text": [
      "poncc-debug: 944\n"
     ]
    },
    {
     "name": "stderr",
     "output_type": "stream",
     "text": [
      "Building prefix dict from /Users/poncc/Documents/GitHub/2nd-PyCrawlerMarathon/homework/day038/dict.user.big.txt ...\n",
      "Loading model from cache /var/folders/68/t9g86v0d0ys2rpbv_g1xxrph0000gn/T/jieba.u25b0b9ddcb92304ec71499048447de52.cache\n",
      "Loading model cost 1.011 seconds.\n",
      "Prefix dict has been built successfully.\n"
     ]
    },
    {
     "name": "stdout",
     "output_type": "stream",
     "text": [
      "poncc-debug: 945\n"
     ]
    },
    {
     "name": "stderr",
     "output_type": "stream",
     "text": [
      "Building prefix dict from /Users/poncc/Documents/GitHub/2nd-PyCrawlerMarathon/homework/day038/dict.user.big.txt ...\n",
      "Loading model from cache /var/folders/68/t9g86v0d0ys2rpbv_g1xxrph0000gn/T/jieba.u25b0b9ddcb92304ec71499048447de52.cache\n",
      "Loading model cost 1.000 seconds.\n",
      "Prefix dict has been built successfully.\n"
     ]
    },
    {
     "name": "stdout",
     "output_type": "stream",
     "text": [
      "poncc-debug: 946\n"
     ]
    },
    {
     "name": "stderr",
     "output_type": "stream",
     "text": [
      "Building prefix dict from /Users/poncc/Documents/GitHub/2nd-PyCrawlerMarathon/homework/day038/dict.user.big.txt ...\n",
      "Loading model from cache /var/folders/68/t9g86v0d0ys2rpbv_g1xxrph0000gn/T/jieba.u25b0b9ddcb92304ec71499048447de52.cache\n",
      "Loading model cost 1.013 seconds.\n",
      "Prefix dict has been built successfully.\n",
      "Building prefix dict from /Users/poncc/Documents/GitHub/2nd-PyCrawlerMarathon/homework/day038/dict.user.big.txt ...\n",
      "Loading model from cache /var/folders/68/t9g86v0d0ys2rpbv_g1xxrph0000gn/T/jieba.u25b0b9ddcb92304ec71499048447de52.cache\n"
     ]
    },
    {
     "name": "stdout",
     "output_type": "stream",
     "text": [
      "poncc-debug: 947\n"
     ]
    },
    {
     "name": "stderr",
     "output_type": "stream",
     "text": [
      "Loading model cost 1.027 seconds.\n",
      "Prefix dict has been built successfully.\n"
     ]
    },
    {
     "name": "stdout",
     "output_type": "stream",
     "text": [
      "poncc-debug: 948\n"
     ]
    },
    {
     "name": "stderr",
     "output_type": "stream",
     "text": [
      "Building prefix dict from /Users/poncc/Documents/GitHub/2nd-PyCrawlerMarathon/homework/day038/dict.user.big.txt ...\n",
      "Loading model from cache /var/folders/68/t9g86v0d0ys2rpbv_g1xxrph0000gn/T/jieba.u25b0b9ddcb92304ec71499048447de52.cache\n",
      "Loading model cost 1.020 seconds.\n",
      "Prefix dict has been built successfully.\n"
     ]
    },
    {
     "name": "stdout",
     "output_type": "stream",
     "text": [
      "poncc-debug: 949\n"
     ]
    },
    {
     "name": "stderr",
     "output_type": "stream",
     "text": [
      "Building prefix dict from /Users/poncc/Documents/GitHub/2nd-PyCrawlerMarathon/homework/day038/dict.user.big.txt ...\n",
      "Loading model from cache /var/folders/68/t9g86v0d0ys2rpbv_g1xxrph0000gn/T/jieba.u25b0b9ddcb92304ec71499048447de52.cache\n",
      "Loading model cost 0.997 seconds.\n",
      "Prefix dict has been built successfully.\n"
     ]
    },
    {
     "name": "stdout",
     "output_type": "stream",
     "text": [
      "poncc-debug: 950\n"
     ]
    },
    {
     "name": "stderr",
     "output_type": "stream",
     "text": [
      "Building prefix dict from /Users/poncc/Documents/GitHub/2nd-PyCrawlerMarathon/homework/day038/dict.user.big.txt ...\n",
      "Loading model from cache /var/folders/68/t9g86v0d0ys2rpbv_g1xxrph0000gn/T/jieba.u25b0b9ddcb92304ec71499048447de52.cache\n",
      "Loading model cost 1.008 seconds.\n",
      "Prefix dict has been built successfully.\n"
     ]
    },
    {
     "name": "stdout",
     "output_type": "stream",
     "text": [
      "poncc-debug: 951\n"
     ]
    },
    {
     "name": "stderr",
     "output_type": "stream",
     "text": [
      "Building prefix dict from /Users/poncc/Documents/GitHub/2nd-PyCrawlerMarathon/homework/day038/dict.user.big.txt ...\n",
      "Loading model from cache /var/folders/68/t9g86v0d0ys2rpbv_g1xxrph0000gn/T/jieba.u25b0b9ddcb92304ec71499048447de52.cache\n",
      "Loading model cost 1.013 seconds.\n",
      "Prefix dict has been built successfully.\n"
     ]
    },
    {
     "name": "stdout",
     "output_type": "stream",
     "text": [
      "poncc-debug: 952\n"
     ]
    },
    {
     "name": "stderr",
     "output_type": "stream",
     "text": [
      "Building prefix dict from /Users/poncc/Documents/GitHub/2nd-PyCrawlerMarathon/homework/day038/dict.user.big.txt ...\n",
      "Loading model from cache /var/folders/68/t9g86v0d0ys2rpbv_g1xxrph0000gn/T/jieba.u25b0b9ddcb92304ec71499048447de52.cache\n",
      "Loading model cost 1.011 seconds.\n",
      "Prefix dict has been built successfully.\n"
     ]
    },
    {
     "name": "stdout",
     "output_type": "stream",
     "text": [
      "poncc-debug: 953\n"
     ]
    },
    {
     "name": "stderr",
     "output_type": "stream",
     "text": [
      "Building prefix dict from /Users/poncc/Documents/GitHub/2nd-PyCrawlerMarathon/homework/day038/dict.user.big.txt ...\n",
      "Loading model from cache /var/folders/68/t9g86v0d0ys2rpbv_g1xxrph0000gn/T/jieba.u25b0b9ddcb92304ec71499048447de52.cache\n",
      "Loading model cost 0.999 seconds.\n",
      "Prefix dict has been built successfully.\n"
     ]
    },
    {
     "name": "stdout",
     "output_type": "stream",
     "text": [
      "poncc-debug: 954\n"
     ]
    },
    {
     "name": "stderr",
     "output_type": "stream",
     "text": [
      "Building prefix dict from /Users/poncc/Documents/GitHub/2nd-PyCrawlerMarathon/homework/day038/dict.user.big.txt ...\n",
      "Loading model from cache /var/folders/68/t9g86v0d0ys2rpbv_g1xxrph0000gn/T/jieba.u25b0b9ddcb92304ec71499048447de52.cache\n",
      "Loading model cost 1.016 seconds.\n",
      "Prefix dict has been built successfully.\n"
     ]
    },
    {
     "name": "stdout",
     "output_type": "stream",
     "text": [
      "poncc-debug: 955\n"
     ]
    },
    {
     "name": "stderr",
     "output_type": "stream",
     "text": [
      "Building prefix dict from /Users/poncc/Documents/GitHub/2nd-PyCrawlerMarathon/homework/day038/dict.user.big.txt ...\n",
      "Loading model from cache /var/folders/68/t9g86v0d0ys2rpbv_g1xxrph0000gn/T/jieba.u25b0b9ddcb92304ec71499048447de52.cache\n",
      "Loading model cost 1.025 seconds.\n",
      "Prefix dict has been built successfully.\n"
     ]
    },
    {
     "name": "stdout",
     "output_type": "stream",
     "text": [
      "poncc-debug: 956\n"
     ]
    },
    {
     "name": "stderr",
     "output_type": "stream",
     "text": [
      "Building prefix dict from /Users/poncc/Documents/GitHub/2nd-PyCrawlerMarathon/homework/day038/dict.user.big.txt ...\n",
      "Loading model from cache /var/folders/68/t9g86v0d0ys2rpbv_g1xxrph0000gn/T/jieba.u25b0b9ddcb92304ec71499048447de52.cache\n",
      "Loading model cost 1.015 seconds.\n",
      "Prefix dict has been built successfully.\n"
     ]
    },
    {
     "name": "stdout",
     "output_type": "stream",
     "text": [
      "poncc-debug: 957\n"
     ]
    },
    {
     "name": "stderr",
     "output_type": "stream",
     "text": [
      "Building prefix dict from /Users/poncc/Documents/GitHub/2nd-PyCrawlerMarathon/homework/day038/dict.user.big.txt ...\n",
      "Loading model from cache /var/folders/68/t9g86v0d0ys2rpbv_g1xxrph0000gn/T/jieba.u25b0b9ddcb92304ec71499048447de52.cache\n",
      "Loading model cost 1.029 seconds.\n",
      "Prefix dict has been built successfully.\n"
     ]
    },
    {
     "name": "stdout",
     "output_type": "stream",
     "text": [
      "poncc-debug: 958\n"
     ]
    },
    {
     "name": "stderr",
     "output_type": "stream",
     "text": [
      "Building prefix dict from /Users/poncc/Documents/GitHub/2nd-PyCrawlerMarathon/homework/day038/dict.user.big.txt ...\n",
      "Loading model from cache /var/folders/68/t9g86v0d0ys2rpbv_g1xxrph0000gn/T/jieba.u25b0b9ddcb92304ec71499048447de52.cache\n",
      "Loading model cost 1.007 seconds.\n",
      "Prefix dict has been built successfully.\n"
     ]
    },
    {
     "name": "stdout",
     "output_type": "stream",
     "text": [
      "poncc-debug: 959\n"
     ]
    },
    {
     "name": "stderr",
     "output_type": "stream",
     "text": [
      "Building prefix dict from /Users/poncc/Documents/GitHub/2nd-PyCrawlerMarathon/homework/day038/dict.user.big.txt ...\n",
      "Loading model from cache /var/folders/68/t9g86v0d0ys2rpbv_g1xxrph0000gn/T/jieba.u25b0b9ddcb92304ec71499048447de52.cache\n",
      "Loading model cost 1.019 seconds.\n",
      "Prefix dict has been built successfully.\n"
     ]
    },
    {
     "name": "stdout",
     "output_type": "stream",
     "text": [
      "poncc-debug: 960\n"
     ]
    },
    {
     "name": "stderr",
     "output_type": "stream",
     "text": [
      "Building prefix dict from /Users/poncc/Documents/GitHub/2nd-PyCrawlerMarathon/homework/day038/dict.user.big.txt ...\n",
      "Loading model from cache /var/folders/68/t9g86v0d0ys2rpbv_g1xxrph0000gn/T/jieba.u25b0b9ddcb92304ec71499048447de52.cache\n",
      "Loading model cost 0.994 seconds.\n",
      "Prefix dict has been built successfully.\n",
      "Building prefix dict from /Users/poncc/Documents/GitHub/2nd-PyCrawlerMarathon/homework/day038/dict.user.big.txt ...\n"
     ]
    },
    {
     "name": "stdout",
     "output_type": "stream",
     "text": [
      "poncc-debug: 961\n"
     ]
    },
    {
     "name": "stderr",
     "output_type": "stream",
     "text": [
      "Loading model from cache /var/folders/68/t9g86v0d0ys2rpbv_g1xxrph0000gn/T/jieba.u25b0b9ddcb92304ec71499048447de52.cache\n",
      "Loading model cost 1.010 seconds.\n",
      "Prefix dict has been built successfully.\n"
     ]
    },
    {
     "name": "stdout",
     "output_type": "stream",
     "text": [
      "poncc-debug: 962\n"
     ]
    },
    {
     "name": "stderr",
     "output_type": "stream",
     "text": [
      "Building prefix dict from /Users/poncc/Documents/GitHub/2nd-PyCrawlerMarathon/homework/day038/dict.user.big.txt ...\n",
      "Loading model from cache /var/folders/68/t9g86v0d0ys2rpbv_g1xxrph0000gn/T/jieba.u25b0b9ddcb92304ec71499048447de52.cache\n",
      "Loading model cost 1.025 seconds.\n",
      "Prefix dict has been built successfully.\n"
     ]
    },
    {
     "name": "stdout",
     "output_type": "stream",
     "text": [
      "poncc-debug: 963\n"
     ]
    },
    {
     "name": "stderr",
     "output_type": "stream",
     "text": [
      "Building prefix dict from /Users/poncc/Documents/GitHub/2nd-PyCrawlerMarathon/homework/day038/dict.user.big.txt ...\n",
      "Loading model from cache /var/folders/68/t9g86v0d0ys2rpbv_g1xxrph0000gn/T/jieba.u25b0b9ddcb92304ec71499048447de52.cache\n",
      "Loading model cost 1.005 seconds.\n",
      "Prefix dict has been built successfully.\n",
      "Building prefix dict from /Users/poncc/Documents/GitHub/2nd-PyCrawlerMarathon/homework/day038/dict.user.big.txt ...\n",
      "Loading model from cache /var/folders/68/t9g86v0d0ys2rpbv_g1xxrph0000gn/T/jieba.u25b0b9ddcb92304ec71499048447de52.cache\n"
     ]
    },
    {
     "name": "stdout",
     "output_type": "stream",
     "text": [
      "poncc-debug: 964\n"
     ]
    },
    {
     "name": "stderr",
     "output_type": "stream",
     "text": [
      "Loading model cost 1.017 seconds.\n",
      "Prefix dict has been built successfully.\n"
     ]
    },
    {
     "name": "stdout",
     "output_type": "stream",
     "text": [
      "poncc-debug: 965\n"
     ]
    },
    {
     "name": "stderr",
     "output_type": "stream",
     "text": [
      "Building prefix dict from /Users/poncc/Documents/GitHub/2nd-PyCrawlerMarathon/homework/day038/dict.user.big.txt ...\n",
      "Loading model from cache /var/folders/68/t9g86v0d0ys2rpbv_g1xxrph0000gn/T/jieba.u25b0b9ddcb92304ec71499048447de52.cache\n",
      "Loading model cost 1.000 seconds.\n",
      "Prefix dict has been built successfully.\n"
     ]
    },
    {
     "name": "stdout",
     "output_type": "stream",
     "text": [
      "poncc-debug: 966\n"
     ]
    },
    {
     "name": "stderr",
     "output_type": "stream",
     "text": [
      "Building prefix dict from /Users/poncc/Documents/GitHub/2nd-PyCrawlerMarathon/homework/day038/dict.user.big.txt ...\n",
      "Loading model from cache /var/folders/68/t9g86v0d0ys2rpbv_g1xxrph0000gn/T/jieba.u25b0b9ddcb92304ec71499048447de52.cache\n",
      "Loading model cost 1.015 seconds.\n",
      "Prefix dict has been built successfully.\n"
     ]
    },
    {
     "name": "stdout",
     "output_type": "stream",
     "text": [
      "poncc-debug: 967\n"
     ]
    },
    {
     "name": "stderr",
     "output_type": "stream",
     "text": [
      "Building prefix dict from /Users/poncc/Documents/GitHub/2nd-PyCrawlerMarathon/homework/day038/dict.user.big.txt ...\n",
      "Loading model from cache /var/folders/68/t9g86v0d0ys2rpbv_g1xxrph0000gn/T/jieba.u25b0b9ddcb92304ec71499048447de52.cache\n",
      "Loading model cost 1.015 seconds.\n",
      "Prefix dict has been built successfully.\n",
      "Building prefix dict from /Users/poncc/Documents/GitHub/2nd-PyCrawlerMarathon/homework/day038/dict.user.big.txt ...\n",
      "Loading model from cache /var/folders/68/t9g86v0d0ys2rpbv_g1xxrph0000gn/T/jieba.u25b0b9ddcb92304ec71499048447de52.cache\n"
     ]
    },
    {
     "name": "stdout",
     "output_type": "stream",
     "text": [
      "poncc-debug: 968\n"
     ]
    },
    {
     "name": "stderr",
     "output_type": "stream",
     "text": [
      "Loading model cost 1.029 seconds.\n",
      "Prefix dict has been built successfully.\n"
     ]
    },
    {
     "name": "stdout",
     "output_type": "stream",
     "text": [
      "poncc-debug: 969\n"
     ]
    },
    {
     "name": "stderr",
     "output_type": "stream",
     "text": [
      "Building prefix dict from /Users/poncc/Documents/GitHub/2nd-PyCrawlerMarathon/homework/day038/dict.user.big.txt ...\n",
      "Loading model from cache /var/folders/68/t9g86v0d0ys2rpbv_g1xxrph0000gn/T/jieba.u25b0b9ddcb92304ec71499048447de52.cache\n",
      "Loading model cost 1.012 seconds.\n",
      "Prefix dict has been built successfully.\n"
     ]
    },
    {
     "name": "stdout",
     "output_type": "stream",
     "text": [
      "poncc-debug: 970\n"
     ]
    },
    {
     "name": "stderr",
     "output_type": "stream",
     "text": [
      "Building prefix dict from /Users/poncc/Documents/GitHub/2nd-PyCrawlerMarathon/homework/day038/dict.user.big.txt ...\n",
      "Loading model from cache /var/folders/68/t9g86v0d0ys2rpbv_g1xxrph0000gn/T/jieba.u25b0b9ddcb92304ec71499048447de52.cache\n",
      "Loading model cost 1.021 seconds.\n",
      "Prefix dict has been built successfully.\n"
     ]
    },
    {
     "name": "stdout",
     "output_type": "stream",
     "text": [
      "poncc-debug: 971\n"
     ]
    },
    {
     "name": "stderr",
     "output_type": "stream",
     "text": [
      "Building prefix dict from /Users/poncc/Documents/GitHub/2nd-PyCrawlerMarathon/homework/day038/dict.user.big.txt ...\n",
      "Loading model from cache /var/folders/68/t9g86v0d0ys2rpbv_g1xxrph0000gn/T/jieba.u25b0b9ddcb92304ec71499048447de52.cache\n",
      "Loading model cost 1.034 seconds.\n",
      "Prefix dict has been built successfully.\n"
     ]
    },
    {
     "name": "stdout",
     "output_type": "stream",
     "text": [
      "poncc-debug: 972\n"
     ]
    },
    {
     "name": "stderr",
     "output_type": "stream",
     "text": [
      "Building prefix dict from /Users/poncc/Documents/GitHub/2nd-PyCrawlerMarathon/homework/day038/dict.user.big.txt ...\n",
      "Loading model from cache /var/folders/68/t9g86v0d0ys2rpbv_g1xxrph0000gn/T/jieba.u25b0b9ddcb92304ec71499048447de52.cache\n",
      "Loading model cost 1.023 seconds.\n",
      "Prefix dict has been built successfully.\n"
     ]
    },
    {
     "name": "stdout",
     "output_type": "stream",
     "text": [
      "poncc-debug: 973\n"
     ]
    },
    {
     "name": "stderr",
     "output_type": "stream",
     "text": [
      "Building prefix dict from /Users/poncc/Documents/GitHub/2nd-PyCrawlerMarathon/homework/day038/dict.user.big.txt ...\n",
      "Loading model from cache /var/folders/68/t9g86v0d0ys2rpbv_g1xxrph0000gn/T/jieba.u25b0b9ddcb92304ec71499048447de52.cache\n",
      "Loading model cost 1.012 seconds.\n",
      "Prefix dict has been built successfully.\n"
     ]
    },
    {
     "name": "stdout",
     "output_type": "stream",
     "text": [
      "poncc-debug: 974\n"
     ]
    },
    {
     "name": "stderr",
     "output_type": "stream",
     "text": [
      "Building prefix dict from /Users/poncc/Documents/GitHub/2nd-PyCrawlerMarathon/homework/day038/dict.user.big.txt ...\n",
      "Loading model from cache /var/folders/68/t9g86v0d0ys2rpbv_g1xxrph0000gn/T/jieba.u25b0b9ddcb92304ec71499048447de52.cache\n",
      "Loading model cost 1.030 seconds.\n",
      "Prefix dict has been built successfully.\n"
     ]
    },
    {
     "name": "stdout",
     "output_type": "stream",
     "text": [
      "poncc-debug: 975\n"
     ]
    },
    {
     "name": "stderr",
     "output_type": "stream",
     "text": [
      "Building prefix dict from /Users/poncc/Documents/GitHub/2nd-PyCrawlerMarathon/homework/day038/dict.user.big.txt ...\n",
      "Loading model from cache /var/folders/68/t9g86v0d0ys2rpbv_g1xxrph0000gn/T/jieba.u25b0b9ddcb92304ec71499048447de52.cache\n",
      "Loading model cost 1.031 seconds.\n",
      "Prefix dict has been built successfully.\n"
     ]
    },
    {
     "name": "stdout",
     "output_type": "stream",
     "text": [
      "poncc-debug: 976\n"
     ]
    },
    {
     "name": "stderr",
     "output_type": "stream",
     "text": [
      "Building prefix dict from /Users/poncc/Documents/GitHub/2nd-PyCrawlerMarathon/homework/day038/dict.user.big.txt ...\n",
      "Loading model from cache /var/folders/68/t9g86v0d0ys2rpbv_g1xxrph0000gn/T/jieba.u25b0b9ddcb92304ec71499048447de52.cache\n",
      "Loading model cost 1.005 seconds.\n",
      "Prefix dict has been built successfully.\n"
     ]
    },
    {
     "name": "stdout",
     "output_type": "stream",
     "text": [
      "poncc-debug: 977\n"
     ]
    },
    {
     "name": "stderr",
     "output_type": "stream",
     "text": [
      "Building prefix dict from /Users/poncc/Documents/GitHub/2nd-PyCrawlerMarathon/homework/day038/dict.user.big.txt ...\n",
      "Loading model from cache /var/folders/68/t9g86v0d0ys2rpbv_g1xxrph0000gn/T/jieba.u25b0b9ddcb92304ec71499048447de52.cache\n",
      "Loading model cost 1.006 seconds.\n",
      "Prefix dict has been built successfully.\n"
     ]
    },
    {
     "name": "stdout",
     "output_type": "stream",
     "text": [
      "poncc-debug: 978\n"
     ]
    },
    {
     "name": "stderr",
     "output_type": "stream",
     "text": [
      "Building prefix dict from /Users/poncc/Documents/GitHub/2nd-PyCrawlerMarathon/homework/day038/dict.user.big.txt ...\n",
      "Loading model from cache /var/folders/68/t9g86v0d0ys2rpbv_g1xxrph0000gn/T/jieba.u25b0b9ddcb92304ec71499048447de52.cache\n",
      "Loading model cost 1.012 seconds.\n",
      "Prefix dict has been built successfully.\n"
     ]
    },
    {
     "name": "stdout",
     "output_type": "stream",
     "text": [
      "poncc-debug: 979\n"
     ]
    },
    {
     "name": "stderr",
     "output_type": "stream",
     "text": [
      "Building prefix dict from /Users/poncc/Documents/GitHub/2nd-PyCrawlerMarathon/homework/day038/dict.user.big.txt ...\n",
      "Loading model from cache /var/folders/68/t9g86v0d0ys2rpbv_g1xxrph0000gn/T/jieba.u25b0b9ddcb92304ec71499048447de52.cache\n",
      "Loading model cost 1.017 seconds.\n",
      "Prefix dict has been built successfully.\n",
      "Building prefix dict from /Users/poncc/Documents/GitHub/2nd-PyCrawlerMarathon/homework/day038/dict.user.big.txt ...\n",
      "Loading model from cache /var/folders/68/t9g86v0d0ys2rpbv_g1xxrph0000gn/T/jieba.u25b0b9ddcb92304ec71499048447de52.cache\n"
     ]
    },
    {
     "name": "stdout",
     "output_type": "stream",
     "text": [
      "poncc-debug: 980\n"
     ]
    },
    {
     "name": "stderr",
     "output_type": "stream",
     "text": [
      "Loading model cost 1.010 seconds.\n",
      "Prefix dict has been built successfully.\n"
     ]
    },
    {
     "name": "stdout",
     "output_type": "stream",
     "text": [
      "poncc-debug: 981\n"
     ]
    },
    {
     "name": "stderr",
     "output_type": "stream",
     "text": [
      "Building prefix dict from /Users/poncc/Documents/GitHub/2nd-PyCrawlerMarathon/homework/day038/dict.user.big.txt ...\n",
      "Loading model from cache /var/folders/68/t9g86v0d0ys2rpbv_g1xxrph0000gn/T/jieba.u25b0b9ddcb92304ec71499048447de52.cache\n",
      "Loading model cost 1.016 seconds.\n",
      "Prefix dict has been built successfully.\n"
     ]
    },
    {
     "name": "stdout",
     "output_type": "stream",
     "text": [
      "poncc-debug: 982\n"
     ]
    },
    {
     "name": "stderr",
     "output_type": "stream",
     "text": [
      "Building prefix dict from /Users/poncc/Documents/GitHub/2nd-PyCrawlerMarathon/homework/day038/dict.user.big.txt ...\n",
      "Loading model from cache /var/folders/68/t9g86v0d0ys2rpbv_g1xxrph0000gn/T/jieba.u25b0b9ddcb92304ec71499048447de52.cache\n",
      "Loading model cost 0.999 seconds.\n",
      "Prefix dict has been built successfully.\n"
     ]
    },
    {
     "name": "stdout",
     "output_type": "stream",
     "text": [
      "poncc-debug: 983\n"
     ]
    },
    {
     "name": "stderr",
     "output_type": "stream",
     "text": [
      "Building prefix dict from /Users/poncc/Documents/GitHub/2nd-PyCrawlerMarathon/homework/day038/dict.user.big.txt ...\n",
      "Loading model from cache /var/folders/68/t9g86v0d0ys2rpbv_g1xxrph0000gn/T/jieba.u25b0b9ddcb92304ec71499048447de52.cache\n",
      "Loading model cost 1.002 seconds.\n",
      "Prefix dict has been built successfully.\n"
     ]
    },
    {
     "name": "stdout",
     "output_type": "stream",
     "text": [
      "poncc-debug: 984\n"
     ]
    },
    {
     "name": "stderr",
     "output_type": "stream",
     "text": [
      "Building prefix dict from /Users/poncc/Documents/GitHub/2nd-PyCrawlerMarathon/homework/day038/dict.user.big.txt ...\n",
      "Loading model from cache /var/folders/68/t9g86v0d0ys2rpbv_g1xxrph0000gn/T/jieba.u25b0b9ddcb92304ec71499048447de52.cache\n",
      "Loading model cost 1.005 seconds.\n",
      "Prefix dict has been built successfully.\n"
     ]
    },
    {
     "name": "stdout",
     "output_type": "stream",
     "text": [
      "poncc-debug: 985\n"
     ]
    },
    {
     "name": "stderr",
     "output_type": "stream",
     "text": [
      "Building prefix dict from /Users/poncc/Documents/GitHub/2nd-PyCrawlerMarathon/homework/day038/dict.user.big.txt ...\n",
      "Loading model from cache /var/folders/68/t9g86v0d0ys2rpbv_g1xxrph0000gn/T/jieba.u25b0b9ddcb92304ec71499048447de52.cache\n",
      "Loading model cost 1.016 seconds.\n",
      "Prefix dict has been built successfully.\n"
     ]
    },
    {
     "name": "stdout",
     "output_type": "stream",
     "text": [
      "poncc-debug: 986\n"
     ]
    },
    {
     "name": "stderr",
     "output_type": "stream",
     "text": [
      "Building prefix dict from /Users/poncc/Documents/GitHub/2nd-PyCrawlerMarathon/homework/day038/dict.user.big.txt ...\n",
      "Loading model from cache /var/folders/68/t9g86v0d0ys2rpbv_g1xxrph0000gn/T/jieba.u25b0b9ddcb92304ec71499048447de52.cache\n",
      "Loading model cost 0.997 seconds.\n",
      "Prefix dict has been built successfully.\n"
     ]
    },
    {
     "name": "stdout",
     "output_type": "stream",
     "text": [
      "poncc-debug: 987\n"
     ]
    },
    {
     "name": "stderr",
     "output_type": "stream",
     "text": [
      "Building prefix dict from /Users/poncc/Documents/GitHub/2nd-PyCrawlerMarathon/homework/day038/dict.user.big.txt ...\n",
      "Loading model from cache /var/folders/68/t9g86v0d0ys2rpbv_g1xxrph0000gn/T/jieba.u25b0b9ddcb92304ec71499048447de52.cache\n",
      "Loading model cost 1.022 seconds.\n",
      "Prefix dict has been built successfully.\n"
     ]
    },
    {
     "name": "stdout",
     "output_type": "stream",
     "text": [
      "poncc-debug: 988\n"
     ]
    },
    {
     "name": "stderr",
     "output_type": "stream",
     "text": [
      "Building prefix dict from /Users/poncc/Documents/GitHub/2nd-PyCrawlerMarathon/homework/day038/dict.user.big.txt ...\n",
      "Loading model from cache /var/folders/68/t9g86v0d0ys2rpbv_g1xxrph0000gn/T/jieba.u25b0b9ddcb92304ec71499048447de52.cache\n",
      "Loading model cost 1.010 seconds.\n",
      "Prefix dict has been built successfully.\n"
     ]
    },
    {
     "name": "stdout",
     "output_type": "stream",
     "text": [
      "poncc-debug: 989\n"
     ]
    },
    {
     "name": "stderr",
     "output_type": "stream",
     "text": [
      "Building prefix dict from /Users/poncc/Documents/GitHub/2nd-PyCrawlerMarathon/homework/day038/dict.user.big.txt ...\n",
      "Loading model from cache /var/folders/68/t9g86v0d0ys2rpbv_g1xxrph0000gn/T/jieba.u25b0b9ddcb92304ec71499048447de52.cache\n",
      "Loading model cost 1.010 seconds.\n",
      "Prefix dict has been built successfully.\n"
     ]
    },
    {
     "name": "stdout",
     "output_type": "stream",
     "text": [
      "poncc-debug: 990\n"
     ]
    },
    {
     "name": "stderr",
     "output_type": "stream",
     "text": [
      "Building prefix dict from /Users/poncc/Documents/GitHub/2nd-PyCrawlerMarathon/homework/day038/dict.user.big.txt ...\n",
      "Loading model from cache /var/folders/68/t9g86v0d0ys2rpbv_g1xxrph0000gn/T/jieba.u25b0b9ddcb92304ec71499048447de52.cache\n",
      "Loading model cost 1.000 seconds.\n",
      "Prefix dict has been built successfully.\n"
     ]
    },
    {
     "name": "stdout",
     "output_type": "stream",
     "text": [
      "poncc-debug: 991\n"
     ]
    },
    {
     "name": "stderr",
     "output_type": "stream",
     "text": [
      "Building prefix dict from /Users/poncc/Documents/GitHub/2nd-PyCrawlerMarathon/homework/day038/dict.user.big.txt ...\n",
      "Loading model from cache /var/folders/68/t9g86v0d0ys2rpbv_g1xxrph0000gn/T/jieba.u25b0b9ddcb92304ec71499048447de52.cache\n",
      "Loading model cost 1.005 seconds.\n",
      "Prefix dict has been built successfully.\n"
     ]
    },
    {
     "name": "stdout",
     "output_type": "stream",
     "text": [
      "poncc-debug: 992\n"
     ]
    },
    {
     "name": "stderr",
     "output_type": "stream",
     "text": [
      "Building prefix dict from /Users/poncc/Documents/GitHub/2nd-PyCrawlerMarathon/homework/day038/dict.user.big.txt ...\n",
      "Loading model from cache /var/folders/68/t9g86v0d0ys2rpbv_g1xxrph0000gn/T/jieba.u25b0b9ddcb92304ec71499048447de52.cache\n",
      "Loading model cost 0.990 seconds.\n",
      "Prefix dict has been built successfully.\n"
     ]
    },
    {
     "name": "stdout",
     "output_type": "stream",
     "text": [
      "poncc-debug: 993\n"
     ]
    },
    {
     "name": "stderr",
     "output_type": "stream",
     "text": [
      "Building prefix dict from /Users/poncc/Documents/GitHub/2nd-PyCrawlerMarathon/homework/day038/dict.user.big.txt ...\n",
      "Loading model from cache /var/folders/68/t9g86v0d0ys2rpbv_g1xxrph0000gn/T/jieba.u25b0b9ddcb92304ec71499048447de52.cache\n",
      "Loading model cost 1.015 seconds.\n",
      "Prefix dict has been built successfully.\n",
      "Building prefix dict from /Users/poncc/Documents/GitHub/2nd-PyCrawlerMarathon/homework/day038/dict.user.big.txt ...\n"
     ]
    },
    {
     "name": "stdout",
     "output_type": "stream",
     "text": [
      "poncc-debug: 994\n"
     ]
    },
    {
     "name": "stderr",
     "output_type": "stream",
     "text": [
      "Loading model from cache /var/folders/68/t9g86v0d0ys2rpbv_g1xxrph0000gn/T/jieba.u25b0b9ddcb92304ec71499048447de52.cache\n",
      "Loading model cost 1.009 seconds.\n",
      "Prefix dict has been built successfully.\n"
     ]
    },
    {
     "name": "stdout",
     "output_type": "stream",
     "text": [
      "poncc-debug: 995\n"
     ]
    },
    {
     "name": "stderr",
     "output_type": "stream",
     "text": [
      "Building prefix dict from /Users/poncc/Documents/GitHub/2nd-PyCrawlerMarathon/homework/day038/dict.user.big.txt ...\n",
      "Loading model from cache /var/folders/68/t9g86v0d0ys2rpbv_g1xxrph0000gn/T/jieba.u25b0b9ddcb92304ec71499048447de52.cache\n",
      "Loading model cost 1.002 seconds.\n",
      "Prefix dict has been built successfully.\n"
     ]
    },
    {
     "name": "stdout",
     "output_type": "stream",
     "text": [
      "poncc-debug: 996\n"
     ]
    },
    {
     "name": "stderr",
     "output_type": "stream",
     "text": [
      "Building prefix dict from /Users/poncc/Documents/GitHub/2nd-PyCrawlerMarathon/homework/day038/dict.user.big.txt ...\n",
      "Loading model from cache /var/folders/68/t9g86v0d0ys2rpbv_g1xxrph0000gn/T/jieba.u25b0b9ddcb92304ec71499048447de52.cache\n",
      "Loading model cost 1.016 seconds.\n",
      "Prefix dict has been built successfully.\n"
     ]
    },
    {
     "name": "stdout",
     "output_type": "stream",
     "text": [
      "poncc-debug: 997\n"
     ]
    },
    {
     "name": "stderr",
     "output_type": "stream",
     "text": [
      "Building prefix dict from /Users/poncc/Documents/GitHub/2nd-PyCrawlerMarathon/homework/day038/dict.user.big.txt ...\n",
      "Loading model from cache /var/folders/68/t9g86v0d0ys2rpbv_g1xxrph0000gn/T/jieba.u25b0b9ddcb92304ec71499048447de52.cache\n",
      "Loading model cost 1.011 seconds.\n",
      "Prefix dict has been built successfully.\n"
     ]
    },
    {
     "name": "stdout",
     "output_type": "stream",
     "text": [
      "poncc-debug: 998\n"
     ]
    },
    {
     "name": "stderr",
     "output_type": "stream",
     "text": [
      "Building prefix dict from /Users/poncc/Documents/GitHub/2nd-PyCrawlerMarathon/homework/day038/dict.user.big.txt ...\n",
      "Loading model from cache /var/folders/68/t9g86v0d0ys2rpbv_g1xxrph0000gn/T/jieba.u25b0b9ddcb92304ec71499048447de52.cache\n",
      "Loading model cost 1.004 seconds.\n",
      "Prefix dict has been built successfully.\n"
     ]
    },
    {
     "name": "stdout",
     "output_type": "stream",
     "text": [
      "poncc-debug: 999\n"
     ]
    },
    {
     "name": "stderr",
     "output_type": "stream",
     "text": [
      "Building prefix dict from /Users/poncc/Documents/GitHub/2nd-PyCrawlerMarathon/homework/day038/dict.user.big.txt ...\n",
      "Loading model from cache /var/folders/68/t9g86v0d0ys2rpbv_g1xxrph0000gn/T/jieba.u25b0b9ddcb92304ec71499048447de52.cache\n",
      "Loading model cost 1.005 seconds.\n",
      "Prefix dict has been built successfully.\n"
     ]
    },
    {
     "name": "stdout",
     "output_type": "stream",
     "text": [
      "end\n"
     ]
    }
   ],
   "source": [
    "resp = requests.get(PTT_URL, cookies={'over18': '1'})\n",
    "soup = BeautifulSoup(resp.text)\n",
    "count=0 #計算文章數\n",
    "wordSet=set()\n",
    "authorInfo=dict()\n",
    "wordContentList=dict(list())\n",
    "#nextPage=soup.find(id='action-bar-container').find_all('a',class_='wide')[1].get('href')\n",
    "nextPage=''\n",
    "#PTT_URL='https://www.ptt.cc/bbs/Gossiping/index39052.html'\n",
    "while count<maxCount:\n",
    "    # 對文章列表送出請求並取得列表主體\n",
    "    if count>0:\n",
    "        PTT_URL=url_host+soup.find(id='action-bar-container').find_all('a',class_='wide')[1].get('href')\n",
    "        \n",
    "    resp = requests.get(PTT_URL, cookies={'over18': '1'})\n",
    "    soup = BeautifulSoup(resp.text)\n",
    "    main_list = soup.find('div', class_='bbs-screen')\n",
    "    #nextPage=soup.find(id='action-bar-container').find_all('a',class_='wide')[1].get('href')\n",
    "\n",
    "    #count=0 #計算文章數\n",
    "    # 依序檢查文章列表中的 tag, 遇到分隔線就結束, 忽略這之後的文章\n",
    "    for div in main_list.findChildren('div', recursive=False):\n",
    "        #print('poncc-start:',count,class_name)\n",
    "        class_name = div.attrs['class']\n",
    "        # 遇到分隔線要處理的情況\n",
    "        if class_name and 'r-list-sep' in class_name:\n",
    "            #print('Reach the last article')\n",
    "            break\n",
    "        # 遇到目標文章\n",
    "        if class_name and 'r-ent' in class_name:\n",
    "            div_title = div.find('div', class_='title')\n",
    "            a_title = div_title.find('a', href=True)\n",
    "            # 排除已刪除或違反版規貼文\n",
    "            if a_title==None:\n",
    "                #print('poncc-debug-title:',count)\n",
    "                continue\n",
    "            print('poncc-debug:',count)\n",
    "            article_URL = urljoin(PTT_URL, a_title['href'])\n",
    "            article_title = a_title.text\n",
    "            #print('Parse {} - {}'.format(article_title, article_URL))\n",
    "\n",
    "            # 呼叫上面寫好的 function 來對文章中的字詞進行爬蟲與計數\n",
    "            authorInfo,wordSet,tmp = crawl_article(authorInfo,stopwords,wordSet,article_URL)\n",
    "            wordContentList[count]=tmp\n",
    "            count+=1;\n",
    "        #第n篇文章結束   \n",
    "        if count>=maxCount:\n",
    "            print('end')\n",
    "            break;\n",
    "#print('poncc-cout:',count)\n"
   ]
  },
  {
   "cell_type": "markdown",
   "metadata": {},
   "source": [
    "#將字詞和文章分開，計算權重"
   ]
  },
  {
   "cell_type": "code",
   "execution_count": 334,
   "metadata": {},
   "outputs": [
    {
     "data": {
      "text/html": [
       "<div>\n",
       "<style scoped>\n",
       "    .dataframe tbody tr th:only-of-type {\n",
       "        vertical-align: middle;\n",
       "    }\n",
       "\n",
       "    .dataframe tbody tr th {\n",
       "        vertical-align: top;\n",
       "    }\n",
       "\n",
       "    .dataframe thead th {\n",
       "        text-align: right;\n",
       "    }\n",
       "</style>\n",
       "<table border=\"1\" class=\"dataframe\">\n",
       "  <thead>\n",
       "    <tr style=\"text-align: right;\">\n",
       "      <th></th>\n",
       "      <th>ada</th>\n",
       "      <th>187.16</th>\n",
       "      <th>82.219</th>\n",
       "      <th>惰政</th>\n",
       "      <th>barry</th>\n",
       "      <th>給他國</th>\n",
       "      <th>能分</th>\n",
       "      <th>滿腦子</th>\n",
       "      <th>panic2012</th>\n",
       "      <th>騙管</th>\n",
       "      <th>...</th>\n",
       "      <th>iComeInPeace</th>\n",
       "      <th>仔都</th>\n",
       "      <th>不登</th>\n",
       "      <th>沒不倫</th>\n",
       "      <th>campoland</th>\n",
       "      <th>西歐</th>\n",
       "      <th>自我介紹</th>\n",
       "      <th>MrDK</th>\n",
       "      <th>142.147</th>\n",
       "      <th>量力</th>\n",
       "    </tr>\n",
       "  </thead>\n",
       "  <tbody>\n",
       "    <tr>\n",
       "      <th>0</th>\n",
       "      <td>0.0</td>\n",
       "      <td>0.0</td>\n",
       "      <td>0.0</td>\n",
       "      <td>0.0</td>\n",
       "      <td>0.0</td>\n",
       "      <td>0.0</td>\n",
       "      <td>0.0</td>\n",
       "      <td>0.0</td>\n",
       "      <td>0.0</td>\n",
       "      <td>0.0</td>\n",
       "      <td>...</td>\n",
       "      <td>0.0</td>\n",
       "      <td>0.0</td>\n",
       "      <td>0.0</td>\n",
       "      <td>0.0</td>\n",
       "      <td>0.0</td>\n",
       "      <td>0.0</td>\n",
       "      <td>0.0</td>\n",
       "      <td>0.0</td>\n",
       "      <td>0.0</td>\n",
       "      <td>0.0</td>\n",
       "    </tr>\n",
       "    <tr>\n",
       "      <th>1</th>\n",
       "      <td>0.0</td>\n",
       "      <td>0.0</td>\n",
       "      <td>0.0</td>\n",
       "      <td>0.0</td>\n",
       "      <td>0.0</td>\n",
       "      <td>0.0</td>\n",
       "      <td>0.0</td>\n",
       "      <td>0.0</td>\n",
       "      <td>0.0</td>\n",
       "      <td>0.0</td>\n",
       "      <td>...</td>\n",
       "      <td>0.0</td>\n",
       "      <td>0.0</td>\n",
       "      <td>0.0</td>\n",
       "      <td>0.0</td>\n",
       "      <td>0.0</td>\n",
       "      <td>0.0</td>\n",
       "      <td>0.0</td>\n",
       "      <td>0.0</td>\n",
       "      <td>0.0</td>\n",
       "      <td>0.0</td>\n",
       "    </tr>\n",
       "    <tr>\n",
       "      <th>2</th>\n",
       "      <td>0.0</td>\n",
       "      <td>0.0</td>\n",
       "      <td>0.0</td>\n",
       "      <td>0.0</td>\n",
       "      <td>0.0</td>\n",
       "      <td>0.0</td>\n",
       "      <td>0.0</td>\n",
       "      <td>0.0</td>\n",
       "      <td>0.0</td>\n",
       "      <td>0.0</td>\n",
       "      <td>...</td>\n",
       "      <td>0.0</td>\n",
       "      <td>0.0</td>\n",
       "      <td>0.0</td>\n",
       "      <td>0.0</td>\n",
       "      <td>0.0</td>\n",
       "      <td>0.0</td>\n",
       "      <td>0.0</td>\n",
       "      <td>0.0</td>\n",
       "      <td>0.0</td>\n",
       "      <td>0.0</td>\n",
       "    </tr>\n",
       "    <tr>\n",
       "      <th>3</th>\n",
       "      <td>0.0</td>\n",
       "      <td>0.0</td>\n",
       "      <td>0.0</td>\n",
       "      <td>0.0</td>\n",
       "      <td>0.0</td>\n",
       "      <td>0.0</td>\n",
       "      <td>0.0</td>\n",
       "      <td>0.0</td>\n",
       "      <td>0.0</td>\n",
       "      <td>0.0</td>\n",
       "      <td>...</td>\n",
       "      <td>0.0</td>\n",
       "      <td>0.0</td>\n",
       "      <td>0.0</td>\n",
       "      <td>0.0</td>\n",
       "      <td>0.0</td>\n",
       "      <td>0.0</td>\n",
       "      <td>0.0</td>\n",
       "      <td>0.0</td>\n",
       "      <td>0.0</td>\n",
       "      <td>0.0</td>\n",
       "    </tr>\n",
       "    <tr>\n",
       "      <th>4</th>\n",
       "      <td>0.0</td>\n",
       "      <td>0.0</td>\n",
       "      <td>0.0</td>\n",
       "      <td>0.0</td>\n",
       "      <td>0.0</td>\n",
       "      <td>0.0</td>\n",
       "      <td>0.0</td>\n",
       "      <td>0.0</td>\n",
       "      <td>0.0</td>\n",
       "      <td>0.0</td>\n",
       "      <td>...</td>\n",
       "      <td>0.0</td>\n",
       "      <td>0.0</td>\n",
       "      <td>0.0</td>\n",
       "      <td>0.0</td>\n",
       "      <td>0.0</td>\n",
       "      <td>0.0</td>\n",
       "      <td>0.0</td>\n",
       "      <td>0.0</td>\n",
       "      <td>0.0</td>\n",
       "      <td>0.0</td>\n",
       "    </tr>\n",
       "    <tr>\n",
       "      <th>...</th>\n",
       "      <td>...</td>\n",
       "      <td>...</td>\n",
       "      <td>...</td>\n",
       "      <td>...</td>\n",
       "      <td>...</td>\n",
       "      <td>...</td>\n",
       "      <td>...</td>\n",
       "      <td>...</td>\n",
       "      <td>...</td>\n",
       "      <td>...</td>\n",
       "      <td>...</td>\n",
       "      <td>...</td>\n",
       "      <td>...</td>\n",
       "      <td>...</td>\n",
       "      <td>...</td>\n",
       "      <td>...</td>\n",
       "      <td>...</td>\n",
       "      <td>...</td>\n",
       "      <td>...</td>\n",
       "      <td>...</td>\n",
       "      <td>...</td>\n",
       "    </tr>\n",
       "    <tr>\n",
       "      <th>995</th>\n",
       "      <td>0.0</td>\n",
       "      <td>0.0</td>\n",
       "      <td>0.0</td>\n",
       "      <td>0.0</td>\n",
       "      <td>0.0</td>\n",
       "      <td>0.0</td>\n",
       "      <td>0.0</td>\n",
       "      <td>0.0</td>\n",
       "      <td>0.0</td>\n",
       "      <td>0.0</td>\n",
       "      <td>...</td>\n",
       "      <td>0.0</td>\n",
       "      <td>0.0</td>\n",
       "      <td>0.0</td>\n",
       "      <td>0.0</td>\n",
       "      <td>0.0</td>\n",
       "      <td>0.0</td>\n",
       "      <td>0.0</td>\n",
       "      <td>0.0</td>\n",
       "      <td>0.0</td>\n",
       "      <td>0.0</td>\n",
       "    </tr>\n",
       "    <tr>\n",
       "      <th>996</th>\n",
       "      <td>0.0</td>\n",
       "      <td>0.0</td>\n",
       "      <td>0.0</td>\n",
       "      <td>0.0</td>\n",
       "      <td>0.0</td>\n",
       "      <td>0.0</td>\n",
       "      <td>0.0</td>\n",
       "      <td>0.0</td>\n",
       "      <td>0.0</td>\n",
       "      <td>0.0</td>\n",
       "      <td>...</td>\n",
       "      <td>0.0</td>\n",
       "      <td>0.0</td>\n",
       "      <td>0.0</td>\n",
       "      <td>0.0</td>\n",
       "      <td>0.0</td>\n",
       "      <td>0.0</td>\n",
       "      <td>0.0</td>\n",
       "      <td>0.0</td>\n",
       "      <td>0.0</td>\n",
       "      <td>0.0</td>\n",
       "    </tr>\n",
       "    <tr>\n",
       "      <th>997</th>\n",
       "      <td>0.0</td>\n",
       "      <td>0.0</td>\n",
       "      <td>0.0</td>\n",
       "      <td>0.0</td>\n",
       "      <td>0.0</td>\n",
       "      <td>0.0</td>\n",
       "      <td>0.0</td>\n",
       "      <td>0.0</td>\n",
       "      <td>0.0</td>\n",
       "      <td>0.0</td>\n",
       "      <td>...</td>\n",
       "      <td>0.0</td>\n",
       "      <td>0.0</td>\n",
       "      <td>0.0</td>\n",
       "      <td>0.0</td>\n",
       "      <td>0.0</td>\n",
       "      <td>0.0</td>\n",
       "      <td>0.0</td>\n",
       "      <td>0.0</td>\n",
       "      <td>0.0</td>\n",
       "      <td>0.0</td>\n",
       "    </tr>\n",
       "    <tr>\n",
       "      <th>998</th>\n",
       "      <td>0.0</td>\n",
       "      <td>0.0</td>\n",
       "      <td>0.0</td>\n",
       "      <td>0.0</td>\n",
       "      <td>0.0</td>\n",
       "      <td>0.0</td>\n",
       "      <td>0.0</td>\n",
       "      <td>0.0</td>\n",
       "      <td>0.0</td>\n",
       "      <td>0.0</td>\n",
       "      <td>...</td>\n",
       "      <td>0.0</td>\n",
       "      <td>0.0</td>\n",
       "      <td>0.0</td>\n",
       "      <td>0.0</td>\n",
       "      <td>0.0</td>\n",
       "      <td>0.0</td>\n",
       "      <td>0.0</td>\n",
       "      <td>0.0</td>\n",
       "      <td>0.0</td>\n",
       "      <td>0.0</td>\n",
       "    </tr>\n",
       "    <tr>\n",
       "      <th>999</th>\n",
       "      <td>0.0</td>\n",
       "      <td>0.0</td>\n",
       "      <td>0.0</td>\n",
       "      <td>0.0</td>\n",
       "      <td>0.0</td>\n",
       "      <td>0.0</td>\n",
       "      <td>0.0</td>\n",
       "      <td>0.0</td>\n",
       "      <td>0.0</td>\n",
       "      <td>0.0</td>\n",
       "      <td>...</td>\n",
       "      <td>0.0</td>\n",
       "      <td>0.0</td>\n",
       "      <td>0.0</td>\n",
       "      <td>0.0</td>\n",
       "      <td>0.0</td>\n",
       "      <td>0.0</td>\n",
       "      <td>0.0</td>\n",
       "      <td>0.0</td>\n",
       "      <td>0.0</td>\n",
       "      <td>0.0</td>\n",
       "    </tr>\n",
       "  </tbody>\n",
       "</table>\n",
       "<p>1000 rows × 77426 columns</p>\n",
       "</div>"
      ],
      "text/plain": [
       "     ada  187.16  82.219   惰政  barry  給他國   能分  滿腦子  panic2012   騙管  ...  \\\n",
       "0    0.0     0.0     0.0  0.0    0.0  0.0  0.0  0.0        0.0  0.0  ...   \n",
       "1    0.0     0.0     0.0  0.0    0.0  0.0  0.0  0.0        0.0  0.0  ...   \n",
       "2    0.0     0.0     0.0  0.0    0.0  0.0  0.0  0.0        0.0  0.0  ...   \n",
       "3    0.0     0.0     0.0  0.0    0.0  0.0  0.0  0.0        0.0  0.0  ...   \n",
       "4    0.0     0.0     0.0  0.0    0.0  0.0  0.0  0.0        0.0  0.0  ...   \n",
       "..   ...     ...     ...  ...    ...  ...  ...  ...        ...  ...  ...   \n",
       "995  0.0     0.0     0.0  0.0    0.0  0.0  0.0  0.0        0.0  0.0  ...   \n",
       "996  0.0     0.0     0.0  0.0    0.0  0.0  0.0  0.0        0.0  0.0  ...   \n",
       "997  0.0     0.0     0.0  0.0    0.0  0.0  0.0  0.0        0.0  0.0  ...   \n",
       "998  0.0     0.0     0.0  0.0    0.0  0.0  0.0  0.0        0.0  0.0  ...   \n",
       "999  0.0     0.0     0.0  0.0    0.0  0.0  0.0  0.0        0.0  0.0  ...   \n",
       "\n",
       "     iComeInPeace   仔都   不登  沒不倫  campoland   西歐  自我介紹  MrDK  142.147   量力  \n",
       "0             0.0  0.0  0.0  0.0        0.0  0.0   0.0   0.0      0.0  0.0  \n",
       "1             0.0  0.0  0.0  0.0        0.0  0.0   0.0   0.0      0.0  0.0  \n",
       "2             0.0  0.0  0.0  0.0        0.0  0.0   0.0   0.0      0.0  0.0  \n",
       "3             0.0  0.0  0.0  0.0        0.0  0.0   0.0   0.0      0.0  0.0  \n",
       "4             0.0  0.0  0.0  0.0        0.0  0.0   0.0   0.0      0.0  0.0  \n",
       "..            ...  ...  ...  ...        ...  ...   ...   ...      ...  ...  \n",
       "995           0.0  0.0  0.0  0.0        0.0  0.0   0.0   0.0      0.0  0.0  \n",
       "996           0.0  0.0  0.0  0.0        0.0  0.0   0.0   0.0      0.0  0.0  \n",
       "997           0.0  0.0  0.0  0.0        0.0  0.0   0.0   0.0      0.0  0.0  \n",
       "998           0.0  0.0  0.0  0.0        0.0  0.0   0.0   0.0      0.0  0.0  \n",
       "999           0.0  0.0  0.0  0.0        0.0  0.0   0.0   0.0      0.0  0.0  \n",
       "\n",
       "[1000 rows x 77426 columns]"
      ]
     },
     "execution_count": 334,
     "metadata": {},
     "output_type": "execute_result"
    }
   ],
   "source": [
    "tfList=list()\n",
    "tfidfList=list()\n",
    "#計算TF\n",
    "#print(wordContentList)\n",
    "for i in range(maxCount):\n",
    "    numOfWords = dict.fromkeys(wordSet, 0)\n",
    "    for word in wordContentList[i]:\n",
    "        numOfWords[word] += 1\n",
    "    tfList.append(computeTF(numOfWords, wordContentList[i]))\n",
    "        \n",
    "#計算IDF\n",
    "idfs = computeIDF(tfList)\n",
    "#print(tfList[2])\n",
    "for tf in tfList:\n",
    "    tfidfList.append(computeTFIDF(tf, idfs))\n",
    "    \n",
    "dataframe = pd.DataFrame(tfidfList)\n",
    "dataframe"
   ]
  },
  {
   "cell_type": "markdown",
   "metadata": {},
   "source": [
    "#文字雲"
   ]
  },
  {
   "cell_type": "code",
   "execution_count": 335,
   "metadata": {},
   "outputs": [
    {
     "data": {
      "image/png": "[encoded data removed]",
      "text/plain": [
       "<Figure size 432x288 with 1 Axes>"
      ]
     },
     "metadata": {
      "needs_background": "light"
     },
     "output_type": "display_data"
    }
   ],
   "source": [
    "tfidfMerge=dict()\n",
    "#for d in tfidfList:\n",
    "#    tfidfMerge.update(d)\n",
    "\n",
    "tfidfMerge=dict()\n",
    "for d in tfidfList:\n",
    "    for k,v in d.items():\n",
    "        if k in tfidfMerge:\n",
    "            if tfidfMerge[k]<v:\n",
    "                tfidfMerge[k]=v\n",
    "        else:\n",
    "            tfidfMerge[k]=v\n",
    "\n",
    "tfidfMerge={k: v for k, v in sorted(tfidfMerge.items(), key=lambda item: item[1],reverse=True)}\n",
    "\n",
    "#print(type(tfidfList[0]))\n",
    "font_path=\"/System/Library/fonts/PingFang.ttc\"\n",
    "wordcloud = WordCloud(background_color=\"white\",font_path=font_path,width=1000,height=1000,relative_scaling=0.5,normalize_plurals=False).generate_from_frequencies(tfidfMerge)\n",
    "\n",
    "#wordcloud = WordCloud(background_color=\"white\",width=1000, height=860, margin=2).generate(\"Ob Bc debugC\")\n",
    "plt.imshow(wordcloud)\n",
    "plt.axis(\"off\")\n",
    "plt.show()"
   ]
  },
  {
   "cell_type": "code",
   "execution_count": 2,
   "metadata": {},
   "outputs": [
    {
     "data": {
      "image/png": "[encoded data removed]",
      "text/plain": [
       "<Figure size 432x288 with 1 Axes>"
      ]
     },
     "metadata": {
      "needs_background": "light"
     },
     "output_type": "display_data"
    }
   ],
   "source": [
    "import matplotlib.pyplot as plt\n",
    "fig = plt.figure()\n",
    "ax = fig.add_axes([0,0,1,1])\n",
    "langs = ['C', 'C++', 'Java', 'Python', 'PHP']\n",
    "students = [23,17,35,29,12]\n",
    "ax.bar(langs,students)\n",
    "plt.show()"
   ]
  },
  {
   "cell_type": "code",
   "execution_count": 336,
   "metadata": {},
   "outputs": [],
   "source": [
    "#整理政黑資料\n",
    "index=0\n",
    "for d in tfidfList:\n",
    "    for k,v in d.items():\n",
    "        if v>0 and k in political:\n",
    "            temp=dict()\n",
    "            authorInfo[index].update({k:v})\n",
    "    index+=1"
   ]
  },
  {
   "cell_type": "markdown",
   "metadata": {},
   "source": [
    "#網軍判斷"
   ]
  },
  {
   "cell_type": "code",
   "execution_count": 337,
   "metadata": {},
   "outputs": [
    {
     "name": "stdout",
     "output_type": "stream",
     "text": [
      "ponccQQ 118.161.247.181 Tiiek (AAAAAAAAAAAAAAAAAA) : [{'author': 'ROCisChina (中華民國才是中國)', 'url': 'https://www.ptt.cc/bbs/Gossiping/M.1579690302.A.527.html', 'count': 4}]\n",
      "ponccQQ  legos4710 (EG) : [{'author': 'DataMaster (0.0)', 'url': 'https://www.ptt.cc/bbs/Gossiping/M.1579689830.A.461.html', 'count': 3}]\n",
      "ponccQQ 101.9.180.100 SSZZ77 (甲殼類過敏) : [{'author': 'z72117211 (高橋李依我老婆)', 'url': 'https://www.ptt.cc/bbs/Gossiping/M.1579689118.A.C70.html', 'count': 3}]\n",
      "ponccQQ 39.8.126.99 math520 ( ) : [{'author': 'a6000200 (aa)', 'url': 'https://www.ptt.cc/bbs/Gossiping/M.1579687038.A.52C.html', 'count': 3}]\n",
      "ponccQQ 42.76.192.175 sqin (學店企鵝橘子) : [{'author': 'sqin (學店企鵝姆咪)', 'url': 'https://www.ptt.cc/bbs/Gossiping/M.1579679166.A.C90.html', 'count': 3}]\n",
      "ponccQQ 211.72.175.250 obey1110 (obey) : [{'author': 'xamous (一天死去一點)', 'url': 'https://www.ptt.cc/bbs/Gossiping/M.1579663973.A.C70.html', 'count': 5}]\n",
      "ponccQQ 163.15.161.247 a89182a89182 (豬豬肉桂卷) : [{'author': 's1155697 (0.0)', 'url': 'https://www.ptt.cc/bbs/Gossiping/M.1579666904.A.69D.html', 'count': 5}]\n",
      "網軍: 223.138.6.34 count: 2 info: Yolosnow (生活很無聊) https://www.ptt.cc/bbs/Gossiping/M.1579691656.A.8B4.html\n",
      "網軍: 223.138.6.34 count: 2 info: Yolosnow (生活很無聊) https://www.ptt.cc/bbs/Gossiping/M.1579691030.A.359.html\n",
      "網軍: 117.56.186.115 count: 2 info: lh9059 (Phoenix) https://www.ptt.cc/bbs/Gossiping/M.1579691803.A.56B.html\n",
      "網軍: 117.56.186.115 count: 2 info: lh9059 (Phoenix) https://www.ptt.cc/bbs/Gossiping/M.1579673177.A.60C.html\n",
      "網軍: 39.9.102.20 count: 2 info: muscatsss (遙香的唯一老公) https://www.ptt.cc/bbs/Gossiping/M.1579691857.A.E47.html\n",
      "網軍: 39.9.102.20 count: 2 info: muscatsss (遙香的唯一老公) https://www.ptt.cc/bbs/Gossiping/M.1579671874.A.7A3.html\n",
      "網軍: 118.171.32.24 count: 2 info: kaky (菩提本無樹明鏡亦非台) https://www.ptt.cc/bbs/Gossiping/M.1579691868.A.5A3.html\n",
      "網軍: 118.171.32.24 count: 2 info: kaky (菩提本無樹明鏡亦非台) https://www.ptt.cc/bbs/Gossiping/M.1579687935.A.2FA.html\n",
      "網軍: 61.223.21.105 count: 2 info: qw5980162 (台中家庭教師包莖哥) https://www.ptt.cc/bbs/Gossiping/M.1579691939.A.8C6.html\n",
      "網軍: 61.223.21.105 count: 2 info: qw5980162 (台中家庭教師包莖哥) https://www.ptt.cc/bbs/Gossiping/M.1579687972.A.CF6.html\n",
      "網軍: 39.10.137.79 count: 2 info: lianpig5566 (家庭教師殺手里包恩) https://www.ptt.cc/bbs/Gossiping/M.1579692030.A.23F.html\n",
      "網軍: 39.10.137.79 count: 2 info: lianpig5566 (家庭教師殺手里包恩) https://www.ptt.cc/bbs/Gossiping/M.1579682874.A.5CB.html\n",
      "網軍: 155.69.174.3 count: 4 info: kusowan (你感受一下) https://www.ptt.cc/bbs/Gossiping/M.1579692057.A.27C.html\n",
      "網軍: 155.69.174.3 count: 4 info: kusowan (你感受一下) https://www.ptt.cc/bbs/Gossiping/M.1579672344.A.199.html\n",
      "網軍: 155.69.174.3 count: 4 info: kusowan (你感受一下) https://www.ptt.cc/bbs/Gossiping/M.1579670880.A.237.html\n",
      "網軍: 155.69.174.3 count: 4 info: kusowan (你感受一下) https://www.ptt.cc/bbs/Gossiping/M.1579669211.A.022.html\n",
      "網軍: 27.242.12.191 count: 2 info: yoyoyin0119 (UnSeenBlade) https://www.ptt.cc/bbs/Gossiping/M.1579692155.A.023.html\n",
      "網軍: 27.242.12.191 count: 2 info: yoyoyin0119 (UnSeenBlade) https://www.ptt.cc/bbs/Gossiping/M.1579678412.A.374.html\n",
      "網軍: 125.224.77.205 count: 2 info: hk410050 (A柏) https://www.ptt.cc/bbs/Gossiping/M.1579692350.A.1AE.html\n",
      "網軍: 125.224.77.205 count: 2 info: hk410050 (A柏) https://www.ptt.cc/bbs/Gossiping/M.1579665497.A.028.html\n",
      "網軍: 118.161.247.181 count: 2 info: ROCisChina (中華民國才是中國) https://www.ptt.cc/bbs/Gossiping/M.1579690302.A.527.html\n",
      "網軍: 118.161.247.181 count: 2 info: Tiiek (AAAAAAAAAAAAAAAAAA) https://www.ptt.cc/bbs/Gossiping/M.1579688386.A.1E1.html\n",
      "網軍: 211.75.15.151 count: 3 info: secretfly (☠鬼滅·之喵喵) https://www.ptt.cc/bbs/Gossiping/M.1579690521.A.EA8.html\n",
      "網軍: 211.75.15.151 count: 3 info: secretfly (☠鬼滅·之喵喵) https://www.ptt.cc/bbs/Gossiping/M.1579677993.A.2B5.html\n",
      "網軍: 211.75.15.151 count: 3 info: secretfly (☠鬼滅·之喵喵) https://www.ptt.cc/bbs/Gossiping/M.1579672058.A.EF9.html\n",
      "網軍: 61.228.152.240 count: 2 info: arsonlolita (板主) https://www.ptt.cc/bbs/Gossiping/M.1579690675.A.F3E.html\n",
      "網軍: 61.228.152.240 count: 2 info: arsonlolita (板主) https://www.ptt.cc/bbs/Gossiping/M.1579666468.A.7CE.html\n",
      "網軍: 172.104.113.178 count: 3 info: Goo4u (Goo4u) https://www.ptt.cc/bbs/Gossiping/M.1579690808.A.821.html\n",
      "網軍: 172.104.113.178 count: 3 info: Goo4u (Goo4u) https://www.ptt.cc/bbs/Gossiping/M.1579688366.A.DD9.html\n",
      "網軍: 172.104.113.178 count: 3 info: Goo4u (Goo4u) https://www.ptt.cc/bbs/Gossiping/M.1579664154.A.224.html\n",
      "網軍: 101.12.212.96 count: 2 info: zakijudelo (柴克豬大佬) https://www.ptt.cc/bbs/Gossiping/M.1579691318.A.ECC.html\n",
      "網軍: 101.12.212.96 count: 2 info: zakijudelo (柴克豬大佬) https://www.ptt.cc/bbs/Gossiping/M.1579672669.A.5A1.html\n",
      "網軍: 36.231.116.228 count: 2 info: turbomons (Τ/taʊ/) https://www.ptt.cc/bbs/Gossiping/M.1579689514.A.586.html\n",
      "網軍: 36.231.116.228 count: 2 info: turbomons (Τ/taʊ/) https://www.ptt.cc/bbs/Gossiping/M.1579663940.A.D69.html\n",
      "網軍: 106.105.28.90 count: 3 info: fckj1131017 (海德里希) https://www.ptt.cc/bbs/Gossiping/M.1579689522.A.3F7.html\n",
      "網軍: 106.105.28.90 count: 3 info: fckj1131017 (海德里希) https://www.ptt.cc/bbs/Gossiping/M.1579682426.A.85D.html\n",
      "網軍: 106.105.28.90 count: 3 info: fckj1131017 (海德里希) https://www.ptt.cc/bbs/Gossiping/M.1579682777.A.E2B.html\n",
      "網軍:  count: 2 info: DataMaster (0.0) https://www.ptt.cc/bbs/Gossiping/M.1579689830.A.461.html\n",
      "網軍:  count: 2 info: legos4710 (EG) https://www.ptt.cc/bbs/Gossiping/M.1579685189.A.F45.html\n",
      "網軍: 27.246.44.58 count: 2 info: d995511 (flcl) https://www.ptt.cc/bbs/Gossiping/M.1579689887.A.9E2.html\n",
      "網軍: 27.246.44.58 count: 2 info: d995511 (flcl) https://www.ptt.cc/bbs/Gossiping/M.1579675419.A.BB0.html\n",
      "網軍: 223.137.166.45 count: 2 info: adf926 (呵呵蓋) https://www.ptt.cc/bbs/Gossiping/M.1579690028.A.486.html\n",
      "網軍: 223.137.166.45 count: 2 info: adf926 (呵呵蓋) https://www.ptt.cc/bbs/Gossiping/M.1579649016.A.BBB.html\n",
      "網軍: 110.28.35.125 count: 2 info: wwHui (Hui) https://www.ptt.cc/bbs/Gossiping/M.1579688819.A.85C.html\n",
      "網軍: 110.28.35.125 count: 2 info: wwHui (Hui) https://www.ptt.cc/bbs/Gossiping/M.1579655184.A.EAC.html\n",
      "網軍: 49.215.204.47 count: 2 info: Xing97302 (幹古專用帳號粉絲) https://www.ptt.cc/bbs/Gossiping/M.1579688876.A.E1C.html\n",
      "網軍: 49.215.204.47 count: 2 info: Xing97302 (幹古專用帳號粉絲) https://www.ptt.cc/bbs/Gossiping/M.1579686484.A.04D.html\n",
      "網軍: 180.217.174.233 count: 2 info: ABCcomputer ( ) https://www.ptt.cc/bbs/Gossiping/M.1579688938.A.4BB.html\n",
      "網軍: 180.217.174.233 count: 2 info: ABCcomputer ( ) https://www.ptt.cc/bbs/Gossiping/M.1579687239.A.E05.html\n",
      "網軍: 114.44.175.246 count: 2 info: HTC92 (中国台湾人的驕傲-92共識) https://www.ptt.cc/bbs/Gossiping/M.1579689046.A.869.html\n",
      "網軍: 114.44.175.246 count: 2 info: HTC92 (中国台湾人的驕傲-92共識) https://www.ptt.cc/bbs/Gossiping/M.1579688547.A.4C9.html\n",
      "網軍: 101.9.180.100 count: 3 info: z72117211 (高橋李依我老婆) https://www.ptt.cc/bbs/Gossiping/M.1579689118.A.C70.html\n",
      "網軍: 101.9.180.100 count: 3 info: SSZZ77 (甲殼類過敏) https://www.ptt.cc/bbs/Gossiping/M.1579680470.A.CF9.html\n",
      "網軍: 101.9.180.100 count: 3 info: z72117211 (高橋李依我老婆) https://www.ptt.cc/bbs/Gossiping/M.1579662559.A.B5A.html\n",
      "網軍: 114.34.167.232 count: 2 info: tw689 (台灣689) https://www.ptt.cc/bbs/Gossiping/M.1579689448.A.6C0.html\n",
      "網軍: 114.34.167.232 count: 2 info: tw689 (台灣689) https://www.ptt.cc/bbs/Gossiping/M.1579666795.A.35F.html\n",
      "網軍: 36.233.116.145 count: 3 info: thepowers (thepowers) https://www.ptt.cc/bbs/Gossiping/M.1579688280.A.D69.html\n",
      "網軍: 36.233.116.145 count: 3 info: thepowers (thepowers) https://www.ptt.cc/bbs/Gossiping/M.1579667691.A.D35.html\n",
      "網軍: 36.233.116.145 count: 3 info: thepowers (thepowers) https://www.ptt.cc/bbs/Gossiping/M.1579650025.A.275.html\n",
      "網軍: 49.216.40.19 count: 2 info: Zeelandia (pectoralis) https://www.ptt.cc/bbs/Gossiping/M.1579688333.A.AB8.html\n",
      "網軍: 49.216.40.19 count: 2 info: Zeelandia (pectoralis) https://www.ptt.cc/bbs/Gossiping/M.1579671646.A.2BD.html\n",
      "網軍: 36.239.228.84 count: 2 info: powyo (光子郎) https://www.ptt.cc/bbs/Gossiping/M.1579688538.A.2BF.html\n",
      "網軍: 36.239.228.84 count: 2 info: powyo (光子郎) https://www.ptt.cc/bbs/Gossiping/M.1579672680.A.AD8.html\n",
      "網軍: 101.8.199.2 count: 2 info: KTR5566 (KTR) https://www.ptt.cc/bbs/Gossiping/M.1579687678.A.345.html\n",
      "網軍: 101.8.199.2 count: 2 info: KTR5566 (KTR) https://www.ptt.cc/bbs/Gossiping/M.1579685373.A.0AA.html\n",
      "網軍: 223.137.166.135 count: 2 info: IronCube (吃飽就要大便) https://www.ptt.cc/bbs/Gossiping/M.1579687802.A.C03.html\n",
      "網軍: 223.137.166.135 count: 2 info: IronCube (吃飽就要大便) https://www.ptt.cc/bbs/Gossiping/M.1579684140.A.EB0.html\n",
      "網軍: 27.242.66.109 count: 2 info: godshibainu (神柴) https://www.ptt.cc/bbs/Gossiping/M.1579686391.A.819.html\n",
      "網軍: 27.242.66.109 count: 2 info: godshibainu (神柴) https://www.ptt.cc/bbs/Gossiping/M.1579661657.A.F34.html\n",
      "網軍: 223.139.235.30 count: 2 info: Giddcns (狠、插、勁！！！) https://www.ptt.cc/bbs/Gossiping/M.1579686503.A.E25.html\n",
      "網軍: 223.139.235.30 count: 2 info: Giddcns (狠、插、勁！！！) https://www.ptt.cc/bbs/Gossiping/M.1579674820.A.E7C.html\n",
      "網軍: 49.216.213.249 count: 2 info: STAV72 (刁民黨黨務主委) https://www.ptt.cc/bbs/Gossiping/M.1579686519.A.0BD.html\n",
      "網軍: 49.216.213.249 count: 2 info: STAV72 (刁民黨黨務主委) https://www.ptt.cc/bbs/Gossiping/M.1579657294.A.44A.html\n",
      "網軍: 42.73.241.86 count: 2 info: b777787 (想不到8) https://www.ptt.cc/bbs/Gossiping/M.1579686714.A.7B4.html\n",
      "網軍: 42.73.241.86 count: 2 info: b777787 (想不到8) https://www.ptt.cc/bbs/Gossiping/M.1579683854.A.EEE.html\n",
      "網軍: 39.8.126.99 count: 2 info: a6000200 (aa) https://www.ptt.cc/bbs/Gossiping/M.1579687038.A.52C.html\n",
      "網軍: 39.8.126.99 count: 2 info: math520 ( ) https://www.ptt.cc/bbs/Gossiping/M.1579676063.A.493.html\n",
      "網軍: 59.125.98.167 count: 5 info: eddisontw (沙丘) https://www.ptt.cc/bbs/Gossiping/M.1579685663.A.C76.html\n",
      "網軍: 59.125.98.167 count: 5 info: eddisontw (沙丘) https://www.ptt.cc/bbs/Gossiping/M.1579682206.A.0A1.html\n",
      "網軍: 59.125.98.167 count: 5 info: eddisontw (沙丘) https://www.ptt.cc/bbs/Gossiping/M.1579672853.A.8AB.html\n",
      "網軍: 59.125.98.167 count: 5 info: eddisontw (沙丘) https://www.ptt.cc/bbs/Gossiping/M.1579666408.A.5FC.html\n",
      "網軍: 59.125.98.167 count: 5 info: eddisontw (沙丘) https://www.ptt.cc/bbs/Gossiping/M.1579663621.A.AC1.html\n",
      "網軍: 49.216.59.14 count: 3 info: kkes0001 (guest) https://www.ptt.cc/bbs/Gossiping/M.1579685664.A.333.html\n",
      "網軍: 49.216.59.14 count: 3 info: kkes0001 (guest) https://www.ptt.cc/bbs/Gossiping/M.1579667251.A.F63.html\n",
      "網軍: 49.216.59.14 count: 3 info: kkes0001 (guest) https://www.ptt.cc/bbs/Gossiping/M.1579666348.A.FF3.html\n",
      "網軍: 60.251.144.133 count: 2 info: simonneko (燒餅大叔) https://www.ptt.cc/bbs/Gossiping/M.1579685860.A.49E.html\n",
      "網軍: 60.251.144.133 count: 2 info: simonneko (燒餅大叔) https://www.ptt.cc/bbs/Gossiping/M.1579678122.A.7D7.html\n",
      "網軍: 36.236.29.101 count: 3 info: Ras5566 (橡皮擦) https://www.ptt.cc/bbs/Gossiping/M.1579686102.A.96A.html\n",
      "網軍: 36.236.29.101 count: 3 info: Ras5566 (橡皮擦) https://www.ptt.cc/bbs/Gossiping/M.1579681125.A.F38.html\n",
      "網軍: 36.236.29.101 count: 3 info: Ras5566 (橡皮擦) https://www.ptt.cc/bbs/Gossiping/M.1579647793.A.3A1.html\n",
      "網軍: 110.26.6.2 count: 2 info: takashi01 (廢文小王子) https://www.ptt.cc/bbs/Gossiping/M.1579684724.A.C8F.html\n",
      "網軍: 110.26.6.2 count: 2 info: takashi01 (廢文小王子) https://www.ptt.cc/bbs/Gossiping/M.1579673154.A.279.html\n",
      "網軍: 39.10.62.37 count: 2 info: macbook12 (12吋蘋果) https://www.ptt.cc/bbs/Gossiping/M.1579685145.A.7EC.html\n",
      "網軍: 39.10.62.37 count: 2 info: macbook12 (12吋蘋果) https://www.ptt.cc/bbs/Gossiping/M.1579675382.A.E1E.html\n",
      "網軍: 114.39.147.62 count: 2 info: cjo4fu31219 (恩) https://www.ptt.cc/bbs/Gossiping/M.1579685332.A.68A.html\n",
      "網軍: 114.39.147.62 count: 2 info: cjo4fu31219 (恩) https://www.ptt.cc/bbs/Gossiping/M.1579684089.A.EA7.html\n",
      "網軍: 126.34.126.158 count: 2 info: ilikebrandy (箱根烤肉王) https://www.ptt.cc/bbs/Gossiping/M.1579685355.A.A05.html\n",
      "網軍: 126.34.126.158 count: 2 info: ilikebrandy (箱根烤肉王) https://www.ptt.cc/bbs/Gossiping/M.1579651479.A.E5D.html\n",
      "網軍: 182.235.79.98 count: 3 info: NARUTO (鳴人) https://www.ptt.cc/bbs/Gossiping/M.1579685367.A.EAC.html\n",
      "網軍: 182.235.79.98 count: 3 info: NARUTO (鳴人) https://www.ptt.cc/bbs/Gossiping/M.1579677965.A.6C0.html\n",
      "網軍: 182.235.79.98 count: 3 info: NARUTO (鳴人) https://www.ptt.cc/bbs/Gossiping/M.1579663892.A.DCD.html\n",
      "網軍: 223.139.181.224 count: 2 info: yorkyoung (約克羊) https://www.ptt.cc/bbs/Gossiping/M.1579683941.A.C0C.html\n",
      "網軍: 223.139.181.224 count: 2 info: yorkyoung (約克羊) https://www.ptt.cc/bbs/Gossiping/M.1579653976.A.EFA.html\n",
      "網軍: 42.75.72.32 count: 2 info: s66449 (老實樣) https://www.ptt.cc/bbs/Gossiping/M.1579684180.A.5D7.html\n",
      "網軍: 42.75.72.32 count: 2 info: s66449 (老實樣) https://www.ptt.cc/bbs/Gossiping/M.1579648511.A.8C8.html\n",
      "網軍: 111.82.2.198 count: 2 info: Vladivostok (海参崴) https://www.ptt.cc/bbs/Gossiping/M.1579684207.A.2D1.html\n",
      "網軍: 111.82.2.198 count: 2 info: Vladivostok (海参崴) https://www.ptt.cc/bbs/Gossiping/M.1579680694.A.21C.html\n",
      "網軍: 223.136.11.60 count: 2 info: iamshana (CANINE力集中在一些重要S) https://www.ptt.cc/bbs/Gossiping/M.1579684471.A.4C9.html\n",
      "網軍: 223.136.11.60 count: 2 info: iamshana (CANINE力集中在一些重要S) https://www.ptt.cc/bbs/Gossiping/M.1579664129.A.60D.html\n",
      "網軍: 42.72.35.164 count: 2 info: Ericz7000 (♥安潔莉卡正統老公♥) https://www.ptt.cc/bbs/Gossiping/M.1579683035.A.04E.html\n",
      "網軍: 42.72.35.164 count: 2 info: Ericz7000 (♥安潔莉卡正統老公♥) https://www.ptt.cc/bbs/Gossiping/M.1579669723.A.8B5.html\n",
      "網軍: 114.198.160.22 count: 2 info: Wardyal (Wardyal) https://www.ptt.cc/bbs/Gossiping/M.1579683059.A.BB0.html\n",
      "網軍: 114.198.160.22 count: 2 info: Wardyal (Wardyal) https://www.ptt.cc/bbs/Gossiping/M.1579654843.A.E5E.html\n",
      "網軍: 39.10.126.25 count: 3 info: gk1329 () https://www.ptt.cc/bbs/Gossiping/M.1579683195.A.572.html\n",
      "網軍: 39.10.126.25 count: 3 info: gk1329 () https://www.ptt.cc/bbs/Gossiping/M.1579662819.A.716.html\n",
      "網軍: 39.10.126.25 count: 3 info: gk1329 () https://www.ptt.cc/bbs/Gossiping/M.1579653864.A.BD4.html\n",
      "網軍: 60.250.30.118 count: 2 info: cosmite (Z) https://www.ptt.cc/bbs/Gossiping/M.1579683309.A.100.html\n",
      "網軍: 60.250.30.118 count: 2 info: cosmite (Z) https://www.ptt.cc/bbs/Gossiping/M.1579678546.A.567.html\n",
      "網軍: 223.141.71.47 count: 2 info: blueskymaple (你是不是在發球) https://www.ptt.cc/bbs/Gossiping/M.1579683352.A.788.html\n",
      "網軍: 223.141.71.47 count: 2 info: blueskymaple (你是不是在發球) https://www.ptt.cc/bbs/Gossiping/M.1579667184.A.F8C.html\n",
      "網軍: 223.140.122.215 count: 2 info: hogs (毛豬) https://www.ptt.cc/bbs/Gossiping/M.1579683640.A.255.html\n",
      "網軍: 223.140.122.215 count: 2 info: hogs (毛豬) https://www.ptt.cc/bbs/Gossiping/M.1579682014.A.7EC.html\n",
      "網軍: 36.225.102.171 count: 2 info: rial (deoo) https://www.ptt.cc/bbs/Gossiping/M.1579682287.A.FFE.html\n",
      "網軍: 36.225.102.171 count: 2 info: rial (deoo) https://www.ptt.cc/bbs/Gossiping/M.1579680623.A.6A5.html\n",
      "網軍: 180.204.146.101 count: 2 info: cmelo1515 (瓜農) https://www.ptt.cc/bbs/Gossiping/M.1579682552.A.BA0.html\n",
      "網軍: 180.204.146.101 count: 2 info: cmelo1515 (瓜農) https://www.ptt.cc/bbs/Gossiping/M.1579651642.A.772.html\n",
      "網軍: 27.246.94.18 count: 2 info: ssss0960193 (帶土的老公) https://www.ptt.cc/bbs/Gossiping/M.1579682722.A.00A.html\n",
      "網軍: 27.246.94.18 count: 2 info: ssss0960193 (帶土的老公) https://www.ptt.cc/bbs/Gossiping/M.1579660302.A.DFA.html\n",
      "網軍: 42.73.162.36 count: 2 info: Rogerisme (I'm Roger) https://www.ptt.cc/bbs/Gossiping/M.1579682724.A.E97.html\n",
      "網軍: 42.73.162.36 count: 2 info: Rogerisme (I'm Roger) https://www.ptt.cc/bbs/Gossiping/M.1579657398.A.827.html\n",
      "網軍: 111.71.121.161 count: 2 info: panzer1224 (panzer1224) https://www.ptt.cc/bbs/Gossiping/M.1579682892.A.CB8.html\n",
      "網軍: 111.71.121.161 count: 2 info: panzer1224 (panzer1224) https://www.ptt.cc/bbs/Gossiping/M.1579657675.A.8B9.html\n",
      "網軍: 115.43.36.79 count: 3 info: PanaS0Nic (騙納索零客) https://www.ptt.cc/bbs/Gossiping/M.1579682986.A.BA1.html\n",
      "網軍: 115.43.36.79 count: 3 info: PanaS0Nic (騙納索零客) https://www.ptt.cc/bbs/Gossiping/M.1579660203.A.9EA.html\n",
      "網軍: 115.43.36.79 count: 3 info: PanaS0Nic (騙納索零客) https://www.ptt.cc/bbs/Gossiping/M.1579655346.A.8A8.html\n",
      "網軍: 180.217.157.91 count: 2 info: mathbug (天堂的定義) https://www.ptt.cc/bbs/Gossiping/M.1579681231.A.471.html\n",
      "網軍: 180.217.157.91 count: 2 info: mathbug (天堂的定義) https://www.ptt.cc/bbs/Gossiping/M.1579653120.A.5FB.html\n",
      "網軍: 39.10.158.40 count: 2 info: a210510 (嗚嗚~) https://www.ptt.cc/bbs/Gossiping/M.1579681576.A.1AF.html\n",
      "網軍: 39.10.158.40 count: 2 info: a210510 (嗚嗚~) https://www.ptt.cc/bbs/Gossiping/M.1579674153.A.4CF.html\n",
      "網軍: 36.229.28.178 count: 2 info: kopuck (派翠克星星) https://www.ptt.cc/bbs/Gossiping/M.1579681658.A.C41.html\n",
      "網軍: 36.229.28.178 count: 2 info: kopuck (派翠克星星) https://www.ptt.cc/bbs/Gossiping/M.1579666565.A.8F3.html\n",
      "網軍: 45.10.82.48 count: 2 info: ununnihao (安安你好) https://www.ptt.cc/bbs/Gossiping/M.1579681856.A.BDB.html\n",
      "網軍: 45.10.82.48 count: 2 info: ununnihao (安安你好) https://www.ptt.cc/bbs/Gossiping/M.1579673830.A.95F.html\n",
      "網軍: 61.231.17.118 count: 2 info: leopika (萊奧˙波卡) https://www.ptt.cc/bbs/Gossiping/M.1579681961.A.8D2.html\n",
      "網軍: 61.231.17.118 count: 2 info: leopika (萊奧˙波卡) https://www.ptt.cc/bbs/Gossiping/M.1579667957.A.4E1.html\n",
      "網軍: 101.8.231.94 count: 2 info: zxc2331189 (阿拉花瓜) https://www.ptt.cc/bbs/Gossiping/M.1579679991.A.852.html\n",
      "網軍: 101.8.231.94 count: 2 info: zxc2331189 (阿拉花瓜) https://www.ptt.cc/bbs/Gossiping/M.1579677910.A.F80.html\n",
      "網軍: 183.198.154.133 count: 2 info: longyin (龍吟很難嗎？為什麼) https://www.ptt.cc/bbs/Gossiping/M.1579680076.A.E99.html\n",
      "網軍: 183.198.154.133 count: 2 info: longyin (龍吟很難嗎？為什麼) https://www.ptt.cc/bbs/Gossiping/M.1579661172.A.9BF.html\n",
      "網軍: 101.13.195.20 count: 2 info: k44754 (9527) https://www.ptt.cc/bbs/Gossiping/M.1579680854.A.364.html\n",
      "網軍: 101.13.195.20 count: 2 info: k44754 (9527) https://www.ptt.cc/bbs/Gossiping/M.1579679826.A.4C1.html\n",
      "網軍: 118.166.121.170 count: 2 info: a874622 (流浪者) https://www.ptt.cc/bbs/Gossiping/M.1579680878.A.184.html\n",
      "網軍: 118.166.121.170 count: 2 info: a874622 (流浪者) https://www.ptt.cc/bbs/Gossiping/M.1579677084.A.8BB.html\n",
      "網軍: 59.126.50.163 count: 3 info: wolver (超級大變態) https://www.ptt.cc/bbs/Gossiping/M.1579681008.A.7C5.html\n",
      "網軍: 59.126.50.163 count: 3 info: wolver (超級大變態) https://www.ptt.cc/bbs/Gossiping/M.1579676652.A.C9F.html\n",
      "網軍: 59.126.50.163 count: 3 info: wolver (超級大變態) https://www.ptt.cc/bbs/Gossiping/M.1579672651.A.9FE.html\n",
      "網軍: 27.247.72.146 count: 2 info: mikiup0321 (龍霸) https://www.ptt.cc/bbs/Gossiping/M.1579679241.A.290.html\n",
      "網軍: 27.247.72.146 count: 2 info: mikiup0321 (龍霸) https://www.ptt.cc/bbs/Gossiping/M.1579673129.A.F10.html\n",
      "網軍: 101.13.232.126 count: 2 info: a520 (520) https://www.ptt.cc/bbs/Gossiping/M.1579679844.A.AB9.html\n",
      "網軍: 101.13.232.126 count: 2 info: a520 (520) https://www.ptt.cc/bbs/Gossiping/M.1579663936.A.A43.html\n",
      "網軍: 111.242.90.239 count: 4 info: ericisfish (台中李宗瑞) https://www.ptt.cc/bbs/Gossiping/M.1579678804.A.323.html\n",
      "網軍: 111.242.90.239 count: 4 info: ericisfish (台中李宗瑞) https://www.ptt.cc/bbs/Gossiping/M.1579667450.A.2F1.html\n",
      "網軍: 111.242.90.239 count: 4 info: ericisfish (台中李宗瑞) https://www.ptt.cc/bbs/Gossiping/M.1579661445.A.89B.html\n",
      "網軍: 111.242.90.239 count: 4 info: ericisfish (台中李宗瑞) https://www.ptt.cc/bbs/Gossiping/M.1579656693.A.7EF.html\n",
      "網軍: 125.230.163.221 count: 2 info: pilimovies (肛肛 你看不到筍筍嗎?) https://www.ptt.cc/bbs/Gossiping/M.1579679058.A.0BD.html\n",
      "網軍: 125.230.163.221 count: 2 info: pilimovies (肛肛 你看不到筍筍嗎?) https://www.ptt.cc/bbs/Gossiping/M.1579676346.A.FB2.html\n",
      "網軍: 42.76.192.175 count: 2 info: sqin (學店企鵝姆咪) https://www.ptt.cc/bbs/Gossiping/M.1579679166.A.C90.html\n",
      "網軍: 42.76.192.175 count: 2 info: sqin (學店企鵝橘子) https://www.ptt.cc/bbs/Gossiping/M.1579670008.A.038.html\n",
      "網軍: 61.216.88.127 count: 2 info: sober716 (像大樹一樣高) https://www.ptt.cc/bbs/Gossiping/M.1579677166.A.62B.html\n",
      "網軍: 61.216.88.127 count: 2 info: sober716 (像大樹一樣高) https://www.ptt.cc/bbs/Gossiping/M.1579664781.A.352.html\n",
      "網軍: 49.216.47.71 count: 3 info: JapanEmperor (令和天皇) https://www.ptt.cc/bbs/Gossiping/M.1579677543.A.643.html\n",
      "網軍: 49.216.47.71 count: 3 info: JapanEmperor (令和天皇) https://www.ptt.cc/bbs/Gossiping/M.1579669795.A.93A.html\n",
      "網軍: 49.216.47.71 count: 3 info: JapanEmperor (令和天皇) https://www.ptt.cc/bbs/Gossiping/M.1579668725.A.B76.html\n",
      "網軍: 123.194.16.146 count: 2 info: dzwei (int* arr, size_t length) https://www.ptt.cc/bbs/Gossiping/M.1579676124.A.85F.html\n",
      "網軍: 123.194.16.146 count: 2 info: dzwei (int* arr, size_t length) https://www.ptt.cc/bbs/Gossiping/M.1579675082.A.004.html\n",
      "網軍: 128.199.77.92 count: 4 info: noonecare (新手駕駛) https://www.ptt.cc/bbs/Gossiping/M.1579676168.A.B70.html\n",
      "網軍: 128.199.77.92 count: 4 info: noonecare (新手駕駛) https://www.ptt.cc/bbs/Gossiping/M.1579675552.A.5E6.html\n",
      "網軍: 128.199.77.92 count: 4 info: noonecare (新手駕駛) https://www.ptt.cc/bbs/Gossiping/M.1579663677.A.4A8.html\n",
      "網軍: 128.199.77.92 count: 4 info: noonecare (新手駕駛) https://www.ptt.cc/bbs/Gossiping/M.1579661556.A.15E.html\n",
      "網軍: 223.136.139.82 count: 2 info: hoyumi (正版型男...無誤!!!) https://www.ptt.cc/bbs/Gossiping/M.1579676202.A.FB0.html\n",
      "網軍: 223.136.139.82 count: 2 info: hoyumi (正版型男...無誤!!!) https://www.ptt.cc/bbs/Gossiping/M.1579664242.A.81D.html\n",
      "網軍: 36.229.83.213 count: 2 info: TS28 (Explosion!!) https://www.ptt.cc/bbs/Gossiping/M.1579676219.A.E3C.html\n",
      "網軍: 36.229.83.213 count: 2 info: TS28 (Explosion!!) https://www.ptt.cc/bbs/Gossiping/M.1579672373.A.DA7.html\n",
      "網軍: 223.136.168.66 count: 2 info: ig49999 (SS) https://www.ptt.cc/bbs/Gossiping/M.1579676396.A.7D6.html\n",
      "網軍: 223.136.168.66 count: 2 info: ig49999 (SS) https://www.ptt.cc/bbs/Gossiping/M.1579672605.A.817.html\n",
      "網軍: 1.163.171.96 count: 2 info: IronCube (吃飽就要大便) https://www.ptt.cc/bbs/Gossiping/M.1579676498.A.121.html\n",
      "網軍: 1.163.171.96 count: 2 info: IronCube (吃飽就要大便) https://www.ptt.cc/bbs/Gossiping/M.1579661650.A.3C3.html\n",
      "網軍: 117.56.188.103 count: 3 info: vikk33 (vikk33) https://www.ptt.cc/bbs/Gossiping/M.1579676605.A.0E0.html\n",
      "網軍: 117.56.188.103 count: 3 info: vikk33 (vikk33) https://www.ptt.cc/bbs/Gossiping/M.1579670202.A.4C4.html\n",
      "網軍: 117.56.188.103 count: 3 info: vikk33 (vikk33) https://www.ptt.cc/bbs/Gossiping/M.1579670657.A.DC2.html\n",
      "網軍: 223.136.229.17 count: 4 info: ilw4e (可以吃嗎？) https://www.ptt.cc/bbs/Gossiping/M.1579676715.A.E6A.html\n",
      "網軍: 223.136.229.17 count: 4 info: ilw4e (可以吃嗎？) https://www.ptt.cc/bbs/Gossiping/M.1579675482.A.332.html\n",
      "網軍: 223.136.229.17 count: 4 info: ilw4e (可以吃嗎？) https://www.ptt.cc/bbs/Gossiping/M.1579673487.A.47E.html\n",
      "網軍: 223.136.229.17 count: 4 info: ilw4e (可以吃嗎？) https://www.ptt.cc/bbs/Gossiping/M.1579669418.A.FA7.html\n",
      "網軍: 223.136.126.43 count: 2 info: luchiahui (vivi) https://www.ptt.cc/bbs/Gossiping/M.1579675171.A.6F3.html\n",
      "網軍: 223.136.126.43 count: 2 info: luchiahui (vivi) https://www.ptt.cc/bbs/Gossiping/M.1579664209.A.E0D.html\n",
      "網軍: 42.76.146.162 count: 2 info: peterlin495 (專業果粉O'_'O) https://www.ptt.cc/bbs/Gossiping/M.1579675857.A.535.html\n",
      "網軍: 42.76.146.162 count: 2 info: peterlin495 (專業果粉O'_'O) https://www.ptt.cc/bbs/Gossiping/M.1579675024.A.793.html\n",
      "網軍: 123.192.124.248 count: 2 info: kenny468 (爬文好ㄇ？) https://www.ptt.cc/bbs/Gossiping/M.1579675938.A.125.html\n",
      "網軍: 123.192.124.248 count: 2 info: kenny468 (爬文好ㄇ？) https://www.ptt.cc/bbs/Gossiping/M.1579673529.A.98C.html\n",
      "網軍: 118.163.120.67 count: 3 info: dearevan (歸去，也無風雨也無晴) https://www.ptt.cc/bbs/Gossiping/M.1579675991.A.01A.html\n",
      "網軍: 118.163.120.67 count: 3 info: dearevan (歸去，也無風雨也無晴) https://www.ptt.cc/bbs/Gossiping/M.1579664771.A.F59.html\n",
      "網軍: 118.163.120.67 count: 3 info: dearevan (歸去，也無風雨也無晴) https://www.ptt.cc/bbs/Gossiping/M.1579657164.A.40C.html\n",
      "網軍: 111.71.214.242 count: 2 info: IMCENTER (Grom) https://www.ptt.cc/bbs/Gossiping/M.1579674463.A.424.html\n",
      "網軍: 111.71.214.242 count: 2 info: IMCENTER (Grom) https://www.ptt.cc/bbs/Gossiping/M.1579654367.A.FB3.html\n",
      "網軍: 36.225.106.123 count: 2 info: design0606 (飛) https://www.ptt.cc/bbs/Gossiping/M.1579674956.A.159.html\n",
      "網軍: 36.225.106.123 count: 2 info: design0606 (飛) https://www.ptt.cc/bbs/Gossiping/M.1579660328.A.E14.html\n",
      "網軍: 223.136.142.111 count: 2 info: ccyaztfe (best_troll_tw) https://www.ptt.cc/bbs/Gossiping/M.1579675166.A.6C4.html\n",
      "網軍: 223.136.142.111 count: 2 info: ccyaztfe (best_troll_tw) https://www.ptt.cc/bbs/Gossiping/M.1579666573.A.403.html\n",
      "網軍: 114.137.145.48 count: 3 info: paulabxz123 (優文大師) https://www.ptt.cc/bbs/Gossiping/M.1579673659.A.C0C.html\n",
      "網軍: 114.137.145.48 count: 3 info: paulabxz123 (優文大師) https://www.ptt.cc/bbs/Gossiping/M.1579671125.A.3B1.html\n",
      "網軍: 114.137.145.48 count: 3 info: paulabxz123 (優文大師) https://www.ptt.cc/bbs/Gossiping/M.1579668194.A.CAA.html\n",
      "網軍: 1.160.40.217 count: 2 info: ILoveMegumin (中島小姐家裡的刻印蟲) https://www.ptt.cc/bbs/Gossiping/M.1579673919.A.476.html\n",
      "網軍: 1.160.40.217 count: 2 info: ILoveMegumin (中島小姐家裡的刻印蟲) https://www.ptt.cc/bbs/Gossiping/M.1579670363.A.97B.html\n",
      "網軍: 101.12.44.128 count: 2 info: poonebetty (小肥媽) https://www.ptt.cc/bbs/Gossiping/M.1579673922.A.843.html\n",
      "網軍: 101.12.44.128 count: 2 info: poonebetty (小肥媽) https://www.ptt.cc/bbs/Gossiping/M.1579669621.A.88E.html\n",
      "網軍: 182.233.0.162 count: 3 info: Aliensoul (八卦駐版外星人) https://www.ptt.cc/bbs/Gossiping/M.1579673065.A.F4A.html\n",
      "網軍: 182.233.0.162 count: 3 info: Aliensoul (八卦駐版外星人) https://www.ptt.cc/bbs/Gossiping/M.1579666567.A.217.html\n",
      "網軍: 182.233.0.162 count: 3 info: Aliensoul (八卦駐版外星人) https://www.ptt.cc/bbs/Gossiping/M.1579662993.A.6F9.html\n",
      "網軍: 60.248.140.205 count: 2 info: kingtama (立志成為唬爛王) https://www.ptt.cc/bbs/Gossiping/M.1579673482.A.AB1.html\n",
      "網軍: 60.248.140.205 count: 2 info: kingtama (立志成為唬爛王) https://www.ptt.cc/bbs/Gossiping/M.1579653715.A.76F.html\n",
      "網軍: 220.138.49.66 count: 2 info: ckk007 (~_~\") https://www.ptt.cc/bbs/Gossiping/M.1579672725.A.D1F.html\n",
      "網軍: 220.138.49.66 count: 2 info: ckk007 (~_~\") https://www.ptt.cc/bbs/Gossiping/M.1579665559.A.C51.html\n",
      "網軍: 111.249.9.150 count: 2 info: Slowbro (呆河馬) https://www.ptt.cc/bbs/Gossiping/M.1579671873.A.4C1.html\n",
      "網軍: 111.249.9.150 count: 2 info: Slowbro (呆河馬) https://www.ptt.cc/bbs/Gossiping/M.1579666021.A.111.html\n",
      "網軍: 114.136.204.41 count: 3 info: rote (ROTE) https://www.ptt.cc/bbs/Gossiping/M.1579672144.A.0C9.html\n",
      "網軍: 114.136.204.41 count: 3 info: rote (ROTE) https://www.ptt.cc/bbs/Gossiping/M.1579664225.A.81B.html\n",
      "網軍: 114.136.204.41 count: 3 info: rote (ROTE) https://www.ptt.cc/bbs/Gossiping/M.1579659149.A.7B4.html\n",
      "網軍: 101.12.102.194 count: 2 info: Rin5566 (派屈克) https://www.ptt.cc/bbs/Gossiping/M.1579672158.A.890.html\n",
      "網軍: 101.12.102.194 count: 2 info: Rin5566 (派屈克) https://www.ptt.cc/bbs/Gossiping/M.1579663731.A.7A8.html\n",
      "網軍: 180.177.37.100 count: 2 info: badjye911 (阿三) https://www.ptt.cc/bbs/Gossiping/M.1579672257.A.F72.html\n",
      "網軍: 180.177.37.100 count: 2 info: badjye911 (阿三) https://www.ptt.cc/bbs/Gossiping/M.1579653784.A.E35.html\n",
      "網軍: 140.112.46.188 count: 4 info: yahe0526 (有一種預感 發廢文好難) https://www.ptt.cc/bbs/Gossiping/M.1579671058.A.3B2.html\n",
      "網軍: 140.112.46.188 count: 4 info: yahe0526 (有一種預感 發廢文好難) https://www.ptt.cc/bbs/Gossiping/M.1579669940.A.891.html\n",
      "網軍: 140.112.46.188 count: 4 info: yahe0526 (有一種預感 發廢文好難) https://www.ptt.cc/bbs/Gossiping/M.1579668712.A.586.html\n",
      "網軍: 140.112.46.188 count: 4 info: yahe0526 (有一種預感 發廢文好難) https://www.ptt.cc/bbs/Gossiping/M.1579658663.A.663.html\n",
      "網軍: 42.76.185.248 count: 2 info: piggy37 (小時) https://www.ptt.cc/bbs/Gossiping/M.1579671065.A.4DD.html\n",
      "網軍: 42.76.185.248 count: 2 info: piggy37 (小時) https://www.ptt.cc/bbs/Gossiping/M.1579656296.A.012.html\n",
      "網軍: 223.139.205.206 count: 2 info: dasuininder (硬派大叔) https://www.ptt.cc/bbs/Gossiping/M.1579671215.A.61B.html\n",
      "網軍: 223.139.205.206 count: 2 info: dasuininder (硬派大叔) https://www.ptt.cc/bbs/Gossiping/M.1579663593.A.FB7.html\n",
      "網軍: 118.163.34.110 count: 3 info: bengowa (鞭狗蛙 舒服) https://www.ptt.cc/bbs/Gossiping/M.1579671677.A.FC9.html\n",
      "網軍: 118.163.34.110 count: 3 info: bengowa (鞭狗蛙 舒服) https://www.ptt.cc/bbs/Gossiping/M.1579662269.A.6A2.html\n",
      "網軍: 118.163.34.110 count: 3 info: bengowa (鞭狗蛙 舒服) https://www.ptt.cc/bbs/Gossiping/M.1579651167.A.2FA.html\n",
      "網軍: 180.217.95.132 count: 2 info: adagiox (adagio) https://www.ptt.cc/bbs/Gossiping/M.1579670419.A.112.html\n",
      "網軍: 180.217.95.132 count: 2 info: adagiox (adagio) https://www.ptt.cc/bbs/Gossiping/M.1579667316.A.F43.html\n",
      "網軍: 1.174.4.176 count: 3 info: zrct5566 (美麗又殘酷的世界) https://www.ptt.cc/bbs/Gossiping/M.1579670540.A.0FF.html\n",
      "網軍: 1.174.4.176 count: 3 info: zrct5566 (美麗又殘酷的世界) https://www.ptt.cc/bbs/Gossiping/M.1579667496.A.D84.html\n",
      "網軍: 1.174.4.176 count: 3 info: zrct5566 (美麗又殘酷的世界) https://www.ptt.cc/bbs/Gossiping/M.1579662767.A.962.html\n",
      "網軍: 42.73.82.41 count: 2 info: seabox (吃貨盒盒) https://www.ptt.cc/bbs/Gossiping/M.1579669515.A.BFB.html\n",
      "網軍: 42.73.82.41 count: 2 info: seabox (吃貨盒盒) https://www.ptt.cc/bbs/Gossiping/M.1579667961.A.7DC.html\n",
      "網軍: 133.155.4.4 count: 2 info: akanishiking (arnold jackson) https://www.ptt.cc/bbs/Gossiping/M.1579669551.A.7B7.html\n",
      "網軍: 133.155.4.4 count: 2 info: akanishiking (arnold jackson) https://www.ptt.cc/bbs/Gossiping/M.1579663842.A.893.html\n",
      "網軍: 49.216.24.76 count: 2 info: ss311tw (戰神東方祥) https://www.ptt.cc/bbs/Gossiping/M.1579669673.A.4E1.html\n"
     ]
    },
    {
     "name": "stdout",
     "output_type": "stream",
     "text": [
      "網軍: 49.216.24.76 count: 2 info: ss311tw (戰神東方祥) https://www.ptt.cc/bbs/Gossiping/M.1579666482.A.755.html\n",
      "網軍: 49.214.141.66 count: 2 info: sss1234 (簡簡單單) https://www.ptt.cc/bbs/Gossiping/M.1579668982.A.912.html\n",
      "網軍: 49.214.141.66 count: 2 info: sss1234 (簡簡單單) https://www.ptt.cc/bbs/Gossiping/M.1579648530.A.0A2.html\n",
      "網軍: 106.1.81.73 count: 2 info: t00012 (第六天蛇王) https://www.ptt.cc/bbs/Gossiping/M.1579669443.A.899.html\n",
      "網軍: 106.1.81.73 count: 2 info: t00012 (第六天蛇王) https://www.ptt.cc/bbs/Gossiping/M.1579659257.A.377.html\n",
      "網軍: 1.168.195.51 count: 2 info: Kitakami (公主連結特約工讀生) https://www.ptt.cc/bbs/Gossiping/M.1579668352.A.F1E.html\n",
      "網軍: 1.168.195.51 count: 2 info: Kitakami (公主連結特約工讀生) https://www.ptt.cc/bbs/Gossiping/M.1579657189.A.02E.html\n",
      "網軍: 114.136.126.208 count: 2 info: ianlin1216 (伊恩可可) https://www.ptt.cc/bbs/Gossiping/M.1579667409.A.7B4.html\n",
      "網軍: 114.136.126.208 count: 2 info: ianlin1216 (伊恩可可) https://www.ptt.cc/bbs/Gossiping/M.1579653420.A.566.html\n",
      "網軍: 1.165.89.150 count: 3 info: qqq87112 (kaim) https://www.ptt.cc/bbs/Gossiping/M.1579667566.A.B7C.html\n",
      "網軍: 1.165.89.150 count: 3 info: qqq87112 (kaim) https://www.ptt.cc/bbs/Gossiping/M.1579665628.A.DCE.html\n",
      "網軍: 1.165.89.150 count: 3 info: qqq87112 (kaim) https://www.ptt.cc/bbs/Gossiping/M.1579653367.A.65D.html\n",
      "網軍: 58.115.25.203 count: 2 info: TyuzuChou (子瑜我老婆) https://www.ptt.cc/bbs/Gossiping/M.1579667778.A.A63.html\n",
      "網軍: 58.115.25.203 count: 2 info: TyuzuChou (子瑜我老婆) https://www.ptt.cc/bbs/Gossiping/M.1579648101.A.6F5.html\n",
      "網軍: 101.14.231.245 count: 2 info: lf719000 (5566得第一GO) https://www.ptt.cc/bbs/Gossiping/M.1579668048.A.B3F.html\n",
      "網軍: 101.14.231.245 count: 2 info: lf719000 (5566得第一GO) https://www.ptt.cc/bbs/Gossiping/M.1579659621.A.DA2.html\n",
      "網軍: 125.227.152.74 count: 2 info: member7023 () https://www.ptt.cc/bbs/Gossiping/M.1579666664.A.D11.html\n",
      "網軍: 125.227.152.74 count: 2 info: member7023 () https://www.ptt.cc/bbs/Gossiping/M.1579664258.A.662.html\n",
      "網軍: 163.15.161.247 count: 2 info: s1155697 (0.0) https://www.ptt.cc/bbs/Gossiping/M.1579666904.A.69D.html\n",
      "網軍: 163.15.161.247 count: 2 info: a89182a89182 (豬豬肉桂卷) https://www.ptt.cc/bbs/Gossiping/M.1579656674.A.464.html\n",
      "網軍: 126.236.212.12 count: 3 info: Rrrxddd (鋼鐵柯粉RR) https://www.ptt.cc/bbs/Gossiping/M.1579666954.A.621.html\n",
      "網軍: 126.236.212.12 count: 3 info: Rrrxddd (鋼鐵柯粉RR) https://www.ptt.cc/bbs/Gossiping/M.1579666528.A.C1F.html\n",
      "網軍: 126.236.212.12 count: 3 info: Rrrxddd (鋼鐵柯粉RR) https://www.ptt.cc/bbs/Gossiping/M.1579664875.A.E58.html\n",
      "網軍: 223.136.130.79 count: 2 info: kent21413 (kent) https://www.ptt.cc/bbs/Gossiping/M.1579667216.A.CF1.html\n",
      "網軍: 223.136.130.79 count: 2 info: kent21413 (kent) https://www.ptt.cc/bbs/Gossiping/M.1579659982.A.8AB.html\n",
      "網軍: 118.232.152.107 count: 2 info: david0426 (軒軒寶貝) https://www.ptt.cc/bbs/Gossiping/M.1579666430.A.AB8.html\n",
      "網軍: 118.232.152.107 count: 2 info: david0426 (軒軒寶貝) https://www.ptt.cc/bbs/Gossiping/M.1579660932.A.B2B.html\n",
      "網軍: 61.228.17.112 count: 2 info: songgood (ilovegoodgame) https://www.ptt.cc/bbs/Gossiping/M.1579665607.A.A3B.html\n",
      "網軍: 61.228.17.112 count: 2 info: songgood (ilovegoodgame) https://www.ptt.cc/bbs/Gossiping/M.1579664007.A.7B9.html\n",
      "網軍: 117.19.165.11 count: 2 info: qqmaybenot (qq) https://www.ptt.cc/bbs/Gossiping/M.1579664423.A.65A.html\n",
      "網軍: 117.19.165.11 count: 2 info: qqmaybenot (qq) https://www.ptt.cc/bbs/Gossiping/M.1579661176.A.BAF.html\n",
      "網軍: 59.120.147.13 count: 2 info: nba887215 (方塊馬) https://www.ptt.cc/bbs/Gossiping/M.1579664510.A.BA5.html\n",
      "網軍: 59.120.147.13 count: 2 info: nba887215 (方塊馬) https://www.ptt.cc/bbs/Gossiping/M.1579660181.A.2E2.html\n",
      "網軍: 114.137.219.219 count: 2 info: fenix220 (菲) https://www.ptt.cc/bbs/Gossiping/M.1579665002.A.D6E.html\n",
      "網軍: 114.137.219.219 count: 2 info: fenix220 (菲) https://www.ptt.cc/bbs/Gossiping/M.1579660628.A.1DA.html\n",
      "網軍: 39.13.166.190 count: 2 info: teeheehee (軟尾拋拋翔(′・ω・`)) https://www.ptt.cc/bbs/Gossiping/M.1579663908.A.132.html\n",
      "網軍: 39.13.166.190 count: 2 info: teeheehee (軟尾拋拋翔(′・ω・`)) https://www.ptt.cc/bbs/Gossiping/M.1579654465.A.D73.html\n",
      "網軍: 211.72.175.250 count: 2 info: xamous (一天死去一點) https://www.ptt.cc/bbs/Gossiping/M.1579663973.A.C70.html\n",
      "網軍: 211.72.175.250 count: 2 info: obey1110 (obey) https://www.ptt.cc/bbs/Gossiping/M.1579660589.A.039.html\n",
      "網軍: 223.136.82.86 count: 2 info: ccyaztfe (best_troll_tw) https://www.ptt.cc/bbs/Gossiping/M.1579662868.A.A24.html\n",
      "網軍: 223.136.82.86 count: 2 info: ccyaztfe (best_troll_tw) https://www.ptt.cc/bbs/Gossiping/M.1579662214.A.41B.html\n",
      "網軍: 119.123.0.141 count: 2 info: klm (唐吉柯德的宿命) https://www.ptt.cc/bbs/Gossiping/M.1579662900.A.E0A.html\n",
      "網軍: 119.123.0.141 count: 2 info: klm (唐吉柯德的宿命) https://www.ptt.cc/bbs/Gossiping/M.1579657230.A.3D4.html\n",
      "網軍: 125.227.93.205 count: 5 info: VVizZ (我很窮) https://www.ptt.cc/bbs/Gossiping/M.1579663051.A.968.html\n",
      "網軍: 125.227.93.205 count: 5 info: VVizZ (我很窮) https://www.ptt.cc/bbs/Gossiping/M.1579660723.A.81F.html\n",
      "網軍: 125.227.93.205 count: 5 info: VVizZ (我很窮) https://www.ptt.cc/bbs/Gossiping/M.1579659752.A.F2C.html\n",
      "網軍: 125.227.93.205 count: 5 info: VVizZ (我很窮) https://www.ptt.cc/bbs/Gossiping/M.1579656701.A.596.html\n",
      "網軍: 125.227.93.205 count: 5 info: VVizZ (我很窮) https://www.ptt.cc/bbs/Gossiping/M.1579652406.A.ECF.html\n",
      "網軍: 223.138.23.47 count: 2 info: alaskaman (阿拉人) https://www.ptt.cc/bbs/Gossiping/M.1579663137.A.3A5.html\n",
      "網軍: 223.138.23.47 count: 2 info: alaskaman (阿拉人) https://www.ptt.cc/bbs/Gossiping/M.1579659264.A.5D9.html\n",
      "網軍: 101.12.160.69 count: 2 info: zakijudelo (柴克豬大佬) https://www.ptt.cc/bbs/Gossiping/M.1579663348.A.884.html\n",
      "網軍: 101.12.160.69 count: 2 info: zakijudelo (柴克豬大佬) https://www.ptt.cc/bbs/Gossiping/M.1579659460.A.770.html\n",
      "網軍: 59.125.249.41 count: 2 info: kober5566 (強暴犯56) https://www.ptt.cc/bbs/Gossiping/M.1579662578.A.C82.html\n",
      "網軍: 59.125.249.41 count: 2 info: kober5566 (強暴犯56) https://www.ptt.cc/bbs/Gossiping/M.1579660229.A.FC6.html\n",
      "網軍: 39.12.225.223 count: 2 info: e1447e (e1447e) https://www.ptt.cc/bbs/Gossiping/M.1579660284.A.BD0.html\n",
      "網軍: 39.12.225.223 count: 2 info: e1447e (e1447e) https://www.ptt.cc/bbs/Gossiping/M.1579655291.A.959.html\n",
      "網軍: 60.248.106.181 count: 2 info: Brad255 () https://www.ptt.cc/bbs/Gossiping/M.1579660464.A.3CB.html\n",
      "網軍: 60.248.106.181 count: 2 info: Brad255 () https://www.ptt.cc/bbs/Gossiping/M.1579654628.A.225.html\n",
      "網軍: 117.183.110.139 count: 2 info: realtw (realtw) https://www.ptt.cc/bbs/Gossiping/M.1579660539.A.29D.html\n",
      "網軍: 117.183.110.139 count: 2 info: realtw (realtw) https://www.ptt.cc/bbs/Gossiping/M.1579659629.A.9E7.html\n",
      "網軍: 101.137.141.150 count: 3 info: CavendishJr (卡文迪許jr) https://www.ptt.cc/bbs/Gossiping/M.1579660927.A.E8D.html\n",
      "網軍: 101.137.141.150 count: 3 info: CavendishJr (卡文迪許jr) https://www.ptt.cc/bbs/Gossiping/M.1579653348.A.E58.html\n",
      "網軍: 101.137.141.150 count: 3 info: CavendishJr (卡文迪許jr) https://www.ptt.cc/bbs/Gossiping/M.1579649921.A.389.html\n",
      "網軍: 219.100.37.238 count: 2 info: askingts (地獄山貓) https://www.ptt.cc/bbs/Gossiping/M.1579659530.A.2EB.html\n",
      "網軍: 219.100.37.238 count: 2 info: askingts (地獄山貓) https://www.ptt.cc/bbs/Gossiping/M.1579656240.A.D3F.html\n",
      "網軍: 223.136.151.255 count: 2 info: FollowMe6 (跟我) https://www.ptt.cc/bbs/Gossiping/M.1579658253.A.F45.html\n",
      "網軍: 223.136.151.255 count: 2 info: FollowMe6 (跟我) https://www.ptt.cc/bbs/Gossiping/M.1579655306.A.E28.html\n",
      "網軍: 223.138.33.180 count: 2 info: DevilHotel (惡魔旅館) https://www.ptt.cc/bbs/Gossiping/M.1579654805.A.B96.html\n",
      "網軍: 223.138.33.180 count: 2 info: DevilHotel (惡魔旅館) https://www.ptt.cc/bbs/Gossiping/M.1579654228.A.4B8.html\n",
      "網軍: 114.39.85.30 count: 2 info: fnm525 (獅子座-軒轅十四) https://www.ptt.cc/bbs/Gossiping/M.1579655582.A.E97.html\n",
      "網軍: 114.39.85.30 count: 2 info: fnm525 (獅子座-軒轅十四) https://www.ptt.cc/bbs/Gossiping/M.1579653397.A.67D.html\n",
      "網軍: 111.71.220.41 count: 2 info: dean1990 (狄恩院長) https://www.ptt.cc/bbs/Gossiping/M.1579654643.A.676.html\n",
      "網軍: 111.71.220.41 count: 2 info: dean1990 (狄恩院長) https://www.ptt.cc/bbs/Gossiping/M.1579653464.A.52F.html\n",
      "網軍: 2.58.194.146 count: 2 info: newpasta (pasta) https://www.ptt.cc/bbs/Gossiping/M.1579652544.A.FC0.html\n",
      "網軍: 2.58.194.146 count: 2 info: newpasta (pasta) https://www.ptt.cc/bbs/Gossiping/M.1579650005.A.63E.html\n",
      "網軍: 49.215.130.140 count: 2 info: neil136 (暱稱好難) https://www.ptt.cc/bbs/Gossiping/M.1579653214.A.3B8.html\n",
      "網軍: 49.215.130.140 count: 2 info: neil136 (暱稱好難) https://www.ptt.cc/bbs/Gossiping/M.1579651454.A.976.html\n",
      "網軍: 180.204.236.203 count: 3 info: rickey1270 (我大奈亞子毫無死角！！) https://www.ptt.cc/bbs/Gossiping/M.1579651423.A.995.html\n",
      "網軍: 180.204.236.203 count: 3 info: rickey1270 (我大奈亞子毫無死角！！) https://www.ptt.cc/bbs/Gossiping/M.1579651423.A.20E.html\n",
      "網軍: 180.204.236.203 count: 3 info: rickey1270 (我大奈亞子毫無死角！！) https://www.ptt.cc/bbs/Gossiping/M.1579651424.A.97D.html\n",
      "網軍: 82.239.132.37 count: 2 info: amy93 (silence) https://www.ptt.cc/bbs/Gossiping/M.1579649292.A.03C.html\n",
      "網軍: 82.239.132.37 count: 2 info: amy93 (silence) https://www.ptt.cc/bbs/Gossiping/M.1579648623.A.19B.html\n",
      "網軍: 123.204.198.41 count: 2 info: ivorysoap (ivorysoap) https://www.ptt.cc/bbs/Gossiping/M.1579649768.A.F2A.html\n",
      "網軍: 123.204.198.41 count: 2 info: ivorysoap (ivorysoap) https://www.ptt.cc/bbs/Gossiping/M.1579648596.A.D27.html\n"
     ]
    },
    {
     "data": {
      "text/plain": [
       "{'1.165.87.196': [{'author': 'koei0001 (魯國人)',\n",
       "   'url': 'https://www.ptt.cc/bbs/Gossiping/M.1579691476.A.228.html',\n",
       "   'count': 6}],\n",
       " '114.46.5.62': [{'author': 'COLONELLIU (勇嵐叫共九逃)',\n",
       "   'url': 'https://www.ptt.cc/bbs/Gossiping/M.1579691513.A.69B.html',\n",
       "   'count': 3}],\n",
       " '101.14.131.242': [{'author': 'algebraic (algebraic)',\n",
       "   'url': 'https://www.ptt.cc/bbs/Gossiping/M.1579691614.A.FD9.html',\n",
       "   'count': 3}],\n",
       " '223.138.6.34': [{'author': 'Yolosnow (生活很無聊)',\n",
       "   'url': 'https://www.ptt.cc/bbs/Gossiping/M.1579691656.A.8B4.html',\n",
       "   'count': 4},\n",
       "  {'author': 'Yolosnow (生活很無聊)',\n",
       "   'url': 'https://www.ptt.cc/bbs/Gossiping/M.1579691030.A.359.html',\n",
       "   'count': 3}],\n",
       " '36.228.112.170': [{'author': 'MizunaRei (みづなれい)',\n",
       "   'url': 'https://www.ptt.cc/bbs/Gossiping/M.1579691680.A.2F3.html',\n",
       "   'count': 3}],\n",
       " '117.56.186.115': [{'author': 'lh9059 (Phoenix)',\n",
       "   'url': 'https://www.ptt.cc/bbs/Gossiping/M.1579691803.A.56B.html',\n",
       "   'count': 3},\n",
       "  {'author': 'lh9059 (Phoenix)',\n",
       "   'url': 'https://www.ptt.cc/bbs/Gossiping/M.1579673177.A.60C.html',\n",
       "   'count': 3}],\n",
       " '180.204.3.254': [{'author': 'sven1130 (綠色貍貓)',\n",
       "   'url': 'https://www.ptt.cc/bbs/Gossiping/M.1579691832.A.55B.html',\n",
       "   'count': 3}],\n",
       " '39.9.102.20': [{'author': 'muscatsss (遙香的唯一老公)',\n",
       "   'url': 'https://www.ptt.cc/bbs/Gossiping/M.1579691857.A.E47.html',\n",
       "   'count': 3},\n",
       "  {'author': 'muscatsss (遙香的唯一老公)',\n",
       "   'url': 'https://www.ptt.cc/bbs/Gossiping/M.1579671874.A.7A3.html',\n",
       "   'count': 3}],\n",
       " '118.171.32.24': [{'author': 'kaky (菩提本無樹明鏡亦非台)',\n",
       "   'url': 'https://www.ptt.cc/bbs/Gossiping/M.1579691868.A.5A3.html',\n",
       "   'count': 3},\n",
       "  {'author': 'kaky (菩提本無樹明鏡亦非台)',\n",
       "   'url': 'https://www.ptt.cc/bbs/Gossiping/M.1579687935.A.2FA.html',\n",
       "   'count': 3}],\n",
       " '103.10.197.100': [{'author': 'ismail (晴天就該是這樣)',\n",
       "   'url': 'https://www.ptt.cc/bbs/Gossiping/M.1579691936.A.D49.html',\n",
       "   'count': 3}],\n",
       " '61.223.21.105': [{'author': 'qw5980162 (台中家庭教師包莖哥)',\n",
       "   'url': 'https://www.ptt.cc/bbs/Gossiping/M.1579691939.A.8C6.html',\n",
       "   'count': 3},\n",
       "  {'author': 'qw5980162 (台中家庭教師包莖哥)',\n",
       "   'url': 'https://www.ptt.cc/bbs/Gossiping/M.1579687972.A.CF6.html',\n",
       "   'count': 3}],\n",
       " '110.26.126.58': [{'author': 'chen0625 (不知道要打什麼？)',\n",
       "   'url': 'https://www.ptt.cc/bbs/Gossiping/M.1579692008.A.F5D.html',\n",
       "   'count': 3}],\n",
       " '39.10.137.79': [{'author': 'lianpig5566 (家庭教師殺手里包恩)',\n",
       "   'url': 'https://www.ptt.cc/bbs/Gossiping/M.1579692030.A.23F.html',\n",
       "   'count': 3},\n",
       "  {'author': 'lianpig5566 (家庭教師殺手里包恩)',\n",
       "   'url': 'https://www.ptt.cc/bbs/Gossiping/M.1579682874.A.5CB.html',\n",
       "   'count': 3}],\n",
       " '114.40.171.12': [{'author': 'stw0975 (      )',\n",
       "   'url': 'https://www.ptt.cc/bbs/Gossiping/M.1579692054.A.510.html',\n",
       "   'count': 3}],\n",
       " '155.69.174.3': [{'author': 'kusowan (你感受一下)',\n",
       "   'url': 'https://www.ptt.cc/bbs/Gossiping/M.1579692057.A.27C.html',\n",
       "   'count': 6},\n",
       "  {'author': 'kusowan (你感受一下)',\n",
       "   'url': 'https://www.ptt.cc/bbs/Gossiping/M.1579672344.A.199.html',\n",
       "   'count': 3},\n",
       "  {'author': 'kusowan (你感受一下)',\n",
       "   'url': 'https://www.ptt.cc/bbs/Gossiping/M.1579670880.A.237.html',\n",
       "   'count': 4},\n",
       "  {'author': 'kusowan (你感受一下)',\n",
       "   'url': 'https://www.ptt.cc/bbs/Gossiping/M.1579669211.A.022.html',\n",
       "   'count': 3}],\n",
       " '111.242.252.235': [{'author': 'TomRiddle (湯姆瑞斗)',\n",
       "   'url': 'https://www.ptt.cc/bbs/Gossiping/M.1579692086.A.1C3.html',\n",
       "   'count': 3}],\n",
       " '27.242.12.191': [{'author': 'yoyoyin0119 (UnSeenBlade)',\n",
       "   'url': 'https://www.ptt.cc/bbs/Gossiping/M.1579692155.A.023.html',\n",
       "   'count': 3},\n",
       "  {'author': 'yoyoyin0119 (UnSeenBlade)',\n",
       "   'url': 'https://www.ptt.cc/bbs/Gossiping/M.1579678412.A.374.html',\n",
       "   'count': 3}],\n",
       " '203.73.34.44': [{'author': 'ueewen (ueewen)',\n",
       "   'url': 'https://www.ptt.cc/bbs/Gossiping/M.1579692213.A.802.html',\n",
       "   'count': 3}],\n",
       " '101.12.64.219': [{'author': 'd147258 ()',\n",
       "   'url': 'https://www.ptt.cc/bbs/Gossiping/M.1579692218.A.0E5.html',\n",
       "   'count': 5}],\n",
       " '125.224.77.205': [{'author': 'hk410050 (A柏)',\n",
       "   'url': 'https://www.ptt.cc/bbs/Gossiping/M.1579692350.A.1AE.html',\n",
       "   'count': 4},\n",
       "  {'author': 'hk410050 (A柏)',\n",
       "   'url': 'https://www.ptt.cc/bbs/Gossiping/M.1579665497.A.028.html',\n",
       "   'count': 3}],\n",
       " '223.138.101.94': [{'author': 'weir510 (Liz)',\n",
       "   'url': 'https://www.ptt.cc/bbs/Gossiping/M.1579690056.A.E7B.html',\n",
       "   'count': 3}],\n",
       " '218.173.41.167': [{'author': 'heavenlyken (銀狐)',\n",
       "   'url': 'https://www.ptt.cc/bbs/Gossiping/M.1579690111.A.B09.html',\n",
       "   'count': 3}],\n",
       " '180.217.250.164': [{'author': 'jiern (jiern)',\n",
       "   'url': 'https://www.ptt.cc/bbs/Gossiping/M.1579690227.A.4FF.html',\n",
       "   'count': 6}],\n",
       " '118.161.247.181': [{'author': 'ROCisChina (中華民國才是中國)',\n",
       "   'url': 'https://www.ptt.cc/bbs/Gossiping/M.1579690302.A.527.html',\n",
       "   'count': 4},\n",
       "  {'author': 'Tiiek (AAAAAAAAAAAAAAAAAA)',\n",
       "   'url': 'https://www.ptt.cc/bbs/Gossiping/M.1579688386.A.1E1.html',\n",
       "   'count': 5}],\n",
       " '61.228.194.37': [{'author': 'HANASUCIA (HANASUCIA)',\n",
       "   'url': 'https://www.ptt.cc/bbs/Gossiping/M.1579690322.A.608.html',\n",
       "   'count': 3}],\n",
       " '223.139.181.145': [{'author': 'NINEVEN (Pruzzen)',\n",
       "   'url': 'https://www.ptt.cc/bbs/Gossiping/M.1579690371.A.FEB.html',\n",
       "   'count': 3}],\n",
       " '39.9.67.13': [{'author': 'Aurorra (河光)',\n",
       "   'url': 'https://www.ptt.cc/bbs/Gossiping/M.1579690461.A.350.html',\n",
       "   'count': 3}],\n",
       " '211.75.15.151': [{'author': 'secretfly (☠鬼滅·之喵喵)',\n",
       "   'url': 'https://www.ptt.cc/bbs/Gossiping/M.1579690521.A.EA8.html',\n",
       "   'count': 4},\n",
       "  {'author': 'secretfly (☠鬼滅·之喵喵)',\n",
       "   'url': 'https://www.ptt.cc/bbs/Gossiping/M.1579677993.A.2B5.html',\n",
       "   'count': 3},\n",
       "  {'author': 'secretfly (☠鬼滅·之喵喵)',\n",
       "   'url': 'https://www.ptt.cc/bbs/Gossiping/M.1579672058.A.EF9.html',\n",
       "   'count': 4}],\n",
       " '1.163.79.201': [{'author': 'steven56138 (厭世兄宅)',\n",
       "   'url': 'https://www.ptt.cc/bbs/Gossiping/M.1579690591.A.E3A.html',\n",
       "   'count': 3}],\n",
       " '61.228.152.240': [{'author': 'arsonlolita (板主)',\n",
       "   'url': 'https://www.ptt.cc/bbs/Gossiping/M.1579690675.A.F3E.html',\n",
       "   'count': 5},\n",
       "  {'author': 'arsonlolita (板主)',\n",
       "   'url': 'https://www.ptt.cc/bbs/Gossiping/M.1579666468.A.7CE.html',\n",
       "   'count': 4}],\n",
       " '114.37.72.101': [{'author': 'chamge7788 (經濟王7887)',\n",
       "   'url': 'https://www.ptt.cc/bbs/Gossiping/M.1579690679.A.BF3.html',\n",
       "   'count': 3}],\n",
       " '110.50.139.33': [{'author': 'hjgx (妳害了我的狗)',\n",
       "   'url': 'https://www.ptt.cc/bbs/Gossiping/M.1579690693.A.234.html',\n",
       "   'count': 3}],\n",
       " '111.250.228.34': [{'author': 'ruby00514 (黑夜的星空)',\n",
       "   'url': 'https://www.ptt.cc/bbs/Gossiping/M.1579690802.A.8CB.html',\n",
       "   'count': 3}],\n",
       " '172.104.113.178': [{'author': 'Goo4u (Goo4u)',\n",
       "   'url': 'https://www.ptt.cc/bbs/Gossiping/M.1579690808.A.821.html',\n",
       "   'count': 4},\n",
       "  {'author': 'Goo4u (Goo4u)',\n",
       "   'url': 'https://www.ptt.cc/bbs/Gossiping/M.1579688366.A.DD9.html',\n",
       "   'count': 3},\n",
       "  {'author': 'Goo4u (Goo4u)',\n",
       "   'url': 'https://www.ptt.cc/bbs/Gossiping/M.1579664154.A.224.html',\n",
       "   'count': 4}],\n",
       " '61.228.142.117': [{'author': 'MikaHakkinen (一人中風，全家發瘋)',\n",
       "   'url': 'https://www.ptt.cc/bbs/Gossiping/M.1579690949.A.D2A.html',\n",
       "   'count': 3}],\n",
       " '27.247.228.111': [{'author': 'NTULioner (112延畢魯蛇廢物就是我)',\n",
       "   'url': 'https://www.ptt.cc/bbs/Gossiping/M.1579690974.A.697.html',\n",
       "   'count': 3}],\n",
       " '101.12.212.96': [{'author': 'zakijudelo (柴克豬大佬)',\n",
       "   'url': 'https://www.ptt.cc/bbs/Gossiping/M.1579691318.A.ECC.html',\n",
       "   'count': 3},\n",
       "  {'author': 'zakijudelo (柴克豬大佬)',\n",
       "   'url': 'https://www.ptt.cc/bbs/Gossiping/M.1579672669.A.5A1.html',\n",
       "   'count': 3}],\n",
       " '39.9.33.103': [{'author': 'moslaa (萬變蛾)',\n",
       "   'url': 'https://www.ptt.cc/bbs/Gossiping/M.1579691350.A.600.html',\n",
       "   'count': 3}],\n",
       " '39.8.232.99': [{'author': 'g56 (^___^)',\n",
       "   'url': 'https://www.ptt.cc/bbs/Gossiping/M.1579691425.A.70E.html',\n",
       "   'count': 3}],\n",
       " '27.246.165.192': [{'author': 'Montana01 (www)',\n",
       "   'url': 'https://www.ptt.cc/bbs/Gossiping/M.1579689451.A.BB0.html',\n",
       "   'count': 4}],\n",
       " '36.231.116.228': [{'author': 'turbomons (Τ/taʊ/)',\n",
       "   'url': 'https://www.ptt.cc/bbs/Gossiping/M.1579689514.A.586.html',\n",
       "   'count': 3},\n",
       "  {'author': 'turbomons (Τ/taʊ/)',\n",
       "   'url': 'https://www.ptt.cc/bbs/Gossiping/M.1579663940.A.D69.html',\n",
       "   'count': 4}],\n",
       " '106.105.28.90': [{'author': 'fckj1131017 (海德里希)',\n",
       "   'url': 'https://www.ptt.cc/bbs/Gossiping/M.1579689522.A.3F7.html',\n",
       "   'count': 4},\n",
       "  {'author': 'fckj1131017 (海德里希)',\n",
       "   'url': 'https://www.ptt.cc/bbs/Gossiping/M.1579682426.A.85D.html',\n",
       "   'count': 4},\n",
       "  {'author': 'fckj1131017 (海德里希)',\n",
       "   'url': 'https://www.ptt.cc/bbs/Gossiping/M.1579682777.A.E2B.html',\n",
       "   'count': 3}],\n",
       " '1.165.210.224': [{'author': 'mucorn (MU)',\n",
       "   'url': 'https://www.ptt.cc/bbs/Gossiping/M.1579689537.A.F8A.html',\n",
       "   'count': 3}],\n",
       " '180.217.215.161': [{'author': 'sunbysea (忠言逆耳良藥苦口)',\n",
       "   'url': 'https://www.ptt.cc/bbs/Gossiping/M.1579689581.A.3D0.html',\n",
       "   'count': 6}],\n",
       " '114.47.142.101': [{'author': 'createlight (創輝)',\n",
       "   'url': 'https://www.ptt.cc/bbs/Gossiping/M.1579689685.A.237.html',\n",
       "   'count': 3}],\n",
       " '223.141.75.136': [{'author': 'qazzxc12351 (joicowcow)',\n",
       "   'url': 'https://www.ptt.cc/bbs/Gossiping/M.1579689695.A.22E.html',\n",
       "   'count': 3}],\n",
       " '110.26.230.234': [{'author': 'Linama (恁阿嬤)',\n",
       "   'url': 'https://www.ptt.cc/bbs/Gossiping/M.1579689703.A.49B.html',\n",
       "   'count': 3}],\n",
       " '118.167.8.222': [{'author': 'csi9507121 (Corydoras)',\n",
       "   'url': 'https://www.ptt.cc/bbs/Gossiping/M.1579689810.A.3A3.html',\n",
       "   'count': 3}],\n",
       " '': [{'author': 'DataMaster (0.0)',\n",
       "   'url': 'https://www.ptt.cc/bbs/Gossiping/M.1579689830.A.461.html',\n",
       "   'count': 3},\n",
       "  {'author': 'legos4710 (EG)',\n",
       "   'url': 'https://www.ptt.cc/bbs/Gossiping/M.1579685189.A.F45.html',\n",
       "   'count': 3}],\n",
       " '118.170.226.235': [{'author': 'lovea (lovea)',\n",
       "   'url': 'https://www.ptt.cc/bbs/Gossiping/M.1579689837.A.4BE.html',\n",
       "   'count': 3}],\n",
       " '88.128.88.97': [{'author': 'arl20002001 (夢帥)',\n",
       "   'url': 'https://www.ptt.cc/bbs/Gossiping/M.1579689884.A.A79.html',\n",
       "   'count': 3}],\n",
       " '27.246.44.58': [{'author': 'd995511 (flcl)',\n",
       "   'url': 'https://www.ptt.cc/bbs/Gossiping/M.1579689887.A.9E2.html',\n",
       "   'count': 3},\n",
       "  {'author': 'd995511 (flcl)',\n",
       "   'url': 'https://www.ptt.cc/bbs/Gossiping/M.1579675419.A.BB0.html',\n",
       "   'count': 3}],\n",
       " '140.112.77.44': [{'author': 'Kao0502 (學店仔)',\n",
       "   'url': 'https://www.ptt.cc/bbs/Gossiping/M.1579689923.A.157.html',\n",
       "   'count': 3}],\n",
       " '180.217.186.220': [{'author': 'rondox (一個人跳舞)',\n",
       "   'url': 'https://www.ptt.cc/bbs/Gossiping/M.1579689939.A.344.html',\n",
       "   'count': 3}],\n",
       " '61.228.155.35': [{'author': 'sukiya (sukiya)',\n",
       "   'url': 'https://www.ptt.cc/bbs/Gossiping/M.1579689967.A.EFA.html',\n",
       "   'count': 3}],\n",
       " '39.12.70.41': [{'author': 'FlyinwindX (Flyinwind)',\n",
       "   'url': 'https://www.ptt.cc/bbs/Gossiping/M.1579689970.A.5AD.html',\n",
       "   'count': 3}],\n",
       " '118.168.133.101': [{'author': 'andy199113 (Andy)',\n",
       "   'url': 'https://www.ptt.cc/bbs/Gossiping/M.1579689993.A.275.html',\n",
       "   'count': 3}],\n",
       " '223.137.166.45': [{'author': 'adf926 (呵呵蓋)',\n",
       "   'url': 'https://www.ptt.cc/bbs/Gossiping/M.1579690028.A.486.html',\n",
       "   'count': 3},\n",
       "  {'author': 'adf926 (呵呵蓋)',\n",
       "   'url': 'https://www.ptt.cc/bbs/Gossiping/M.1579649016.A.BBB.html',\n",
       "   'count': 3}],\n",
       " '49.216.215.185': [{'author': 'xianfen (Lily)',\n",
       "   'url': 'https://www.ptt.cc/bbs/Gossiping/M.1579690044.A.992.html',\n",
       "   'count': 3}],\n",
       " '27.52.39.221': [{'author': 'waitforme99 (forme99)',\n",
       "   'url': 'https://www.ptt.cc/bbs/Gossiping/M.1579688728.A.9D8.html',\n",
       "   'count': 3}],\n",
       " '223.140.95.44': [{'author': 'kennken (沒穿褲子)',\n",
       "   'url': 'https://www.ptt.cc/bbs/Gossiping/M.1579688759.A.C15.html',\n",
       "   'count': 4}],\n",
       " '111.248.13.16': [{'author': 'ROUTE777 (光輝歲月)',\n",
       "   'url': 'https://www.ptt.cc/bbs/Gossiping/M.1579688802.A.857.html',\n",
       "   'count': 3}],\n",
       " '110.28.35.125': [{'author': 'wwHui (Hui)',\n",
       "   'url': 'https://www.ptt.cc/bbs/Gossiping/M.1579688819.A.85C.html',\n",
       "   'count': 4},\n",
       "  {'author': 'wwHui (Hui)',\n",
       "   'url': 'https://www.ptt.cc/bbs/Gossiping/M.1579655184.A.EAC.html',\n",
       "   'count': 3}],\n",
       " '27.242.190.12': [{'author': 'rick102233 ()',\n",
       "   'url': 'https://www.ptt.cc/bbs/Gossiping/M.1579688822.A.856.html',\n",
       "   'count': 4}],\n",
       " '1.174.168.9': [{'author': 'twmadrid (阿偉)',\n",
       "   'url': 'https://www.ptt.cc/bbs/Gossiping/M.1579688829.A.6A5.html',\n",
       "   'count': 3}],\n",
       " '1.165.104.151': [{'author': 'baidu (Dr.百度™)',\n",
       "   'url': 'https://www.ptt.cc/bbs/Gossiping/M.1579688830.A.698.html',\n",
       "   'count': 3}],\n",
       " '49.215.204.47': [{'author': 'Xing97302 (幹古專用帳號粉絲)',\n",
       "   'url': 'https://www.ptt.cc/bbs/Gossiping/M.1579688876.A.E1C.html',\n",
       "   'count': 3},\n",
       "  {'author': 'Xing97302 (幹古專用帳號粉絲)',\n",
       "   'url': 'https://www.ptt.cc/bbs/Gossiping/M.1579686484.A.04D.html',\n",
       "   'count': 3}],\n",
       " '125.224.101.41': [{'author': 'nolimits (愛盜人)',\n",
       "   'url': 'https://www.ptt.cc/bbs/Gossiping/M.1579688884.A.E1F.html',\n",
       "   'count': 3}],\n",
       " '223.138.111.149': [{'author': 'ijk77692 (貓咪大使 <3)',\n",
       "   'url': 'https://www.ptt.cc/bbs/Gossiping/M.1579688914.A.D9D.html',\n",
       "   'count': 3}],\n",
       " '180.217.174.233': [{'author': 'ABCcomputer ( )',\n",
       "   'url': 'https://www.ptt.cc/bbs/Gossiping/M.1579688938.A.4BB.html',\n",
       "   'count': 3},\n",
       "  {'author': 'ABCcomputer ( )',\n",
       "   'url': 'https://www.ptt.cc/bbs/Gossiping/M.1579687239.A.E05.html',\n",
       "   'count': 3}],\n",
       " '114.44.175.246': [{'author': 'HTC92 (中国台湾人的驕傲-92共識)',\n",
       "   'url': 'https://www.ptt.cc/bbs/Gossiping/M.1579689046.A.869.html',\n",
       "   'count': 4},\n",
       "  {'author': 'HTC92 (中国台湾人的驕傲-92共識)',\n",
       "   'url': 'https://www.ptt.cc/bbs/Gossiping/M.1579688547.A.4C9.html',\n",
       "   'count': 3}],\n",
       " '39.8.67.205': [{'author': 'JukeFF (JukeFF)',\n",
       "   'url': 'https://www.ptt.cc/bbs/Gossiping/M.1579689083.A.B1F.html',\n",
       "   'count': 3}],\n",
       " '49.217.48.238': [{'author': 'joshddd (econ_apprentice)',\n",
       "   'url': 'https://www.ptt.cc/bbs/Gossiping/M.1579689112.A.464.html',\n",
       "   'count': 3}],\n",
       " '101.9.180.100': [{'author': 'z72117211 (高橋李依我老婆)',\n",
       "   'url': 'https://www.ptt.cc/bbs/Gossiping/M.1579689118.A.C70.html',\n",
       "   'count': 3},\n",
       "  {'author': 'SSZZ77 (甲殼類過敏)',\n",
       "   'url': 'https://www.ptt.cc/bbs/Gossiping/M.1579680470.A.CF9.html',\n",
       "   'count': 3},\n",
       "  {'author': 'z72117211 (高橋李依我老婆)',\n",
       "   'url': 'https://www.ptt.cc/bbs/Gossiping/M.1579662559.A.B5A.html',\n",
       "   'count': 3}],\n",
       " '220.137.209.206': [{'author': \"GOD5566GOD (o'_'o)\",\n",
       "   'url': 'https://www.ptt.cc/bbs/Gossiping/M.1579689126.A.1EF.html',\n",
       "   'count': 5}],\n",
       " '101.136.175.56': [{'author': 'bluebagel (果果:))',\n",
       "   'url': 'https://www.ptt.cc/bbs/Gossiping/M.1579689143.A.85E.html',\n",
       "   'count': 3}],\n",
       " '110.28.229.214': [{'author': 'haozaira (haohao)',\n",
       "   'url': 'https://www.ptt.cc/bbs/Gossiping/M.1579689395.A.802.html',\n",
       "   'count': 3}],\n",
       " '1.174.8.241': [{'author': 'li7915566 (小傻瓜)',\n",
       "   'url': 'https://www.ptt.cc/bbs/Gossiping/M.1579689404.A.9E4.html',\n",
       "   'count': 4}],\n",
       " '114.34.167.232': [{'author': 'tw689 (台灣689)',\n",
       "   'url': 'https://www.ptt.cc/bbs/Gossiping/M.1579689448.A.6C0.html',\n",
       "   'count': 5},\n",
       "  {'author': 'tw689 (台灣689)',\n",
       "   'url': 'https://www.ptt.cc/bbs/Gossiping/M.1579666795.A.35F.html',\n",
       "   'count': 5}],\n",
       " '114.137.88.235': [{'author': 'Adollin (Adol)',\n",
       "   'url': 'https://www.ptt.cc/bbs/Gossiping/M.1579687962.A.149.html',\n",
       "   'count': 3}],\n",
       " '121.128.200.193': [{'author': 'suzhou (☂☁☁☁☂)',\n",
       "   'url': 'https://www.ptt.cc/bbs/Gossiping/M.1579687965.A.B9A.html',\n",
       "   'count': 3}],\n",
       " '218.173.82.150': [{'author': 'acebank (愛司)',\n",
       "   'url': 'https://www.ptt.cc/bbs/Gossiping/M.1579687978.A.B51.html',\n",
       "   'count': 3}],\n",
       " '111.71.92.174': [{'author': 'dog990999 (姆咪心動動)',\n",
       "   'url': 'https://www.ptt.cc/bbs/Gossiping/M.1579688182.A.163.html',\n",
       "   'count': 3}],\n",
       " '114.40.24.199': [{'author': 'iComeInPeace (匹——嘶！)',\n",
       "   'url': 'https://www.ptt.cc/bbs/Gossiping/M.1579688208.A.831.html',\n",
       "   'count': 3}],\n",
       " '140.113.136.218': [{'author': 'starfishkira (死搭魚)',\n",
       "   'url': 'https://www.ptt.cc/bbs/Gossiping/M.1579688233.A.F1B.html',\n",
       "   'count': 3}],\n",
       " '36.233.116.145': [{'author': 'thepowers (thepowers)',\n",
       "   'url': 'https://www.ptt.cc/bbs/Gossiping/M.1579688280.A.D69.html',\n",
       "   'count': 3},\n",
       "  {'author': 'thepowers (thepowers)',\n",
       "   'url': 'https://www.ptt.cc/bbs/Gossiping/M.1579667691.A.D35.html',\n",
       "   'count': 3},\n",
       "  {'author': 'thepowers (thepowers)',\n",
       "   'url': 'https://www.ptt.cc/bbs/Gossiping/M.1579650025.A.275.html',\n",
       "   'count': 3}],\n",
       " '115.82.200.27': [{'author': 'noah23 (諾亞方舟)',\n",
       "   'url': 'https://www.ptt.cc/bbs/Gossiping/M.1579688333.A.352.html',\n",
       "   'count': 3}],\n",
       " '49.216.40.19': [{'author': 'Zeelandia (pectoralis)',\n",
       "   'url': 'https://www.ptt.cc/bbs/Gossiping/M.1579688333.A.AB8.html',\n",
       "   'count': 3},\n",
       "  {'author': 'Zeelandia (pectoralis)',\n",
       "   'url': 'https://www.ptt.cc/bbs/Gossiping/M.1579671646.A.2BD.html',\n",
       "   'count': 4}],\n",
       " '111.71.43.163': [{'author': 'became (windim)',\n",
       "   'url': 'https://www.ptt.cc/bbs/Gossiping/M.1579688373.A.839.html',\n",
       "   'count': 3}],\n",
       " '180.217.165.136': [{'author': 'foog19960628 (ming0107)',\n",
       "   'url': 'https://www.ptt.cc/bbs/Gossiping/M.1579688491.A.6B4.html',\n",
       "   'count': 3}],\n",
       " '125.224.111.177': [{'author': 'samgreco (55)',\n",
       "   'url': 'https://www.ptt.cc/bbs/Gossiping/M.1579688504.A.E0A.html',\n",
       "   'count': 3}],\n",
       " '36.239.228.84': [{'author': 'powyo (光子郎)',\n",
       "   'url': 'https://www.ptt.cc/bbs/Gossiping/M.1579688538.A.2BF.html',\n",
       "   'count': 6},\n",
       "  {'author': 'powyo (光子郎)',\n",
       "   'url': 'https://www.ptt.cc/bbs/Gossiping/M.1579672680.A.AD8.html',\n",
       "   'count': 3}],\n",
       " '39.9.46.235': [{'author': 'Comebuy (三分鐘熱度)',\n",
       "   'url': 'https://www.ptt.cc/bbs/Gossiping/M.1579688637.A.41C.html',\n",
       "   'count': 3}],\n",
       " '39.12.12.199': [{'author': 'spirit119 (一二三木頭人)',\n",
       "   'url': 'https://www.ptt.cc/bbs/Gossiping/M.1579688696.A.227.html',\n",
       "   'count': 3}],\n",
       " '220.134.89.190': [{'author': 'deepdish (Keep The Faith)',\n",
       "   'url': 'https://www.ptt.cc/bbs/Gossiping/M.1579687197.A.0BE.html',\n",
       "   'count': 3}],\n",
       " '180.204.18.136': [{'author': 'zhahu (柵湖俠)',\n",
       "   'url': 'https://www.ptt.cc/bbs/Gossiping/M.1579687209.A.22E.html',\n",
       "   'count': 3}],\n",
       " '111.83.202.21': [{'author': 'LianD ()',\n",
       "   'url': 'https://www.ptt.cc/bbs/Gossiping/M.1579687281.A.69C.html',\n",
       "   'count': 3}],\n",
       " '117.19.147.186': [{'author': 'ruby00514 (黑夜的星空)',\n",
       "   'url': 'https://www.ptt.cc/bbs/Gossiping/M.1579687330.A.233.html',\n",
       "   'count': 3}],\n",
       " '111.255.133.58': [{'author': 'KouChouChing (20分鐘)',\n",
       "   'url': 'https://www.ptt.cc/bbs/Gossiping/M.1579687340.A.FF9.html',\n",
       "   'count': 3}],\n",
       " '27.52.139.180': [{'author': 'mzwj (BLUE SKY)',\n",
       "   'url': 'https://www.ptt.cc/bbs/Gossiping/M.1579687477.A.444.html',\n",
       "   'count': 3}],\n",
       " '101.15.221.28': [{'author': 'sinohara (kinu)',\n",
       "   'url': 'https://www.ptt.cc/bbs/Gossiping/M.1579687482.A.E33.html',\n",
       "   'count': 3}],\n",
       " '1.165.125.1': [{'author': 'krousxchen (城府很深)',\n",
       "   'url': 'https://www.ptt.cc/bbs/Gossiping/M.1579687580.A.6AA.html',\n",
       "   'count': 7}],\n",
       " '36.231.78.10': [{'author': 'Toyosushij (Toyosushij)',\n",
       "   'url': 'https://www.ptt.cc/bbs/Gossiping/M.1579687615.A.716.html',\n",
       "   'count': 3}],\n",
       " '111.71.47.144': [{'author': 'seysem (seysem)',\n",
       "   'url': 'https://www.ptt.cc/bbs/Gossiping/M.1579687618.A.FD8.html',\n",
       "   'count': 3}],\n",
       " '101.8.199.2': [{'author': 'KTR5566 (KTR)',\n",
       "   'url': 'https://www.ptt.cc/bbs/Gossiping/M.1579687678.A.345.html',\n",
       "   'count': 6},\n",
       "  {'author': 'KTR5566 (KTR)',\n",
       "   'url': 'https://www.ptt.cc/bbs/Gossiping/M.1579685373.A.0AA.html',\n",
       "   'count': 3}],\n",
       " '140.113.5.44': [{'author': 'bernie90006 (害羞ㄉ波妮 0///0)',\n",
       "   'url': 'https://www.ptt.cc/bbs/Gossiping/M.1579687702.A.722.html',\n",
       "   'count': 3}],\n",
       " '101.11.0.45': [{'author': 'y2k500077 (野雲)',\n",
       "   'url': 'https://www.ptt.cc/bbs/Gossiping/M.1579687771.A.E12.html',\n",
       "   'count': 3}],\n",
       " '42.73.186.79': [{'author': 'ccxx9999 (0-0)',\n",
       "   'url': 'https://www.ptt.cc/bbs/Gossiping/M.1579687778.A.EF7.html',\n",
       "   'count': 3}],\n",
       " '111.250.71.217': [{'author': 'mayu0326 (mayu)',\n",
       "   'url': 'https://www.ptt.cc/bbs/Gossiping/M.1579687799.A.F9A.html',\n",
       "   'count': 3}],\n",
       " '223.137.166.135': [{'author': 'IronCube (吃飽就要大便)',\n",
       "   'url': 'https://www.ptt.cc/bbs/Gossiping/M.1579687802.A.C03.html',\n",
       "   'count': 3},\n",
       "  {'author': 'IronCube (吃飽就要大便)',\n",
       "   'url': 'https://www.ptt.cc/bbs/Gossiping/M.1579684140.A.EB0.html',\n",
       "   'count': 6}],\n",
       " '111.82.138.11': [{'author': 'edrpj (非賣品)',\n",
       "   'url': 'https://www.ptt.cc/bbs/Gossiping/M.1579687871.A.201.html',\n",
       "   'count': 3}],\n",
       " '223.141.15.207': [{'author': 'hunter2011 (台中川圭一)',\n",
       "   'url': 'https://www.ptt.cc/bbs/Gossiping/M.1579687875.A.905.html',\n",
       "   'count': 3}],\n",
       " '223.137.209.189': [{'author': 'greenruler (沒用的尺)',\n",
       "   'url': 'https://www.ptt.cc/bbs/Gossiping/M.1579687902.A.830.html',\n",
       "   'count': 3}],\n",
       " '27.242.66.109': [{'author': 'godshibainu (神柴)',\n",
       "   'url': 'https://www.ptt.cc/bbs/Gossiping/M.1579686391.A.819.html',\n",
       "   'count': 3},\n",
       "  {'author': 'godshibainu (神柴)',\n",
       "   'url': 'https://www.ptt.cc/bbs/Gossiping/M.1579661657.A.F34.html',\n",
       "   'count': 6}],\n",
       " '1.200.211.175': [{'author': 'halusai ( )',\n",
       "   'url': 'https://www.ptt.cc/bbs/Gossiping/M.1579686453.A.89A.html',\n",
       "   'count': 3}],\n",
       " '223.139.235.30': [{'author': 'Giddcns (狠、插、勁！！！)',\n",
       "   'url': 'https://www.ptt.cc/bbs/Gossiping/M.1579686503.A.E25.html',\n",
       "   'count': 3},\n",
       "  {'author': 'Giddcns (狠、插、勁！！！)',\n",
       "   'url': 'https://www.ptt.cc/bbs/Gossiping/M.1579674820.A.E7C.html',\n",
       "   'count': 3}],\n",
       " '49.216.213.249': [{'author': 'STAV72 (刁民黨黨務主委)',\n",
       "   'url': 'https://www.ptt.cc/bbs/Gossiping/M.1579686519.A.0BD.html',\n",
       "   'count': 3},\n",
       "  {'author': 'STAV72 (刁民黨黨務主委)',\n",
       "   'url': 'https://www.ptt.cc/bbs/Gossiping/M.1579657294.A.44A.html',\n",
       "   'count': 3}],\n",
       " '31.172.236.236': [{'author': 'monocyte123 (單核球123)',\n",
       "   'url': 'https://www.ptt.cc/bbs/Gossiping/M.1579686555.A.3F9.html',\n",
       "   'count': 3}],\n",
       " '36.226.5.231': [{'author': 'charco (胖虎想要變瘦虎)',\n",
       "   'url': 'https://www.ptt.cc/bbs/Gossiping/M.1579686590.A.97B.html',\n",
       "   'count': 3}],\n",
       " '61.230.138.43': [{'author': 'extemjin (extemjin)',\n",
       "   'url': 'https://www.ptt.cc/bbs/Gossiping/M.1579686662.A.9EC.html',\n",
       "   'count': 3}],\n",
       " '36.238.71.32': [{'author': 'popoallan ()',\n",
       "   'url': 'https://www.ptt.cc/bbs/Gossiping/M.1579686709.A.157.html',\n",
       "   'count': 3}],\n",
       " '42.73.241.86': [{'author': 'b777787 (想不到8)',\n",
       "   'url': 'https://www.ptt.cc/bbs/Gossiping/M.1579686714.A.7B4.html',\n",
       "   'count': 3},\n",
       "  {'author': 'b777787 (想不到8)',\n",
       "   'url': 'https://www.ptt.cc/bbs/Gossiping/M.1579683854.A.EEE.html',\n",
       "   'count': 3}],\n",
       " '223.136.107.211': [{'author': 'OpenGoodHate (什麼東西什麼東西)',\n",
       "   'url': 'https://www.ptt.cc/bbs/Gossiping/M.1579686719.A.291.html',\n",
       "   'count': 3}],\n",
       " '114.47.71.226': [{'author': 'seibu (難過)',\n",
       "   'url': 'https://www.ptt.cc/bbs/Gossiping/M.1579686795.A.EFA.html',\n",
       "   'count': 3}],\n",
       " '123.195.192.204': [{'author': 'BanJarvan4 (不解釋)',\n",
       "   'url': 'https://www.ptt.cc/bbs/Gossiping/M.1579686863.A.B26.html',\n",
       "   'count': 6}],\n",
       " '38.124.106.62': [{'author': 'Miralles (fakeplastic)',\n",
       "   'url': 'https://www.ptt.cc/bbs/Gossiping/M.1579686952.A.210.html',\n",
       "   'count': 5}],\n",
       " '39.8.126.99': [{'author': 'a6000200 (aa)',\n",
       "   'url': 'https://www.ptt.cc/bbs/Gossiping/M.1579687038.A.52C.html',\n",
       "   'count': 3},\n",
       "  {'author': 'math520 ( )',\n",
       "   'url': 'https://www.ptt.cc/bbs/Gossiping/M.1579676063.A.493.html',\n",
       "   'count': 3}],\n",
       " '39.10.224.203': [{'author': 'AKS8158 (車がほしいです)',\n",
       "   'url': 'https://www.ptt.cc/bbs/Gossiping/M.1579687044.A.2FA.html',\n",
       "   'count': 3}],\n",
       " '42.73.70.32': [{'author': 'linm12285219 (beforewe9)',\n",
       "   'url': 'https://www.ptt.cc/bbs/Gossiping/M.1579687055.A.834.html',\n",
       "   'count': 3}],\n",
       " '1.160.140.83': [{'author': 'CuteGG (GG)',\n",
       "   'url': 'https://www.ptt.cc/bbs/Gossiping/M.1579687104.A.0B1.html',\n",
       "   'count': 3}],\n",
       " '61.57.111.63': [{'author': 'xvited945 (sk0k0)',\n",
       "   'url': 'https://www.ptt.cc/bbs/Gossiping/M.1579687140.A.D30.html',\n",
       "   'count': 3}],\n",
       " '114.136.111.60': [{'author': 'nt2013 (nt2013)',\n",
       "   'url': 'https://www.ptt.cc/bbs/Gossiping/M.1579687181.A.678.html',\n",
       "   'count': 5}],\n",
       " '223.137.31.25': [{'author': 'area41gold (area41gold在炫耀？哥單s)',\n",
       "   'url': 'https://www.ptt.cc/bbs/Gossiping/M.1579685652.A.38C.html',\n",
       "   'count': 3}],\n",
       " '59.125.98.167': [{'author': 'eddisontw (沙丘)',\n",
       "   'url': 'https://www.ptt.cc/bbs/Gossiping/M.1579685663.A.C76.html',\n",
       "   'count': 3},\n",
       "  {'author': 'eddisontw (沙丘)',\n",
       "   'url': 'https://www.ptt.cc/bbs/Gossiping/M.1579682206.A.0A1.html',\n",
       "   'count': 3},\n",
       "  {'author': 'eddisontw (沙丘)',\n",
       "   'url': 'https://www.ptt.cc/bbs/Gossiping/M.1579672853.A.8AB.html',\n",
       "   'count': 3},\n",
       "  {'author': 'eddisontw (沙丘)',\n",
       "   'url': 'https://www.ptt.cc/bbs/Gossiping/M.1579666408.A.5FC.html',\n",
       "   'count': 3},\n",
       "  {'author': 'eddisontw (沙丘)',\n",
       "   'url': 'https://www.ptt.cc/bbs/Gossiping/M.1579663621.A.AC1.html',\n",
       "   'count': 3}],\n",
       " '49.216.59.14': [{'author': 'kkes0001 (guest)',\n",
       "   'url': 'https://www.ptt.cc/bbs/Gossiping/M.1579685664.A.333.html',\n",
       "   'count': 3},\n",
       "  {'author': 'kkes0001 (guest)',\n",
       "   'url': 'https://www.ptt.cc/bbs/Gossiping/M.1579667251.A.F63.html',\n",
       "   'count': 3},\n",
       "  {'author': 'kkes0001 (guest)',\n",
       "   'url': 'https://www.ptt.cc/bbs/Gossiping/M.1579666348.A.FF3.html',\n",
       "   'count': 3}],\n",
       " '223.138.15.112': [{'author': 'sh981215 (世界の副委員長？！？！5)',\n",
       "   'url': 'https://www.ptt.cc/bbs/Gossiping/M.1579685668.A.EF8.html',\n",
       "   'count': 3}],\n",
       " '36.231.64.151': [{'author': 'ccf52881 (ccf52881)',\n",
       "   'url': 'https://www.ptt.cc/bbs/Gossiping/M.1579685709.A.D80.html',\n",
       "   'count': 3}],\n",
       " '49.216.1.38': [{'author': 'Kevinsun (阿肥)',\n",
       "   'url': 'https://www.ptt.cc/bbs/Gossiping/M.1579685767.A.762.html',\n",
       "   'count': 3}],\n",
       " '175.183.33.61': [{'author': 'andrewkuo ()',\n",
       "   'url': 'https://www.ptt.cc/bbs/Gossiping/M.1579685791.A.A36.html',\n",
       "   'count': 3}],\n",
       " '1.200.36.189': [{'author': 'lilyd278 (鐵面騎士)',\n",
       "   'url': 'https://www.ptt.cc/bbs/Gossiping/M.1579685826.A.8B6.html',\n",
       "   'count': 3}],\n",
       " '36.225.180.132': [{'author': 'CenaC (王葛格加油!!)',\n",
       "   'url': 'https://www.ptt.cc/bbs/Gossiping/M.1579685834.A.FFF.html',\n",
       "   'count': 5}],\n",
       " '60.251.144.133': [{'author': 'simonneko (燒餅大叔)',\n",
       "   'url': 'https://www.ptt.cc/bbs/Gossiping/M.1579685860.A.49E.html',\n",
       "   'count': 6},\n",
       "  {'author': 'simonneko (燒餅大叔)',\n",
       "   'url': 'https://www.ptt.cc/bbs/Gossiping/M.1579678122.A.7D7.html',\n",
       "   'count': 7}],\n",
       " '42.73.47.130': [{'author': 'asrun (尋求就必尋見)',\n",
       "   'url': 'https://www.ptt.cc/bbs/Gossiping/M.1579685900.A.92B.html',\n",
       "   'count': 3}],\n",
       " '111.250.128.209': [{'author': 'pitbull0123 (鬥牛犬)',\n",
       "   'url': 'https://www.ptt.cc/bbs/Gossiping/M.1579685941.A.6EC.html',\n",
       "   'count': 3}],\n",
       " '36.236.29.101': [{'author': 'Ras5566 (橡皮擦)',\n",
       "   'url': 'https://www.ptt.cc/bbs/Gossiping/M.1579686102.A.96A.html',\n",
       "   'count': 3},\n",
       "  {'author': 'Ras5566 (橡皮擦)',\n",
       "   'url': 'https://www.ptt.cc/bbs/Gossiping/M.1579681125.A.F38.html',\n",
       "   'count': 3},\n",
       "  {'author': 'Ras5566 (橡皮擦)',\n",
       "   'url': 'https://www.ptt.cc/bbs/Gossiping/M.1579647793.A.3A1.html',\n",
       "   'count': 3}],\n",
       " '42.77.93.48': [{'author': 'CarBed (妳好嗎 )',\n",
       "   'url': 'https://www.ptt.cc/bbs/Gossiping/M.1579686142.A.09A.html',\n",
       "   'count': 3}],\n",
       " '210.242.249.13': [{'author': 'sky226778 (青蛙呱呱呱)',\n",
       "   'url': 'https://www.ptt.cc/bbs/Gossiping/M.1579686170.A.7DC.html',\n",
       "   'count': 3}],\n",
       " '114.136.141.130': [{'author': 'ig49999 (SS)',\n",
       "   'url': 'https://www.ptt.cc/bbs/Gossiping/M.1579686213.A.CFC.html',\n",
       "   'count': 3}],\n",
       " '223.139.100.3': [{'author': 'tigerclamp (老虎鉗)',\n",
       "   'url': 'https://www.ptt.cc/bbs/Gossiping/M.1579686223.A.E36.html',\n",
       "   'count': 3}],\n",
       " '223.136.192.46': [{'author': 'hiball (魔鬼肥肉人)',\n",
       "   'url': 'https://www.ptt.cc/bbs/Gossiping/M.1579686266.A.8FA.html',\n",
       "   'count': 3}],\n",
       " '106.105.44.109': [{'author': 'emperor (愛派蘿ですがなにか？)',\n",
       "   'url': 'https://www.ptt.cc/bbs/Gossiping/M.1579686293.A.DA8.html',\n",
       "   'count': 3}],\n",
       " '61.228.196.235': [{'author': 'tsukiji (大司壽)',\n",
       "   'url': 'https://www.ptt.cc/bbs/Gossiping/M.1579686322.A.8F9.html',\n",
       "   'count': 3}],\n",
       " '220.143.23.57': [{'author': 'maybetodo (np)',\n",
       "   'url': 'https://www.ptt.cc/bbs/Gossiping/M.1579684698.A.0D6.html',\n",
       "   'count': 3}],\n",
       " '110.26.6.2': [{'author': 'takashi01 (廢文小王子)',\n",
       "   'url': 'https://www.ptt.cc/bbs/Gossiping/M.1579684724.A.C8F.html',\n",
       "   'count': 3},\n",
       "  {'author': 'takashi01 (廢文小王子)',\n",
       "   'url': 'https://www.ptt.cc/bbs/Gossiping/M.1579673154.A.279.html',\n",
       "   'count': 3}],\n",
       " '118.169.74.204': [{'author': 'MeiHS (囧)',\n",
       "   'url': 'https://www.ptt.cc/bbs/Gossiping/M.1579684820.A.2D5.html',\n",
       "   'count': 4}],\n",
       " '101.15.221.48': [{'author': 'beachnote (桑爾夫必取)',\n",
       "   'url': 'https://www.ptt.cc/bbs/Gossiping/M.1579684964.A.D7A.html',\n",
       "   'count': 3}],\n",
       " '39.10.62.7': [{'author': 'ComeThrough (☁)',\n",
       "   'url': 'https://www.ptt.cc/bbs/Gossiping/M.1579685061.A.D4C.html',\n",
       "   'count': 3}],\n",
       " '223.137.176.3': [{'author': 'mballen (柄柄)',\n",
       "   'url': 'https://www.ptt.cc/bbs/Gossiping/M.1579685107.A.693.html',\n",
       "   'count': 3}],\n",
       " '39.10.62.37': [{'author': 'macbook12 (12吋蘋果)',\n",
       "   'url': 'https://www.ptt.cc/bbs/Gossiping/M.1579685145.A.7EC.html',\n",
       "   'count': 3},\n",
       "  {'author': 'macbook12 (12吋蘋果)',\n",
       "   'url': 'https://www.ptt.cc/bbs/Gossiping/M.1579675382.A.E1E.html',\n",
       "   'count': 3}],\n",
       " '39.11.33.107': [{'author': 'aznlouisazn (aznlouisazn)',\n",
       "   'url': 'https://www.ptt.cc/bbs/Gossiping/M.1579685154.A.C0C.html',\n",
       "   'count': 3}],\n",
       " '114.39.147.62': [{'author': 'cjo4fu31219 (恩)',\n",
       "   'url': 'https://www.ptt.cc/bbs/Gossiping/M.1579685332.A.68A.html',\n",
       "   'count': 3},\n",
       "  {'author': 'cjo4fu31219 (恩)',\n",
       "   'url': 'https://www.ptt.cc/bbs/Gossiping/M.1579684089.A.EA7.html',\n",
       "   'count': 3}],\n",
       " '126.34.126.158': [{'author': 'ilikebrandy (箱根烤肉王)',\n",
       "   'url': 'https://www.ptt.cc/bbs/Gossiping/M.1579685355.A.A05.html',\n",
       "   'count': 4},\n",
       "  {'author': 'ilikebrandy (箱根烤肉王)',\n",
       "   'url': 'https://www.ptt.cc/bbs/Gossiping/M.1579651479.A.E5D.html',\n",
       "   'count': 3}],\n",
       " '220.142.87.55': [{'author': 'wacer8486 (我有雞雞)',\n",
       "   'url': 'https://www.ptt.cc/bbs/Gossiping/M.1579685356.A.A22.html',\n",
       "   'count': 3}],\n",
       " '182.235.79.98': [{'author': 'NARUTO (鳴人)',\n",
       "   'url': 'https://www.ptt.cc/bbs/Gossiping/M.1579685367.A.EAC.html',\n",
       "   'count': 7},\n",
       "  {'author': 'NARUTO (鳴人)',\n",
       "   'url': 'https://www.ptt.cc/bbs/Gossiping/M.1579677965.A.6C0.html',\n",
       "   'count': 3},\n",
       "  {'author': 'NARUTO (鳴人)',\n",
       "   'url': 'https://www.ptt.cc/bbs/Gossiping/M.1579663892.A.DCD.html',\n",
       "   'count': 4}],\n",
       " '42.74.94.167': [{'author': 'apxd (哈哈哈)',\n",
       "   'url': 'https://www.ptt.cc/bbs/Gossiping/M.1579685388.A.5DE.html',\n",
       "   'count': 3}],\n",
       " '39.12.106.200': [{'author': 'l26873169 (罐頭哥)',\n",
       "   'url': 'https://www.ptt.cc/bbs/Gossiping/M.1579685404.A.06F.html',\n",
       "   'count': 3}],\n",
       " '42.72.187.101': [{'author': 'taeyeon56 (太妍56)',\n",
       "   'url': 'https://www.ptt.cc/bbs/Gossiping/M.1579685405.A.BFB.html',\n",
       "   'count': 4}],\n",
       " '51.15.1.204': [{'author': 'rick102233 ()',\n",
       "   'url': 'https://www.ptt.cc/bbs/Gossiping/M.1579685436.A.B5C.html',\n",
       "   'count': 4}],\n",
       " '180.217.141.222': [{'author': 'join183club (183club)',\n",
       "   'url': 'https://www.ptt.cc/bbs/Gossiping/M.1579685462.A.1F8.html',\n",
       "   'count': 3}],\n",
       " '122.118.25.129': [{'author': 'ltyintw (菈米雅嘶嘶)',\n",
       "   'url': 'https://www.ptt.cc/bbs/Gossiping/M.1579685574.A.45D.html',\n",
       "   'count': 3}],\n",
       " '103.10.197.98': [{'author': 'ismail (晴天就該是這樣)',\n",
       "   'url': 'https://www.ptt.cc/bbs/Gossiping/M.1579683880.A.4A8.html',\n",
       "   'count': 3}],\n",
       " '67.171.0.73': [{'author': 'sleeeve (赴美留學的日子...)',\n",
       "   'url': 'https://www.ptt.cc/bbs/Gossiping/M.1579683905.A.445.html',\n",
       "   'count': 3}],\n",
       " '223.139.181.224': [{'author': 'yorkyoung (約克羊)',\n",
       "   'url': 'https://www.ptt.cc/bbs/Gossiping/M.1579683941.A.C0C.html',\n",
       "   'count': 4},\n",
       "  {'author': 'yorkyoung (約克羊)',\n",
       "   'url': 'https://www.ptt.cc/bbs/Gossiping/M.1579653976.A.EFA.html',\n",
       "   'count': 3}],\n",
       " '111.241.194.214': [{'author': 'mnhyuiop (魔力藍)',\n",
       "   'url': 'https://www.ptt.cc/bbs/Gossiping/M.1579684050.A.63B.html',\n",
       "   'count': 5}],\n",
       " '36.224.122.25': [{'author': 'z1976 (z1976)',\n",
       "   'url': 'https://www.ptt.cc/bbs/Gossiping/M.1579684060.A.4B4.html',\n",
       "   'count': 3}],\n",
       " '42.75.72.32': [{'author': 's66449 (老實樣)',\n",
       "   'url': 'https://www.ptt.cc/bbs/Gossiping/M.1579684180.A.5D7.html',\n",
       "   'count': 3},\n",
       "  {'author': 's66449 (老實樣)',\n",
       "   'url': 'https://www.ptt.cc/bbs/Gossiping/M.1579648511.A.8C8.html',\n",
       "   'count': 3}],\n",
       " '111.82.2.198': [{'author': 'Vladivostok (海参崴)',\n",
       "   'url': 'https://www.ptt.cc/bbs/Gossiping/M.1579684207.A.2D1.html',\n",
       "   'count': 4},\n",
       "  {'author': 'Vladivostok (海参崴)',\n",
       "   'url': 'https://www.ptt.cc/bbs/Gossiping/M.1579680694.A.21C.html',\n",
       "   'count': 6}],\n",
       " '213.208.157.35': [{'author': 'pikakami (隱喻與實現)',\n",
       "   'url': 'https://www.ptt.cc/bbs/Gossiping/M.1579684280.A.6B3.html',\n",
       "   'count': 3}],\n",
       " '219.91.63.15': [{'author': 'drkkimo (花貓~ 努力工作)',\n",
       "   'url': 'https://www.ptt.cc/bbs/Gossiping/M.1579684291.A.F4F.html',\n",
       "   'count': 6}],\n",
       " '61.222.95.103': [{'author': 'TDKnight (出沒高譚版)',\n",
       "   'url': 'https://www.ptt.cc/bbs/Gossiping/M.1579684355.A.24E.html',\n",
       "   'count': 3}],\n",
       " '1.169.154.174': [{'author': 'y800122155 (@[email\\xa0protected])',\n",
       "   'url': 'https://www.ptt.cc/bbs/Gossiping/M.1579684396.A.274.html',\n",
       "   'count': 3}],\n",
       " '49.214.133.160': [{'author': 'Phoenix723 (操場旁的含羞草)',\n",
       "   'url': 'https://www.ptt.cc/bbs/Gossiping/M.1579684401.A.2CF.html',\n",
       "   'count': 3}],\n",
       " '59.124.123.241': [{'author': 'opthr1215 (天天)',\n",
       "   'url': 'https://www.ptt.cc/bbs/Gossiping/M.1579684421.A.CFA.html',\n",
       "   'count': 3}],\n",
       " '223.136.11.60': [{'author': 'iamshana (CANINE力集中在一些重要S)',\n",
       "   'url': 'https://www.ptt.cc/bbs/Gossiping/M.1579684471.A.4C9.html',\n",
       "   'count': 3},\n",
       "  {'author': 'iamshana (CANINE力集中在一些重要S)',\n",
       "   'url': 'https://www.ptt.cc/bbs/Gossiping/M.1579664129.A.60D.html',\n",
       "   'count': 3}],\n",
       " '36.229.2.47': [{'author': 'Vram (嘻嘻)',\n",
       "   'url': 'https://www.ptt.cc/bbs/Gossiping/M.1579684479.A.BF6.html',\n",
       "   'count': 6}],\n",
       " '114.34.238.29': [{'author': 'Arkoma (Arkoma)',\n",
       "   'url': 'https://www.ptt.cc/bbs/Gossiping/M.1579684546.A.5F2.html',\n",
       "   'count': 4}],\n",
       " '1.169.209.104': [{'author': 'zcliu026 (中港阿志)',\n",
       "   'url': 'https://www.ptt.cc/bbs/Gossiping/M.1579684576.A.0AC.html',\n",
       "   'count': 3}],\n",
       " '175.97.23.180': [{'author': 'pauljet (我好慚愧我居然當過川黑)',\n",
       "   'url': 'https://www.ptt.cc/bbs/Gossiping/M.1579684585.A.2C1.html',\n",
       "   'count': 4}],\n",
       " '42.72.35.164': [{'author': 'Ericz7000 (♥安潔莉卡正統老公♥)',\n",
       "   'url': 'https://www.ptt.cc/bbs/Gossiping/M.1579683035.A.04E.html',\n",
       "   'count': 3},\n",
       "  {'author': 'Ericz7000 (♥安潔莉卡正統老公♥)',\n",
       "   'url': 'https://www.ptt.cc/bbs/Gossiping/M.1579669723.A.8B5.html',\n",
       "   'count': 3}],\n",
       " '114.198.160.22': [{'author': 'Wardyal (Wardyal)',\n",
       "   'url': 'https://www.ptt.cc/bbs/Gossiping/M.1579683059.A.BB0.html',\n",
       "   'count': 4},\n",
       "  {'author': 'Wardyal (Wardyal)',\n",
       "   'url': 'https://www.ptt.cc/bbs/Gossiping/M.1579654843.A.E5E.html',\n",
       "   'count': 3}],\n",
       " '49.216.30.111': [{'author': 'papaganono (板版傻傻分不清楚)',\n",
       "   'url': 'https://www.ptt.cc/bbs/Gossiping/M.1579683086.A.7B1.html',\n",
       "   'count': 7}],\n",
       " '223.139.104.139': [{'author': 'p25488148 (一定愛用挖ㄟ馬吉呀米)',\n",
       "   'url': 'https://www.ptt.cc/bbs/Gossiping/M.1579683101.A.493.html',\n",
       "   'count': 3}],\n",
       " '118.170.195.49': [{'author': 'WeiU (微，Ｕ文)',\n",
       "   'url': 'https://www.ptt.cc/bbs/Gossiping/M.1579683191.A.894.html',\n",
       "   'count': 3}],\n",
       " '39.10.126.25': [{'author': 'gk1329 ()',\n",
       "   'url': 'https://www.ptt.cc/bbs/Gossiping/M.1579683195.A.572.html',\n",
       "   'count': 3},\n",
       "  {'author': 'gk1329 ()',\n",
       "   'url': 'https://www.ptt.cc/bbs/Gossiping/M.1579662819.A.716.html',\n",
       "   'count': 3},\n",
       "  {'author': 'gk1329 ()',\n",
       "   'url': 'https://www.ptt.cc/bbs/Gossiping/M.1579653864.A.BD4.html',\n",
       "   'count': 3}],\n",
       " '180.204.35.39': [{'author': 'p69005103 (ANDY)',\n",
       "   'url': 'https://www.ptt.cc/bbs/Gossiping/M.1579683263.A.AA2.html',\n",
       "   'count': 3}],\n",
       " '61.231.94.25': [{'author': 'mHRUed (魯魯咪的魯蛇)',\n",
       "   'url': 'https://www.ptt.cc/bbs/Gossiping/M.1579683296.A.B91.html',\n",
       "   'count': 3}],\n",
       " '60.250.30.118': [{'author': 'cosmite (Z)',\n",
       "   'url': 'https://www.ptt.cc/bbs/Gossiping/M.1579683309.A.100.html',\n",
       "   'count': 7},\n",
       "  {'author': 'cosmite (Z)',\n",
       "   'url': 'https://www.ptt.cc/bbs/Gossiping/M.1579678546.A.567.html',\n",
       "   'count': 3}],\n",
       " '223.141.71.47': [{'author': 'blueskymaple (你是不是在發球)',\n",
       "   'url': 'https://www.ptt.cc/bbs/Gossiping/M.1579683352.A.788.html',\n",
       "   'count': 3},\n",
       "  {'author': 'blueskymaple (你是不是在發球)',\n",
       "   'url': 'https://www.ptt.cc/bbs/Gossiping/M.1579667184.A.F8C.html',\n",
       "   'count': 3}],\n",
       " '49.214.233.26': [{'author': 'charlie0810 (我的文不廢)',\n",
       "   'url': 'https://www.ptt.cc/bbs/Gossiping/M.1579683366.A.ED6.html',\n",
       "   'count': 3}],\n",
       " '1.161.24.81': [{'author': 'hupu1999 (123)',\n",
       "   'url': 'https://www.ptt.cc/bbs/Gossiping/M.1579683457.A.9E4.html',\n",
       "   'count': 3}],\n",
       " '150.116.253.235': [{'author': 'alan4ni (白石媽媽兒子哈蘭是你)',\n",
       "   'url': 'https://www.ptt.cc/bbs/Gossiping/M.1579683575.A.693.html',\n",
       "   'count': 4}],\n",
       " '223.140.122.215': [{'author': 'hogs (毛豬)',\n",
       "   'url': 'https://www.ptt.cc/bbs/Gossiping/M.1579683640.A.255.html',\n",
       "   'count': 3},\n",
       "  {'author': 'hogs (毛豬)',\n",
       "   'url': 'https://www.ptt.cc/bbs/Gossiping/M.1579682014.A.7EC.html',\n",
       "   'count': 3}],\n",
       " '49.216.102.39': [{'author': 'victor050812 (夜月楓霜)',\n",
       "   'url': 'https://www.ptt.cc/bbs/Gossiping/M.1579683684.A.132.html',\n",
       "   'count': 3}],\n",
       " '1.174.74.223': [{'author': 'sweetmiki (米奇王宇宙)',\n",
       "   'url': 'https://www.ptt.cc/bbs/Gossiping/M.1579683799.A.8FF.html',\n",
       "   'count': 3}],\n",
       " '211.72.117.63': [{'author': 'StarTouching (撫星)',\n",
       "   'url': 'https://www.ptt.cc/bbs/Gossiping/M.1579683828.A.EBE.html',\n",
       "   'count': 3}],\n",
       " '111.249.107.210': [{'author': 'oscarhaw6 (龍哥)',\n",
       "   'url': 'https://www.ptt.cc/bbs/Gossiping/M.1579683833.A.CE8.html',\n",
       "   'count': 3}],\n",
       " '111.71.122.85': [{'author': 'pitbull0123 (鬥牛犬)',\n",
       "   'url': 'https://www.ptt.cc/bbs/Gossiping/M.1579683857.A.0E1.html',\n",
       "   'count': 3}],\n",
       " '114.136.83.47': [{'author': 'peter2940 (彼得潘)',\n",
       "   'url': 'https://www.ptt.cc/bbs/Gossiping/M.1579682272.A.63D.html',\n",
       "   'count': 3}],\n",
       " '36.225.102.171': [{'author': 'rial (deoo)',\n",
       "   'url': 'https://www.ptt.cc/bbs/Gossiping/M.1579682287.A.FFE.html',\n",
       "   'count': 4},\n",
       "  {'author': 'rial (deoo)',\n",
       "   'url': 'https://www.ptt.cc/bbs/Gossiping/M.1579680623.A.6A5.html',\n",
       "   'count': 6}],\n",
       " '101.11.52.157': [{'author': 'tavern (我要早點洗澡)',\n",
       "   'url': 'https://www.ptt.cc/bbs/Gossiping/M.1579682468.A.E3D.html',\n",
       "   'count': 3}],\n",
       " '117.56.248.42': [{'author': 'QchchQ (情比金堅)',\n",
       "   'url': 'https://www.ptt.cc/bbs/Gossiping/M.1579682537.A.FD5.html',\n",
       "   'count': 3}],\n",
       " '180.204.146.101': [{'author': 'cmelo1515 (瓜農)',\n",
       "   'url': 'https://www.ptt.cc/bbs/Gossiping/M.1579682552.A.BA0.html',\n",
       "   'count': 3},\n",
       "  {'author': 'cmelo1515 (瓜農)',\n",
       "   'url': 'https://www.ptt.cc/bbs/Gossiping/M.1579651642.A.772.html',\n",
       "   'count': 3}],\n",
       " '36.231.159.1': [{'author': 'purine5566 (漂亮56)',\n",
       "   'url': 'https://www.ptt.cc/bbs/Gossiping/M.1579682671.A.935.html',\n",
       "   'count': 3}],\n",
       " '27.246.94.18': [{'author': 'ssss0960193 (帶土的老公)',\n",
       "   'url': 'https://www.ptt.cc/bbs/Gossiping/M.1579682722.A.00A.html',\n",
       "   'count': 3},\n",
       "  {'author': 'ssss0960193 (帶土的老公)',\n",
       "   'url': 'https://www.ptt.cc/bbs/Gossiping/M.1579660302.A.DFA.html',\n",
       "   'count': 6}],\n",
       " '42.73.162.36': [{'author': \"Rogerisme (I'm Roger)\",\n",
       "   'url': 'https://www.ptt.cc/bbs/Gossiping/M.1579682724.A.E97.html',\n",
       "   'count': 5},\n",
       "  {'author': \"Rogerisme (I'm Roger)\",\n",
       "   'url': 'https://www.ptt.cc/bbs/Gossiping/M.1579657398.A.827.html',\n",
       "   'count': 3}],\n",
       " '223.140.51.70': [{'author': 'billy3321 (雨蒼)',\n",
       "   'url': 'https://www.ptt.cc/bbs/Gossiping/M.1579682734.A.130.html',\n",
       "   'count': 3}],\n",
       " '101.13.218.117': [{'author': 'karta1992560 (kb legend)',\n",
       "   'url': 'https://www.ptt.cc/bbs/Gossiping/M.1579682779.A.291.html',\n",
       "   'count': 3}],\n",
       " '49.216.49.87': [{'author': 'pennyleo (今朝有酒今朝醉)',\n",
       "   'url': 'https://www.ptt.cc/bbs/Gossiping/M.1579682892.A.113.html',\n",
       "   'count': 3}],\n",
       " '111.71.121.161': [{'author': 'panzer1224 (panzer1224)',\n",
       "   'url': 'https://www.ptt.cc/bbs/Gossiping/M.1579682892.A.CB8.html',\n",
       "   'count': 3},\n",
       "  {'author': 'panzer1224 (panzer1224)',\n",
       "   'url': 'https://www.ptt.cc/bbs/Gossiping/M.1579657675.A.8B9.html',\n",
       "   'count': 3}],\n",
       " '101.12.10.121': [{'author': 'gtrexh ()',\n",
       "   'url': 'https://www.ptt.cc/bbs/Gossiping/M.1579682923.A.A61.html',\n",
       "   'count': 3}],\n",
       " '101.12.66.132': [{'author': 'funasake ()',\n",
       "   'url': 'https://www.ptt.cc/bbs/Gossiping/M.1579682941.A.857.html',\n",
       "   'count': 3}],\n",
       " '114.32.239.143': [{'author': 'SuperSg (○(#‵ ︿′ㄨ)○森77)',\n",
       "   'url': 'https://www.ptt.cc/bbs/Gossiping/M.1579682977.A.240.html',\n",
       "   'count': 3}],\n",
       " '115.43.36.79': [{'author': 'PanaS0Nic (騙納索零客)',\n",
       "   'url': 'https://www.ptt.cc/bbs/Gossiping/M.1579682986.A.BA1.html',\n",
       "   'count': 3},\n",
       "  {'author': 'PanaS0Nic (騙納索零客)',\n",
       "   'url': 'https://www.ptt.cc/bbs/Gossiping/M.1579660203.A.9EA.html',\n",
       "   'count': 4},\n",
       "  {'author': 'PanaS0Nic (騙納索零客)',\n",
       "   'url': 'https://www.ptt.cc/bbs/Gossiping/M.1579655346.A.8A8.html',\n",
       "   'count': 3}],\n",
       " '180.217.157.91': [{'author': 'mathbug (天堂的定義)',\n",
       "   'url': 'https://www.ptt.cc/bbs/Gossiping/M.1579681231.A.471.html',\n",
       "   'count': 3},\n",
       "  {'author': 'mathbug (天堂的定義)',\n",
       "   'url': 'https://www.ptt.cc/bbs/Gossiping/M.1579653120.A.5FB.html',\n",
       "   'count': 3}],\n",
       " '73.202.83.200': [{'author': 'Napoleon (無)',\n",
       "   'url': 'https://www.ptt.cc/bbs/Gossiping/M.1579681400.A.6EC.html',\n",
       "   'count': 5}],\n",
       " '220.135.250.161': [{'author': 'GYLin (GYLin)',\n",
       "   'url': 'https://www.ptt.cc/bbs/Gossiping/M.1579681453.A.2A7.html',\n",
       "   'count': 3}],\n",
       " '39.9.132.7': [{'author': 'jordanlove (LakersNYY)',\n",
       "   'url': 'https://www.ptt.cc/bbs/Gossiping/M.1579681553.A.98D.html',\n",
       "   'count': 3}],\n",
       " '39.10.158.40': [{'author': 'a210510 (嗚嗚~)',\n",
       "   'url': 'https://www.ptt.cc/bbs/Gossiping/M.1579681576.A.1AF.html',\n",
       "   'count': 3},\n",
       "  {'author': 'a210510 (嗚嗚~)',\n",
       "   'url': 'https://www.ptt.cc/bbs/Gossiping/M.1579674153.A.4CF.html',\n",
       "   'count': 3}],\n",
       " '36.229.28.178': [{'author': 'kopuck (派翠克星星)',\n",
       "   'url': 'https://www.ptt.cc/bbs/Gossiping/M.1579681658.A.C41.html',\n",
       "   'count': 3},\n",
       "  {'author': 'kopuck (派翠克星星)',\n",
       "   'url': 'https://www.ptt.cc/bbs/Gossiping/M.1579666565.A.8F3.html',\n",
       "   'count': 3}],\n",
       " '58.158.213.18': [{'author': 'justice00s (The Black Swordsman)',\n",
       "   'url': 'https://www.ptt.cc/bbs/Gossiping/M.1579681703.A.5E1.html',\n",
       "   'count': 4}],\n",
       " '223.137.130.250': [{'author': 'sonja66325 (媽我終於過喇)',\n",
       "   'url': 'https://www.ptt.cc/bbs/Gossiping/M.1579681713.A.264.html',\n",
       "   'count': 3}],\n",
       " '42.76.164.73': [{'author': 'odd5566 (歐底迪)',\n",
       "   'url': 'https://www.ptt.cc/bbs/Gossiping/M.1579681753.A.131.html',\n",
       "   'count': 3}],\n",
       " '101.136.96.6': [{'author': 'wegoliving (HYSTERIC)',\n",
       "   'url': 'https://www.ptt.cc/bbs/Gossiping/M.1579681839.A.159.html',\n",
       "   'count': 3}],\n",
       " '45.10.82.48': [{'author': 'ununnihao (安安你好)',\n",
       "   'url': 'https://www.ptt.cc/bbs/Gossiping/M.1579681856.A.BDB.html',\n",
       "   'count': 4},\n",
       "  {'author': 'ununnihao (安安你好)',\n",
       "   'url': 'https://www.ptt.cc/bbs/Gossiping/M.1579673830.A.95F.html',\n",
       "   'count': 4}],\n",
       " '117.19.225.126': [{'author': 'bbnewuser (越南台勞in Saigon)',\n",
       "   'url': 'https://www.ptt.cc/bbs/Gossiping/M.1579681863.A.EA5.html',\n",
       "   'count': 3}],\n",
       " '114.37.242.36': [{'author': 'EnochJ (渡情)',\n",
       "   'url': 'https://www.ptt.cc/bbs/Gossiping/M.1579681932.A.AA4.html',\n",
       "   'count': 3}],\n",
       " '172.105.72.74': [{'author': 'moshenisshit (嘻嘻)',\n",
       "   'url': 'https://www.ptt.cc/bbs/Gossiping/M.1579681932.A.B41.html',\n",
       "   'count': 5}],\n",
       " '111.241.220.57': [{'author': 'hn9480412 (ilinker)',\n",
       "   'url': 'https://www.ptt.cc/bbs/Gossiping/M.1579681933.A.35B.html',\n",
       "   'count': 3}],\n",
       " '114.45.74.55': [{'author': 'y1896547 (民進黨=綠色國民黨)',\n",
       "   'url': 'https://www.ptt.cc/bbs/Gossiping/M.1579681944.A.EE7.html',\n",
       "   'count': 5}],\n",
       " '220.134.203.48': [{'author': 'R101 (索尼大法好)',\n",
       "   'url': 'https://www.ptt.cc/bbs/Gossiping/M.1579681946.A.2CF.html',\n",
       "   'count': 3}],\n",
       " '61.231.17.118': [{'author': 'leopika (萊奧˙波卡)',\n",
       "   'url': 'https://www.ptt.cc/bbs/Gossiping/M.1579681961.A.8D2.html',\n",
       "   'count': 4},\n",
       "  {'author': 'leopika (萊奧˙波卡)',\n",
       "   'url': 'https://www.ptt.cc/bbs/Gossiping/M.1579667957.A.4E1.html',\n",
       "   'count': 3}],\n",
       " '202.39.33.67': [{'author': 'yabia (*~亞比醬~*)',\n",
       "   'url': 'https://www.ptt.cc/bbs/Gossiping/M.1579682040.A.3B2.html',\n",
       "   'count': 4}],\n",
       " '111.82.75.108': [{'author': 'sweet79731 ()',\n",
       "   'url': 'https://www.ptt.cc/bbs/Gossiping/M.1579679963.A.CFB.html',\n",
       "   'count': 3}],\n",
       " '101.14.134.3': [{'author': 'hayatoman (小小的改變是,成功的開始)',\n",
       "   'url': 'https://www.ptt.cc/bbs/Gossiping/M.1579679979.A.F11.html',\n",
       "   'count': 3}],\n",
       " '101.8.231.94': [{'author': 'zxc2331189 (阿拉花瓜)',\n",
       "   'url': 'https://www.ptt.cc/bbs/Gossiping/M.1579679991.A.852.html',\n",
       "   'count': 3},\n",
       "  {'author': 'zxc2331189 (阿拉花瓜)',\n",
       "   'url': 'https://www.ptt.cc/bbs/Gossiping/M.1579677910.A.F80.html',\n",
       "   'count': 4}],\n",
       " '111.246.149.98': [{'author': 'chosenone (獲選者)',\n",
       "   'url': 'https://www.ptt.cc/bbs/Gossiping/M.1579680043.A.E3D.html',\n",
       "   'count': 4}],\n",
       " '183.198.154.133': [{'author': 'longyin (龍吟很難嗎？為什麼)',\n",
       "   'url': 'https://www.ptt.cc/bbs/Gossiping/M.1579680076.A.E99.html',\n",
       "   'count': 3},\n",
       "  {'author': 'longyin (龍吟很難嗎？為什麼)',\n",
       "   'url': 'https://www.ptt.cc/bbs/Gossiping/M.1579661172.A.9BF.html',\n",
       "   'count': 3}],\n",
       " '123.240.48.242': [{'author': 'sweat992001 (小樽)',\n",
       "   'url': 'https://www.ptt.cc/bbs/Gossiping/M.1579680192.A.2C2.html',\n",
       "   'count': 5}],\n",
       " '39.11.160.232': [{'author': 'f17690815 (我恨陣頭)',\n",
       "   'url': 'https://www.ptt.cc/bbs/Gossiping/M.1579680216.A.2C9.html',\n",
       "   'count': 3}],\n",
       " '111.246.126.42': [{'author': 'dick20018158 (館吹)',\n",
       "   'url': 'https://www.ptt.cc/bbs/Gossiping/M.1579680443.A.579.html',\n",
       "   'count': 3}],\n",
       " '42.77.51.182': [{'author': 'z14725 (Michael83878653)',\n",
       "   'url': 'https://www.ptt.cc/bbs/Gossiping/M.1579680517.A.03B.html',\n",
       "   'count': 3}],\n",
       " '122.116.48.65': [{'author': 'nacy204327 (♥～超可愛✡小南C～♥)',\n",
       "   'url': 'https://www.ptt.cc/bbs/Gossiping/M.1579680591.A.413.html',\n",
       "   'count': 6}],\n",
       " '76.218.62.40': [{'author': 'nogoodlaugh (KG is back!!)',\n",
       "   'url': 'https://www.ptt.cc/bbs/Gossiping/M.1579680719.A.4BC.html',\n",
       "   'count': 3}],\n",
       " '1.174.1.105': [{'author': 'wang111283 (wang111283)',\n",
       "   'url': 'https://www.ptt.cc/bbs/Gossiping/M.1579680786.A.371.html',\n",
       "   'count': 3}],\n",
       " '101.13.195.20': [{'author': 'k44754 (9527)',\n",
       "   'url': 'https://www.ptt.cc/bbs/Gossiping/M.1579680854.A.364.html',\n",
       "   'count': 3},\n",
       "  {'author': 'k44754 (9527)',\n",
       "   'url': 'https://www.ptt.cc/bbs/Gossiping/M.1579679826.A.4C1.html',\n",
       "   'count': 3}],\n",
       " '118.166.121.170': [{'author': 'a874622 (流浪者)',\n",
       "   'url': 'https://www.ptt.cc/bbs/Gossiping/M.1579680878.A.184.html',\n",
       "   'count': 3},\n",
       "  {'author': 'a874622 (流浪者)',\n",
       "   'url': 'https://www.ptt.cc/bbs/Gossiping/M.1579677084.A.8BB.html',\n",
       "   'count': 6}],\n",
       " '59.126.50.163': [{'author': 'wolver (超級大變態)',\n",
       "   'url': 'https://www.ptt.cc/bbs/Gossiping/M.1579681008.A.7C5.html',\n",
       "   'count': 5},\n",
       "  {'author': 'wolver (超級大變態)',\n",
       "   'url': 'https://www.ptt.cc/bbs/Gossiping/M.1579676652.A.C9F.html',\n",
       "   'count': 4},\n",
       "  {'author': 'wolver (超級大變態)',\n",
       "   'url': 'https://www.ptt.cc/bbs/Gossiping/M.1579672651.A.9FE.html',\n",
       "   'count': 3}],\n",
       " '42.72.107.109': [{'author': 'photoB1N (..)',\n",
       "   'url': 'https://www.ptt.cc/bbs/Gossiping/M.1579681056.A.C40.html',\n",
       "   'count': 3}],\n",
       " '61.230.140.186': [{'author': 'bigbowl ( Gathering Storm。)',\n",
       "   'url': 'https://www.ptt.cc/bbs/Gossiping/M.1579679230.A.C75.html',\n",
       "   'count': 3}],\n",
       " '101.14.214.52': [{'author': 'kuosos520 (kkk)',\n",
       "   'url': 'https://www.ptt.cc/bbs/Gossiping/M.1579679233.A.28E.html',\n",
       "   'count': 3}],\n",
       " '27.247.72.146': [{'author': 'mikiup0321 (龍霸)',\n",
       "   'url': 'https://www.ptt.cc/bbs/Gossiping/M.1579679241.A.290.html',\n",
       "   'count': 3},\n",
       "  {'author': 'mikiup0321 (龍霸)',\n",
       "   'url': 'https://www.ptt.cc/bbs/Gossiping/M.1579673129.A.F10.html',\n",
       "   'count': 3}],\n",
       " '1.174.42.81': [{'author': 'iammatrix ()',\n",
       "   'url': 'https://www.ptt.cc/bbs/Gossiping/M.1579679241.A.350.html',\n",
       "   'count': 6}],\n",
       " '27.246.231.160': [{'author': 'FanFan123 (梵梵)',\n",
       "   'url': 'https://www.ptt.cc/bbs/Gossiping/M.1579679254.A.2DE.html',\n",
       "   'count': 3}],\n",
       " '223.141.1.75': [{'author': 'qwer1988 (白獅)',\n",
       "   'url': 'https://www.ptt.cc/bbs/Gossiping/M.1579679284.A.E73.html',\n",
       "   'count': 3}],\n",
       " '36.233.53.161': [{'author': 'joug (好東西不簽嗎)',\n",
       "   'url': 'https://www.ptt.cc/bbs/Gossiping/M.1579679347.A.060.html',\n",
       "   'count': 3}],\n",
       " '1.173.36.133': [{'author': 'AntiCompete (PapaOfAntiComeprtitive)',\n",
       "   'url': 'https://www.ptt.cc/bbs/Gossiping/M.1579679363.A.0E8.html',\n",
       "   'count': 3}],\n",
       " '39.10.163.79': [{'author': 'QnxQn (抹茶冰淇淋)',\n",
       "   'url': 'https://www.ptt.cc/bbs/Gossiping/M.1579679371.A.EF9.html',\n",
       "   'count': 3}],\n",
       " '115.164.181.221': [{'author': 'voohong (fat nerd)',\n",
       "   'url': 'https://www.ptt.cc/bbs/Gossiping/M.1579679419.A.FEF.html',\n",
       "   'count': 3}],\n",
       " '220.136.212.66': [{'author': 'CarisLeVert (Caris)',\n",
       "   'url': 'https://www.ptt.cc/bbs/Gossiping/M.1579679548.A.4F8.html',\n",
       "   'count': 3}],\n",
       " '111.82.226.132': [{'author': 'br06 (烤聲)',\n",
       "   'url': 'https://www.ptt.cc/bbs/Gossiping/M.1579679565.A.F4C.html',\n",
       "   'count': 5}],\n",
       " '39.11.199.25': [{'author': 'chenxx (姆姆波波)',\n",
       "   'url': 'https://www.ptt.cc/bbs/Gossiping/M.1579679579.A.DD5.html',\n",
       "   'count': 3}],\n",
       " '61.228.157.154': [{'author': 'phew18 (休士頓)',\n",
       "   'url': 'https://www.ptt.cc/bbs/Gossiping/M.1579679622.A.331.html',\n",
       "   'count': 3}],\n",
       " '1.168.18.221': [{'author': 'power802762 (B.C.)',\n",
       "   'url': 'https://www.ptt.cc/bbs/Gossiping/M.1579679663.A.FA0.html',\n",
       "   'count': 4}],\n",
       " '140.120.80.134': [{'author': 'Lyeuiechang (誠誠小屁孩)',\n",
       "   'url': 'https://www.ptt.cc/bbs/Gossiping/M.1579679738.A.814.html',\n",
       "   'count': 3}],\n",
       " '59.120.0.160': [{'author': 's001582000 (洨軒)',\n",
       "   'url': 'https://www.ptt.cc/bbs/Gossiping/M.1579679762.A.C60.html',\n",
       "   'count': 3}],\n",
       " '101.13.232.126': [{'author': 'a520 (520)',\n",
       "   'url': 'https://www.ptt.cc/bbs/Gossiping/M.1579679844.A.AB9.html',\n",
       "   'count': 4},\n",
       "  {'author': 'a520 (520)',\n",
       "   'url': 'https://www.ptt.cc/bbs/Gossiping/M.1579663936.A.A43.html',\n",
       "   'count': 3}],\n",
       " '49.216.102.188': [{'author': 'glthe1 (姆咪教-金毛獅王)',\n",
       "   'url': 'https://www.ptt.cc/bbs/Gossiping/M.1579679929.A.CB9.html',\n",
       "   'count': 3}],\n",
       " '114.136.247.169': [{'author': 'somebody01 (I can make it！)',\n",
       "   'url': 'https://www.ptt.cc/bbs/Gossiping/M.1579677966.A.A14.html',\n",
       "   'count': 3}],\n",
       " '42.76.19.113': [{'author': 'HoterLin (白袍清道夫)',\n",
       "   'url': 'https://www.ptt.cc/bbs/Gossiping/M.1579678287.A.704.html',\n",
       "   'count': 3}],\n",
       " '42.77.6.110': [{'author': 'douCai (D能統粉)',\n",
       "   'url': 'https://www.ptt.cc/bbs/Gossiping/M.1579678486.A.EC0.html',\n",
       "   'count': 3}],\n",
       " '123.204.19.183': [{'author': 'kid725 (凱道基德)',\n",
       "   'url': 'https://www.ptt.cc/bbs/Gossiping/M.1579678663.A.BD4.html',\n",
       "   'count': 8}],\n",
       " '27.247.134.7': [{'author': 'jerry0604321 ()',\n",
       "   'url': 'https://www.ptt.cc/bbs/Gossiping/M.1579678703.A.812.html',\n",
       "   'count': 3}],\n",
       " '111.242.90.239': [{'author': 'ericisfish (台中李宗瑞)',\n",
       "   'url': 'https://www.ptt.cc/bbs/Gossiping/M.1579678804.A.323.html',\n",
       "   'count': 3},\n",
       "  {'author': 'ericisfish (台中李宗瑞)',\n",
       "   'url': 'https://www.ptt.cc/bbs/Gossiping/M.1579667450.A.2F1.html',\n",
       "   'count': 5},\n",
       "  {'author': 'ericisfish (台中李宗瑞)',\n",
       "   'url': 'https://www.ptt.cc/bbs/Gossiping/M.1579661445.A.89B.html',\n",
       "   'count': 3},\n",
       "  {'author': 'ericisfish (台中李宗瑞)',\n",
       "   'url': 'https://www.ptt.cc/bbs/Gossiping/M.1579656693.A.7EF.html',\n",
       "   'count': 3}],\n",
       " '129.104.210.109': [{'author': 'pinner (滅。驅蚊大師)',\n",
       "   'url': 'https://www.ptt.cc/bbs/Gossiping/M.1579678893.A.AA4.html',\n",
       "   'count': 3}],\n",
       " '61.218.32.50': [{'author': 'TName (真相就是指路燈 時間到了)',\n",
       "   'url': 'https://www.ptt.cc/bbs/Gossiping/M.1579678960.A.23B.html',\n",
       "   'count': 3}],\n",
       " '42.75.51.31': [{'author': 'david0426 (軒軒寶貝)',\n",
       "   'url': 'https://www.ptt.cc/bbs/Gossiping/M.1579679046.A.6C0.html',\n",
       "   'count': 3}],\n",
       " '125.230.163.221': [{'author': 'pilimovies (肛肛 你看不到筍筍嗎?)',\n",
       "   'url': 'https://www.ptt.cc/bbs/Gossiping/M.1579679058.A.0BD.html',\n",
       "   'count': 3},\n",
       "  {'author': 'pilimovies (肛肛 你看不到筍筍嗎?)',\n",
       "   'url': 'https://www.ptt.cc/bbs/Gossiping/M.1579676346.A.FB2.html',\n",
       "   'count': 3}],\n",
       " '59.115.235.72': [{'author': 'zzyyxx77 (討噓大師77)',\n",
       "   'url': 'https://www.ptt.cc/bbs/Gossiping/M.1579679085.A.F0B.html',\n",
       "   'count': 3}],\n",
       " '125.227.169.174': [{'author': 'bebehome (bebehome)',\n",
       "   'url': 'https://www.ptt.cc/bbs/Gossiping/M.1579679099.A.252.html',\n",
       "   'count': 3}],\n",
       " '223.140.135.18': [{'author': 'chen338 (Royal)',\n",
       "   'url': 'https://www.ptt.cc/bbs/Gossiping/M.1579679145.A.316.html',\n",
       "   'count': 3}],\n",
       " '42.76.192.175': [{'author': 'sqin (學店企鵝姆咪)',\n",
       "   'url': 'https://www.ptt.cc/bbs/Gossiping/M.1579679166.A.C90.html',\n",
       "   'count': 3},\n",
       "  {'author': 'sqin (學店企鵝橘子)',\n",
       "   'url': 'https://www.ptt.cc/bbs/Gossiping/M.1579670008.A.038.html',\n",
       "   'count': 3}],\n",
       " '111.71.55.72': [{'author': 'zxc8424 ()',\n",
       "   'url': 'https://www.ptt.cc/bbs/Gossiping/M.1579676809.A.FA2.html',\n",
       "   'count': 3}],\n",
       " '39.11.198.83': [{'author': 'chemfafa (化工肥肥)',\n",
       "   'url': 'https://www.ptt.cc/bbs/Gossiping/M.1579676819.A.F26.html',\n",
       "   'count': 3}],\n",
       " '122.190.172.72': [{'author': 'ilofyou (山雞)',\n",
       "   'url': 'https://www.ptt.cc/bbs/Gossiping/M.1579677132.A.5EB.html',\n",
       "   'count': 3}],\n",
       " '61.216.88.127': [{'author': 'sober716 (像大樹一樣高)',\n",
       "   'url': 'https://www.ptt.cc/bbs/Gossiping/M.1579677166.A.62B.html',\n",
       "   'count': 3},\n",
       "  {'author': 'sober716 (像大樹一樣高)',\n",
       "   'url': 'https://www.ptt.cc/bbs/Gossiping/M.1579664781.A.352.html',\n",
       "   'count': 3}],\n",
       " '27.246.167.130': [{'author': 'benny723 (嗨嗨)',\n",
       "   'url': 'https://www.ptt.cc/bbs/Gossiping/M.1579677197.A.E4B.html',\n",
       "   'count': 3}],\n",
       " '114.24.94.223': [{'author': 'john5380 ()',\n",
       "   'url': 'https://www.ptt.cc/bbs/Gossiping/M.1579677285.A.AA9.html',\n",
       "   'count': 3}],\n",
       " '101.12.57.183': [{'author': 'derekhsu (華麗的天下無雙)',\n",
       "   'url': 'https://www.ptt.cc/bbs/Gossiping/M.1579677295.A.E2D.html',\n",
       "   'count': 3}],\n",
       " '123.194.22.137': [{'author': 'lycs0908 (岳岳)',\n",
       "   'url': 'https://www.ptt.cc/bbs/Gossiping/M.1579677325.A.475.html',\n",
       "   'count': 3}],\n",
       " '101.14.200.238': [{'author': 'zhahu (柵湖俠)',\n",
       "   'url': 'https://www.ptt.cc/bbs/Gossiping/M.1579677358.A.CBE.html',\n",
       "   'count': 3}],\n",
       " '60.248.115.247': [{'author': 'bad5428 (壞叔叔)',\n",
       "   'url': 'https://www.ptt.cc/bbs/Gossiping/M.1579677368.A.A18.html',\n",
       "   'count': 3}],\n",
       " '27.247.0.236': [{'author': 'PeterHenson (尋找布宜諾斯艾利斯)',\n",
       "   'url': 'https://www.ptt.cc/bbs/Gossiping/M.1579677430.A.B88.html',\n",
       "   'count': 7}],\n",
       " '223.138.252.207': [{'author': 'seuil (               )',\n",
       "   'url': 'https://www.ptt.cc/bbs/Gossiping/M.1579677476.A.4FC.html',\n",
       "   'count': 4}],\n",
       " '49.216.47.71': [{'author': 'JapanEmperor (令和天皇)',\n",
       "   'url': 'https://www.ptt.cc/bbs/Gossiping/M.1579677543.A.643.html',\n",
       "   'count': 5},\n",
       "  {'author': 'JapanEmperor (令和天皇)',\n",
       "   'url': 'https://www.ptt.cc/bbs/Gossiping/M.1579669795.A.93A.html',\n",
       "   'count': 3},\n",
       "  {'author': 'JapanEmperor (令和天皇)',\n",
       "   'url': 'https://www.ptt.cc/bbs/Gossiping/M.1579668725.A.B76.html',\n",
       "   'count': 3}],\n",
       " '61.220.51.98': [{'author': 'deann (古美門上身)',\n",
       "   'url': 'https://www.ptt.cc/bbs/Gossiping/M.1579677598.A.862.html',\n",
       "   'count': 7}],\n",
       " '61.57.127.237': [{'author': 'CKTSO (小根君)',\n",
       "   'url': 'https://www.ptt.cc/bbs/Gossiping/M.1579677654.A.FFA.html',\n",
       "   'count': 3}],\n",
       " '42.72.185.32': [{'author': 'windfin (windfin)',\n",
       "   'url': 'https://www.ptt.cc/bbs/Gossiping/M.1579677721.A.D87.html',\n",
       "   'count': 3}],\n",
       " '223.137.140.136': [{'author': 'ILike58 (小菊花)',\n",
       "   'url': 'https://www.ptt.cc/bbs/Gossiping/M.1579677766.A.669.html',\n",
       "   'count': 3}],\n",
       " '101.14.169.213': [{'author': 'hmt17 (Popo:(bﾟ▽ﾟ)b)',\n",
       "   'url': 'https://www.ptt.cc/bbs/Gossiping/M.1579677768.A.289.html',\n",
       "   'count': 3}],\n",
       " '42.74.61.22': [{'author': 'a6234709 (矮醜魯肥宅之代言人)',\n",
       "   'url': 'https://www.ptt.cc/bbs/Gossiping/M.1579677821.A.55C.html',\n",
       "   'count': 3}],\n",
       " '110.50.134.205': [{'author': 'tobetwob ()',\n",
       "   'url': 'https://www.ptt.cc/bbs/Gossiping/M.1579676021.A.5CF.html',\n",
       "   'count': 4}],\n",
       " '123.194.16.146': [{'author': 'dzwei (int* arr, size_t length)',\n",
       "   'url': 'https://www.ptt.cc/bbs/Gossiping/M.1579676124.A.85F.html',\n",
       "   'count': 3},\n",
       "  {'author': 'dzwei (int* arr, size_t length)',\n",
       "   'url': 'https://www.ptt.cc/bbs/Gossiping/M.1579675082.A.004.html',\n",
       "   'count': 3}],\n",
       " '114.44.81.222': [{'author': 'aftercome86 (竹炭)',\n",
       "   'url': 'https://www.ptt.cc/bbs/Gossiping/M.1579676166.A.9F3.html',\n",
       "   'count': 4}],\n",
       " '128.199.77.92': [{'author': 'noonecare (新手駕駛)',\n",
       "   'url': 'https://www.ptt.cc/bbs/Gossiping/M.1579676168.A.B70.html',\n",
       "   'count': 5},\n",
       "  {'author': 'noonecare (新手駕駛)',\n",
       "   'url': 'https://www.ptt.cc/bbs/Gossiping/M.1579675552.A.5E6.html',\n",
       "   'count': 4},\n",
       "  {'author': 'noonecare (新手駕駛)',\n",
       "   'url': 'https://www.ptt.cc/bbs/Gossiping/M.1579663677.A.4A8.html',\n",
       "   'count': 3},\n",
       "  {'author': 'noonecare (新手駕駛)',\n",
       "   'url': 'https://www.ptt.cc/bbs/Gossiping/M.1579661556.A.15E.html',\n",
       "   'count': 3}],\n",
       " '223.136.139.82': [{'author': 'hoyumi (正版型男...無誤!!!)',\n",
       "   'url': 'https://www.ptt.cc/bbs/Gossiping/M.1579676202.A.FB0.html',\n",
       "   'count': 3},\n",
       "  {'author': 'hoyumi (正版型男...無誤!!!)',\n",
       "   'url': 'https://www.ptt.cc/bbs/Gossiping/M.1579664242.A.81D.html',\n",
       "   'count': 3}],\n",
       " '36.229.83.213': [{'author': 'TS28 (Explosion!!)',\n",
       "   'url': 'https://www.ptt.cc/bbs/Gossiping/M.1579676219.A.E3C.html',\n",
       "   'count': 3},\n",
       "  {'author': 'TS28 (Explosion!!)',\n",
       "   'url': 'https://www.ptt.cc/bbs/Gossiping/M.1579672373.A.DA7.html',\n",
       "   'count': 3}],\n",
       " '114.47.98.2': [{'author': 'tetani (喵喵)',\n",
       "   'url': 'https://www.ptt.cc/bbs/Gossiping/M.1579676233.A.27E.html',\n",
       "   'count': 3}],\n",
       " '36.231.22.174': [{'author': 'vntlu ()',\n",
       "   'url': 'https://www.ptt.cc/bbs/Gossiping/M.1579676357.A.B30.html',\n",
       "   'count': 3}],\n",
       " '223.136.168.66': [{'author': 'ig49999 (SS)',\n",
       "   'url': 'https://www.ptt.cc/bbs/Gossiping/M.1579676396.A.7D6.html',\n",
       "   'count': 3},\n",
       "  {'author': 'ig49999 (SS)',\n",
       "   'url': 'https://www.ptt.cc/bbs/Gossiping/M.1579672605.A.817.html',\n",
       "   'count': 3}],\n",
       " '1.163.171.96': [{'author': 'IronCube (吃飽就要大便)',\n",
       "   'url': 'https://www.ptt.cc/bbs/Gossiping/M.1579676498.A.121.html',\n",
       "   'count': 6},\n",
       "  {'author': 'IronCube (吃飽就要大便)',\n",
       "   'url': 'https://www.ptt.cc/bbs/Gossiping/M.1579661650.A.3C3.html',\n",
       "   'count': 5}],\n",
       " '36.233.33.235': [{'author': 'oooo (法性本寂隨緣轉)',\n",
       "   'url': 'https://www.ptt.cc/bbs/Gossiping/M.1579676535.A.C14.html',\n",
       "   'count': 3}],\n",
       " '114.136.187.96': [{'author': 'tusna08124 (白飯七個月)',\n",
       "   'url': 'https://www.ptt.cc/bbs/Gossiping/M.1579676537.A.05C.html',\n",
       "   'count': 3}],\n",
       " '117.56.188.103': [{'author': 'vikk33 (vikk33)',\n",
       "   'url': 'https://www.ptt.cc/bbs/Gossiping/M.1579676605.A.0E0.html',\n",
       "   'count': 3},\n",
       "  {'author': 'vikk33 (vikk33)',\n",
       "   'url': 'https://www.ptt.cc/bbs/Gossiping/M.1579670202.A.4C4.html',\n",
       "   'count': 4},\n",
       "  {'author': 'vikk33 (vikk33)',\n",
       "   'url': 'https://www.ptt.cc/bbs/Gossiping/M.1579670657.A.DC2.html',\n",
       "   'count': 3}],\n",
       " '49.159.152.188': [{'author': 'linisthebest (2RINGS)',\n",
       "   'url': 'https://www.ptt.cc/bbs/Gossiping/M.1579676632.A.F50.html',\n",
       "   'count': 3}],\n",
       " '42.72.244.76': [{'author': 'qweasdzzx (體之35%醜肥宅)',\n",
       "   'url': 'https://www.ptt.cc/bbs/Gossiping/M.1579676665.A.E19.html',\n",
       "   'count': 3}],\n",
       " '223.136.229.17': [{'author': 'ilw4e (可以吃嗎？)',\n",
       "   'url': 'https://www.ptt.cc/bbs/Gossiping/M.1579676715.A.E6A.html',\n",
       "   'count': 3},\n",
       "  {'author': 'ilw4e (可以吃嗎？)',\n",
       "   'url': 'https://www.ptt.cc/bbs/Gossiping/M.1579675482.A.332.html',\n",
       "   'count': 4},\n",
       "  {'author': 'ilw4e (可以吃嗎？)',\n",
       "   'url': 'https://www.ptt.cc/bbs/Gossiping/M.1579673487.A.47E.html',\n",
       "   'count': 3},\n",
       "  {'author': 'ilw4e (可以吃嗎？)',\n",
       "   'url': 'https://www.ptt.cc/bbs/Gossiping/M.1579669418.A.FA7.html',\n",
       "   'count': 4}],\n",
       " '61.216.132.80': [{'author': 'st797912 (般若波羅蜜)',\n",
       "   'url': 'https://www.ptt.cc/bbs/Gossiping/M.1579676783.A.75F.html',\n",
       "   'count': 3}],\n",
       " '223.136.126.43': [{'author': 'luchiahui (vivi)',\n",
       "   'url': 'https://www.ptt.cc/bbs/Gossiping/M.1579675171.A.6F3.html',\n",
       "   'count': 3},\n",
       "  {'author': 'luchiahui (vivi)',\n",
       "   'url': 'https://www.ptt.cc/bbs/Gossiping/M.1579664209.A.E0D.html',\n",
       "   'count': 3}],\n",
       " '140.112.151.131': [{'author': 'FlyinDance56 (↖★煞氣a輕舞飛揚☆↘ )',\n",
       "   'url': 'https://www.ptt.cc/bbs/Gossiping/M.1579675272.A.E0E.html',\n",
       "   'count': 3}],\n",
       " '124.218.69.218': [{'author': 'teresa8217 (TC)',\n",
       "   'url': 'https://www.ptt.cc/bbs/Gossiping/M.1579675274.A.F47.html',\n",
       "   'count': 3}],\n",
       " '39.8.158.23': [{'author': 'zeuswell (豆腐の角にぶつけて死ね)',\n",
       "   'url': 'https://www.ptt.cc/bbs/Gossiping/M.1579675387.A.2C2.html',\n",
       "   'count': 3}],\n",
       " '1.161.169.140': [{'author': 'leo841102 (7788yaya)',\n",
       "   'url': 'https://www.ptt.cc/bbs/Gossiping/M.1579675405.A.65B.html',\n",
       "   'count': 3}],\n",
       " '180.217.185.0': [{'author': 'max853211 (MaxmAX)',\n",
       "   'url': 'https://www.ptt.cc/bbs/Gossiping/M.1579675409.A.E43.html',\n",
       "   'count': 3}],\n",
       " '114.45.130.91': [{'author': 'ebod221 (ebod221)',\n",
       "   'url': 'https://www.ptt.cc/bbs/Gossiping/M.1579675463.A.890.html',\n",
       "   'count': 3}],\n",
       " '223.136.141.141': [{'author': 'terry1020 (中二病)',\n",
       "   'url': 'https://www.ptt.cc/bbs/Gossiping/M.1579675595.A.411.html',\n",
       "   'count': 3}],\n",
       " '111.83.43.188': [{'author': 'iphone15 (哀鳳15)',\n",
       "   'url': 'https://www.ptt.cc/bbs/Gossiping/M.1579675676.A.067.html',\n",
       "   'count': 3}],\n",
       " '42.76.146.162': [{'author': \"peterlin495 (專業果粉O'_'O)\",\n",
       "   'url': 'https://www.ptt.cc/bbs/Gossiping/M.1579675857.A.535.html',\n",
       "   'count': 3},\n",
       "  {'author': \"peterlin495 (專業果粉O'_'O)\",\n",
       "   'url': 'https://www.ptt.cc/bbs/Gossiping/M.1579675024.A.793.html',\n",
       "   'count': 5}],\n",
       " '111.250.102.198': [{'author': 'minifat (minifat)',\n",
       "   'url': 'https://www.ptt.cc/bbs/Gossiping/M.1579675928.A.77F.html',\n",
       "   'count': 3}],\n",
       " '223.138.210.116': [{'author': 'angryfatball (★上將潘鳳✩)',\n",
       "   'url': 'https://www.ptt.cc/bbs/Gossiping/M.1579675930.A.E85.html',\n",
       "   'count': 3}],\n",
       " '111.71.221.14': [{'author': 'xoxxo (xoxxo)',\n",
       "   'url': 'https://www.ptt.cc/bbs/Gossiping/M.1579675932.A.754.html',\n",
       "   'count': 3}],\n",
       " '123.192.124.248': [{'author': 'kenny468 (爬文好ㄇ？)',\n",
       "   'url': 'https://www.ptt.cc/bbs/Gossiping/M.1579675938.A.125.html',\n",
       "   'count': 5},\n",
       "  {'author': 'kenny468 (爬文好ㄇ？)',\n",
       "   'url': 'https://www.ptt.cc/bbs/Gossiping/M.1579673529.A.98C.html',\n",
       "   'count': 3}],\n",
       " '118.163.120.67': [{'author': 'dearevan (歸去，也無風雨也無晴)',\n",
       "   'url': 'https://www.ptt.cc/bbs/Gossiping/M.1579675991.A.01A.html',\n",
       "   'count': 5},\n",
       "  {'author': 'dearevan (歸去，也無風雨也無晴)',\n",
       "   'url': 'https://www.ptt.cc/bbs/Gossiping/M.1579664771.A.F59.html',\n",
       "   'count': 3},\n",
       "  {'author': 'dearevan (歸去，也無風雨也無晴)',\n",
       "   'url': 'https://www.ptt.cc/bbs/Gossiping/M.1579657164.A.40C.html',\n",
       "   'count': 3}],\n",
       " '49.219.129.92': [{'author': 'VVVV5555 (東興烏鴉-耀揚哥)',\n",
       "   'url': 'https://www.ptt.cc/bbs/Gossiping/M.1579675997.A.C05.html',\n",
       "   'count': 3}],\n",
       " '39.13.130.53': [{'author': 'yun54272 ()',\n",
       "   'url': 'https://www.ptt.cc/bbs/Gossiping/M.1579674142.A.E8E.html',\n",
       "   'count': 4}],\n",
       " '111.240.9.142': [{'author': 'Automaticmai (嗄嗄烏啦啦)',\n",
       "   'url': 'https://www.ptt.cc/bbs/Gossiping/M.1579674375.A.3E8.html',\n",
       "   'count': 3}],\n",
       " '42.74.115.206': [{'author': 'kuanfu (黑暗騎士)',\n",
       "   'url': 'https://www.ptt.cc/bbs/Gossiping/M.1579674461.A.A2F.html',\n",
       "   'count': 3}],\n",
       " '111.71.214.242': [{'author': 'IMCENTER (Grom)',\n",
       "   'url': 'https://www.ptt.cc/bbs/Gossiping/M.1579674463.A.424.html',\n",
       "   'count': 3},\n",
       "  {'author': 'IMCENTER (Grom)',\n",
       "   'url': 'https://www.ptt.cc/bbs/Gossiping/M.1579654367.A.FB3.html',\n",
       "   'count': 3}],\n",
       " '116.241.46.119': [{'author': 'sea130281 (都顯示帳號要暱稱幹嘛)',\n",
       "   'url': 'https://www.ptt.cc/bbs/Gossiping/M.1579674535.A.D0D.html',\n",
       "   'count': 3}],\n",
       " '114.136.101.120': [{'author': 'nanachi (上善若水)',\n",
       "   'url': 'https://www.ptt.cc/bbs/Gossiping/M.1579674544.A.810.html',\n",
       "   'count': 8}],\n",
       " '220.136.210.136': [{'author': 'ddgs (庫伯)',\n",
       "   'url': 'https://www.ptt.cc/bbs/Gossiping/M.1579674671.A.8F6.html',\n",
       "   'count': 3}],\n",
       " '1.200.206.205': [{'author': 'Neverfor (八卦蟑螂)',\n",
       "   'url': 'https://www.ptt.cc/bbs/Gossiping/M.1579674680.A.52B.html',\n",
       "   'count': 3}],\n",
       " '223.138.134.161': [{'author': 'KyrieIrving1 (King of New York)',\n",
       "   'url': 'https://www.ptt.cc/bbs/Gossiping/M.1579674780.A.A96.html',\n",
       "   'count': 3}],\n",
       " '8.39.127.182': [{'author': 'zi98btcc (幼斤)',\n",
       "   'url': 'https://www.ptt.cc/bbs/Gossiping/M.1579674901.A.C15.html',\n",
       "   'count': 4}],\n",
       " '114.27.32.118': [{'author': 'ASDF41514 ( mos)',\n",
       "   'url': 'https://www.ptt.cc/bbs/Gossiping/M.1579674927.A.BE4.html',\n",
       "   'count': 3}],\n",
       " '36.225.106.123': [{'author': 'design0606 (飛)',\n",
       "   'url': 'https://www.ptt.cc/bbs/Gossiping/M.1579674956.A.159.html',\n",
       "   'count': 3},\n",
       "  {'author': 'design0606 (飛)',\n",
       "   'url': 'https://www.ptt.cc/bbs/Gossiping/M.1579660328.A.E14.html',\n",
       "   'count': 3}],\n",
       " '36.231.156.56': [{'author': 'FakeGPS (一次就上手)',\n",
       "   'url': 'https://www.ptt.cc/bbs/Gossiping/M.1579675019.A.FB8.html',\n",
       "   'count': 3}],\n",
       " '223.140.57.142': [{'author': 'geoharmmer (地質錘)',\n",
       "   'url': 'https://www.ptt.cc/bbs/Gossiping/M.1579675069.A.CF1.html',\n",
       "   'count': 4}],\n",
       " '223.136.137.166': [{'author': 'fraser0136 (fraser)',\n",
       "   'url': 'https://www.ptt.cc/bbs/Gossiping/M.1579675072.A.4A4.html',\n",
       "   'count': 3}],\n",
       " '223.136.142.111': [{'author': 'ccyaztfe (best_troll_tw)',\n",
       "   'url': 'https://www.ptt.cc/bbs/Gossiping/M.1579675166.A.6C4.html',\n",
       "   'count': 4},\n",
       "  {'author': 'ccyaztfe (best_troll_tw)',\n",
       "   'url': 'https://www.ptt.cc/bbs/Gossiping/M.1579666573.A.403.html',\n",
       "   'count': 3}],\n",
       " '223.138.35.130': [{'author': 'alice137651 (雪花喵喵)',\n",
       "   'url': 'https://www.ptt.cc/bbs/Gossiping/M.1579673485.A.35C.html',\n",
       "   'count': 3}],\n",
       " '27.246.104.219': [{'author': 'GGBronze (DavidWang)',\n",
       "   'url': 'https://www.ptt.cc/bbs/Gossiping/M.1579673501.A.330.html',\n",
       "   'count': 3}],\n",
       " '27.246.100.96': [{'author': 'Bignana (天劍煙雨)',\n",
       "   'url': 'https://www.ptt.cc/bbs/Gossiping/M.1579673549.A.3AF.html',\n",
       "   'count': 6}],\n",
       " '42.73.207.163': [{'author': 'lnnall (lnnall)',\n",
       "   'url': 'https://www.ptt.cc/bbs/Gossiping/M.1579673565.A.A9D.html',\n",
       "   'count': 5}],\n",
       " '118.170.106.240': [{'author': 'oooo (法性本寂隨緣轉)',\n",
       "   'url': 'https://www.ptt.cc/bbs/Gossiping/M.1579673611.A.45E.html',\n",
       "   'count': 3}],\n",
       " '106.1.112.186': [{'author': 'elless (鬼島歌王廢慾清)',\n",
       "   'url': 'https://www.ptt.cc/bbs/Gossiping/M.1579673654.A.7FC.html',\n",
       "   'count': 3}],\n",
       " '101.136.38.23': [{'author': 'Rikako4650 (薇洛妮卡)',\n",
       "   'url': 'https://www.ptt.cc/bbs/Gossiping/M.1579673655.A.B2D.html',\n",
       "   'count': 5}],\n",
       " '114.137.145.48': [{'author': 'paulabxz123 (優文大師)',\n",
       "   'url': 'https://www.ptt.cc/bbs/Gossiping/M.1579673659.A.C0C.html',\n",
       "   'count': 3},\n",
       "  {'author': 'paulabxz123 (優文大師)',\n",
       "   'url': 'https://www.ptt.cc/bbs/Gossiping/M.1579671125.A.3B1.html',\n",
       "   'count': 3},\n",
       "  {'author': 'paulabxz123 (優文大師)',\n",
       "   'url': 'https://www.ptt.cc/bbs/Gossiping/M.1579668194.A.CAA.html',\n",
       "   'count': 3}],\n",
       " '110.50.179.49': [{'author': 'GhostFather (鬼父Oni Chichi)',\n",
       "   'url': 'https://www.ptt.cc/bbs/Gossiping/M.1579673761.A.A85.html',\n",
       "   'count': 3}],\n",
       " '1.162.24.223': [{'author': 'Wtaa (窩塔)',\n",
       "   'url': 'https://www.ptt.cc/bbs/Gossiping/M.1579673789.A.802.html',\n",
       "   'count': 4}],\n",
       " '1.160.40.217': [{'author': 'ILoveMegumin (中島小姐家裡的刻印蟲)',\n",
       "   'url': 'https://www.ptt.cc/bbs/Gossiping/M.1579673919.A.476.html',\n",
       "   'count': 3},\n",
       "  {'author': 'ILoveMegumin (中島小姐家裡的刻印蟲)',\n",
       "   'url': 'https://www.ptt.cc/bbs/Gossiping/M.1579670363.A.97B.html',\n",
       "   'count': 3}],\n",
       " '101.12.44.128': [{'author': 'poonebetty (小肥媽)',\n",
       "   'url': 'https://www.ptt.cc/bbs/Gossiping/M.1579673922.A.843.html',\n",
       "   'count': 3},\n",
       "  {'author': 'poonebetty (小肥媽)',\n",
       "   'url': 'https://www.ptt.cc/bbs/Gossiping/M.1579669621.A.88E.html',\n",
       "   'count': 4}],\n",
       " '101.14.195.74': [{'author': 'masterbation (貝森大師aka淫油濕人)',\n",
       "   'url': 'https://www.ptt.cc/bbs/Gossiping/M.1579673936.A.62B.html',\n",
       "   'count': 3}],\n",
       " '223.140.191.146': [{'author': 'papapapapapa (啪啪啪啪啪啪)',\n",
       "   'url': 'https://www.ptt.cc/bbs/Gossiping/M.1579673977.A.F38.html',\n",
       "   'count': 3}],\n",
       " '1.171.72.124': [{'author': 'l81311i ()',\n",
       "   'url': 'https://www.ptt.cc/bbs/Gossiping/M.1579674024.A.376.html',\n",
       "   'count': 3}],\n",
       " '223.139.10.31': [{'author': 'WaWa3 (寂寞的麻糬)',\n",
       "   'url': 'https://www.ptt.cc/bbs/Gossiping/M.1579674061.A.9C1.html',\n",
       "   'count': 3}],\n",
       " '223.139.149.119': [{'author': 'tmwolf (魯神)',\n",
       "   'url': 'https://www.ptt.cc/bbs/Gossiping/M.1579674127.A.70B.html',\n",
       "   'count': 3}],\n",
       " '101.137.225.79': [{'author': 'lemon7242 (檸檬酸)',\n",
       "   'url': 'https://www.ptt.cc/bbs/Gossiping/M.1579672816.A.E21.html',\n",
       "   'count': 3}],\n",
       " '36.230.4.6': [{'author': 'a828203 ()',\n",
       "   'url': 'https://www.ptt.cc/bbs/Gossiping/M.1579672839.A.82F.html',\n",
       "   'count': 3}],\n",
       " '210.69.126.253': [{'author': 'yoyoman001 (兜圈兒)',\n",
       "   'url': 'https://www.ptt.cc/bbs/Gossiping/M.1579672965.A.CA5.html',\n",
       "   'count': 3}],\n",
       " '36.230.81.34': [{'author': 'mnhyuiop (魔力藍)',\n",
       "   'url': 'https://www.ptt.cc/bbs/Gossiping/M.1579672971.A.089.html',\n",
       "   'count': 3}],\n",
       " '182.233.0.162': [{'author': 'Aliensoul (八卦駐版外星人)',\n",
       "   'url': 'https://www.ptt.cc/bbs/Gossiping/M.1579673065.A.F4A.html',\n",
       "   'count': 3},\n",
       "  {'author': 'Aliensoul (八卦駐版外星人)',\n",
       "   'url': 'https://www.ptt.cc/bbs/Gossiping/M.1579666567.A.217.html',\n",
       "   'count': 6},\n",
       "  {'author': 'Aliensoul (八卦駐版外星人)',\n",
       "   'url': 'https://www.ptt.cc/bbs/Gossiping/M.1579662993.A.6F9.html',\n",
       "   'count': 5}],\n",
       " '110.50.164.43': [{'author': 'ashinly1021 (Ashine)',\n",
       "   'url': 'https://www.ptt.cc/bbs/Gossiping/M.1579673080.A.4CF.html',\n",
       "   'count': 3}],\n",
       " '36.229.52.250': [{'author': 'kingkingkong (無敵金金剛)',\n",
       "   'url': 'https://www.ptt.cc/bbs/Gossiping/M.1579673083.A.C44.html',\n",
       "   'count': 3}],\n",
       " '125.224.213.46': [{'author': 'poeta (鍵盤詩人)',\n",
       "   'url': 'https://www.ptt.cc/bbs/Gossiping/M.1579673084.A.70A.html',\n",
       "   'count': 3}],\n",
       " '61.219.191.4': [{'author': 'gay7788 (卡稱之神=卡神)',\n",
       "   'url': 'https://www.ptt.cc/bbs/Gossiping/M.1579673087.A.5D2.html',\n",
       "   'count': 3}],\n",
       " '218.166.22.57': [{'author': 'banbee100 (BB)',\n",
       "   'url': 'https://www.ptt.cc/bbs/Gossiping/M.1579673171.A.16C.html',\n",
       "   'count': 4}],\n",
       " '203.77.72.101': [{'author': 'ericsyyang (小唯)',\n",
       "   'url': 'https://www.ptt.cc/bbs/Gossiping/M.1579673196.A.B80.html',\n",
       "   'count': 3}],\n",
       " '114.137.253.212': [{'author': 'siibouf (咎由自取)',\n",
       "   'url': 'https://www.ptt.cc/bbs/Gossiping/M.1579673198.A.05A.html',\n",
       "   'count': 3}],\n",
       " '111.71.212.82': [{'author': 'cycutom (cycutom)',\n",
       "   'url': 'https://www.ptt.cc/bbs/Gossiping/M.1579673322.A.121.html',\n",
       "   'count': 3}],\n",
       " '185.225.211.117': [{'author': 'norvasc (Norton)',\n",
       "   'url': 'https://www.ptt.cc/bbs/Gossiping/M.1579673397.A.7F9.html',\n",
       "   'count': 5}],\n",
       " '60.248.140.205': [{'author': 'kingtama (立志成為唬爛王)',\n",
       "   'url': 'https://www.ptt.cc/bbs/Gossiping/M.1579673482.A.AB1.html',\n",
       "   'count': 3},\n",
       "  {'author': 'kingtama (立志成為唬爛王)',\n",
       "   'url': 'https://www.ptt.cc/bbs/Gossiping/M.1579653715.A.76F.html',\n",
       "   'count': 4}],\n",
       " '42.77.69.180': [{'author': 'alaskaman (阿拉人)',\n",
       "   'url': 'https://www.ptt.cc/bbs/Gossiping/M.1579673484.A.28E.html',\n",
       "   'count': 3}],\n",
       " '180.217.84.51': [{'author': 'ttn851227 (beyond218)',\n",
       "   'url': 'https://www.ptt.cc/bbs/Gossiping/M.1579672395.A.5EB.html',\n",
       "   'count': 3}],\n",
       " '175.143.131.61': [{'author': 'sawkuanwoo (大家快來darkchess下暗棋)',\n",
       "   'url': 'https://www.ptt.cc/bbs/Gossiping/M.1579672410.A.A20.html',\n",
       "   'count': 4}],\n",
       " '118.165.119.172': [{'author': 'XXXXGAY (ＯＬ打雜小妹)',\n",
       "   'url': 'https://www.ptt.cc/bbs/Gossiping/M.1579672415.A.7A0.html',\n",
       "   'count': 3}],\n",
       " '220.130.44.51': [{'author': 'kirchize (起落是無常)',\n",
       "   'url': 'https://www.ptt.cc/bbs/Gossiping/M.1579672432.A.448.html',\n",
       "   'count': 3}],\n",
       " '223.137.196.111': [{'author': 'stty (加油好嗎!)',\n",
       "   'url': 'https://www.ptt.cc/bbs/Gossiping/M.1579672452.A.68D.html',\n",
       "   'count': 4}],\n",
       " '223.137.169.42': [{'author': 'f22313467 (軍曹)',\n",
       "   'url': 'https://www.ptt.cc/bbs/Gossiping/M.1579672485.A.1CF.html',\n",
       "   'count': 3}],\n",
       " '39.8.139.250': [{'author': 'st110261 (我是旅人你是過客)',\n",
       "   'url': 'https://www.ptt.cc/bbs/Gossiping/M.1579672494.A.105.html',\n",
       "   'count': 3}],\n",
       " '42.72.18.68': [{'author': 'kbgarnett (Ice)',\n",
       "   'url': 'https://www.ptt.cc/bbs/Gossiping/M.1579672508.A.BDF.html',\n",
       "   'count': 3}],\n",
       " '111.83.52.195': [{'author': 'zxzx1233 (哈哈)',\n",
       "   'url': 'https://www.ptt.cc/bbs/Gossiping/M.1579672532.A.47B.html',\n",
       "   'count': 3}],\n",
       " '180.217.229.202': [{'author': 'engineer1 (順服的朋友)',\n",
       "   'url': 'https://www.ptt.cc/bbs/Gossiping/M.1579672588.A.CDD.html',\n",
       "   'count': 3}],\n",
       " '36.238.52.40': [{'author': 'ff760725 (㊣矮㊣肥㊣醜㊣窮㊣宅)',\n",
       "   'url': 'https://www.ptt.cc/bbs/Gossiping/M.1579672659.A.AA1.html',\n",
       "   'count': 9}],\n",
       " '49.214.203.29': [{'author': 'pitalvlu (pital)',\n",
       "   'url': 'https://www.ptt.cc/bbs/Gossiping/M.1579672675.A.AC0.html',\n",
       "   'count': 3}],\n",
       " '49.217.68.5': [{'author': 'MomHawkDog ( Mom-Hawk-Dog)',\n",
       "   'url': 'https://www.ptt.cc/bbs/Gossiping/M.1579672701.A.B4D.html',\n",
       "   'count': 3}],\n",
       " '220.138.49.66': [{'author': 'ckk007 (~_~\")',\n",
       "   'url': 'https://www.ptt.cc/bbs/Gossiping/M.1579672725.A.D1F.html',\n",
       "   'count': 3},\n",
       "  {'author': 'ckk007 (~_~\")',\n",
       "   'url': 'https://www.ptt.cc/bbs/Gossiping/M.1579665559.A.C51.html',\n",
       "   'count': 6}],\n",
       " '111.71.215.6': [{'author': 'clark0816 (罷免烙跑市長韓國瑜)',\n",
       "   'url': 'https://www.ptt.cc/bbs/Gossiping/M.1579671780.A.39C.html',\n",
       "   'count': 4}],\n",
       " '42.75.8.70': [{'author': 'Gaffky (Gaffky)',\n",
       "   'url': 'https://www.ptt.cc/bbs/Gossiping/M.1579671791.A.82D.html',\n",
       "   'count': 3}],\n",
       " '111.249.9.150': [{'author': 'Slowbro (呆河馬)',\n",
       "   'url': 'https://www.ptt.cc/bbs/Gossiping/M.1579671873.A.4C1.html',\n",
       "   'count': 3},\n",
       "  {'author': 'Slowbro (呆河馬)',\n",
       "   'url': 'https://www.ptt.cc/bbs/Gossiping/M.1579666021.A.111.html',\n",
       "   'count': 3}],\n",
       " '42.73.45.186': [{'author': 'GlassHeartHo (玻璃心小豪)',\n",
       "   'url': 'https://www.ptt.cc/bbs/Gossiping/M.1579671886.A.A6D.html',\n",
       "   'count': 3}],\n",
       " '42.77.210.32': [{'author': 'Lineage097 (狐狸壽司)',\n",
       "   'url': 'https://www.ptt.cc/bbs/Gossiping/M.1579671933.A.359.html',\n",
       "   'count': 3}],\n",
       " '114.38.10.135': [{'author': 'GeraldLiu (wolver)',\n",
       "   'url': 'https://www.ptt.cc/bbs/Gossiping/M.1579671981.A.ADB.html',\n",
       "   'count': 3}],\n",
       " '111.71.104.77': [{'author': 'era120 (era)',\n",
       "   'url': 'https://www.ptt.cc/bbs/Gossiping/M.1579672014.A.C68.html',\n",
       "   'count': 3}],\n",
       " '1.163.88.67': [{'author': 'norfinway (爆文產生器a.k.a優文大師)',\n",
       "   'url': 'https://www.ptt.cc/bbs/Gossiping/M.1579672029.A.804.html',\n",
       "   'count': 3}],\n",
       " '42.72.237.4': [{'author': 'w180112 ([NOOB]我超RETARD我超廢 )',\n",
       "   'url': 'https://www.ptt.cc/bbs/Gossiping/M.1579672075.A.29C.html',\n",
       "   'count': 3}],\n",
       " '36.236.37.28': [{'author': 'BeTheFree (自定義)',\n",
       "   'url': 'https://www.ptt.cc/bbs/Gossiping/M.1579672116.A.0C4.html',\n",
       "   'count': 3}],\n",
       " '58.115.177.64': [{'author': 'Kyle5566 (四叔舞莖)',\n",
       "   'url': 'https://www.ptt.cc/bbs/Gossiping/M.1579672117.A.CC9.html',\n",
       "   'count': 3}],\n",
       " '114.136.204.41': [{'author': 'rote (ROTE)',\n",
       "   'url': 'https://www.ptt.cc/bbs/Gossiping/M.1579672144.A.0C9.html',\n",
       "   'count': 3},\n",
       "  {'author': 'rote (ROTE)',\n",
       "   'url': 'https://www.ptt.cc/bbs/Gossiping/M.1579664225.A.81B.html',\n",
       "   'count': 3},\n",
       "  {'author': 'rote (ROTE)',\n",
       "   'url': 'https://www.ptt.cc/bbs/Gossiping/M.1579659149.A.7B4.html',\n",
       "   'count': 4}],\n",
       " '101.12.102.194': [{'author': 'Rin5566 (派屈克)',\n",
       "   'url': 'https://www.ptt.cc/bbs/Gossiping/M.1579672158.A.890.html',\n",
       "   'count': 3},\n",
       "  {'author': 'Rin5566 (派屈克)',\n",
       "   'url': 'https://www.ptt.cc/bbs/Gossiping/M.1579663731.A.7A8.html',\n",
       "   'count': 4}],\n",
       " '220.134.244.216': [{'author': 'HAHAHUNG (廢文要重返農藥)',\n",
       "   'url': 'https://www.ptt.cc/bbs/Gossiping/M.1579672173.A.B96.html',\n",
       "   'count': 3}],\n",
       " '223.137.105.162': [{'author': 'thejackys (肥波)',\n",
       "   'url': 'https://www.ptt.cc/bbs/Gossiping/M.1579672200.A.A06.html',\n",
       "   'count': 3}],\n",
       " '180.177.37.100': [{'author': 'badjye911 (阿三)',\n",
       "   'url': 'https://www.ptt.cc/bbs/Gossiping/M.1579672257.A.F72.html',\n",
       "   'count': 3},\n",
       "  {'author': 'badjye911 (阿三)',\n",
       "   'url': 'https://www.ptt.cc/bbs/Gossiping/M.1579653784.A.E35.html',\n",
       "   'count': 3}],\n",
       " '27.52.190.54': [{'author': 'Costco5566 (cc)',\n",
       "   'url': 'https://www.ptt.cc/bbs/Gossiping/M.1579672272.A.8EF.html',\n",
       "   'count': 3}],\n",
       " '39.12.160.191': [{'author': 'Goxs (別讓婉君不開心)',\n",
       "   'url': 'https://www.ptt.cc/bbs/Gossiping/M.1579672299.A.9F4.html',\n",
       "   'count': 3}],\n",
       " '60.248.203.163': [{'author': 'nightmaresea (雲淡風清)',\n",
       "   'url': 'https://www.ptt.cc/bbs/Gossiping/M.1579670856.A.90F.html',\n",
       "   'count': 3}],\n",
       " '110.50.161.8': [{'author': 'taotzu (╮(╯▽╰)╭   ｷﾀ━━)',\n",
       "   'url': 'https://www.ptt.cc/bbs/Gossiping/M.1579670860.A.71C.html',\n",
       "   'count': 3}],\n",
       " '211.72.212.97': [{'author': 'sephen (實施綁椿 民心上升!!!)',\n",
       "   'url': 'https://www.ptt.cc/bbs/Gossiping/M.1579671003.A.2CD.html',\n",
       "   'count': 3}],\n",
       " '140.112.46.188': [{'author': 'yahe0526 (有一種預感 發廢文好難)',\n",
       "   'url': 'https://www.ptt.cc/bbs/Gossiping/M.1579671058.A.3B2.html',\n",
       "   'count': 3},\n",
       "  {'author': 'yahe0526 (有一種預感 發廢文好難)',\n",
       "   'url': 'https://www.ptt.cc/bbs/Gossiping/M.1579669940.A.891.html',\n",
       "   'count': 3},\n",
       "  {'author': 'yahe0526 (有一種預感 發廢文好難)',\n",
       "   'url': 'https://www.ptt.cc/bbs/Gossiping/M.1579668712.A.586.html',\n",
       "   'count': 3},\n",
       "  {'author': 'yahe0526 (有一種預感 發廢文好難)',\n",
       "   'url': 'https://www.ptt.cc/bbs/Gossiping/M.1579658663.A.663.html',\n",
       "   'count': 3}],\n",
       " '42.76.185.248': [{'author': 'piggy37 (小時)',\n",
       "   'url': 'https://www.ptt.cc/bbs/Gossiping/M.1579671065.A.4DD.html',\n",
       "   'count': 3},\n",
       "  {'author': 'piggy37 (小時)',\n",
       "   'url': 'https://www.ptt.cc/bbs/Gossiping/M.1579656296.A.012.html',\n",
       "   'count': 3}],\n",
       " '223.139.205.206': [{'author': 'dasuininder (硬派大叔)',\n",
       "   'url': 'https://www.ptt.cc/bbs/Gossiping/M.1579671215.A.61B.html',\n",
       "   'count': 3},\n",
       "  {'author': 'dasuininder (硬派大叔)',\n",
       "   'url': 'https://www.ptt.cc/bbs/Gossiping/M.1579663593.A.FB7.html',\n",
       "   'count': 3}],\n",
       " '111.83.49.254': [{'author': 'beerduck (beer鴨)',\n",
       "   'url': 'https://www.ptt.cc/bbs/Gossiping/M.1579671216.A.24E.html',\n",
       "   'count': 5}],\n",
       " '223.141.175.230': [{'author': 'jensheng09 (甲甲都從後面來)',\n",
       "   'url': 'https://www.ptt.cc/bbs/Gossiping/M.1579671357.A.9FE.html',\n",
       "   'count': 3}],\n",
       " '27.52.44.177': [{'author': 'comecomebro (來來哥)',\n",
       "   'url': 'https://www.ptt.cc/bbs/Gossiping/M.1579671449.A.412.html',\n",
       "   'count': 3}],\n",
       " '42.72.102.196': [{'author': 'hyakkiyagyo (_(:3 」∠ )_)',\n",
       "   'url': 'https://www.ptt.cc/bbs/Gossiping/M.1579671457.A.58F.html',\n",
       "   'count': 3}],\n",
       " '111.82.40.61': [{'author': 'Chen334 (古先生)',\n",
       "   'url': 'https://www.ptt.cc/bbs/Gossiping/M.1579671540.A.FFF.html',\n",
       "   'count': 3}],\n",
       " '27.247.224.188': [{'author': 'Luismth (L)',\n",
       "   'url': 'https://www.ptt.cc/bbs/Gossiping/M.1579671562.A.4A5.html',\n",
       "   'count': 3}],\n",
       " '180.176.130.101': [{'author': 'protoss (天生散人)',\n",
       "   'url': 'https://www.ptt.cc/bbs/Gossiping/M.1579671632.A.4EE.html',\n",
       "   'count': 3}],\n",
       " '118.163.34.110': [{'author': 'bengowa (鞭狗蛙 舒服)',\n",
       "   'url': 'https://www.ptt.cc/bbs/Gossiping/M.1579671677.A.FC9.html',\n",
       "   'count': 3},\n",
       "  {'author': 'bengowa (鞭狗蛙 舒服)',\n",
       "   'url': 'https://www.ptt.cc/bbs/Gossiping/M.1579662269.A.6A2.html',\n",
       "   'count': 3},\n",
       "  {'author': 'bengowa (鞭狗蛙 舒服)',\n",
       "   'url': 'https://www.ptt.cc/bbs/Gossiping/M.1579651167.A.2FA.html',\n",
       "   'count': 3}],\n",
       " '223.139.101.71': [{'author': 'missingkid ()',\n",
       "   'url': 'https://www.ptt.cc/bbs/Gossiping/M.1579671709.A.A42.html',\n",
       "   'count': 3}],\n",
       " '27.105.235.113': [{'author': 'nemies (...)',\n",
       "   'url': 'https://www.ptt.cc/bbs/Gossiping/M.1579671745.A.BEC.html',\n",
       "   'count': 3}],\n",
       " '114.46.194.87': [{'author': 'kivan00 (Kivan)',\n",
       "   'url': 'https://www.ptt.cc/bbs/Gossiping/M.1579671759.A.58D.html',\n",
       "   'count': 4}],\n",
       " '27.52.77.44': [{'author': 'XArcherX (萬軍無兵)',\n",
       "   'url': 'https://www.ptt.cc/bbs/Gossiping/M.1579669985.A.C19.html',\n",
       "   'count': 3}],\n",
       " '118.99.216.161': [{'author': 'InHouseBoy (仲~惡名昭彰~介)',\n",
       "   'url': 'https://www.ptt.cc/bbs/Gossiping/M.1579670011.A.7D8.html',\n",
       "   'count': 5}],\n",
       " '110.170.134.73': [{'author': 'LOVEMOON3427 (沒看過落枕嗎...)',\n",
       "   'url': 'https://www.ptt.cc/bbs/Gossiping/M.1579670099.A.817.html',\n",
       "   'count': 3}],\n",
       " '175.180.126.137': [{'author': 'killua92 (樁白)',\n",
       "   'url': 'https://www.ptt.cc/bbs/Gossiping/M.1579670128.A.4A3.html',\n",
       "   'count': 3}],\n",
       " '223.141.225.152': [{'author': 'gentleman888 ()',\n",
       "   'url': 'https://www.ptt.cc/bbs/Gossiping/M.1579670149.A.26C.html',\n",
       "   'count': 3}],\n",
       " '126.208.134.173': [{'author': 'xzcb2008 (情色貓貓鑽石英粉)',\n",
       "   'url': 'https://www.ptt.cc/bbs/Gossiping/M.1579670372.A.A91.html',\n",
       "   'count': 4}],\n",
       " '180.217.95.132': [{'author': 'adagiox (adagio)',\n",
       "   'url': 'https://www.ptt.cc/bbs/Gossiping/M.1579670419.A.112.html',\n",
       "   'count': 3},\n",
       "  {'author': 'adagiox (adagio)',\n",
       "   'url': 'https://www.ptt.cc/bbs/Gossiping/M.1579667316.A.F43.html',\n",
       "   'count': 3}],\n",
       " '36.233.3.48': [{'author': 'inglee (~一事無成千古恨~)',\n",
       "   'url': 'https://www.ptt.cc/bbs/Gossiping/M.1579670422.A.F25.html',\n",
       "   'count': 4}],\n",
       " '60.251.51.51': [{'author': 'crashonU (crazy)',\n",
       "   'url': 'https://www.ptt.cc/bbs/Gossiping/M.1579670430.A.B6B.html',\n",
       "   'count': 4}],\n",
       " '1.172.229.108': [{'author': 'poiu716 ()',\n",
       "   'url': 'https://www.ptt.cc/bbs/Gossiping/M.1579670463.A.CFA.html',\n",
       "   'count': 4}],\n",
       " '180.204.209.59': [{'author': 'xipy (西痞)',\n",
       "   'url': 'https://www.ptt.cc/bbs/Gossiping/M.1579670465.A.AA3.html',\n",
       "   'count': 3}],\n",
       " '1.174.4.176': [{'author': 'zrct5566 (美麗又殘酷的世界)',\n",
       "   'url': 'https://www.ptt.cc/bbs/Gossiping/M.1579670540.A.0FF.html',\n",
       "   'count': 3},\n",
       "  {'author': 'zrct5566 (美麗又殘酷的世界)',\n",
       "   'url': 'https://www.ptt.cc/bbs/Gossiping/M.1579667496.A.D84.html',\n",
       "   'count': 5},\n",
       "  {'author': 'zrct5566 (美麗又殘酷的世界)',\n",
       "   'url': 'https://www.ptt.cc/bbs/Gossiping/M.1579662767.A.962.html',\n",
       "   'count': 4}],\n",
       " '223.137.168.16': [{'author': 'ludohsiao (陸星材)',\n",
       "   'url': 'https://www.ptt.cc/bbs/Gossiping/M.1579670572.A.5C6.html',\n",
       "   'count': 3}],\n",
       " '114.26.171.73': [{'author': 'shaqgod (小廢渣一個)',\n",
       "   'url': 'https://www.ptt.cc/bbs/Gossiping/M.1579670692.A.94E.html',\n",
       "   'count': 3}],\n",
       " '42.76.164.113': [{'author': 'au4au4j3fu4 (就i黑心掏空借殼轉機股)',\n",
       "   'url': 'https://www.ptt.cc/bbs/Gossiping/M.1579670729.A.B85.html',\n",
       "   'count': 3}],\n",
       " '211.75.237.7': [{'author': 'ccyaztfe (best_troll_tw)',\n",
       "   'url': 'https://www.ptt.cc/bbs/Gossiping/M.1579670845.A.1B3.html',\n",
       "   'count': 3}],\n",
       " '124.11.210.40': [{'author': 'reppoc (稍會)',\n",
       "   'url': 'https://www.ptt.cc/bbs/Gossiping/M.1579669448.A.475.html',\n",
       "   'count': 3}],\n",
       " '1.163.9.60': [{'author': 'h0110022 (李嘟嘟)',\n",
       "   'url': 'https://www.ptt.cc/bbs/Gossiping/M.1579669467.A.AFD.html',\n",
       "   'count': 3}],\n",
       " '101.137.251.147': [{'author': 'sdamel (=ˇ=)',\n",
       "   'url': 'https://www.ptt.cc/bbs/Gossiping/M.1579669500.A.D06.html',\n",
       "   'count': 3}],\n",
       " '42.73.82.41': [{'author': 'seabox (吃貨盒盒)',\n",
       "   'url': 'https://www.ptt.cc/bbs/Gossiping/M.1579669515.A.BFB.html',\n",
       "   'count': 3},\n",
       "  {'author': 'seabox (吃貨盒盒)',\n",
       "   'url': 'https://www.ptt.cc/bbs/Gossiping/M.1579667961.A.7DC.html',\n",
       "   'count': 4}],\n",
       " '133.155.4.4': [{'author': 'akanishiking (arnold jackson)',\n",
       "   'url': 'https://www.ptt.cc/bbs/Gossiping/M.1579669551.A.7B7.html',\n",
       "   'count': 3},\n",
       "  {'author': 'akanishiking (arnold jackson)',\n",
       "   'url': 'https://www.ptt.cc/bbs/Gossiping/M.1579663842.A.893.html',\n",
       "   'count': 4}],\n",
       " '223.138.73.151': [{'author': 'keane9112 (拎北逮頑郎 拎北反支那啦)',\n",
       "   'url': 'https://www.ptt.cc/bbs/Gossiping/M.1579669597.A.D5C.html',\n",
       "   'count': 3}],\n",
       " '61.64.4.178': [{'author': 'a22222a4210 (a22222a4210)',\n",
       "   'url': 'https://www.ptt.cc/bbs/Gossiping/M.1579669619.A.22E.html',\n",
       "   'count': 4}],\n",
       " '49.216.24.76': [{'author': 'ss311tw (戰神東方祥)',\n",
       "   'url': 'https://www.ptt.cc/bbs/Gossiping/M.1579669673.A.4E1.html',\n",
       "   'count': 4},\n",
       "  {'author': 'ss311tw (戰神東方祥)',\n",
       "   'url': 'https://www.ptt.cc/bbs/Gossiping/M.1579666482.A.755.html',\n",
       "   'count': 3}],\n",
       " '223.136.231.150': [{'author': 'sodistrues (true)',\n",
       "   'url': 'https://www.ptt.cc/bbs/Gossiping/M.1579669706.A.70E.html',\n",
       "   'count': 3}],\n",
       " '223.139.252.105': [{'author': 'Oral (茄汁牛肉麵加辣)',\n",
       "   'url': 'https://www.ptt.cc/bbs/Gossiping/M.1579669709.A.80D.html',\n",
       "   'count': 3}],\n",
       " '49.159.108.149': [{'author': 'yukihira (Flicker)',\n",
       "   'url': 'https://www.ptt.cc/bbs/Gossiping/M.1579669712.A.984.html',\n",
       "   'count': 3}],\n",
       " '61.227.103.1': [{'author': 'SelfishGene (自私的基因)',\n",
       "   'url': 'https://www.ptt.cc/bbs/Gossiping/M.1579669716.A.AFF.html',\n",
       "   'count': 3}],\n",
       " '118.169.204.176': [{'author': 'DarkHolbach (黑道公子讓你變失業魯蛇)',\n",
       "   'url': 'https://www.ptt.cc/bbs/Gossiping/M.1579669727.A.967.html',\n",
       "   'count': 3}],\n",
       " '24.80.48.254': [{'author': 'naticom (踢踢～)',\n",
       "   'url': 'https://www.ptt.cc/bbs/Gossiping/M.1579669808.A.765.html',\n",
       "   'count': 3}],\n",
       " '223.136.135.249': [{'author': 'f096162 (Heisenberg)',\n",
       "   'url': 'https://www.ptt.cc/bbs/Gossiping/M.1579669843.A.5B0.html',\n",
       "   'count': 3}],\n",
       " '36.225.254.55': [{'author': 'GETpoint (擲雷爆卦)',\n",
       "   'url': 'https://www.ptt.cc/bbs/Gossiping/M.1579669929.A.220.html',\n",
       "   'count': 3}],\n",
       " '36.230.165.134': [{'author': 'Thaichonburi (Hello 你好嗎 衷心感謝)',\n",
       "   'url': 'https://www.ptt.cc/bbs/Gossiping/M.1579668719.A.41F.html',\n",
       "   'count': 3}],\n",
       " '1.200.199.40': [{'author': 'girl55665566 (支持同志友善)',\n",
       "   'url': 'https://www.ptt.cc/bbs/Gossiping/M.1579668847.A.C3E.html',\n",
       "   'count': 3}],\n",
       " '111.240.117.75': [{'author': 'DORAQMON (哆啦哭夢)',\n",
       "   'url': 'https://www.ptt.cc/bbs/Gossiping/M.1579668933.A.C34.html',\n",
       "   'count': 3}],\n",
       " '111.82.222.124': [{'author': 'drinkmuffin (暢飲鬆餅)',\n",
       "   'url': 'https://www.ptt.cc/bbs/Gossiping/M.1579668946.A.7B8.html',\n",
       "   'count': 3}],\n",
       " '49.214.141.66': [{'author': 'sss1234 (簡簡單單)',\n",
       "   'url': 'https://www.ptt.cc/bbs/Gossiping/M.1579668982.A.912.html',\n",
       "   'count': 4},\n",
       "  {'author': 'sss1234 (簡簡單單)',\n",
       "   'url': 'https://www.ptt.cc/bbs/Gossiping/M.1579648530.A.0A2.html',\n",
       "   'count': 3}],\n",
       " '42.77.208.105': [{'author': 'llgod (Wryyyyyyyy)',\n",
       "   'url': 'https://www.ptt.cc/bbs/Gossiping/M.1579669044.A.884.html',\n",
       "   'count': 3}],\n",
       " '111.250.145.48': [{'author': 'CharleneTsai (給他200塊去吃麥當勞啦)',\n",
       "   'url': 'https://www.ptt.cc/bbs/Gossiping/M.1579669045.A.E92.html',\n",
       "   'count': 3}],\n",
       " '1.173.135.204': [{'author': 'darkofpolo (路人初號機)',\n",
       "   'url': 'https://www.ptt.cc/bbs/Gossiping/M.1579669066.A.42A.html',\n",
       "   'count': 5}],\n",
       " '223.136.236.83': [{'author': 'shiuannn (hihihi)',\n",
       "   'url': 'https://www.ptt.cc/bbs/Gossiping/M.1579669149.A.4DC.html',\n",
       "   'count': 3}],\n",
       " '42.77.82.218': [{'author': 'yji3vu4gj4 (YJI)',\n",
       "   'url': 'https://www.ptt.cc/bbs/Gossiping/M.1579669174.A.DAC.html',\n",
       "   'count': 3}],\n",
       " '1.163.91.28': [{'author': 'NuCat (騎山豬撞教官)',\n",
       "   'url': 'https://www.ptt.cc/bbs/Gossiping/M.1579669209.A.3A5.html',\n",
       "   'count': 4}],\n",
       " '122.116.95.250': [{'author': 'ghostl40809 (gracias)',\n",
       "   'url': 'https://www.ptt.cc/bbs/Gossiping/M.1579669213.A.9D4.html',\n",
       "   'count': 3}],\n",
       " '180.218.149.105': [{'author': 'fish247520 (重修讓我過拜託)',\n",
       "   'url': 'https://www.ptt.cc/bbs/Gossiping/M.1579669293.A.C69.html',\n",
       "   'count': 3}],\n",
       " '27.246.100.240': [{'author': 'XXXXHAY (過氣ID)',\n",
       "   'url': 'https://www.ptt.cc/bbs/Gossiping/M.1579669325.A.4CB.html',\n",
       "   'count': 4}],\n",
       " '180.217.84.238': [{'author': 'legos4710 (EG)',\n",
       "   'url': 'https://www.ptt.cc/bbs/Gossiping/M.1579669357.A.E2D.html',\n",
       "   'count': 3}],\n",
       " '106.1.81.73': [{'author': 't00012 (第六天蛇王)',\n",
       "   'url': 'https://www.ptt.cc/bbs/Gossiping/M.1579669443.A.899.html',\n",
       "   'count': 3},\n",
       "  {'author': 't00012 (第六天蛇王)',\n",
       "   'url': 'https://www.ptt.cc/bbs/Gossiping/M.1579659257.A.377.html',\n",
       "   'count': 3}],\n",
       " '110.26.234.238': [{'author': 'bb0x0 (bb0x0)',\n",
       "   'url': 'https://www.ptt.cc/bbs/Gossiping/M.1579668133.A.ECC.html',\n",
       "   'count': 4}],\n",
       " '91.220.202.16': [{'author': 'realtw (realtw)',\n",
       "   'url': 'https://www.ptt.cc/bbs/Gossiping/M.1579668169.A.9B4.html',\n",
       "   'count': 3}],\n",
       " '223.137.243.12': [{'author': 'marsonele (胖子的脂肪該被抽稅嗎)',\n",
       "   'url': 'https://www.ptt.cc/bbs/Gossiping/M.1579668262.A.80F.html',\n",
       "   'count': 3}],\n",
       " '42.77.158.252': [{'author': 'CannedHamEgg (罐裝火腿蛋)',\n",
       "   'url': 'https://www.ptt.cc/bbs/Gossiping/M.1579668266.A.3DC.html',\n",
       "   'count': 3}],\n",
       " '1.171.58.133': [{'author': 'a12345x (到不了終點)',\n",
       "   'url': 'https://www.ptt.cc/bbs/Gossiping/M.1579668331.A.AF0.html',\n",
       "   'count': 3}],\n",
       " '1.163.112.3': [{'author': 'kamisun (水銀燈老婆IPHIXSFXGS)',\n",
       "   'url': 'https://www.ptt.cc/bbs/Gossiping/M.1579668340.A.A62.html',\n",
       "   'count': 3}],\n",
       " '58.115.17.223': [{'author': 'hhoo32 (肥肥der)',\n",
       "   'url': 'https://www.ptt.cc/bbs/Gossiping/M.1579668347.A.29A.html',\n",
       "   'count': 3}],\n",
       " '1.168.195.51': [{'author': 'Kitakami (公主連結特約工讀生)',\n",
       "   'url': 'https://www.ptt.cc/bbs/Gossiping/M.1579668352.A.F1E.html',\n",
       "   'count': 3},\n",
       "  {'author': 'Kitakami (公主連結特約工讀生)',\n",
       "   'url': 'https://www.ptt.cc/bbs/Gossiping/M.1579657189.A.02E.html',\n",
       "   'count': 3}],\n",
       " '27.247.197.3': [{'author': 'jj782995 (重金屬搖滾雙面人)',\n",
       "   'url': 'https://www.ptt.cc/bbs/Gossiping/M.1579668364.A.33E.html',\n",
       "   'count': 3}],\n",
       " '49.159.67.148': [{'author': 'yor ()',\n",
       "   'url': 'https://www.ptt.cc/bbs/Gossiping/M.1579668461.A.104.html',\n",
       "   'count': 5}],\n",
       " '223.136.158.249': [{'author': 'anachronism (往事不用再提)',\n",
       "   'url': 'https://www.ptt.cc/bbs/Gossiping/M.1579668474.A.608.html',\n",
       "   'count': 5}],\n",
       " '49.219.160.177': [{'author': 'sankyumirai3 (SQ)',\n",
       "   'url': 'https://www.ptt.cc/bbs/Gossiping/M.1579668481.A.801.html',\n",
       "   'count': 3}],\n",
       " '73.63.220.93': [{'author': 'bluebluelan (白魚挺粗強貝柱連根立)',\n",
       "   'url': 'https://www.ptt.cc/bbs/Gossiping/M.1579668502.A.32B.html',\n",
       "   'count': 3}],\n",
       " '36.231.19.228': [{'author': 'Fine29 (黑色幽默)',\n",
       "   'url': 'https://www.ptt.cc/bbs/Gossiping/M.1579668506.A.CF6.html',\n",
       "   'count': 3}],\n",
       " '211.22.20.205': [{'author': 'twyes (twyes)',\n",
       "   'url': 'https://www.ptt.cc/bbs/Gossiping/M.1579668575.A.811.html',\n",
       "   'count': 3}],\n",
       " '42.77.19.149': [{'author': 'idol5566 (濕濕)',\n",
       "   'url': 'https://www.ptt.cc/bbs/Gossiping/M.1579668591.A.869.html',\n",
       "   'count': 3}],\n",
       " '111.83.12.175': [{'author': 'tsukiyomi157 (草莓口味☆肥宅)',\n",
       "   'url': 'https://www.ptt.cc/bbs/Gossiping/M.1579668647.A.64C.html',\n",
       "   'count': 3}],\n",
       " '175.96.97.234': [{'author': 'zxc8305300 (curry萌神)',\n",
       "   'url': 'https://www.ptt.cc/bbs/Gossiping/M.1579668657.A.A0C.html',\n",
       "   'count': 4}],\n",
       " '223.139.167.89': [{'author': 'cycling (一直暴雷一直爽)',\n",
       "   'url': 'https://www.ptt.cc/bbs/Gossiping/M.1579668684.A.EA5.html',\n",
       "   'count': 4}],\n",
       " '60.250.32.97': [{'author': 'askaleroux (Falcon)',\n",
       "   'url': 'https://www.ptt.cc/bbs/Gossiping/M.1579667366.A.D89.html',\n",
       "   'count': 4}],\n",
       " '180.217.138.94': [{'author': 'Impbe (專業U文)',\n",
       "   'url': 'https://www.ptt.cc/bbs/Gossiping/M.1579667393.A.217.html',\n",
       "   'count': 3}],\n",
       " '114.136.126.208': [{'author': 'ianlin1216 (伊恩可可)',\n",
       "   'url': 'https://www.ptt.cc/bbs/Gossiping/M.1579667409.A.7B4.html',\n",
       "   'count': 3},\n",
       "  {'author': 'ianlin1216 (伊恩可可)',\n",
       "   'url': 'https://www.ptt.cc/bbs/Gossiping/M.1579653420.A.566.html',\n",
       "   'count': 4}],\n",
       " '1.165.89.150': [{'author': 'qqq87112 (kaim)',\n",
       "   'url': 'https://www.ptt.cc/bbs/Gossiping/M.1579667566.A.B7C.html',\n",
       "   'count': 3},\n",
       "  {'author': 'qqq87112 (kaim)',\n",
       "   'url': 'https://www.ptt.cc/bbs/Gossiping/M.1579665628.A.DCE.html',\n",
       "   'count': 3},\n",
       "  {'author': 'qqq87112 (kaim)',\n",
       "   'url': 'https://www.ptt.cc/bbs/Gossiping/M.1579653367.A.65D.html',\n",
       "   'count': 3}],\n",
       " '101.15.154.91': [{'author': 'ME13 (小鳥)',\n",
       "   'url': 'https://www.ptt.cc/bbs/Gossiping/M.1579667669.A.A9A.html',\n",
       "   'count': 3}],\n",
       " '58.115.25.203': [{'author': 'TyuzuChou (子瑜我老婆)',\n",
       "   'url': 'https://www.ptt.cc/bbs/Gossiping/M.1579667778.A.A63.html',\n",
       "   'count': 3},\n",
       "  {'author': 'TyuzuChou (子瑜我老婆)',\n",
       "   'url': 'https://www.ptt.cc/bbs/Gossiping/M.1579648101.A.6F5.html',\n",
       "   'count': 3}],\n",
       " '180.217.192.47': [{'author': 'Rose5566MVP (賣些歌)',\n",
       "   'url': 'https://www.ptt.cc/bbs/Gossiping/M.1579667825.A.8C1.html',\n",
       "   'count': 4}],\n",
       " '111.83.44.87': [{'author': 'reticentcrow (沉默鴉)',\n",
       "   'url': 'https://www.ptt.cc/bbs/Gossiping/M.1579667828.A.860.html',\n",
       "   'count': 3}],\n",
       " '122.121.21.169': [{'author': 'vovzz (隨心所欲)',\n",
       "   'url': 'https://www.ptt.cc/bbs/Gossiping/M.1579667904.A.F44.html',\n",
       "   'count': 3}],\n",
       " '61.216.26.1': [{'author': 'jin168chen (毛毛蟲)',\n",
       "   'url': 'https://www.ptt.cc/bbs/Gossiping/M.1579668011.A.96A.html',\n",
       "   'count': 3}],\n",
       " '101.14.231.245': [{'author': 'lf719000 (5566得第一GO)',\n",
       "   'url': 'https://www.ptt.cc/bbs/Gossiping/M.1579668048.A.B3F.html',\n",
       "   'count': 3},\n",
       "  {'author': 'lf719000 (5566得第一GO)',\n",
       "   'url': 'https://www.ptt.cc/bbs/Gossiping/M.1579659621.A.DA2.html',\n",
       "   'count': 3}],\n",
       " '101.136.187.222': [{'author': 'IamCuteGirl (CuteGirl5566)',\n",
       "   'url': 'https://www.ptt.cc/bbs/Gossiping/M.1579668079.A.745.html',\n",
       "   'count': 4}],\n",
       " '223.136.169.246': [{'author': 'strapocky (水星)',\n",
       "   'url': 'https://www.ptt.cc/bbs/Gossiping/M.1579668082.A.6F5.html',\n",
       "   'count': 3}],\n",
       " '180.217.224.200': [{'author': 'seal81924 (臺北有個天兵叫阿國)',\n",
       "   'url': 'https://www.ptt.cc/bbs/Gossiping/M.1579668092.A.03D.html',\n",
       "   'count': 3}],\n",
       " '42.75.133.13': [{'author': 'Stunts (時間.空間)',\n",
       "   'url': 'https://www.ptt.cc/bbs/Gossiping/M.1579666634.A.6CF.html',\n",
       "   'count': 4}],\n",
       " '125.227.152.74': [{'author': 'member7023 ()',\n",
       "   'url': 'https://www.ptt.cc/bbs/Gossiping/M.1579666664.A.D11.html',\n",
       "   'count': 4},\n",
       "  {'author': 'member7023 ()',\n",
       "   'url': 'https://www.ptt.cc/bbs/Gossiping/M.1579664258.A.662.html',\n",
       "   'count': 3}],\n",
       " '27.242.0.34': [{'author': 'Qoo20811 (冠宇哥)',\n",
       "   'url': 'https://www.ptt.cc/bbs/Gossiping/M.1579666748.A.70E.html',\n",
       "   'count': 3}],\n",
       " '122.121.8.230': [{'author': 'gn01982027 (夢露是個好樂團)',\n",
       "   'url': 'https://www.ptt.cc/bbs/Gossiping/M.1579666781.A.9B8.html',\n",
       "   'count': 3}],\n",
       " '163.15.161.247': [{'author': 's1155697 (0.0)',\n",
       "   'url': 'https://www.ptt.cc/bbs/Gossiping/M.1579666904.A.69D.html',\n",
       "   'count': 5},\n",
       "  {'author': 'a89182a89182 (豬豬肉桂卷)',\n",
       "   'url': 'https://www.ptt.cc/bbs/Gossiping/M.1579656674.A.464.html',\n",
       "   'count': 3}],\n",
       " '140.116.201.66': [{'author': 'changbsd (............)',\n",
       "   'url': 'https://www.ptt.cc/bbs/Gossiping/M.1579666934.A.2AE.html',\n",
       "   'count': 3}],\n",
       " '126.236.212.12': [{'author': 'Rrrxddd (鋼鐵柯粉RR)',\n",
       "   'url': 'https://www.ptt.cc/bbs/Gossiping/M.1579666954.A.621.html',\n",
       "   'count': 3},\n",
       "  {'author': 'Rrrxddd (鋼鐵柯粉RR)',\n",
       "   'url': 'https://www.ptt.cc/bbs/Gossiping/M.1579666528.A.C1F.html',\n",
       "   'count': 3},\n",
       "  {'author': 'Rrrxddd (鋼鐵柯粉RR)',\n",
       "   'url': 'https://www.ptt.cc/bbs/Gossiping/M.1579664875.A.E58.html',\n",
       "   'count': 4}],\n",
       " '101.15.208.254': [{'author': 'SakuraYui (櫻花蝦)',\n",
       "   'url': 'https://www.ptt.cc/bbs/Gossiping/M.1579667060.A.1F0.html',\n",
       "   'count': 3}],\n",
       " '221.184.177.32': [{'author': 'dennistao (英文你老師)',\n",
       "   'url': 'https://www.ptt.cc/bbs/Gossiping/M.1579667151.A.22B.html',\n",
       "   'count': 3}],\n",
       " '111.71.74.184': [{'author': 'bg784533 (bg784533)',\n",
       "   'url': 'https://www.ptt.cc/bbs/Gossiping/M.1579667176.A.74B.html',\n",
       "   'count': 3}],\n",
       " '36.236.38.146': [{'author': 'SamuraiJack (傑克武士)',\n",
       "   'url': 'https://www.ptt.cc/bbs/Gossiping/M.1579667180.A.6E7.html',\n",
       "   'count': 3}],\n",
       " '223.136.130.79': [{'author': 'kent21413 (kent)',\n",
       "   'url': 'https://www.ptt.cc/bbs/Gossiping/M.1579667216.A.CF1.html',\n",
       "   'count': 3},\n",
       "  {'author': 'kent21413 (kent)',\n",
       "   'url': 'https://www.ptt.cc/bbs/Gossiping/M.1579659982.A.8AB.html',\n",
       "   'count': 3}],\n",
       " '110.50.138.128': [{'author': 'justlovedada (愛)',\n",
       "   'url': 'https://www.ptt.cc/bbs/Gossiping/M.1579667230.A.297.html',\n",
       "   'count': 3}],\n",
       " '175.96.108.136': [{'author': 'rjanujjko (h94m35k6)',\n",
       "   'url': 'https://www.ptt.cc/bbs/Gossiping/M.1579667240.A.F53.html',\n",
       "   'count': 3}],\n",
       " '211.23.68.244': [{'author': 'wegoliving (HYSTERIC)',\n",
       "   'url': 'https://www.ptt.cc/bbs/Gossiping/M.1579665995.A.21B.html',\n",
       "   'count': 4}],\n",
       " '223.136.241.206': [{'author': 'weiching5566 (就醬子吧)',\n",
       "   'url': 'https://www.ptt.cc/bbs/Gossiping/M.1579665997.A.676.html',\n",
       "   'count': 3}],\n",
       " '114.44.107.213': [{'author': 'akway (生活就是要快樂)',\n",
       "   'url': 'https://www.ptt.cc/bbs/Gossiping/M.1579665998.A.EB6.html',\n",
       "   'count': 5}],\n",
       " '1.200.211.55': [{'author': 'tzujan (無)',\n",
       "   'url': 'https://www.ptt.cc/bbs/Gossiping/M.1579666124.A.B52.html',\n",
       "   'count': 3}],\n",
       " '111.82.114.191': [{'author': 'season2011 ()',\n",
       "   'url': 'https://www.ptt.cc/bbs/Gossiping/M.1579666160.A.86C.html',\n",
       "   'count': 3}],\n",
       " '111.82.49.124': [{'author': 'cdcardabc (覺得難笑就給個推)',\n",
       "   'url': 'https://www.ptt.cc/bbs/Gossiping/M.1579666314.A.CF0.html',\n",
       "   'count': 3}],\n",
       " '42.74.251.94': [{'author': 'hankwanghow (...)',\n",
       "   'url': 'https://www.ptt.cc/bbs/Gossiping/M.1579666335.A.9F8.html',\n",
       "   'count': 3}],\n",
       " '103.251.98.167': [{'author': 'realtw (realtw)',\n",
       "   'url': 'https://www.ptt.cc/bbs/Gossiping/M.1579666348.A.185.html',\n",
       "   'count': 4}],\n",
       " '118.232.152.107': [{'author': 'david0426 (軒軒寶貝)',\n",
       "   'url': 'https://www.ptt.cc/bbs/Gossiping/M.1579666430.A.AB8.html',\n",
       "   'count': 3},\n",
       "  {'author': 'david0426 (軒軒寶貝)',\n",
       "   'url': 'https://www.ptt.cc/bbs/Gossiping/M.1579660932.A.B2B.html',\n",
       "   'count': 3}],\n",
       " '180.217.215.4': [{'author': 'LoliconWei (最愛蘿莉)',\n",
       "   'url': 'https://www.ptt.cc/bbs/Gossiping/M.1579666504.A.7DC.html',\n",
       "   'count': 5}],\n",
       " '223.139.132.83': [{'author': 'jp956956 (儲備里長伯)',\n",
       "   'url': 'https://www.ptt.cc/bbs/Gossiping/M.1579666529.A.731.html',\n",
       "   'count': 4}],\n",
       " '118.166.62.37': [{'author': 'Tohkachan (空白)',\n",
       "   'url': 'https://www.ptt.cc/bbs/Gossiping/M.1579666533.A.A51.html',\n",
       "   'count': 5}],\n",
       " '42.76.233.60': [{'author': 'rv0918 (Lee)',\n",
       "   'url': 'https://www.ptt.cc/bbs/Gossiping/M.1579666540.A.06C.html',\n",
       "   'count': 3}],\n",
       " '223.136.118.29': [{'author': 'johnhmj (耗呆肥羊)',\n",
       "   'url': 'https://www.ptt.cc/bbs/Gossiping/M.1579666548.A.F21.html',\n",
       "   'count': 3}],\n",
       " '14.0.237.99': [{'author': 'Dontco (東摳)',\n",
       "   'url': 'https://www.ptt.cc/bbs/Gossiping/M.1579665038.A.926.html',\n",
       "   'count': 4}],\n",
       " '223.137.168.114': [{'author': 'q76347kimo (q76347kimo)',\n",
       "   'url': 'https://www.ptt.cc/bbs/Gossiping/M.1579665059.A.5D5.html',\n",
       "   'count': 3}],\n",
       " '1.160.34.159': [{'author': 'haiduc (小火柴)',\n",
       "   'url': 'https://www.ptt.cc/bbs/Gossiping/M.1579665135.A.01F.html',\n",
       "   'count': 4}],\n",
       " '61.228.170.248': [{'author': 'BepHbin (值得信任)',\n",
       "   'url': 'https://www.ptt.cc/bbs/Gossiping/M.1579665136.A.C8C.html',\n",
       "   'count': 5}],\n",
       " '140.114.51.19': [{'author': 'kloah (oppai)',\n",
       "   'url': 'https://www.ptt.cc/bbs/Gossiping/M.1579665221.A.992.html',\n",
       "   'count': 3}],\n",
       " '114.34.211.229': [{'author': 'earltyro (伯茶)',\n",
       "   'url': 'https://www.ptt.cc/bbs/Gossiping/M.1579665413.A.AA4.html',\n",
       "   'count': 3}],\n",
       " '114.38.17.68': [{'author': 'krousxchen (城府很深)',\n",
       "   'url': 'https://www.ptt.cc/bbs/Gossiping/M.1579665473.A.30D.html',\n",
       "   'count': 6}],\n",
       " '220.136.39.109': [{'author': 'ckshchen (尖酸苛博文)',\n",
       "   'url': 'https://www.ptt.cc/bbs/Gossiping/M.1579665480.A.BBA.html',\n",
       "   'count': 4}],\n",
       " '219.91.47.64': [{'author': 'mark751019 (☆比哈士奇帥一點☆)',\n",
       "   'url': 'https://www.ptt.cc/bbs/Gossiping/M.1579665551.A.071.html',\n",
       "   'count': 3}],\n",
       " '61.228.17.112': [{'author': 'songgood (ilovegoodgame)',\n",
       "   'url': 'https://www.ptt.cc/bbs/Gossiping/M.1579665607.A.A3B.html',\n",
       "   'count': 3},\n",
       "  {'author': 'songgood (ilovegoodgame)',\n",
       "   'url': 'https://www.ptt.cc/bbs/Gossiping/M.1579664007.A.7B9.html',\n",
       "   'count': 3}],\n",
       " '223.136.143.238': [{'author': 'j022015 (一大包蛋糕邊)',\n",
       "   'url': 'https://www.ptt.cc/bbs/Gossiping/M.1579665694.A.F86.html',\n",
       "   'count': 3}],\n",
       " '42.74.197.250': [{'author': 'ATTwo (咖哩給Gay)',\n",
       "   'url': 'https://www.ptt.cc/bbs/Gossiping/M.1579665709.A.D78.html',\n",
       "   'count': 3}],\n",
       " '115.82.215.48': [{'author': 'magecanby (magecanby)',\n",
       "   'url': 'https://www.ptt.cc/bbs/Gossiping/M.1579665724.A.8E9.html',\n",
       "   'count': 6}],\n",
       " '111.82.254.31': [{'author': 'Asclepius (天...無言)',\n",
       "   'url': 'https://www.ptt.cc/bbs/Gossiping/M.1579665863.A.B8A.html',\n",
       "   'count': 4}],\n",
       " '223.136.127.40': [{'author': 'xxxcv (世界遺產旅遊計畫)',\n",
       "   'url': 'https://www.ptt.cc/bbs/Gossiping/M.1579665865.A.35D.html',\n",
       "   'count': 3}],\n",
       " '101.12.148.86': [{'author': 'immengod (男神小朋)',\n",
       "   'url': 'https://www.ptt.cc/bbs/Gossiping/M.1579665882.A.A56.html',\n",
       "   'count': 3}],\n",
       " '211.20.10.169': [{'author': 'amgdaaaa (也太熱了吧..這夏天)',\n",
       "   'url': 'https://www.ptt.cc/bbs/Gossiping/M.1579665948.A.853.html',\n",
       "   'count': 3}],\n",
       " '1.173.33.191': [{'author': 'kuma0326 (kuma)',\n",
       "   'url': 'https://www.ptt.cc/bbs/Gossiping/M.1579664160.A.2AB.html',\n",
       "   'count': 4}],\n",
       " '110.26.34.78': [{'author': 'eeth (韓國綜藝社)',\n",
       "   'url': 'https://www.ptt.cc/bbs/Gossiping/M.1579664284.A.9B6.html',\n",
       "   'count': 3}],\n",
       " '114.136.159.174': [{'author': 'adgbw8728 (ass)',\n",
       "   'url': 'https://www.ptt.cc/bbs/Gossiping/M.1579664332.A.E99.html',\n",
       "   'count': 3}],\n",
       " '36.229.243.179': [{'author': 'Zcould (宇宙覺青黨工網軍)',\n",
       "   'url': 'https://www.ptt.cc/bbs/Gossiping/M.1579664360.A.C15.html',\n",
       "   'count': 3}],\n",
       " '117.19.165.11': [{'author': 'qqmaybenot (qq)',\n",
       "   'url': 'https://www.ptt.cc/bbs/Gossiping/M.1579664423.A.65A.html',\n",
       "   'count': 3},\n",
       "  {'author': 'qqmaybenot (qq)',\n",
       "   'url': 'https://www.ptt.cc/bbs/Gossiping/M.1579661176.A.BAF.html',\n",
       "   'count': 3}],\n",
       " '114.136.237.100': [{'author': 'chengcti (版主請投我一票!)',\n",
       "   'url': 'https://www.ptt.cc/bbs/Gossiping/M.1579664454.A.612.html',\n",
       "   'count': 4}],\n",
       " '59.120.147.13': [{'author': 'nba887215 (方塊馬)',\n",
       "   'url': 'https://www.ptt.cc/bbs/Gossiping/M.1579664510.A.BA5.html',\n",
       "   'count': 3},\n",
       "  {'author': 'nba887215 (方塊馬)',\n",
       "   'url': 'https://www.ptt.cc/bbs/Gossiping/M.1579660181.A.2E2.html',\n",
       "   'count': 3}],\n",
       " '36.231.153.203': [{'author': 'CharleneTsai (給他200塊去吃麥當勞啦)',\n",
       "   'url': 'https://www.ptt.cc/bbs/Gossiping/M.1579664608.A.DB1.html',\n",
       "   'count': 11}],\n",
       " '36.228.74.145': [{'author': 'huchihkuei01 (不笑不足以為道)',\n",
       "   'url': 'https://www.ptt.cc/bbs/Gossiping/M.1579664814.A.B77.html',\n",
       "   'count': 5}],\n",
       " '111.83.181.220': [{'author': 'reactTW (loLka)',\n",
       "   'url': 'https://www.ptt.cc/bbs/Gossiping/M.1579664818.A.5BF.html',\n",
       "   'count': 3}],\n",
       " '101.12.16.120': [{'author': 'magicrecluse (林小班義，你感受不到)',\n",
       "   'url': 'https://www.ptt.cc/bbs/Gossiping/M.1579664944.A.FF6.html',\n",
       "   'count': 8}],\n",
       " '114.137.219.219': [{'author': 'fenix220 (菲)',\n",
       "   'url': 'https://www.ptt.cc/bbs/Gossiping/M.1579665002.A.D6E.html',\n",
       "   'count': 3},\n",
       "  {'author': 'fenix220 (菲)',\n",
       "   'url': 'https://www.ptt.cc/bbs/Gossiping/M.1579660628.A.1DA.html',\n",
       "   'count': 3}],\n",
       " '117.56.71.43': [{'author': 's5869157 (肥皂泡的世界)',\n",
       "   'url': 'https://www.ptt.cc/bbs/Gossiping/M.1579665021.A.13F.html',\n",
       "   'count': 3}],\n",
       " '150.116.162.161': [{'author': 'ROBrandenbur (韓粉邏輯顧問)',\n",
       "   'url': 'https://www.ptt.cc/bbs/Gossiping/M.1579663578.A.E0A.html',\n",
       "   'count': 3}],\n",
       " '27.52.158.39': [{'author': 'JKGOOD (Dont QQ)',\n",
       "   'url': 'https://www.ptt.cc/bbs/Gossiping/M.1579663613.A.869.html',\n",
       "   'count': 3}],\n",
       " '223.140.145.235': [{'author': 'littlean (幸福就是...)',\n",
       "   'url': 'https://www.ptt.cc/bbs/Gossiping/M.1579663626.A.DE3.html',\n",
       "   'count': 6}],\n",
       " '1.165.61.18': [{'author': 'Rasin (雷森)',\n",
       "   'url': 'https://www.ptt.cc/bbs/Gossiping/M.1579663688.A.292.html',\n",
       "   'count': 3}],\n",
       " '39.13.166.190': [{'author': 'teeheehee (軟尾拋拋翔(′・ω・`))',\n",
       "   'url': 'https://www.ptt.cc/bbs/Gossiping/M.1579663908.A.132.html',\n",
       "   'count': 3},\n",
       "  {'author': 'teeheehee (軟尾拋拋翔(′・ω・`))',\n",
       "   'url': 'https://www.ptt.cc/bbs/Gossiping/M.1579654465.A.D73.html',\n",
       "   'count': 4}],\n",
       " '61.218.53.138': [{'author': 'bogie (阿緋)',\n",
       "   'url': 'https://www.ptt.cc/bbs/Gossiping/M.1579663949.A.78D.html',\n",
       "   'count': 4}],\n",
       " '211.72.175.250': [{'author': 'xamous (一天死去一點)',\n",
       "   'url': 'https://www.ptt.cc/bbs/Gossiping/M.1579663973.A.C70.html',\n",
       "   'count': 5},\n",
       "  {'author': 'obey1110 (obey)',\n",
       "   'url': 'https://www.ptt.cc/bbs/Gossiping/M.1579660589.A.039.html',\n",
       "   'count': 5}],\n",
       " '115.43.118.9': [{'author': 'froglilibon (立立蹦)',\n",
       "   'url': 'https://www.ptt.cc/bbs/Gossiping/M.1579664025.A.8C0.html',\n",
       "   'count': 3}],\n",
       " '42.72.206.196': [{'author': 'metallican (鋼鐵人)',\n",
       "   'url': 'https://www.ptt.cc/bbs/Gossiping/M.1579664048.A.589.html',\n",
       "   'count': 3}],\n",
       " '220.142.89.40': [{'author': 'goldenhill (我的人權時代)',\n",
       "   'url': 'https://www.ptt.cc/bbs/Gossiping/M.1579662821.A.FC8.html',\n",
       "   'count': 3}],\n",
       " '223.136.82.86': [{'author': 'ccyaztfe (best_troll_tw)',\n",
       "   'url': 'https://www.ptt.cc/bbs/Gossiping/M.1579662868.A.A24.html',\n",
       "   'count': 3},\n",
       "  {'author': 'ccyaztfe (best_troll_tw)',\n",
       "   'url': 'https://www.ptt.cc/bbs/Gossiping/M.1579662214.A.41B.html',\n",
       "   'count': 3}],\n",
       " '119.123.0.141': [{'author': 'klm (唐吉柯德的宿命)',\n",
       "   'url': 'https://www.ptt.cc/bbs/Gossiping/M.1579662900.A.E0A.html',\n",
       "   'count': 3},\n",
       "  {'author': 'klm (唐吉柯德的宿命)',\n",
       "   'url': 'https://www.ptt.cc/bbs/Gossiping/M.1579657230.A.3D4.html',\n",
       "   'count': 3}],\n",
       " '114.34.168.58': [{'author': 'rpg (rpg)',\n",
       "   'url': 'https://www.ptt.cc/bbs/Gossiping/M.1579662932.A.971.html',\n",
       "   'count': 3}],\n",
       " '180.217.205.82': [{'author': 'lauwei (lauwei)',\n",
       "   'url': 'https://www.ptt.cc/bbs/Gossiping/M.1579662952.A.AA3.html',\n",
       "   'count': 4}],\n",
       " '1.168.33.136': [{'author': 't00750 ()',\n",
       "   'url': 'https://www.ptt.cc/bbs/Gossiping/M.1579662987.A.166.html',\n",
       "   'count': 6}],\n",
       " '101.15.147.178': [{'author': 'TomFord5566 (湯福56)',\n",
       "   'url': 'https://www.ptt.cc/bbs/Gossiping/M.1579663047.A.AC3.html',\n",
       "   'count': 3}],\n",
       " '125.227.93.205': [{'author': 'VVizZ (我很窮)',\n",
       "   'url': 'https://www.ptt.cc/bbs/Gossiping/M.1579663051.A.968.html',\n",
       "   'count': 3},\n",
       "  {'author': 'VVizZ (我很窮)',\n",
       "   'url': 'https://www.ptt.cc/bbs/Gossiping/M.1579660723.A.81F.html',\n",
       "   'count': 6},\n",
       "  {'author': 'VVizZ (我很窮)',\n",
       "   'url': 'https://www.ptt.cc/bbs/Gossiping/M.1579659752.A.F2C.html',\n",
       "   'count': 3},\n",
       "  {'author': 'VVizZ (我很窮)',\n",
       "   'url': 'https://www.ptt.cc/bbs/Gossiping/M.1579656701.A.596.html',\n",
       "   'count': 3},\n",
       "  {'author': 'VVizZ (我很窮)',\n",
       "   'url': 'https://www.ptt.cc/bbs/Gossiping/M.1579652406.A.ECF.html',\n",
       "   'count': 3}],\n",
       " '69.174.156.62': [{'author': 'rdplyr (cook)',\n",
       "   'url': 'https://www.ptt.cc/bbs/Gossiping/M.1579663120.A.ECD.html',\n",
       "   'count': 3}],\n",
       " '223.138.23.47': [{'author': 'alaskaman (阿拉人)',\n",
       "   'url': 'https://www.ptt.cc/bbs/Gossiping/M.1579663137.A.3A5.html',\n",
       "   'count': 3},\n",
       "  {'author': 'alaskaman (阿拉人)',\n",
       "   'url': 'https://www.ptt.cc/bbs/Gossiping/M.1579659264.A.5D9.html',\n",
       "   'count': 3}],\n",
       " '61.216.78.140': [{'author': 'awhat (La Mer)',\n",
       "   'url': 'https://www.ptt.cc/bbs/Gossiping/M.1579663139.A.E38.html',\n",
       "   'count': 5}],\n",
       " '101.11.1.43': [{'author': 'lazycat5 (phoenix)',\n",
       "   'url': 'https://www.ptt.cc/bbs/Gossiping/M.1579663156.A.644.html',\n",
       "   'count': 6}],\n",
       " '111.71.90.105': [{'author': 'brokenback3 (3)',\n",
       "   'url': 'https://www.ptt.cc/bbs/Gossiping/M.1579663199.A.D0D.html',\n",
       "   'count': 6}],\n",
       " '114.27.250.192': [{'author': 'twmadrid (阿偉)',\n",
       "   'url': 'https://www.ptt.cc/bbs/Gossiping/M.1579663233.A.748.html',\n",
       "   'count': 3}],\n",
       " '1.171.124.239': [{'author': 'shinmoner (WISDOM)',\n",
       "   'url': 'https://www.ptt.cc/bbs/Gossiping/M.1579663254.A.AB8.html',\n",
       "   'count': 3}],\n",
       " '111.82.248.121': [{'author': 'whoyer (XDMan)',\n",
       "   'url': 'https://www.ptt.cc/bbs/Gossiping/M.1579663285.A.7D4.html',\n",
       "   'count': 4}],\n",
       " '101.12.160.69': [{'author': 'zakijudelo (柴克豬大佬)',\n",
       "   'url': 'https://www.ptt.cc/bbs/Gossiping/M.1579663348.A.884.html',\n",
       "   'count': 3},\n",
       "  {'author': 'zakijudelo (柴克豬大佬)',\n",
       "   'url': 'https://www.ptt.cc/bbs/Gossiping/M.1579659460.A.770.html',\n",
       "   'count': 3}],\n",
       " '114.137.141.146': [{'author': 'Pheromone (費洛蒙抗體)',\n",
       "   'url': 'https://www.ptt.cc/bbs/Gossiping/M.1579663405.A.6C8.html',\n",
       "   'count': 4}],\n",
       " '114.44.69.150': [{'author': 'DreamYeh (天使)',\n",
       "   'url': 'https://www.ptt.cc/bbs/Gossiping/M.1579663519.A.0FB.html',\n",
       "   'count': 3}],\n",
       " '1.169.108.123': [{'author': 'KKmex (麥克斯)',\n",
       "   'url': 'https://www.ptt.cc/bbs/Gossiping/M.1579661848.A.07E.html',\n",
       "   'count': 12}],\n",
       " '36.235.33.91': [{'author': 'mayday6103 (咩嗲陸么洞叁)',\n",
       "   'url': 'https://www.ptt.cc/bbs/Gossiping/M.1579661875.A.05F.html',\n",
       "   'count': 3}],\n",
       " '180.217.127.73': [{'author': 'anti87 (天機老人)',\n",
       "   'url': 'https://www.ptt.cc/bbs/Gossiping/M.1579662021.A.DF4.html',\n",
       "   'count': 3}],\n",
       " '180.204.163.140': [{'author': 'qwerapple (nomaman)',\n",
       "   'url': 'https://www.ptt.cc/bbs/Gossiping/M.1579662066.A.58E.html',\n",
       "   'count': 3}],\n",
       " '111.71.123.235': [{'author': 'Borges (波波波波)',\n",
       "   'url': 'https://www.ptt.cc/bbs/Gossiping/M.1579662107.A.1E2.html',\n",
       "   'count': 3}],\n",
       " '59.124.115.133': [{'author': 'terrymoon (說好的幸福呢)',\n",
       "   'url': 'https://www.ptt.cc/bbs/Gossiping/M.1579662132.A.7E4.html',\n",
       "   'count': 3}],\n",
       " '114.46.77.219': [{'author': 'nonpolar (Nonpolar)',\n",
       "   'url': 'https://www.ptt.cc/bbs/Gossiping/M.1579662155.A.AE8.html',\n",
       "   'count': 3}],\n",
       " '128.237.212.122': [{'author': 'linhunk (hihihi)',\n",
       "   'url': 'https://www.ptt.cc/bbs/Gossiping/M.1579662219.A.A83.html',\n",
       "   'count': 3}],\n",
       " '211.75.77.223': [{'author': 'bluehttp (蝦毀)',\n",
       "   'url': 'https://www.ptt.cc/bbs/Gossiping/M.1579662251.A.135.html',\n",
       "   'count': 4}],\n",
       " '219.71.125.125': [{'author': 'neverlean (學不會)',\n",
       "   'url': 'https://www.ptt.cc/bbs/Gossiping/M.1579662407.A.5F5.html',\n",
       "   'count': 3}],\n",
       " '111.248.84.96': [{'author': 'b33 (Bini the bunny)',\n",
       "   'url': 'https://www.ptt.cc/bbs/Gossiping/M.1579662530.A.CDC.html',\n",
       "   'count': 3}],\n",
       " '59.125.249.41': [{'author': 'kober5566 (強暴犯56)',\n",
       "   'url': 'https://www.ptt.cc/bbs/Gossiping/M.1579662578.A.C82.html',\n",
       "   'count': 3},\n",
       "  {'author': 'kober5566 (強暴犯56)',\n",
       "   'url': 'https://www.ptt.cc/bbs/Gossiping/M.1579660229.A.FC6.html',\n",
       "   'count': 5}],\n",
       " '67.160.215.148': [{'author': 'v89074 (Vincent)',\n",
       "   'url': 'https://www.ptt.cc/bbs/Gossiping/M.1579662747.A.EF2.html',\n",
       "   'count': 3}],\n",
       " '180.204.180.83': [{'author': 'KAKAii (*ω*)',\n",
       "   'url': 'https://www.ptt.cc/bbs/Gossiping/M.1579662756.A.70F.html',\n",
       "   'count': 3}],\n",
       " '163.27.239.181': [{'author': 'allbs (喵嗚)',\n",
       "   'url': 'https://www.ptt.cc/bbs/Gossiping/M.1579662791.A.C68.html',\n",
       "   'count': 3}],\n",
       " '111.71.11.75': [{'author': 'elfria (elfria)',\n",
       "   'url': 'https://www.ptt.cc/bbs/Gossiping/M.1579661057.A.5BB.html',\n",
       "   'count': 4}],\n",
       " '124.218.95.48': [{'author': 'KOSHON (我在，故我思。)',\n",
       "   'url': 'https://www.ptt.cc/bbs/Gossiping/M.1579661117.A.CF3.html',\n",
       "   'count': 3}],\n",
       " '110.26.200.13': [{'author': 'waiting0212 (威)',\n",
       "   'url': 'https://www.ptt.cc/bbs/Gossiping/M.1579661287.A.497.html',\n",
       "   'count': 3}],\n",
       " '111.83.217.40': [{'author': 'jiouje (JioUje)',\n",
       "   'url': 'https://www.ptt.cc/bbs/Gossiping/M.1579661315.A.C7F.html',\n",
       "   'count': 3}],\n",
       " '111.83.139.134': [{'author': 'JokePtt (思辨成魔)',\n",
       "   'url': 'https://www.ptt.cc/bbs/Gossiping/M.1579661356.A.68D.html',\n",
       "   'count': 3}],\n",
       " '114.136.105.117': [{'author': 'letgo999 (LetItGo)',\n",
       "   'url': 'https://www.ptt.cc/bbs/Gossiping/M.1579661524.A.652.html',\n",
       "   'count': 3}],\n",
       " '76.21.40.82': [{'author': 'intrepid123 (勇氣)',\n",
       "   'url': 'https://www.ptt.cc/bbs/Gossiping/M.1579661559.A.DF4.html',\n",
       "   'count': 3}],\n",
       " '223.137.73.17': [{'author': 'seacore07 (海角7號)',\n",
       "   'url': 'https://www.ptt.cc/bbs/Gossiping/M.1579661565.A.FC0.html',\n",
       "   'count': 3}],\n",
       " '27.52.231.5': [{'author': 'q123038468 (小謎★)',\n",
       "   'url': 'https://www.ptt.cc/bbs/Gossiping/M.1579661635.A.619.html',\n",
       "   'count': 3}],\n",
       " '42.76.208.23': [{'author': 'wwndbk (黑雪臣)',\n",
       "   'url': 'https://www.ptt.cc/bbs/Gossiping/M.1579661679.A.794.html',\n",
       "   'count': 3}],\n",
       " '42.73.23.188': [{'author': 'hakuoro (hakuoro)',\n",
       "   'url': 'https://www.ptt.cc/bbs/Gossiping/M.1579661728.A.C0F.html',\n",
       "   'count': 4}],\n",
       " '220.133.16.88': [{'author': 'capik (capik)',\n",
       "   'url': 'https://www.ptt.cc/bbs/Gossiping/M.1579661740.A.FBC.html',\n",
       "   'count': 3}],\n",
       " '203.75.79.118': [{'author': 'pippen2002 (操你碼蠢頭! 死MH!)',\n",
       "   'url': 'https://www.ptt.cc/bbs/Gossiping/M.1579661741.A.C50.html',\n",
       "   'count': 3}],\n",
       " '27.246.98.99': [{'author': 'greg77520 (噓)',\n",
       "   'url': 'https://www.ptt.cc/bbs/Gossiping/M.1579661839.A.306.html',\n",
       "   'count': 6}],\n",
       " '61.227.207.109': [{'author': 'a2334436 (<lol>)',\n",
       "   'url': 'https://www.ptt.cc/bbs/Gossiping/M.1579660233.A.B0B.html',\n",
       "   'count': 3}],\n",
       " '39.12.225.223': [{'author': 'e1447e (e1447e)',\n",
       "   'url': 'https://www.ptt.cc/bbs/Gossiping/M.1579660284.A.BD0.html',\n",
       "   'count': 3},\n",
       "  {'author': 'e1447e (e1447e)',\n",
       "   'url': 'https://www.ptt.cc/bbs/Gossiping/M.1579655291.A.959.html',\n",
       "   'count': 3}],\n",
       " '36.236.114.189': [{'author': 'miler22020 (orz)',\n",
       "   'url': 'https://www.ptt.cc/bbs/Gossiping/M.1579660456.A.F94.html',\n",
       "   'count': 3}],\n",
       " '60.248.106.181': [{'author': 'Brad255 ()',\n",
       "   'url': 'https://www.ptt.cc/bbs/Gossiping/M.1579660464.A.3CB.html',\n",
       "   'count': 3},\n",
       "  {'author': 'Brad255 ()',\n",
       "   'url': 'https://www.ptt.cc/bbs/Gossiping/M.1579654628.A.225.html',\n",
       "   'count': 3}],\n",
       " '117.183.110.139': [{'author': 'realtw (realtw)',\n",
       "   'url': 'https://www.ptt.cc/bbs/Gossiping/M.1579660539.A.29D.html',\n",
       "   'count': 3},\n",
       "  {'author': 'realtw (realtw)',\n",
       "   'url': 'https://www.ptt.cc/bbs/Gossiping/M.1579659629.A.9E7.html',\n",
       "   'count': 7}],\n",
       " '27.52.166.116': [{'author': 'bailanchi (我愛黃振綱)',\n",
       "   'url': 'https://www.ptt.cc/bbs/Gossiping/M.1579660670.A.F8A.html',\n",
       "   'count': 3}],\n",
       " '203.74.156.204': [{'author': 'NccuShuai (政帥)',\n",
       "   'url': 'https://www.ptt.cc/bbs/Gossiping/M.1579660675.A.9FF.html',\n",
       "   'count': 3}],\n",
       " '118.167.181.101': [{'author': 'bth060104 (阿B)',\n",
       "   'url': 'https://www.ptt.cc/bbs/Gossiping/M.1579660698.A.585.html',\n",
       "   'count': 3}],\n",
       " '36.238.44.133': [{'author': 'fcfd (哇!)',\n",
       "   'url': 'https://www.ptt.cc/bbs/Gossiping/M.1579660702.A.DC8.html',\n",
       "   'count': 5}],\n",
       " '117.56.213.250': [{'author': 'hoin (◎_◎)',\n",
       "   'url': 'https://www.ptt.cc/bbs/Gossiping/M.1579660740.A.8A5.html',\n",
       "   'count': 3}],\n",
       " '118.163.123.234': [{'author': 'taiwan08 (save the one for all)',\n",
       "   'url': 'https://www.ptt.cc/bbs/Gossiping/M.1579660876.A.57D.html',\n",
       "   'count': 4}],\n",
       " '42.72.32.16': [{'author': 'chivalry70 (火鍋)',\n",
       "   'url': 'https://www.ptt.cc/bbs/Gossiping/M.1579660900.A.E34.html',\n",
       "   'count': 3}],\n",
       " '101.137.141.150': [{'author': 'CavendishJr (卡文迪許jr)',\n",
       "   'url': 'https://www.ptt.cc/bbs/Gossiping/M.1579660927.A.E8D.html',\n",
       "   'count': 3},\n",
       "  {'author': 'CavendishJr (卡文迪許jr)',\n",
       "   'url': 'https://www.ptt.cc/bbs/Gossiping/M.1579653348.A.E58.html',\n",
       "   'count': 3},\n",
       "  {'author': 'CavendishJr (卡文迪許jr)',\n",
       "   'url': 'https://www.ptt.cc/bbs/Gossiping/M.1579649921.A.389.html',\n",
       "   'count': 3}],\n",
       " '111.82.194.106': [{'author': 'Axwell (Axwell)',\n",
       "   'url': 'https://www.ptt.cc/bbs/Gossiping/M.1579661004.A.372.html',\n",
       "   'count': 7}],\n",
       " '114.137.81.203': [{'author': 'ozon (OZON)',\n",
       "   'url': 'https://www.ptt.cc/bbs/Gossiping/M.1579659627.A.339.html',\n",
       "   'count': 3}],\n",
       " '36.235.61.166': [{'author': 'mike143677 (包子大撒避)',\n",
       "   'url': 'https://www.ptt.cc/bbs/Gossiping/M.1579659654.A.2F1.html',\n",
       "   'count': 3}],\n",
       " '24.250.23.136': [{'author': 'kcbill (明日やろうは馬鹿野郎だ)',\n",
       "   'url': 'https://www.ptt.cc/bbs/Gossiping/M.1579659712.A.C60.html',\n",
       "   'count': 3}],\n",
       " '111.243.185.180': [{'author': 'Cassander (Cassander)',\n",
       "   'url': 'https://www.ptt.cc/bbs/Gossiping/M.1579659718.A.7FE.html',\n",
       "   'count': 3}],\n",
       " '223.137.245.147': [{'author': 'zxc787848 (啊屁嘟嘟)',\n",
       "   'url': 'https://www.ptt.cc/bbs/Gossiping/M.1579659759.A.13D.html',\n",
       "   'count': 3}],\n",
       " '1.173.40.117': [{'author': 'Kuru991 (城武)',\n",
       "   'url': 'https://www.ptt.cc/bbs/Gossiping/M.1579659765.A.9A5.html',\n",
       "   'count': 3}],\n",
       " '36.230.235.179': [{'author': 'kent (大屌肯特)',\n",
       "   'url': 'https://www.ptt.cc/bbs/Gossiping/M.1579659788.A.F78.html',\n",
       "   'count': 3}],\n",
       " '114.46.35.161': [{'author': 'moneybuy ()',\n",
       "   'url': 'https://www.ptt.cc/bbs/Gossiping/M.1579659822.A.4C0.html',\n",
       "   'count': 4}],\n",
       " '36.231.155.129': [{'author': 'Paolyta5566 (保力達56哥)',\n",
       "   'url': 'https://www.ptt.cc/bbs/Gossiping/M.1579659941.A.CA5.html',\n",
       "   'count': 3}],\n",
       " '223.140.18.177': [{'author': 'f544544f (夢e使者)',\n",
       "   'url': 'https://www.ptt.cc/bbs/Gossiping/M.1579660030.A.235.html',\n",
       "   'count': 4}],\n",
       " '111.71.160.127': [{'author': 'Lime5566 (萊姆56)',\n",
       "   'url': 'https://www.ptt.cc/bbs/Gossiping/M.1579660061.A.E33.html',\n",
       "   'count': 3}],\n",
       " '39.8.6.234': [{'author': 'Tattoo (沒有什麼是永遠不變的)',\n",
       "   'url': 'https://www.ptt.cc/bbs/Gossiping/M.1579660064.A.409.html',\n",
       "   'count': 5}],\n",
       " '114.39.241.20': [{'author': 'apollo999 (GOD IS LOVE)',\n",
       "   'url': 'https://www.ptt.cc/bbs/Gossiping/M.1579660136.A.440.html',\n",
       "   'count': 3}],\n",
       " '117.56.14.73': [{'author': 'EBVirus (洨洨積極哥)',\n",
       "   'url': 'https://www.ptt.cc/bbs/Gossiping/M.1579660150.A.06F.html',\n",
       "   'count': 5}],\n",
       " '223.200.49.210': [{'author': 'ET01 (ET)',\n",
       "   'url': 'https://www.ptt.cc/bbs/Gossiping/M.1579658688.A.417.html',\n",
       "   'count': 4}],\n",
       " '220.129.50.202': [{'author': 'hamasakiayu (ayumi)',\n",
       "   'url': 'https://www.ptt.cc/bbs/Gossiping/M.1579658791.A.C94.html',\n",
       "   'count': 7}],\n",
       " '211.72.253.48': [{'author': 'gasbomb (虛空雷神獸)',\n",
       "   'url': 'https://www.ptt.cc/bbs/Gossiping/M.1579658933.A.A51.html',\n",
       "   'count': 4}],\n",
       " '114.45.56.166': [{'author': 'Merkle (輪班地獄受難中)',\n",
       "   'url': 'https://www.ptt.cc/bbs/Gossiping/M.1579658995.A.DEC.html',\n",
       "   'count': 3}],\n",
       " '180.217.120.129': [{'author': 'WeGoStyle (哥是薇閣style)',\n",
       "   'url': 'https://www.ptt.cc/bbs/Gossiping/M.1579659061.A.B57.html',\n",
       "   'count': 3}],\n",
       " '223.136.224.218': [{'author': 'lemontree (檸檬)',\n",
       "   'url': 'https://www.ptt.cc/bbs/Gossiping/M.1579659066.A.AC2.html',\n",
       "   'count': 3}],\n",
       " '218.189.30.2': [{'author': 'Tankai (朕)',\n",
       "   'url': 'https://www.ptt.cc/bbs/Gossiping/M.1579659079.A.47C.html',\n",
       "   'count': 5}],\n",
       " '1.171.67.243': [{'author': 'TAMASABUROU (玉三郎)',\n",
       "   'url': 'https://www.ptt.cc/bbs/Gossiping/M.1579659262.A.F5F.html',\n",
       "   'count': 4}],\n",
       " '118.169.143.126': [{'author': 'q214789635 (9527)',\n",
       "   'url': 'https://www.ptt.cc/bbs/Gossiping/M.1579659459.A.96F.html',\n",
       "   'count': 3}],\n",
       " '42.72.85.178': [{'author': 'bewell (一切都好)',\n",
       "   'url': 'https://www.ptt.cc/bbs/Gossiping/M.1579659459.A.201.html',\n",
       "   'count': 3}],\n",
       " '223.136.42.118': [{'author': 'Cetuximab (單株)',\n",
       "   'url': 'https://www.ptt.cc/bbs/Gossiping/M.1579659492.A.274.html',\n",
       "   'count': 3}],\n",
       " '101.12.46.214': [{'author': 'christopherl (Crystal~++)',\n",
       "   'url': 'https://www.ptt.cc/bbs/Gossiping/M.1579659530.A.1ED.html',\n",
       "   'count': 3}],\n",
       " '219.100.37.238': [{'author': 'askingts (地獄山貓)',\n",
       "   'url': 'https://www.ptt.cc/bbs/Gossiping/M.1579659530.A.2EB.html',\n",
       "   'count': 4},\n",
       "  {'author': 'askingts (地獄山貓)',\n",
       "   'url': 'https://www.ptt.cc/bbs/Gossiping/M.1579656240.A.D3F.html',\n",
       "   'count': 6}],\n",
       " '111.251.13.124': [{'author': 'j55888819 (下露顆‧撫耳摸濕)',\n",
       "   'url': 'https://www.ptt.cc/bbs/Gossiping/M.1579659598.A.6FE.html',\n",
       "   'count': 3}],\n",
       " '223.24.152.87': [{'author': 'Adollin (Adol)',\n",
       "   'url': 'https://www.ptt.cc/bbs/Gossiping/M.1579657601.A.90B.html',\n",
       "   'count': 3}],\n",
       " '114.40.58.182': [{'author': 'chart (まどか\\u3000ＮＯ.１ ＼(^O^))',\n",
       "   'url': 'https://www.ptt.cc/bbs/Gossiping/M.1579657666.A.0C0.html',\n",
       "   'count': 3}],\n",
       " '114.137.143.19': [{'author': 'sprinter1 (短跑選手)',\n",
       "   'url': 'https://www.ptt.cc/bbs/Gossiping/M.1579657768.A.C4C.html',\n",
       "   'count': 5}],\n",
       " '65.78.10.87': [{'author': 'Rambo (香帥)',\n",
       "   'url': 'https://www.ptt.cc/bbs/Gossiping/M.1579657857.A.899.html',\n",
       "   'count': 3}],\n",
       " '140.109.23.25': [{'author': 'haha98 (口合口合九十八)',\n",
       "   'url': 'https://www.ptt.cc/bbs/Gossiping/M.1579657878.A.92E.html',\n",
       "   'count': 3}],\n",
       " '1.162.3.214': [{'author': 'ebod221 (ebod221)',\n",
       "   'url': 'https://www.ptt.cc/bbs/Gossiping/M.1579657888.A.C5A.html',\n",
       "   'count': 5}],\n",
       " '27.52.8.138': [{'author': 'colin810106 (臺灣阿姨王)',\n",
       "   'url': 'https://www.ptt.cc/bbs/Gossiping/M.1579657916.A.814.html',\n",
       "   'count': 4}],\n",
       " '118.232.96.133': [{'author': 'joshddd (econ_apprentice)',\n",
       "   'url': 'https://www.ptt.cc/bbs/Gossiping/M.1579658016.A.6B4.html',\n",
       "   'count': 3}],\n",
       " '45.56.94.8': [{'author': 'mayingnine (個性決定能否投資賺大錢)',\n",
       "   'url': 'https://www.ptt.cc/bbs/Gossiping/M.1579658070.A.DD9.html',\n",
       "   'count': 3}],\n",
       " '220.135.141.239': [{'author': 'su35 (謠指部-指揮官)',\n",
       "   'url': 'https://www.ptt.cc/bbs/Gossiping/M.1579658079.A.EAB.html',\n",
       "   'count': 3}],\n",
       " '140.112.87.84': [{'author': 'darren1214 (鼻屎葛牆上)',\n",
       "   'url': 'https://www.ptt.cc/bbs/Gossiping/M.1579658207.A.1AB.html',\n",
       "   'count': 3}],\n",
       " '223.136.151.255': [{'author': 'FollowMe6 (跟我)',\n",
       "   'url': 'https://www.ptt.cc/bbs/Gossiping/M.1579658253.A.F45.html',\n",
       "   'count': 3},\n",
       "  {'author': 'FollowMe6 (跟我)',\n",
       "   'url': 'https://www.ptt.cc/bbs/Gossiping/M.1579655306.A.E28.html',\n",
       "   'count': 3}],\n",
       " '117.19.211.134': [{'author': 'JasperLo (我的風霜，你的單純。)',\n",
       "   'url': 'https://www.ptt.cc/bbs/Gossiping/M.1579658299.A.C87.html',\n",
       "   'count': 3}],\n",
       " '101.136.137.42': [{'author': 'autokey (該起床啦)',\n",
       "   'url': 'https://www.ptt.cc/bbs/Gossiping/M.1579658340.A.240.html',\n",
       "   'count': 3}],\n",
       " '61.228.241.164': [{'author': 'BelaTarr (森)',\n",
       "   'url': 'https://www.ptt.cc/bbs/Gossiping/M.1579658355.A.0C3.html',\n",
       "   'count': 3}],\n",
       " '182.235.99.7': [{'author': 'GGGGININ (喜憨兒)',\n",
       "   'url': 'https://www.ptt.cc/bbs/Gossiping/M.1579658415.A.04C.html',\n",
       "   'count': 3}],\n",
       " '111.242.212.243': [{'author': 'allenblack (艾倫布萊克)',\n",
       "   'url': 'https://www.ptt.cc/bbs/Gossiping/M.1579658473.A.2DA.html',\n",
       "   'count': 3}],\n",
       " '27.247.41.244': [{'author': 'great5566 (陳央)',\n",
       "   'url': 'https://www.ptt.cc/bbs/Gossiping/M.1579658569.A.A0A.html',\n",
       "   'count': 3}],\n",
       " '42.77.141.204': [{'author': 'BlueTuna601 (一二三二一)',\n",
       "   'url': 'https://www.ptt.cc/bbs/Gossiping/M.1579658634.A.3A9.html',\n",
       "   'count': 3}],\n",
       " '42.73.1.28': [{'author': 'wmud ((ˊ\"_\")ˊ￼ ￼NN￼ ￼)',\n",
       "   'url': 'https://www.ptt.cc/bbs/Gossiping/M.1579656563.A.DCF.html',\n",
       "   'count': 3}],\n",
       " '39.13.129.64': [{'author': 'gsggsda ()',\n",
       "   'url': 'https://www.ptt.cc/bbs/Gossiping/M.1579656627.A.AC0.html',\n",
       "   'count': 3}],\n",
       " '39.10.12.180': [{'author': 'JEWH (小田切腹)',\n",
       "   'url': 'https://www.ptt.cc/bbs/Gossiping/M.1579656837.A.EF9.html',\n",
       "   'count': 3}],\n",
       " '118.160.48.243': [{'author': 'no4 (.人.)',\n",
       "   'url': 'https://www.ptt.cc/bbs/Gossiping/M.1579656916.A.F18.html',\n",
       "   'count': 3}],\n",
       " '36.229.0.235': [{'author': 'songgood (ilovegoodgame)',\n",
       "   'url': 'https://www.ptt.cc/bbs/Gossiping/M.1579656926.A.586.html',\n",
       "   'count': 3}],\n",
       " '42.72.177.62': [{'author': \"j32072 (心地善良的o'_'o)\",\n",
       "   'url': 'https://www.ptt.cc/bbs/Gossiping/M.1579657086.A.284.html',\n",
       "   'count': 3}],\n",
       " '123.0.224.80': [{'author': 'vc5566 (凡事有理即站得住腳)',\n",
       "   'url': 'https://www.ptt.cc/bbs/Gossiping/M.1579657101.A.9A0.html',\n",
       "   'count': 5}],\n",
       " '42.73.195.253': [{'author': 'm4vu0 (m4vu0)',\n",
       "   'url': 'https://www.ptt.cc/bbs/Gossiping/M.1579657164.A.979.html',\n",
       "   'count': 3}],\n",
       " '114.27.83.103': [{'author': 'Tosca ( )',\n",
       "   'url': 'https://www.ptt.cc/bbs/Gossiping/M.1579657264.A.6B3.html',\n",
       "   'count': 4}],\n",
       " '42.72.255.168': [{'author': 'Anddyliu (安滴滴)',\n",
       "   'url': 'https://www.ptt.cc/bbs/Gossiping/M.1579657343.A.C8D.html',\n",
       "   'count': 4}],\n",
       " '101.9.231.158': [{'author': 'chichi32 (奇奇)',\n",
       "   'url': 'https://www.ptt.cc/bbs/Gossiping/M.1579657493.A.22D.html',\n",
       "   'count': 3}],\n",
       " '223.137.98.3': [{'author': 'king665714 (花生嬸魔術)',\n",
       "   'url': 'https://www.ptt.cc/bbs/Gossiping/M.1579657559.A.ED4.html',\n",
       "   'count': 3}],\n",
       " '111.184.37.146': [{'author': 'youarefat (YouAreFat)',\n",
       "   'url': 'https://www.ptt.cc/bbs/Gossiping/M.1579655743.A.2FE.html',\n",
       "   'count': 4}],\n",
       " '1.169.213.157': [{'author': 'abram (科科)',\n",
       "   'url': 'https://www.ptt.cc/bbs/Gossiping/M.1579655749.A.160.html',\n",
       "   'count': 4}],\n",
       " '49.181.195.110': [{'author': 'mischief10 (alvin)',\n",
       "   'url': 'https://www.ptt.cc/bbs/Gossiping/M.1579655775.A.0F3.html',\n",
       "   'count': 3}],\n",
       " '61.230.203.39': [{'author': 'autokey (該起床啦)',\n",
       "   'url': 'https://www.ptt.cc/bbs/Gossiping/M.1579655783.A.977.html',\n",
       "   'count': 3}],\n",
       " '101.13.228.38': [{'author': 'tom501062003 (池袋情報商)',\n",
       "   'url': 'https://www.ptt.cc/bbs/Gossiping/M.1579655862.A.AC8.html',\n",
       "   'count': 3}],\n",
       " '150.116.251.124': [{'author': 'olmtw (支持htc，支持台灣貨)',\n",
       "   'url': 'https://www.ptt.cc/bbs/Gossiping/M.1579655867.A.6E9.html',\n",
       "   'count': 3}],\n",
       " '49.214.245.98': [{'author': 'ayeae (邱三小朋友)',\n",
       "   'url': 'https://www.ptt.cc/bbs/Gossiping/M.1579655912.A.D4D.html',\n",
       "   'count': 3}],\n",
       " '111.243.52.238': [{'author': 'kk0716 (莫言)',\n",
       "   'url': 'https://www.ptt.cc/bbs/Gossiping/M.1579655946.A.5B8.html',\n",
       "   'count': 3}],\n",
       " '27.52.62.245': [{'author': 'macbook12 (12吋蘋果)',\n",
       "   'url': 'https://www.ptt.cc/bbs/Gossiping/M.1579656003.A.ED8.html',\n",
       "   'count': 3}],\n",
       " '27.55.70.43': [{'author': 'fffffff4 (使用者在線上)',\n",
       "   'url': 'https://www.ptt.cc/bbs/Gossiping/M.1579656063.A.CDE.html',\n",
       "   'count': 3}],\n",
       " '110.26.75.140': [{'author': 'headcase (散播幸福的肥肥^^)',\n",
       "   'url': 'https://www.ptt.cc/bbs/Gossiping/M.1579656153.A.0C5.html',\n",
       "   'count': 3}],\n",
       " '101.136.40.206': [{'author': 'alinalovers (凜冬將至企鵝在天涯)',\n",
       "   'url': 'https://www.ptt.cc/bbs/Gossiping/M.1579656211.A.C84.html',\n",
       "   'count': 3}],\n",
       " '60.251.62.253': [{'author': 'Cyuhsuan (姆斯沒去過強隊)',\n",
       "   'url': 'https://www.ptt.cc/bbs/Gossiping/M.1579656316.A.D77.html',\n",
       "   'count': 3}],\n",
       " '39.9.69.57': [{'author': 'kilof (KiLoF)',\n",
       "   'url': 'https://www.ptt.cc/bbs/Gossiping/M.1579656366.A.8E1.html',\n",
       "   'count': 3}],\n",
       " '106.1.156.151': [{'author': 'yuzukineko (閃亮三叔公)',\n",
       "   'url': 'https://www.ptt.cc/bbs/Gossiping/M.1579656381.A.40C.html',\n",
       "   'count': 3}],\n",
       " '223.137.194.88': [{'author': 'LUB5566 (理由伯)',\n",
       "   'url': 'https://www.ptt.cc/bbs/Gossiping/M.1579656456.A.724.html',\n",
       "   'count': 4}],\n",
       " '114.137.114.197': [{'author': 'a026537 (Fish)',\n",
       "   'url': 'https://www.ptt.cc/bbs/Gossiping/M.1579656498.A.541.html',\n",
       "   'count': 3}],\n",
       " '223.137.95.255': [{'author': 'kinve1014 (黑松可樂)',\n",
       "   'url': 'https://www.ptt.cc/bbs/Gossiping/M.1579656542.A.222.html',\n",
       "   'count': 3}],\n",
       " '223.138.33.180': [{'author': 'DevilHotel (惡魔旅館)',\n",
       "   'url': 'https://www.ptt.cc/bbs/Gossiping/M.1579654805.A.B96.html',\n",
       "   'count': 3},\n",
       "  {'author': 'DevilHotel (惡魔旅館)',\n",
       "   'url': 'https://www.ptt.cc/bbs/Gossiping/M.1579654228.A.4B8.html',\n",
       "   'count': 4}],\n",
       " '39.11.66.50': [{'author': 'asrichfox (fox)',\n",
       "   'url': 'https://www.ptt.cc/bbs/Gossiping/M.1579654866.A.5E3.html',\n",
       "   'count': 3}],\n",
       " '61.222.245.227': [{'author': 'Salcea (5457)',\n",
       "   'url': 'https://www.ptt.cc/bbs/Gossiping/M.1579654931.A.26A.html',\n",
       "   'count': 7}],\n",
       " '42.74.229.242': [{'author': 'za2205 (給我一杯藍山)',\n",
       "   'url': 'https://www.ptt.cc/bbs/Gossiping/M.1579654936.A.10A.html',\n",
       "   'count': 3}],\n",
       " '114.47.183.113': [{'author': 'l26921216 (很悠閒的生活～～)',\n",
       "   'url': 'https://www.ptt.cc/bbs/Gossiping/M.1579654954.A.76D.html',\n",
       "   'count': 4}],\n",
       " '101.12.26.87': [{'author': 'silavimimi (中山醫簡豬)',\n",
       "   'url': 'https://www.ptt.cc/bbs/Gossiping/M.1579655074.A.914.html',\n",
       "   'count': 3}],\n",
       " '117.56.0.89': [{'author': 'aa44 (享受被噓的快感)',\n",
       "   'url': 'https://www.ptt.cc/bbs/Gossiping/M.1579655233.A.8F3.html',\n",
       "   'count': 3}],\n",
       " '42.77.101.207': [{'author': 'maybetodo (np)',\n",
       "   'url': 'https://www.ptt.cc/bbs/Gossiping/M.1579655319.A.F26.html',\n",
       "   'count': 3}],\n",
       " '49.216.3.36': [{'author': 'amoyui (clom)',\n",
       "   'url': 'https://www.ptt.cc/bbs/Gossiping/M.1579655362.A.13F.html',\n",
       "   'count': 3}],\n",
       " '192.83.168.161': [{'author': 'FlutteRage (我沒看第三季之後的啦)',\n",
       "   'url': 'https://www.ptt.cc/bbs/Gossiping/M.1579655373.A.2D4.html',\n",
       "   'count': 4}],\n",
       " '60.248.176.61': [{'author': 'chinaeatshit (我愛台灣！中國吃屎！！)',\n",
       "   'url': 'https://www.ptt.cc/bbs/Gossiping/M.1579655438.A.07B.html',\n",
       "   'count': 3}],\n",
       " '60.251.120.91': [{'author': 'compal123 ()',\n",
       "   'url': 'https://www.ptt.cc/bbs/Gossiping/M.1579655550.A.FAF.html',\n",
       "   'count': 3}],\n",
       " '114.39.85.30': [{'author': 'fnm525 (獅子座-軒轅十四)',\n",
       "   'url': 'https://www.ptt.cc/bbs/Gossiping/M.1579655582.A.E97.html',\n",
       "   'count': 3},\n",
       "  {'author': 'fnm525 (獅子座-軒轅十四)',\n",
       "   'url': 'https://www.ptt.cc/bbs/Gossiping/M.1579653397.A.67D.html',\n",
       "   'count': 3}],\n",
       " '107.77.230.18': [{'author': 'jimmy5680 (If Penguins May Fly)',\n",
       "   'url': 'https://www.ptt.cc/bbs/Gossiping/M.1579655598.A.0A0.html',\n",
       "   'count': 3}],\n",
       " '125.230.242.196': [{'author': 'obdv (真☆母★教右護法)',\n",
       "   'url': 'https://www.ptt.cc/bbs/Gossiping/M.1579655655.A.93D.html',\n",
       "   'count': 3}],\n",
       " '140.112.25.98': [{'author': 'seand8088503 (あいうえお)',\n",
       "   'url': 'https://www.ptt.cc/bbs/Gossiping/M.1579653900.A.16D.html',\n",
       "   'count': 3}],\n",
       " '223.137.195.161': [{'author': 'iamshana (CANINE力集中在一些重要S)',\n",
       "   'url': 'https://www.ptt.cc/bbs/Gossiping/M.1579653910.A.0A0.html',\n",
       "   'count': 3}],\n",
       " '223.136.89.151': [{'author': 'Skydier (噫！)',\n",
       "   'url': 'https://www.ptt.cc/bbs/Gossiping/M.1579653941.A.B46.html',\n",
       "   'count': 3}],\n",
       " '220.134.68.8': [{'author': 'science9686 (科學 = 真理)',\n",
       "   'url': 'https://www.ptt.cc/bbs/Gossiping/M.1579654034.A.091.html',\n",
       "   'count': 3}],\n",
       " '59.120.41.121': [{'author': 'pdz (PDZ)',\n",
       "   'url': 'https://www.ptt.cc/bbs/Gossiping/M.1579654038.A.B10.html',\n",
       "   'count': 3}],\n",
       " '107.77.231.130': [{'author': 'thermo409 (超級喜歡郭俊麟)',\n",
       "   'url': 'https://www.ptt.cc/bbs/Gossiping/M.1579654214.A.E53.html',\n",
       "   'count': 3}],\n",
       " '114.136.253.33': [{'author': 't74159630 (黑貓宅急便)',\n",
       "   'url': 'https://www.ptt.cc/bbs/Gossiping/M.1579654232.A.C1E.html',\n",
       "   'count': 3}],\n",
       " '114.136.2.207': [{'author': 'sodistrues (true)',\n",
       "   'url': 'https://www.ptt.cc/bbs/Gossiping/M.1579654303.A.4D9.html',\n",
       "   'count': 3}],\n",
       " '180.217.94.118': [{'author': 'alexYu (君行早，更有早行人)',\n",
       "   'url': 'https://www.ptt.cc/bbs/Gossiping/M.1579654320.A.4C9.html',\n",
       "   'count': 3}],\n",
       " '101.12.4.232': [{'author': 'botnet (殭屍網路)',\n",
       "   'url': 'https://www.ptt.cc/bbs/Gossiping/M.1579654369.A.1E8.html',\n",
       "   'count': 3}],\n",
       " '101.13.160.182': [{'author': 'polyhome (小天)',\n",
       "   'url': 'https://www.ptt.cc/bbs/Gossiping/M.1579654423.A.EFB.html',\n",
       "   'count': 3}],\n",
       " '42.72.216.234': [{'author': 'mk203125 (戴奧辛)',\n",
       "   'url': 'https://www.ptt.cc/bbs/Gossiping/M.1579654481.A.69F.html',\n",
       "   'count': 3}],\n",
       " '42.77.159.47': [{'author': 'ben28 (ben)',\n",
       "   'url': 'https://www.ptt.cc/bbs/Gossiping/M.1579654501.A.071.html',\n",
       "   'count': 5}],\n",
       " '111.71.220.41': [{'author': 'dean1990 (狄恩院長)',\n",
       "   'url': 'https://www.ptt.cc/bbs/Gossiping/M.1579654643.A.676.html',\n",
       "   'count': 4},\n",
       "  {'author': 'dean1990 (狄恩院長)',\n",
       "   'url': 'https://www.ptt.cc/bbs/Gossiping/M.1579653464.A.52F.html',\n",
       "   'count': 4}],\n",
       " '39.8.162.95': [{'author': 'Vincent6964 ()',\n",
       "   'url': 'https://www.ptt.cc/bbs/Gossiping/M.1579654771.A.85D.html',\n",
       "   'count': 3}],\n",
       " '110.50.137.229': [{'author': 'joanne520 (請正名喬安 not 囧安~~~~)',\n",
       "   'url': 'https://www.ptt.cc/bbs/Gossiping/M.1579652462.A.6A7.html',\n",
       "   'count': 3}],\n",
       " '220.133.113.231': [{'author': 'wrisp (陽光菜菜農)',\n",
       "   'url': 'https://www.ptt.cc/bbs/Gossiping/M.1579652522.A.D04.html',\n",
       "   'count': 3}],\n",
       " '2.58.194.146': [{'author': 'newpasta (pasta)',\n",
       "   'url': 'https://www.ptt.cc/bbs/Gossiping/M.1579652544.A.FC0.html',\n",
       "   'count': 7},\n",
       "  {'author': 'newpasta (pasta)',\n",
       "   'url': 'https://www.ptt.cc/bbs/Gossiping/M.1579650005.A.63E.html',\n",
       "   'count': 7}],\n",
       " '42.75.148.125': [{'author': 'rpg227726 (Jiiiie)',\n",
       "   'url': 'https://www.ptt.cc/bbs/Gossiping/M.1579652634.A.729.html',\n",
       "   'count': 3}],\n",
       " '49.216.191.202': [{'author': 'jtf81902013 (AlisCait)',\n",
       "   'url': 'https://www.ptt.cc/bbs/Gossiping/M.1579652671.A.B44.html',\n",
       "   'count': 3}],\n",
       " '118.232.117.65': [{'author': 'XBOXFANS (man)',\n",
       "   'url': 'https://www.ptt.cc/bbs/Gossiping/M.1579652844.A.062.html',\n",
       "   'count': 4}],\n",
       " '101.15.146.90': [{'author': 'patentstm (暖暖苗圃沒有樹)',\n",
       "   'url': 'https://www.ptt.cc/bbs/Gossiping/M.1579653043.A.CDD.html',\n",
       "   'count': 3}],\n",
       " '49.215.130.140': [{'author': 'neil136 (暱稱好難)',\n",
       "   'url': 'https://www.ptt.cc/bbs/Gossiping/M.1579653214.A.3B8.html',\n",
       "   'count': 3},\n",
       "  {'author': 'neil136 (暱稱好難)',\n",
       "   'url': 'https://www.ptt.cc/bbs/Gossiping/M.1579651454.A.976.html',\n",
       "   'count': 3}],\n",
       " '114.38.58.68': [{'author': 'Sam27 (Sam)',\n",
       "   'url': 'https://www.ptt.cc/bbs/Gossiping/M.1579653358.A.279.html',\n",
       "   'count': 3}],\n",
       " '42.73.160.221': [{'author': 'tenching (佳釀)',\n",
       "   'url': 'https://www.ptt.cc/bbs/Gossiping/M.1579653675.A.87A.html',\n",
       "   'count': 4}],\n",
       " '180.217.107.105': [{'author': 'joejohn (開始認真了)',\n",
       "   'url': 'https://www.ptt.cc/bbs/Gossiping/M.1579653815.A.367.html',\n",
       "   'count': 3}],\n",
       " '59.125.101.251': [{'author': 'Eliphalet (高等遊民)',\n",
       "   'url': 'https://www.ptt.cc/bbs/Gossiping/M.1579651243.A.8E9.html',\n",
       "   'count': 3}],\n",
       " '115.82.24.142': [{'author': 'shiaubai (小白)',\n",
       "   'url': 'https://www.ptt.cc/bbs/Gossiping/M.1579651261.A.483.html',\n",
       "   'count': 4}],\n",
       " '180.204.236.203': [{'author': 'rickey1270 (我大奈亞子毫無死角！！)',\n",
       "   'url': 'https://www.ptt.cc/bbs/Gossiping/M.1579651423.A.995.html',\n",
       "   'count': 3},\n",
       "  {'author': 'rickey1270 (我大奈亞子毫無死角！！)',\n",
       "   'url': 'https://www.ptt.cc/bbs/Gossiping/M.1579651423.A.20E.html',\n",
       "   'count': 3},\n",
       "  {'author': 'rickey1270 (我大奈亞子毫無死角！！)',\n",
       "   'url': 'https://www.ptt.cc/bbs/Gossiping/M.1579651424.A.97D.html',\n",
       "   'count': 3}],\n",
       " '126.255.27.195': [{'author': 'xzcb2008 (情色貓貓鑽石英粉)',\n",
       "   'url': 'https://www.ptt.cc/bbs/Gossiping/M.1579651467.A.762.html',\n",
       "   'count': 3}],\n",
       " '95.150.158.87': [{'author': 'wwewcwwwf (台灣老闆不要的廢物垃圾)',\n",
       "   'url': 'https://www.ptt.cc/bbs/Gossiping/M.1579651577.A.D97.html',\n",
       "   'count': 3}],\n",
       " '59.125.27.163': [{'author': 'pttshit (ptt一擊)',\n",
       "   'url': 'https://www.ptt.cc/bbs/Gossiping/M.1579651657.A.C9C.html',\n",
       "   'count': 3}],\n",
       " '123.193.128.227': [{'author': 'TomFord5566 (湯福56)',\n",
       "   'url': 'https://www.ptt.cc/bbs/Gossiping/M.1579651796.A.2EF.html',\n",
       "   'count': 3}],\n",
       " '1.169.128.241': [{'author': 'hiyida (我心裡鎖著你 不想你出來)',\n",
       "   'url': 'https://www.ptt.cc/bbs/Gossiping/M.1579651812.A.3F3.html',\n",
       "   'count': 3}],\n",
       " '223.140.246.56': [{'author': 'ivanos (common sense)',\n",
       "   'url': 'https://www.ptt.cc/bbs/Gossiping/M.1579651865.A.CF7.html',\n",
       "   'count': 4}],\n",
       " '114.43.179.208': [{'author': 'arbitrageur (旅行的意義)',\n",
       "   'url': 'https://www.ptt.cc/bbs/Gossiping/M.1579651914.A.248.html',\n",
       "   'count': 4}],\n",
       " '49.216.51.61': [{'author': 'PasManquer (Tu Me Manques)',\n",
       "   'url': 'https://www.ptt.cc/bbs/Gossiping/M.1579651947.A.FA7.html',\n",
       "   'count': 3}],\n",
       " '114.46.21.87': [{'author': 'scmono (摸諾)',\n",
       "   'url': 'https://www.ptt.cc/bbs/Gossiping/M.1579652069.A.013.html',\n",
       "   'count': 3}],\n",
       " '219.84.181.219': [{'author': 'assassinASHE (幹古專用帳號)',\n",
       "   'url': 'https://www.ptt.cc/bbs/Gossiping/M.1579652102.A.79C.html',\n",
       "   'count': 3}],\n",
       " '115.82.194.7': [{'author': 'tivallion (Tiva)',\n",
       "   'url': 'https://www.ptt.cc/bbs/Gossiping/M.1579652425.A.C2A.html',\n",
       "   'count': 3}],\n",
       " '36.231.192.179': [{'author': 'l83OGC5566 (協志)',\n",
       "   'url': 'https://www.ptt.cc/bbs/Gossiping/M.1579649250.A.A60.html',\n",
       "   'count': 3}],\n",
       " '82.239.132.37': [{'author': 'amy93 (silence)',\n",
       "   'url': 'https://www.ptt.cc/bbs/Gossiping/M.1579649292.A.03C.html',\n",
       "   'count': 3},\n",
       "  {'author': 'amy93 (silence)',\n",
       "   'url': 'https://www.ptt.cc/bbs/Gossiping/M.1579648623.A.19B.html',\n",
       "   'count': 4}],\n",
       " '36.230.222.252': [{'author': 'a828203 ()',\n",
       "   'url': 'https://www.ptt.cc/bbs/Gossiping/M.1579649387.A.FFB.html',\n",
       "   'count': 3}],\n",
       " '223.139.38.25': [{'author': 'jianzhi95 (95)',\n",
       "   'url': 'https://www.ptt.cc/bbs/Gossiping/M.1579649412.A.4AB.html',\n",
       "   'count': 3}],\n",
       " '117.19.229.108': [{'author': 'tigertanktwo (tigertanktwo)',\n",
       "   'url': 'https://www.ptt.cc/bbs/Gossiping/M.1579649425.A.F9B.html',\n",
       "   'count': 4}],\n",
       " '101.137.64.109': [{'author': 'livemail (即時現場)',\n",
       "   'url': 'https://www.ptt.cc/bbs/Gossiping/M.1579649499.A.3F8.html',\n",
       "   'count': 3}],\n",
       " '101.14.144.252': [{'author': 'ohfulow (ohfulow)',\n",
       "   'url': 'https://www.ptt.cc/bbs/Gossiping/M.1579649604.A.57B.html',\n",
       "   'count': 3}],\n",
       " '49.214.133.120': [{'author': 'sanshin (三振)',\n",
       "   'url': 'https://www.ptt.cc/bbs/Gossiping/M.1579649691.A.270.html',\n",
       "   'count': 3}],\n",
       " '111.250.41.8': [{'author': 'chadmu (查德姆)',\n",
       "   'url': 'https://www.ptt.cc/bbs/Gossiping/M.1579649757.A.A54.html',\n",
       "   'count': 4}],\n",
       " '123.204.198.41': [{'author': 'ivorysoap (ivorysoap)',\n",
       "   'url': 'https://www.ptt.cc/bbs/Gossiping/M.1579649768.A.F2A.html',\n",
       "   'count': 3},\n",
       "  {'author': 'ivorysoap (ivorysoap)',\n",
       "   'url': 'https://www.ptt.cc/bbs/Gossiping/M.1579648596.A.D27.html',\n",
       "   'count': 3}],\n",
       " '180.217.236.68': [{'author': 'seal81924 (臺北有個天兵叫阿國)',\n",
       "   'url': 'https://www.ptt.cc/bbs/Gossiping/M.1579649789.A.045.html',\n",
       "   'count': 3}],\n",
       " '209.107.189.160': [{'author': 'wengeniusgod (玻璃77)',\n",
       "   'url': 'https://www.ptt.cc/bbs/Gossiping/M.1579650089.A.DE2.html',\n",
       "   'count': 3}],\n",
       " '223.140.88.190': [{'author': 'elec1141 (木村拓哉)',\n",
       "   'url': 'https://www.ptt.cc/bbs/Gossiping/M.1579650403.A.3A6.html',\n",
       "   'count': 3}],\n",
       " '114.137.28.41': [{'author': 'chamge7788 (經濟王7887)',\n",
       "   'url': 'https://www.ptt.cc/bbs/Gossiping/M.1579650577.A.D2C.html',\n",
       "   'count': 3}],\n",
       " '27.247.38.124': [{'author': 'LIN9 (LIN9)',\n",
       "   'url': 'https://www.ptt.cc/bbs/Gossiping/M.1579651021.A.6B3.html',\n",
       "   'count': 5}],\n",
       " '1.162.113.93': [{'author': 'ilovesumika (老夫)',\n",
       "   'url': 'https://www.ptt.cc/bbs/Gossiping/M.1579651195.A.FF4.html',\n",
       "   'count': 3}],\n",
       " '194.99.104.100': [{'author': 'mefenamic (mene)',\n",
       "   'url': 'https://www.ptt.cc/bbs/Gossiping/M.1579647889.A.6E0.html',\n",
       "   'count': 3}],\n",
       " '101.15.206.84': [{'author': 'wwf0322 (奴才)',\n",
       "   'url': 'https://www.ptt.cc/bbs/Gossiping/M.1579647895.A.451.html',\n",
       "   'count': 4}],\n",
       " '114.136.223.44': [{'author': 'g526153314 (喜德)',\n",
       "   'url': 'https://www.ptt.cc/bbs/Gossiping/M.1579648078.A.DE0.html',\n",
       "   'count': 3}],\n",
       " '49.213.197.163': [{'author': 'y3226999 (咪苦說她喜歡我 >///<)',\n",
       "   'url': 'https://www.ptt.cc/bbs/Gossiping/M.1579648202.A.F25.html',\n",
       "   'count': 3}],\n",
       " '42.72.167.168': [{'author': 'HatsuneMiku (初音咪苦)',\n",
       "   'url': 'https://www.ptt.cc/bbs/Gossiping/M.1579648243.A.F27.html',\n",
       "   'count': 3}],\n",
       " '111.184.64.94': [{'author': 'WeiU (微，Ｕ文)',\n",
       "   'url': 'https://www.ptt.cc/bbs/Gossiping/M.1579648428.A.1F8.html',\n",
       "   'count': 3}],\n",
       " '223.140.0.31': [{'author': 'babypooh0902 (呆妃)',\n",
       "   'url': 'https://www.ptt.cc/bbs/Gossiping/M.1579648563.A.CD8.html',\n",
       "   'count': 3}],\n",
       " '223.136.84.35': [{'author': 'snakei14702 (sun抓奶廷已經gg了怎麼?:)',\n",
       "   'url': 'https://www.ptt.cc/bbs/Gossiping/M.1579648618.A.5BF.html',\n",
       "   'count': 3}],\n",
       " '223.137.43.190': [{'author': 'loserfatotak (家裡蹲魯肥宅(T^T))',\n",
       "   'url': 'https://www.ptt.cc/bbs/Gossiping/M.1579648634.A.8C9.html',\n",
       "   'count': 3}],\n",
       " '220.129.147.198': [{'author': 'yw1002 (...)',\n",
       "   'url': 'https://www.ptt.cc/bbs/Gossiping/M.1579648703.A.984.html',\n",
       "   'count': 4}],\n",
       " '123.193.88.172': [{'author': 'enamor753 (enamor753)',\n",
       "   'url': 'https://www.ptt.cc/bbs/Gossiping/M.1579648860.A.9EE.html',\n",
       "   'count': 3}],\n",
       " '118.168.14.88': [{'author': 'ai129220 (Aiden)',\n",
       "   'url': 'https://www.ptt.cc/bbs/Gossiping/M.1579648902.A.BDC.html',\n",
       "   'count': 3}],\n",
       " '49.98.75.237': [{'author': 'david3809 (霜月薰)',\n",
       "   'url': 'https://www.ptt.cc/bbs/Gossiping/M.1579649247.A.98B.html',\n",
       "   'count': 3}]}"
      ]
     },
     "execution_count": 337,
     "metadata": {},
     "output_type": "execute_result"
    }
   ],
   "source": [
    "political_max = 1\n",
    "political_info = dict(list(dict()))\n",
    "\n",
    "#判斷政治用語詞頻分佈\n",
    "for index in authorInfo:\n",
    "    #print(len(authorInfo[index]),authorInfo[index]['ip'])\n",
    "    if len(authorInfo[index]) > political_max:\n",
    "        ip=authorInfo[index]['ip']\n",
    "        author=authorInfo[index]['author']\n",
    "        url=authorInfo[index]['url']\n",
    "        if ip in political_info:\n",
    "            if author not in political_info[ip][0].values():\n",
    "                print('ponccQQ',ip,author,':',political_info[ip])\n",
    "                tempList=political_info[ip];\n",
    "                tempList.append({'author':author,'url':url,'count':len(authorInfo[index])})\n",
    "                political_info[ip]=tempList\n",
    "            else:\n",
    "                tempList=political_info[ip];\n",
    "                tempList.append({'author':author,'url':url,'count':len(authorInfo[index])})\n",
    "                political_info[ip]=tempList\n",
    "        else:    \n",
    "            tempList=list()\n",
    "            tempList.append({'author':author,'url':url,'count':len(authorInfo[index])})\n",
    "            political_info[ip] = tempList\n",
    "    #for k,v in authorInfo[index].items():\n",
    "    #    if k in political:\n",
    "    #        x=1\n",
    "#            print(k)\n",
    "for i in political_info:\n",
    "    #print(len(political_info[i]))\n",
    "    if len(political_info[i]) > 1:\n",
    "        for l in political_info[i]:\n",
    "            print('網軍:',i,'count:',len(political_info[i]),'info:',l['author'],l['url'])\n",
    "political_info"
   ]
  },
  {
   "cell_type": "code",
   "execution_count": null,
   "metadata": {},
   "outputs": [],
   "source": []
  },
  {
   "cell_type": "code",
   "execution_count": 364,
   "metadata": {},
   "outputs": [
    {
     "name": "stderr",
     "output_type": "stream",
     "text": [
      "Building prefix dict from /Users/poncc/Documents/GitHub/2nd-PyCrawlerMarathon/homework/day038/dict.user.big.txt ...\n",
      "Loading model from cache /var/folders/68/t9g86v0d0ys2rpbv_g1xxrph0000gn/T/jieba.u25b0b9ddcb92304ec71499048447de52.cache\n"
     ]
    },
    {
     "name": "stdout",
     "output_type": "stream",
     "text": [
      "time Error: askingts (地獄山貓)\n",
      "time Error: Gossiping\n",
      "time Error: Re: [新聞] 再選宜蘭縣長？ 陳歐珀︰沒承諾不選\n"
     ]
    },
    {
     "name": "stderr",
     "output_type": "stream",
     "text": [
      "Loading model cost 1.069 seconds.\n",
      "Prefix dict has been built successfully.\n"
     ]
    },
    {
     "name": "stdout",
     "output_type": "stream",
     "text": [
      "2020-01-22 10:18:48\n"
     ]
    }
   ],
   "source": [
    "#wordSet=set()\n",
    "#authorInfo=dict()\n",
    "wordContentList=dict(list())\n",
    "#response = requests.get('https://www.ptt.cc/bbs/Gossiping/M.1587746924.A.9DC.html', cookies={'over18': '1'})\n",
    "#response = requests.get('https://www.ptt.cc/bbs/Gossiping/M.1587823974.A.884.html', cookies={'over18': '1'})\n",
    "response = requests.get('https://www.ptt.cc/bbs/Gossiping/M.1579659530.A.2EB.html', cookies={'over18': '1'})\n",
    "\n",
    "#response = requests.get(url, cookies={'over18': '1'})\n",
    "#print(response)\n",
    "# 假設網頁回應不是 200 OK 的話, 我們視為傳送請求失敗\n",
    "if response.status_code != 200:\n",
    "    print('Error - {} is not available to access'.format(url))\n",
    "    \n",
    "\n",
    "# 將網頁回應的 HTML 傳入 BeautifulSoup 解析器, 方便我們根據標籤 (tag) 資訊去過濾尋找\n",
    "soup = BeautifulSoup(response.text)\n",
    "\n",
    "# 取得文章內容主體\n",
    "main_content = soup.find(id='main-content')\n",
    "\n",
    "# 取得作者資訊\n",
    "author = main_content.find_all('span',class_='article-meta-value')[0].text\n",
    "ip=''\n",
    "for contentInfo in main_content.find_all('span',class_='f2'):\n",
    "    if '※ 發信站: 批踢踢實業坊(ptt.cc), 來自: ' in contentInfo.text:\n",
    "        ip = filterIP(contentInfo.text)\n",
    "date=''\n",
    "for contentInfo in main_content.find_all('span',class_='article-meta-value'):\n",
    "    try:\n",
    "        date=datetime.strptime(contentInfo.text, \"%a %b %d %H:%M:%S %Y\")\n",
    "    except:\n",
    "        print(\"time Error:\",contentInfo.text)\n",
    "    #print('date::',contentInfo.text)\n",
    "    \n",
    "    \n",
    "\n",
    "# 移除文章主體中 '※ 發信站:', '◆ From:', 空行及多餘空白 (※ = u'\\u203b', ◆ = u'\\u25c6')\n",
    "# 保留英數字, 中文及中文標點, 網址, 部分特殊符號\n",
    "#\n",
    "# 透過 .stripped_strings 的方式可以快速移除多餘空白並取出文字, 可參考官方文件 \n",
    "#  - https://www.crummy.com/software/BeautifulSoup/bs4/doc/#strings-and-stripped-strings\n",
    "filtered = []\n",
    "for v in main_content.stripped_strings:\n",
    "    # 假如字串開頭不是特殊符號或是以 '--' 開頭的, 我們都保留其文字\n",
    "    if v[0] not in [u'※', u'◆'] and v[:2] not in [u'--']:\n",
    "        filtered.append(v)\n",
    "\n",
    "# 定義一些特殊符號與全形符號的過濾器\n",
    "expr = re.compile(u'[^一-龥。；，：“”（）、？《》\\s\\w:/-_.?~%()]')\n",
    "for i in range(len(filtered)):\n",
    "    filtered[i] = re.sub(expr, '', filtered[i])\n",
    "\n",
    "# 移除空白字串, 組合過濾後的文字即為文章本文 (content)\n",
    "filtered = [i for i in filtered if i]\n",
    "content = ' '.join(filtered)\n",
    "#print(content)\n",
    "\n",
    "wordSet,wordContentList=jiebaContent(stopwords,wordSet,content)\n",
    "\n",
    "#authorInfo[count]={ip:author}\n",
    "tmp=dict()\n",
    "tmp={'ip':ip,'author':author,'date:':date,'url':url}\n",
    "print(date)\n",
    "authorInfo[count]=tmp"
   ]
  },
  {
   "cell_type": "code",
   "execution_count": null,
   "metadata": {},
   "outputs": [],
   "source": [
    "x=[{'author': 'askingts (地獄山貓)', 'url': 'https://www.ptt.cc/bbs/Gossiping/M.1579659530.A.2EB.html', 'count': 4}]\n",
    "if 'askingts (獄山貓)' in x[0].values():\n",
    "    print('aaaaa')\n",
    "print(x[0])"
   ]
  },
  {
   "cell_type": "code",
   "execution_count": null,
   "metadata": {},
   "outputs": [],
   "source": []
  },
  {
   "cell_type": "code",
   "execution_count": 360,
   "metadata": {},
   "outputs": [
    {
     "name": "stdout",
     "output_type": "stream",
     "text": [
      "2020-01-22 10:18:48\n"
     ]
    }
   ],
   "source": [
    "\n",
    "#datetime.strptime(\"Wed Jan 22 10:18:48 2020\", \"%a %b %d %H:%m:%S %d\")\n",
    "s=datetime.strptime(\"Wed Jan 22 10:18:48 2020\", \"%a %b %d %H:%M:%S %Y\")\n",
    "#s = datetime.strptime(\"2018-01-31\", \"%Y-%m-%d\")\n",
    "print(s)"
   ]
  },
  {
   "cell_type": "code",
   "execution_count": null,
   "metadata": {},
   "outputs": [],
   "source": [
    "\n",
    "#tempList=list();\n",
    "#tempList=[1:2]"
   ]
  },
  {
   "cell_type": "code",
   "execution_count": null,
   "metadata": {},
   "outputs": [],
   "source": []
  }
 ],
 "metadata": {
  "kernelspec": {
   "display_name": "Python 3",
   "language": "python",
   "name": "python3"
  },
  "language_info": {
   "codemirror_mode": {
    "name": "ipython",
    "version": 3
   },
   "file_extension": ".py",
   "mimetype": "text/x-python",
   "name": "python",
   "nbconvert_exporter": "python",
   "pygments_lexer": "ipython3",
   "version": "3.7.6"
  }
 },
 "nbformat": 4,
 "nbformat_minor": 2
}
